{
 "cells": [
  {
   "cell_type": "markdown",
   "metadata": {},
   "source": [
    "# COGS 108 - Final Project (change this to your project's title)"
   ]
  },
  {
   "cell_type": "markdown",
   "metadata": {},
   "source": [
    "# Overview"
   ]
  },
  {
   "cell_type": "markdown",
   "metadata": {},
   "source": [
    "We explored the relationship between a state's economy its respective number of postsecondary schools (PSN), speculating that there would be a positive relationship between the two. We used various measures of economic data, post-secondary school location data, and population data from all 50 states and Washington D.C in the United States from the years 2015 to 2020 to answer our reserach question. Using population as a confounding variable, we explored the relationships between different measures of the state's economy and average post-secondary school numbers. Through linear regression, we discovered that there was positive relationship between postsecondary school numbers and a state's GDP, suggesting that there may be a positive relationship between PSN in an area and a state's economy."
   ]
  },
  {
   "cell_type": "markdown",
   "metadata": {},
   "source": [
    "# Names\n",
    "\n",
    "- Enze Ma\n",
    "- Shirley Tang\n",
    "- Melina Cruz\n",
    "- Monika Edejer"
   ]
  },
  {
   "cell_type": "markdown",
   "metadata": {},
   "source": [
    "<a id='research_question'></a>\n",
    "# Research Question"
   ]
  },
  {
   "cell_type": "markdown",
   "metadata": {},
   "source": [
    "Is a state's economy positively or negatively affected by its number of postsecondary schools (PSN) between 2015-2020?"
   ]
  },
  {
   "cell_type": "markdown",
   "metadata": {},
   "source": [
    "<a id='background'></a>\n",
    "\n",
    "## Background & Prior Work"
   ]
  },
  {
   "cell_type": "markdown",
   "metadata": {},
   "source": [
    "It has been suggested to many by society that those with higher education are more likely to get employed. We then tend to imply that individuals with a college or university degree are generally paid better and can therefore contribute more to the overall economy through various means such as consumption and house payments. However, if individuals with a degree are stereotypically able to be more active in the economy, how much does the physical presence of an institution that provides this degree influence a state’s economy? Does the pressure of having PSN’s under a region’s title at least partially shape the way that the residents and their government make, save, and spend their money in an attempt to uphold the institution’s esteem or are the two entirely independent of each other? \n",
    "\n",
    "An occupational projections data chart from the U.S. Bureau of Labor Statistics [3] displays occupations in the United States and their typical entry-level education and median annual wage for 2019. When filtered by occupations that have a typical entry-level education of high school diploma or equivalent, we found that the highest median annual wage was about $100,00, while the highest median annual wage for occupations that had a typical entry-level education of postsecondary education was greater than or equal to $208,000. This trend shows a drastic increase in maximum median annual wage when a postsecondary education was acquired, showing that postsecondary schools may be closely tied to the economy.\n",
    "\n",
    "Additionally, past studies and research have been conducted also assessing the relationship between the economy and postsecondary education. In these studies as well in our project, postsecondary institutions are defined as an institution where an individual can earn a degree after high school such as universities, colleges, trade schools, and seminars. For example, a previous study suggests that those with a post-secondary education tend to contribute more to their local economy, especially in consumption [4], spending more on services and goods in their area in comparison to their neighbors that didn’t receive a postsecondary education. Similarly, another study has found that earning a bachelor’s degree positively impacts the state’s GDP [2] such that if just 1% of the population earns a bachelor’s degree, the GDP grows by about 0.08%. It has also been found that when the economy is declining in an area students will tend to enroll in 4-year institutions [1]. These conclusions suggest that there is some kind of relationship between the economy PSN’s in terms of enrollment and graduation, but still leaves a lot of speculation if the existence of PSN influences the economy.\n",
    "\n",
    "References (include links):\n",
    "1. https://www.ncbi.nlm.nih.gov/pmc/articles/PMC2831342/\n",
    "1. https://bit.ly/3tpT55v\n",
    "1. https://data.bls.gov/projections/occupationProj\n",
    "1. https://www.brookings.edu/research/what-colleges-do-for-local-economies-a-direct-measure-based-on-consumption/"
   ]
  },
  {
   "cell_type": "markdown",
   "metadata": {},
   "source": [
    "# Hypothesis\n"
   ]
  },
  {
   "cell_type": "markdown",
   "metadata": {},
   "source": [
    "The number of postsecondary schools (PSN) will have positive effect on economy."
   ]
  },
  {
   "cell_type": "markdown",
   "metadata": {},
   "source": [
    "# Dataset(s)"
   ]
  },
  {
   "cell_type": "markdown",
   "metadata": {},
   "source": [
    "1.\n",
    "- Dataset Name: Median Household Income by State\n",
    "- Link to the dataset: https://www.census.gov/data/tables/time-series/demo/income-poverty/historical-income-households.html\n",
    "- Number of observations: 52 observations\n",
    "- This dataset  contains information about household median income. We will use this dataset to get the median income from 2015 to 2020.\n",
    "<br>\n",
    "\n",
    "2.\n",
    "- Dataset Name: Per Capita Personal Income from 2015-2020\n",
    "- Link to the dataset: https://apps.bea.gov/itable/iTable.cfm?ReqID=70&step=1\n",
    "- Number of observations: 60 observations\n",
    "- This dataset  contains information about the per capita personal income  from 1929 to 2020. We will use this dataset to get the average personal income in each state from 2015 to 2020.\n",
    "<br>\n",
    "\n",
    "3.\n",
    "- Dataset Name: Postsecondary_School_Locations_2015-16\n",
    "- Link to the dataset: https://catalog.data.gov/dataset/postsecondary-school-locations-2015-16\n",
    "- Number of observations: 7647 observations\n",
    "- Description: This dataset contains information about the location of each postsecondary school from 2015 to 2016. We will use this dataset to get the number of postsecondary schools in each state from 2015 to 2016.\n",
    "<br>\n",
    "\n",
    "4.\n",
    "- Dataset Name: Postsecondary School Locations 2016-17\n",
    "- Link to the dataset: https://catalog.data.gov/dataset/postsecondary-school-locations-2016-17\n",
    "- Number of observations: 7521 observations\n",
    "- Description: This dataset contains information about the location of every postsecondary school from 2016 to 2017. We will use this dataset to get the number of postsecondary schools in each state from 2016 to 2017.\n",
    "<br>\n",
    "\n",
    "5.\n",
    "- Dataset Name: Postsecondary School Locations 2017-18\n",
    "- Link to the dataset: https://catalog.data.gov/dataset/postsecondary-school-locations-2017-18\n",
    "- Number of observations: 7599 observations\n",
    "- Description: This dataset contains information about the location of every postsecondary school from 2017 to 2018. We will use this dataset to get the number of postsecondary schools in each state from 2017 to 2018.\n",
    "<br>\n",
    "\n",
    "6.\n",
    "- Dataset Name: Postsecondary School Locations 2018-19\n",
    "- Link to the dataset: https://catalog.data.gov/dataset/postsecondary-school-locations-2018-19\n",
    "- Number of observations: 7332 observations\n",
    "- Description: This dataset contains information about the location of every postsecondary school from 2018 to 2019. We will use this dataset to get the numbers of postsecondary school in each state from 2018 to 2019.\n",
    "<br>\n",
    "\n",
    "7.\n",
    "- Dataset Name: Postsecondary_School_Locations_2019-20\n",
    "- Link to the dataset: https://catalog.data.gov/dataset/postsecondary-school-locations-2019-20\n",
    "- Number of observations: 7068 observations\n",
    "- Description: This dataset contains information about the location of every postsecondary school from 2019 to 2020. We will use this dataset to get the Postsecondary School numbers each state from 2019 to 2020.\n",
    "<br>\n",
    "\n",
    "8.\n",
    "- Dataset Name: List of State Abbreviations\n",
    "- Link to the dataset: https://worldpopulationreview.com/states/state-abbreviations\n",
    "- Number of observations: 51 observations\n",
    "- Description: This dataset contains the state abbreviations. We will use this dataset to list state names as abbreviations.\n",
    "<br>\n",
    "\n",
    "9.\n",
    "- Dataset Name: GDP information\n",
    "- Link to the dataset: https://apps.bea.gov/itable/iTable.cfm?ReqID=70&step=1\n",
    "- Number of observations: 60 observations\n",
    "- Description: This dataset contains the state's GDP. We will use this dataset to get the GDP factor of the economy in our research.\n",
    "<br>\n",
    "\n",
    "10.\n",
    "- Dataset Name: Population information\n",
    "- Link to the dataset: https://www.census.gov/data/datasets/time-series/demo/popest/2010s-state-total.html\n",
    "- Number of observations: 60 observations\n",
    "- Description: This dataset contains the state's population. We will use this dataset to account for any outliers in our research.\n",
    "<br>\n",
    "<br>\n",
    "We used three factors to study a state's economy: state GDP, average capita income, and median household income. To combine these variables together, we will create a new dataset to with 51 rows and 5 columns. The rows will signify the data for all 50 states and DC in the U.S. Each column will show the state's abbreviation, the average number of postsecondary schools in each state from 2015-2020, the average capita income for each state from 2015-2020, average median income for each state from 2015-2020, and average GDP(in millions) for each state from 2015-2020. We will also be studying population as we consider it as a possible confounding variable. With this data, we will be able to perform an analysis to answer our research question. "
   ]
  },
  {
   "cell_type": "markdown",
   "metadata": {},
   "source": [
    "# Setup"
   ]
  },
  {
   "cell_type": "markdown",
   "metadata": {},
   "source": [
    "### **Import  the necessary libraries**"
   ]
  },
  {
   "cell_type": "code",
   "execution_count": 1,
   "metadata": {},
   "outputs": [],
   "source": [
    "# import dataframes\n",
    "import pandas as pd\n",
    "\n",
    "# import number manipulation\n",
    "import numpy as np \n",
    "\n",
    "# import data visualization\n",
    "import matplotlib.pyplot as plt\n",
    "import seaborn as sns\n",
    "\n",
    "#import Statmodels & patsy\n",
    "import patsy\n",
    "import statsmodels.api as sm\n",
    "\n",
    "#import statistic funtion\n",
    "import scipy.stats as stats\n",
    "\n",
    "#import vif test\n",
    "from statsmodels.stats.outliers_influence import variance_inflation_factor"
   ]
  },
  {
   "cell_type": "markdown",
   "metadata": {},
   "source": [
    "### Read necessary data"
   ]
  },
  {
   "cell_type": "code",
   "execution_count": 2,
   "metadata": {},
   "outputs": [],
   "source": [
    "#We will read in all of the datasets required\n",
    "\n",
    "#Read in Median Household Income by State\n",
    "median_income=pd.read_csv('Median Income.csv',thousands=',')\n",
    "\n",
    "#Read in Per Capita Personal Income\n",
    "per_capita_income=pd.read_csv('Per Capita Personal Income.csv')\n",
    "\n",
    "#Read in Postsecondary_School_Locations_2015-16\n",
    "PSL15=pd.read_csv('Postsecondary_School_Locations_2015-16.csv')\n",
    "\n",
    "#Read in Postsecondary_School_Locations_2016-17\n",
    "PSL16=pd.read_csv('Postsecondary_School_Locations_2016-17.csv')\n",
    "\n",
    "#Read in Postsecondary_School_Locations_2017-18\n",
    "PSL17=pd.read_csv('Postsecondary_School_Locations_2017-18.csv')\n",
    "\n",
    "#Read in Postsecondary_School_Locations_2018-19\n",
    "PSL18=pd.read_csv('Postsecondary_School_Locations_2018-19.csv')\n",
    "\n",
    "#Read in Postsecondary_School_Locations_2019-20\n",
    "PSL19=pd.read_csv('Postsecondary_School_Locations_2019-20.csv')\n",
    "\n",
    "#Read in the List of State Abbreviations\n",
    "Abbr=pd.read_csv('State Code.csv')\n",
    "\n",
    "#Read in GDP information\n",
    "GDP=pd.read_csv('GDPinformation.csv')\n",
    "\n",
    "#Read in population information\n",
    "population=pd.read_csv('Population.csv',thousands=',')"
   ]
  },
  {
   "cell_type": "markdown",
   "metadata": {},
   "source": [
    "# Data Cleaning"
   ]
  },
  {
   "cell_type": "markdown",
   "metadata": {},
   "source": [
    "Once we collected and examined the data, we found additional data in the datasets that was not required for our study. We moved to cleaning our data. From the datatsets of postsecondary schools, we extracted the reported state that each postsecondary school was located in and used it to calculate the number of postsecondary schools in that state for that particular year. We did not use any of the other data presented in the dataset for the location of institutions. In the datasets for state GDP, population, median household income, per capita income, and state abbreviation, we extracted the data that only applied to those categories in each dataset.  "
   ]
  },
  {
   "cell_type": "markdown",
   "metadata": {},
   "source": [
    "__Steps taken to clean the data__\n",
    "1. Remove data that is not required for our research question.\n",
    "1. Count the PSN in each state in each year.\n",
    "1. Calculate the averages for each variable \n",
    "1. Rename the columns or rows.\n",
    "1. Sort the data corresponding to the state's name and reset the index.\n",
    "1. Create a new data frame to store all the information.\n",
    "1. Rename any unclear columns"
   ]
  },
  {
   "cell_type": "markdown",
   "metadata": {},
   "source": [
    "### 1. Remove information unrelated to the study"
   ]
  },
  {
   "cell_type": "code",
   "execution_count": 3,
   "metadata": {},
   "outputs": [],
   "source": [
    "#drop irrelevant rows for median_income(USA median),we are only interested in the 50 states and DC.\n",
    "median_income=median_income.drop(0)\n",
    "\n",
    "#rearrange the columns\n",
    "median_income=median_income[['State','2015','2016','2017','2018','2019']]\n",
    "\n",
    "\n",
    "#select the columns we need for per_capita_income, we only need the state name and years from 2015 to 2020 \n",
    "per_capita_income=per_capita_income[['GeoName', \n",
    "                                     '2015',\n",
    "                                     '2016',\n",
    "                                     '2017',\n",
    "                                     '2018',\n",
    "                                     '2019']]\n",
    "\n",
    "#drop the rows we don't need for per_capita_income, we are only interested in 50 states and DC.\n",
    "per_capita_income=per_capita_income.drop(0)\n",
    "per_capita_income=per_capita_income.drop(per_capita_income.loc[52:59].index)\n",
    "\n",
    "\n",
    "#rename the column names for population\n",
    "population.columns=['State', \n",
    "                    '2010',\n",
    "                    '2011',\n",
    "                    '2012',\n",
    "                    '2013',\n",
    "                    '2014',\n",
    "                    '2015',\n",
    "                    '2016',\n",
    "                    '2017', \n",
    "                    '2018',\n",
    "                    '2019']\n",
    "\n",
    "#select the columns we need for population, we only need the state name and years from 2015 to 2020 \n",
    "population=population[['State', \n",
    "                                     '2015',\n",
    "                                     '2016',\n",
    "                                     '2017',\n",
    "                                     '2018',\n",
    "                                     '2019']]\n",
    "#drop the rows we don't need for population, we are only interested in 50 states and DC.\n",
    "population=population.drop(per_capita_income.loc[0:5].index)\n",
    "\n",
    "#select the columns we need for GDP\n",
    "GDP=GDP[['GeoName', \n",
    "         '2015',\n",
    "         '2016',\n",
    "         '2017',\n",
    "         '2018',\n",
    "         '2019']]\n",
    "\n",
    "#drop the rows we don't need for GDP information, we are only interested in 50 states and DC.\n",
    "GDP=GDP.drop(0)\n",
    "GDP=GDP.drop(GDP.loc[52:59].index)\n",
    "\n",
    "#We are only interested in postsecondary schools in 50 states and DC\n",
    "#select the columns we need and eliminate for PSL15\n",
    "PSL15=PSL15['STABBR']\n",
    "#eliminate data that we cannot use\n",
    "PSL15=PSL15[ PSL15.isin(Abbr['Code'].values) ]\n",
    "\n",
    "#select the columns we need for PSL16\n",
    "PSL16=PSL16['STATE']\n",
    "#eliminate data that we cannot use\n",
    "PSL16=PSL16[ PSL16.isin(Abbr['Code'].values) ]\n",
    "\n",
    "#Select the columns we need for PSL17\n",
    "PSL17=PSL17['STATE']\n",
    "#eliminate data that we cannot use\n",
    "PSL17=PSL17[ PSL17.isin(Abbr['Code'].values) ]\n",
    "\n",
    "#Select the columns we need for PSL18\n",
    "PSL18=PSL18['STATE']\n",
    "#eliminate data that we cannot use\n",
    "PSL18=PSL18[ PSL18.isin(Abbr['Code'].values) ]\n",
    "\n",
    "#Select the columns we need for PSL19\n",
    "PSL19=PSL19['STATE']\n",
    "#eliminate data that we cannot use\n",
    "PSL19=PSL19[ PSL19.isin(Abbr['Code'].values) ]"
   ]
  },
  {
   "cell_type": "markdown",
   "metadata": {},
   "source": [
    "### 2. Count the PSN in each state in each year."
   ]
  },
  {
   "cell_type": "code",
   "execution_count": 4,
   "metadata": {},
   "outputs": [],
   "source": [
    "#Count PSN in each state for 2015-2016\n",
    "temp=PSL15.value_counts()\n",
    "#sort by state\n",
    "temp=temp.sort_index()\n",
    "ps_number_15=pd.DataFrame(temp)\n",
    "ps_number_15=ps_number_15.reset_index()\n",
    "ps_number_15.columns=['State',\n",
    "                      'School Numbers']\n",
    "\n",
    "#Count PSN in each state for 2016-2017\n",
    "temp=PSL16.value_counts()\n",
    "#sort by state\n",
    "temp=temp.sort_index()\n",
    "ps_number_16=pd.DataFrame(temp)\n",
    "ps_number_16=ps_number_16.reset_index()\n",
    "ps_number_16.columns=['State',\n",
    "                      'School Numbers']\n",
    "\n",
    "#Count PSN in each state for 2017-2018\n",
    "temp=PSL17.value_counts()\n",
    "#sort by state\n",
    "temp=temp.sort_index()\n",
    "ps_number_17=pd.DataFrame(temp)\n",
    "ps_number_17=ps_number_17.reset_index()\n",
    "ps_number_17.columns=['State',\n",
    "                      'School Numbers']\n",
    "\n",
    "#Count PSN in each state for 2018-2019\n",
    "temp=PSL18.value_counts()\n",
    "#sort by state\n",
    "temp=temp.sort_index()\n",
    "ps_number_18=pd.DataFrame(temp)\n",
    "ps_number_18=ps_number_18.reset_index()\n",
    "ps_number_18.columns=['State',\n",
    "                      'School Numbers']\n",
    "\n",
    "#Count PSN in each state for 2019-2020\n",
    "temp=PSL19.value_counts()\n",
    "#sort by state\n",
    "temp=temp.sort_index()\n",
    "ps_number_19=pd.DataFrame(temp)\n",
    "ps_number_19=ps_number_19.reset_index()\n",
    "ps_number_19.columns=['State',\n",
    "                      'School Numbers']"
   ]
  },
  {
   "cell_type": "markdown",
   "metadata": {},
   "source": [
    "### 3. Calculate the average for each variable."
   ]
  },
  {
   "cell_type": "code",
   "execution_count": 5,
   "metadata": {},
   "outputs": [],
   "source": [
    "#Create a new data frame to store the average\n",
    "ps_number_average=ps_number_19[['State']]\n",
    "ps_number_average=ps_number_average.assign(average_ps_numbers=(ps_number_15['School Numbers']\n",
    "                                                               +ps_number_16['School Numbers' ]\n",
    "                                                               +ps_number_17['School Numbers' ]\n",
    "                                                               +ps_number_18['School Numbers' ]\n",
    "                                                               +ps_number_19['School Numbers' ])\n",
    "                                                                /5)\n",
    "\n",
    "#assign a new column to store the average per capita income for 2015-2020\n",
    "per_capita_income=per_capita_income.assign(average_capita_income=(per_capita_income['2015']\n",
    "                                                                  +per_capita_income['2016' ]\n",
    "                                                                  +per_capita_income['2017' ]\n",
    "                                                                  +per_capita_income['2018' ]\n",
    "                                                                  +per_capita_income['2019' ])\n",
    "                                                                   /5)\n",
    "\n",
    "#assign a new column to store the average median income for 2015-2020\n",
    "median_income=median_income.assign(average_median_income=(median_income['2015']\n",
    "                                                          +median_income['2016' ]\n",
    "                                                          +median_income['2017' ]\n",
    "                                                          +median_income['2018']\n",
    "                                                          +median_income['2019' ])\n",
    "                                                           /5)\n",
    "\n",
    "#assign a new column to store the average GDP for 2015-2020\n",
    "GDP=GDP.assign(average_gdp=(GDP['2015']\n",
    "                                                          +GDP['2016' ]\n",
    "                                                          +GDP['2017' ]\n",
    "                                                          +GDP['2018']\n",
    "                                                          +GDP['2019' ])\n",
    "                                                           /5)\n",
    "\n",
    "#Change the data type stored in population\n",
    "population=population.astype({'2015':'int64',\n",
    "                             '2016':'int64',\n",
    "                             '2017':'int64',\n",
    "                             '2018':'int64',\n",
    "                             '2019':'int64'})\n",
    "#assign a new column to store the average population for 2015-2020\n",
    "population=population.assign(average_population=(population['2015']\n",
    "                                                          +population['2016' ]\n",
    "                                                          +population['2017' ]\n",
    "                                                          +population['2018']\n",
    "                                                          +population['2019' ])\n",
    "                                                           /5)"
   ]
  },
  {
   "cell_type": "markdown",
   "metadata": {},
   "source": [
    "### 4. Rename the columns or rows"
   ]
  },
  {
   "cell_type": "code",
   "execution_count": 6,
   "metadata": {},
   "outputs": [],
   "source": [
    "#Rename all state names to the abbreviation for median_income.\n",
    "for index1,row1 in median_income.iterrows ():\n",
    "    for index2,row2 in Abbr.iterrows():\n",
    "        if(row2['State'] in row1['State']):\n",
    "            median_income.at[index1,'State']=row2['Code']\n",
    "        else:\n",
    "            continue\n",
    "            \n",
    "#Rename the GeoName to State for per_capita_income\n",
    "per_capita_income=per_capita_income.rename(columns={'GeoName':'State'})\n",
    "\n",
    "#Rename all state names to the abbreviation for per_capita_income. \n",
    "for index3,row3 in per_capita_income.iterrows ():\n",
    "    for index4,row4 in Abbr.iterrows():\n",
    "        if(row4['State'] in row3['State'] ):\n",
    "            per_capita_income.at[index3,'State'] = row4['Code']\n",
    "        else:\n",
    "            continue\n",
    "            \n",
    "#Rename the GeoName to State for GDP\n",
    "GDP=GDP.rename(columns={'GeoName':'State'})\n",
    "\n",
    "#Rename all state names to the abbreviation for GDP. \n",
    "for index5,row5 in GDP.iterrows ():\n",
    "    for index6,row6 in Abbr.iterrows():\n",
    "        if(row6['State'] in row5['State'] ):\n",
    "            GDP.at[index5,'State'] = row6['Code']\n",
    "        else:\n",
    "            continue\n",
    "            \n",
    "#Rename the GeoName to State for population\n",
    "population=population.rename(columns={'GeoName':'State'})\n",
    "\n",
    "#Rename all state names to the abbreviation for population. \n",
    "for index7,row7 in population.iterrows ():\n",
    "    for index8,row8 in Abbr.iterrows():\n",
    "        if(row8['State'] in row7['State'] ):\n",
    "            population.at[index7,'State'] = row8['Code']\n",
    "        else:\n",
    "            continue"
   ]
  },
  {
   "cell_type": "markdown",
   "metadata": {},
   "source": [
    "### 5. Sort the data corresponding to the state's name and reset the index"
   ]
  },
  {
   "cell_type": "code",
   "execution_count": 7,
   "metadata": {},
   "outputs": [],
   "source": [
    "#Sort per_capita_income by state name\n",
    "per_capita_income=per_capita_income.sort_values(by='State')\n",
    "per_capita_income=per_capita_income.reset_index(drop=True)\n",
    "\n",
    "#Sort median_income by state name\n",
    "median_income=median_income.sort_values(by='State')\n",
    "median_income=median_income.reset_index(drop=True)\n",
    "\n",
    "#Sort GDP by state name\n",
    "GDP=GDP.sort_values(by='State')\n",
    "GDP=GDP.reset_index(drop=True)\n",
    "\n",
    "#Sort population by state name\n",
    "population=population.sort_values(by='State')\n",
    "population=population.reset_index(drop=True)"
   ]
  },
  {
   "cell_type": "markdown",
   "metadata": {},
   "source": [
    "### 6. Create a final data frame to store all the information that may be needed."
   ]
  },
  {
   "cell_type": "code",
   "execution_count": 8,
   "metadata": {},
   "outputs": [],
   "source": [
    "#Create a final dataframe with columns for each state\n",
    "final_df=per_capita_income[['State']]\n",
    "\n",
    "#sort final dataframe by state name\n",
    "final_df=final_df.sort_values(by='State')\n",
    "\n",
    "#reset final dataframe index\n",
    "final_df=final_df.reset_index(drop=True)\n",
    "\n",
    "#add a new column to show the average of PSN\n",
    "final_df=final_df.assign(ps_numbers=ps_number_average['average_ps_numbers'])\n",
    "\n",
    "#add a new column to show the average of per capita income .\n",
    "final_df=final_df.assign(average_capita_income=per_capita_income['average_capita_income'])\n",
    "\n",
    "#add a new column to show the average of median income.\n",
    "final_df=final_df.assign(average_median_income=median_income['average_median_income'])\n",
    "\n",
    "#add a new column to show the average of GDP.\n",
    "final_df=final_df.assign(average_gdp=GDP['average_gdp'])\n",
    "\n",
    "#add a new column to show the average of population.\n",
    "final_df=final_df.assign(average_population=population['average_population'])"
   ]
  },
  {
   "cell_type": "markdown",
   "metadata": {},
   "source": [
    "### 7.Rename all unclear columns"
   ]
  },
  {
   "cell_type": "code",
   "execution_count": 9,
   "metadata": {},
   "outputs": [],
   "source": [
    "#Rename the columns' names to make them easier to uderstand.\n",
    "final_df=final_df.rename(columns={'State':'State Abbreviation',\n",
    "                        'ps_numbers':'Average Postsecondary School Numbers',\n",
    "                         'average_capita_income':'Average Capita Income',\n",
    "                         'average_median_income':'Average Median Income',\n",
    "                         'average_gdp':'Average GDP(million dollars)',\n",
    "                         'average_population':'Average Population'\n",
    "                        })"
   ]
  },
  {
   "cell_type": "markdown",
   "metadata": {},
   "source": [
    "Finally, we get a clear and clean data frame. We displayed the head of our dataframe further understand the information."
   ]
  },
  {
   "cell_type": "code",
   "execution_count": 10,
   "metadata": {},
   "outputs": [
    {
     "data": {
      "text/html": [
       "<div>\n",
       "<style scoped>\n",
       "    .dataframe tbody tr th:only-of-type {\n",
       "        vertical-align: middle;\n",
       "    }\n",
       "\n",
       "    .dataframe tbody tr th {\n",
       "        vertical-align: top;\n",
       "    }\n",
       "\n",
       "    .dataframe thead th {\n",
       "        text-align: right;\n",
       "    }\n",
       "</style>\n",
       "<table border=\"1\" class=\"dataframe\">\n",
       "  <thead>\n",
       "    <tr style=\"text-align: right;\">\n",
       "      <th></th>\n",
       "      <th>State Abbreviation</th>\n",
       "      <th>Average Postsecondary School Numbers</th>\n",
       "      <th>Average Capita Income</th>\n",
       "      <th>Average Median Income</th>\n",
       "      <th>Average GDP(million dollars)</th>\n",
       "      <th>Average Population</th>\n",
       "    </tr>\n",
       "  </thead>\n",
       "  <tbody>\n",
       "    <tr>\n",
       "      <th>0</th>\n",
       "      <td>AK</td>\n",
       "      <td>10.2</td>\n",
       "      <td>58898.4</td>\n",
       "      <td>74038.8</td>\n",
       "      <td>52179.84</td>\n",
       "      <td>737067.6</td>\n",
       "    </tr>\n",
       "    <tr>\n",
       "      <th>1</th>\n",
       "      <td>AL</td>\n",
       "      <td>96.0</td>\n",
       "      <td>41262.4</td>\n",
       "      <td>49795.8</td>\n",
       "      <td>212944.24</td>\n",
       "      <td>4876244.8</td>\n",
       "    </tr>\n",
       "    <tr>\n",
       "      <th>2</th>\n",
       "      <td>AR</td>\n",
       "      <td>93.4</td>\n",
       "      <td>41901.8</td>\n",
       "      <td>48370.8</td>\n",
       "      <td>123724.00</td>\n",
       "      <td>2999369.6</td>\n",
       "    </tr>\n",
       "    <tr>\n",
       "      <th>3</th>\n",
       "      <td>AZ</td>\n",
       "      <td>135.0</td>\n",
       "      <td>42752.8</td>\n",
       "      <td>60686.0</td>\n",
       "      <td>332531.10</td>\n",
       "      <td>7050299.4</td>\n",
       "    </tr>\n",
       "    <tr>\n",
       "      <th>4</th>\n",
       "      <td>CA</td>\n",
       "      <td>772.4</td>\n",
       "      <td>60953.8</td>\n",
       "      <td>69725.2</td>\n",
       "      <td>2833933.14</td>\n",
       "      <td>39283494.0</td>\n",
       "    </tr>\n",
       "    <tr>\n",
       "      <th>5</th>\n",
       "      <td>CO</td>\n",
       "      <td>122.8</td>\n",
       "      <td>56077.2</td>\n",
       "      <td>71373.4</td>\n",
       "      <td>351872.82</td>\n",
       "      <td>5610349.2</td>\n",
       "    </tr>\n",
       "    <tr>\n",
       "      <th>6</th>\n",
       "      <td>CT</td>\n",
       "      <td>90.4</td>\n",
       "      <td>72434.2</td>\n",
       "      <td>76339.0</td>\n",
       "      <td>273858.88</td>\n",
       "      <td>3575073.4</td>\n",
       "    </tr>\n",
       "    <tr>\n",
       "      <th>7</th>\n",
       "      <td>DC</td>\n",
       "      <td>24.8</td>\n",
       "      <td>79431.0</td>\n",
       "      <td>80659.2</td>\n",
       "      <td>133869.44</td>\n",
       "      <td>692683.4</td>\n",
       "    </tr>\n",
       "    <tr>\n",
       "      <th>8</th>\n",
       "      <td>DE</td>\n",
       "      <td>21.0</td>\n",
       "      <td>51013.2</td>\n",
       "      <td>63465.2</td>\n",
       "      <td>72400.10</td>\n",
       "      <td>957247.8</td>\n",
       "    </tr>\n",
       "    <tr>\n",
       "      <th>9</th>\n",
       "      <td>FL</td>\n",
       "      <td>419.8</td>\n",
       "      <td>48648.0</td>\n",
       "      <td>53338.8</td>\n",
       "      <td>997242.20</td>\n",
       "      <td>20901637.2</td>\n",
       "    </tr>\n",
       "  </tbody>\n",
       "</table>\n",
       "</div>"
      ],
      "text/plain": [
       "  State Abbreviation  Average Postsecondary School Numbers  \\\n",
       "0                 AK                                  10.2   \n",
       "1                 AL                                  96.0   \n",
       "2                 AR                                  93.4   \n",
       "3                 AZ                                 135.0   \n",
       "4                 CA                                 772.4   \n",
       "5                 CO                                 122.8   \n",
       "6                 CT                                  90.4   \n",
       "7                 DC                                  24.8   \n",
       "8                 DE                                  21.0   \n",
       "9                 FL                                 419.8   \n",
       "\n",
       "   Average Capita Income  Average Median Income  Average GDP(million dollars)  \\\n",
       "0                58898.4                74038.8                      52179.84   \n",
       "1                41262.4                49795.8                     212944.24   \n",
       "2                41901.8                48370.8                     123724.00   \n",
       "3                42752.8                60686.0                     332531.10   \n",
       "4                60953.8                69725.2                    2833933.14   \n",
       "5                56077.2                71373.4                     351872.82   \n",
       "6                72434.2                76339.0                     273858.88   \n",
       "7                79431.0                80659.2                     133869.44   \n",
       "8                51013.2                63465.2                      72400.10   \n",
       "9                48648.0                53338.8                     997242.20   \n",
       "\n",
       "   Average Population  \n",
       "0            737067.6  \n",
       "1           4876244.8  \n",
       "2           2999369.6  \n",
       "3           7050299.4  \n",
       "4          39283494.0  \n",
       "5           5610349.2  \n",
       "6           3575073.4  \n",
       "7            692683.4  \n",
       "8            957247.8  \n",
       "9          20901637.2  "
      ]
     },
     "execution_count": 10,
     "metadata": {},
     "output_type": "execute_result"
    }
   ],
   "source": [
    "final_df.head(10)"
   ]
  },
  {
   "cell_type": "markdown",
   "metadata": {},
   "source": [
    "We saw that our table included Washington D.C., at this point we decided to keep DC in our data unless it proved to be problematic."
   ]
  },
  {
   "cell_type": "markdown",
   "metadata": {},
   "source": [
    "# Data Analysis & Results"
   ]
  },
  {
   "cell_type": "markdown",
   "metadata": {},
   "source": [
    "In this section, we analyzed the data we collected. We explored the distributions and relationships between the variables in our data and focused on the relationship between PSN and three economic factors, including population as confounding variable."
   ]
  },
  {
   "cell_type": "markdown",
   "metadata": {},
   "source": [
    "First, we wanted to get a rough idea about any relationships that appear in our data."
   ]
  },
  {
   "cell_type": "code",
   "execution_count": 11,
   "metadata": {},
   "outputs": [
    {
     "data": {
      "text/plain": [
       "array([[<AxesSubplot:xlabel='Average Postsecondary School Numbers', ylabel='Average Postsecondary School Numbers'>,\n",
       "        <AxesSubplot:xlabel='Average Capita Income', ylabel='Average Postsecondary School Numbers'>,\n",
       "        <AxesSubplot:xlabel='Average Median Income', ylabel='Average Postsecondary School Numbers'>,\n",
       "        <AxesSubplot:xlabel='Average GDP(million dollars)', ylabel='Average Postsecondary School Numbers'>,\n",
       "        <AxesSubplot:xlabel='Average Population', ylabel='Average Postsecondary School Numbers'>],\n",
       "       [<AxesSubplot:xlabel='Average Postsecondary School Numbers', ylabel='Average Capita Income'>,\n",
       "        <AxesSubplot:xlabel='Average Capita Income', ylabel='Average Capita Income'>,\n",
       "        <AxesSubplot:xlabel='Average Median Income', ylabel='Average Capita Income'>,\n",
       "        <AxesSubplot:xlabel='Average GDP(million dollars)', ylabel='Average Capita Income'>,\n",
       "        <AxesSubplot:xlabel='Average Population', ylabel='Average Capita Income'>],\n",
       "       [<AxesSubplot:xlabel='Average Postsecondary School Numbers', ylabel='Average Median Income'>,\n",
       "        <AxesSubplot:xlabel='Average Capita Income', ylabel='Average Median Income'>,\n",
       "        <AxesSubplot:xlabel='Average Median Income', ylabel='Average Median Income'>,\n",
       "        <AxesSubplot:xlabel='Average GDP(million dollars)', ylabel='Average Median Income'>,\n",
       "        <AxesSubplot:xlabel='Average Population', ylabel='Average Median Income'>],\n",
       "       [<AxesSubplot:xlabel='Average Postsecondary School Numbers', ylabel='Average GDP(million dollars)'>,\n",
       "        <AxesSubplot:xlabel='Average Capita Income', ylabel='Average GDP(million dollars)'>,\n",
       "        <AxesSubplot:xlabel='Average Median Income', ylabel='Average GDP(million dollars)'>,\n",
       "        <AxesSubplot:xlabel='Average GDP(million dollars)', ylabel='Average GDP(million dollars)'>,\n",
       "        <AxesSubplot:xlabel='Average Population', ylabel='Average GDP(million dollars)'>],\n",
       "       [<AxesSubplot:xlabel='Average Postsecondary School Numbers', ylabel='Average Population'>,\n",
       "        <AxesSubplot:xlabel='Average Capita Income', ylabel='Average Population'>,\n",
       "        <AxesSubplot:xlabel='Average Median Income', ylabel='Average Population'>,\n",
       "        <AxesSubplot:xlabel='Average GDP(million dollars)', ylabel='Average Population'>,\n",
       "        <AxesSubplot:xlabel='Average Population', ylabel='Average Population'>]],\n",
       "      dtype=object)"
      ]
     },
     "execution_count": 11,
     "metadata": {},
     "output_type": "execute_result"
    },
    {
     "data": {
      "image/png": "[encoded data removed]",
      "text/plain": [
       "<Figure size 1440x1440 with 25 Axes>"
      ]
     },
     "metadata": {
      "needs_background": "light"
     },
     "output_type": "display_data"
    }
   ],
   "source": [
    "#show scatter plot between each columns.\n",
    "pd.plotting.scatter_matrix(final_df,figsize=(20,20),)"
   ]
  },
  {
   "cell_type": "markdown",
   "metadata": {},
   "source": [
    "We saw from our scatterplot that there were some interesting trends we may want to analyze. So we further analyzed our data to determine if there were any relationships between our variables."
   ]
  },
  {
   "cell_type": "markdown",
   "metadata": {},
   "source": [
    "### Outliers Analysis"
   ]
  },
  {
   "cell_type": "markdown",
   "metadata": {},
   "source": [
    "We saw from the initial scatter plot that there were some outliers in the graphs of PDN, GDP, and population. Therefore we took a closer look to determine if should we remove these datapoints."
   ]
  },
  {
   "cell_type": "markdown",
   "metadata": {},
   "source": [
    "#### PSN Outlier Analysis"
   ]
  },
  {
   "cell_type": "code",
   "execution_count": 12,
   "metadata": {},
   "outputs": [
    {
     "data": {
      "text/plain": [
       "Text(0.5, 1.0, 'PSN Outlier Analysis')"
      ]
     },
     "execution_count": 12,
     "metadata": {},
     "output_type": "execute_result"
    },
    {
     "data": {
      "image/png": "[encoded data removed]",
      "text/plain": [
       "<Figure size 432x288 with 1 Axes>"
      ]
     },
     "metadata": {
      "needs_background": "light"
     },
     "output_type": "display_data"
    }
   ],
   "source": [
    "#draw the histogram \n",
    "sns.histplot(x='Average Postsecondary School Numbers',data=final_df).set_title(\"PSN Outlier Analysis\")"
   ]
  },
  {
   "cell_type": "markdown",
   "metadata": {},
   "source": [
    "We found a state that had signifcantly more PSN than other states. We wanted to find which state it was."
   ]
  },
  {
   "cell_type": "code",
   "execution_count": 13,
   "metadata": {},
   "outputs": [
    {
     "data": {
      "text/html": [
       "<div>\n",
       "<style scoped>\n",
       "    .dataframe tbody tr th:only-of-type {\n",
       "        vertical-align: middle;\n",
       "    }\n",
       "\n",
       "    .dataframe tbody tr th {\n",
       "        vertical-align: top;\n",
       "    }\n",
       "\n",
       "    .dataframe thead th {\n",
       "        text-align: right;\n",
       "    }\n",
       "</style>\n",
       "<table border=\"1\" class=\"dataframe\">\n",
       "  <thead>\n",
       "    <tr style=\"text-align: right;\">\n",
       "      <th></th>\n",
       "      <th>State Abbreviation</th>\n",
       "      <th>Average Postsecondary School Numbers</th>\n",
       "      <th>Average Capita Income</th>\n",
       "      <th>Average Median Income</th>\n",
       "      <th>Average GDP(million dollars)</th>\n",
       "      <th>Average Population</th>\n",
       "    </tr>\n",
       "  </thead>\n",
       "  <tbody>\n",
       "    <tr>\n",
       "      <th>4</th>\n",
       "      <td>CA</td>\n",
       "      <td>772.4</td>\n",
       "      <td>60953.8</td>\n",
       "      <td>69725.2</td>\n",
       "      <td>2833933.14</td>\n",
       "      <td>39283494.0</td>\n",
       "    </tr>\n",
       "  </tbody>\n",
       "</table>\n",
       "</div>"
      ],
      "text/plain": [
       "  State Abbreviation  Average Postsecondary School Numbers  \\\n",
       "4                 CA                                 772.4   \n",
       "\n",
       "   Average Capita Income  Average Median Income  Average GDP(million dollars)  \\\n",
       "4                60953.8                69725.2                    2833933.14   \n",
       "\n",
       "   Average Population  \n",
       "4          39283494.0  "
      ]
     },
     "execution_count": 13,
     "metadata": {},
     "output_type": "execute_result"
    }
   ],
   "source": [
    "final_df[final_df['Average Postsecondary School Numbers']>600]"
   ]
  },
  {
   "cell_type": "markdown",
   "metadata": {},
   "source": [
    "We found the outlier to be California. But we cannot eliminate California's data because it is a crucial part of the 50 states in the United States. Therefore, we did not adjust our data."
   ]
  },
  {
   "cell_type": "markdown",
   "metadata": {},
   "source": [
    "#### GDP"
   ]
  },
  {
   "cell_type": "code",
   "execution_count": 14,
   "metadata": {},
   "outputs": [
    {
     "data": {
      "text/plain": [
       "Text(0.5, 1.0, 'GDP Outlier Analysis')"
      ]
     },
     "execution_count": 14,
     "metadata": {},
     "output_type": "execute_result"
    },
    {
     "data": {
      "image/png": "[encoded data removed]",
      "text/plain": [
       "<Figure size 432x288 with 1 Axes>"
      ]
     },
     "metadata": {
      "needs_background": "light"
     },
     "output_type": "display_data"
    }
   ],
   "source": [
    "#draw the histogram\n",
    "sns.histplot(x='Average GDP(million dollars)',data=final_df).set_title(\"GDP Outlier Analysis\")"
   ]
  },
  {
   "cell_type": "markdown",
   "metadata": {},
   "source": [
    "Again, we saw that there were several states that have a higher average GDP than others. "
   ]
  },
  {
   "cell_type": "code",
   "execution_count": 15,
   "metadata": {},
   "outputs": [
    {
     "data": {
      "text/html": [
       "<div>\n",
       "<style scoped>\n",
       "    .dataframe tbody tr th:only-of-type {\n",
       "        vertical-align: middle;\n",
       "    }\n",
       "\n",
       "    .dataframe tbody tr th {\n",
       "        vertical-align: top;\n",
       "    }\n",
       "\n",
       "    .dataframe thead th {\n",
       "        text-align: right;\n",
       "    }\n",
       "</style>\n",
       "<table border=\"1\" class=\"dataframe\">\n",
       "  <thead>\n",
       "    <tr style=\"text-align: right;\">\n",
       "      <th></th>\n",
       "      <th>State Abbreviation</th>\n",
       "      <th>Average Postsecondary School Numbers</th>\n",
       "      <th>Average Capita Income</th>\n",
       "      <th>Average Median Income</th>\n",
       "      <th>Average GDP(million dollars)</th>\n",
       "      <th>Average Population</th>\n",
       "    </tr>\n",
       "  </thead>\n",
       "  <tbody>\n",
       "    <tr>\n",
       "      <th>4</th>\n",
       "      <td>CA</td>\n",
       "      <td>772.4</td>\n",
       "      <td>60953.8</td>\n",
       "      <td>69725.2</td>\n",
       "      <td>2833933.14</td>\n",
       "      <td>39283494.0</td>\n",
       "    </tr>\n",
       "    <tr>\n",
       "      <th>34</th>\n",
       "      <td>NY</td>\n",
       "      <td>476.2</td>\n",
       "      <td>65366.4</td>\n",
       "      <td>64203.6</td>\n",
       "      <td>1623553.92</td>\n",
       "      <td>2972380.8</td>\n",
       "    </tr>\n",
       "    <tr>\n",
       "      <th>43</th>\n",
       "      <td>TX</td>\n",
       "      <td>471.8</td>\n",
       "      <td>48939.8</td>\n",
       "      <td>60228.6</td>\n",
       "      <td>1687385.44</td>\n",
       "      <td>6709356.8</td>\n",
       "    </tr>\n",
       "  </tbody>\n",
       "</table>\n",
       "</div>"
      ],
      "text/plain": [
       "   State Abbreviation  Average Postsecondary School Numbers  \\\n",
       "4                  CA                                 772.4   \n",
       "34                 NY                                 476.2   \n",
       "43                 TX                                 471.8   \n",
       "\n",
       "    Average Capita Income  Average Median Income  \\\n",
       "4                 60953.8                69725.2   \n",
       "34                65366.4                64203.6   \n",
       "43                48939.8                60228.6   \n",
       "\n",
       "    Average GDP(million dollars)  Average Population  \n",
       "4                     2833933.14          39283494.0  \n",
       "34                    1623553.92           2972380.8  \n",
       "43                    1687385.44           6709356.8  "
      ]
     },
     "execution_count": 15,
     "metadata": {},
     "output_type": "execute_result"
    }
   ],
   "source": [
    "final_df[final_df['Average GDP(million dollars)']>1500000]"
   ]
  },
  {
   "cell_type": "markdown",
   "metadata": {},
   "source": [
    "We found the outlier states to be CA, NY, TX. Again, since all three of these states are a crucial part of the 50 states, we could not eliminate their data. "
   ]
  },
  {
   "cell_type": "markdown",
   "metadata": {},
   "source": [
    "#### Population"
   ]
  },
  {
   "cell_type": "code",
   "execution_count": 16,
   "metadata": {},
   "outputs": [
    {
     "data": {
      "text/plain": [
       "Text(0.5, 1.0, 'Population Outlier Analysis')"
      ]
     },
     "execution_count": 16,
     "metadata": {},
     "output_type": "execute_result"
    },
    {
     "data": {
      "image/png": "[encoded data removed]",
      "text/plain": [
       "<Figure size 432x288 with 1 Axes>"
      ]
     },
     "metadata": {
      "needs_background": "light"
     },
     "output_type": "display_data"
    }
   ],
   "source": [
    "#draw the histogram\n",
    "sns.histplot(x='Average Population',data=final_df).set_title(\"Population Outlier Analysis\")"
   ]
  },
  {
   "cell_type": "markdown",
   "metadata": {},
   "source": [
    "Regarding population, there are also several outliers. "
   ]
  },
  {
   "cell_type": "code",
   "execution_count": 17,
   "metadata": {},
   "outputs": [
    {
     "data": {
      "text/html": [
       "<div>\n",
       "<style scoped>\n",
       "    .dataframe tbody tr th:only-of-type {\n",
       "        vertical-align: middle;\n",
       "    }\n",
       "\n",
       "    .dataframe tbody tr th {\n",
       "        vertical-align: top;\n",
       "    }\n",
       "\n",
       "    .dataframe thead th {\n",
       "        text-align: right;\n",
       "    }\n",
       "</style>\n",
       "<table border=\"1\" class=\"dataframe\">\n",
       "  <thead>\n",
       "    <tr style=\"text-align: right;\">\n",
       "      <th></th>\n",
       "      <th>State Abbreviation</th>\n",
       "      <th>Average Postsecondary School Numbers</th>\n",
       "      <th>Average Capita Income</th>\n",
       "      <th>Average Median Income</th>\n",
       "      <th>Average GDP(million dollars)</th>\n",
       "      <th>Average Population</th>\n",
       "    </tr>\n",
       "  </thead>\n",
       "  <tbody>\n",
       "    <tr>\n",
       "      <th>4</th>\n",
       "      <td>CA</td>\n",
       "      <td>772.4</td>\n",
       "      <td>60953.8</td>\n",
       "      <td>69725.2</td>\n",
       "      <td>2833933.14</td>\n",
       "      <td>39283494.0</td>\n",
       "    </tr>\n",
       "    <tr>\n",
       "      <th>9</th>\n",
       "      <td>FL</td>\n",
       "      <td>419.8</td>\n",
       "      <td>48648.0</td>\n",
       "      <td>53338.8</td>\n",
       "      <td>997242.20</td>\n",
       "      <td>20901637.2</td>\n",
       "    </tr>\n",
       "    <tr>\n",
       "      <th>35</th>\n",
       "      <td>OH</td>\n",
       "      <td>342.0</td>\n",
       "      <td>47081.2</td>\n",
       "      <td>58670.0</td>\n",
       "      <td>648721.40</td>\n",
       "      <td>19572315.6</td>\n",
       "    </tr>\n",
       "    <tr>\n",
       "      <th>44</th>\n",
       "      <td>UT</td>\n",
       "      <td>77.8</td>\n",
       "      <td>44679.8</td>\n",
       "      <td>73329.6</td>\n",
       "      <td>169623.16</td>\n",
       "      <td>28260857.2</td>\n",
       "    </tr>\n",
       "  </tbody>\n",
       "</table>\n",
       "</div>"
      ],
      "text/plain": [
       "   State Abbreviation  Average Postsecondary School Numbers  \\\n",
       "4                  CA                                 772.4   \n",
       "9                  FL                                 419.8   \n",
       "35                 OH                                 342.0   \n",
       "44                 UT                                  77.8   \n",
       "\n",
       "    Average Capita Income  Average Median Income  \\\n",
       "4                 60953.8                69725.2   \n",
       "9                 48648.0                53338.8   \n",
       "35                47081.2                58670.0   \n",
       "44                44679.8                73329.6   \n",
       "\n",
       "    Average GDP(million dollars)  Average Population  \n",
       "4                     2833933.14          39283494.0  \n",
       "9                      997242.20          20901637.2  \n",
       "35                     648721.40          19572315.6  \n",
       "44                     169623.16          28260857.2  "
      ]
     },
     "execution_count": 17,
     "metadata": {},
     "output_type": "execute_result"
    }
   ],
   "source": [
    "final_df[final_df['Average Population']>15000000]"
   ]
  },
  {
   "cell_type": "markdown",
   "metadata": {},
   "source": [
    "These four outliers are CA, FL, OH, UT. Again, because they are a crucial part of the 50 states in the United States, we could not eliminate their data.\n",
    "\n",
    "We found that all outliers were needed in our datasets, so we did not remove them and kept them in our data for further analysis. Additionally, since DC did not prove itself to be problematic in our data, we decided to keep its data. "
   ]
  },
  {
   "cell_type": "markdown",
   "metadata": {},
   "source": [
    "### PSN and Population"
   ]
  },
  {
   "cell_type": "markdown",
   "metadata": {},
   "source": [
    "As mentioned earlier, we considered population to be our main confounding variable that may affect both a state's economy and PSN. We wanted to determine if there was relationship between these variables."
   ]
  },
  {
   "cell_type": "code",
   "execution_count": 18,
   "metadata": {},
   "outputs": [
    {
     "data": {
      "text/plain": [
       "Text(0.5, 1.0, 'PSN and Population')"
      ]
     },
     "execution_count": 18,
     "metadata": {},
     "output_type": "execute_result"
    },
    {
     "data": {
      "image/png": "[encoded data removed]",
      "text/plain": [
       "<Figure size 432x288 with 1 Axes>"
      ]
     },
     "metadata": {
      "needs_background": "light"
     },
     "output_type": "display_data"
    }
   ],
   "source": [
    "#draw the scatter plot\n",
    "sns.scatterplot(x='Average Postsecondary School Numbers',y='Average Population',data=final_df).set_title(\"PSN and Population\")"
   ]
  },
  {
   "cell_type": "markdown",
   "metadata": {},
   "source": [
    "There seems to be a small positive relationship between these variables however there are some limitations to this graph. Our graph shows that almost all the points hover near the left bottom corner and there exists one extreme outlier. Our data skewed to the right, therefore we transformed the data for PSN and population and analyzed it again."
   ]
  },
  {
   "cell_type": "code",
   "execution_count": 19,
   "metadata": {},
   "outputs": [
    {
     "data": {
      "text/plain": [
       "Text(0.5, 1.0, 'Log10 PSN and Population')"
      ]
     },
     "execution_count": 19,
     "metadata": {},
     "output_type": "execute_result"
    },
    {
     "data": {
      "image/png": "[encoded data removed]",
      "text/plain": [
       "<Figure size 432x288 with 1 Axes>"
      ]
     },
     "metadata": {
      "needs_background": "light"
     },
     "output_type": "display_data"
    }
   ],
   "source": [
    "#assign a new column to store the transfomation\n",
    "final_df['log10PSN']=np.log10(final_df['Average Postsecondary School Numbers'])\n",
    "\n",
    "#draw the scatter plot\n",
    "sns.scatterplot(x='log10PSN',y='Average Population',data=final_df).set_title(\"Log10 PSN and Population\")"
   ]
  },
  {
   "cell_type": "markdown",
   "metadata": {},
   "source": [
    "From this graph, we could preliminarily conclude that PSN and population did not have a strong linear relationship. We further used the Variation Inflation Factor (VIF) test to analyze whether PSN had any relation to the economy. "
   ]
  },
  {
   "cell_type": "markdown",
   "metadata": {},
   "source": [
    "### Relation between PSN and GDP"
   ]
  },
  {
   "cell_type": "markdown",
   "metadata": {},
   "source": [
    "First we wanted to determine the relationship between PSN and GDP."
   ]
  },
  {
   "cell_type": "code",
   "execution_count": 20,
   "metadata": {},
   "outputs": [
    {
     "data": {
      "text/plain": [
       "Text(0.5, 1.0, 'PSN and GDP')"
      ]
     },
     "execution_count": 20,
     "metadata": {},
     "output_type": "execute_result"
    },
    {
     "data": {
      "image/png": "[encoded data removed]",
      "text/plain": [
       "<Figure size 432x288 with 1 Axes>"
      ]
     },
     "metadata": {
      "needs_background": "light"
     },
     "output_type": "display_data"
    }
   ],
   "source": [
    "sns.scatterplot(x='Average Postsecondary School Numbers',y='Average GDP(million dollars)',data=final_df,color='red').set_title(\"PSN and GDP\")"
   ]
  },
  {
   "cell_type": "markdown",
   "metadata": {},
   "source": [
    "After analyzing the graph, we noticed a postive linear relationship between PSN and GDP. For further analysis, we checked for any multiple colinearity problems by using a vif test."
   ]
  },
  {
   "cell_type": "code",
   "execution_count": 21,
   "metadata": {},
   "outputs": [
    {
     "data": {
      "text/html": [
       "<div>\n",
       "<style scoped>\n",
       "    .dataframe tbody tr th:only-of-type {\n",
       "        vertical-align: middle;\n",
       "    }\n",
       "\n",
       "    .dataframe tbody tr th {\n",
       "        vertical-align: top;\n",
       "    }\n",
       "\n",
       "    .dataframe thead th {\n",
       "        text-align: right;\n",
       "    }\n",
       "</style>\n",
       "<table border=\"1\" class=\"dataframe\">\n",
       "  <thead>\n",
       "    <tr style=\"text-align: right;\">\n",
       "      <th></th>\n",
       "      <th>Features</th>\n",
       "      <th>VIF</th>\n",
       "    </tr>\n",
       "  </thead>\n",
       "  <tbody>\n",
       "    <tr>\n",
       "      <th>0</th>\n",
       "      <td>Intercept</td>\n",
       "      <td>2.153645</td>\n",
       "    </tr>\n",
       "    <tr>\n",
       "      <th>1</th>\n",
       "      <td>Q(\"Average Postsecondary School Numbers\")</td>\n",
       "      <td>1.380458</td>\n",
       "    </tr>\n",
       "    <tr>\n",
       "      <th>2</th>\n",
       "      <td>Q(\"Average Population\")</td>\n",
       "      <td>1.380458</td>\n",
       "    </tr>\n",
       "  </tbody>\n",
       "</table>\n",
       "</div>"
      ],
      "text/plain": [
       "                                    Features       VIF\n",
       "0                                  Intercept  2.153645\n",
       "1  Q(\"Average Postsecondary School Numbers\")  1.380458\n",
       "2                    Q(\"Average Population\")  1.380458"
      ]
     },
     "execution_count": 21,
     "metadata": {},
     "output_type": "execute_result"
    }
   ],
   "source": [
    "#Check the vif \n",
    "y, X = patsy.dmatrices('Q(\"Average GDP(million dollars)\") ~ Q(\"Average Postsecondary School Numbers\")+Q(\"Average Population\")', data = final_df, return_type='dataframe')\n",
    "vif = pd.DataFrame()\n",
    "vif[\"Features\"] = X.columns\n",
    "vif[\"VIF\"] = [variance_inflation_factor(X.values, i) for i in range(X.shape[1])]\n",
    "vif"
   ]
  },
  {
   "cell_type": "markdown",
   "metadata": {},
   "source": [
    "Through the vif test, we saw that all of the values of VIF are less than 10 or 5, therefore we could determine that there were no colinearity problem and we were able to run a multiple regression analysis on our data to determine the relationship between PSN and GDP."
   ]
  },
  {
   "cell_type": "code",
   "execution_count": 22,
   "metadata": {},
   "outputs": [
    {
     "data": {
      "text/html": [
       "<table class=\"simpletable\">\n",
       "<caption>OLS Regression Results</caption>\n",
       "<tr>\n",
       "  <th>Dep. Variable:</th>    <td>Q(\"Average GDP(million dollars)\")</td> <th>  R-squared:         </th> <td>   0.921</td>\n",
       "</tr>\n",
       "<tr>\n",
       "  <th>Model:</th>                           <td>OLS</td>                <th>  Adj. R-squared:    </th> <td>   0.917</td>\n",
       "</tr>\n",
       "<tr>\n",
       "  <th>Method:</th>                     <td>Least Squares</td>           <th>  F-statistic:       </th> <td>   278.3</td>\n",
       "</tr>\n",
       "<tr>\n",
       "  <th>Date:</th>                     <td>Tue, 16 Mar 2021</td>          <th>  Prob (F-statistic):</th> <td>3.93e-27</td>\n",
       "</tr>\n",
       "<tr>\n",
       "  <th>Time:</th>                         <td>21:48:34</td>              <th>  Log-Likelihood:    </th> <td> -676.11</td>\n",
       "</tr>\n",
       "<tr>\n",
       "  <th>No. Observations:</th>              <td>    51</td>               <th>  AIC:               </th> <td>   1358.</td>\n",
       "</tr>\n",
       "<tr>\n",
       "  <th>Df Residuals:</th>                  <td>    48</td>               <th>  BIC:               </th> <td>   1364.</td>\n",
       "</tr>\n",
       "<tr>\n",
       "  <th>Df Model:</th>                      <td>     2</td>               <th>                     </th>     <td> </td>   \n",
       "</tr>\n",
       "<tr>\n",
       "  <th>Covariance Type:</th>              <td>nonrobust</td>             <th>                     </th>     <td> </td>   \n",
       "</tr>\n",
       "</table>\n",
       "<table class=\"simpletable\">\n",
       "<tr>\n",
       "                      <td></td>                         <th>coef</th>     <th>std err</th>      <th>t</th>      <th>P>|t|</th>  <th>[0.025</th>    <th>0.975]</th>  \n",
       "</tr>\n",
       "<tr>\n",
       "  <th>Intercept</th>                                 <td>-8.153e+04</td> <td> 2.93e+04</td> <td>   -2.780</td> <td> 0.008</td> <td> -1.4e+05</td> <td>-2.26e+04</td>\n",
       "</tr>\n",
       "<tr>\n",
       "  <th>Q(\"Average Postsecondary School Numbers\")</th> <td> 3246.9325</td> <td>  162.321</td> <td>   20.003</td> <td> 0.000</td> <td> 2920.565</td> <td> 3573.300</td>\n",
       "</tr>\n",
       "<tr>\n",
       "  <th>Q(\"Average Population\")</th>                   <td>    0.0005</td> <td>    0.003</td> <td>    0.146</td> <td> 0.884</td> <td>   -0.006</td> <td>    0.007</td>\n",
       "</tr>\n",
       "</table>\n",
       "<table class=\"simpletable\">\n",
       "<tr>\n",
       "  <th>Omnibus:</th>       <td> 9.915</td> <th>  Durbin-Watson:     </th> <td>   2.068</td>\n",
       "</tr>\n",
       "<tr>\n",
       "  <th>Prob(Omnibus):</th> <td> 0.007</td> <th>  Jarque-Bera (JB):  </th> <td>  13.344</td>\n",
       "</tr>\n",
       "<tr>\n",
       "  <th>Skew:</th>          <td>-0.616</td> <th>  Prob(JB):          </th> <td> 0.00127</td>\n",
       "</tr>\n",
       "<tr>\n",
       "  <th>Kurtosis:</th>      <td> 5.183</td> <th>  Cond. No.          </th> <td>1.41e+07</td>\n",
       "</tr>\n",
       "</table><br/><br/>Notes:<br/>[1] Standard Errors assume that the covariance matrix of the errors is correctly specified.<br/>[2] The condition number is large, 1.41e+07. This might indicate that there are<br/>strong multicollinearity or other numerical problems."
      ],
      "text/plain": [
       "<class 'statsmodels.iolib.summary.Summary'>\n",
       "\"\"\"\n",
       "                                    OLS Regression Results                                   \n",
       "=============================================================================================\n",
       "Dep. Variable:     Q(\"Average GDP(million dollars)\")   R-squared:                       0.921\n",
       "Model:                                           OLS   Adj. R-squared:                  0.917\n",
       "Method:                                Least Squares   F-statistic:                     278.3\n",
       "Date:                               Tue, 16 Mar 2021   Prob (F-statistic):           3.93e-27\n",
       "Time:                                       21:48:34   Log-Likelihood:                -676.11\n",
       "No. Observations:                                 51   AIC:                             1358.\n",
       "Df Residuals:                                     48   BIC:                             1364.\n",
       "Df Model:                                          2                                         \n",
       "Covariance Type:                           nonrobust                                         \n",
       "=============================================================================================================\n",
       "                                                coef    std err          t      P>|t|      [0.025      0.975]\n",
       "-------------------------------------------------------------------------------------------------------------\n",
       "Intercept                                 -8.153e+04   2.93e+04     -2.780      0.008    -1.4e+05   -2.26e+04\n",
       "Q(\"Average Postsecondary School Numbers\")  3246.9325    162.321     20.003      0.000    2920.565    3573.300\n",
       "Q(\"Average Population\")                       0.0005      0.003      0.146      0.884      -0.006       0.007\n",
       "==============================================================================\n",
       "Omnibus:                        9.915   Durbin-Watson:                   2.068\n",
       "Prob(Omnibus):                  0.007   Jarque-Bera (JB):               13.344\n",
       "Skew:                          -0.616   Prob(JB):                      0.00127\n",
       "Kurtosis:                       5.183   Cond. No.                     1.41e+07\n",
       "==============================================================================\n",
       "\n",
       "Notes:\n",
       "[1] Standard Errors assume that the covariance matrix of the errors is correctly specified.\n",
       "[2] The condition number is large, 1.41e+07. This might indicate that there are\n",
       "strong multicollinearity or other numerical problems.\n",
       "\"\"\""
      ]
     },
     "execution_count": 22,
     "metadata": {},
     "output_type": "execute_result"
    }
   ],
   "source": [
    "# Linear regression analysis\n",
    "outcome, predictors = patsy.dmatrices('Q(\"Average GDP(million dollars)\") ~ Q(\"Average Postsecondary School Numbers\")+Q(\"Average Population\")', final_df)\n",
    "mode = sm.OLS(outcome, predictors)\n",
    "result = mode.fit()\n",
    "result.summary()"
   ]
  },
  {
   "cell_type": "markdown",
   "metadata": {},
   "source": [
    "The results of our linear regression analysis showed that there was R-squared value is 0.92. Additionally, the p-value was less than 0.05. Because of that, we were able to reject the null hypothesis and state that there was a strong positive linear relationship between PSN and GDP. We also found that the intercept std error was large. This may have been the case because there was no data nearing 0, and most of the data was much larger than 0. This would change depending on the coefficient change. The P-value for the population is 0.884, which is larger than 0.05, making us fail to reject the null hypothesis. Because of this, we could not state that there was a relationship between population and GDP.\n",
    "\n",
    "From the analyses above, we were able to conclude that there is a positive relationship between the PSN and GDP."
   ]
  },
  {
   "cell_type": "markdown",
   "metadata": {},
   "source": [
    "### Relation between PSN and Median Household Income"
   ]
  },
  {
   "cell_type": "markdown",
   "metadata": {},
   "source": [
    "We also analyzed the relationship between PSN and Median Household Income."
   ]
  },
  {
   "cell_type": "code",
   "execution_count": 23,
   "metadata": {},
   "outputs": [
    {
     "data": {
      "text/plain": [
       "Text(0.5, 1.0, 'PSN and Median Household Income')"
      ]
     },
     "execution_count": 23,
     "metadata": {},
     "output_type": "execute_result"
    },
    {
     "data": {
      "image/png": "[encoded data removed]",
      "text/plain": [
       "<Figure size 432x288 with 1 Axes>"
      ]
     },
     "metadata": {
      "needs_background": "light"
     },
     "output_type": "display_data"
    }
   ],
   "source": [
    "sns.scatterplot(x='Average Postsecondary School Numbers',y='Average Median Income',data=final_df,color='purple').set_title(\"PSN and Median Household Income\")"
   ]
  },
  {
   "cell_type": "markdown",
   "metadata": {},
   "source": [
    "From the graph above, we observed that PSN and Median Income seemed to have no linear relation. We ran a linear regression analysis to further support this theory."
   ]
  },
  {
   "cell_type": "markdown",
   "metadata": {},
   "source": [
    "Since there was no independent variable change, the VIF test scores would show the same results. Because of this, we skipped running another VIF test and ran the linear regression analysis directly."
   ]
  },
  {
   "cell_type": "code",
   "execution_count": 24,
   "metadata": {},
   "outputs": [
    {
     "data": {
      "text/html": [
       "<table class=\"simpletable\">\n",
       "<caption>OLS Regression Results</caption>\n",
       "<tr>\n",
       "  <th>Dep. Variable:</th>    <td>Q(\"Average Median Income\")</td> <th>  R-squared:         </th> <td>   0.000</td>\n",
       "</tr>\n",
       "<tr>\n",
       "  <th>Model:</th>                        <td>OLS</td>            <th>  Adj. R-squared:    </th> <td>  -0.042</td>\n",
       "</tr>\n",
       "<tr>\n",
       "  <th>Method:</th>                  <td>Least Squares</td>       <th>  F-statistic:       </th> <td>0.001785</td>\n",
       "</tr>\n",
       "<tr>\n",
       "  <th>Date:</th>                  <td>Tue, 16 Mar 2021</td>      <th>  Prob (F-statistic):</th>  <td> 0.998</td> \n",
       "</tr>\n",
       "<tr>\n",
       "  <th>Time:</th>                      <td>21:48:35</td>          <th>  Log-Likelihood:    </th> <td> -540.04</td>\n",
       "</tr>\n",
       "<tr>\n",
       "  <th>No. Observations:</th>           <td>    51</td>           <th>  AIC:               </th> <td>   1086.</td>\n",
       "</tr>\n",
       "<tr>\n",
       "  <th>Df Residuals:</th>               <td>    48</td>           <th>  BIC:               </th> <td>   1092.</td>\n",
       "</tr>\n",
       "<tr>\n",
       "  <th>Df Model:</th>                   <td>     2</td>           <th>                     </th>     <td> </td>   \n",
       "</tr>\n",
       "<tr>\n",
       "  <th>Covariance Type:</th>           <td>nonrobust</td>         <th>                     </th>     <td> </td>   \n",
       "</tr>\n",
       "</table>\n",
       "<table class=\"simpletable\">\n",
       "<tr>\n",
       "                      <td></td>                         <th>coef</th>     <th>std err</th>      <th>t</th>      <th>P>|t|</th>  <th>[0.025</th>    <th>0.975]</th>  \n",
       "</tr>\n",
       "<tr>\n",
       "  <th>Intercept</th>                                 <td> 6.246e+04</td> <td> 2034.795</td> <td>   30.696</td> <td> 0.000</td> <td> 5.84e+04</td> <td> 6.66e+04</td>\n",
       "</tr>\n",
       "<tr>\n",
       "  <th>Q(\"Average Postsecondary School Numbers\")</th> <td>    0.0732</td> <td>   11.263</td> <td>    0.006</td> <td> 0.995</td> <td>  -22.573</td> <td>   22.720</td>\n",
       "</tr>\n",
       "<tr>\n",
       "  <th>Q(\"Average Population\")</th>                   <td>-1.218e-05</td> <td>    0.000</td> <td>   -0.054</td> <td> 0.957</td> <td>   -0.000</td> <td>    0.000</td>\n",
       "</tr>\n",
       "</table>\n",
       "<table class=\"simpletable\">\n",
       "<tr>\n",
       "  <th>Omnibus:</th>       <td> 1.757</td> <th>  Durbin-Watson:     </th> <td>   1.498</td>\n",
       "</tr>\n",
       "<tr>\n",
       "  <th>Prob(Omnibus):</th> <td> 0.415</td> <th>  Jarque-Bera (JB):  </th> <td>   1.308</td>\n",
       "</tr>\n",
       "<tr>\n",
       "  <th>Skew:</th>          <td> 0.163</td> <th>  Prob(JB):          </th> <td>   0.520</td>\n",
       "</tr>\n",
       "<tr>\n",
       "  <th>Kurtosis:</th>      <td> 2.287</td> <th>  Cond. No.          </th> <td>1.41e+07</td>\n",
       "</tr>\n",
       "</table><br/><br/>Notes:<br/>[1] Standard Errors assume that the covariance matrix of the errors is correctly specified.<br/>[2] The condition number is large, 1.41e+07. This might indicate that there are<br/>strong multicollinearity or other numerical problems."
      ],
      "text/plain": [
       "<class 'statsmodels.iolib.summary.Summary'>\n",
       "\"\"\"\n",
       "                                OLS Regression Results                                \n",
       "======================================================================================\n",
       "Dep. Variable:     Q(\"Average Median Income\")   R-squared:                       0.000\n",
       "Model:                                    OLS   Adj. R-squared:                 -0.042\n",
       "Method:                         Least Squares   F-statistic:                  0.001785\n",
       "Date:                        Tue, 16 Mar 2021   Prob (F-statistic):              0.998\n",
       "Time:                                21:48:35   Log-Likelihood:                -540.04\n",
       "No. Observations:                          51   AIC:                             1086.\n",
       "Df Residuals:                              48   BIC:                             1092.\n",
       "Df Model:                                   2                                         \n",
       "Covariance Type:                    nonrobust                                         \n",
       "=============================================================================================================\n",
       "                                                coef    std err          t      P>|t|      [0.025      0.975]\n",
       "-------------------------------------------------------------------------------------------------------------\n",
       "Intercept                                  6.246e+04   2034.795     30.696      0.000    5.84e+04    6.66e+04\n",
       "Q(\"Average Postsecondary School Numbers\")     0.0732     11.263      0.006      0.995     -22.573      22.720\n",
       "Q(\"Average Population\")                   -1.218e-05      0.000     -0.054      0.957      -0.000       0.000\n",
       "==============================================================================\n",
       "Omnibus:                        1.757   Durbin-Watson:                   1.498\n",
       "Prob(Omnibus):                  0.415   Jarque-Bera (JB):                1.308\n",
       "Skew:                           0.163   Prob(JB):                        0.520\n",
       "Kurtosis:                       2.287   Cond. No.                     1.41e+07\n",
       "==============================================================================\n",
       "\n",
       "Notes:\n",
       "[1] Standard Errors assume that the covariance matrix of the errors is correctly specified.\n",
       "[2] The condition number is large, 1.41e+07. This might indicate that there are\n",
       "strong multicollinearity or other numerical problems.\n",
       "\"\"\""
      ]
     },
     "execution_count": 24,
     "metadata": {},
     "output_type": "execute_result"
    }
   ],
   "source": [
    "# Linear regression analysis\n",
    "outcome, predictors = patsy.dmatrices('Q(\"Average Median Income\") ~ Q(\"Average Postsecondary School Numbers\")+Q(\"Average Population\")', final_df)\n",
    "mode = sm.OLS(outcome, predictors)\n",
    "result = mode.fit()\n",
    "result.summary()"
   ]
  },
  {
   "cell_type": "markdown",
   "metadata": {},
   "source": [
    "From the tables, we determined that the p-value for PSN is 0.995, which is really close to 1. Therefore, we concluded that there was no  linear relationship between PSN and average median income."
   ]
  },
  {
   "cell_type": "markdown",
   "metadata": {},
   "source": [
    "### Relation between PSN and Average Capita Income"
   ]
  },
  {
   "cell_type": "markdown",
   "metadata": {},
   "source": [
    "We additionally analyzed the relationship between PSN and Average Capita Income Income."
   ]
  },
  {
   "cell_type": "code",
   "execution_count": 25,
   "metadata": {},
   "outputs": [
    {
     "data": {
      "text/plain": [
       "Text(0.5, 1.0, 'PSN and Average Capita Income')"
      ]
     },
     "execution_count": 25,
     "metadata": {},
     "output_type": "execute_result"
    },
    {
     "data": {
      "image/png": "[encoded data removed]",
      "text/plain": [
       "<Figure size 432x288 with 1 Axes>"
      ]
     },
     "metadata": {
      "needs_background": "light"
     },
     "output_type": "display_data"
    }
   ],
   "source": [
    "sns.scatterplot(x='Average Postsecondary School Numbers',y='Average Capita Income',data=final_df,color='orange').set_title(\"PSN and Average Capita Income\")"
   ]
  },
  {
   "cell_type": "markdown",
   "metadata": {},
   "source": [
    "We observed from the scatterplot that the points were randomly located, and there seemed to be no relation between PSN and average capita income. Like previous analyses, we further performed a linear regression analysis on the data to determine the relation. We also skipped the VIF test because there was still no change in the independent variable, and the values of VIF test will only change depending on the independent variable."
   ]
  },
  {
   "cell_type": "code",
   "execution_count": 26,
   "metadata": {
    "scrolled": true
   },
   "outputs": [
    {
     "data": {
      "text/html": [
       "<table class=\"simpletable\">\n",
       "<caption>OLS Regression Results</caption>\n",
       "<tr>\n",
       "  <th>Dep. Variable:</th>    <td>Q(\"Average Capita Income\")</td> <th>  R-squared:         </th> <td>   0.048</td>\n",
       "</tr>\n",
       "<tr>\n",
       "  <th>Model:</th>                        <td>OLS</td>            <th>  Adj. R-squared:    </th> <td>   0.009</td>\n",
       "</tr>\n",
       "<tr>\n",
       "  <th>Method:</th>                  <td>Least Squares</td>       <th>  F-statistic:       </th> <td>   1.221</td>\n",
       "</tr>\n",
       "<tr>\n",
       "  <th>Date:</th>                  <td>Tue, 16 Mar 2021</td>      <th>  Prob (F-statistic):</th>  <td> 0.304</td> \n",
       "</tr>\n",
       "<tr>\n",
       "  <th>Time:</th>                      <td>21:48:35</td>          <th>  Log-Likelihood:    </th> <td> -533.86</td>\n",
       "</tr>\n",
       "<tr>\n",
       "  <th>No. Observations:</th>           <td>    51</td>           <th>  AIC:               </th> <td>   1074.</td>\n",
       "</tr>\n",
       "<tr>\n",
       "  <th>Df Residuals:</th>               <td>    48</td>           <th>  BIC:               </th> <td>   1080.</td>\n",
       "</tr>\n",
       "<tr>\n",
       "  <th>Df Model:</th>                   <td>     2</td>           <th>                     </th>     <td> </td>   \n",
       "</tr>\n",
       "<tr>\n",
       "  <th>Covariance Type:</th>           <td>nonrobust</td>         <th>                     </th>     <td> </td>   \n",
       "</tr>\n",
       "</table>\n",
       "<table class=\"simpletable\">\n",
       "<tr>\n",
       "                      <td></td>                         <th>coef</th>     <th>std err</th>      <th>t</th>      <th>P>|t|</th>  <th>[0.025</th>    <th>0.975]</th>  \n",
       "</tr>\n",
       "<tr>\n",
       "  <th>Intercept</th>                                 <td> 5.064e+04</td> <td> 1802.584</td> <td>   28.095</td> <td> 0.000</td> <td>  4.7e+04</td> <td> 5.43e+04</td>\n",
       "</tr>\n",
       "<tr>\n",
       "  <th>Q(\"Average Postsecondary School Numbers\")</th> <td>   14.5369</td> <td>    9.978</td> <td>    1.457</td> <td> 0.152</td> <td>   -5.525</td> <td>   34.599</td>\n",
       "</tr>\n",
       "<tr>\n",
       "  <th>Q(\"Average Population\")</th>                   <td>   -0.0002</td> <td>    0.000</td> <td>   -1.245</td> <td> 0.219</td> <td>   -0.001</td> <td>    0.000</td>\n",
       "</tr>\n",
       "</table>\n",
       "<table class=\"simpletable\">\n",
       "<tr>\n",
       "  <th>Omnibus:</th>       <td>12.284</td> <th>  Durbin-Watson:     </th> <td>   1.469</td>\n",
       "</tr>\n",
       "<tr>\n",
       "  <th>Prob(Omnibus):</th> <td> 0.002</td> <th>  Jarque-Bera (JB):  </th> <td>  12.640</td>\n",
       "</tr>\n",
       "<tr>\n",
       "  <th>Skew:</th>          <td> 1.047</td> <th>  Prob(JB):          </th> <td> 0.00180</td>\n",
       "</tr>\n",
       "<tr>\n",
       "  <th>Kurtosis:</th>      <td> 4.250</td> <th>  Cond. No.          </th> <td>1.41e+07</td>\n",
       "</tr>\n",
       "</table><br/><br/>Notes:<br/>[1] Standard Errors assume that the covariance matrix of the errors is correctly specified.<br/>[2] The condition number is large, 1.41e+07. This might indicate that there are<br/>strong multicollinearity or other numerical problems."
      ],
      "text/plain": [
       "<class 'statsmodels.iolib.summary.Summary'>\n",
       "\"\"\"\n",
       "                                OLS Regression Results                                \n",
       "======================================================================================\n",
       "Dep. Variable:     Q(\"Average Capita Income\")   R-squared:                       0.048\n",
       "Model:                                    OLS   Adj. R-squared:                  0.009\n",
       "Method:                         Least Squares   F-statistic:                     1.221\n",
       "Date:                        Tue, 16 Mar 2021   Prob (F-statistic):              0.304\n",
       "Time:                                21:48:35   Log-Likelihood:                -533.86\n",
       "No. Observations:                          51   AIC:                             1074.\n",
       "Df Residuals:                              48   BIC:                             1080.\n",
       "Df Model:                                   2                                         \n",
       "Covariance Type:                    nonrobust                                         \n",
       "=============================================================================================================\n",
       "                                                coef    std err          t      P>|t|      [0.025      0.975]\n",
       "-------------------------------------------------------------------------------------------------------------\n",
       "Intercept                                  5.064e+04   1802.584     28.095      0.000     4.7e+04    5.43e+04\n",
       "Q(\"Average Postsecondary School Numbers\")    14.5369      9.978      1.457      0.152      -5.525      34.599\n",
       "Q(\"Average Population\")                      -0.0002      0.000     -1.245      0.219      -0.001       0.000\n",
       "==============================================================================\n",
       "Omnibus:                       12.284   Durbin-Watson:                   1.469\n",
       "Prob(Omnibus):                  0.002   Jarque-Bera (JB):               12.640\n",
       "Skew:                           1.047   Prob(JB):                      0.00180\n",
       "Kurtosis:                       4.250   Cond. No.                     1.41e+07\n",
       "==============================================================================\n",
       "\n",
       "Notes:\n",
       "[1] Standard Errors assume that the covariance matrix of the errors is correctly specified.\n",
       "[2] The condition number is large, 1.41e+07. This might indicate that there are\n",
       "strong multicollinearity or other numerical problems.\n",
       "\"\"\""
      ]
     },
     "execution_count": 26,
     "metadata": {},
     "output_type": "execute_result"
    }
   ],
   "source": [
    "# Linear regression analysis\n",
    "outcome, predictors = patsy.dmatrices('Q(\"Average Capita Income\") ~ Q(\"Average Postsecondary School Numbers\")+Q(\"Average Population\")', final_df)\n",
    "mode = sm.OLS(outcome, predictors)\n",
    "result = mode.fit()\n",
    "result.summary()"
   ]
  },
  {
   "cell_type": "markdown",
   "metadata": {},
   "source": [
    "From the tables, we determined the p-value to be smaller than the median income, but still much larger than 0.05. Therefore we failed to reject the null hypothesis, and concluded there was no relation between PSN and average capita income.\n",
    "\n",
    "We found that the average income and the median income were similar in their graphs. We speculated that there may be linear relationship between these two variables because they may represent the same aspect of the economy. Therefore, we further explored this relationship. "
   ]
  },
  {
   "cell_type": "markdown",
   "metadata": {},
   "source": [
    "### Median houshold Income and Average Capita Income"
   ]
  },
  {
   "cell_type": "markdown",
   "metadata": {},
   "source": [
    "In this section, we tried to determine a relationship between median houshold Income and average capita Income"
   ]
  },
  {
   "cell_type": "code",
   "execution_count": 27,
   "metadata": {},
   "outputs": [
    {
     "data": {
      "text/plain": [
       "Text(0.5, 1.0, 'Median houshold Income and Average Capita Income')"
      ]
     },
     "execution_count": 27,
     "metadata": {},
     "output_type": "execute_result"
    },
    {
     "data": {
      "image/png": "[encoded data removed]",
      "text/plain": [
       "<Figure size 432x288 with 1 Axes>"
      ]
     },
     "metadata": {
      "needs_background": "light"
     },
     "output_type": "display_data"
    }
   ],
   "source": [
    "#Draw the scatter plot\n",
    "sns.scatterplot(x='Average Median Income',y='Average Capita Income',data=final_df,color='darkgreen').set_title(\"Median houshold Income and Average Capita Income\")"
   ]
  },
  {
   "cell_type": "markdown",
   "metadata": {},
   "source": [
    "We observed that there seemed to be a positive linear relation between these two variables. However, we still needed to run a linear regression analysis conclude a relation between the two."
   ]
  },
  {
   "cell_type": "markdown",
   "metadata": {},
   "source": [
    "We used Median Income as our independent variable because it is already proven that there is no relation between these two factors and others. Therefore, the VIF test was be skipped."
   ]
  },
  {
   "cell_type": "code",
   "execution_count": 28,
   "metadata": {},
   "outputs": [
    {
     "data": {
      "text/html": [
       "<table class=\"simpletable\">\n",
       "<caption>OLS Regression Results</caption>\n",
       "<tr>\n",
       "  <th>Dep. Variable:</th>    <td>Q(\"Average Capita Income\")</td> <th>  R-squared:         </th> <td>   0.685</td>\n",
       "</tr>\n",
       "<tr>\n",
       "  <th>Model:</th>                        <td>OLS</td>            <th>  Adj. R-squared:    </th> <td>   0.679</td>\n",
       "</tr>\n",
       "<tr>\n",
       "  <th>Method:</th>                  <td>Least Squares</td>       <th>  F-statistic:       </th> <td>   106.8</td>\n",
       "</tr>\n",
       "<tr>\n",
       "  <th>Date:</th>                  <td>Tue, 16 Mar 2021</td>      <th>  Prob (F-statistic):</th> <td>6.70e-14</td>\n",
       "</tr>\n",
       "<tr>\n",
       "  <th>Time:</th>                      <td>21:48:35</td>          <th>  Log-Likelihood:    </th> <td> -505.64</td>\n",
       "</tr>\n",
       "<tr>\n",
       "  <th>No. Observations:</th>           <td>    51</td>           <th>  AIC:               </th> <td>   1015.</td>\n",
       "</tr>\n",
       "<tr>\n",
       "  <th>Df Residuals:</th>               <td>    49</td>           <th>  BIC:               </th> <td>   1019.</td>\n",
       "</tr>\n",
       "<tr>\n",
       "  <th>Df Model:</th>                   <td>     1</td>           <th>                     </th>     <td> </td>   \n",
       "</tr>\n",
       "<tr>\n",
       "  <th>Covariance Type:</th>           <td>nonrobust</td>         <th>                     </th>     <td> </td>   \n",
       "</tr>\n",
       "</table>\n",
       "<table class=\"simpletable\">\n",
       "<tr>\n",
       "               <td></td>                 <th>coef</th>     <th>std err</th>      <th>t</th>      <th>P>|t|</th>  <th>[0.025</th>    <th>0.975]</th>  \n",
       "</tr>\n",
       "<tr>\n",
       "  <th>Intercept</th>                  <td> 4223.4390</td> <td> 4593.003</td> <td>    0.920</td> <td> 0.362</td> <td>-5006.547</td> <td> 1.35e+04</td>\n",
       "</tr>\n",
       "<tr>\n",
       "  <th>Q(\"Average Median Income\")</th> <td>    0.7518</td> <td>    0.073</td> <td>   10.333</td> <td> 0.000</td> <td>    0.606</td> <td>    0.898</td>\n",
       "</tr>\n",
       "</table>\n",
       "<table class=\"simpletable\">\n",
       "<tr>\n",
       "  <th>Omnibus:</th>       <td> 8.779</td> <th>  Durbin-Watson:     </th> <td>   1.791</td>\n",
       "</tr>\n",
       "<tr>\n",
       "  <th>Prob(Omnibus):</th> <td> 0.012</td> <th>  Jarque-Bera (JB):  </th> <td>  11.994</td>\n",
       "</tr>\n",
       "<tr>\n",
       "  <th>Skew:</th>          <td> 0.512</td> <th>  Prob(JB):          </th> <td> 0.00249</td>\n",
       "</tr>\n",
       "<tr>\n",
       "  <th>Kurtosis:</th>      <td> 5.144</td> <th>  Cond. No.          </th> <td>4.15e+05</td>\n",
       "</tr>\n",
       "</table><br/><br/>Notes:<br/>[1] Standard Errors assume that the covariance matrix of the errors is correctly specified.<br/>[2] The condition number is large, 4.15e+05. This might indicate that there are<br/>strong multicollinearity or other numerical problems."
      ],
      "text/plain": [
       "<class 'statsmodels.iolib.summary.Summary'>\n",
       "\"\"\"\n",
       "                                OLS Regression Results                                \n",
       "======================================================================================\n",
       "Dep. Variable:     Q(\"Average Capita Income\")   R-squared:                       0.685\n",
       "Model:                                    OLS   Adj. R-squared:                  0.679\n",
       "Method:                         Least Squares   F-statistic:                     106.8\n",
       "Date:                        Tue, 16 Mar 2021   Prob (F-statistic):           6.70e-14\n",
       "Time:                                21:48:35   Log-Likelihood:                -505.64\n",
       "No. Observations:                          51   AIC:                             1015.\n",
       "Df Residuals:                              49   BIC:                             1019.\n",
       "Df Model:                                   1                                         \n",
       "Covariance Type:                    nonrobust                                         \n",
       "==============================================================================================\n",
       "                                 coef    std err          t      P>|t|      [0.025      0.975]\n",
       "----------------------------------------------------------------------------------------------\n",
       "Intercept                   4223.4390   4593.003      0.920      0.362   -5006.547    1.35e+04\n",
       "Q(\"Average Median Income\")     0.7518      0.073     10.333      0.000       0.606       0.898\n",
       "==============================================================================\n",
       "Omnibus:                        8.779   Durbin-Watson:                   1.791\n",
       "Prob(Omnibus):                  0.012   Jarque-Bera (JB):               11.994\n",
       "Skew:                           0.512   Prob(JB):                      0.00249\n",
       "Kurtosis:                       5.144   Cond. No.                     4.15e+05\n",
       "==============================================================================\n",
       "\n",
       "Notes:\n",
       "[1] Standard Errors assume that the covariance matrix of the errors is correctly specified.\n",
       "[2] The condition number is large, 4.15e+05. This might indicate that there are\n",
       "strong multicollinearity or other numerical problems.\n",
       "\"\"\""
      ]
     },
     "execution_count": 28,
     "metadata": {},
     "output_type": "execute_result"
    }
   ],
   "source": [
    "# Linear regression analysis\n",
    "outcome, predictors = patsy.dmatrices('Q(\"Average Capita Income\") ~ Q(\"Average Median Income\")', final_df)\n",
    "mode = sm.OLS(outcome, predictors)\n",
    "result = mode.fit()\n",
    "result.summary()"
   ]
  },
  {
   "cell_type": "markdown",
   "metadata": {},
   "source": [
    "From the table we could see that the p-value is very small. R-squared resulted to be 0.68, and the variance was small in comparison to the coefficient. We could then conclude that there is a positive linear relationship between these two variables. This trend may explain why both of these variables had no relationship to PSN, as these two variables are so closely related. Knowing this we then combined and recognized average per capita and median household income to be **microeconomic factors**, and recognized GDP to be our **macroeconomic factor**."
   ]
  },
  {
   "cell_type": "markdown",
   "metadata": {},
   "source": [
    "# Ethics & Privacy"
   ]
  },
  {
   "cell_type": "markdown",
   "metadata": {},
   "source": [
    "Our research question seeks to determine a relationship between the number of postsecondary schools and several factors in the economy in the United States. Because the economy as a whole is vast and cannot be pinpointed to one specific variable, the scope of our question is highly limited. The results of our study show that there may be some benefit to building more postsecondary schools, however this does not invalidate the states that currently have fewer numbers of secondary schools and their economies, as states have diverse economic systems that our study does not encompass. \n",
    "\n",
    "Regarding potential misuse of the results, since we only examined the economy and its relation to the number of postsecondary schools, we cannot generalize our findings to determine the effectiveness of a postsecondary education or whether individuals should pursue a secondary education. Our findings are also not meant to belittle those who currently do not have a postsecondary education or boost those who received one. Our study does not examine nor imply this. Our study strictly examines a relationship between the number of postsecondary schools in a state and the respective economy. It is important to note that a potential bias in our study is that we are all students attending a postsecondary institution in the United States. As we are all pursuing a postsecondary education, our results may be more biased towards favoring higher numbers of postsecondary schools positively correlating to the economy. This is a potential bias that may occur and was avoided by examining quantitative data. There is an additional potential bias in having data only derived from the United States, since the impact of postsecondary institutions on other countries' economies may be vastly different.\n",
    "\n",
    "All school location data is open to the public, which has been publicized by the National Center of Education Statistics’(NCES) and Geographic Estimate (EDGE) program. Initial cleaning of data found that street address, institution name, and several other school identifying information were provided in the dataset. To protect school privacy, we only used the information that stated which state each postsecondary resided in.  Additional possible intrusive information that was considered were median household income and per capita personal income. However, upon further inspection there was no identifiable information as the information was averaged across the states."
   ]
  },
  {
   "cell_type": "markdown",
   "metadata": {},
   "source": [
    "# Conclusion & Discussion"
   ]
  },
  {
   "cell_type": "markdown",
   "metadata": {},
   "source": [
    "After performing our analysis, we could only partially support our original hypothesis that PSN has a positive relationship with the economy. In using macro and micro-economic data, the state’s GDP appears to be the only economic measurement that has a positive relationship with PSN. An effect size of 3246.9 was observed and we concluded that there was large relationship between PSN and GDP. However, while it was found that there is a positive relationship between PSN and the macroeconomy (GDP), it should be noted that PSN lacks a correlation with microeconomic measurements such as average capita income. This is likely due to the multiple confounding variables in personal finances. While median household income does give a rough estimate of the economic status of the state, it still hides some information. For example, in some cultures, multiple generations typically live under the same roof which may increase the income per household as multiple people are working. Additionally, the types of jobs available in different states vary which could cap on maximum income. On the opposite side, minimum wage also varies between states which could contribute to the variance in average income between states. \n",
    "\n",
    "Furthermore, the main possible confounding variable that was analyzed was population, and was found to have little to no relationship with PSN. However, population has many other factors such as demographics and the age distribution that make up this overall quantity. For one, age isn’t uniformly distributed in each state--it could skew more on the younger or older side for each state which influences the economy due to the different ways each age group interacts with the economy. Younger individuals contribute less to the economy but play a large role in PSN as increased students looking to attend a post-secondary school could put more demand for these institutions. Taking just the overall population without considering other factors is a limitation of our study that should further be examined. Another limitation of our study is the geographical scope. Since we questioned the relationship between PSN and the economy between the states in America, we cannot confidently conclude that all postsecondary schools worldwide influence all macroeconomics positively since this data can be entirely different in other countries. In order to do so we would include datasets from other countries and take into account the differences in economies, incomes of households, and what constitutes a postsecondary school in the respective country. There is also the role that postsecondary schools take in the United States which is mainly focused on for-profit and business models compared to free or reduced-cost education in other countries. This would introduce another complex layer of how these institutions ultimately economically affect their areas.\n",
    "\n",
    "All in all, while our project was able to suggest that PSN does have a positive relationship with a state’s larger economy, more variables need to be considered to soundly make a conclusive statement. Additionally, because we only determined a correlation we cannot state that PSN causes an increase to a state's GDP. Further studies to examine PSN and the economy would have to consider more factors related education and the economy. These two variables are multilayered and convoluted. Variables such as demographics, industry distribution, institution types, and much more need to be analyzed to make a complete statement regarding the relationship and a possible causality between the two. \n"
   ]
  },
  {
   "cell_type": "markdown",
   "metadata": {},
   "source": [
    "# Team Contributions"
   ]
  },
  {
   "cell_type": "markdown",
   "metadata": {},
   "source": [
    "Enze Ma: Topic Choosing, Data Obtain, Data Cleaning, Data Visualization, Data Analysis, Ethics, Conclusion <br>\n",
    "Shirley Tang: Topic Choosing, Finding Datasets, Edit Data Cleaning, Visualization, & Analysis, Background, Ethics, Maintaining Repo, Video <br>\n",
    "Melina Cruz: Overview, Ethics, Conclusion and Discussion, Video Powerpoint <br>\n",
    "Monika Edejer: Topic Choosing, Overview, Background, Conclusion, Video <br>\n"
   ]
  }
 ],
 "metadata": {
  "kernelspec": {
   "display_name": "Python 3",
   "language": "python",
   "name": "python3"
  },
  "language_info": {
   "codemirror_mode": {
    "name": "ipython",
    "version": 3
   },
   "file_extension": ".py",
   "mimetype": "text/x-python",
   "name": "python",
   "nbconvert_exporter": "python",
   "pygments_lexer": "ipython3",
   "version": "3.7.9"
  }
 },
 "nbformat": 4,
 "nbformat_minor": 4
}
