{
 "cells": [
  {
   "cell_type": "code",
   "execution_count": 1,
   "id": "fbdad924",
   "metadata": {},
   "outputs": [],
   "source": [
    "import numpy as np\n",
    "import pandas as pd\n",
    "import random\n",
    "import os\n",
    "import openai\n",
    "from tqdm import tqdm\n",
    "import re\n",
    "import time\n"
   ]
  },
  {
   "cell_type": "code",
   "execution_count": 2,
   "id": "3ebe105d",
   "metadata": {},
   "outputs": [],
   "source": [
    "def generate_type1_question(seq_len, ques_num):\n",
    "    \"\"\"\n",
    "    seq_len: the length of the sequence (1 0 1 -> 3)\n",
    "    ques_num: the number of questions\n",
    "    \"\"\"\n",
    "    ques_list = []\n",
    "    correct_ans = []\n",
    "    elements = [\"0\", \"1\"]\n",
    "    for _ in range(ques_num):\n",
    "        seq_str = \" \".join(random.choices(elements, k = seq_len))\n",
    "        curr_ques_str = \"Count the number of 1s in the following sequence: \" + seq_str + \"\\nOutput the answer (arabic numerals) directly.\"\n",
    "        ques_list.append(curr_ques_str)\n",
    "        correct_ans.append(str(seq_str.count(\"1\")))\n",
    "    return ques_list, correct_ans"
   ]
  },
  {
   "cell_type": "code",
   "execution_count": 3,
   "id": "1096ab11",
   "metadata": {},
   "outputs": [],
   "source": [
    "def generate_type2_question(seq_len, ques_num):\n",
    "    ques_list = []\n",
    "    correct_ans = []\n",
    "    elements = [\"a\", \"b\", \"c\", \"d\"]\n",
    "    for _ in range(ques_num):\n",
    "        seq_str = \" \".join(random.choices(elements, k = seq_len))\n",
    "        curr_ques_str = \"Reverse the following sequence of characters: \" + seq_str + \"\\nOutput the answer (sequence) directly.\"\n",
    "        ques_list.append(curr_ques_str)\n",
    "        correct_ans.append(seq_str[::-1])\n",
    "    return ques_list, correct_ans"
   ]
  },
  {
   "cell_type": "code",
   "execution_count": 4,
   "id": "b48cfbb7",
   "metadata": {},
   "outputs": [],
   "source": [
    "def generate_palindrome(elements, k):\n",
    "    palindrome = []\n",
    "    for _ in range(k // 2):\n",
    "        element = random.choice(elements)\n",
    "        palindrome.append(element)\n",
    "    reversed_palindrome = list(reversed(palindrome))\n",
    "    if k % 2 == 1:\n",
    "        element = random.choice(elements)\n",
    "        palindrome.append(element)\n",
    "    palindrome.extend(reversed_palindrome)\n",
    "    return palindrome\n",
    "def modify_to_not_palindrome(arr, elements):\n",
    "    \"\"\"\n",
    "    for an array of characters, if it's palindrome, modify one element to make it not to be palindrome.\n",
    "    the type of modified elements are restricted in the array elements.\n",
    "    \n",
    "    arr: input array that stores palindrome like [\"a\", \"b\", \"a\"]\n",
    "    elements: choices of new modified element. In this case [\"a\", \"b\", \"c\", \"d\"]\n",
    "    \"\"\"\n",
    "    while True:\n",
    "        arr_str = \" \".join(arr)\n",
    "        if arr_str != arr_str[::-1]: \n",
    "            return arr\n",
    "            break\n",
    "        index = random.randint(0, len(arr) - 1)\n",
    "        new_element = random.choice(elements)\n",
    "        arr[index] = new_element\n",
    "def generate_type3_question(seq_len, ques_num):\n",
    "    ques_list = []\n",
    "    correct_ans = []\n",
    "    elements = [\"a\", \"b\", \"c\", \"d\"]\n",
    "    for _ in range(ques_num // 2):\n",
    "        palindrome_list = generate_palindrome(elements, k = seq_len)\n",
    "        not_palindrome_list = modify_to_not_palindrome(palindrome_list.copy(), elements)\n",
    "        palindrome_str = \" \".join(palindrome_list)\n",
    "        not_palindrome_str = \" \".join(not_palindrome_list)\n",
    "        yes_ques_str = \"Determine whether the following sequence of characters is a palindrome: \" + palindrome_str + \"\\nOutput the answer (Yes/No) directly.\"\n",
    "        no_ques_str = \"Determine whether the following sequence of characters is a palindrome: \" + not_palindrome_str + \"\\nOutput the answer (Yes/No) directly.\"\n",
    "        ques_list.extend([yes_ques_str, no_ques_str])\n",
    "        correct_ans.extend([\"Yes\", \"No\"])\n",
    "    return ques_list, correct_ans"
   ]
  },
  {
   "cell_type": "code",
   "execution_count": 5,
   "id": "c568cb08",
   "metadata": {},
   "outputs": [],
   "source": [
    "def generate_testing_DataFrame(lower_n, upper_n):\n",
    "    \"\"\"\n",
    "    generate all three types of questions with sequence length from lower_n to upper_n (both inclusive)\n",
    "    (generate 100 questions per type per n)\n",
    "    \n",
    "    return: pd.DataFrame()\n",
    "    \"\"\"\n",
    "    question_list = []\n",
    "    answer_list = []\n",
    "    question_type_list = []\n",
    "    sequence_len = []\n",
    "    for n in range(lower_n, upper_n + 1):\n",
    "        q1, a1 = generate_type1_question(n, 100)\n",
    "        q2, a2 = generate_type2_question(n, 100)\n",
    "        q3, a3 = generate_type3_question(n, 100)\n",
    "        question_list += q1 + q2 + q3\n",
    "        answer_list += a1 + a2 + a3\n",
    "        question_type_list += [1] * 100 + [2] * 100 + [3] * 100\n",
    "        sequence_len += [n] * 300\n",
    "    df = pd.DataFrame()\n",
    "    df['question'] = question_list\n",
    "    df['correct answer'] = answer_list\n",
    "    df['type'] = question_type_list\n",
    "    df['sequence_len'] = sequence_len\n",
    "    return df"
   ]
  },
  {
   "cell_type": "code",
   "execution_count": 6,
   "id": "37467d3f",
   "metadata": {},
   "outputs": [],
   "source": [
    "# get question dataframe\n",
    "testing_df = generate_testing_DataFrame(8, 20)"
   ]
  },
  {
   "cell_type": "code",
   "execution_count": 7,
   "id": "852f46a2",
   "metadata": {},
   "outputs": [],
   "source": [
    "# save file\n",
    "testing_df.to_csv(\"GPT_Benchmark_dataset.csv\")"
   ]
  },
  {
   "cell_type": "code",
   "execution_count": 167,
   "id": "46a92a97",
   "metadata": {},
   "outputs": [
    {
     "name": "stderr",
     "output_type": "stream",
     "text": [
      "\r",
      "  0%|                                                                                          | 0/492 [00:00<?, ?it/s]"
     ]
    },
    {
     "name": "stdout",
     "output_type": "stream",
     "text": [
      "Error communicating with OpenAI: ('Connection aborted.', ConnectionResetError(10054, 'An existing connection was forcibly closed by the remote host', None, 10054, None))\n"
     ]
    },
    {
     "name": "stderr",
     "output_type": "stream",
     "text": [
      " 22%|█████████████████▏                                                              | 106/492 [04:26<04:01,  1.60it/s]"
     ]
    },
    {
     "name": "stdout",
     "output_type": "stream",
     "text": [
      "That model is currently overloaded with other requests. You can retry your request, or contact us through our help center at help.openai.com if the error persists. (Please include the request ID c57a2c3b0bf2adeda4690d5034ea1a0e in your message.)\n"
     ]
    },
    {
     "name": "stderr",
     "output_type": "stream",
     "text": [
      " 34%|██████████████████████████▉                                                     | 166/492 [05:45<03:05,  1.76it/s]"
     ]
    },
    {
     "name": "stdout",
     "output_type": "stream",
     "text": [
      "That model is currently overloaded with other requests. You can retry your request, or contact us through our help center at help.openai.com if the error persists. (Please include the request ID 3806f8b08750d4045ccc42dbc6560290 in your message.)\n"
     ]
    },
    {
     "name": "stderr",
     "output_type": "stream",
     "text": [
      " 37%|█████████████████████████████▊                                                  | 183/492 [06:38<03:45,  1.37it/s]"
     ]
    },
    {
     "name": "stdout",
     "output_type": "stream",
     "text": [
      "That model is currently overloaded with other requests. You can retry your request, or contact us through our help center at help.openai.com if the error persists. (Please include the request ID 5820a746e5c45544f3742ac3a998b397 in your message.)\n"
     ]
    },
    {
     "name": "stderr",
     "output_type": "stream",
     "text": [
      " 50%|████████████████████████████████████████                                        | 246/492 [08:05<02:28,  1.65it/s]"
     ]
    },
    {
     "name": "stdout",
     "output_type": "stream",
     "text": [
      "That model is currently overloaded with other requests. You can retry your request, or contact us through our help center at help.openai.com if the error persists. (Please include the request ID 14a5b5b01008955a9ae024fff297d884 in your message.)\n"
     ]
    },
    {
     "name": "stderr",
     "output_type": "stream",
     "text": [
      " 61%|████████████████████████████████████████████████▊                               | 300/492 [09:47<08:49,  2.76s/it]"
     ]
    },
    {
     "name": "stdout",
     "output_type": "stream",
     "text": [
      "That model is currently overloaded with other requests. You can retry your request, or contact us through our help center at help.openai.com if the error persists. (Please include the request ID fe45913cae954ac0813d0b8da98be99e in your message.)\n"
     ]
    },
    {
     "name": "stderr",
     "output_type": "stream",
     "text": [
      " 79%|███████████████████████████████████████████████████████████████                 | 388/492 [15:08<04:45,  2.75s/it]"
     ]
    },
    {
     "name": "stdout",
     "output_type": "stream",
     "text": [
      "Bad gateway. {\"error\":{\"code\":502,\"message\":\"Bad gateway.\",\"param\":null,\"type\":\"cf_bad_gateway\"}} 502 {'error': {'code': 502, 'message': 'Bad gateway.', 'param': None, 'type': 'cf_bad_gateway'}} {'Date': 'Wed, 24 May 2023 01:44:31 GMT', 'Content-Type': 'application/json', 'Content-Length': '84', 'Connection': 'keep-alive', 'X-Frame-Options': 'SAMEORIGIN', 'Referrer-Policy': 'same-origin', 'Cache-Control': 'private, max-age=0, no-store, no-cache, must-revalidate, post-check=0, pre-check=0', 'Expires': 'Thu, 01 Jan 1970 00:00:01 GMT', 'Server': 'cloudflare', 'CF-RAY': '7cc1d2fbeec50fd9-LAX', 'alt-svc': 'h3=\":443\"; ma=86400, h3-29=\":443\"; ma=86400'}\n"
     ]
    },
    {
     "name": "stderr",
     "output_type": "stream",
     "text": [
      " 81%|████████████████████████████████████████████████████████████████▉               | 399/492 [20:49<05:55,  3.82s/it]"
     ]
    },
    {
     "name": "stdout",
     "output_type": "stream",
     "text": [
      "That model is currently overloaded with other requests. You can retry your request, or contact us through our help center at help.openai.com if the error persists. (Please include the request ID a3248a4c3e26ab30bb5d8d578ba39136 in your message.)\n"
     ]
    },
    {
     "name": "stderr",
     "output_type": "stream",
     "text": [
      " 87%|█████████████████████████████████████████████████████████████████████▌          | 428/492 [21:50<00:35,  1.81it/s]"
     ]
    },
    {
     "name": "stdout",
     "output_type": "stream",
     "text": [
      "That model is currently overloaded with other requests. You can retry your request, or contact us through our help center at help.openai.com if the error persists. (Please include the request ID 4229d8a8a1a3749bbc327f92a602e583 in your message.)\n"
     ]
    },
    {
     "name": "stderr",
     "output_type": "stream",
     "text": [
      " 91%|█████████████████████████████████████████████████████████████████████████▏      | 450/492 [22:43<00:28,  1.45it/s]"
     ]
    },
    {
     "name": "stdout",
     "output_type": "stream",
     "text": [
      "The server had an error while processing your request. Sorry about that!\n"
     ]
    },
    {
     "name": "stderr",
     "output_type": "stream",
     "text": [
      "100%|████████████████████████████████████████████████████████████████████████████████| 492/492 [23:24<00:00,  2.86s/it]\n"
     ]
    }
   ],
   "source": [
    "# testing, get answers from gpt api\n",
    "\n",
    "testing_df = pd.read_csv(\"GPT_Benchmark_dataset.csv\")\n",
    "questions = testing_df[\"question\"].values\n",
    "gpt_answers = []\n",
    "for i in tqdm(range(len(questions))):\n",
    "    try:\n",
    "        responses = openai.ChatCompletion.create(\n",
    "          model=\"gpt-3.5-turbo\",\n",
    "          messages = [{\"role\": \"user\", \"content\": questions[i]}],\n",
    "          temperature=0,\n",
    "          max_tokens=64,\n",
    "        )\n",
    "        resp = responses.choices[0].message.content\n",
    "        gpt_answers.append((i, resp))\n",
    "    except KeyboardInterrupt:\n",
    "        raise KeyboardInterrupt\n",
    "    except Exception as e:\n",
    "        print(e)\n",
    "        time.sleep(10)\n",
    "        responses = openai.ChatCompletion.create(\n",
    "          model=\"gpt-3.5-turbo\",\n",
    "          messages = [{\"role\": \"user\", \"content\": questions[i]}],\n",
    "          temperature=0,\n",
    "          max_tokens=64,\n",
    "        )\n",
    "        resp = responses.choices[0].message.content\n",
    "        gpt_answers.append((i, resp))"
   ]
  },
  {
   "cell_type": "code",
   "execution_count": 227,
   "id": "a82c5938",
   "metadata": {},
   "outputs": [],
   "source": [
    "# since gpt_answer contains tuples like (index, answer), we get the pure answer here\n",
    "pure_answer = [e[1] for e in gpt_answers]"
   ]
  },
  {
   "cell_type": "code",
   "execution_count": 228,
   "id": "cdaf2039",
   "metadata": {},
   "outputs": [],
   "source": [
    "# attach gpt generated answer to the dataframe & save\n",
    "testing_df[\"gpt answer\"] = pure_answer\n",
    "testing_df = testing_df[[\"question\", \"correct answer\", \"type\", \"sequence_len\", \"gpt answer\"]]\n",
    "testing_df.to_csv(\"gpt_turbo.csv\")"
   ]
  },
  {
   "cell_type": "code",
   "execution_count": 5,
   "id": "7a4bb4c1",
   "metadata": {},
   "outputs": [
    {
     "name": "stderr",
     "output_type": "stream",
     "text": [
      "C:\\Users\\yongc\\AppData\\Local\\Temp\\ipykernel_42020\\3540016948.py:4: SettingWithCopyWarning: \n",
      "A value is trying to be set on a copy of a slice from a DataFrame.\n",
      "Try using .loc[row_indexer,col_indexer] = value instead\n",
      "\n",
      "See the caveats in the documentation: https://pandas.pydata.org/pandas-docs/stable/user_guide/indexing.html#returning-a-view-versus-a-copy\n",
      "  type_1_df[\"gpt answer\"] = type_1_df[\"gpt answer\"].apply(lambda x: re.sub(r\"\\D\", \"\", x.replace(\"1s\", \"\")))\n"
     ]
    }
   ],
   "source": [
    "# data cleaning for type 1 question, we only want arabic numerals \n",
    "df = pd.read_csv(\"GPT_Benchmark_dataset_with_gpt3-5turbo_answer.csv\")\n",
    "type_1_df = df[df[\"type\"] == 1]\n",
    "type_1_df[\"gpt answer\"] = type_1_df[\"gpt answer\"].apply(lambda x: re.sub(r\"\\D\", \"\", x.replace(\"1s\", \"\")))\n",
    "resp_type_1 = type_1_df.groupby(\"sequence_len\").apply(lambda x: np.mean(np.array(x[\"correct answer\"].values) == np.array(x[\"gpt answer\"].values)))"
   ]
  },
  {
   "cell_type": "code",
   "execution_count": 6,
   "id": "66c383a7",
   "metadata": {},
   "outputs": [
    {
     "name": "stderr",
     "output_type": "stream",
     "text": [
      "C:\\Users\\yongc\\AppData\\Local\\Temp\\ipykernel_42020\\2403957675.py:3: SettingWithCopyWarning: \n",
      "A value is trying to be set on a copy of a slice from a DataFrame.\n",
      "Try using .loc[row_indexer,col_indexer] = value instead\n",
      "\n",
      "See the caveats in the documentation: https://pandas.pydata.org/pandas-docs/stable/user_guide/indexing.html#returning-a-view-versus-a-copy\n",
      "  type_2_df[\"gpt answer\"] = type_2_df[\"gpt answer\"].apply(lambda x: re.sub(r'[^a-d]', '', x.split(\"reversed is\")[-1]))\n",
      "C:\\Users\\yongc\\AppData\\Local\\Temp\\ipykernel_42020\\2403957675.py:4: SettingWithCopyWarning: \n",
      "A value is trying to be set on a copy of a slice from a DataFrame.\n",
      "Try using .loc[row_indexer,col_indexer] = value instead\n",
      "\n",
      "See the caveats in the documentation: https://pandas.pydata.org/pandas-docs/stable/user_guide/indexing.html#returning-a-view-versus-a-copy\n",
      "  type_2_df[\"correct answer\"] = type_2_df[\"correct answer\"].apply(lambda x: re.sub(r'[^a-d]', '', x))\n"
     ]
    }
   ],
   "source": [
    "# data cleaning for type 2 question, we only want resulting sequence \n",
    "type_2_df = df[df[\"type\"] == 2]\n",
    "type_2_df[\"gpt answer\"] = type_2_df[\"gpt answer\"].apply(lambda x: re.sub(r'[^a-d]', '', x.split(\"reversed is\")[-1]))\n",
    "type_2_df[\"correct answer\"] = type_2_df[\"correct answer\"].apply(lambda x: re.sub(r'[^a-d]', '', x))\n",
    "resp_type_2 = type_2_df.groupby(\"sequence_len\").apply(lambda x: np.mean(np.array(x[\"correct answer\"].values) == np.array(x[\"gpt answer\"].values)))"
   ]
  },
  {
   "cell_type": "code",
   "execution_count": 7,
   "id": "91b7df0c",
   "metadata": {},
   "outputs": [
    {
     "name": "stderr",
     "output_type": "stream",
     "text": [
      "C:\\Users\\yongc\\AppData\\Local\\Temp\\ipykernel_42020\\1009582429.py:8: SettingWithCopyWarning: \n",
      "A value is trying to be set on a copy of a slice from a DataFrame.\n",
      "Try using .loc[row_indexer,col_indexer] = value instead\n",
      "\n",
      "See the caveats in the documentation: https://pandas.pydata.org/pandas-docs/stable/user_guide/indexing.html#returning-a-view-versus-a-copy\n",
      "  type_3_df[\"gpt answer\"] = type_3_df[\"gpt answer\"].apply(lambda x: filter_ans_3(x))\n"
     ]
    }
   ],
   "source": [
    "# data cleaning for type 3 question, we only want \"Yes\"/\"No\"\n",
    "type_3_df = df[df[\"type\"] == 3]\n",
    "def filter_ans_3(x):\n",
    "    if \"Yes\" in x:\n",
    "        return \"Yes\"\n",
    "    else:\n",
    "        return \"No\"\n",
    "type_3_df[\"gpt answer\"] = type_3_df[\"gpt answer\"].apply(lambda x: filter_ans_3(x))     \n",
    "resp_type_3 = type_3_df.groupby(\"sequence_len\").apply(lambda x: np.mean(np.array(x[\"correct answer\"].values) == np.array(x[\"gpt answer\"].values)))"
   ]
  },
  {
   "cell_type": "code",
   "execution_count": 8,
   "id": "4ad53865",
   "metadata": {},
   "outputs": [
    {
     "data": {
      "image/png": "[encoded data removed]",
      "text/plain": [
       "<Figure size 432x288 with 1 Axes>"
      ]
     },
     "metadata": {
      "needs_background": "light"
     },
     "output_type": "display_data"
    }
   ],
   "source": [
    "# plot the trend\n",
    "import matplotlib.pyplot as plt\n",
    "plt.plot(resp_type_1.index, resp_type_1.values, label = \"count 1s\")\n",
    "plt.plot(resp_type_2.index, resp_type_2.values, label = \"reverse string\")\n",
    "plt.plot(resp_type_3.index, resp_type_3.values, label = \"determine palindrome\")\n",
    "plt.xlabel(\"length of sequence\")\n",
    "plt.ylabel(\"task accuracy\")\n",
    "plt.legend()\n",
    "plt.show()"
   ]
  },
  {
   "cell_type": "code",
   "execution_count": 10,
   "id": "4819fd8d",
   "metadata": {},
   "outputs": [
    {
     "data": {
      "text/html": [
       "<div>\n",
       "<style scoped>\n",
       "    .dataframe tbody tr th:only-of-type {\n",
       "        vertical-align: middle;\n",
       "    }\n",
       "\n",
       "    .dataframe tbody tr th {\n",
       "        vertical-align: top;\n",
       "    }\n",
       "\n",
       "    .dataframe thead th {\n",
       "        text-align: right;\n",
       "    }\n",
       "</style>\n",
       "<table border=\"1\" class=\"dataframe\">\n",
       "  <thead>\n",
       "    <tr style=\"text-align: right;\">\n",
       "      <th></th>\n",
       "      <th>count 1s</th>\n",
       "      <th>reverse string</th>\n",
       "      <th>determine palindrome</th>\n",
       "    </tr>\n",
       "    <tr>\n",
       "      <th>sequence_len</th>\n",
       "      <th></th>\n",
       "      <th></th>\n",
       "      <th></th>\n",
       "    </tr>\n",
       "  </thead>\n",
       "  <tbody>\n",
       "    <tr>\n",
       "      <th>8</th>\n",
       "      <td>0.77</td>\n",
       "      <td>0.84</td>\n",
       "      <td>0.83</td>\n",
       "    </tr>\n",
       "    <tr>\n",
       "      <th>9</th>\n",
       "      <td>0.74</td>\n",
       "      <td>0.75</td>\n",
       "      <td>0.70</td>\n",
       "    </tr>\n",
       "    <tr>\n",
       "      <th>10</th>\n",
       "      <td>0.74</td>\n",
       "      <td>0.73</td>\n",
       "      <td>0.64</td>\n",
       "    </tr>\n",
       "    <tr>\n",
       "      <th>11</th>\n",
       "      <td>0.65</td>\n",
       "      <td>0.58</td>\n",
       "      <td>0.60</td>\n",
       "    </tr>\n",
       "    <tr>\n",
       "      <th>12</th>\n",
       "      <td>0.67</td>\n",
       "      <td>0.40</td>\n",
       "      <td>0.60</td>\n",
       "    </tr>\n",
       "    <tr>\n",
       "      <th>13</th>\n",
       "      <td>0.60</td>\n",
       "      <td>0.37</td>\n",
       "      <td>0.57</td>\n",
       "    </tr>\n",
       "    <tr>\n",
       "      <th>14</th>\n",
       "      <td>0.59</td>\n",
       "      <td>0.25</td>\n",
       "      <td>0.51</td>\n",
       "    </tr>\n",
       "    <tr>\n",
       "      <th>15</th>\n",
       "      <td>0.60</td>\n",
       "      <td>0.25</td>\n",
       "      <td>0.55</td>\n",
       "    </tr>\n",
       "    <tr>\n",
       "      <th>16</th>\n",
       "      <td>0.54</td>\n",
       "      <td>0.15</td>\n",
       "      <td>0.52</td>\n",
       "    </tr>\n",
       "    <tr>\n",
       "      <th>17</th>\n",
       "      <td>0.59</td>\n",
       "      <td>0.08</td>\n",
       "      <td>0.51</td>\n",
       "    </tr>\n",
       "    <tr>\n",
       "      <th>18</th>\n",
       "      <td>0.64</td>\n",
       "      <td>0.09</td>\n",
       "      <td>0.52</td>\n",
       "    </tr>\n",
       "    <tr>\n",
       "      <th>19</th>\n",
       "      <td>0.52</td>\n",
       "      <td>0.11</td>\n",
       "      <td>0.53</td>\n",
       "    </tr>\n",
       "    <tr>\n",
       "      <th>20</th>\n",
       "      <td>0.57</td>\n",
       "      <td>0.04</td>\n",
       "      <td>0.54</td>\n",
       "    </tr>\n",
       "  </tbody>\n",
       "</table>\n",
       "</div>"
      ],
      "text/plain": [
       "              count 1s  reverse string  determine palindrome\n",
       "sequence_len                                                \n",
       "8                 0.77            0.84                  0.83\n",
       "9                 0.74            0.75                  0.70\n",
       "10                0.74            0.73                  0.64\n",
       "11                0.65            0.58                  0.60\n",
       "12                0.67            0.40                  0.60\n",
       "13                0.60            0.37                  0.57\n",
       "14                0.59            0.25                  0.51\n",
       "15                0.60            0.25                  0.55\n",
       "16                0.54            0.15                  0.52\n",
       "17                0.59            0.08                  0.51\n",
       "18                0.64            0.09                  0.52\n",
       "19                0.52            0.11                  0.53\n",
       "20                0.57            0.04                  0.54"
      ]
     },
     "execution_count": 10,
     "metadata": {},
     "output_type": "execute_result"
    }
   ],
   "source": [
    "# plot the table\n",
    "numer_results_df = pd.concat([resp_type_1, resp_type_2, resp_type_3], axis=1)\n",
    "numer_results_df.rename(columns = {0: \"count 1s\", 1: \"reverse string\", 2: \"determine palindrome\"})"
   ]
  },
  {
   "cell_type": "code",
   "execution_count": 25,
   "id": "c4a8b050",
   "metadata": {},
   "outputs": [
    {
     "data": {
      "image/png": "[encoded data removed]",
      "text/plain": [
       "<Figure size 432x288 with 1 Axes>"
      ]
     },
     "metadata": {
      "needs_background": "light"
     },
     "output_type": "display_data"
    }
   ],
   "source": [
    "from sklearn import metrics\n",
    "macro_f1 = type_3_df.groupby(\"sequence_len\").apply(lambda x: metrics.f1_score(x[\"correct answer\"], x[\"gpt answer\"], average='macro'))\n",
    "percent_No = type_3_df.groupby(\"sequence_len\").apply(lambda x: np.mean(x[\"gpt answer\"] == \"No\"))\n",
    "plt.plot(macro_f1.index, macro_f1.values, label = \"macro f-1 score\")\n",
    "plt.plot(percent_No.index, percent_No.values, label = \"percentage of answer 'No'\")\n",
    "plt.plot(resp_type_3.index, resp_type_3.values, label = \"accuracy\")\n",
    "plt.xlabel(\"length of sequence\")\n",
    "plt.title(\"summary for determine palindrome test\")\n",
    "plt.legend()\n",
    "plt.show()\n",
    "#f1_score_micro = metrics.f1_score(targets, outputs, average='micro')\n",
    "#f1_score_macro = metrics.f1_score(targets, outputs, average='macro')"
   ]
  },
  {
   "cell_type": "code",
   "execution_count": 24,
   "id": "32089d88",
   "metadata": {},
   "outputs": [
    {
     "data": {
      "text/html": [
       "<div>\n",
       "<style scoped>\n",
       "    .dataframe tbody tr th:only-of-type {\n",
       "        vertical-align: middle;\n",
       "    }\n",
       "\n",
       "    .dataframe tbody tr th {\n",
       "        vertical-align: top;\n",
       "    }\n",
       "\n",
       "    .dataframe thead th {\n",
       "        text-align: right;\n",
       "    }\n",
       "</style>\n",
       "<table border=\"1\" class=\"dataframe\">\n",
       "  <thead>\n",
       "    <tr style=\"text-align: right;\">\n",
       "      <th></th>\n",
       "      <th>macro f1</th>\n",
       "      <th>percentage of 'No'</th>\n",
       "      <th>accuracy</th>\n",
       "    </tr>\n",
       "    <tr>\n",
       "      <th>sequence_len</th>\n",
       "      <th></th>\n",
       "      <th></th>\n",
       "      <th></th>\n",
       "    </tr>\n",
       "  </thead>\n",
       "  <tbody>\n",
       "    <tr>\n",
       "      <th>8</th>\n",
       "      <td>0.827918</td>\n",
       "      <td>0.61</td>\n",
       "      <td>0.83</td>\n",
       "    </tr>\n",
       "    <tr>\n",
       "      <th>9</th>\n",
       "      <td>0.670330</td>\n",
       "      <td>0.80</td>\n",
       "      <td>0.70</td>\n",
       "    </tr>\n",
       "    <tr>\n",
       "      <th>10</th>\n",
       "      <td>0.609375</td>\n",
       "      <td>0.78</td>\n",
       "      <td>0.64</td>\n",
       "    </tr>\n",
       "    <tr>\n",
       "      <th>11</th>\n",
       "      <td>0.532492</td>\n",
       "      <td>0.88</td>\n",
       "      <td>0.60</td>\n",
       "    </tr>\n",
       "    <tr>\n",
       "      <th>12</th>\n",
       "      <td>0.523810</td>\n",
       "      <td>0.90</td>\n",
       "      <td>0.60</td>\n",
       "    </tr>\n",
       "    <tr>\n",
       "      <th>13</th>\n",
       "      <td>0.483111</td>\n",
       "      <td>0.91</td>\n",
       "      <td>0.57</td>\n",
       "    </tr>\n",
       "    <tr>\n",
       "      <th>14</th>\n",
       "      <td>0.385580</td>\n",
       "      <td>0.95</td>\n",
       "      <td>0.51</td>\n",
       "    </tr>\n",
       "    <tr>\n",
       "      <th>15</th>\n",
       "      <td>0.435737</td>\n",
       "      <td>0.95</td>\n",
       "      <td>0.55</td>\n",
       "    </tr>\n",
       "    <tr>\n",
       "      <th>16</th>\n",
       "      <td>0.376299</td>\n",
       "      <td>0.98</td>\n",
       "      <td>0.52</td>\n",
       "    </tr>\n",
       "    <tr>\n",
       "      <th>17</th>\n",
       "      <td>0.371069</td>\n",
       "      <td>0.97</td>\n",
       "      <td>0.51</td>\n",
       "    </tr>\n",
       "    <tr>\n",
       "      <th>18</th>\n",
       "      <td>0.376299</td>\n",
       "      <td>0.98</td>\n",
       "      <td>0.52</td>\n",
       "    </tr>\n",
       "    <tr>\n",
       "      <th>19</th>\n",
       "      <td>0.396740</td>\n",
       "      <td>0.97</td>\n",
       "      <td>0.53</td>\n",
       "    </tr>\n",
       "    <tr>\n",
       "      <th>20</th>\n",
       "      <td>0.416540</td>\n",
       "      <td>0.96</td>\n",
       "      <td>0.54</td>\n",
       "    </tr>\n",
       "  </tbody>\n",
       "</table>\n",
       "</div>"
      ],
      "text/plain": [
       "              macro f1  percentage of 'No'  accuracy\n",
       "sequence_len                                        \n",
       "8             0.827918                0.61      0.83\n",
       "9             0.670330                0.80      0.70\n",
       "10            0.609375                0.78      0.64\n",
       "11            0.532492                0.88      0.60\n",
       "12            0.523810                0.90      0.60\n",
       "13            0.483111                0.91      0.57\n",
       "14            0.385580                0.95      0.51\n",
       "15            0.435737                0.95      0.55\n",
       "16            0.376299                0.98      0.52\n",
       "17            0.371069                0.97      0.51\n",
       "18            0.376299                0.98      0.52\n",
       "19            0.396740                0.97      0.53\n",
       "20            0.416540                0.96      0.54"
      ]
     },
     "execution_count": 24,
     "metadata": {},
     "output_type": "execute_result"
    }
   ],
   "source": [
    "type_3_summary = pd.concat([macro_f1, percent_No, resp_type_3], axis=1)\n",
    "type_3_summary.rename(columns = {0: \"macro f1\", 1: \"percentage of 'No'\", 2: \"accuracy\"})"
   ]
  },
  {
   "cell_type": "code",
   "execution_count": 8,
   "id": "ea67afce",
   "metadata": {},
   "outputs": [
    {
     "name": "stdout",
     "output_type": "stream",
     "text": [
      "0.019047619047619046\n"
     ]
    }
   ],
   "source": [
    "def calculate_probability(sequence):\n",
    "  probability = 1\n",
    "  letters = {'o': 2, 'y': 4, 'v': 4}\n",
    "  for letter in sequence:\n",
    "    probability *= letters[letter] / sum(letters.values())\n",
    "    letters[letter] -= 1\n",
    "  return probability\n",
    "\n",
    "print(calculate_probability('yovy')) # 0.064"
   ]
  },
  {
   "cell_type": "code",
   "execution_count": 19,
   "id": "783ae18e",
   "metadata": {},
   "outputs": [
    {
     "name": "stdout",
     "output_type": "stream",
     "text": [
      "-0.5\n"
     ]
    }
   ],
   "source": [
    "# Solve 0 = 5*y + 51 - 6 for y\n",
    "y = (51 - 6) / 5\n",
    "\n",
    "# Let w = 17 + y\n",
    "w = 17 + y\n",
    "\n",
    "# Solve 0 = -3*b + w*b - 20 for b\n",
    "b = (20 + 3) / (w - 3)\n",
    "\n",
    "# Solve b = -0*c - 2*c for c\n",
    "c = -b / 2\n",
    "\n",
    "# Return the answer to the original problem\n",
    "print(c)"
   ]
  },
  {
   "cell_type": "code",
   "execution_count": 20,
   "id": "67e2ed94",
   "metadata": {},
   "outputs": [
    {
     "name": "stdout",
     "output_type": "stream",
     "text": [
      "No\n"
     ]
    }
   ],
   "source": []
  },
  {
   "cell_type": "code",
   "execution_count": null,
   "id": "5ee6585c",
   "metadata": {},
   "outputs": [],
   "source": []
  }
 ],
 "metadata": {
  "kernelspec": {
   "display_name": "Python 3 (ipykernel)",
   "language": "python",
   "name": "python3"
  },
  "language_info": {
   "codemirror_mode": {
    "name": "ipython",
    "version": 3
   },
   "file_extension": ".py",
   "mimetype": "text/x-python",
   "name": "python",
   "nbconvert_exporter": "python",
   "pygments_lexer": "ipython3",
   "version": "3.9.12"
  }
 },
 "nbformat": 4,
 "nbformat_minor": 5
}
