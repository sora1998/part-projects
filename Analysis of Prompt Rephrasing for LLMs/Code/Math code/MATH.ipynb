{
 "cells": [
  {
   "cell_type": "code",
   "execution_count": 2,
   "id": "e769ae87",
   "metadata": {},
   "outputs": [],
   "source": [
    "import pandas as pd\n",
    "import numpy as np"
   ]
  },
  {
   "cell_type": "code",
   "execution_count": 2,
   "id": "5bb65993",
   "metadata": {},
   "outputs": [],
   "source": [
    "math = pd.read_csv(\"math_zero_shot_CoT.csv\")"
   ]
  },
  {
   "cell_type": "code",
   "execution_count": 313,
   "id": "cb6d8a2c",
   "metadata": {},
   "outputs": [
    {
     "name": "stdout",
     "output_type": "stream",
     "text": [
      "The line containing $\\mathbf{a}$ and $\\mathbf{b}$ can be parameterized by\n",
      "\\[\\mathbf{c} = \\mathbf{a} + t (\\mathbf{b} - \\mathbf{a}) = \\begin{pmatrix} -2 + 3t \\\\ 5 - 2t \\end{pmatrix}.\\]Since $\\mathbf{b}$ bisects the angle between $\\mathbf{a}$ and $\\mathbf{c},$ the angle between $\\mathbf{a}$ and $\\mathbf{b}$ must be equal to the angle between $\\mathbf{b}$ and $\\mathbf{c}.$  Thus,\n",
      "\\[\\frac{\\mathbf{a} \\cdot \\mathbf{b}}{\\|\\mathbf{a}\\| \\|\\mathbf{b}\\|} = \\frac{\\mathbf{b} \\cdot \\mathbf{c}}{\\|\\mathbf{b}\\| \\|\\mathbf{c}\\|}.\\]Then $\\frac{\\mathbf{a} \\cdot \\mathbf{b}}{\\|\\mathbf{a}\\|} = \\frac{\\mathbf{b} \\cdot \\mathbf{c}}{\\|\\mathbf{c}\\|},$ so\n",
      "\\[\\frac{\\begin{pmatrix} -2 \\\\ 5 \\end{pmatrix} \\cdot \\begin{pmatrix} 1 \\\\ 3 \\end{pmatrix}}{\\left\\| \\begin{pmatrix} -2 \\\\ 5 \\end{pmatrix} \\right\\|} = \\frac{\\begin{pmatrix} 1 \\\\ 3 \\end{pmatrix} \\cdot \\begin{pmatrix} -2 + 3t \\\\ 5 - 2t \\end{pmatrix}}{\\left\\| \\begin{pmatrix} -2 + 3t \\\\ 5 - 2t \\end{pmatrix} \\right\\|}.\\]Hence,\n",
      "\\[\\frac{13}{\\sqrt{29}} = \\frac{13 - 3t}{\\sqrt{(-2 + 3t)^2 + (5 - 2t)^2}}.\\]Then $13 \\sqrt{13t^2 - 32t + 29} = (13 - 3t) \\sqrt{29}.$  Squaring both sides, we get\n",
      "\\[169 (13t^2 - 32t + 29) = 29 (13 - 3t)^2.\\]This simplifies to $1936t^2 - 3146t = 0,$ which factors as $242t(8t - 13) = 0.$  The root $t = 0$ corresponds to the vector $\\mathbf{a},$ so $t = \\frac{13}{8},$ and\n",
      "\\[\\mathbf{c} = \\begin{pmatrix} -2 + 3 \\cdot \\frac{13}{8} \\\\ 5 - 2 \\cdot \\frac{13}{8} \\end{pmatrix} = \\boxed{\\begin{pmatrix} 23/8 \\\\ 7/4 \\end{pmatrix}}.\\]\n",
      "\n",
      " $\\mathbf{c} = \\frac{1}{2} (\\mathbf{a} - \\mathbf{b}).$\n"
     ]
    }
   ],
   "source": [
    "i = 299\n",
    "print(math[\"solution\"][i])\n",
    "print(\"\")\n",
    "print(math[\"zero-shot CoT reasoning answer\"][i])"
   ]
  },
  {
   "cell_type": "code",
   "execution_count": 316,
   "id": "0057340d",
   "metadata": {},
   "outputs": [],
   "source": [
    "correct = [0, 0, 1, 1, 0, 0, 0, 1, 0, 0, 1, 1, 0, 1, 1, 0, 1, 0, 0, 1, 0, 1, 0, 0, 0, 0, 1, 0, 1, 1, 0, 0, 0, 0, 1, 1, 0, 1, 0, 1, 0, 1, 0, 0, 1, 0, 0, 0, 1, 0, 0, 0, 1, 0, 1, 1, 0, 1, 1, 0, 1, 1, 0, 0, 1, 0, 1, 1, 1, 0, 1, 0, 0, 1, 0, 0, 0, 1, 1, 0, 0, 0, 0, 1, 0, 0, 1, 0, 0, 1, 0, 0, 0, 0, 0, 0, 0, 0, 0, 0, 0, 0, 0, 0, 0, 1, 0, 0, 0, 0, 0, 1, 0, 0, 0, 0, 1, 0, 1, 0, 0, 0, 0, 1, 0, 0, 0, 0, 0, 0, 0, 0, 0, 0, 0, 0, 1, 0, 1, 1, 0, 0, 0, 0, 0, 0, 0, 0, 0, 0, 0, 0, 0, 0, 1, 1, 0, 0, 1, 0, 0, 0, 0, 1, 0, 0, 0, 0, 0, 1, 0, 1, 1, 0, 0, 0, 0, 0, 0, 0, 0, 0, 0, 0, 0, 0, 0, 0, 0, 0, 1, 0, 0, 0, 0, 0, 0, 0, 1, 0, 0, 0, 0, 0, 0, 0, 0, 0, 0, 0, 0, 0, 0, 0, 1, 0, 0, 0, 0, 0, 0, 0, 0, 0, 0, 0, 0, 0, 0, 0, 0, 0, 0, 0, 0, 0, 0, 0, 0, 0, 1, 1, 0, 0, 0, 0, 0, 0, 0, 0, 0, 0, 0, 0, 0, 0, 0, 0, 0, 0, 0, 1, 1, 0, 0, 0, 0, 0, 0, 0, 0, 0, 0, 0, 0, 0, 0, 0, 0, 0, 0, 0, 0, 0, 0, 0, 0, 0, 0, 0, 0, 0, 0, 0, 0, 0, 0, 0, 0, 0]"
   ]
  },
  {
   "cell_type": "code",
   "execution_count": 317,
   "id": "5790f988",
   "metadata": {},
   "outputs": [
    {
     "data": {
      "text/plain": [
       "300"
      ]
     },
     "execution_count": 317,
     "metadata": {},
     "output_type": "execute_result"
    }
   ],
   "source": [
    "len(correct)"
   ]
  },
  {
   "cell_type": "code",
   "execution_count": 320,
   "id": "f180f29c",
   "metadata": {},
   "outputs": [
    {
     "data": {
      "text/plain": [
       "0.2"
      ]
     },
     "execution_count": 320,
     "metadata": {},
     "output_type": "execute_result"
    }
   ],
   "source": [
    "np.mean(correct)"
   ]
  },
  {
   "cell_type": "code",
   "execution_count": 321,
   "id": "c5fbbe9e",
   "metadata": {},
   "outputs": [
    {
     "data": {
      "text/plain": [
       "0.4166666666666667"
      ]
     },
     "execution_count": 321,
     "metadata": {},
     "output_type": "execute_result"
    }
   ],
   "source": [
    "np.mean(correct[:60])"
   ]
  },
  {
   "cell_type": "code",
   "execution_count": 322,
   "id": "de063f74",
   "metadata": {},
   "outputs": [
    {
     "data": {
      "text/plain": [
       "0.2711864406779661"
      ]
     },
     "execution_count": 322,
     "metadata": {},
     "output_type": "execute_result"
    }
   ],
   "source": [
    "np.mean(correct[61:120])"
   ]
  },
  {
   "cell_type": "code",
   "execution_count": 323,
   "id": "e5b106f3",
   "metadata": {},
   "outputs": [
    {
     "data": {
      "text/plain": [
       "0.1864406779661017"
      ]
     },
     "execution_count": 323,
     "metadata": {},
     "output_type": "execute_result"
    }
   ],
   "source": [
    "np.mean(correct[121:180])"
   ]
  },
  {
   "cell_type": "code",
   "execution_count": 325,
   "id": "5d9309a6",
   "metadata": {},
   "outputs": [
    {
     "data": {
      "text/plain": [
       "0.05084745762711865"
      ]
     },
     "execution_count": 325,
     "metadata": {},
     "output_type": "execute_result"
    }
   ],
   "source": [
    "np.mean(correct[181:240])"
   ]
  },
  {
   "cell_type": "code",
   "execution_count": 326,
   "id": "626a00fe",
   "metadata": {},
   "outputs": [
    {
     "data": {
      "text/plain": [
       "0.05084745762711865"
      ]
     },
     "execution_count": 326,
     "metadata": {},
     "output_type": "execute_result"
    }
   ],
   "source": [
    "np.mean(correct[241:])"
   ]
  },
  {
   "cell_type": "code",
   "execution_count": 3,
   "id": "e39646b8",
   "metadata": {},
   "outputs": [],
   "source": [
    "math = pd.read_csv(\"math_zero_shot_CoT2.csv\")"
   ]
  },
  {
   "cell_type": "code",
   "execution_count": 5,
   "id": "33b40cfb",
   "metadata": {},
   "outputs": [],
   "source": [
    "problems = math[\"problem\"]"
   ]
  },
  {
   "cell_type": "code",
   "execution_count": 7,
   "id": "3b1a74e3",
   "metadata": {},
   "outputs": [],
   "source": [
    "gpt_answers = []"
   ]
  },
  {
   "cell_type": "code",
   "execution_count": 11,
   "id": "dab3c9f7",
   "metadata": {},
   "outputs": [
    {
     "name": "stderr",
     "output_type": "stream",
     "text": [
      "100%|██████████████████████████████████████████████████████████████████████████████████| 77/77 [05:13<00:00,  4.07s/it]\n"
     ]
    }
   ],
   "source": [
    "from tqdm import tqdm\n",
    "import os\n",
    "import openai\n",
    "\n",
    "openai.api_key = os.getenv(\"OPENAI_API_KEY\")\n",
    "\n",
    "for i in tqdm(range(223, len(problems))):\n",
    "    try:\n",
    "        responses = openai.ChatCompletion.create(\n",
    "          model=\"gpt-3.5-turbo\",\n",
    "          messages = [{\"role\": \"user\", \"content\": problems[i] + \" Output the answer directly. Do not contain any words other than the answer.\"}],\n",
    "          temperature=0,\n",
    "          max_tokens=256,\n",
    "        )\n",
    "        resp = responses.choices[0].message.content\n",
    "        gpt_answers.append((i, resp))\n",
    "    except KeyboardInterrupt:\n",
    "        raise KeyboardInterrupt\n",
    "    except Exception as e:\n",
    "        print(e)\n",
    "        time.sleep(10)\n",
    "        responses = openai.ChatCompletion.create(\n",
    "          model=\"gpt-3.5-turbo\",\n",
    "          messages = [{\"role\": \"user\", \"content\": problems[i]} + \" Output the answer directly. Do not contain any words other than the answer.\"],\n",
    "          temperature=0,\n",
    "          max_tokens=256,\n",
    "        )\n",
    "        resp = responses.choices[0].message.content\n",
    "        gpt_answers.append((i, resp))"
   ]
  },
  {
   "cell_type": "code",
   "execution_count": 10,
   "id": "88e62ec6",
   "metadata": {},
   "outputs": [
    {
     "data": {
      "text/plain": [
       "223"
      ]
     },
     "execution_count": 10,
     "metadata": {},
     "output_type": "execute_result"
    }
   ],
   "source": [
    "len(gpt_answers)"
   ]
  },
  {
   "cell_type": "code",
   "execution_count": 17,
   "id": "065264ee",
   "metadata": {},
   "outputs": [
    {
     "data": {
      "text/html": [
       "<div>\n",
       "<style scoped>\n",
       "    .dataframe tbody tr th:only-of-type {\n",
       "        vertical-align: middle;\n",
       "    }\n",
       "\n",
       "    .dataframe tbody tr th {\n",
       "        vertical-align: top;\n",
       "    }\n",
       "\n",
       "    .dataframe thead th {\n",
       "        text-align: right;\n",
       "    }\n",
       "</style>\n",
       "<table border=\"1\" class=\"dataframe\">\n",
       "  <thead>\n",
       "    <tr style=\"text-align: right;\">\n",
       "      <th></th>\n",
       "      <th>Unnamed: 0</th>\n",
       "      <th>Unnamed: 0.1</th>\n",
       "      <th>problem</th>\n",
       "      <th>level</th>\n",
       "      <th>type</th>\n",
       "      <th>solution</th>\n",
       "      <th>zero-shot CoT reasoning chain</th>\n",
       "      <th>zero-shot CoT reasoning answer</th>\n",
       "      <th>GPT</th>\n",
       "    </tr>\n",
       "  </thead>\n",
       "  <tbody>\n",
       "    <tr>\n",
       "      <th>0</th>\n",
       "      <td>0</td>\n",
       "      <td>1697</td>\n",
       "      <td>If $\\frac 25 = \\frac A{60} = \\frac {60}B$, wha...</td>\n",
       "      <td>Level 1</td>\n",
       "      <td>Algebra</td>\n",
       "      <td>The equations allow us to solve for both $A$ a...</td>\n",
       "      <td>\\n$\\frac 25 = \\frac A{60} = \\frac {60}B$\\n$\\fr...</td>\n",
       "      <td>$\\frac {60}{B} + B$</td>\n",
       "      <td>$\\boxed{150}$</td>\n",
       "    </tr>\n",
       "    <tr>\n",
       "      <th>1</th>\n",
       "      <td>1</td>\n",
       "      <td>3702</td>\n",
       "      <td>Compute $\\dbinom{5}{3}$.</td>\n",
       "      <td>Level 1</td>\n",
       "      <td>Counting &amp; Probability</td>\n",
       "      <td>$$\\dbinom{5}{3} = \\dfrac{5!}{3!2!}=\\dfrac{(5\\t...</td>\n",
       "      <td>\\n\\nWe want to choose three objects from a set...</td>\n",
       "      <td>$\\dbinom{5}{3} = 60$.</td>\n",
       "      <td>10</td>\n",
       "    </tr>\n",
       "    <tr>\n",
       "      <th>2</th>\n",
       "      <td>2</td>\n",
       "      <td>11170</td>\n",
       "      <td>Simplify the fraction $\\frac{27}{30}$.</td>\n",
       "      <td>Level 1</td>\n",
       "      <td>Prealgebra</td>\n",
       "      <td>Since 27 and 30 have a common factor of 3, we ...</td>\n",
       "      <td>\\n\\nThe first step is to find the greatest com...</td>\n",
       "      <td>$\\frac{9}{10}$.</td>\n",
       "      <td>$\\frac{9}{10}$</td>\n",
       "    </tr>\n",
       "    <tr>\n",
       "      <th>3</th>\n",
       "      <td>3</td>\n",
       "      <td>10808</td>\n",
       "      <td>Compute $\\left(\\sqrt{97969}\\right)^2$.</td>\n",
       "      <td>Level 1</td>\n",
       "      <td>Prealgebra</td>\n",
       "      <td>For any nonnegative number $n$, the value of $...</td>\n",
       "      <td>\\n\\n$\\sqrt{97969} = \\sqrt{97969} \\cdot \\sqrt{9...</td>\n",
       "      <td>$\\sqrt{97969} \\cdot \\sqrt{97969} = 97969$.</td>\n",
       "      <td>9597921761</td>\n",
       "    </tr>\n",
       "    <tr>\n",
       "      <th>4</th>\n",
       "      <td>4</td>\n",
       "      <td>6597</td>\n",
       "      <td>Find all the integer roots of\\n\\[x^4 + 5x^3 + ...</td>\n",
       "      <td>Level 1</td>\n",
       "      <td>Intermediate Algebra</td>\n",
       "      <td>By the Integer Root Theorem, the possible inte...</td>\n",
       "      <td>\\n\\nFirst, we can factor out an $x$:\\n\\[x(x^3 ...</td>\n",
       "      <td>-1,-2,-7.</td>\n",
       "      <td>By the Integer Root Theorem, any integer root ...</td>\n",
       "    </tr>\n",
       "    <tr>\n",
       "      <th>...</th>\n",
       "      <td>...</td>\n",
       "      <td>...</td>\n",
       "      <td>...</td>\n",
       "      <td>...</td>\n",
       "      <td>...</td>\n",
       "      <td>...</td>\n",
       "      <td>...</td>\n",
       "      <td>...</td>\n",
       "      <td>...</td>\n",
       "    </tr>\n",
       "    <tr>\n",
       "      <th>295</th>\n",
       "      <td>295</td>\n",
       "      <td>8795</td>\n",
       "      <td>If $\\frac{a}{b}$ is the probability that the r...</td>\n",
       "      <td>Level 5</td>\n",
       "      <td>Number Theory</td>\n",
       "      <td>There are 2009 positive integers less than 201...</td>\n",
       "      <td>\\nFirst, we need to find the probability that ...</td>\n",
       "      <td>4.</td>\n",
       "      <td>The only way for the reciprocal of an odd inte...</td>\n",
       "    </tr>\n",
       "    <tr>\n",
       "      <th>296</th>\n",
       "      <td>296</td>\n",
       "      <td>7842</td>\n",
       "      <td>Given that $13^{-1} \\equiv 29 \\pmod{47}$, find...</td>\n",
       "      <td>Level 5</td>\n",
       "      <td>Number Theory</td>\n",
       "      <td>Note that $34 \\equiv -13 \\pmod{47}$.  Hence, \\...</td>\n",
       "      <td>\\n$13^{-1} \\equiv 29 \\pmod{47}$ means that $13...</td>\n",
       "      <td>29.</td>\n",
       "      <td>$34^{-1} \\equiv (2\\cdot 17)^{-1} \\equiv 17^{-1...</td>\n",
       "    </tr>\n",
       "    <tr>\n",
       "      <th>297</th>\n",
       "      <td>297</td>\n",
       "      <td>7100</td>\n",
       "      <td>Let\\n\\[x^8 + 98x^4 + 1 = p(x) q(x),\\]where $p(...</td>\n",
       "      <td>Level 5</td>\n",
       "      <td>Intermediate Algebra</td>\n",
       "      <td>In order to factor the polynomial, we will try...</td>\n",
       "      <td>\\n$x^8 + 98x^4 + 1 = p(x) q(x)$\\n$x^8 + 98x^4 ...</td>\n",
       "      <td>$a + e + b + f + ae + c + g + af + be + d + h...</td>\n",
       "      <td>We have that\\n\\[x^8 + 98x^4 + 1 = (x^4 + ax^3 ...</td>\n",
       "    </tr>\n",
       "    <tr>\n",
       "      <th>298</th>\n",
       "      <td>298</td>\n",
       "      <td>9235</td>\n",
       "      <td>A number is called a visible factor number if ...</td>\n",
       "      <td>Level 5</td>\n",
       "      <td>Prealgebra</td>\n",
       "      <td>To begin with, note that all the numbers in qu...</td>\n",
       "      <td>\\nThe number must be divisible by 1 and 2, so ...</td>\n",
       "      <td>0.</td>\n",
       "      <td>6</td>\n",
       "    </tr>\n",
       "    <tr>\n",
       "      <th>299</th>\n",
       "      <td>299</td>\n",
       "      <td>12289</td>\n",
       "      <td>Let $\\mathbf{a} = \\begin{pmatrix} -2 \\\\ 5 \\end...</td>\n",
       "      <td>Level 5</td>\n",
       "      <td>Precalculus</td>\n",
       "      <td>The line containing $\\mathbf{a}$ and $\\mathbf{...</td>\n",
       "      <td>First, we need to find a vector $\\mathbf{c}$ ...</td>\n",
       "      <td>$\\mathbf{c} = \\frac{1}{2} \\mathbf{b} = \\begin...</td>\n",
       "      <td>$\\boxed{\\begin{pmatrix} -1 \\\\ 4 \\end{pmatrix}}$</td>\n",
       "    </tr>\n",
       "  </tbody>\n",
       "</table>\n",
       "<p>300 rows × 9 columns</p>\n",
       "</div>"
      ],
      "text/plain": [
       "     Unnamed: 0  Unnamed: 0.1  \\\n",
       "0             0          1697   \n",
       "1             1          3702   \n",
       "2             2         11170   \n",
       "3             3         10808   \n",
       "4             4          6597   \n",
       "..          ...           ...   \n",
       "295         295          8795   \n",
       "296         296          7842   \n",
       "297         297          7100   \n",
       "298         298          9235   \n",
       "299         299         12289   \n",
       "\n",
       "                                               problem    level  \\\n",
       "0    If $\\frac 25 = \\frac A{60} = \\frac {60}B$, wha...  Level 1   \n",
       "1                             Compute $\\dbinom{5}{3}$.  Level 1   \n",
       "2               Simplify the fraction $\\frac{27}{30}$.  Level 1   \n",
       "3               Compute $\\left(\\sqrt{97969}\\right)^2$.  Level 1   \n",
       "4    Find all the integer roots of\\n\\[x^4 + 5x^3 + ...  Level 1   \n",
       "..                                                 ...      ...   \n",
       "295  If $\\frac{a}{b}$ is the probability that the r...  Level 5   \n",
       "296  Given that $13^{-1} \\equiv 29 \\pmod{47}$, find...  Level 5   \n",
       "297  Let\\n\\[x^8 + 98x^4 + 1 = p(x) q(x),\\]where $p(...  Level 5   \n",
       "298  A number is called a visible factor number if ...  Level 5   \n",
       "299  Let $\\mathbf{a} = \\begin{pmatrix} -2 \\\\ 5 \\end...  Level 5   \n",
       "\n",
       "                       type  \\\n",
       "0                   Algebra   \n",
       "1    Counting & Probability   \n",
       "2                Prealgebra   \n",
       "3                Prealgebra   \n",
       "4      Intermediate Algebra   \n",
       "..                      ...   \n",
       "295           Number Theory   \n",
       "296           Number Theory   \n",
       "297    Intermediate Algebra   \n",
       "298              Prealgebra   \n",
       "299             Precalculus   \n",
       "\n",
       "                                              solution  \\\n",
       "0    The equations allow us to solve for both $A$ a...   \n",
       "1    $$\\dbinom{5}{3} = \\dfrac{5!}{3!2!}=\\dfrac{(5\\t...   \n",
       "2    Since 27 and 30 have a common factor of 3, we ...   \n",
       "3    For any nonnegative number $n$, the value of $...   \n",
       "4    By the Integer Root Theorem, the possible inte...   \n",
       "..                                                 ...   \n",
       "295  There are 2009 positive integers less than 201...   \n",
       "296  Note that $34 \\equiv -13 \\pmod{47}$.  Hence, \\...   \n",
       "297  In order to factor the polynomial, we will try...   \n",
       "298  To begin with, note that all the numbers in qu...   \n",
       "299  The line containing $\\mathbf{a}$ and $\\mathbf{...   \n",
       "\n",
       "                         zero-shot CoT reasoning chain  \\\n",
       "0    \\n$\\frac 25 = \\frac A{60} = \\frac {60}B$\\n$\\fr...   \n",
       "1    \\n\\nWe want to choose three objects from a set...   \n",
       "2    \\n\\nThe first step is to find the greatest com...   \n",
       "3    \\n\\n$\\sqrt{97969} = \\sqrt{97969} \\cdot \\sqrt{9...   \n",
       "4    \\n\\nFirst, we can factor out an $x$:\\n\\[x(x^3 ...   \n",
       "..                                                 ...   \n",
       "295  \\nFirst, we need to find the probability that ...   \n",
       "296  \\n$13^{-1} \\equiv 29 \\pmod{47}$ means that $13...   \n",
       "297  \\n$x^8 + 98x^4 + 1 = p(x) q(x)$\\n$x^8 + 98x^4 ...   \n",
       "298  \\nThe number must be divisible by 1 and 2, so ...   \n",
       "299   First, we need to find a vector $\\mathbf{c}$ ...   \n",
       "\n",
       "                        zero-shot CoT reasoning answer  \\\n",
       "0                                  $\\frac {60}{B} + B$   \n",
       "1                                $\\dbinom{5}{3} = 60$.   \n",
       "2                                      $\\frac{9}{10}$.   \n",
       "3           $\\sqrt{97969} \\cdot \\sqrt{97969} = 97969$.   \n",
       "4                                            -1,-2,-7.   \n",
       "..                                                 ...   \n",
       "295                                                 4.   \n",
       "296                                                29.   \n",
       "297   $a + e + b + f + ae + c + g + af + be + d + h...   \n",
       "298                                                 0.   \n",
       "299   $\\mathbf{c} = \\frac{1}{2} \\mathbf{b} = \\begin...   \n",
       "\n",
       "                                                   GPT  \n",
       "0                                        $\\boxed{150}$  \n",
       "1                                                   10  \n",
       "2                                       $\\frac{9}{10}$  \n",
       "3                                           9597921761  \n",
       "4    By the Integer Root Theorem, any integer root ...  \n",
       "..                                                 ...  \n",
       "295  The only way for the reciprocal of an odd inte...  \n",
       "296  $34^{-1} \\equiv (2\\cdot 17)^{-1} \\equiv 17^{-1...  \n",
       "297  We have that\\n\\[x^8 + 98x^4 + 1 = (x^4 + ax^3 ...  \n",
       "298                                                  6  \n",
       "299    $\\boxed{\\begin{pmatrix} -1 \\\\ 4 \\end{pmatrix}}$  \n",
       "\n",
       "[300 rows x 9 columns]"
      ]
     },
     "execution_count": 17,
     "metadata": {},
     "output_type": "execute_result"
    }
   ],
   "source": [
    "math[\"GPT\"] = [e[1] for e in gpt_answers]\n",
    "math"
   ]
  },
  {
   "cell_type": "code",
   "execution_count": 57,
   "id": "a00b0aee",
   "metadata": {},
   "outputs": [
    {
     "name": "stdout",
     "output_type": "stream",
     "text": [
      "Let $O$ be the point $(0,0)$, let $A$ be the point $(a,0)$, and let $B$ be the point $(0,b)$. Then the given system of equations implies that $OA=OB=AB$, so $OAB$ is an equilateral triangle. Let $P$ be the point $(x,y)$, and let $Q$ be the point $(a-x,b-y)$. Then $PQ=AB$, so $PQ=OA+OB=2a$. By the triangle inequality, $OP+PQ+OQ\\ge 2OA+2OB=2AB$, so $OP+OQ\\ge 2a-PQ=2a-2a=0$. Thus, $P$ and $Q$ lie on opposite sides of the line $y=-x$. Since $P$ and $Q$ also lie in the rectangle $0\\le x<a$, $0\\le y<b$, it follows that $P$ and $Q$ must lie in the shaded region below:\n",
      "\n",
      "[asy]\n",
      "size(5cm);\n",
      "draw((0,0)--(4,0)--(4,3)--(0,3)--cycle);\n",
      "draw\n",
      "---------------\n",
      "Expanding, we get\n",
      "\\[b^2 + x^2 = a^2 - 2ax + x^2 + b^2 - 2by + y^2.\\]Hence,\n",
      "\\[a^2 + y^2 = 2ax + 2by.\\]Note that\n",
      "\\[2by > 2y^2 \\ge y^2,\\]so $2by - y^2 \\ge 0.$  Since $2by - y^2 = a^2 - 2ax,$ $a^2 - 2ax \\ge 0,$ or\n",
      "\\[a^2 \\ge 2ax.\\]Since $a > 0,$ $a \\ge 2x,$ so\n",
      "\\[x \\le \\frac{a}{2}.\\]Now,\n",
      "\\[a^2 \\le a^2 + y^2 = b^2 + x^2 \\le b^2 + \\frac{a^2}{4},\\]so\n",
      "\\[\\frac{3}{4} a^2 \\le b^2.\\]Hence,\n",
      "\\[\\left( \\frac{a}{b} \\right)^2 \\le \\frac{4}{3}.\\]Equality occurs when $a = 1,$ $b = \\frac{\\sqrt{3}}{2},$ $x = \\frac{1}{2},$ and $y = 0,$ so $\\rho^2 = \\boxed{\\frac{4}{3}}.$\n",
      "\n",
      "Geometrically, the given conditions state that the points $(0,0),$ $(a,y),$ and $(x,b)$ form an equilateral triangle in the first quadrant.  Accordingly, can you find a geometric solution?\n",
      "\n",
      "[asy]\n",
      "unitsize(3 cm);\n",
      "\n",
      "pair O, A, B;\n",
      "\n",
      "O = (0,0);\n",
      "A = dir(20);\n",
      "B = dir(80);\n",
      "\n",
      "draw((-0.2,0)--(1,0));\n",
      "draw((0,-0.2)--(0,1));\n",
      "draw(O--A--B--cycle);\n",
      "\n",
      "label(\"$(a,y)$\", A, E);\n",
      "label(\"$(x,b)$\", B, N);\n",
      "label(\"$(0,0)$\", O, SW);\n",
      "[/asy]\n",
      "##############\n",
      "Let $x = \\frac{a}{b},$ $y = \\frac{b}{c},$ and $z = \\frac{c}{a}.$  Then $xyz = 1,$ and\n",
      "\\[x + y + z = 7 \\quad \\text{and} \\quad \\frac{1}{x} + \\frac{1}{y} + \\frac{1}{z} = 9.\\]Then\n",
      "\\begin{align*}\n",
      "\\frac{a^3}{b^3} + \\frac{b^3}{c^3} + \\frac{c^3}{a^3} &= x^3 + y^3 + z^3 \\\\\n",
      "&= (x + y + z)(x^2 + y^2 + z^2 - xy - xz - yz) \\\\\n",
      "&= 7[(x + y + z)^2 - 3(xy + xz + yz)] \\\\\n",
      "&= 7(49 - 3 \\cdot 9) \\\\\n",
      "&= \\boxed{280}.\n",
      "\\end{align*}\n",
      "---------------\n",
      "Let $x = \\frac{a}{b},$ $y = \\frac{b}{c},$ and $z = \\frac{c}{a}.$  Then $x + y + z = 7$ and $\\frac{1}{x} + \\frac{1}{y} + \\frac{1}{z} = 9.$  Also,\n",
      "\\[xyz = \\frac{a}{b} \\cdot \\frac{b}{c} \\cdot \\frac{c}{a} = 1,\\]so $xy + xz + yz = 9.$\n",
      "\n",
      "We want to compute $x^3 + y^3 + z^3.$  Recall the factorization\n",
      "\\[x^3 + y^3 + z^3 - 3xyz = (x + y + z)(x^2 + y^2 + z^2 - xy - xz - yz).\\]Squaring the equation $x + y + z = 7,$ we get\n",
      "\\[x^2 + y^2 + z^2 + 2(xy + xz + yz) = 49.\\]Then\n",
      "\\[x^2 + y^2 + z^2 - xy - xz - yz = 49 - 3(xy + xz + yz) = 49 - 3 \\cdot 9 = 22.\\]Hence,\n",
      "\\[x^3 + y^3 + z^3 = 7 \\cdot 22 + 3 = \\boxed{157}.\\]\n",
      "##############\n",
      "$23$\n",
      "---------------\n",
      "Recall that, by definition,  $531n \\equiv 1067n \\pmod{24}$ means that $531n-1067n$ is divisible by 24. In other words,  $$\\frac{1067n-531n}{24} = \\frac{536n}{24}=\\frac{67n}{3}$$must be an integer. Since $67$ and $3$ are relatively prime, $n$ must be a multiple of $3$, the smallest of which is $\\boxed{3}$.\n",
      "##############\n",
      "$4\\sqrt{2}$\n",
      "---------------\n",
      "We can write\n",
      "\\begin{align*}\n",
      "f(x) &= x + \\frac{x}{x^2 + 1} + \\frac{x(x + 4)}{x^2 + 2} + \\frac{2(x + 2)}{x(x^2 + 2)} \\\\\n",
      "&= \\frac{x(x^2 + 1) + x}{x^2 + 1} + \\frac{x^2 (x + 4)}{x(x^2 + 2)} + \\frac{2(x + 2)}{x(x^2 + 2)} \\\\\n",
      "&= \\frac{x^3 + 2x}{x^2 + 1} + \\frac{x^3 + 4x^2 + 2x + 4}{x(x^2 + 2)} \\\\\n",
      "&= \\frac{x(x^2 + 2)}{x^2 + 1} + \\frac{4x^2 + 4}{x(x^2 + 2)} + \\frac{x(x^2 + 2)}{x(x^2 + 2)} \\\\\n",
      "&= \\frac{x(x^2 + 2)}{x^2 + 1} + 4 \\cdot \\frac{x^2 + 1}{x(x^2 + 2)} + 1.\n",
      "\\end{align*}By AM-GM,\n",
      "\\[\\frac{x(x^2 + 2)}{x^2 + 1} + 4 \\cdot \\frac{x^2 + 1}{x(x^2 + 2)} \\ge 2 \\sqrt{\\frac{x(x^2 + 2)}{x^2 + 1} \\cdot 4 \\cdot \\frac{x^2 + 1}{x(x^2 + 2)}} = 4,\\]so $f(x) \\ge 5.$\n",
      "\n",
      "Equality occurs when\n",
      "\\[\\frac{x(x^2 + 2)}{x^2 + 1} = 2,\\]or $x(x^2 + 2) = 2x^2 + 2.$  This simplifies to $x^3 - 2x^2 + 2x - 2 = 0.$\n",
      "\n",
      "Let $g(x) = x^3 - 2x^2 + 2x - 2.$  Since $g(1) = -1$ and $g(2) = 2,$ there exists a root of $g(x) = 0$ between 1 and 2.  In particular, $g(x) = 0$ has a positive root.\n",
      "\n",
      "Therefore, the minimum value of $f(x)$ for $x > 0$ is $\\boxed{5}.$\n",
      "##############\n",
      "Taking the magnitude of both sides, we get\n",
      "\\[\\|(\\mathbf{a} \\times \\mathbf{b}) \\times \\mathbf{c}\\| = \\frac{1}{3} \\|\\mathbf{a}\\| \\|\\mathbf{b}\\| \\|\\mathbf{c}\\|.\\]Then\n",
      "\\[\\|\\mathbf{a} \\times \\mathbf{b}\\| \\|\\mathbf{c}\\| = \\frac{1}{3} \\|\\mathbf{a}\\| \\|\\mathbf{b}\\| \\|\\mathbf{c}\\|.\\]Since $\\mathbf{a},$ $\\mathbf{b},$ and $\\mathbf{c}$ are nonzero and no two are parallel, $\\|\\mathbf{a} \\times \\mathbf{b}\\| = \\|\\mathbf{a}\\| \\|\\mathbf{b}\\| \\sin \\theta.$  Hence,\n",
      "\\[\\|\\mathbf{a}\\| \\|\\mathbf{b}\\| \\sin \\theta \\|\\mathbf{c}\\| = \\frac{1}{3} \\|\\mathbf{a}\\| \\|\\mathbf{b}\\| \\\n",
      "---------------\n",
      "By the vector triple product, for any vectors $\\mathbf{p},$ $\\mathbf{q},$ and $\\mathbf{r},$\n",
      "\\[\\mathbf{p} \\times (\\mathbf{q} \\times \\mathbf{r}) = (\\mathbf{p} \\cdot \\mathbf{r}) \\mathbf{q} - (\\mathbf{p} \\cdot \\mathbf{q}) \\mathbf{r}.\\]Thus, $(\\mathbf{a} \\times \\mathbf{b}) \\times \\mathbf{c} = -\\mathbf{c} \\times (\\mathbf{a} \\times \\mathbf{b}) =  - (\\mathbf{b} \\cdot \\mathbf{c}) \\mathbf{a} + (\\mathbf{a} \\cdot \\mathbf{c}) \\mathbf{b}.$  Hence,\n",
      "\\[(\\mathbf{a} \\cdot \\mathbf{c}) \\mathbf{b} - (\\mathbf{b} \\cdot \\mathbf{c}) \\mathbf{a} = \\frac{1}{3} \\|\\mathbf{b}\\| \\|\\mathbf{c}\\| \\mathbf{a}.\\]Then\n",
      "\\[(\\mathbf{a} \\cdot \\mathbf{c}) \\mathbf{b} = \\left( \\mathbf{b} \\cdot \\mathbf{c} + \\frac{1}{3} \\|\\mathbf{b}\\| \\|\\mathbf{c}\\| \\right) \\mathbf{a}.\\]Since the vectors $\\mathbf{a}$ and $\\mathbf{b}$ are not parallel, the only way that the equation above can hold is if both sides are equal to the zero vector.  Hence,\n",
      "\\[\\mathbf{b} \\cdot \\mathbf{c} + \\frac{1}{3} \\|\\mathbf{b}\\| \\|\\mathbf{c}\\| = 0.\\]Since $\\mathbf{b} \\cdot \\mathbf{c} = \\|\\mathbf{b}\\| \\|\\mathbf{c}\\| \\cos \\theta,$\n",
      "\\[\\|\\mathbf{b}\\| \\|\\mathbf{c}\\| \\cos \\theta + \\frac{1}{3} \\|\\mathbf{b}\\| \\|\\mathbf{c}\\| = 0.\\]Since $\\mathbf{b}$ and $\\mathbf{c}$ are nonzero, it follows that $\\cos \\theta = -\\frac{1}{3}.$  Then\n",
      "\\[\\sin \\theta = \\sqrt{1 - \\cos^2 \\theta} = \\boxed{\\frac{2 \\sqrt{2}}{3}}.\\]\n",
      "##############\n",
      "The only way for the reciprocal of an odd integer to have a terminating decimal is if it is of the form $\\frac{1}{2^a5^b}$ for some nonnegative integers $a$ and $b$. Since the integer is odd, $a$ must be 0, so we just need to count the number of odd integers less than 2010 that are divisible by a power of 5. There are $\\left\\lfloor\\frac{2010}{5}\\right\\rfloor=402$ that are divisible by 5, $\\left\\lfloor\\frac{2010}{25}\\right\\rfloor=80$ that are divisible by 25, and $\\left\\lfloor\\frac{2010}{125}\\right\\rfloor=16$ that are divisible by 125. However, we have overcounted the integers that are divisible by both 5 and 125, of which there are $\\left\\lfloor\\frac{2010}{625}\\right\\rfloor=3$. Therefore, there are $402+80+16-3=495$ odd integers less than 2010 whose reciprocals have terminating decimals, and the probability is $\\frac{495}{1004}\n",
      "---------------\n",
      "There are 2009 positive integers less than 2010, of which 1005 are odd. If $\\frac{1}{n}$ is equal to a terminating decimal, then $n$ can only be divisible by 2 and 5. However, since we have the added restriction that $n$ is odd, $n$ must be a power of 5. There are five powers of 5 less than 2010. \\begin{align*}\n",
      "5^0 &= 1 \\\\\n",
      "5^1 &= 5 \\\\\n",
      "5^2 &= 25 \\\\\n",
      "5^3 &= 125 \\\\\n",
      "5^4 &= 625\n",
      "\\end{align*} Note that $5^5 = 3125$. Since there are five odd integers that satisfy our desired condition, the desired probability is $\\frac{5}{1005} = \\frac{1}{201}$. This is in simplest terms, so our answer is $1+201 = \\boxed{202}$.\n",
      "##############\n",
      "$34^{-1} \\equiv (2\\cdot 17)^{-1} \\equiv 17^{-1} \\cdot 2^{-1} \\equiv 17^{-1} \\cdot 24 \\equiv \\boxed{31} \\pmod{47}$.\n",
      "---------------\n",
      "Note that $34 \\equiv -13 \\pmod{47}$.  Hence, \\begin{align*}\n",
      "34^{-1} &\\equiv (-13)^{-1} \\\\\n",
      "&\\equiv (-1)^{-1} \\cdot 13^{-1} \\\\\n",
      "&\\equiv (-1) \\cdot 29 \\\\\n",
      "&\\equiv \\boxed{18} \\pmod{47}.\n",
      "\\end{align*}\n",
      "##############\n",
      "We have that\n",
      "\\[x^8 + 98x^4 + 1 = (x^4 + ax^3 + bx^2 + ax + 1)(x^4 - ax^3 + bx^2 - ax + 1)\\]for some integers $a$ and $b.$  Then\n",
      "\\begin{align*}\n",
      "p(1) + q(1) &= (1 + a + b + a + 1) + (1 - a + b - a + 1) \\\\\n",
      "&= 4 + 2b.\n",
      "\\end{align*}Since $x^8 + 98x^4 + 1$ is an even function, $x = 1$ is a root.  Hence,\n",
      "\\[p(1) + q(1) = \\boxed{4}.\\]\n",
      "---------------\n",
      "In order to factor the polynomial, we will try to solve the equation $x^8 + 98x^4 + 1 = 0.$  First, we can divide both sides by $x^4,$ to get $x^4 + 98 + \\frac{1}{x^4} = 0,$ so\n",
      "\\[x^4 + \\frac{1}{x^4} = -98.\\]Then\n",
      "\\[x^4 + 2 + \\frac{1}{x^4} = -96,\\]which we can write as $\\left( x^2 + \\frac{1}{x^2} \\right)^2 = -96.$  Hence,\n",
      "\\[x^2 + \\frac{1}{x^2} = \\pm 4i \\sqrt{6}.\\]Then\n",
      "\\[x^2 - 2 + \\frac{1}{x^2} = -2 \\pm 4i \\sqrt{6},\\]which we can write as\n",
      "\\[\\left( x - \\frac{1}{x} \\right)^2 = -2 \\pm 4i \\sqrt{6}.\\]To work with this equation, we will find the square roots of $-2 \\pm 4i \\sqrt{6}.$\n",
      "\n",
      "Assume that $\\sqrt{-2 + 4i \\sqrt{6}}$ is of the form $a + b.$  Squaring, we get\n",
      "\\[-2 + 4i \\sqrt{6} = a^2 + 2ab + b^2.\\]We set $a^2 + b^2 = -2$ and $2ab = 4i \\sqrt{6},$ so $ab = 2i \\sqrt{6}.$  Then $a^2 b^2 = -24,$ so $a^2$ and $b^2$ are the roots of the quadratic\n",
      "\\[t^2 + 2t - 24 = 0,\\]which factors as $(t - 4)(t + 6) = 0.$  Hence, $a^2$ and $b^2$ are 4 and $-6$ in some order, which means $a$ and $b$ are $\\pm 2$ and $\\pm i \\sqrt{6}$ in some order.\n",
      "\n",
      "We can check that\n",
      "\\[(2 + i \\sqrt{6})^2 = 4 + 4i \\sqrt{6} - 6 = -2 + 4i \\sqrt{6}.\\]Similarly,\n",
      "\\begin{align*}\n",
      "(-2 - i \\sqrt{6})^2 &= -2 + 4i \\sqrt{6}, \\\\\n",
      "(2 - i \\sqrt{6})^2 &= -2 - 4i \\sqrt{6}, \\\\\n",
      "(-2 + i \\sqrt{6})^2 &= -2 - 4i \\sqrt{6}.\n",
      "\\end{align*}Thus,\n",
      "\\[x - \\frac{1}{x} = \\pm 2 \\pm i \\sqrt{6}.\\]If\n",
      "\\[x - \\frac{1}{x} = 2 + i \\sqrt{6},\\]then\n",
      "\\[x - \\frac{1}{x} - 2 = i \\sqrt{6}.\\]Squaring both sides, we get\n",
      "\\[x^2 - 4x + 2 + \\frac{4}{x} + \\frac{1}{x^2} = -6,\\]so\n",
      "\\[x^2 - 4x + 8 + \\frac{4}{x} + \\frac{1}{x^2} = 0.\\]This simplifies to $x^4 - 4x^3 + 8x^2 + 4x + 1.$\n",
      "\n",
      "Similarly,\n",
      "\\[x - \\frac{1}{x} = -2 + i \\sqrt{6}\\]leads to $x^4 + 4x^3 + 8x^2 - 4x + 1.$  Thus,\n",
      "\\[x^8 + 98x^4 + 1 = (x^4 + 4x^3 + 8x^2 - 4x + 1)(x^4 - 4x^3 + 8x^2 + 4x + 1).\\]Evaluating each factor at $x = 1,$ the final answer is $(1 + 4 + 8 - 4 + 1) + (1 - 4 + 8 + 4 + 1) = \\boxed{20}.$\n",
      "##############\n",
      "6\n",
      "---------------\n",
      "To begin with, note that all the numbers in question have a 1 in the hundreds place, and every number is divisible by 1, so we do not need to check it.  So we need to see under what circumstances the number is divisible by its tens and units digits.\n",
      "\n",
      "Let the three-digit number be $\\overline{1TU}.$  We can then divide into cases, based on the digit $T.$\n",
      "\n",
      "Case 1: $T = 0$.\n",
      "\n",
      "We are looking for three-digit numbers of the form $\\overline{10U}$ that are divisible by $U,$ or where $U = 0.$  If $\\overline{10U}$ is divisible by $U,$ then 100 is divisible by $U.$   Thus, the possible values of $U$ are 0, 1, 2, 4, and 5.\n",
      "\n",
      "Case 2: $T = 1$.\n",
      "\n",
      "We are looking for three-digit numbers of the form $\\overline{11U}$ that are divisible by $U,$ or where $U = 0.$  If $\\overline{11U}$ is divisible by $U,$ then 110 is divisible by $U.$   Thus, the possible values of $U$ are 0, 1, 2, and 5.\n",
      "\n",
      "Case 3: $T = 2$.\n",
      "\n",
      "We are looking for three-digit numbers of the form $\\overline{12U}$ that are divisible by $U,$ or where $U = 0.$  If $\\overline{12U}$ is divisible by $U,$ then 120 is divisible by $U.$   Also, $\\overline{12U}$ must be divisible by 2, which means $U$ is even.  Thus, the possible values of $U$ are 0, 2, 4, 6, and 8.\n",
      "\n",
      "Case 4: $T = 3$.\n",
      "\n",
      "We are looking for three-digit numbers of the form $\\overline{13U}$ that are divisible by $U,$ or where $U = 0.$  If $\\overline{13U}$ is divisible by $U,$ then 130 is divisible by $U.$   Also, $\\overline{13U}$ must be divisible by 3.  Thus, the possible values of $U$ are 2 and 5.\n",
      "\n",
      "Case 5: $T = 4$.\n",
      "\n",
      "We are looking for three-digit numbers of the form $\\overline{14U}$ that are divisible by $U,$ or where $U = 0.$  If $\\overline{14U}$ is divisible by $U,$ then 140 is divisible by $U.$   Also, $\\overline{14U}$ must be divisible by 4.  Thus, the possible values of $U$ are 0 and 4.\n",
      "\n",
      "Case 6: $T = 5$.\n",
      "\n",
      "Since the three-digit number must be between 100 and 150, the only number in this case is 150.\n",
      "\n",
      "Adding up the possibilities gives us $\\boxed{19}$ possible three-digit numbers.\n",
      "\n",
      "$\\begin{matrix}\n",
      "100 & 101 & 102 & & 104 & 105 \\\\\n",
      "110 & 111 & 112 & & & 115 \\\\\n",
      "120 & & 122 & & 124 & & 126 & & 128 \\\\\n",
      "& & 132 & & & 135 \\\\\n",
      "140 & & & & 144 \\\\\n",
      "150\n",
      "\\end{matrix}$\n",
      "##############\n",
      "$\\boxed{\\begin{pmatrix} -1 \\\\ 4 \\end{pmatrix}}$\n",
      "---------------\n",
      "The line containing $\\mathbf{a}$ and $\\mathbf{b}$ can be parameterized by\n",
      "\\[\\mathbf{c} = \\mathbf{a} + t (\\mathbf{b} - \\mathbf{a}) = \\begin{pmatrix} -2 + 3t \\\\ 5 - 2t \\end{pmatrix}.\\]Since $\\mathbf{b}$ bisects the angle between $\\mathbf{a}$ and $\\mathbf{c},$ the angle between $\\mathbf{a}$ and $\\mathbf{b}$ must be equal to the angle between $\\mathbf{b}$ and $\\mathbf{c}.$  Thus,\n",
      "\\[\\frac{\\mathbf{a} \\cdot \\mathbf{b}}{\\|\\mathbf{a}\\| \\|\\mathbf{b}\\|} = \\frac{\\mathbf{b} \\cdot \\mathbf{c}}{\\|\\mathbf{b}\\| \\|\\mathbf{c}\\|}.\\]Then $\\frac{\\mathbf{a} \\cdot \\mathbf{b}}{\\|\\mathbf{a}\\|} = \\frac{\\mathbf{b} \\cdot \\mathbf{c}}{\\|\\mathbf{c}\\|},$ so\n",
      "\\[\\frac{\\begin{pmatrix} -2 \\\\ 5 \\end{pmatrix} \\cdot \\begin{pmatrix} 1 \\\\ 3 \\end{pmatrix}}{\\left\\| \\begin{pmatrix} -2 \\\\ 5 \\end{pmatrix} \\right\\|} = \\frac{\\begin{pmatrix} 1 \\\\ 3 \\end{pmatrix} \\cdot \\begin{pmatrix} -2 + 3t \\\\ 5 - 2t \\end{pmatrix}}{\\left\\| \\begin{pmatrix} -2 + 3t \\\\ 5 - 2t \\end{pmatrix} \\right\\|}.\\]Hence,\n",
      "\\[\\frac{13}{\\sqrt{29}} = \\frac{13 - 3t}{\\sqrt{(-2 + 3t)^2 + (5 - 2t)^2}}.\\]Then $13 \\sqrt{13t^2 - 32t + 29} = (13 - 3t) \\sqrt{29}.$  Squaring both sides, we get\n",
      "\\[169 (13t^2 - 32t + 29) = 29 (13 - 3t)^2.\\]This simplifies to $1936t^2 - 3146t = 0,$ which factors as $242t(8t - 13) = 0.$  The root $t = 0$ corresponds to the vector $\\mathbf{a},$ so $t = \\frac{13}{8},$ and\n",
      "\\[\\mathbf{c} = \\begin{pmatrix} -2 + 3 \\cdot \\frac{13}{8} \\\\ 5 - 2 \\cdot \\frac{13}{8} \\end{pmatrix} = \\boxed{\\begin{pmatrix} 23/8 \\\\ 7/4 \\end{pmatrix}}.\\]\n",
      "##############\n"
     ]
    }
   ],
   "source": [
    "i = 29\n",
    "for i in range(i * 10, i * 10 + 10):\n",
    "    print(math[\"GPT\"].iloc[i])\n",
    "    print(\"---------------\")\n",
    "    print(math[\"solution\"].iloc[i])\n",
    "    print(\"##############\")"
   ]
  },
  {
   "cell_type": "code",
   "execution_count": 63,
   "id": "921fbab3",
   "metadata": {},
   "outputs": [],
   "source": [
    "correct = [0, 1, 1, 0, 0, 1, 0, 1, 0, 0, 1, 1, 0, 1, 1, 1, 1, 1, 1, 0, 1, 0, 0, 0, 0, 1, 0, 0, 1, 1, 0, 1, 1, 1, 0, 1, 0, 1, 0, 1, 0, 0, 1, 0, 1, 0, 0, 1, 1, 0, 0, 0, 0, 1, 1, 1, 0, 0, 1, 0, 0, 1, 0, 0, 0, 0, 1, 1, 0, 1, 0, 0, 1, 0, 0, 0, 1, 1, 1, 0, 0, 0, 1, 0, 0, 0, 0, 0, 0, 0, 1, 0, 0, 0, 1, 1, 0, 1, 0, 0, 0, 0, 0, 0, 1, 1, 0, 0, 0, 1, 0, 0, 1, 1, 0, 0, 0, 1, 0, 0, 0, 0, 0, 0, 1, 0, 0, 1, 1, 0, 0, 0, 0, 0, 0, 0, 1, 0, 1, 0, 1, 0, 0, 0, 0, 0, 0, 1, 0, 0, 0, 1, 0, 0, 1, 1, 0, 0, 1, 0, 0, 1, 0, 0, 1, 1, 0, 0, 1, 0, 0, 0, 1, 1, 0, 1, 1, 0, 0, 1, 0, 1, 0, 0, 0, 0, 1, 0, 0, 1, 0, 0, 0, 0, 0, 0, 1, 0, 1, 1, 1, 0, 0, 0, 0, 0, 0, 0, 1, 0, 0, 0, 0, 0, 0, 1, 1, 0, 1, 0, 0, 0, 0, 0, 0, 0, 0, 0, 1, 0, 0, 0, 0, 0, 0, 0, 1, 1, 0, 0, 0, 0, 0, 0, 0, 0, 0, 0, 0, 0, 0, 0, 0, 0, 0, 1, 0, 0, 0, 0, 0, 0, 0, 0, 0, 0, 0, 0, 0, 0, 0, 0, 0, 0, 0, 0, 1, 1, 0, 0, 0, 0, 0, 0, 1, 0, 1, 0, 0, 0, 0, 0, 0, 0, 0, 0, 0, 1, 1, 0]"
   ]
  },
  {
   "cell_type": "code",
   "execution_count": 81,
   "id": "df4ade31",
   "metadata": {},
   "outputs": [
    {
     "data": {
      "text/plain": [
       "type\n",
       "Algebra                   0.314286\n",
       "Counting & Probability    0.370370\n",
       "Geometry                  0.250000\n",
       "Intermediate Algebra      0.173913\n",
       "Number Theory             0.210526\n",
       "Prealgebra                0.442623\n",
       "Precalculus               0.263158\n",
       "Name: correct, dtype: float64"
      ]
     },
     "execution_count": 81,
     "metadata": {},
     "output_type": "execute_result"
    }
   ],
   "source": [
    "math[\"correct\"] = correct\n",
    "math[math[\"correct\"] == 1].groupby(\"type\").count()[\"correct\"] / math.groupby(\"type\").count()[\"correct\"]"
   ]
  },
  {
   "cell_type": "code",
   "execution_count": 84,
   "id": "25c9556e",
   "metadata": {},
   "outputs": [
    {
     "data": {
      "image/png": "[encoded data removed]",
      "text/plain": [
       "<Figure size 720x432 with 1 Axes>"
      ]
     },
     "metadata": {
      "needs_background": "light"
     },
     "output_type": "display_data"
    }
   ],
   "source": [
    "type_arr = [\"level 1\", \"level 2\", \"level 3\", \"level 4\", \"level 5\"]\n",
    "acc = [41.70, 21.70, 18.60, 5, 5]\n",
    "acc2 = [50, 32.67, 33.33, 23.33, 11.67]\n",
    "\n",
    "from matplotlib import pyplot as plt\n",
    "fig = plt.figure(figsize=(10,6))\n",
    "x = np.arange(len(type_arr))\n",
    "bar_width = 0.35\n",
    "plt.bar(x, np.array(acc) / 100, width=bar_width, color = \"orange\", label='Without CoT')\n",
    "plt.bar(x + bar_width, np.array(acc2) / 100, width=bar_width, color = \"skyblue\", label='With CoT')\n",
    "plt.xticks(x + bar_width/2, type_arr)\n",
    "plt.xlabel(\"Difficulty Levels\")\n",
    "plt.legend()\n",
    "plt.ylabel(\"Accuracy\")\n",
    "plt.title(\"Accuracy Distribution for Different Levels of Difficulty\")\n",
    "plt.show()"
   ]
  },
  {
   "cell_type": "code",
   "execution_count": 88,
   "id": "ada8371d",
   "metadata": {},
   "outputs": [
    {
     "data": {
      "image/png": "[encoded data removed]",
      "text/plain": [
       "<Figure size 720x432 with 1 Axes>"
      ]
     },
     "metadata": {
      "needs_background": "light"
     },
     "output_type": "display_data"
    }
   ],
   "source": [
    "acc2 = [32.2, 21.05, 37.03, 26.31, 25]\n",
    "type_arr = [\"Algebra\", \"Number Theory\", \"Probability\", \"Precalculus\", \"Geometry\"]\n",
    "acc = [25.42, 15.79, 11.11, 10.53, 10]\n",
    "from matplotlib import pyplot as plt\n",
    "fig = plt.figure(figsize=(10,6))\n",
    "x = np.arange(len(type_arr))\n",
    "bar_width = 0.35\n",
    "plt.bar(x, np.array(acc) / 100, width=bar_width, color = \"orange\", label='Without CoT')\n",
    "plt.bar(x + bar_width, np.array(acc2) / 100, width=bar_width, color = \"skyblue\", label='With CoT')\n",
    "plt.xticks(x + bar_width/2, type_arr)\n",
    "plt.xlabel(\"Question categories\")\n",
    "plt.legend()\n",
    "plt.ylabel(\"Accuracy\")\n",
    "plt.title(\"Accuracy Distribution for Different Problem Topics\")\n",
    "plt.show()"
   ]
  },
  {
   "cell_type": "code",
   "execution_count": 93,
   "id": "0b440927",
   "metadata": {},
   "outputs": [
    {
     "data": {
      "text/html": [
       "<div>\n",
       "<style scoped>\n",
       "    .dataframe tbody tr th:only-of-type {\n",
       "        vertical-align: middle;\n",
       "    }\n",
       "\n",
       "    .dataframe tbody tr th {\n",
       "        vertical-align: top;\n",
       "    }\n",
       "\n",
       "    .dataframe thead th {\n",
       "        text-align: right;\n",
       "    }\n",
       "</style>\n",
       "<table border=\"1\" class=\"dataframe\">\n",
       "  <thead>\n",
       "    <tr style=\"text-align: right;\">\n",
       "      <th></th>\n",
       "      <th>Unnamed: 0</th>\n",
       "      <th>Unnamed: 0.1</th>\n",
       "      <th>problem</th>\n",
       "      <th>level</th>\n",
       "      <th>solution</th>\n",
       "      <th>zero-shot CoT reasoning chain</th>\n",
       "      <th>zero-shot CoT reasoning answer</th>\n",
       "      <th>GPT</th>\n",
       "      <th>correct</th>\n",
       "    </tr>\n",
       "    <tr>\n",
       "      <th>type</th>\n",
       "      <th></th>\n",
       "      <th></th>\n",
       "      <th></th>\n",
       "      <th></th>\n",
       "      <th></th>\n",
       "      <th></th>\n",
       "      <th></th>\n",
       "      <th></th>\n",
       "      <th></th>\n",
       "    </tr>\n",
       "  </thead>\n",
       "  <tbody>\n",
       "    <tr>\n",
       "      <th>Algebra</th>\n",
       "      <td>48</td>\n",
       "      <td>48</td>\n",
       "      <td>48</td>\n",
       "      <td>48</td>\n",
       "      <td>48</td>\n",
       "      <td>48</td>\n",
       "      <td>48</td>\n",
       "      <td>48</td>\n",
       "      <td>48</td>\n",
       "    </tr>\n",
       "    <tr>\n",
       "      <th>Counting &amp; Probability</th>\n",
       "      <td>17</td>\n",
       "      <td>17</td>\n",
       "      <td>17</td>\n",
       "      <td>17</td>\n",
       "      <td>17</td>\n",
       "      <td>17</td>\n",
       "      <td>17</td>\n",
       "      <td>17</td>\n",
       "      <td>17</td>\n",
       "    </tr>\n",
       "    <tr>\n",
       "      <th>Geometry</th>\n",
       "      <td>15</td>\n",
       "      <td>15</td>\n",
       "      <td>15</td>\n",
       "      <td>15</td>\n",
       "      <td>15</td>\n",
       "      <td>15</td>\n",
       "      <td>15</td>\n",
       "      <td>15</td>\n",
       "      <td>15</td>\n",
       "    </tr>\n",
       "    <tr>\n",
       "      <th>Intermediate Algebra</th>\n",
       "      <td>38</td>\n",
       "      <td>38</td>\n",
       "      <td>38</td>\n",
       "      <td>38</td>\n",
       "      <td>38</td>\n",
       "      <td>38</td>\n",
       "      <td>38</td>\n",
       "      <td>38</td>\n",
       "      <td>38</td>\n",
       "    </tr>\n",
       "    <tr>\n",
       "      <th>Number Theory</th>\n",
       "      <td>30</td>\n",
       "      <td>30</td>\n",
       "      <td>30</td>\n",
       "      <td>30</td>\n",
       "      <td>30</td>\n",
       "      <td>30</td>\n",
       "      <td>30</td>\n",
       "      <td>30</td>\n",
       "      <td>30</td>\n",
       "    </tr>\n",
       "    <tr>\n",
       "      <th>Prealgebra</th>\n",
       "      <td>34</td>\n",
       "      <td>34</td>\n",
       "      <td>34</td>\n",
       "      <td>34</td>\n",
       "      <td>34</td>\n",
       "      <td>34</td>\n",
       "      <td>34</td>\n",
       "      <td>34</td>\n",
       "      <td>34</td>\n",
       "    </tr>\n",
       "    <tr>\n",
       "      <th>Precalculus</th>\n",
       "      <td>28</td>\n",
       "      <td>28</td>\n",
       "      <td>28</td>\n",
       "      <td>28</td>\n",
       "      <td>28</td>\n",
       "      <td>28</td>\n",
       "      <td>28</td>\n",
       "      <td>28</td>\n",
       "      <td>28</td>\n",
       "    </tr>\n",
       "  </tbody>\n",
       "</table>\n",
       "</div>"
      ],
      "text/plain": [
       "                        Unnamed: 0  Unnamed: 0.1  problem  level  solution  \\\n",
       "type                                                                         \n",
       "Algebra                         48            48       48     48        48   \n",
       "Counting & Probability          17            17       17     17        17   \n",
       "Geometry                        15            15       15     15        15   \n",
       "Intermediate Algebra            38            38       38     38        38   \n",
       "Number Theory                   30            30       30     30        30   \n",
       "Prealgebra                      34            34       34     34        34   \n",
       "Precalculus                     28            28       28     28        28   \n",
       "\n",
       "                        zero-shot CoT reasoning chain  \\\n",
       "type                                                    \n",
       "Algebra                                            48   \n",
       "Counting & Probability                             17   \n",
       "Geometry                                           15   \n",
       "Intermediate Algebra                               38   \n",
       "Number Theory                                      30   \n",
       "Prealgebra                                         34   \n",
       "Precalculus                                        28   \n",
       "\n",
       "                        zero-shot CoT reasoning answer  GPT  correct  \n",
       "type                                                                  \n",
       "Algebra                                             48   48       48  \n",
       "Counting & Probability                              17   17       17  \n",
       "Geometry                                            15   15       15  \n",
       "Intermediate Algebra                                38   38       38  \n",
       "Number Theory                                       30   30       30  \n",
       "Prealgebra                                          34   34       34  \n",
       "Precalculus                                         28   28       28  "
      ]
     },
     "execution_count": 93,
     "metadata": {},
     "output_type": "execute_result"
    }
   ],
   "source": [
    "math[math[\"correct\"] == 0].groupby(\"type\").count()"
   ]
  },
  {
   "cell_type": "code",
   "execution_count": 96,
   "id": "54c8ebca",
   "metadata": {},
   "outputs": [
    {
     "data": {
      "image/png": "[encoded data removed]",
      "text/plain": [
       "<Figure size 432x288 with 1 Axes>"
      ]
     },
     "metadata": {},
     "output_type": "display_data"
    }
   ],
   "source": [
    "import matplotlib.pyplot as plt\n",
    "\n",
    "# Data for the pie chart\n",
    "labels = ['Calculation Error', 'Reasoning Error', 'Reach Max Length', 'Problem Understanding Error']\n",
    "sizes = [74, 96, 17, 23]  # The values or sizes of each section\n",
    "\n",
    "# Create the pie chart\n",
    "colors = ['#ff9999', '#66b3ff', '#99ff99', '#ffcc99']\n",
    "plt.pie(sizes, labels=labels, autopct='%1.1f%%', colors = colors)\n",
    "\n",
    "# Set aspect ratio to be equal so that pie is drawn as a circle\n",
    "plt.axis('equal')\n",
    "\n",
    "\n",
    "# Display the plot\n",
    "plt.show()"
   ]
  }
 ],
 "metadata": {
  "kernelspec": {
   "display_name": "Python 3 (ipykernel)",
   "language": "python",
   "name": "python3"
  },
  "language_info": {
   "codemirror_mode": {
    "name": "ipython",
    "version": 3
   },
   "file_extension": ".py",
   "mimetype": "text/x-python",
   "name": "python",
   "nbconvert_exporter": "python",
   "pygments_lexer": "ipython3",
   "version": "3.9.12"
  }
 },
 "nbformat": 4,
 "nbformat_minor": 5
}
