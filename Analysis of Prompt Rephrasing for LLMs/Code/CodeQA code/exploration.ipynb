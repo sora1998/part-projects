{
 "cells": [
  {
   "cell_type": "code",
   "execution_count": 4,
   "metadata": {},
   "outputs": [],
   "source": [
    "import pandas as pd"
   ]
  },
  {
   "cell_type": "code",
   "execution_count": 14,
   "metadata": {},
   "outputs": [],
   "source": [
    "def f1_score(df):\n",
    "    yes = \"Yes\"\n",
    "    no = \"No\"\n",
    "    tp = len(df[(df.answer == yes) & (df.model_output == yes)])\n",
    "    fp = len(df[(df.answer == no) & (df.model_output == yes)])\n",
    "    tn = len(df[(df.answer == no) & (df.model_output == no)])\n",
    "    fn = len(df[(df.answer == yes) & (df.model_output == no)])\n",
    "    precision = tp / (tp + fp)\n",
    "    recall = tp / (tp + fn)\n",
    "    f1 = 2 * (precision * recall) / (precision + recall)\n",
    "    print(\"tp\", tp)\n",
    "    print(\"fp\", fp)\n",
    "    print(\"tn\", tn)\n",
    "    print(\"fn\", fn)\n",
    "    print(\"f1\", f1)"
   ]
  },
  {
   "cell_type": "code",
   "execution_count": 5,
   "metadata": {},
   "outputs": [
    {
     "name": "stderr",
     "output_type": "stream",
     "text": [
      "/tmp/ipykernel_690/3652881321.py:1: FutureWarning: Passing a negative integer is deprecated in version 1.0 and will not be supported in future version. Instead, use None to not limit the column width.\n",
      "  pd.set_option('display.max_colwidth', -1)\n"
     ]
    }
   ],
   "source": [
    "pd.set_option('display.max_colwidth', -1)"
   ]
  },
  {
   "cell_type": "code",
   "execution_count": 6,
   "metadata": {},
   "outputs": [],
   "source": [
    "df = pd.read_csv(\"model_outputs_new.csv\")"
   ]
  },
  {
   "cell_type": "code",
   "execution_count": 13,
   "metadata": {},
   "outputs": [
    {
     "data": {
      "text/plain": [
       "Yes    101\n",
       "No     100\n",
       "Name: answer, dtype: int64"
      ]
     },
     "execution_count": 13,
     "metadata": {},
     "output_type": "execute_result"
    }
   ],
   "source": [
    "df.answer.value_counts()"
   ]
  },
  {
   "cell_type": "code",
   "execution_count": 8,
   "metadata": {},
   "outputs": [
    {
     "name": "stdout",
     "output_type": "stream",
     "text": [
      "     Unnamed: 0.1  Unnamed: 0  \\\n",
      "5    15            15           \n",
      "27   63            63           \n",
      "37   83            83           \n",
      "119  1307          1307         \n",
      "126  1686          1686         \n",
      "161  3966          3966         \n",
      "180  5123          5123         \n",
      "195  6042          6042         \n",
      "\n",
      "                                                              question  \\\n",
      "5    Does the code ensure ?\\n                                            \n",
      "27   Does ipvsadm command exist on the system ?\\n                        \n",
      "37   Does the zone contain the specified name ?\\n                        \n",
      "119  Did we break nonunc case ?\\n                                        \n",
      "126  Are the crypto maps using aes ?\\n                                   \n",
      "161  Do the supplied actual dict contain all the items in expected ?\\n   \n",
      "180  Did the user write permissions on the given note ?\\n                \n",
      "195  Does the operating system support symlinks ?\\n                      \n",
      "\n",
      "                                                                                                                                                                                                                                                                                                                                                                                                                                                                                                                                                                                                                                                                                                                                                                                                                                                                      code  \\\n",
      "5    def test message delete db gmail account api client new api client db gmail account namespace generic thread add fake thread db session gmail account namespace id gen message add fake message db session gmail account namespace id generic thread category ids []for i in xrange 10 po data api client post data '/labels/' {'display name' str i } assert po data status code 200 category ids append json loads po data data ['id'] data {'label ids' category ids}resp api client put data '/messages/{}' format gen message public id data assert resp status code 200 associated mcs db session query Message Category filter Message Category message id gen message id all assert len associated mcs 10 db session delete gen message db session commit assert db session query Message Category filter Message Category message id gen message id all []\\n   \n",
      "27   def virtual if not detect os return False ' Thelvsexecutionmodulecannotbeloaded theipvsadmbinaryisnotinthepath ' return 'lvs'\\n                                                                                                                                                                                                                                                                                                                                                                                                                                                                                                                                                                                                                                                                                                                                         \n",
      "37   def zone for name name rdclass dns rdataclass IN tcp False resolver None if isinstance name str unicode name dns name from text name dns name root if resolver is None resolver get default resolver if not name is absolute raise Not Absolute name while 1 try answer resolver query name dns rdatatype SOA rdclass tcp if answer rrset name name return nameexcept dns resolver NXDOMAIN dns resolver No Answer passtry name name parent except dns name No Parent raise No Root SOA\\n                                                                                                                                                                                                                                                                                                                                                                               \n",
      "119  def test pushdpopd xonsh builtins xonsh builtins xonsh env Env CDPATH PARENT PWD HERE dirstack cd [PARENT] owd os getcwd assert owd casefold xonsh builtins xonsh env ['PWD'] casefold dirstack pushd [HERE] wd os getcwd assert wd casefold HERE casefold dirstack popd [] assert owd casefold os getcwd casefold 'popdreturnedcwdtoexpecteddir'\\n                                                                                                                                                                                                                                                                                                                                                                                                                                                                                                                     \n",
      "126  def main cisco file 'cisco ipsec txt'cisco cfg Cisco Conf Parse cisco file crypto maps cisco cfg find objects wo child parentspec 'cryptomap CRYPTO' childspec 'AES' print '\\n Cryptomapsnotusing AES 'for entry in crypto maps for child in entry children if 'transform' in child text match re search 'settransform-set * $' child text encryption match group 1 print '{ 0 }>>>{ 1 }' format entry text strip encryption print\\n                                                                                                                                                                                                                                                                                                                                                                                                                                    \n",
      "161  def assert dict contains test case expected actual message '' missing items []mismatch items []no value object for key expected value in expected items actual value actual get key no value if actual value is no value missing items append key elif actual value expected value mismatch items append '{} {} {}' format key expected value actual value if missing items or mismatch items test case fail '{}\\n Missingitems {}\\n Mismatchitems {}\\n Actualitems {}' format message missing items mismatch items actual\\n                                                                                                                                                                                                                                                                                                                                            \n",
      "180  def user has perm note note profile request None if note author and note author id profile id return Trueif request and note note type comm REVIEWER COMMENT return acl check reviewer request if request and note note type comm DEVELOPER COMMENT and acl check reviewer request return Trueuser is author profile addons filter pk note thread addon id if user is author exists and note read permission developer or note note type comm REVIEWER PUBLIC COMMENT return Truereturn check acls comm obj note profile\\n                                                                                                                                                                                                                                                                                                                                              \n",
      "195  def stub islink path return False\\n                                                                                                                                                                                                                                                                                                                                                                                                                                                                                                                                                                                                                                                                                                                                                                                                                                     \n",
      "\n",
      "    answer  \\\n",
      "5    Yes\\n   \n",
      "27   Yes\\n   \n",
      "37   Yes\\n   \n",
      "119  No\\n    \n",
      "126  No\\n    \n",
      "161  No\\n    \n",
      "180  No\\n    \n",
      "195  No\\n    \n",
      "\n",
      "                                                                                                                                                                                                                                                                                                                                                                                                                                                                                                                                                                                                                                                                                                                                                                                                                                                                                                                      model_input  \\\n",
      "5    Does the code ensure ?\\ndef test message delete db gmail account api client new api client db gmail account namespace generic thread add fake thread db session gmail account namespace id gen message add fake message db session gmail account namespace id generic thread category ids []for i in xrange 10 po data api client post data '/labels/' {'display name' str i } assert po data status code 200 category ids append json loads po data data ['id'] data {'label ids' category ids}resp api client put data '/messages/{}' format gen message public id data assert resp status code 200 associated mcs db session query Message Category filter Message Category message id gen message id all assert len associated mcs 10 db session delete gen message db session commit assert db session query Message Category filter Message Category message id gen message id all []\\nPlease answer with a yes or no.   \n",
      "27   Does ipvsadm command exist on the system ?\\ndef virtual if not detect os return False ' Thelvsexecutionmodulecannotbeloaded theipvsadmbinaryisnotinthepath ' return 'lvs'\\nPlease answer with a yes or no.                                                                                                                                                                                                                                                                                                                                                                                                                                                                                                                                                                                                                                                                                                                     \n",
      "37   Does the zone contain the specified name ?\\ndef zone for name name rdclass dns rdataclass IN tcp False resolver None if isinstance name str unicode name dns name from text name dns name root if resolver is None resolver get default resolver if not name is absolute raise Not Absolute name while 1 try answer resolver query name dns rdatatype SOA rdclass tcp if answer rrset name name return nameexcept dns resolver NXDOMAIN dns resolver No Answer passtry name name parent except dns name No Parent raise No Root SOA\\nPlease answer with a yes or no.                                                                                                                                                                                                                                                                                                                                                           \n",
      "119  Did we break nonunc case ?\\ndef test pushdpopd xonsh builtins xonsh builtins xonsh env Env CDPATH PARENT PWD HERE dirstack cd [PARENT] owd os getcwd assert owd casefold xonsh builtins xonsh env ['PWD'] casefold dirstack pushd [HERE] wd os getcwd assert wd casefold HERE casefold dirstack popd [] assert owd casefold os getcwd casefold 'popdreturnedcwdtoexpecteddir'\\nPlease answer with a yes or no.                                                                                                                                                                                                                                                                                                                                                                                                                                                                                                                 \n",
      "126  Are the crypto maps using aes ?\\ndef main cisco file 'cisco ipsec txt'cisco cfg Cisco Conf Parse cisco file crypto maps cisco cfg find objects wo child parentspec 'cryptomap CRYPTO' childspec 'AES' print '\\n Cryptomapsnotusing AES 'for entry in crypto maps for child in entry children if 'transform' in child text match re search 'settransform-set * $' child text encryption match group 1 print '{ 0 }>>>{ 1 }' format entry text strip encryption print\\nPlease answer with a yes or no.                                                                                                                                                                                                                                                                                                                                                                                                                           \n",
      "161  Do the supplied actual dict contain all the items in expected ?\\ndef assert dict contains test case expected actual message '' missing items []mismatch items []no value object for key expected value in expected items actual value actual get key no value if actual value is no value missing items append key elif actual value expected value mismatch items append '{} {} {}' format key expected value actual value if missing items or mismatch items test case fail '{}\\n Missingitems {}\\n Mismatchitems {}\\n Actualitems {}' format message missing items mismatch items actual\\nPlease answer with a yes or no.                                                                                                                                                                                                                                                                                                   \n",
      "180  Did the user write permissions on the given note ?\\ndef user has perm note note profile request None if note author and note author id profile id return Trueif request and note note type comm REVIEWER COMMENT return acl check reviewer request if request and note note type comm DEVELOPER COMMENT and acl check reviewer request return Trueuser is author profile addons filter pk note thread addon id if user is author exists and note read permission developer or note note type comm REVIEWER PUBLIC COMMENT return Truereturn check acls comm obj note profile\\nPlease answer with a yes or no.                                                                                                                                                                                                                                                                                                                  \n",
      "195  Does the operating system support symlinks ?\\ndef stub islink path return False\\nPlease answer with a yes or no.                                                                                                                                                                                                                                                                                                                                                                                                                                                                                                                                                                                                                                                                                                                                                                                                               \n",
      "\n",
      "                                                                                                                                                                                                                                     model_output  \n",
      "5    I cannot answer with a yes or no as the code is incomplete and lacks context.                                                                                                                                                                 \n",
      "27   I'm sorry, as an AI language model, I cannot determine whether the ipvsadm command exists on the system without additional context or information about the system.                                                                           \n",
      "37   I'm sorry, but I cannot answer this question as it is incomplete and lacks context. Can you please provide more information or clarify your question?                                                                                         \n",
      "119  As an AI language model, I cannot determine if nonunc case was broken without additional context or information. Please provide more details or clarify your question.                                                                        \n",
      "126  It depends on the contents of the 'cisco ipsec txt' file. The code is designed to search for crypto maps that use AES encryption, but it cannot be determined whether all crypto maps in the file use AES without examining the file itself.  \n",
      "161  The question is incomplete and cannot be answered. Please provide the necessary information.                                                                                                                                                  \n",
      "180  It is not possible to determine from the given code whether the user has write permissions on the note.                                                                                                                                       \n",
      "195  I'm sorry, as an AI language model, I cannot determine the operating system you are referring to. Please provide more context or specify the operating system.                                                                                \n"
     ]
    }
   ],
   "source": [
    "print(df[df.model_output.str.len() > 4])"
   ]
  },
  {
   "cell_type": "code",
   "execution_count": null,
   "metadata": {},
   "outputs": [],
   "source": [
    "def main:\n",
    "    cisco file 'cisco ipsec txt'\n",
    "cisco cfg Cisco Conf Parse cisco file c\n",
    "rypto maps cisco cfg find objects wo child parentspec 'cryptomap CRYPTO' childspec 'AES' \n",
    "print '\\n Cryptomapsnotusing AES '\n",
    "for entry in crypto maps for child in entry children if 'transform' in child text match re search 'settransform-set * $' child text encryption match group 1 print '{ 0 }>>>{ 1 }' format entry text strip encryption print\\n   "
   ]
  },
  {
   "cell_type": "code",
   "execution_count": 9,
   "metadata": {},
   "outputs": [
    {
     "name": "stderr",
     "output_type": "stream",
     "text": [
      "/tmp/ipykernel_690/2368636909.py:1: FutureWarning: The default value of regex will change from True to False in a future version.\n",
      "  df[\"model_output\"] = df[\"model_output\"].str.replace(r'[^\\w\\s]+', '')\n",
      "/tmp/ipykernel_690/2368636909.py:2: FutureWarning: The default value of regex will change from True to False in a future version.\n",
      "  df[\"answer\"] = df[\"answer\"].str.replace(r'[^\\w\\s]+', '')\n",
      "/tmp/ipykernel_690/2368636909.py:3: FutureWarning: The default value of regex will change from True to False in a future version.\n",
      "  df[\"answer\"] = df[\"answer\"].str.replace(r'\\n', '')\n"
     ]
    }
   ],
   "source": [
    "df[\"model_output\"] = df[\"model_output\"].str.replace(r'[^\\w\\s]+', '')\n",
    "df[\"answer\"] = df[\"answer\"].str.replace(r'[^\\w\\s]+', '')\n",
    "df[\"answer\"] = df[\"answer\"].str.replace(r'\\n', '')"
   ]
  },
  {
   "cell_type": "code",
   "execution_count": 16,
   "metadata": {},
   "outputs": [],
   "source": [
    "wrong = df[df.answer != df.model_output]"
   ]
  },
  {
   "cell_type": "code",
   "execution_count": 17,
   "metadata": {},
   "outputs": [
    {
     "name": "stderr",
     "output_type": "stream",
     "text": [
      "/tmp/ipykernel_690/1076686479.py:1: UserWarning: Boolean Series key will be reindexed to match DataFrame index.\n",
      "  len(wrong[(df.answer == \"Yes\") & (df.model_output != \"Yes\")])\n"
     ]
    },
    {
     "data": {
      "text/plain": [
       "23"
      ]
     },
     "execution_count": 17,
     "metadata": {},
     "output_type": "execute_result"
    }
   ],
   "source": [
    "len(wrong[(df.answer == \"Yes\") & (df.model_output != \"Yes\")])"
   ]
  },
  {
   "cell_type": "code",
   "execution_count": 20,
   "metadata": {},
   "outputs": [
    {
     "name": "stderr",
     "output_type": "stream",
     "text": [
      "/tmp/ipykernel_673/1454687480.py:1: UserWarning: Boolean Series key will be reindexed to match DataFrame index.\n",
      "  len(wrong[(df.answer == \"No\") & (df.model_output != \"No\")])\n"
     ]
    },
    {
     "data": {
      "text/plain": [
       "49"
      ]
     },
     "execution_count": 20,
     "metadata": {},
     "output_type": "execute_result"
    }
   ],
   "source": [
    "len(wrong[(df.answer == \"No\") & (df.model_output != \"No\")])"
   ]
  },
  {
   "cell_type": "code",
   "execution_count": 22,
   "metadata": {},
   "outputs": [
    {
     "data": {
      "text/plain": [
       "Unnamed: 0.1    18                                                                                                     \n",
       "Unnamed: 0      18                                                                                                     \n",
       "question        Does none mean ?\\n                                                                                     \n",
       "code            def set seed seed None if seed None random seed seed\\n                                                 \n",
       "answer          Yes                                                                                                    \n",
       "model_input     Does none mean ?\\ndef set seed seed None if seed None random seed seed\\nPlease answer with a yes or no.\n",
       "model_output    No                                                                                                     \n",
       "Name: 7, dtype: object"
      ]
     },
     "execution_count": 22,
     "metadata": {},
     "output_type": "execute_result"
    }
   ],
   "source": [
    "wrong.iloc[1]"
   ]
  },
  {
   "cell_type": "code",
   "execution_count": 23,
   "metadata": {},
   "outputs": [
    {
     "data": {
      "text/plain": [
       "Unnamed: 0.1    40                                                                                                                                                                                                                                                                                                                                                                                                                                                                                                                                                            \n",
       "Unnamed: 0      40                                                                                                                                                                                                                                                                                                                                                                                                                                                                                                                                                            \n",
       "question        Does a code string convert to colorized css / html ?\\n                                                                                                                                                                                                                                                                                                                                                                                                                                                                                                        \n",
       "code            def str 2 css sourcestring colors None title '' markup 'css' header None footer None linenumbers 0 form None if markup lower not in ['css' 'xhtml'] markup 'css'string IO String IO String IO parse Parser sourcestring colors colors title title out string IO markup markup header header footer footer linenumbers linenumbers parse format form string IO seek 0 if form None return parse send CSS Style external 1 string IO read else return None string IO read\\n                                                                                     \n",
       "answer          Yes                                                                                                                                                                                                                                                                                                                                                                                                                                                                                                                                                           \n",
       "model_input     Does a code string convert to colorized css / html ?\\ndef str 2 css sourcestring colors None title '' markup 'css' header None footer None linenumbers 0 form None if markup lower not in ['css' 'xhtml'] markup 'css'string IO String IO String IO parse Parser sourcestring colors colors title title out string IO markup markup header header footer footer linenumbers linenumbers parse format form string IO seek 0 if form None return parse send CSS Style external 1 string IO read else return None string IO read\\nPlease answer with a yes or no.\n",
       "model_output    No                                                                                                                                                                                                                                                                                                                                                                                                                                                                                                                                                            \n",
       "Name: 17, dtype: object"
      ]
     },
     "execution_count": 23,
     "metadata": {},
     "output_type": "execute_result"
    }
   ],
   "source": [
    "wrong.iloc[2]"
   ]
  },
  {
   "attachments": {},
   "cell_type": "markdown",
   "metadata": {},
   "source": [
    ">>> Removed the yes or no prompt\n",
    "\n",
    "The code string you provided seems to be a Python function or method that accepts various parameters and returns a colorized CSS or HTML string. It appears to take input parameters such as sourcestring, colors, title, markup, header, footer, linenumbers, and form, among others.\n",
    "\n",
    "Without further context or the complete code implementation, it is difficult to provide a comprehensive understanding of how this code works or its purpose. However, based on the provided code, it seems to involve parsing and formatting a source string (possibly containing CSS or HTML code) and applying colorization based on the colors parameter. It also considers parameters like title, markup, header, footer, linenumbers, and form for customization and formatting options.\n",
    "\n",
    "It is worth mentioning that the code snippet you provided lacks proper indentation, making it challenging to comprehend its structure accurately. Additionally, the code refers to functions or classes that are not defined within the provided snippet, such as parse, Parser, CSS, and Style. Therefore, it is difficult to determine the exact behavior of this code without more information."
   ]
  },
  {
   "cell_type": "code",
   "execution_count": 25,
   "metadata": {},
   "outputs": [
    {
     "data": {
      "text/plain": [
       "Unnamed: 0.1    51                                                                                                                                                    \n",
       "Unnamed: 0      51                                                                                                                                                    \n",
       "question        Does this return a set of orgs that are considered within a microsite ?\\n                                                                             \n",
       "code            def get all orgs return BACKEND get all orgs\\n                                                                                                        \n",
       "answer          Yes                                                                                                                                                   \n",
       "model_input     Does this return a set of orgs that are considered within a microsite ?\\ndef get all orgs return BACKEND get all orgs\\nPlease answer with a yes or no.\n",
       "model_output    No                                                                                                                                                    \n",
       "Name: 21, dtype: object"
      ]
     },
     "execution_count": 25,
     "metadata": {},
     "output_type": "execute_result"
    }
   ],
   "source": [
    "wrong.iloc[4]"
   ]
  },
  {
   "attachments": {},
   "cell_type": "markdown",
   "metadata": {},
   "source": [
    "\"Based on the given code snippet, it is not clear what the function get all orgs does. It appears to be a function call or a placeholder for a function that retrieves a set of organizations. However, without further information about the implementation of the function or the context in which it is used, it is not possible to determine whether it returns a set of organizations considered within a microsite or not.\""
   ]
  },
  {
   "cell_type": "code",
   "execution_count": 28,
   "metadata": {},
   "outputs": [
    {
     "data": {
      "text/plain": [
       "Unnamed: 0.1    63                                                                                                                                                                                                        \n",
       "Unnamed: 0      63                                                                                                                                                                                                        \n",
       "question        Does ipvsadm command exist on the system ?\\n                                                                                                                                                              \n",
       "code            def virtual if not detect os return False ' Thelvsexecutionmodulecannotbeloaded theipvsadmbinaryisnotinthepath ' return 'lvs'\\n                                                                           \n",
       "answer          Yes                                                                                                                                                                                                       \n",
       "model_input     Does ipvsadm command exist on the system ?\\ndef virtual if not detect os return False ' Thelvsexecutionmodulecannotbeloaded theipvsadmbinaryisnotinthepath ' return 'lvs'\\nPlease answer with a yes or no.\n",
       "model_output    Im sorry as an AI language model I cannot determine whether the ipvsadm command exists on the system without additional context or information about the system                                           \n",
       "Name: 27, dtype: object"
      ]
     },
     "execution_count": 28,
     "metadata": {},
     "output_type": "execute_result"
    }
   ],
   "source": [
    "wrong.iloc[7]"
   ]
  },
  {
   "cell_type": "code",
   "execution_count": 29,
   "metadata": {},
   "outputs": [
    {
     "data": {
      "text/plain": [
       "Unnamed: 0.1    65                                                                                                                                                                                                                                                                                      \n",
       "Unnamed: 0      65                                                                                                                                                                                                                                                                                      \n",
       "question        Do a server - server get request for an in - process api ?\\n                                                                                                                                                                                                                            \n",
       "code            def local server get url session request Http Request request method 'GET'request session session view args kwargs resolve url response view request *args **kwargs return response content\\n                                                                                           \n",
       "answer          Yes                                                                                                                                                                                                                                                                                     \n",
       "model_input     Do a server - server get request for an in - process api ?\\ndef local server get url session request Http Request request method 'GET'request session session view args kwargs resolve url response view request *args **kwargs return response content\\nPlease answer with a yes or no.\n",
       "model_output    No                                                                                                                                                                                                                                                                                      \n",
       "Name: 28, dtype: object"
      ]
     },
     "execution_count": 29,
     "metadata": {},
     "output_type": "execute_result"
    }
   ],
   "source": [
    "wrong.iloc[8]"
   ]
  },
  {
   "cell_type": "code",
   "execution_count": 30,
   "metadata": {},
   "outputs": [
    {
     "data": {
      "text/plain": [
       "Unnamed: 0.1    68                                                                                                                                                                                                                                                    \n",
       "Unnamed: 0      68                                                                                                                                                                                                                                                    \n",
       "question        Does the code simulate ?\\n                                                                                                                                                                                                                            \n",
       "code            def local server get url session request Http Request request method 'GET'request session session view args kwargs resolve url response view request *args **kwargs return response content\\n                                                         \n",
       "answer          Yes                                                                                                                                                                                                                                                   \n",
       "model_input     Does the code simulate ?\\ndef local server get url session request Http Request request method 'GET'request session session view args kwargs resolve url response view request *args **kwargs return response content\\nPlease answer with a yes or no.\n",
       "model_output    No                                                                                                                                                                                                                                                    \n",
       "Name: 30, dtype: object"
      ]
     },
     "execution_count": 30,
     "metadata": {},
     "output_type": "execute_result"
    }
   ],
   "source": [
    "wrong.iloc[9]"
   ]
  },
  {
   "cell_type": "code",
   "execution_count": 29,
   "metadata": {},
   "outputs": [
    {
     "data": {
      "text/plain": [
       "Unnamed: 0.1    98                                                                                                                                                                                                                                                                                             \n",
       "Unnamed: 0      98                                                                                                                                                                                                                                                                                             \n",
       "question        Does the code get all available regions for the amazon cloudsearch domain service ?\\n                                                                                                                                                                                                          \n",
       "code            def regions from boto cloudsearchdomain layer 1 import Cloud Search Domain Connectionreturn get regions 'cloudsearchdomain' connection cls Cloud Search Domain Connection\\n                                                                                                                    \n",
       "answer          Yes                                                                                                                                                                                                                                                                                            \n",
       "model_input     Does the code get all available regions for the amazon cloudsearch domain service ?\\ndef regions from boto cloudsearchdomain layer 1 import Cloud Search Domain Connectionreturn get regions 'cloudsearchdomain' connection cls Cloud Search Domain Connection\\nPlease answer with a yes or no.\n",
       "model_output    No                                                                                                                                                                                                                                                                                             \n",
       "Name: 44, dtype: object"
      ]
     },
     "execution_count": 29,
     "metadata": {},
     "output_type": "execute_result"
    }
   ],
   "source": [
    "wrong.iloc[14]"
   ]
  },
  {
   "attachments": {},
   "cell_type": "markdown",
   "metadata": {},
   "source": [
    "\"The given code snippet does not implement the functionality to return the number of attracting components in a graph G. The comment \"@not implemented for 'undirected'\" suggests that the code is not designed to handle undirected graphs. Additionally, the code does not include any logic or algorithm to calculate the number of attracting components or generate a list of attracting components. Therefore, the code cannot return the desired output.\""
   ]
  },
  {
   "cell_type": "code",
   "execution_count": 55,
   "metadata": {},
   "outputs": [
    {
     "data": {
      "text/plain": [
       "Unnamed: 0.1    6042                                                                                                                                                     \n",
       "Unnamed: 0      6042                                                                                                                                                     \n",
       "question        Does the operating system support symlinks ?\\n                                                                                                           \n",
       "code            def stub islink path return False\\n                                                                                                                      \n",
       "answer          No                                                                                                                                                       \n",
       "model_input     Does the operating system support symlinks ?\\ndef stub islink path return False\\nPlease answer with a yes or no.                                         \n",
       "model_output    Im sorry as an AI language model I cannot determine the operating system you are referring to Please provide more context or specify the operating system\n",
       "Name: 195, dtype: object"
      ]
     },
     "execution_count": 55,
     "metadata": {},
     "output_type": "execute_result"
    }
   ],
   "source": [
    "wrong.iloc[-]"
   ]
  },
  {
   "cell_type": "code",
   "execution_count": null,
   "metadata": {},
   "outputs": [],
   "source": []
  },
  {
   "cell_type": "code",
   "execution_count": 17,
   "metadata": {},
   "outputs": [
    {
     "data": {
      "text/plain": [
       "0.6417910447761194"
      ]
     },
     "execution_count": 17,
     "metadata": {},
     "output_type": "execute_result"
    }
   ],
   "source": [
    "from sklearn.metrics import accuracy_score\n",
    "accuracy_score(df[\"answer\"], df[\"model_output\"])"
   ]
  },
  {
   "cell_type": "code",
   "execution_count": 15,
   "metadata": {},
   "outputs": [
    {
     "name": "stdout",
     "output_type": "stream",
     "text": [
      "tp 78\n",
      "fp 44\n",
      "tn 51\n",
      "fn 20\n",
      "f1 0.7090909090909091\n"
     ]
    }
   ],
   "source": [
    "f1_score(df)"
   ]
  },
  {
   "cell_type": "code",
   "execution_count": 56,
   "metadata": {},
   "outputs": [
    {
     "data": {
      "text/plain": [
       "Unnamed: 0.1    72                                                                                                                                                                                                                \n",
       "Unnamed: 0      72                                                                                                                                                                                                                \n",
       "question        Does the code return the number of attracting components in g ?\\n                                                                                                                                                 \n",
       "code            @not implemented for 'undirected' def number attracting components G n len list attracting components G return n\\n                                                                                                \n",
       "answer          Yes                                                                                                                                                                                                               \n",
       "model_input     Does the code return the number of attracting components in g ?\\n@not implemented for 'undirected' def number attracting components G n len list attracting components G return n\\nPlease answer with a yes or no.\n",
       "model_output    No                                                                                                                                                                                                                \n",
       "Name: 31, dtype: object"
      ]
     },
     "execution_count": 56,
     "metadata": {},
     "output_type": "execute_result"
    }
   ],
   "source": [
    "wrong.iloc[10]"
   ]
  },
  {
   "cell_type": "code",
   "execution_count": 57,
   "metadata": {},
   "outputs": [
    {
     "data": {
      "text/plain": [
       "Unnamed: 0.1    53                                                                                                                     \n",
       "Unnamed: 0      53                                                                                                                     \n",
       "question        Are orgs considered within a microsite ?\\n                                                                             \n",
       "code            def get all orgs return BACKEND get all orgs\\n                                                                         \n",
       "answer          Yes                                                                                                                    \n",
       "model_input     Are orgs considered within a microsite ?\\ndef get all orgs return BACKEND get all orgs\\nPlease answer with a yes or no.\n",
       "model_output    No                                                                                                                     \n",
       "Name: 22, dtype: object"
      ]
     },
     "execution_count": 57,
     "metadata": {},
     "output_type": "execute_result"
    }
   ],
   "source": [
    "wrong.iloc[5]"
   ]
  },
  {
   "cell_type": "code",
   "execution_count": 48,
   "metadata": {},
   "outputs": [],
   "source": [
    "zero = pd.read_csv(\"zero.csv\")"
   ]
  },
  {
   "cell_type": "code",
   "execution_count": null,
   "metadata": {},
   "outputs": [],
   "source": [
    "zero[\"processed_\"]"
   ]
  },
  {
   "cell_type": "code",
   "execution_count": 49,
   "metadata": {},
   "outputs": [
    {
     "ename": "ZeroDivisionError",
     "evalue": "division by zero",
     "output_type": "error",
     "traceback": [
      "\u001b[0;31m---------------------------------------------------------------------------\u001b[0m",
      "\u001b[0;31mZeroDivisionError\u001b[0m                         Traceback (most recent call last)",
      "Cell \u001b[0;32mIn[49], line 1\u001b[0m\n\u001b[0;32m----> 1\u001b[0m f1_score(zero)\n",
      "Cell \u001b[0;32mIn[14], line 8\u001b[0m, in \u001b[0;36mf1_score\u001b[0;34m(df)\u001b[0m\n\u001b[1;32m      6\u001b[0m tn \u001b[39m=\u001b[39m \u001b[39mlen\u001b[39m(df[(df\u001b[39m.\u001b[39manswer \u001b[39m==\u001b[39m no) \u001b[39m&\u001b[39m (df\u001b[39m.\u001b[39mmodel_output \u001b[39m==\u001b[39m no)])\n\u001b[1;32m      7\u001b[0m fn \u001b[39m=\u001b[39m \u001b[39mlen\u001b[39m(df[(df\u001b[39m.\u001b[39manswer \u001b[39m==\u001b[39m yes) \u001b[39m&\u001b[39m (df\u001b[39m.\u001b[39mmodel_output \u001b[39m==\u001b[39m no)])\n\u001b[0;32m----> 8\u001b[0m precision \u001b[39m=\u001b[39m tp \u001b[39m/\u001b[39m (tp \u001b[39m+\u001b[39m fp)\n\u001b[1;32m      9\u001b[0m recall \u001b[39m=\u001b[39m tp \u001b[39m/\u001b[39m (tp \u001b[39m+\u001b[39m fn)\n\u001b[1;32m     10\u001b[0m f1 \u001b[39m=\u001b[39m \u001b[39m2\u001b[39m \u001b[39m*\u001b[39m (precision \u001b[39m*\u001b[39m recall) \u001b[39m/\u001b[39m (precision \u001b[39m+\u001b[39m recall)\n",
      "\u001b[0;31mZeroDivisionError\u001b[0m: division by zero"
     ]
    }
   ],
   "source": [
    "f1_score(zero)"
   ]
  },
  {
   "cell_type": "code",
   "execution_count": 50,
   "metadata": {},
   "outputs": [
    {
     "data": {
      "text/html": [
       "<div>\n",
       "<style scoped>\n",
       "    .dataframe tbody tr th:only-of-type {\n",
       "        vertical-align: middle;\n",
       "    }\n",
       "\n",
       "    .dataframe tbody tr th {\n",
       "        vertical-align: top;\n",
       "    }\n",
       "\n",
       "    .dataframe thead th {\n",
       "        text-align: right;\n",
       "    }\n",
       "</style>\n",
       "<table border=\"1\" class=\"dataframe\">\n",
       "  <thead>\n",
       "    <tr style=\"text-align: right;\">\n",
       "      <th></th>\n",
       "      <th>Unnamed: 0.1</th>\n",
       "      <th>Unnamed: 0</th>\n",
       "      <th>question</th>\n",
       "      <th>code</th>\n",
       "      <th>answer</th>\n",
       "      <th>model_input</th>\n",
       "      <th>model_output</th>\n",
       "    </tr>\n",
       "  </thead>\n",
       "  <tbody>\n",
       "    <tr>\n",
       "      <th>0</th>\n",
       "      <td>1</td>\n",
       "      <td>1</td>\n",
       "      <td>Does the code add a user in the given buckets default object access control list as an owner ?\\n</td>\n",
       "      <td>def add bucket default owner bucket name user email storage client storage Client bucket storage client bucket bucket name bucket acl reload bucket default object acl user user email grant owner bucket default object acl save print ' Addeduser{}asanownerinthedefaultaclonbucket{} ' format user email bucket name\\n</td>\n",
       "      <td>Yes\\n</td>\n",
       "      <td>Does the code add a user in the given buckets default object access control list as an owner ?\\ndef add bucket default owner bucket name user email storage client storage Client bucket storage client bucket bucket name bucket acl reload bucket default object acl user user email grant owner bucket default object acl save print ' Addeduser{}asanownerinthedefaultaclonbucket{} ' format user email bucket name\\nLet's think step by step. Please answer with a yes or no.</td>\n",
       "      <td>Yes.</td>\n",
       "    </tr>\n",
       "    <tr>\n",
       "      <th>1</th>\n",
       "      <td>3</td>\n",
       "      <td>3</td>\n",
       "      <td>Does the code create a simple sdist tarball at dist_path ?\\n</td>\n",
       "      <td>def make trivial sdist dist path setup py setup py file tarfile Tar Info name 'setup py' try Mem File Bytes I Oexcept Attribute Error Mem File String I Osetup py bytes Mem File setup py encode 'utf- 8 ' setup py file size len setup py bytes getvalue dist tarfile open dist path 'w gz' try dist addfile setup py file fileobj setup py bytes finally dist close\\n</td>\n",
       "      <td>Yes\\n</td>\n",
       "      <td>Does the code create a simple sdist tarball at dist_path ?\\ndef make trivial sdist dist path setup py setup py file tarfile Tar Info name 'setup py' try Mem File Bytes I Oexcept Attribute Error Mem File String I Osetup py bytes Mem File setup py encode 'utf- 8 ' setup py file size len setup py bytes getvalue dist tarfile open dist path 'w gz' try dist addfile setup py file fileobj setup py bytes finally dist close\\nLet's think step by step. Please answer with a yes or no.</td>\n",
       "      <td>1. Does the code create a sdist tarball? Yes\\n2. Does the code create a simple sdist tarball? Yes\\n3. Is the name of the tarball \"setup.py\"? Yes\\n4. Is the tarball compressed with gzip? Yes\\n5. Is the tarball created at the specified dist_path? Yes</td>\n",
       "    </tr>\n",
       "    <tr>\n",
       "      <th>2</th>\n",
       "      <td>7</td>\n",
       "      <td>7</td>\n",
       "      <td>Does le dirs set in parent_dir ?\\n</td>\n",
       "      <td>def create le config parent dir config copy deepcopy constants CLI DEFAULTS le dir os path join parent dir 'certbot' config['config dir'] os path join le dir 'config' config['work dir'] os path join le dir 'work' config['logs dir'] os path join le dir 'logs dir' os makedirs config['config dir'] os mkdir config['work dir'] os mkdir config['logs dir'] config['domains'] Nonereturn argparse Namespace **config\\n</td>\n",
       "      <td>Yes\\n</td>\n",
       "      <td>Does le dirs set in parent_dir ?\\ndef create le config parent dir config copy deepcopy constants CLI DEFAULTS le dir os path join parent dir 'certbot' config['config dir'] os path join le dir 'config' config['work dir'] os path join le dir 'work' config['logs dir'] os path join le dir 'logs dir' os makedirs config['config dir'] os mkdir config['work dir'] os mkdir config['logs dir'] config['domains'] Nonereturn argparse Namespace **config\\nLet's think step by step. Please answer with a yes or no.</td>\n",
       "      <td>Yes.</td>\n",
       "    </tr>\n",
       "    <tr>\n",
       "      <th>3</th>\n",
       "      <td>9</td>\n",
       "      <td>9</td>\n",
       "      <td>Does the code get the key for a location in a policy file ?\\n</td>\n",
       "      <td>def policy key location return u'{cat}/{name}' format cat location category name location name\\n</td>\n",
       "      <td>Yes\\n</td>\n",
       "      <td>Does the code get the key for a location in a policy file ?\\ndef policy key location return u'{cat}/{name}' format cat location category name location name\\nLet's think step by step. Please answer with a yes or no.</td>\n",
       "      <td>Yes.</td>\n",
       "    </tr>\n",
       "    <tr>\n",
       "      <th>4</th>\n",
       "      <td>11</td>\n",
       "      <td>11</td>\n",
       "      <td>Does the code remove an user from an object like ?\\n</td>\n",
       "      <td>def remove like obj user obj type apps get model 'contenttypes' ' Content Type' objects get for model obj with atomic qs Like objects filter content type obj type object id obj id user user if not qs exists returnlike qs first project like projectqs delete if project is not None project refresh totals\\n</td>\n",
       "      <td>Yes\\n</td>\n",
       "      <td>Does the code remove an user from an object like ?\\ndef remove like obj user obj type apps get model 'contenttypes' ' Content Type' objects get for model obj with atomic qs Like objects filter content type obj type object id obj id user user if not qs exists returnlike qs first project like projectqs delete if project is not None project refresh totals\\nLet's think step by step. Please answer with a yes or no.</td>\n",
       "      <td>Yes.</td>\n",
       "    </tr>\n",
       "    <tr>\n",
       "      <th>...</th>\n",
       "      <td>...</td>\n",
       "      <td>...</td>\n",
       "      <td>...</td>\n",
       "      <td>...</td>\n",
       "      <td>...</td>\n",
       "      <td>...</td>\n",
       "      <td>...</td>\n",
       "    </tr>\n",
       "    <tr>\n",
       "      <th>196</th>\n",
       "      <td>6144</td>\n",
       "      <td>6144</td>\n",
       "      <td>Does fast_parser parse everything again ?\\n</td>\n",
       "      <td>def test add to end a dedent '\\nclass Abc \\ndefabc self \\nself x 3\\n\\nclass Two Abc \\ndefh self \\nself\\n' b 'defg self \\nself 'assert jedi Script a 8 12 'example py' completions assert jedi Script a + b path 'example py' completions a a[ -1 ] + ' \\n' assert jedi Script a 8 13 'example py' completions assert jedi Script a + b path 'example py' completions\\n</td>\n",
       "      <td>No\\n</td>\n",
       "      <td>Does fast_parser parse everything again ?\\ndef test add to end a dedent '\\nclass Abc \\ndefabc self \\nself x 3\\n\\nclass Two Abc \\ndefh self \\nself\\n' b 'defg self \\nself 'assert jedi Script a 8 12 'example py' completions assert jedi Script a + b path 'example py' completions a a[ -1 ] + ' \\n' assert jedi Script a 8 13 'example py' completions assert jedi Script a + b path 'example py' completions\\nLet's think step by step. Please answer with a yes or no.</td>\n",
       "      <td>1. Does fast_parser parse everything again? Yes/No\\nNo.</td>\n",
       "    </tr>\n",
       "    <tr>\n",
       "      <th>197</th>\n",
       "      <td>6278</td>\n",
       "      <td>6278</td>\n",
       "      <td>Is the tipc module loaded on ubuntu and probably other linux distros if the tipc module is loaded automatically ?\\n</td>\n",
       "      <td>def is Tipc Available if not hasattr socket 'AF TIPC' return Falseif not os path isfile '/proc/modules' return Falsewith open '/proc/modules' as f for line in f if line startswith 'tipc' return Truereturn False\\n</td>\n",
       "      <td>No\\n</td>\n",
       "      <td>Is the tipc module loaded on ubuntu and probably other linux distros if the tipc module is loaded automatically ?\\ndef is Tipc Available if not hasattr socket 'AF TIPC' return Falseif not os path isfile '/proc/modules' return Falsewith open '/proc/modules' as f for line in f if line startswith 'tipc' return Truereturn False\\nLet's think step by step. Please answer with a yes or no.</td>\n",
       "      <td>1. Is the tipc module loaded on Ubuntu by default? No\\n2. Is the tipc module loaded automatically on other Linux distros? It depends on the distro and its configuration.\\n3. Does the code check if the tipc module is available? Yes\\n4. Does the code use the socket module to check for the availability of tipc? Yes\\n5. Does the code check if the /proc/modules file exists? Yes\\n6. Does the code return False if the /proc/modules file does not exist? Yes\\n7. Does the code open the /proc/modules file? Yes\\n8. Does the code check each line in the /proc/modules file for the string 'tipc'? Yes\\n9. Does the code return True if 'tipc' is found in the /proc/modules file? Yes\\n10. Does the code return False if 'tipc' is not found in the /proc/modules file? Yes</td>\n",
       "    </tr>\n",
       "    <tr>\n",
       "      <th>198</th>\n",
       "      <td>6315</td>\n",
       "      <td>6315</td>\n",
       "      <td>Does the extra option they requested exist in the project they are wishing to install ?\\n</td>\n",
       "      <td>def test nonexistent extra warns user no wheel script data result script pip 'install' '--no-binary all ' '--no-index' '--find-links ' + data find links 'simple[nonexistent]' expect stderr True assert \"simple 3 0doesnotprovidetheextra'nonexistent'\" in result stderr\\n</td>\n",
       "      <td>No\\n</td>\n",
       "      <td>Does the extra option they requested exist in the project they are wishing to install ?\\ndef test nonexistent extra warns user no wheel script data result script pip 'install' '--no-binary all ' '--no-index' '--find-links ' + data find links 'simple[nonexistent]' expect stderr True assert \"simple 3 0doesnotprovidetheextra'nonexistent'\" in result stderr\\nLet's think step by step. Please answer with a yes or no.</td>\n",
       "      <td>Yes.</td>\n",
       "    </tr>\n",
       "    <tr>\n",
       "      <th>199</th>\n",
       "      <td>6350</td>\n",
       "      <td>6350</td>\n",
       "      <td>Do we use the argmax ?\\n</td>\n",
       "      <td>@register uncanonicalize@gof local optimizer [T Max And Argmax] def local max and argmax node if isinstance node op T Max And Argmax axis node op get params node if len node outputs[ 1 ] clients 0 new CA Reduce scal maximum axis node inputs[ 0 ] return [new None]if len node outputs[ 0 ] clients 0 return [ None T argmax node inputs[ 0 ] axis ]\\n</td>\n",
       "      <td>No\\n</td>\n",
       "      <td>Do we use the argmax ?\\n@register uncanonicalize@gof local optimizer [T Max And Argmax] def local max and argmax node if isinstance node op T Max And Argmax axis node op get params node if len node outputs[ 1 ] clients 0 new CA Reduce scal maximum axis node inputs[ 0 ] return [new None]if len node outputs[ 0 ] clients 0 return [ None T argmax node inputs[ 0 ] axis ]\\nLet's think step by step. Please answer with a yes or no.</td>\n",
       "      <td>Do we define a local max and argmax node? Yes\\nDo we check if the node is an instance of T Max And Argmax? Yes\\nDo we get the axis parameter of the node? Yes\\nDo we create a new node for calculating the maximum value along the specified axis? Yes\\nDo we return the new node if the original node's output is not used? Yes\\nDo we return None if the original node's output is used? Yes\\nDo we use the argmax function? Yes</td>\n",
       "    </tr>\n",
       "    <tr>\n",
       "      <th>200</th>\n",
       "      <td>6370</td>\n",
       "      <td>6370</td>\n",
       "      <td>Do print ops block gpu optimization ?\\n</td>\n",
       "      <td>def test print op b tensor fmatrix f theano function [b] theano printing Print b * 2 mode mode with gpu topo f maker fgraph toposort assert isinstance topo[ 0 ] op Gpu From Host assert isinstance topo[ 1 ] op theano printing Print assert isinstance topo[ 2 ] op Gpu Elemwise assert topo[ 3 ] op host from gpu f numpy random random 5 5 astype 'float 32 '\\n</td>\n",
       "      <td>No\\n</td>\n",
       "      <td>Do print ops block gpu optimization ?\\ndef test print op b tensor fmatrix f theano function [b] theano printing Print b * 2 mode mode with gpu topo f maker fgraph toposort assert isinstance topo[ 0 ] op Gpu From Host assert isinstance topo[ 1 ] op theano printing Print assert isinstance topo[ 2 ] op Gpu Elemwise assert topo[ 3 ] op host from gpu f numpy random random 5 5 astype 'float 32 '\\nLet's think step by step. Please answer with a yes or no.</td>\n",
       "      <td>No.</td>\n",
       "    </tr>\n",
       "  </tbody>\n",
       "</table>\n",
       "<p>201 rows × 7 columns</p>\n",
       "</div>"
      ],
      "text/plain": [
       "     Unnamed: 0.1  Unnamed: 0  \\\n",
       "0    1             1            \n",
       "1    3             3            \n",
       "2    7             7            \n",
       "3    9             9            \n",
       "4    11            11           \n",
       "..   ..            ..           \n",
       "196  6144          6144         \n",
       "197  6278          6278         \n",
       "198  6315          6315         \n",
       "199  6350          6350         \n",
       "200  6370          6370         \n",
       "\n",
       "                                                                                                                question  \\\n",
       "0    Does the code add a user in the given buckets default object access control list as an owner ?\\n                      \n",
       "1    Does the code create a simple sdist tarball at dist_path ?\\n                                                          \n",
       "2    Does le dirs set in parent_dir ?\\n                                                                                    \n",
       "3    Does the code get the key for a location in a policy file ?\\n                                                         \n",
       "4    Does the code remove an user from an object like ?\\n                                                                  \n",
       "..                                                    ...                                                                  \n",
       "196  Does fast_parser parse everything again ?\\n                                                                           \n",
       "197  Is the tipc module loaded on ubuntu and probably other linux distros if the tipc module is loaded automatically ?\\n   \n",
       "198  Does the extra option they requested exist in the project they are wishing to install ?\\n                             \n",
       "199  Do we use the argmax ?\\n                                                                                              \n",
       "200  Do print ops block gpu optimization ?\\n                                                                               \n",
       "\n",
       "                                                                                                                                                                                                                                                                                                                                                                                                                           code  \\\n",
       "0    def add bucket default owner bucket name user email storage client storage Client bucket storage client bucket bucket name bucket acl reload bucket default object acl user user email grant owner bucket default object acl save print ' Addeduser{}asanownerinthedefaultaclonbucket{} ' format user email bucket name\\n                                                                                                    \n",
       "1    def make trivial sdist dist path setup py setup py file tarfile Tar Info name 'setup py' try Mem File Bytes I Oexcept Attribute Error Mem File String I Osetup py bytes Mem File setup py encode 'utf- 8 ' setup py file size len setup py bytes getvalue dist tarfile open dist path 'w gz' try dist addfile setup py file fileobj setup py bytes finally dist close\\n                                                      \n",
       "2    def create le config parent dir config copy deepcopy constants CLI DEFAULTS le dir os path join parent dir 'certbot' config['config dir'] os path join le dir 'config' config['work dir'] os path join le dir 'work' config['logs dir'] os path join le dir 'logs dir' os makedirs config['config dir'] os mkdir config['work dir'] os mkdir config['logs dir'] config['domains'] Nonereturn argparse Namespace **config\\n   \n",
       "3    def policy key location return u'{cat}/{name}' format cat location category name location name\\n                                                                                                                                                                                                                                                                                                                             \n",
       "4    def remove like obj user obj type apps get model 'contenttypes' ' Content Type' objects get for model obj with atomic qs Like objects filter content type obj type object id obj id user user if not qs exists returnlike qs first project like projectqs delete if project is not None project refresh totals\\n                                                                                                             \n",
       "..                                                                                                                                                                                                                                                                                                                ...                                                                                                             \n",
       "196  def test add to end a dedent '\\nclass Abc \\ndefabc self \\nself x 3\\n\\nclass Two Abc \\ndefh self \\nself\\n' b 'defg self \\nself 'assert jedi Script a 8 12 'example py' completions assert jedi Script a + b path 'example py' completions a a[ -1 ] + ' \\n' assert jedi Script a 8 13 'example py' completions assert jedi Script a + b path 'example py' completions\\n                                                       \n",
       "197  def is Tipc Available if not hasattr socket 'AF TIPC' return Falseif not os path isfile '/proc/modules' return Falsewith open '/proc/modules' as f for line in f if line startswith 'tipc' return Truereturn False\\n                                                                                                                                                                                                         \n",
       "198  def test nonexistent extra warns user no wheel script data result script pip 'install' '--no-binary all ' '--no-index' '--find-links ' + data find links 'simple[nonexistent]' expect stderr True assert \"simple 3 0doesnotprovidetheextra'nonexistent'\" in result stderr\\n                                                                                                                                                  \n",
       "199  @register uncanonicalize@gof local optimizer [T Max And Argmax] def local max and argmax node if isinstance node op T Max And Argmax axis node op get params node if len node outputs[ 1 ] clients 0 new CA Reduce scal maximum axis node inputs[ 0 ] return [new None]if len node outputs[ 0 ] clients 0 return [ None T argmax node inputs[ 0 ] axis ]\\n                                                                   \n",
       "200  def test print op b tensor fmatrix f theano function [b] theano printing Print b * 2 mode mode with gpu topo f maker fgraph toposort assert isinstance topo[ 0 ] op Gpu From Host assert isinstance topo[ 1 ] op theano printing Print assert isinstance topo[ 2 ] op Gpu Elemwise assert topo[ 3 ] op host from gpu f numpy random random 5 5 astype 'float 32 '\\n                                                          \n",
       "\n",
       "    answer  \\\n",
       "0    Yes\\n   \n",
       "1    Yes\\n   \n",
       "2    Yes\\n   \n",
       "3    Yes\\n   \n",
       "4    Yes\\n   \n",
       "..     ...   \n",
       "196  No\\n    \n",
       "197  No\\n    \n",
       "198  No\\n    \n",
       "199  No\\n    \n",
       "200  No\\n    \n",
       "\n",
       "                                                                                                                                                                                                                                                                                                                                                                                                                                                                                                               model_input  \\\n",
       "0    Does the code add a user in the given buckets default object access control list as an owner ?\\ndef add bucket default owner bucket name user email storage client storage Client bucket storage client bucket bucket name bucket acl reload bucket default object acl user user email grant owner bucket default object acl save print ' Addeduser{}asanownerinthedefaultaclonbucket{} ' format user email bucket name\\nLet's think step by step. Please answer with a yes or no.                                      \n",
       "1    Does the code create a simple sdist tarball at dist_path ?\\ndef make trivial sdist dist path setup py setup py file tarfile Tar Info name 'setup py' try Mem File Bytes I Oexcept Attribute Error Mem File String I Osetup py bytes Mem File setup py encode 'utf- 8 ' setup py file size len setup py bytes getvalue dist tarfile open dist path 'w gz' try dist addfile setup py file fileobj setup py bytes finally dist close\\nLet's think step by step. Please answer with a yes or no.                            \n",
       "2    Does le dirs set in parent_dir ?\\ndef create le config parent dir config copy deepcopy constants CLI DEFAULTS le dir os path join parent dir 'certbot' config['config dir'] os path join le dir 'config' config['work dir'] os path join le dir 'work' config['logs dir'] os path join le dir 'logs dir' os makedirs config['config dir'] os mkdir config['work dir'] os mkdir config['logs dir'] config['domains'] Nonereturn argparse Namespace **config\\nLet's think step by step. Please answer with a yes or no.   \n",
       "3    Does the code get the key for a location in a policy file ?\\ndef policy key location return u'{cat}/{name}' format cat location category name location name\\nLet's think step by step. Please answer with a yes or no.                                                                                                                                                                                                                                                                                                  \n",
       "4    Does the code remove an user from an object like ?\\ndef remove like obj user obj type apps get model 'contenttypes' ' Content Type' objects get for model obj with atomic qs Like objects filter content type obj type object id obj id user user if not qs exists returnlike qs first project like projectqs delete if project is not None project refresh totals\\nLet's think step by step. Please answer with a yes or no.                                                                                           \n",
       "..                                                                                                                                                                                                                                                                                                                                                                                                                             ...                                                                                           \n",
       "196  Does fast_parser parse everything again ?\\ndef test add to end a dedent '\\nclass Abc \\ndefabc self \\nself x 3\\n\\nclass Two Abc \\ndefh self \\nself\\n' b 'defg self \\nself 'assert jedi Script a 8 12 'example py' completions assert jedi Script a + b path 'example py' completions a a[ -1 ] + ' \\n' assert jedi Script a 8 13 'example py' completions assert jedi Script a + b path 'example py' completions\\nLet's think step by step. Please answer with a yes or no.                                              \n",
       "197  Is the tipc module loaded on ubuntu and probably other linux distros if the tipc module is loaded automatically ?\\ndef is Tipc Available if not hasattr socket 'AF TIPC' return Falseif not os path isfile '/proc/modules' return Falsewith open '/proc/modules' as f for line in f if line startswith 'tipc' return Truereturn False\\nLet's think step by step. Please answer with a yes or no.                                                                                                                        \n",
       "198  Does the extra option they requested exist in the project they are wishing to install ?\\ndef test nonexistent extra warns user no wheel script data result script pip 'install' '--no-binary all ' '--no-index' '--find-links ' + data find links 'simple[nonexistent]' expect stderr True assert \"simple 3 0doesnotprovidetheextra'nonexistent'\" in result stderr\\nLet's think step by step. Please answer with a yes or no.                                                                                           \n",
       "199  Do we use the argmax ?\\n@register uncanonicalize@gof local optimizer [T Max And Argmax] def local max and argmax node if isinstance node op T Max And Argmax axis node op get params node if len node outputs[ 1 ] clients 0 new CA Reduce scal maximum axis node inputs[ 0 ] return [new None]if len node outputs[ 0 ] clients 0 return [ None T argmax node inputs[ 0 ] axis ]\\nLet's think step by step. Please answer with a yes or no.                                                                             \n",
       "200  Do print ops block gpu optimization ?\\ndef test print op b tensor fmatrix f theano function [b] theano printing Print b * 2 mode mode with gpu topo f maker fgraph toposort assert isinstance topo[ 0 ] op Gpu From Host assert isinstance topo[ 1 ] op theano printing Print assert isinstance topo[ 2 ] op Gpu Elemwise assert topo[ 3 ] op host from gpu f numpy random random 5 5 astype 'float 32 '\\nLet's think step by step. Please answer with a yes or no.                                                     \n",
       "\n",
       "                                                                                                                                                                                                                                                                                                                                                                                                                                                                                                                                                                                                                                                                                                                                                                             model_output  \n",
       "0    Yes.                                                                                                                                                                                                                                                                                                                                                                                                                                                                                                                                                                                                                                                                                                                                                                                  \n",
       "1    1. Does the code create a sdist tarball? Yes\\n2. Does the code create a simple sdist tarball? Yes\\n3. Is the name of the tarball \"setup.py\"? Yes\\n4. Is the tarball compressed with gzip? Yes\\n5. Is the tarball created at the specified dist_path? Yes                                                                                                                                                                                                                                                                                                                                                                                                                                                                                                                              \n",
       "2    Yes.                                                                                                                                                                                                                                                                                                                                                                                                                                                                                                                                                                                                                                                                                                                                                                                  \n",
       "3    Yes.                                                                                                                                                                                                                                                                                                                                                                                                                                                                                                                                                                                                                                                                                                                                                                                  \n",
       "4    Yes.                                                                                                                                                                                                                                                                                                                                                                                                                                                                                                                                                                                                                                                                                                                                                                                  \n",
       "..    ...                                                                                                                                                                                                                                                                                                                                                                                                                                                                                                                                                                                                                                                                                                                                                                                  \n",
       "196  1. Does fast_parser parse everything again? Yes/No\\nNo.                                                                                                                                                                                                                                                                                                                                                                                                                                                                                                                                                                                                                                                                                                                               \n",
       "197  1. Is the tipc module loaded on Ubuntu by default? No\\n2. Is the tipc module loaded automatically on other Linux distros? It depends on the distro and its configuration.\\n3. Does the code check if the tipc module is available? Yes\\n4. Does the code use the socket module to check for the availability of tipc? Yes\\n5. Does the code check if the /proc/modules file exists? Yes\\n6. Does the code return False if the /proc/modules file does not exist? Yes\\n7. Does the code open the /proc/modules file? Yes\\n8. Does the code check each line in the /proc/modules file for the string 'tipc'? Yes\\n9. Does the code return True if 'tipc' is found in the /proc/modules file? Yes\\n10. Does the code return False if 'tipc' is not found in the /proc/modules file? Yes  \n",
       "198  Yes.                                                                                                                                                                                                                                                                                                                                                                                                                                                                                                                                                                                                                                                                                                                                                                                  \n",
       "199  Do we define a local max and argmax node? Yes\\nDo we check if the node is an instance of T Max And Argmax? Yes\\nDo we get the axis parameter of the node? Yes\\nDo we create a new node for calculating the maximum value along the specified axis? Yes\\nDo we return the new node if the original node's output is not used? Yes\\nDo we return None if the original node's output is used? Yes\\nDo we use the argmax function? Yes                                                                                                                                                                                                                                                                                                                                                    \n",
       "200  No.                                                                                                                                                                                                                                                                                                                                                                                                                                                                                                                                                                                                                                                                                                                                                                                   \n",
       "\n",
       "[201 rows x 7 columns]"
      ]
     },
     "execution_count": 50,
     "metadata": {},
     "output_type": "execute_result"
    }
   ],
   "source": []
  },
  {
   "cell_type": "code",
   "execution_count": null,
   "metadata": {},
   "outputs": [],
   "source": []
  }
 ],
 "metadata": {
  "kernelspec": {
   "display_name": "ucsd",
   "language": "python",
   "name": "python3"
  },
  "language_info": {
   "codemirror_mode": {
    "name": "ipython",
    "version": 3
   },
   "file_extension": ".py",
   "mimetype": "text/x-python",
   "name": "python",
   "nbconvert_exporter": "python",
   "pygments_lexer": "ipython3",
   "version": "3.11.3"
  },
  "orig_nbformat": 4
 },
 "nbformat": 4,
 "nbformat_minor": 2
}
