{
 "cells": [
  {
   "cell_type": "code",
   "execution_count": 1,
   "id": "3aae953e",
   "metadata": {},
   "outputs": [
    {
     "name": "stderr",
     "output_type": "stream",
     "text": [
      "[nltk_data] Downloading package stopwords to\n",
      "[nltk_data]     C:\\Users\\maenz\\AppData\\Roaming\\nltk_data...\n",
      "[nltk_data]   Package stopwords is already up-to-date!\n",
      "Found cached dataset csv (C:/Users/maenz/.cache/huggingface/datasets/LYTinn___csv/LYTinn--sentiment-analysis-tweet-084cc9bd3eb759fe/0.0.0/6954658bab30a358235fa864b05cf819af0e179325c740e4bc853bcc7ec513e1)\n"
     ]
    },
    {
     "data": {
      "application/vnd.jupyter.widget-view+json": {
       "model_id": "72d9af471b1845a8a71322e785caa149",
       "version_major": 2,
       "version_minor": 0
      },
      "text/plain": [
       "  0%|          | 0/2 [00:00<?, ?it/s]"
      ]
     },
     "metadata": {},
     "output_type": "display_data"
    }
   ],
   "source": [
    "import pickle\n",
    "import pandas as pd\n",
    "import itertools\n",
    "import copy as cp\n",
    "from collections import Counter\n",
    "import numpy as np\n",
    "import nltk\n",
    "from nltk import word_tokenize\n",
    "from nltk.corpus import stopwords\n",
    "from gensim.models import word2vec\n",
    "from sklearn.linear_model import LogisticRegression\n",
    "import os\n",
    "import string\n",
    "nltk.download('stopwords')\n",
    "from tqdm.auto import tqdm\n",
    "from datasets import load_dataset\n",
    "dataset = load_dataset(\"LYTinn/sentiment-analysis-tweet\")"
   ]
  },
  {
   "cell_type": "code",
   "execution_count": 2,
   "id": "a8316399",
   "metadata": {},
   "outputs": [
    {
     "data": {
      "text/plain": [
       "DatasetDict({\n",
       "    train: Dataset({\n",
       "        features: ['tweet', 'label'],\n",
       "        num_rows: 10000\n",
       "    })\n",
       "    test: Dataset({\n",
       "        features: ['tweet', 'label'],\n",
       "        num_rows: 4913\n",
       "    })\n",
       "})"
      ]
     },
     "execution_count": 2,
     "metadata": {},
     "output_type": "execute_result"
    }
   ],
   "source": [
    "dataset"
   ]
  },
  {
   "cell_type": "code",
   "execution_count": 3,
   "id": "1f382d08",
   "metadata": {},
   "outputs": [],
   "source": [
    "df=pd.DataFrame.from_dict(dataset[\"train\"][0:700])"
   ]
  },
  {
   "cell_type": "code",
   "execution_count": 4,
   "id": "c153eb6d",
   "metadata": {},
   "outputs": [
    {
     "data": {
      "text/plain": [
       "0    BofA previews Netflixs NFLX Q3 Earnings Tues 0...\n",
       "1    I scooped a couple of shares this morning at a...\n",
       "2    Im streaming ES Futures using Bookmap on youtu...\n",
       "3               CF taking some off here close to 19150\n",
       "4    No change to this position is still bullish st...\n",
       "Name: tweet, dtype: object"
      ]
     },
     "execution_count": 4,
     "metadata": {},
     "output_type": "execute_result"
    }
   ],
   "source": [
    "df.iloc[0:5]['tweet']"
   ]
  },
  {
   "cell_type": "code",
   "execution_count": 5,
   "id": "a53d6765",
   "metadata": {},
   "outputs": [],
   "source": [
    "df_train=df"
   ]
  },
  {
   "cell_type": "code",
   "execution_count": 6,
   "id": "b06e794d",
   "metadata": {},
   "outputs": [],
   "source": [
    "df_test=pd.DataFrame.from_dict(dataset[\"test\"][0:300])"
   ]
  },
  {
   "cell_type": "code",
   "execution_count": 7,
   "id": "834d5c06",
   "metadata": {},
   "outputs": [],
   "source": [
    "for index, row in df_train.iterrows():\n",
    "    if row['label']==-1:\n",
    "        df_train.at[index,'label']=2\n",
    "for index, row in df_test.iterrows():\n",
    "    if row['label']==-1:\n",
    "        df_test.at[index,'label']=2"
   ]
  },
  {
   "cell_type": "code",
   "execution_count": 8,
   "id": "0d815e22",
   "metadata": {},
   "outputs": [],
   "source": [
    "# df_train.to_csv(\"tweet_train\")\n",
    "# df_test.to_csv(\"tweet_test\")"
   ]
  },
  {
   "cell_type": "code",
   "execution_count": 9,
   "id": "310a0e60",
   "metadata": {},
   "outputs": [],
   "source": [
    "df_train=pd.read_csv(\"tweet_train\")\n",
    "df_text=pd.read_csv(\"tweet_test\")"
   ]
  },
  {
   "cell_type": "code",
   "execution_count": 10,
   "id": "97c4ba14",
   "metadata": {},
   "outputs": [],
   "source": [
    "X_train_original=df_train['tweet']\n",
    "X_valid_original=df_test['tweet']\n",
    "y_train_original=df_train['label']\n",
    "y_valid_original=df_test['label']"
   ]
  },
  {
   "cell_type": "code",
   "execution_count": 11,
   "id": "73be6af3",
   "metadata": {},
   "outputs": [],
   "source": [
    "import torch\n",
    "assert torch.cuda.is_available()\n",
    "device = torch.device(\"cuda\")"
   ]
  },
  {
   "cell_type": "code",
   "execution_count": 12,
   "id": "8cf48a18",
   "metadata": {},
   "outputs": [],
   "source": [
    "from transformers import AutoTokenizer, AdamW,BertForSequenceClassification\n",
    "tokenizer= AutoTokenizer.from_pretrained(\"bert-base-uncased\")\n",
    "X_train=tokenizer(list(X_train_original),truncation=True, padding=True, max_length=32,return_tensors='pt')\n",
    "y_train=list(y_train_original)\n",
    "X_valid=tokenizer(list(X_valid_original),truncation=True, padding=True, max_length=32,return_tensors='pt')\n",
    "y_valid=list(y_valid_original)"
   ]
  },
  {
   "cell_type": "code",
   "execution_count": 13,
   "id": "c51b9f24",
   "metadata": {},
   "outputs": [],
   "source": [
    "class MyData(torch.utils.data.Dataset):\n",
    "    def __init__(self, token):\n",
    "        self.token = token\n",
    "    def __getitem__(self, id):\n",
    "        return {key: val[id] for key, val in self.token.items()}\n",
    "    def __len__(self):\n",
    "        return len(self.token.input_ids)"
   ]
  },
  {
   "cell_type": "code",
   "execution_count": 14,
   "id": "d75ecf77",
   "metadata": {},
   "outputs": [],
   "source": [
    "bat_size=64\n",
    "from torch.utils.data import DataLoader\n",
    "train_dataloader = DataLoader(MyData(X_train) , batch_size=bat_size,shuffle = False)\n",
    "valid_dataloader = DataLoader(MyData(X_valid) , batch_size=bat_size,shuffle = False)"
   ]
  },
  {
   "cell_type": "code",
   "execution_count": 15,
   "id": "3bd9a6a6",
   "metadata": {},
   "outputs": [
    {
     "name": "stderr",
     "output_type": "stream",
     "text": [
      "Some weights of the model checkpoint at bert-base-uncased were not used when initializing BertForSequenceClassification: ['cls.seq_relationship.bias', 'cls.predictions.transform.dense.bias', 'cls.predictions.bias', 'cls.predictions.decoder.weight', 'cls.seq_relationship.weight', 'cls.predictions.transform.dense.weight', 'cls.predictions.transform.LayerNorm.weight', 'cls.predictions.transform.LayerNorm.bias']\n",
      "- This IS expected if you are initializing BertForSequenceClassification from the checkpoint of a model trained on another task or with another architecture (e.g. initializing a BertForSequenceClassification model from a BertForPreTraining model).\n",
      "- This IS NOT expected if you are initializing BertForSequenceClassification from the checkpoint of a model that you expect to be exactly identical (initializing a BertForSequenceClassification model from a BertForSequenceClassification model).\n",
      "Some weights of BertForSequenceClassification were not initialized from the model checkpoint at bert-base-uncased and are newly initialized: ['classifier.weight', 'classifier.bias']\n",
      "You should probably TRAIN this model on a down-stream task to be able to use it for predictions and inference.\n",
      "F:\\anaconda\\lib\\site-packages\\transformers\\optimization.py:391: FutureWarning: This implementation of AdamW is deprecated and will be removed in a future version. Use the PyTorch implementation torch.optim.AdamW instead, or set `no_deprecation_warning=True` to disable this warning\n",
      "  warnings.warn(\n"
     ]
    }
   ],
   "source": [
    "model = BertForSequenceClassification.from_pretrained(\n",
    "    \"bert-base-uncased\", \n",
    "    num_labels = 3,    \n",
    "    output_attentions = False, \n",
    "    output_hidden_states = False,\n",
    ")\n",
    "model.to(device)\n",
    "optimizer = AdamW(model.parameters(),\n",
    "                  lr = 1e-5, # args.learning_rate - default is 5e-5\n",
    "                  eps = 1e-8, # args.adam_epsilon  - default is 1e-8\n",
    "                  weight_decay=0.01,\n",
    "                  correct_bias=True\n",
    "                )\n",
    "epochs = 50"
   ]
  },
  {
   "cell_type": "code",
   "execution_count": 16,
   "id": "b7f90a80",
   "metadata": {
    "scrolled": true
   },
   "outputs": [
    {
     "data": {
      "application/vnd.jupyter.widget-view+json": {
       "model_id": "48ffb1d3949047189035aa26808b1356",
       "version_major": 2,
       "version_minor": 0
      },
      "text/plain": [
       "epoch:   0%|          | 0/50 [00:00<?, ?it/s]"
      ]
     },
     "metadata": {},
     "output_type": "display_data"
    },
    {
     "data": {
      "application/vnd.jupyter.widget-view+json": {
       "model_id": "",
       "version_major": 2,
       "version_minor": 0
      },
      "text/plain": [
       "trainset:   0%|          | 0/11 [00:00<?, ?it/s]"
      ]
     },
     "metadata": {},
     "output_type": "display_data"
    },
    {
     "data": {
      "application/vnd.jupyter.widget-view+json": {
       "model_id": "",
       "version_major": 2,
       "version_minor": 0
      },
      "text/plain": [
       "validset:   0%|          | 0/5 [00:00<?, ?it/s]"
      ]
     },
     "metadata": {},
     "output_type": "display_data"
    },
    {
     "name": "stdout",
     "output_type": "stream",
     "text": [
      "epoch: 0\n",
      "train loss: 1.047587351365523\n",
      "valid loss: 1.0729750871658326\n",
      "valid accuracy: 0.45\n",
      "——————————————————————————————————————————————\n"
     ]
    },
    {
     "data": {
      "application/vnd.jupyter.widget-view+json": {
       "model_id": "",
       "version_major": 2,
       "version_minor": 0
      },
      "text/plain": [
       "trainset:   0%|          | 0/11 [00:00<?, ?it/s]"
      ]
     },
     "metadata": {},
     "output_type": "display_data"
    },
    {
     "data": {
      "application/vnd.jupyter.widget-view+json": {
       "model_id": "",
       "version_major": 2,
       "version_minor": 0
      },
      "text/plain": [
       "validset:   0%|          | 0/5 [00:00<?, ?it/s]"
      ]
     },
     "metadata": {},
     "output_type": "display_data"
    },
    {
     "name": "stdout",
     "output_type": "stream",
     "text": [
      "epoch: 1\n",
      "train loss: 1.0068971948190168\n",
      "valid loss: 1.0389108538627625\n",
      "valid accuracy: 0.45666666666666667\n",
      "——————————————————————————————————————————————\n"
     ]
    },
    {
     "data": {
      "application/vnd.jupyter.widget-view+json": {
       "model_id": "",
       "version_major": 2,
       "version_minor": 0
      },
      "text/plain": [
       "trainset:   0%|          | 0/11 [00:00<?, ?it/s]"
      ]
     },
     "metadata": {},
     "output_type": "display_data"
    },
    {
     "data": {
      "application/vnd.jupyter.widget-view+json": {
       "model_id": "",
       "version_major": 2,
       "version_minor": 0
      },
      "text/plain": [
       "validset:   0%|          | 0/5 [00:00<?, ?it/s]"
      ]
     },
     "metadata": {},
     "output_type": "display_data"
    },
    {
     "name": "stdout",
     "output_type": "stream",
     "text": [
      "epoch: 2\n",
      "train loss: 0.9714524475010958\n",
      "valid loss: 1.030248188972473\n",
      "valid accuracy: 0.47\n",
      "——————————————————————————————————————————————\n"
     ]
    },
    {
     "data": {
      "application/vnd.jupyter.widget-view+json": {
       "model_id": "",
       "version_major": 2,
       "version_minor": 0
      },
      "text/plain": [
       "trainset:   0%|          | 0/11 [00:00<?, ?it/s]"
      ]
     },
     "metadata": {},
     "output_type": "display_data"
    },
    {
     "data": {
      "application/vnd.jupyter.widget-view+json": {
       "model_id": "",
       "version_major": 2,
       "version_minor": 0
      },
      "text/plain": [
       "validset:   0%|          | 0/5 [00:00<?, ?it/s]"
      ]
     },
     "metadata": {},
     "output_type": "display_data"
    },
    {
     "name": "stdout",
     "output_type": "stream",
     "text": [
      "epoch: 3\n",
      "train loss: 0.9387001991271973\n",
      "valid loss: 1.0311487555503844\n",
      "valid accuracy: 0.4766666666666667\n",
      "——————————————————————————————————————————————\n"
     ]
    },
    {
     "data": {
      "application/vnd.jupyter.widget-view+json": {
       "model_id": "",
       "version_major": 2,
       "version_minor": 0
      },
      "text/plain": [
       "trainset:   0%|          | 0/11 [00:00<?, ?it/s]"
      ]
     },
     "metadata": {},
     "output_type": "display_data"
    },
    {
     "data": {
      "application/vnd.jupyter.widget-view+json": {
       "model_id": "",
       "version_major": 2,
       "version_minor": 0
      },
      "text/plain": [
       "validset:   0%|          | 0/5 [00:00<?, ?it/s]"
      ]
     },
     "metadata": {},
     "output_type": "display_data"
    },
    {
     "name": "stdout",
     "output_type": "stream",
     "text": [
      "epoch: 4\n",
      "train loss: 0.8916844183748419\n",
      "valid loss: 1.065603542327881\n",
      "valid accuracy: 0.49666666666666665\n",
      "——————————————————————————————————————————————\n"
     ]
    },
    {
     "data": {
      "application/vnd.jupyter.widget-view+json": {
       "model_id": "",
       "version_major": 2,
       "version_minor": 0
      },
      "text/plain": [
       "trainset:   0%|          | 0/11 [00:00<?, ?it/s]"
      ]
     },
     "metadata": {},
     "output_type": "display_data"
    },
    {
     "data": {
      "application/vnd.jupyter.widget-view+json": {
       "model_id": "",
       "version_major": 2,
       "version_minor": 0
      },
      "text/plain": [
       "validset:   0%|          | 0/5 [00:00<?, ?it/s]"
      ]
     },
     "metadata": {},
     "output_type": "display_data"
    },
    {
     "name": "stdout",
     "output_type": "stream",
     "text": [
      "epoch: 5\n",
      "train loss: 0.8583797866647894\n",
      "valid loss: 1.0617977857589722\n",
      "valid accuracy: 0.49666666666666665\n",
      "——————————————————————————————————————————————\n"
     ]
    },
    {
     "data": {
      "application/vnd.jupyter.widget-view+json": {
       "model_id": "",
       "version_major": 2,
       "version_minor": 0
      },
      "text/plain": [
       "trainset:   0%|          | 0/11 [00:00<?, ?it/s]"
      ]
     },
     "metadata": {},
     "output_type": "display_data"
    },
    {
     "data": {
      "application/vnd.jupyter.widget-view+json": {
       "model_id": "",
       "version_major": 2,
       "version_minor": 0
      },
      "text/plain": [
       "validset:   0%|          | 0/5 [00:00<?, ?it/s]"
      ]
     },
     "metadata": {},
     "output_type": "display_data"
    },
    {
     "name": "stdout",
     "output_type": "stream",
     "text": [
      "epoch: 6\n",
      "train loss: 0.8419639576565136\n",
      "valid loss: 1.0460550427436828\n",
      "valid accuracy: 0.5\n",
      "——————————————————————————————————————————————\n"
     ]
    },
    {
     "data": {
      "application/vnd.jupyter.widget-view+json": {
       "model_id": "",
       "version_major": 2,
       "version_minor": 0
      },
      "text/plain": [
       "trainset:   0%|          | 0/11 [00:00<?, ?it/s]"
      ]
     },
     "metadata": {},
     "output_type": "display_data"
    },
    {
     "data": {
      "application/vnd.jupyter.widget-view+json": {
       "model_id": "",
       "version_major": 2,
       "version_minor": 0
      },
      "text/plain": [
       "validset:   0%|          | 0/5 [00:00<?, ?it/s]"
      ]
     },
     "metadata": {},
     "output_type": "display_data"
    },
    {
     "name": "stdout",
     "output_type": "stream",
     "text": [
      "epoch: 7\n",
      "train loss: 0.7823462594639171\n",
      "valid loss: 1.0861968994140625\n",
      "valid accuracy: 0.49\n",
      "——————————————————————————————————————————————\n"
     ]
    },
    {
     "data": {
      "application/vnd.jupyter.widget-view+json": {
       "model_id": "",
       "version_major": 2,
       "version_minor": 0
      },
      "text/plain": [
       "trainset:   0%|          | 0/11 [00:00<?, ?it/s]"
      ]
     },
     "metadata": {},
     "output_type": "display_data"
    },
    {
     "data": {
      "application/vnd.jupyter.widget-view+json": {
       "model_id": "",
       "version_major": 2,
       "version_minor": 0
      },
      "text/plain": [
       "validset:   0%|          | 0/5 [00:00<?, ?it/s]"
      ]
     },
     "metadata": {},
     "output_type": "display_data"
    },
    {
     "name": "stdout",
     "output_type": "stream",
     "text": [
      "epoch: 8\n",
      "train loss: 0.7884379137646068\n",
      "valid loss: 1.1049254179000854\n",
      "valid accuracy: 0.5066666666666667\n",
      "——————————————————————————————————————————————\n"
     ]
    },
    {
     "data": {
      "application/vnd.jupyter.widget-view+json": {
       "model_id": "",
       "version_major": 2,
       "version_minor": 0
      },
      "text/plain": [
       "trainset:   0%|          | 0/11 [00:00<?, ?it/s]"
      ]
     },
     "metadata": {},
     "output_type": "display_data"
    },
    {
     "data": {
      "application/vnd.jupyter.widget-view+json": {
       "model_id": "",
       "version_major": 2,
       "version_minor": 0
      },
      "text/plain": [
       "validset:   0%|          | 0/5 [00:00<?, ?it/s]"
      ]
     },
     "metadata": {},
     "output_type": "display_data"
    },
    {
     "name": "stdout",
     "output_type": "stream",
     "text": [
      "epoch: 9\n",
      "train loss: 0.7624734260819175\n",
      "valid loss: 1.0937886238098145\n",
      "valid accuracy: 0.49666666666666665\n",
      "——————————————————————————————————————————————\n"
     ]
    },
    {
     "data": {
      "application/vnd.jupyter.widget-view+json": {
       "model_id": "",
       "version_major": 2,
       "version_minor": 0
      },
      "text/plain": [
       "trainset:   0%|          | 0/11 [00:00<?, ?it/s]"
      ]
     },
     "metadata": {},
     "output_type": "display_data"
    },
    {
     "data": {
      "application/vnd.jupyter.widget-view+json": {
       "model_id": "",
       "version_major": 2,
       "version_minor": 0
      },
      "text/plain": [
       "validset:   0%|          | 0/5 [00:00<?, ?it/s]"
      ]
     },
     "metadata": {},
     "output_type": "display_data"
    },
    {
     "name": "stdout",
     "output_type": "stream",
     "text": [
      "epoch: 10\n",
      "train loss: 0.7264115647836165\n",
      "valid loss: 1.0590293884277344\n",
      "valid accuracy: 0.4866666666666667\n",
      "——————————————————————————————————————————————\n"
     ]
    },
    {
     "data": {
      "application/vnd.jupyter.widget-view+json": {
       "model_id": "",
       "version_major": 2,
       "version_minor": 0
      },
      "text/plain": [
       "trainset:   0%|          | 0/11 [00:00<?, ?it/s]"
      ]
     },
     "metadata": {},
     "output_type": "display_data"
    },
    {
     "data": {
      "application/vnd.jupyter.widget-view+json": {
       "model_id": "",
       "version_major": 2,
       "version_minor": 0
      },
      "text/plain": [
       "validset:   0%|          | 0/5 [00:00<?, ?it/s]"
      ]
     },
     "metadata": {},
     "output_type": "display_data"
    },
    {
     "name": "stdout",
     "output_type": "stream",
     "text": [
      "epoch: 11\n",
      "train loss: 0.7130198424512689\n",
      "valid loss: 1.0499768257141113\n",
      "valid accuracy: 0.52\n",
      "——————————————————————————————————————————————\n"
     ]
    },
    {
     "data": {
      "application/vnd.jupyter.widget-view+json": {
       "model_id": "",
       "version_major": 2,
       "version_minor": 0
      },
      "text/plain": [
       "trainset:   0%|          | 0/11 [00:00<?, ?it/s]"
      ]
     },
     "metadata": {},
     "output_type": "display_data"
    },
    {
     "data": {
      "application/vnd.jupyter.widget-view+json": {
       "model_id": "",
       "version_major": 2,
       "version_minor": 0
      },
      "text/plain": [
       "validset:   0%|          | 0/5 [00:00<?, ?it/s]"
      ]
     },
     "metadata": {},
     "output_type": "display_data"
    },
    {
     "name": "stdout",
     "output_type": "stream",
     "text": [
      "epoch: 12\n",
      "train loss: 0.7155369845303622\n",
      "valid loss: 1.0738853096961976\n",
      "valid accuracy: 0.51\n",
      "——————————————————————————————————————————————\n"
     ]
    },
    {
     "data": {
      "application/vnd.jupyter.widget-view+json": {
       "model_id": "",
       "version_major": 2,
       "version_minor": 0
      },
      "text/plain": [
       "trainset:   0%|          | 0/11 [00:00<?, ?it/s]"
      ]
     },
     "metadata": {},
     "output_type": "display_data"
    },
    {
     "data": {
      "application/vnd.jupyter.widget-view+json": {
       "model_id": "",
       "version_major": 2,
       "version_minor": 0
      },
      "text/plain": [
       "validset:   0%|          | 0/5 [00:00<?, ?it/s]"
      ]
     },
     "metadata": {},
     "output_type": "display_data"
    },
    {
     "name": "stdout",
     "output_type": "stream",
     "text": [
      "epoch: 13\n",
      "train loss: 0.6529520533301614\n",
      "valid loss: 1.100661838054657\n",
      "valid accuracy: 0.5166666666666667\n",
      "——————————————————————————————————————————————\n"
     ]
    },
    {
     "data": {
      "application/vnd.jupyter.widget-view+json": {
       "model_id": "",
       "version_major": 2,
       "version_minor": 0
      },
      "text/plain": [
       "trainset:   0%|          | 0/11 [00:00<?, ?it/s]"
      ]
     },
     "metadata": {},
     "output_type": "display_data"
    },
    {
     "data": {
      "application/vnd.jupyter.widget-view+json": {
       "model_id": "",
       "version_major": 2,
       "version_minor": 0
      },
      "text/plain": [
       "validset:   0%|          | 0/5 [00:00<?, ?it/s]"
      ]
     },
     "metadata": {},
     "output_type": "display_data"
    },
    {
     "name": "stdout",
     "output_type": "stream",
     "text": [
      "epoch: 14\n",
      "train loss: 0.5936085148291155\n",
      "valid loss: 1.1108964323997497\n",
      "valid accuracy: 0.5166666666666667\n",
      "——————————————————————————————————————————————\n"
     ]
    },
    {
     "data": {
      "application/vnd.jupyter.widget-view+json": {
       "model_id": "",
       "version_major": 2,
       "version_minor": 0
      },
      "text/plain": [
       "trainset:   0%|          | 0/11 [00:00<?, ?it/s]"
      ]
     },
     "metadata": {},
     "output_type": "display_data"
    },
    {
     "data": {
      "application/vnd.jupyter.widget-view+json": {
       "model_id": "",
       "version_major": 2,
       "version_minor": 0
      },
      "text/plain": [
       "validset:   0%|          | 0/5 [00:00<?, ?it/s]"
      ]
     },
     "metadata": {},
     "output_type": "display_data"
    },
    {
     "name": "stdout",
     "output_type": "stream",
     "text": [
      "epoch: 15\n",
      "train loss: 0.5415760956027291\n",
      "valid loss: 1.1616257667541503\n",
      "valid accuracy: 0.5166666666666667\n",
      "——————————————————————————————————————————————\n"
     ]
    },
    {
     "data": {
      "application/vnd.jupyter.widget-view+json": {
       "model_id": "",
       "version_major": 2,
       "version_minor": 0
      },
      "text/plain": [
       "trainset:   0%|          | 0/11 [00:00<?, ?it/s]"
      ]
     },
     "metadata": {},
     "output_type": "display_data"
    },
    {
     "data": {
      "application/vnd.jupyter.widget-view+json": {
       "model_id": "",
       "version_major": 2,
       "version_minor": 0
      },
      "text/plain": [
       "validset:   0%|          | 0/5 [00:00<?, ?it/s]"
      ]
     },
     "metadata": {},
     "output_type": "display_data"
    },
    {
     "name": "stdout",
     "output_type": "stream",
     "text": [
      "epoch: 16\n",
      "train loss: 0.534755752845244\n",
      "valid loss: 1.2903063774108887\n",
      "valid accuracy: 0.51\n",
      "——————————————————————————————————————————————\n"
     ]
    },
    {
     "data": {
      "application/vnd.jupyter.widget-view+json": {
       "model_id": "",
       "version_major": 2,
       "version_minor": 0
      },
      "text/plain": [
       "trainset:   0%|          | 0/11 [00:00<?, ?it/s]"
      ]
     },
     "metadata": {},
     "output_type": "display_data"
    },
    {
     "data": {
      "application/vnd.jupyter.widget-view+json": {
       "model_id": "",
       "version_major": 2,
       "version_minor": 0
      },
      "text/plain": [
       "validset:   0%|          | 0/5 [00:00<?, ?it/s]"
      ]
     },
     "metadata": {},
     "output_type": "display_data"
    },
    {
     "name": "stdout",
     "output_type": "stream",
     "text": [
      "epoch: 17\n",
      "train loss: 0.49970924854278564\n",
      "valid loss: 1.252215027809143\n",
      "valid accuracy: 0.5166666666666667\n",
      "——————————————————————————————————————————————\n"
     ]
    },
    {
     "data": {
      "application/vnd.jupyter.widget-view+json": {
       "model_id": "",
       "version_major": 2,
       "version_minor": 0
      },
      "text/plain": [
       "trainset:   0%|          | 0/11 [00:00<?, ?it/s]"
      ]
     },
     "metadata": {},
     "output_type": "display_data"
    },
    {
     "data": {
      "application/vnd.jupyter.widget-view+json": {
       "model_id": "",
       "version_major": 2,
       "version_minor": 0
      },
      "text/plain": [
       "validset:   0%|          | 0/5 [00:00<?, ?it/s]"
      ]
     },
     "metadata": {},
     "output_type": "display_data"
    },
    {
     "name": "stdout",
     "output_type": "stream",
     "text": [
      "epoch: 18\n",
      "train loss: 0.44475737485018646\n",
      "valid loss: 1.3658343076705932\n",
      "valid accuracy: 0.5266666666666666\n",
      "——————————————————————————————————————————————\n"
     ]
    },
    {
     "data": {
      "application/vnd.jupyter.widget-view+json": {
       "model_id": "",
       "version_major": 2,
       "version_minor": 0
      },
      "text/plain": [
       "trainset:   0%|          | 0/11 [00:00<?, ?it/s]"
      ]
     },
     "metadata": {},
     "output_type": "display_data"
    },
    {
     "data": {
      "application/vnd.jupyter.widget-view+json": {
       "model_id": "",
       "version_major": 2,
       "version_minor": 0
      },
      "text/plain": [
       "validset:   0%|          | 0/5 [00:00<?, ?it/s]"
      ]
     },
     "metadata": {},
     "output_type": "display_data"
    },
    {
     "name": "stdout",
     "output_type": "stream",
     "text": [
      "epoch: 19\n",
      "train loss: 0.40943404219367285\n",
      "valid loss: 1.3030256509780884\n",
      "valid accuracy: 0.55\n",
      "——————————————————————————————————————————————\n"
     ]
    },
    {
     "data": {
      "application/vnd.jupyter.widget-view+json": {
       "model_id": "",
       "version_major": 2,
       "version_minor": 0
      },
      "text/plain": [
       "trainset:   0%|          | 0/11 [00:00<?, ?it/s]"
      ]
     },
     "metadata": {},
     "output_type": "display_data"
    },
    {
     "data": {
      "application/vnd.jupyter.widget-view+json": {
       "model_id": "",
       "version_major": 2,
       "version_minor": 0
      },
      "text/plain": [
       "validset:   0%|          | 0/5 [00:00<?, ?it/s]"
      ]
     },
     "metadata": {},
     "output_type": "display_data"
    },
    {
     "name": "stdout",
     "output_type": "stream",
     "text": [
      "epoch: 20\n",
      "train loss: 0.3987506926059723\n",
      "valid loss: 1.3979917287826538\n",
      "valid accuracy: 0.5066666666666667\n",
      "——————————————————————————————————————————————\n"
     ]
    },
    {
     "data": {
      "application/vnd.jupyter.widget-view+json": {
       "model_id": "",
       "version_major": 2,
       "version_minor": 0
      },
      "text/plain": [
       "trainset:   0%|          | 0/11 [00:00<?, ?it/s]"
      ]
     },
     "metadata": {},
     "output_type": "display_data"
    },
    {
     "data": {
      "application/vnd.jupyter.widget-view+json": {
       "model_id": "",
       "version_major": 2,
       "version_minor": 0
      },
      "text/plain": [
       "validset:   0%|          | 0/5 [00:00<?, ?it/s]"
      ]
     },
     "metadata": {},
     "output_type": "display_data"
    },
    {
     "name": "stdout",
     "output_type": "stream",
     "text": [
      "epoch: 21\n",
      "train loss: 0.3880479633808136\n",
      "valid loss: 1.3935454130172729\n",
      "valid accuracy: 0.5266666666666666\n",
      "——————————————————————————————————————————————\n"
     ]
    },
    {
     "data": {
      "application/vnd.jupyter.widget-view+json": {
       "model_id": "",
       "version_major": 2,
       "version_minor": 0
      },
      "text/plain": [
       "trainset:   0%|          | 0/11 [00:00<?, ?it/s]"
      ]
     },
     "metadata": {},
     "output_type": "display_data"
    },
    {
     "data": {
      "application/vnd.jupyter.widget-view+json": {
       "model_id": "",
       "version_major": 2,
       "version_minor": 0
      },
      "text/plain": [
       "validset:   0%|          | 0/5 [00:00<?, ?it/s]"
      ]
     },
     "metadata": {},
     "output_type": "display_data"
    },
    {
     "name": "stdout",
     "output_type": "stream",
     "text": [
      "early stop\n"
     ]
    }
   ],
   "source": [
    "train_lost_epoch=[]\n",
    "valid_lost_epoch=[]\n",
    "valid_accuracy_list=[]\n",
    "for epoch in tqdm(range(epochs),desc='epoch'):\n",
    "    model.train()\n",
    "    loss_list=[]\n",
    "    i=0\n",
    "    for batch in tqdm(train_dataloader,desc='trainset',leave=False):\n",
    "        model.zero_grad() \n",
    "        optimizer.zero_grad()\n",
    "        input_ids = batch['input_ids'].to(device)\n",
    "        token_type_ids = batch['token_type_ids'].to(device)\n",
    "        attention_mask = batch['attention_mask'].to(device)\n",
    "        target=torch.tensor(y_train[i:i+bat_size]).to(device)\n",
    "        i+=bat_size\n",
    "        outputs = model(input_ids, \n",
    "                            token_type_ids, \n",
    "                            attention_mask, \n",
    "                            labels=target)\n",
    "    \n",
    "        loss = outputs.loss\n",
    "        logits = outputs.logits\n",
    "        loss.backward()\n",
    "        optimizer.step()\n",
    "        loss_list.append(loss.item())\n",
    "    train_lost_epoch.append(np.mean(loss_list))\n",
    "    model.eval()\n",
    "    loss_list=[]\n",
    "    i=0\n",
    "    num_correct=0\n",
    "    for batch in tqdm(valid_dataloader,desc='validset',leave=False):\n",
    "        with torch.no_grad():  \n",
    "            input_ids = batch['input_ids'].to(device)\n",
    "            token_type_ids = batch['token_type_ids'].to(device)\n",
    "            attention_mask = batch['attention_mask'].to(device)\n",
    "\n",
    "            target=torch.tensor(y_valid[i:i+bat_size]).to(device)\n",
    "            i+=bat_size\n",
    "            outputs = model(input_ids, \n",
    "                                token_type_ids, \n",
    "                                attention_mask, \n",
    "                                labels=target)\n",
    "            loss = outputs.loss\n",
    "            logits = outputs.logits\n",
    "            loss_list.append(loss.item())\n",
    "            pred_flat = np.argmax(logits.detach().cpu().numpy(), axis=1).flatten()\n",
    "            labels_flat = target.to('cpu').numpy().flatten()\n",
    "            num_correct += np.sum(pred_flat == labels_flat)\n",
    "    valid_accuracy=num_correct/len(y_valid)\n",
    "    if  epoch==0:\n",
    "        torch.save(model.state_dict(), \"my_model\")\n",
    "    else:\n",
    "        if  valid_accuracy>max(valid_accuracy_list):\n",
    "            torch.save(model.state_dict(), \"my_model\")\n",
    "    if epoch>=10:\n",
    "        if valid_accuracy<min(valid_accuracy_list[-10:-1]):\n",
    "            print(\"early stop\")\n",
    "            break\n",
    "    valid_accuracy_list.append(valid_accuracy)\n",
    "    valid_lost_epoch.append(np.mean(loss_list))\n",
    "    print(\"epoch: \"+str(epoch))\n",
    "    print(\"train loss: \"+str(train_lost_epoch[-1]))\n",
    "    print(\"valid loss: \"+str(valid_lost_epoch[-1]))\n",
    "    print(\"valid accuracy: \"+str(valid_accuracy))\n",
    "    print(\"——————————————————————————————————————————————\")"
   ]
  },
  {
   "cell_type": "code",
   "execution_count": 17,
   "id": "82ac0404",
   "metadata": {},
   "outputs": [
    {
     "name": "stdout",
     "output_type": "stream",
     "text": [
      "0.55\n"
     ]
    }
   ],
   "source": [
    "print(max(valid_accuracy_list))"
   ]
  },
  {
   "cell_type": "markdown",
   "id": "83a47326",
   "metadata": {},
   "source": [
    "## baseline"
   ]
  },
  {
   "cell_type": "code",
   "execution_count": 18,
   "id": "92d41e4b",
   "metadata": {},
   "outputs": [],
   "source": [
    "import os\n",
    "import openai\n",
    "import time\n",
    "from auto_tqdm import tqdm\n",
    "def rephrase_by_chatgpt(text):\n",
    "    file1=open(\"api_key.txt\",'r')\n",
    "    api_key=file1.read()\n",
    "    openai.api_key=api_key\n",
    "    completion = openai.ChatCompletion.create(\n",
    "    model=\"gpt-3.5-turbo\",\n",
    "    messages=[{'role': 'user', 'content': \"Please rephrase the following sentence: \" +text}])\n",
    "    return completion.choices[0].message.content"
   ]
  },
  {
   "cell_type": "code",
   "execution_count": 19,
   "id": "9d41e648",
   "metadata": {},
   "outputs": [],
   "source": [
    "# x_new=[]\n",
    "# y_new=[]\n",
    "# for i in tqdm(range(len(X_train_original))):\n",
    "#     count=0\n",
    "#     while(count!=1):\n",
    "#         try:\n",
    "#             ans=rephrase_by_chatgpt(X_train_original[i])\n",
    "#             x_new.append(ans)\n",
    "#             y_new.append(y_train_original[i])\n",
    "#             count=1  \n",
    "#         except:\n",
    "#             time.sleep(0.5)"
   ]
  },
  {
   "cell_type": "code",
   "execution_count": 20,
   "id": "ab0273e5",
   "metadata": {},
   "outputs": [],
   "source": [
    "# base_dict={\"tweet\":x_new,\"label\":y_new}\n",
    "# new_df=pd.DataFrame.from_dict(base_dict)\n",
    "# new_df.to_csv(\"chatgpt_tweet_base\")\n",
    "new_df=pd.read_csv(\"chatgpt_tweet_base\")\n",
    "X_train_base=list(X_train_original)+list(new_df['tweet'])\n",
    "y_train_base=list(y_train_original)+list(new_df['label'])\n",
    "X_train=tokenizer(list(X_train_base),truncation=True, padding=True, max_length=32,return_tensors='pt')\n",
    "y_train=list(y_train_base)\n",
    "from torch.utils.data import DataLoader\n",
    "train_dataloader = DataLoader(MyData(X_train) , batch_size=bat_size,shuffle = False)"
   ]
  },
  {
   "cell_type": "code",
   "execution_count": 21,
   "id": "7e269d6c",
   "metadata": {},
   "outputs": [
    {
     "name": "stderr",
     "output_type": "stream",
     "text": [
      "Some weights of the model checkpoint at bert-base-uncased were not used when initializing BertForSequenceClassification: ['cls.seq_relationship.bias', 'cls.predictions.transform.dense.bias', 'cls.predictions.bias', 'cls.predictions.decoder.weight', 'cls.seq_relationship.weight', 'cls.predictions.transform.dense.weight', 'cls.predictions.transform.LayerNorm.weight', 'cls.predictions.transform.LayerNorm.bias']\n",
      "- This IS expected if you are initializing BertForSequenceClassification from the checkpoint of a model trained on another task or with another architecture (e.g. initializing a BertForSequenceClassification model from a BertForPreTraining model).\n",
      "- This IS NOT expected if you are initializing BertForSequenceClassification from the checkpoint of a model that you expect to be exactly identical (initializing a BertForSequenceClassification model from a BertForSequenceClassification model).\n",
      "Some weights of BertForSequenceClassification were not initialized from the model checkpoint at bert-base-uncased and are newly initialized: ['classifier.weight', 'classifier.bias']\n",
      "You should probably TRAIN this model on a down-stream task to be able to use it for predictions and inference.\n",
      "F:\\anaconda\\lib\\site-packages\\transformers\\optimization.py:391: FutureWarning: This implementation of AdamW is deprecated and will be removed in a future version. Use the PyTorch implementation torch.optim.AdamW instead, or set `no_deprecation_warning=True` to disable this warning\n",
      "  warnings.warn(\n"
     ]
    }
   ],
   "source": [
    "model= BertForSequenceClassification.from_pretrained(\n",
    "    \"bert-base-uncased\", \n",
    "    num_labels = 3,    \n",
    "    output_attentions = False, \n",
    "    output_hidden_states = False,\n",
    ")\n",
    "model.to(device)\n",
    "optimizer = AdamW(model.parameters(),\n",
    "                  lr = 1e-5, # args.learning_rate - default is 5e-5\n",
    "                  eps = 1e-8, # args.adam_epsilon  - default is 1e-8\n",
    "                  weight_decay=0.01,\n",
    "                  correct_bias=True\n",
    "                )\n",
    "epochs = 50"
   ]
  },
  {
   "cell_type": "code",
   "execution_count": 22,
   "id": "203265ec",
   "metadata": {},
   "outputs": [
    {
     "data": {
      "application/vnd.jupyter.widget-view+json": {
       "model_id": "fc7b1c40cad54bcf90fd97792b05810e",
       "version_major": 2,
       "version_minor": 0
      },
      "text/plain": [
       "epoch:   0%|                                                                                    | 0/50 [00:00<…"
      ]
     },
     "metadata": {},
     "output_type": "display_data"
    },
    {
     "data": {
      "application/vnd.jupyter.widget-view+json": {
       "model_id": "",
       "version_major": 2,
       "version_minor": 0
      },
      "text/plain": [
       "trainset:   0%|                                                                                 | 0/22 [00:00<…"
      ]
     },
     "metadata": {},
     "output_type": "display_data"
    },
    {
     "data": {
      "application/vnd.jupyter.widget-view+json": {
       "model_id": "",
       "version_major": 2,
       "version_minor": 0
      },
      "text/plain": [
       "validset:   0%|                                                                                  | 0/5 [00:00<…"
      ]
     },
     "metadata": {},
     "output_type": "display_data"
    },
    {
     "name": "stdout",
     "output_type": "stream",
     "text": [
      "epoch: 0\n",
      "train loss: 1.1965433196587996\n",
      "valid loss: 1.1531194210052491\n",
      "valid accuracy: 0.45\n",
      "——————————————————————————————————————————————\n"
     ]
    },
    {
     "data": {
      "application/vnd.jupyter.widget-view+json": {
       "model_id": "",
       "version_major": 2,
       "version_minor": 0
      },
      "text/plain": [
       "trainset:   0%|                                                                                 | 0/22 [00:00<…"
      ]
     },
     "metadata": {},
     "output_type": "display_data"
    },
    {
     "data": {
      "application/vnd.jupyter.widget-view+json": {
       "model_id": "",
       "version_major": 2,
       "version_minor": 0
      },
      "text/plain": [
       "validset:   0%|                                                                                  | 0/5 [00:00<…"
      ]
     },
     "metadata": {},
     "output_type": "display_data"
    },
    {
     "name": "stdout",
     "output_type": "stream",
     "text": [
      "epoch: 1\n",
      "train loss: 1.0587355277755044\n",
      "valid loss: 1.1207490921020509\n",
      "valid accuracy: 0.41333333333333333\n",
      "——————————————————————————————————————————————\n"
     ]
    },
    {
     "data": {
      "application/vnd.jupyter.widget-view+json": {
       "model_id": "",
       "version_major": 2,
       "version_minor": 0
      },
      "text/plain": [
       "trainset:   0%|                                                                                 | 0/22 [00:00<…"
      ]
     },
     "metadata": {},
     "output_type": "display_data"
    },
    {
     "data": {
      "application/vnd.jupyter.widget-view+json": {
       "model_id": "",
       "version_major": 2,
       "version_minor": 0
      },
      "text/plain": [
       "validset:   0%|                                                                                  | 0/5 [00:00<…"
      ]
     },
     "metadata": {},
     "output_type": "display_data"
    },
    {
     "name": "stdout",
     "output_type": "stream",
     "text": [
      "epoch: 2\n",
      "train loss: 1.0236449675126509\n",
      "valid loss: 1.0560869097709655\n",
      "valid accuracy: 0.45666666666666667\n",
      "——————————————————————————————————————————————\n"
     ]
    },
    {
     "data": {
      "application/vnd.jupyter.widget-view+json": {
       "model_id": "",
       "version_major": 2,
       "version_minor": 0
      },
      "text/plain": [
       "trainset:   0%|                                                                                 | 0/22 [00:00<…"
      ]
     },
     "metadata": {},
     "output_type": "display_data"
    },
    {
     "data": {
      "application/vnd.jupyter.widget-view+json": {
       "model_id": "",
       "version_major": 2,
       "version_minor": 0
      },
      "text/plain": [
       "validset:   0%|                                                                                  | 0/5 [00:00<…"
      ]
     },
     "metadata": {},
     "output_type": "display_data"
    },
    {
     "name": "stdout",
     "output_type": "stream",
     "text": [
      "epoch: 3\n",
      "train loss: 0.9802375815131448\n",
      "valid loss: 1.0387394666671752\n",
      "valid accuracy: 0.45666666666666667\n",
      "——————————————————————————————————————————————\n"
     ]
    },
    {
     "data": {
      "application/vnd.jupyter.widget-view+json": {
       "model_id": "",
       "version_major": 2,
       "version_minor": 0
      },
      "text/plain": [
       "trainset:   0%|                                                                                 | 0/22 [00:00<…"
      ]
     },
     "metadata": {},
     "output_type": "display_data"
    },
    {
     "data": {
      "application/vnd.jupyter.widget-view+json": {
       "model_id": "",
       "version_major": 2,
       "version_minor": 0
      },
      "text/plain": [
       "validset:   0%|                                                                                  | 0/5 [00:00<…"
      ]
     },
     "metadata": {},
     "output_type": "display_data"
    },
    {
     "name": "stdout",
     "output_type": "stream",
     "text": [
      "epoch: 4\n",
      "train loss: 0.9250038482926108\n",
      "valid loss: 1.0568307399749757\n",
      "valid accuracy: 0.5033333333333333\n",
      "——————————————————————————————————————————————\n"
     ]
    },
    {
     "data": {
      "application/vnd.jupyter.widget-view+json": {
       "model_id": "",
       "version_major": 2,
       "version_minor": 0
      },
      "text/plain": [
       "trainset:   0%|                                                                                 | 0/22 [00:00<…"
      ]
     },
     "metadata": {},
     "output_type": "display_data"
    },
    {
     "data": {
      "application/vnd.jupyter.widget-view+json": {
       "model_id": "",
       "version_major": 2,
       "version_minor": 0
      },
      "text/plain": [
       "validset:   0%|                                                                                  | 0/5 [00:00<…"
      ]
     },
     "metadata": {},
     "output_type": "display_data"
    },
    {
     "name": "stdout",
     "output_type": "stream",
     "text": [
      "epoch: 5\n",
      "train loss: 0.8651525351134214\n",
      "valid loss: 1.0316367983818053\n",
      "valid accuracy: 0.5533333333333333\n",
      "——————————————————————————————————————————————\n"
     ]
    },
    {
     "data": {
      "application/vnd.jupyter.widget-view+json": {
       "model_id": "",
       "version_major": 2,
       "version_minor": 0
      },
      "text/plain": [
       "trainset:   0%|                                                                                 | 0/22 [00:00<…"
      ]
     },
     "metadata": {},
     "output_type": "display_data"
    },
    {
     "data": {
      "application/vnd.jupyter.widget-view+json": {
       "model_id": "",
       "version_major": 2,
       "version_minor": 0
      },
      "text/plain": [
       "validset:   0%|                                                                                  | 0/5 [00:00<…"
      ]
     },
     "metadata": {},
     "output_type": "display_data"
    },
    {
     "name": "stdout",
     "output_type": "stream",
     "text": [
      "epoch: 6\n",
      "train loss: 0.7957253699952905\n",
      "valid loss: 1.0870089769363402\n",
      "valid accuracy: 0.55\n",
      "——————————————————————————————————————————————\n"
     ]
    },
    {
     "data": {
      "application/vnd.jupyter.widget-view+json": {
       "model_id": "",
       "version_major": 2,
       "version_minor": 0
      },
      "text/plain": [
       "trainset:   0%|                                                                                 | 0/22 [00:00<…"
      ]
     },
     "metadata": {},
     "output_type": "display_data"
    },
    {
     "data": {
      "application/vnd.jupyter.widget-view+json": {
       "model_id": "",
       "version_major": 2,
       "version_minor": 0
      },
      "text/plain": [
       "validset:   0%|                                                                                  | 0/5 [00:00<…"
      ]
     },
     "metadata": {},
     "output_type": "display_data"
    },
    {
     "name": "stdout",
     "output_type": "stream",
     "text": [
      "epoch: 7\n",
      "train loss: 0.7259040176868439\n",
      "valid loss: 1.097739338874817\n",
      "valid accuracy: 0.5466666666666666\n",
      "——————————————————————————————————————————————\n"
     ]
    },
    {
     "data": {
      "application/vnd.jupyter.widget-view+json": {
       "model_id": "",
       "version_major": 2,
       "version_minor": 0
      },
      "text/plain": [
       "trainset:   0%|                                                                                 | 0/22 [00:00<…"
      ]
     },
     "metadata": {},
     "output_type": "display_data"
    },
    {
     "data": {
      "application/vnd.jupyter.widget-view+json": {
       "model_id": "",
       "version_major": 2,
       "version_minor": 0
      },
      "text/plain": [
       "validset:   0%|                                                                                  | 0/5 [00:00<…"
      ]
     },
     "metadata": {},
     "output_type": "display_data"
    },
    {
     "name": "stdout",
     "output_type": "stream",
     "text": [
      "epoch: 8\n",
      "train loss: 0.6746963506395166\n",
      "valid loss: 1.0597845435142517\n",
      "valid accuracy: 0.52\n",
      "——————————————————————————————————————————————\n"
     ]
    },
    {
     "data": {
      "application/vnd.jupyter.widget-view+json": {
       "model_id": "",
       "version_major": 2,
       "version_minor": 0
      },
      "text/plain": [
       "trainset:   0%|                                                                                 | 0/22 [00:00<…"
      ]
     },
     "metadata": {},
     "output_type": "display_data"
    },
    {
     "data": {
      "application/vnd.jupyter.widget-view+json": {
       "model_id": "",
       "version_major": 2,
       "version_minor": 0
      },
      "text/plain": [
       "validset:   0%|                                                                                  | 0/5 [00:00<…"
      ]
     },
     "metadata": {},
     "output_type": "display_data"
    },
    {
     "name": "stdout",
     "output_type": "stream",
     "text": [
      "epoch: 9\n",
      "train loss: 0.6911886822093617\n",
      "valid loss: 1.0707634210586547\n",
      "valid accuracy: 0.5466666666666666\n",
      "——————————————————————————————————————————————\n"
     ]
    },
    {
     "data": {
      "application/vnd.jupyter.widget-view+json": {
       "model_id": "",
       "version_major": 2,
       "version_minor": 0
      },
      "text/plain": [
       "trainset:   0%|                                                                                 | 0/22 [00:00<…"
      ]
     },
     "metadata": {},
     "output_type": "display_data"
    },
    {
     "data": {
      "application/vnd.jupyter.widget-view+json": {
       "model_id": "",
       "version_major": 2,
       "version_minor": 0
      },
      "text/plain": [
       "validset:   0%|                                                                                  | 0/5 [00:00<…"
      ]
     },
     "metadata": {},
     "output_type": "display_data"
    },
    {
     "name": "stdout",
     "output_type": "stream",
     "text": [
      "epoch: 10\n",
      "train loss: 0.5997012961994518\n",
      "valid loss: 1.084400224685669\n",
      "valid accuracy: 0.5333333333333333\n",
      "——————————————————————————————————————————————\n"
     ]
    },
    {
     "data": {
      "application/vnd.jupyter.widget-view+json": {
       "model_id": "",
       "version_major": 2,
       "version_minor": 0
      },
      "text/plain": [
       "trainset:   0%|                                                                                 | 0/22 [00:00<…"
      ]
     },
     "metadata": {},
     "output_type": "display_data"
    },
    {
     "data": {
      "application/vnd.jupyter.widget-view+json": {
       "model_id": "",
       "version_major": 2,
       "version_minor": 0
      },
      "text/plain": [
       "validset:   0%|                                                                                  | 0/5 [00:00<…"
      ]
     },
     "metadata": {},
     "output_type": "display_data"
    },
    {
     "name": "stdout",
     "output_type": "stream",
     "text": [
      "epoch: 11\n",
      "train loss: 0.5355719991705634\n",
      "valid loss: 1.0004985928535461\n",
      "valid accuracy: 0.58\n",
      "——————————————————————————————————————————————\n"
     ]
    },
    {
     "data": {
      "application/vnd.jupyter.widget-view+json": {
       "model_id": "",
       "version_major": 2,
       "version_minor": 0
      },
      "text/plain": [
       "trainset:   0%|                                                                                 | 0/22 [00:00<…"
      ]
     },
     "metadata": {},
     "output_type": "display_data"
    },
    {
     "data": {
      "application/vnd.jupyter.widget-view+json": {
       "model_id": "",
       "version_major": 2,
       "version_minor": 0
      },
      "text/plain": [
       "validset:   0%|                                                                                  | 0/5 [00:00<…"
      ]
     },
     "metadata": {},
     "output_type": "display_data"
    },
    {
     "name": "stdout",
     "output_type": "stream",
     "text": [
      "epoch: 12\n",
      "train loss: 0.5439663204279813\n",
      "valid loss: 1.021359956264496\n",
      "valid accuracy: 0.5866666666666667\n",
      "——————————————————————————————————————————————\n"
     ]
    },
    {
     "data": {
      "application/vnd.jupyter.widget-view+json": {
       "model_id": "",
       "version_major": 2,
       "version_minor": 0
      },
      "text/plain": [
       "trainset:   0%|                                                                                 | 0/22 [00:00<…"
      ]
     },
     "metadata": {},
     "output_type": "display_data"
    },
    {
     "data": {
      "application/vnd.jupyter.widget-view+json": {
       "model_id": "",
       "version_major": 2,
       "version_minor": 0
      },
      "text/plain": [
       "validset:   0%|                                                                                  | 0/5 [00:00<…"
      ]
     },
     "metadata": {},
     "output_type": "display_data"
    },
    {
     "name": "stdout",
     "output_type": "stream",
     "text": [
      "epoch: 13\n",
      "train loss: 0.5552907233888452\n",
      "valid loss: 1.0744466423988341\n",
      "valid accuracy: 0.5666666666666667\n",
      "——————————————————————————————————————————————\n"
     ]
    },
    {
     "data": {
      "application/vnd.jupyter.widget-view+json": {
       "model_id": "",
       "version_major": 2,
       "version_minor": 0
      },
      "text/plain": [
       "trainset:   0%|                                                                                 | 0/22 [00:00<…"
      ]
     },
     "metadata": {},
     "output_type": "display_data"
    },
    {
     "data": {
      "application/vnd.jupyter.widget-view+json": {
       "model_id": "",
       "version_major": 2,
       "version_minor": 0
      },
      "text/plain": [
       "validset:   0%|                                                                                  | 0/5 [00:00<…"
      ]
     },
     "metadata": {},
     "output_type": "display_data"
    },
    {
     "name": "stdout",
     "output_type": "stream",
     "text": [
      "epoch: 14\n",
      "train loss: 0.5050245360894636\n",
      "valid loss: 1.1068135261535645\n",
      "valid accuracy: 0.56\n",
      "——————————————————————————————————————————————\n"
     ]
    },
    {
     "data": {
      "application/vnd.jupyter.widget-view+json": {
       "model_id": "",
       "version_major": 2,
       "version_minor": 0
      },
      "text/plain": [
       "trainset:   0%|                                                                                 | 0/22 [00:00<…"
      ]
     },
     "metadata": {},
     "output_type": "display_data"
    },
    {
     "data": {
      "application/vnd.jupyter.widget-view+json": {
       "model_id": "",
       "version_major": 2,
       "version_minor": 0
      },
      "text/plain": [
       "validset:   0%|                                                                                  | 0/5 [00:00<…"
      ]
     },
     "metadata": {},
     "output_type": "display_data"
    },
    {
     "name": "stdout",
     "output_type": "stream",
     "text": [
      "epoch: 15\n",
      "train loss: 0.5137239017269828\n",
      "valid loss: 1.0751001477241515\n",
      "valid accuracy: 0.56\n",
      "——————————————————————————————————————————————\n"
     ]
    },
    {
     "data": {
      "application/vnd.jupyter.widget-view+json": {
       "model_id": "",
       "version_major": 2,
       "version_minor": 0
      },
      "text/plain": [
       "trainset:   0%|                                                                                 | 0/22 [00:00<…"
      ]
     },
     "metadata": {},
     "output_type": "display_data"
    },
    {
     "data": {
      "application/vnd.jupyter.widget-view+json": {
       "model_id": "",
       "version_major": 2,
       "version_minor": 0
      },
      "text/plain": [
       "validset:   0%|                                                                                  | 0/5 [00:00<…"
      ]
     },
     "metadata": {},
     "output_type": "display_data"
    },
    {
     "name": "stdout",
     "output_type": "stream",
     "text": [
      "epoch: 16\n",
      "train loss: 0.4336285062811591\n",
      "valid loss: 1.187373661994934\n",
      "valid accuracy: 0.5566666666666666\n",
      "——————————————————————————————————————————————\n"
     ]
    },
    {
     "data": {
      "application/vnd.jupyter.widget-view+json": {
       "model_id": "",
       "version_major": 2,
       "version_minor": 0
      },
      "text/plain": [
       "trainset:   0%|                                                                                 | 0/22 [00:00<…"
      ]
     },
     "metadata": {},
     "output_type": "display_data"
    },
    {
     "data": {
      "application/vnd.jupyter.widget-view+json": {
       "model_id": "",
       "version_major": 2,
       "version_minor": 0
      },
      "text/plain": [
       "validset:   0%|                                                                                  | 0/5 [00:00<…"
      ]
     },
     "metadata": {},
     "output_type": "display_data"
    },
    {
     "name": "stdout",
     "output_type": "stream",
     "text": [
      "epoch: 17\n",
      "train loss: 0.4852109036662362\n",
      "valid loss: 1.1406179189682006\n",
      "valid accuracy: 0.5266666666666666\n",
      "——————————————————————————————————————————————\n"
     ]
    },
    {
     "data": {
      "application/vnd.jupyter.widget-view+json": {
       "model_id": "",
       "version_major": 2,
       "version_minor": 0
      },
      "text/plain": [
       "trainset:   0%|                                                                                 | 0/22 [00:00<…"
      ]
     },
     "metadata": {},
     "output_type": "display_data"
    },
    {
     "data": {
      "application/vnd.jupyter.widget-view+json": {
       "model_id": "",
       "version_major": 2,
       "version_minor": 0
      },
      "text/plain": [
       "validset:   0%|                                                                                  | 0/5 [00:00<…"
      ]
     },
     "metadata": {},
     "output_type": "display_data"
    },
    {
     "name": "stdout",
     "output_type": "stream",
     "text": [
      "early stop\n"
     ]
    }
   ],
   "source": [
    "train_lost_epoch=[]\n",
    "valid_lost_epoch=[]\n",
    "valid_accuracy_list=[]\n",
    "for epoch in tqdm(range(epochs),desc='epoch'):\n",
    "    model.train()\n",
    "    loss_list=[]\n",
    "    i=0\n",
    "    for batch in tqdm(train_dataloader,desc='trainset',leave=False):\n",
    "        model.zero_grad() \n",
    "        optimizer.zero_grad()\n",
    "        input_ids = batch['input_ids'].to(device)\n",
    "        token_type_ids = batch['token_type_ids'].to(device)\n",
    "        attention_mask = batch['attention_mask'].to(device)\n",
    "        target=torch.tensor(y_train[i:i+bat_size]).to(device)\n",
    "        i+=bat_size\n",
    "        outputs = model(input_ids, \n",
    "                            token_type_ids, \n",
    "                            attention_mask, \n",
    "                            labels=target)\n",
    "\n",
    "        loss = outputs.loss\n",
    "        logits = outputs.logits\n",
    "        loss.backward()\n",
    "        optimizer.step()\n",
    "        loss_list.append(loss.item())\n",
    "    train_lost_epoch.append(np.mean(loss_list))\n",
    "    model.eval()\n",
    "    loss_list=[]\n",
    "    i=0\n",
    "    num_correct=0\n",
    "    for batch in tqdm(valid_dataloader,desc='validset',leave=False):\n",
    "        with torch.no_grad():  \n",
    "            input_ids = batch['input_ids'].to(device)\n",
    "            token_type_ids = batch['token_type_ids'].to(device)\n",
    "            attention_mask = batch['attention_mask'].to(device)\n",
    "\n",
    "            target=torch.tensor(y_valid[i:i+bat_size]).to(device)\n",
    "            i+=bat_size\n",
    "            outputs = model(input_ids, \n",
    "                                token_type_ids, \n",
    "                                attention_mask, \n",
    "                                labels=target)\n",
    "            loss = outputs.loss\n",
    "            logits = outputs.logits\n",
    "            loss_list.append(loss.item())\n",
    "            pred_flat = np.argmax(logits.detach().cpu().numpy(), axis=1).flatten()\n",
    "            labels_flat = target.to('cpu').numpy().flatten()\n",
    "            num_correct += np.sum(pred_flat == labels_flat)\n",
    "    valid_accuracy=num_correct/len(y_valid)\n",
    "    if  epoch==0:\n",
    "        torch.save(model.state_dict(), \"my_model_re\")\n",
    "    else:\n",
    "        if  valid_accuracy>max(valid_accuracy_list):\n",
    "            torch.save(model.state_dict(), \"my_model_re\")\n",
    "    if epoch>=10:\n",
    "        if valid_accuracy<min(valid_accuracy_list[-10:-1]):\n",
    "            print(\"early stop\")\n",
    "            break\n",
    "    valid_accuracy_list.append(valid_accuracy)\n",
    "    valid_lost_epoch.append(np.mean(loss_list))\n",
    "    print(\"epoch: \"+str(epoch))\n",
    "    print(\"train loss: \"+str(train_lost_epoch[-1]))\n",
    "    print(\"valid loss: \"+str(valid_lost_epoch[-1]))\n",
    "    print(\"valid accuracy: \"+str(valid_accuracy))\n",
    "    print(\"——————————————————————————————————————————————\")"
   ]
  },
  {
   "cell_type": "code",
   "execution_count": 23,
   "id": "3f61607b",
   "metadata": {},
   "outputs": [
    {
     "name": "stdout",
     "output_type": "stream",
     "text": [
      "0.5866666666666667\n"
     ]
    }
   ],
   "source": [
    "print(max(valid_accuracy_list))"
   ]
  },
  {
   "cell_type": "markdown",
   "id": "944a1afc",
   "metadata": {},
   "source": [
    "### +label"
   ]
  },
  {
   "cell_type": "code",
   "execution_count": 41,
   "id": "e5cf5e7d",
   "metadata": {},
   "outputs": [],
   "source": [
    "import os\n",
    "import openai\n",
    "import time\n",
    "from auto_tqdm import tqdm\n",
    "def rephrase_by_chatgpt2(text,label):\n",
    "    file1=open(\"api_key.txt\",'r')\n",
    "    api_key=file1.read()\n",
    "    openai.api_key=api_key\n",
    "    if label==1:\n",
    "        tone=\"positive\"\n",
    "    elif label==2:\n",
    "        tone=\"negative\"\n",
    "    else:\n",
    "        tone=\"neutral\"\n",
    "    completion = openai.ChatCompletion.create(\n",
    "    model=\"gpt-3.5-turbo\",\n",
    "    messages=[{'role': 'user', 'content': \"Please rephrase the sentence while retaining  the\"+ tone + \"emotion: \"+text}])\n",
    "    return completion.choices[0].message.content"
   ]
  },
  {
   "cell_type": "code",
   "execution_count": 42,
   "id": "a8d2f5f6",
   "metadata": {},
   "outputs": [
    {
     "data": {
      "text/plain": [
       "'The satisfaction of causing harm has been achieved, but perhaps a glimmer of hope exists that is yet to be uncovered. Consumers should exercise caution.'"
      ]
     },
     "execution_count": 42,
     "metadata": {},
     "output_type": "execute_result"
    }
   ],
   "source": [
    "rephrase_by_chatgpt2(X_train_original[7],y_train_original[7])"
   ]
  },
  {
   "cell_type": "code",
   "execution_count": 43,
   "id": "cab6de75",
   "metadata": {},
   "outputs": [
    {
     "data": {
      "application/vnd.jupyter.widget-view+json": {
       "model_id": "",
       "version_major": 2,
       "version_minor": 0
      },
      "text/plain": [
       "  0%|                                                                                          | 0/700 [00:00<…"
      ]
     },
     "metadata": {},
     "output_type": "display_data"
    }
   ],
   "source": [
    "x_new=[]\n",
    "y_new=[]\n",
    "for i in tqdm(range(len(X_train_original))):\n",
    "    count=0\n",
    "    while(count!=1):\n",
    "        try:\n",
    "            ans=rephrase_by_chatgpt2(X_train_original[i],y_train_original[i])\n",
    "            x_new.append(ans)\n",
    "            y_new.append(y_train_original[i])\n",
    "            count=1  \n",
    "        except:\n",
    "            time.sleep(0.5)"
   ]
  },
  {
   "cell_type": "code",
   "execution_count": 44,
   "id": "069bc158",
   "metadata": {},
   "outputs": [],
   "source": [
    "base_dict={\"tweet\":x_new,\"label\":y_new}\n",
    "new_df=pd.DataFrame.from_dict(base_dict)\n",
    "new_df.to_csv(\"chatgpt_tweet_label\")\n",
    "new_df=pd.read_csv(\"chatgpt_tweet_label\")\n",
    "X_train_base=list(X_train_original)+list(new_df['tweet'])\n",
    "y_train_base=list(y_train_original)+list(new_df['label'])\n",
    "X_train=tokenizer(list(X_train_base),truncation=True, padding=True, max_length=32,return_tensors='pt')\n",
    "y_train=list(y_train_base)\n",
    "from torch.utils.data import DataLoader\n",
    "train_dataloader = DataLoader(MyData(X_train) , batch_size=bat_size,shuffle = False)"
   ]
  },
  {
   "cell_type": "code",
   "execution_count": 45,
   "id": "83a09553",
   "metadata": {},
   "outputs": [
    {
     "name": "stderr",
     "output_type": "stream",
     "text": [
      "Some weights of the model checkpoint at bert-base-uncased were not used when initializing BertForSequenceClassification: ['cls.predictions.transform.dense.weight', 'cls.predictions.transform.LayerNorm.weight', 'cls.predictions.bias', 'cls.predictions.decoder.weight', 'cls.seq_relationship.weight', 'cls.predictions.transform.dense.bias', 'cls.predictions.transform.LayerNorm.bias', 'cls.seq_relationship.bias']\n",
      "- This IS expected if you are initializing BertForSequenceClassification from the checkpoint of a model trained on another task or with another architecture (e.g. initializing a BertForSequenceClassification model from a BertForPreTraining model).\n",
      "- This IS NOT expected if you are initializing BertForSequenceClassification from the checkpoint of a model that you expect to be exactly identical (initializing a BertForSequenceClassification model from a BertForSequenceClassification model).\n",
      "Some weights of BertForSequenceClassification were not initialized from the model checkpoint at bert-base-uncased and are newly initialized: ['classifier.bias', 'classifier.weight']\n",
      "You should probably TRAIN this model on a down-stream task to be able to use it for predictions and inference.\n",
      "F:\\anaconda\\lib\\site-packages\\transformers\\optimization.py:391: FutureWarning: This implementation of AdamW is deprecated and will be removed in a future version. Use the PyTorch implementation torch.optim.AdamW instead, or set `no_deprecation_warning=True` to disable this warning\n",
      "  warnings.warn(\n"
     ]
    }
   ],
   "source": [
    "model= BertForSequenceClassification.from_pretrained(\n",
    "    \"bert-base-uncased\", \n",
    "    num_labels = 3,    \n",
    "    output_attentions = False, \n",
    "    output_hidden_states = False,\n",
    ")\n",
    "model.to(device)\n",
    "optimizer = AdamW(model.parameters(),\n",
    "                  lr = 1e-5, # args.learning_rate - default is 5e-5\n",
    "                  eps = 1e-8, # args.adam_epsilon  - default is 1e-8\n",
    "                  weight_decay=0.01,\n",
    "                  correct_bias=True\n",
    "                )\n",
    "epochs = 50"
   ]
  },
  {
   "cell_type": "code",
   "execution_count": 46,
   "id": "ff12aecf",
   "metadata": {},
   "outputs": [
    {
     "data": {
      "application/vnd.jupyter.widget-view+json": {
       "model_id": "52b7647254574630a556a150e2319b46",
       "version_major": 2,
       "version_minor": 0
      },
      "text/plain": [
       "epoch:   0%|                                                                                    | 0/50 [00:00<…"
      ]
     },
     "metadata": {},
     "output_type": "display_data"
    },
    {
     "data": {
      "application/vnd.jupyter.widget-view+json": {
       "model_id": "",
       "version_major": 2,
       "version_minor": 0
      },
      "text/plain": [
       "trainset:   0%|                                                                                 | 0/22 [00:00<…"
      ]
     },
     "metadata": {},
     "output_type": "display_data"
    },
    {
     "data": {
      "application/vnd.jupyter.widget-view+json": {
       "model_id": "",
       "version_major": 2,
       "version_minor": 0
      },
      "text/plain": [
       "validset:   0%|                                                                                  | 0/5 [00:00<…"
      ]
     },
     "metadata": {},
     "output_type": "display_data"
    },
    {
     "name": "stdout",
     "output_type": "stream",
     "text": [
      "epoch: 0\n",
      "train loss: 1.1467652131210675\n",
      "valid loss: 1.1265252351760864\n",
      "valid accuracy: 0.45\n",
      "——————————————————————————————————————————————\n"
     ]
    },
    {
     "data": {
      "application/vnd.jupyter.widget-view+json": {
       "model_id": "",
       "version_major": 2,
       "version_minor": 0
      },
      "text/plain": [
       "trainset:   0%|                                                                                 | 0/22 [00:00<…"
      ]
     },
     "metadata": {},
     "output_type": "display_data"
    },
    {
     "data": {
      "application/vnd.jupyter.widget-view+json": {
       "model_id": "",
       "version_major": 2,
       "version_minor": 0
      },
      "text/plain": [
       "validset:   0%|                                                                                  | 0/5 [00:00<…"
      ]
     },
     "metadata": {},
     "output_type": "display_data"
    },
    {
     "name": "stdout",
     "output_type": "stream",
     "text": [
      "epoch: 1\n",
      "train loss: 1.022037460045381\n",
      "valid loss: 1.0933063983917237\n",
      "valid accuracy: 0.47\n",
      "——————————————————————————————————————————————\n"
     ]
    },
    {
     "data": {
      "application/vnd.jupyter.widget-view+json": {
       "model_id": "",
       "version_major": 2,
       "version_minor": 0
      },
      "text/plain": [
       "trainset:   0%|                                                                                 | 0/22 [00:00<…"
      ]
     },
     "metadata": {},
     "output_type": "display_data"
    },
    {
     "data": {
      "application/vnd.jupyter.widget-view+json": {
       "model_id": "",
       "version_major": 2,
       "version_minor": 0
      },
      "text/plain": [
       "validset:   0%|                                                                                  | 0/5 [00:00<…"
      ]
     },
     "metadata": {},
     "output_type": "display_data"
    },
    {
     "name": "stdout",
     "output_type": "stream",
     "text": [
      "epoch: 2\n",
      "train loss: 0.948495710437948\n",
      "valid loss: 1.1171056270599364\n",
      "valid accuracy: 0.51\n",
      "——————————————————————————————————————————————\n"
     ]
    },
    {
     "data": {
      "application/vnd.jupyter.widget-view+json": {
       "model_id": "",
       "version_major": 2,
       "version_minor": 0
      },
      "text/plain": [
       "trainset:   0%|                                                                                 | 0/22 [00:00<…"
      ]
     },
     "metadata": {},
     "output_type": "display_data"
    },
    {
     "data": {
      "application/vnd.jupyter.widget-view+json": {
       "model_id": "",
       "version_major": 2,
       "version_minor": 0
      },
      "text/plain": [
       "validset:   0%|                                                                                  | 0/5 [00:00<…"
      ]
     },
     "metadata": {},
     "output_type": "display_data"
    },
    {
     "name": "stdout",
     "output_type": "stream",
     "text": [
      "epoch: 3\n",
      "train loss: 0.8840236555446278\n",
      "valid loss: 1.1031867504119872\n",
      "valid accuracy: 0.51\n",
      "——————————————————————————————————————————————\n"
     ]
    },
    {
     "data": {
      "application/vnd.jupyter.widget-view+json": {
       "model_id": "",
       "version_major": 2,
       "version_minor": 0
      },
      "text/plain": [
       "trainset:   0%|                                                                                 | 0/22 [00:00<…"
      ]
     },
     "metadata": {},
     "output_type": "display_data"
    },
    {
     "data": {
      "application/vnd.jupyter.widget-view+json": {
       "model_id": "",
       "version_major": 2,
       "version_minor": 0
      },
      "text/plain": [
       "validset:   0%|                                                                                  | 0/5 [00:00<…"
      ]
     },
     "metadata": {},
     "output_type": "display_data"
    },
    {
     "name": "stdout",
     "output_type": "stream",
     "text": [
      "epoch: 4\n",
      "train loss: 0.8074860681187023\n",
      "valid loss: 1.0643056988716126\n",
      "valid accuracy: 0.5233333333333333\n",
      "——————————————————————————————————————————————\n"
     ]
    },
    {
     "data": {
      "application/vnd.jupyter.widget-view+json": {
       "model_id": "",
       "version_major": 2,
       "version_minor": 0
      },
      "text/plain": [
       "trainset:   0%|                                                                                 | 0/22 [00:00<…"
      ]
     },
     "metadata": {},
     "output_type": "display_data"
    },
    {
     "data": {
      "application/vnd.jupyter.widget-view+json": {
       "model_id": "",
       "version_major": 2,
       "version_minor": 0
      },
      "text/plain": [
       "validset:   0%|                                                                                  | 0/5 [00:00<…"
      ]
     },
     "metadata": {},
     "output_type": "display_data"
    },
    {
     "name": "stdout",
     "output_type": "stream",
     "text": [
      "epoch: 5\n",
      "train loss: 0.696091116829352\n",
      "valid loss: 1.017538344860077\n",
      "valid accuracy: 0.57\n",
      "——————————————————————————————————————————————\n"
     ]
    },
    {
     "data": {
      "application/vnd.jupyter.widget-view+json": {
       "model_id": "",
       "version_major": 2,
       "version_minor": 0
      },
      "text/plain": [
       "trainset:   0%|                                                                                 | 0/22 [00:00<…"
      ]
     },
     "metadata": {},
     "output_type": "display_data"
    },
    {
     "data": {
      "application/vnd.jupyter.widget-view+json": {
       "model_id": "",
       "version_major": 2,
       "version_minor": 0
      },
      "text/plain": [
       "validset:   0%|                                                                                  | 0/5 [00:00<…"
      ]
     },
     "metadata": {},
     "output_type": "display_data"
    },
    {
     "name": "stdout",
     "output_type": "stream",
     "text": [
      "epoch: 6\n",
      "train loss: 0.6221918043765154\n",
      "valid loss: 1.004300093650818\n",
      "valid accuracy: 0.5666666666666667\n",
      "——————————————————————————————————————————————\n"
     ]
    },
    {
     "data": {
      "application/vnd.jupyter.widget-view+json": {
       "model_id": "",
       "version_major": 2,
       "version_minor": 0
      },
      "text/plain": [
       "trainset:   0%|                                                                                 | 0/22 [00:00<…"
      ]
     },
     "metadata": {},
     "output_type": "display_data"
    },
    {
     "data": {
      "application/vnd.jupyter.widget-view+json": {
       "model_id": "",
       "version_major": 2,
       "version_minor": 0
      },
      "text/plain": [
       "validset:   0%|                                                                                  | 0/5 [00:00<…"
      ]
     },
     "metadata": {},
     "output_type": "display_data"
    },
    {
     "name": "stdout",
     "output_type": "stream",
     "text": [
      "epoch: 7\n",
      "train loss: 0.5794543610377745\n",
      "valid loss: 1.0202506065368653\n",
      "valid accuracy: 0.5566666666666666\n",
      "——————————————————————————————————————————————\n"
     ]
    },
    {
     "data": {
      "application/vnd.jupyter.widget-view+json": {
       "model_id": "",
       "version_major": 2,
       "version_minor": 0
      },
      "text/plain": [
       "trainset:   0%|                                                                                 | 0/22 [00:00<…"
      ]
     },
     "metadata": {},
     "output_type": "display_data"
    },
    {
     "data": {
      "application/vnd.jupyter.widget-view+json": {
       "model_id": "",
       "version_major": 2,
       "version_minor": 0
      },
      "text/plain": [
       "validset:   0%|                                                                                  | 0/5 [00:00<…"
      ]
     },
     "metadata": {},
     "output_type": "display_data"
    },
    {
     "name": "stdout",
     "output_type": "stream",
     "text": [
      "epoch: 8\n",
      "train loss: 0.5597443106499586\n",
      "valid loss: 1.2593517303466797\n",
      "valid accuracy: 0.5333333333333333\n",
      "——————————————————————————————————————————————\n"
     ]
    },
    {
     "data": {
      "application/vnd.jupyter.widget-view+json": {
       "model_id": "",
       "version_major": 2,
       "version_minor": 0
      },
      "text/plain": [
       "trainset:   0%|                                                                                 | 0/22 [00:00<…"
      ]
     },
     "metadata": {},
     "output_type": "display_data"
    },
    {
     "data": {
      "application/vnd.jupyter.widget-view+json": {
       "model_id": "",
       "version_major": 2,
       "version_minor": 0
      },
      "text/plain": [
       "validset:   0%|                                                                                  | 0/5 [00:00<…"
      ]
     },
     "metadata": {},
     "output_type": "display_data"
    },
    {
     "name": "stdout",
     "output_type": "stream",
     "text": [
      "epoch: 9\n",
      "train loss: 0.5775192271579396\n",
      "valid loss: 1.3754513263702393\n",
      "valid accuracy: 0.53\n",
      "——————————————————————————————————————————————\n"
     ]
    },
    {
     "data": {
      "application/vnd.jupyter.widget-view+json": {
       "model_id": "",
       "version_major": 2,
       "version_minor": 0
      },
      "text/plain": [
       "trainset:   0%|                                                                                 | 0/22 [00:00<…"
      ]
     },
     "metadata": {},
     "output_type": "display_data"
    },
    {
     "data": {
      "application/vnd.jupyter.widget-view+json": {
       "model_id": "",
       "version_major": 2,
       "version_minor": 0
      },
      "text/plain": [
       "validset:   0%|                                                                                  | 0/5 [00:00<…"
      ]
     },
     "metadata": {},
     "output_type": "display_data"
    },
    {
     "name": "stdout",
     "output_type": "stream",
     "text": [
      "epoch: 10\n",
      "train loss: 0.6574293104085055\n",
      "valid loss: 1.5145273447036742\n",
      "valid accuracy: 0.4533333333333333\n",
      "——————————————————————————————————————————————\n"
     ]
    },
    {
     "data": {
      "application/vnd.jupyter.widget-view+json": {
       "model_id": "",
       "version_major": 2,
       "version_minor": 0
      },
      "text/plain": [
       "trainset:   0%|                                                                                 | 0/22 [00:00<…"
      ]
     },
     "metadata": {},
     "output_type": "display_data"
    },
    {
     "data": {
      "application/vnd.jupyter.widget-view+json": {
       "model_id": "",
       "version_major": 2,
       "version_minor": 0
      },
      "text/plain": [
       "validset:   0%|                                                                                  | 0/5 [00:00<…"
      ]
     },
     "metadata": {},
     "output_type": "display_data"
    },
    {
     "name": "stdout",
     "output_type": "stream",
     "text": [
      "epoch: 11\n",
      "train loss: 0.8509292846376245\n",
      "valid loss: 1.0943310022354127\n",
      "valid accuracy: 0.49666666666666665\n",
      "——————————————————————————————————————————————\n"
     ]
    },
    {
     "data": {
      "application/vnd.jupyter.widget-view+json": {
       "model_id": "",
       "version_major": 2,
       "version_minor": 0
      },
      "text/plain": [
       "trainset:   0%|                                                                                 | 0/22 [00:00<…"
      ]
     },
     "metadata": {},
     "output_type": "display_data"
    },
    {
     "data": {
      "application/vnd.jupyter.widget-view+json": {
       "model_id": "",
       "version_major": 2,
       "version_minor": 0
      },
      "text/plain": [
       "validset:   0%|                                                                                  | 0/5 [00:00<…"
      ]
     },
     "metadata": {},
     "output_type": "display_data"
    },
    {
     "name": "stdout",
     "output_type": "stream",
     "text": [
      "epoch: 12\n",
      "train loss: 0.6919038065455176\n",
      "valid loss: 1.1308254718780517\n",
      "valid accuracy: 0.5333333333333333\n",
      "——————————————————————————————————————————————\n"
     ]
    },
    {
     "data": {
      "application/vnd.jupyter.widget-view+json": {
       "model_id": "",
       "version_major": 2,
       "version_minor": 0
      },
      "text/plain": [
       "trainset:   0%|                                                                                 | 0/22 [00:00<…"
      ]
     },
     "metadata": {},
     "output_type": "display_data"
    },
    {
     "data": {
      "application/vnd.jupyter.widget-view+json": {
       "model_id": "",
       "version_major": 2,
       "version_minor": 0
      },
      "text/plain": [
       "validset:   0%|                                                                                  | 0/5 [00:00<…"
      ]
     },
     "metadata": {},
     "output_type": "display_data"
    },
    {
     "name": "stdout",
     "output_type": "stream",
     "text": [
      "epoch: 13\n",
      "train loss: 0.6537375219843604\n",
      "valid loss: 0.9906644582748413\n",
      "valid accuracy: 0.57\n",
      "——————————————————————————————————————————————\n"
     ]
    },
    {
     "data": {
      "application/vnd.jupyter.widget-view+json": {
       "model_id": "",
       "version_major": 2,
       "version_minor": 0
      },
      "text/plain": [
       "trainset:   0%|                                                                                 | 0/22 [00:00<…"
      ]
     },
     "metadata": {},
     "output_type": "display_data"
    },
    {
     "data": {
      "application/vnd.jupyter.widget-view+json": {
       "model_id": "",
       "version_major": 2,
       "version_minor": 0
      },
      "text/plain": [
       "validset:   0%|                                                                                  | 0/5 [00:00<…"
      ]
     },
     "metadata": {},
     "output_type": "display_data"
    },
    {
     "name": "stdout",
     "output_type": "stream",
     "text": [
      "epoch: 14\n",
      "train loss: 0.5640237602320585\n",
      "valid loss: 1.1494104623794557\n",
      "valid accuracy: 0.5433333333333333\n",
      "——————————————————————————————————————————————\n"
     ]
    },
    {
     "data": {
      "application/vnd.jupyter.widget-view+json": {
       "model_id": "",
       "version_major": 2,
       "version_minor": 0
      },
      "text/plain": [
       "trainset:   0%|                                                                                 | 0/22 [00:00<…"
      ]
     },
     "metadata": {},
     "output_type": "display_data"
    },
    {
     "data": {
      "application/vnd.jupyter.widget-view+json": {
       "model_id": "",
       "version_major": 2,
       "version_minor": 0
      },
      "text/plain": [
       "validset:   0%|                                                                                  | 0/5 [00:00<…"
      ]
     },
     "metadata": {},
     "output_type": "display_data"
    },
    {
     "name": "stdout",
     "output_type": "stream",
     "text": [
      "epoch: 15\n",
      "train loss: 0.5020432289351117\n",
      "valid loss: 1.1358937740325927\n",
      "valid accuracy: 0.5933333333333334\n",
      "——————————————————————————————————————————————\n"
     ]
    },
    {
     "data": {
      "application/vnd.jupyter.widget-view+json": {
       "model_id": "",
       "version_major": 2,
       "version_minor": 0
      },
      "text/plain": [
       "trainset:   0%|                                                                                 | 0/22 [00:00<…"
      ]
     },
     "metadata": {},
     "output_type": "display_data"
    },
    {
     "data": {
      "application/vnd.jupyter.widget-view+json": {
       "model_id": "",
       "version_major": 2,
       "version_minor": 0
      },
      "text/plain": [
       "validset:   0%|                                                                                  | 0/5 [00:00<…"
      ]
     },
     "metadata": {},
     "output_type": "display_data"
    },
    {
     "name": "stdout",
     "output_type": "stream",
     "text": [
      "epoch: 16\n",
      "train loss: 0.522373534061692\n",
      "valid loss: 1.1157557725906373\n",
      "valid accuracy: 0.5466666666666666\n",
      "——————————————————————————————————————————————\n"
     ]
    },
    {
     "data": {
      "application/vnd.jupyter.widget-view+json": {
       "model_id": "",
       "version_major": 2,
       "version_minor": 0
      },
      "text/plain": [
       "trainset:   0%|                                                                                 | 0/22 [00:00<…"
      ]
     },
     "metadata": {},
     "output_type": "display_data"
    },
    {
     "data": {
      "application/vnd.jupyter.widget-view+json": {
       "model_id": "",
       "version_major": 2,
       "version_minor": 0
      },
      "text/plain": [
       "validset:   0%|                                                                                  | 0/5 [00:00<…"
      ]
     },
     "metadata": {},
     "output_type": "display_data"
    },
    {
     "name": "stdout",
     "output_type": "stream",
     "text": [
      "epoch: 17\n",
      "train loss: 0.4500075781887228\n",
      "valid loss: 1.1329277515411378\n",
      "valid accuracy: 0.59\n",
      "——————————————————————————————————————————————\n"
     ]
    },
    {
     "data": {
      "application/vnd.jupyter.widget-view+json": {
       "model_id": "",
       "version_major": 2,
       "version_minor": 0
      },
      "text/plain": [
       "trainset:   0%|                                                                                 | 0/22 [00:00<…"
      ]
     },
     "metadata": {},
     "output_type": "display_data"
    },
    {
     "data": {
      "application/vnd.jupyter.widget-view+json": {
       "model_id": "",
       "version_major": 2,
       "version_minor": 0
      },
      "text/plain": [
       "validset:   0%|                                                                                  | 0/5 [00:00<…"
      ]
     },
     "metadata": {},
     "output_type": "display_data"
    },
    {
     "name": "stdout",
     "output_type": "stream",
     "text": [
      "epoch: 18\n",
      "train loss: 0.42394383319399576\n",
      "valid loss: 1.1499716281890868\n",
      "valid accuracy: 0.58\n",
      "——————————————————————————————————————————————\n"
     ]
    },
    {
     "data": {
      "application/vnd.jupyter.widget-view+json": {
       "model_id": "",
       "version_major": 2,
       "version_minor": 0
      },
      "text/plain": [
       "trainset:   0%|                                                                                 | 0/22 [00:00<…"
      ]
     },
     "metadata": {},
     "output_type": "display_data"
    },
    {
     "data": {
      "application/vnd.jupyter.widget-view+json": {
       "model_id": "",
       "version_major": 2,
       "version_minor": 0
      },
      "text/plain": [
       "validset:   0%|                                                                                  | 0/5 [00:00<…"
      ]
     },
     "metadata": {},
     "output_type": "display_data"
    },
    {
     "name": "stdout",
     "output_type": "stream",
     "text": [
      "epoch: 19\n",
      "train loss: 0.47270497611977835\n",
      "valid loss: 1.1240153193473816\n",
      "valid accuracy: 0.5566666666666666\n",
      "——————————————————————————————————————————————\n"
     ]
    },
    {
     "data": {
      "application/vnd.jupyter.widget-view+json": {
       "model_id": "",
       "version_major": 2,
       "version_minor": 0
      },
      "text/plain": [
       "trainset:   0%|                                                                                 | 0/22 [00:00<…"
      ]
     },
     "metadata": {},
     "output_type": "display_data"
    },
    {
     "data": {
      "application/vnd.jupyter.widget-view+json": {
       "model_id": "",
       "version_major": 2,
       "version_minor": 0
      },
      "text/plain": [
       "validset:   0%|                                                                                  | 0/5 [00:00<…"
      ]
     },
     "metadata": {},
     "output_type": "display_data"
    },
    {
     "name": "stdout",
     "output_type": "stream",
     "text": [
      "epoch: 20\n",
      "train loss: 0.4710340323773297\n",
      "valid loss: 1.1241649985313416\n",
      "valid accuracy: 0.57\n",
      "——————————————————————————————————————————————\n"
     ]
    },
    {
     "data": {
      "application/vnd.jupyter.widget-view+json": {
       "model_id": "",
       "version_major": 2,
       "version_minor": 0
      },
      "text/plain": [
       "trainset:   0%|                                                                                 | 0/22 [00:00<…"
      ]
     },
     "metadata": {},
     "output_type": "display_data"
    },
    {
     "data": {
      "application/vnd.jupyter.widget-view+json": {
       "model_id": "",
       "version_major": 2,
       "version_minor": 0
      },
      "text/plain": [
       "validset:   0%|                                                                                  | 0/5 [00:00<…"
      ]
     },
     "metadata": {},
     "output_type": "display_data"
    },
    {
     "name": "stdout",
     "output_type": "stream",
     "text": [
      "epoch: 21\n",
      "train loss: 0.4443035952069543\n",
      "valid loss: 1.153001570701599\n",
      "valid accuracy: 0.5766666666666667\n",
      "——————————————————————————————————————————————\n"
     ]
    },
    {
     "data": {
      "application/vnd.jupyter.widget-view+json": {
       "model_id": "",
       "version_major": 2,
       "version_minor": 0
      },
      "text/plain": [
       "trainset:   0%|                                                                                 | 0/22 [00:00<…"
      ]
     },
     "metadata": {},
     "output_type": "display_data"
    },
    {
     "data": {
      "application/vnd.jupyter.widget-view+json": {
       "model_id": "",
       "version_major": 2,
       "version_minor": 0
      },
      "text/plain": [
       "validset:   0%|                                                                                  | 0/5 [00:00<…"
      ]
     },
     "metadata": {},
     "output_type": "display_data"
    },
    {
     "name": "stdout",
     "output_type": "stream",
     "text": [
      "epoch: 22\n",
      "train loss: 0.4266142912886359\n",
      "valid loss: 1.2688563823699952\n",
      "valid accuracy: 0.54\n",
      "——————————————————————————————————————————————\n"
     ]
    },
    {
     "data": {
      "application/vnd.jupyter.widget-view+json": {
       "model_id": "",
       "version_major": 2,
       "version_minor": 0
      },
      "text/plain": [
       "trainset:   0%|                                                                                 | 0/22 [00:00<…"
      ]
     },
     "metadata": {},
     "output_type": "display_data"
    },
    {
     "data": {
      "application/vnd.jupyter.widget-view+json": {
       "model_id": "",
       "version_major": 2,
       "version_minor": 0
      },
      "text/plain": [
       "validset:   0%|                                                                                  | 0/5 [00:00<…"
      ]
     },
     "metadata": {},
     "output_type": "display_data"
    },
    {
     "name": "stdout",
     "output_type": "stream",
     "text": [
      "epoch: 23\n",
      "train loss: 0.4288525608452884\n",
      "valid loss: 1.1074805855751038\n",
      "valid accuracy: 0.6133333333333333\n",
      "——————————————————————————————————————————————\n"
     ]
    },
    {
     "data": {
      "application/vnd.jupyter.widget-view+json": {
       "model_id": "",
       "version_major": 2,
       "version_minor": 0
      },
      "text/plain": [
       "trainset:   0%|                                                                                 | 0/22 [00:00<…"
      ]
     },
     "metadata": {},
     "output_type": "display_data"
    },
    {
     "data": {
      "application/vnd.jupyter.widget-view+json": {
       "model_id": "",
       "version_major": 2,
       "version_minor": 0
      },
      "text/plain": [
       "validset:   0%|                                                                                  | 0/5 [00:00<…"
      ]
     },
     "metadata": {},
     "output_type": "display_data"
    },
    {
     "name": "stdout",
     "output_type": "stream",
     "text": [
      "epoch: 24\n",
      "train loss: 0.36684461479837244\n",
      "valid loss: 1.2891589164733888\n",
      "valid accuracy: 0.5433333333333333\n",
      "——————————————————————————————————————————————\n"
     ]
    },
    {
     "data": {
      "application/vnd.jupyter.widget-view+json": {
       "model_id": "",
       "version_major": 2,
       "version_minor": 0
      },
      "text/plain": [
       "trainset:   0%|                                                                                 | 0/22 [00:00<…"
      ]
     },
     "metadata": {},
     "output_type": "display_data"
    },
    {
     "data": {
      "application/vnd.jupyter.widget-view+json": {
       "model_id": "",
       "version_major": 2,
       "version_minor": 0
      },
      "text/plain": [
       "validset:   0%|                                                                                  | 0/5 [00:00<…"
      ]
     },
     "metadata": {},
     "output_type": "display_data"
    },
    {
     "name": "stdout",
     "output_type": "stream",
     "text": [
      "epoch: 25\n",
      "train loss: 0.4362465366721153\n",
      "valid loss: 1.2348727703094482\n",
      "valid accuracy: 0.5633333333333334\n",
      "——————————————————————————————————————————————\n"
     ]
    },
    {
     "data": {
      "application/vnd.jupyter.widget-view+json": {
       "model_id": "",
       "version_major": 2,
       "version_minor": 0
      },
      "text/plain": [
       "trainset:   0%|                                                                                 | 0/22 [00:00<…"
      ]
     },
     "metadata": {},
     "output_type": "display_data"
    },
    {
     "data": {
      "application/vnd.jupyter.widget-view+json": {
       "model_id": "",
       "version_major": 2,
       "version_minor": 0
      },
      "text/plain": [
       "validset:   0%|                                                                                  | 0/5 [00:00<…"
      ]
     },
     "metadata": {},
     "output_type": "display_data"
    },
    {
     "name": "stdout",
     "output_type": "stream",
     "text": [
      "early stop\n"
     ]
    }
   ],
   "source": [
    "train_lost_epoch=[]\n",
    "valid_lost_epoch=[]\n",
    "valid_accuracy_list=[]\n",
    "for epoch in tqdm(range(epochs),desc='epoch'):\n",
    "    model.train()\n",
    "    loss_list=[]\n",
    "    i=0\n",
    "    for batch in tqdm(train_dataloader,desc='trainset',leave=False):\n",
    "        model.zero_grad() \n",
    "        optimizer.zero_grad()\n",
    "        input_ids = batch['input_ids'].to(device)\n",
    "        token_type_ids = batch['token_type_ids'].to(device)\n",
    "        attention_mask = batch['attention_mask'].to(device)\n",
    "        target=torch.tensor(y_train[i:i+bat_size]).to(device)\n",
    "        i+=bat_size\n",
    "        outputs = model(input_ids, \n",
    "                            token_type_ids, \n",
    "                            attention_mask, \n",
    "                            labels=target)\n",
    "\n",
    "        loss = outputs.loss\n",
    "        logits = outputs.logits\n",
    "        loss.backward()\n",
    "        optimizer.step()\n",
    "        loss_list.append(loss.item())\n",
    "    train_lost_epoch.append(np.mean(loss_list))\n",
    "    model.eval()\n",
    "    loss_list=[]\n",
    "    i=0\n",
    "    num_correct=0\n",
    "    for batch in tqdm(valid_dataloader,desc='validset',leave=False):\n",
    "        with torch.no_grad():  \n",
    "            input_ids = batch['input_ids'].to(device)\n",
    "            token_type_ids = batch['token_type_ids'].to(device)\n",
    "            attention_mask = batch['attention_mask'].to(device)\n",
    "\n",
    "            target=torch.tensor(y_valid[i:i+bat_size]).to(device)\n",
    "            i+=bat_size\n",
    "            outputs = model(input_ids, \n",
    "                                token_type_ids, \n",
    "                                attention_mask, \n",
    "                                labels=target)\n",
    "            loss = outputs.loss\n",
    "            logits = outputs.logits\n",
    "            loss_list.append(loss.item())\n",
    "            pred_flat = np.argmax(logits.detach().cpu().numpy(), axis=1).flatten()\n",
    "            labels_flat = target.to('cpu').numpy().flatten()\n",
    "            num_correct += np.sum(pred_flat == labels_flat)\n",
    "    valid_accuracy=num_correct/len(y_valid)\n",
    "    if  epoch==0:\n",
    "        torch.save(model.state_dict(), \"my_model_re\")\n",
    "    else:\n",
    "        if  valid_accuracy>max(valid_accuracy_list):\n",
    "            torch.save(model.state_dict(), \"my_model_re\")\n",
    "    if epoch>=10:\n",
    "        if valid_accuracy<min(valid_accuracy_list[-10:-1]):\n",
    "            print(\"early stop\")\n",
    "            break\n",
    "    valid_accuracy_list.append(valid_accuracy)\n",
    "    valid_lost_epoch.append(np.mean(loss_list))\n",
    "    print(\"epoch: \"+str(epoch))\n",
    "    print(\"train loss: \"+str(train_lost_epoch[-1]))\n",
    "    print(\"valid loss: \"+str(valid_lost_epoch[-1]))\n",
    "    print(\"valid accuracy: \"+str(valid_accuracy))\n",
    "    print(\"——————————————————————————————————————————————\")"
   ]
  },
  {
   "cell_type": "code",
   "execution_count": 47,
   "id": "9f900ee2",
   "metadata": {},
   "outputs": [
    {
     "name": "stdout",
     "output_type": "stream",
     "text": [
      "0.6133333333333333\n"
     ]
    }
   ],
   "source": [
    "print(max(valid_accuracy_list))"
   ]
  },
  {
   "cell_type": "markdown",
   "id": "755deb6a",
   "metadata": {},
   "source": [
    "### back translation"
   ]
  },
  {
   "cell_type": "code",
   "execution_count": 21,
   "id": "aee17e80",
   "metadata": {},
   "outputs": [],
   "source": [
    "import os\n",
    "import openai\n",
    "import time\n",
    "from auto_tqdm import tqdm\n",
    "def chatgpt_to_spain(text):\n",
    "    file1=open(\"api_key.txt\",'r')\n",
    "    api_key=file1.read()\n",
    "    openai.api_key=api_key\n",
    "    completion = openai.ChatCompletion.create(\n",
    "    model=\"gpt-3.5-turbo\",\n",
    "    messages=[{'role': 'user', 'content': \"Please translate this sentence to Spanish while retaining emotion:\"+text}])\n",
    "    return completion.choices[0].message.content\n",
    "def chatgpt_to_english(text):\n",
    "    file1=open(\"api_key.txt\",'r')\n",
    "    api_key=file1.read()\n",
    "    openai.api_key=api_key\n",
    "    completion = openai.ChatCompletion.create(\n",
    "    model=\"gpt-3.5-turbo\",\n",
    "    messages=[{'role': 'user', 'content': \"Please translate this sentence to English:\"+text}])\n",
    "    return completion.choices[0].message.content"
   ]
  },
  {
   "cell_type": "code",
   "execution_count": null,
   "id": "20fb3f36",
   "metadata": {},
   "outputs": [
    {
     "data": {
      "application/vnd.jupyter.widget-view+json": {
       "model_id": "7693bed61857406f88dc17426ca65437",
       "version_major": 2,
       "version_minor": 0
      },
      "text/plain": [
       "  0%|                                                                                          | 0/700 [00:00<…"
      ]
     },
     "metadata": {},
     "output_type": "display_data"
    }
   ],
   "source": [
    "x_new=[]\n",
    "y_new=[]\n",
    "for i in tqdm(range(len(X_train_original))):\n",
    "    count=0\n",
    "    while(count!=1):\n",
    "        try:\n",
    "            temp=chatgpt_to_spain(X_train_original[i])\n",
    "            ans=chatgpt_to_english(temp)\n",
    "            x_new.append(ans)\n",
    "            y_new.append(y_train_original[i])\n",
    "            count=1  \n",
    "        except:\n",
    "            time.sleep(0.5)"
   ]
  },
  {
   "cell_type": "code",
   "execution_count": null,
   "id": "5c632ad9",
   "metadata": {},
   "outputs": [],
   "source": [
    "# base_dict={\"text\":x_new,\"label\":y_new}\n",
    "# new_df=pd.DataFrame.from_dict(base_dict)\n",
    "# new_df.to_csv(\"twitter_back_translate\")\n",
    "new_df=pd.read_csv(\"twitter_back_translate\")\n",
    "X_train_base=list(X_train_original)+list(new_df['text'])\n",
    "y_train_base=list(y_train_original)+list(new_df['label'])\n",
    "X_train=tokenizer(list(X_train_base),truncation=True, padding=True, max_length=32,return_tensors='pt')\n",
    "y_train=list(y_train_base)\n",
    "from torch.utils.data import DataLoader\n",
    "train_dataloader = DataLoader(MyData(X_train) , batch_size=bat_size,shuffle = False)"
   ]
  },
  {
   "cell_type": "code",
   "execution_count": null,
   "id": "f549164b",
   "metadata": {},
   "outputs": [],
   "source": [
    "model= BertForSequenceClassification.from_pretrained(\n",
    "    \"bert-base-uncased\", \n",
    "    num_labels = 3,    \n",
    "    output_attentions = False, \n",
    "    output_hidden_states = False,\n",
    ")\n",
    "model.to(device)\n",
    "optimizer = AdamW(model.parameters(),\n",
    "                  lr = 1e-5, # args.learning_rate - default is 5e-5\n",
    "                  eps = 1e-8, # args.adam_epsilon  - default is 1e-8\n",
    "                  weight_decay=0.01,\n",
    "                  correct_bias=True\n",
    "                )\n",
    "epochs = 50"
   ]
  },
  {
   "cell_type": "code",
   "execution_count": null,
   "id": "3b600af4",
   "metadata": {},
   "outputs": [],
   "source": [
    "train_lost_epoch=[]\n",
    "valid_lost_epoch=[]\n",
    "valid_accuracy_list=[]\n",
    "for epoch in tqdm(range(epochs),desc='epoch'):\n",
    "    model.train()\n",
    "    loss_list=[]\n",
    "    i=0\n",
    "    for batch in tqdm(train_dataloader,desc='trainset',leave=False):\n",
    "        model.zero_grad() \n",
    "        optimizer.zero_grad()\n",
    "        input_ids = batch['input_ids'].to(device)\n",
    "        token_type_ids = batch['token_type_ids'].to(device)\n",
    "        attention_mask = batch['attention_mask'].to(device)\n",
    "        target=torch.tensor(y_train[i:i+bat_size]).to(device)\n",
    "        i+=bat_size\n",
    "        outputs = model(input_ids, \n",
    "                            token_type_ids, \n",
    "                            attention_mask, \n",
    "                            labels=target)\n",
    "\n",
    "        loss = outputs.loss\n",
    "        logits = outputs.logits\n",
    "        loss.backward()\n",
    "        optimizer.step()\n",
    "        loss_list.append(loss.item())\n",
    "    train_lost_epoch.append(np.mean(loss_list))\n",
    "    model.eval()\n",
    "    loss_list=[]\n",
    "    i=0\n",
    "    num_correct=0\n",
    "    for batch in tqdm(valid_dataloader,desc='validset',leave=False):\n",
    "        with torch.no_grad():  \n",
    "            input_ids = batch['input_ids'].to(device)\n",
    "            token_type_ids = batch['token_type_ids'].to(device)\n",
    "            attention_mask = batch['attention_mask'].to(device)\n",
    "\n",
    "            target=torch.tensor(y_valid[i:i+bat_size]).to(device)\n",
    "            i+=bat_size\n",
    "            outputs = model(input_ids, \n",
    "                                token_type_ids, \n",
    "                                attention_mask, \n",
    "                                labels=target)\n",
    "            loss = outputs.loss\n",
    "            logits = outputs.logits\n",
    "            loss_list.append(loss.item())\n",
    "            pred_flat = np.argmax(logits.detach().cpu().numpy(), axis=1).flatten()\n",
    "            labels_flat = target.to('cpu').numpy().flatten()\n",
    "            num_correct += np.sum(pred_flat == labels_flat)\n",
    "    valid_accuracy=num_correct/len(y_valid)\n",
    "    if  epoch==0:\n",
    "        torch.save(model.state_dict(), \"my_model_re\")\n",
    "    else:\n",
    "        if  valid_accuracy>max(valid_accuracy_list):\n",
    "            torch.save(model.state_dict(), \"my_model_re\")\n",
    "    if epoch>=10:\n",
    "        if valid_accuracy<min(valid_accuracy_list[-10:-1]):\n",
    "            print(\"early stop\")\n",
    "            break\n",
    "    valid_accuracy_list.append(valid_accuracy)\n",
    "    valid_lost_epoch.append(np.mean(loss_list))\n",
    "    print(\"epoch: \"+str(epoch))\n",
    "    print(\"train loss: \"+str(train_lost_epoch[-1]))\n",
    "    print(\"valid loss: \"+str(valid_lost_epoch[-1]))\n",
    "    print(\"valid accuracy: \"+str(valid_accuracy))\n",
    "    print(\"——————————————————————————————————————————————\")"
   ]
  },
  {
   "cell_type": "code",
   "execution_count": null,
   "id": "d4512033",
   "metadata": {},
   "outputs": [],
   "source": [
    "print(max(valid_accuracy_list))"
   ]
  },
  {
   "cell_type": "markdown",
   "id": "3da775d4",
   "metadata": {},
   "source": [
    "## p2"
   ]
  },
  {
   "cell_type": "code",
   "execution_count": 22,
   "id": "5328759a",
   "metadata": {},
   "outputs": [],
   "source": [
    "# import os\n",
    "# import openai\n",
    "# import time\n",
    "# from auto_tqdm import tqdm\n",
    "# def rephrase_by_chatgptp2(text):\n",
    "#     file1=open(\"api_key.txt\",'r')\n",
    "#     api_key=file1.read()\n",
    "#     openai.api_key=api_key\n",
    "#     completion = openai.ChatCompletion.create(\n",
    "#     model=\"gpt-3.5-turbo\",\n",
    "#     messages=[{'role': 'user', 'content': \"Please rephrase the following sentences from poem but keep their emotion \" +text}])\n",
    "#     return completion.choices[0].message.content\n",
    "# x_new=[]\n",
    "# y_new=[]\n",
    "# for i in tqdm(range(len(X_train_original))):\n",
    "#     count=0\n",
    "#     while(count!=1):\n",
    "#         try:\n",
    "#             ans=rephrase_by_chatgptp2(X_train_original[i])\n",
    "#             x_new.append(ans)\n",
    "#             y_new.append(y_train_original[i])\n",
    "#             count=1  \n",
    "#         except:\n",
    "#             time.sleep(0.5)\n",
    "# base_dict={\"verse_text\":x_new,\"label\":y_new}\n",
    "# new_df=pd.DataFrame.from_dict(base_dict)\n",
    "new_df.to_csv(\"chatgpt_twitter_p2\")\n",
    "new_df=pd.read_csv(\"chatgpt_twitter_p2\")\n",
    "X_train_base=list(X_train_original)+list(new_df['text'])\n",
    "y_train_base=list(y_train_original)+list(new_df['label'])\n",
    "X_train=tokenizer(list(X_train_base),truncation=True, padding=True, max_length=32,return_tensors='pt')\n",
    "y_train=list(y_train_base)"
   ]
  },
  {
   "cell_type": "code",
   "execution_count": 23,
   "id": "ea5d991d",
   "metadata": {
    "scrolled": true
   },
   "outputs": [
    {
     "name": "stderr",
     "output_type": "stream",
     "text": [
      "Some weights of the model checkpoint at bert-base-uncased were not used when initializing BertForSequenceClassification: ['cls.seq_relationship.weight', 'cls.predictions.transform.LayerNorm.bias', 'cls.seq_relationship.bias', 'cls.predictions.transform.LayerNorm.weight', 'cls.predictions.transform.dense.bias', 'cls.predictions.bias', 'cls.predictions.decoder.weight', 'cls.predictions.transform.dense.weight']\n",
      "- This IS expected if you are initializing BertForSequenceClassification from the checkpoint of a model trained on another task or with another architecture (e.g. initializing a BertForSequenceClassification model from a BertForPreTraining model).\n",
      "- This IS NOT expected if you are initializing BertForSequenceClassification from the checkpoint of a model that you expect to be exactly identical (initializing a BertForSequenceClassification model from a BertForSequenceClassification model).\n",
      "Some weights of BertForSequenceClassification were not initialized from the model checkpoint at bert-base-uncased and are newly initialized: ['classifier.weight', 'classifier.bias']\n",
      "You should probably TRAIN this model on a down-stream task to be able to use it for predictions and inference.\n",
      "F:\\anaconda\\lib\\site-packages\\transformers\\optimization.py:391: FutureWarning: This implementation of AdamW is deprecated and will be removed in a future version. Use the PyTorch implementation torch.optim.AdamW instead, or set `no_deprecation_warning=True` to disable this warning\n",
      "  warnings.warn(\n"
     ]
    },
    {
     "data": {
      "application/vnd.jupyter.widget-view+json": {
       "model_id": "8699df019e624b93a48cceabe4ac1100",
       "version_major": 2,
       "version_minor": 0
      },
      "text/plain": [
       "epoch:   0%|                                                                                    | 0/50 [00:00<…"
      ]
     },
     "metadata": {},
     "output_type": "display_data"
    },
    {
     "data": {
      "application/vnd.jupyter.widget-view+json": {
       "model_id": "",
       "version_major": 2,
       "version_minor": 0
      },
      "text/plain": [
       "trainset:   0%|                                                                                 | 0/22 [00:00<…"
      ]
     },
     "metadata": {},
     "output_type": "display_data"
    },
    {
     "data": {
      "application/vnd.jupyter.widget-view+json": {
       "model_id": "",
       "version_major": 2,
       "version_minor": 0
      },
      "text/plain": [
       "validset:   0%|                                                                                  | 0/5 [00:00<…"
      ]
     },
     "metadata": {},
     "output_type": "display_data"
    },
    {
     "name": "stdout",
     "output_type": "stream",
     "text": [
      "epoch: 0\n",
      "train loss: 1.03231572562998\n",
      "valid loss: 1.0426148414611816\n",
      "valid accuracy: 0.45\n",
      "——————————————————————————————————————————————\n"
     ]
    },
    {
     "data": {
      "application/vnd.jupyter.widget-view+json": {
       "model_id": "",
       "version_major": 2,
       "version_minor": 0
      },
      "text/plain": [
       "trainset:   0%|                                                                                 | 0/22 [00:00<…"
      ]
     },
     "metadata": {},
     "output_type": "display_data"
    },
    {
     "data": {
      "application/vnd.jupyter.widget-view+json": {
       "model_id": "",
       "version_major": 2,
       "version_minor": 0
      },
      "text/plain": [
       "validset:   0%|                                                                                  | 0/5 [00:00<…"
      ]
     },
     "metadata": {},
     "output_type": "display_data"
    },
    {
     "name": "stdout",
     "output_type": "stream",
     "text": [
      "epoch: 1\n",
      "train loss: 0.9908118979497389\n",
      "valid loss: 1.0386732339859008\n",
      "valid accuracy: 0.45\n",
      "——————————————————————————————————————————————\n"
     ]
    },
    {
     "data": {
      "application/vnd.jupyter.widget-view+json": {
       "model_id": "",
       "version_major": 2,
       "version_minor": 0
      },
      "text/plain": [
       "trainset:   0%|                                                                                 | 0/22 [00:00<…"
      ]
     },
     "metadata": {},
     "output_type": "display_data"
    },
    {
     "data": {
      "application/vnd.jupyter.widget-view+json": {
       "model_id": "",
       "version_major": 2,
       "version_minor": 0
      },
      "text/plain": [
       "validset:   0%|                                                                                  | 0/5 [00:00<…"
      ]
     },
     "metadata": {},
     "output_type": "display_data"
    },
    {
     "name": "stdout",
     "output_type": "stream",
     "text": [
      "epoch: 2\n",
      "train loss: 0.9654813652688806\n",
      "valid loss: 1.0047760128974914\n",
      "valid accuracy: 0.5133333333333333\n",
      "——————————————————————————————————————————————\n"
     ]
    },
    {
     "data": {
      "application/vnd.jupyter.widget-view+json": {
       "model_id": "",
       "version_major": 2,
       "version_minor": 0
      },
      "text/plain": [
       "trainset:   0%|                                                                                 | 0/22 [00:00<…"
      ]
     },
     "metadata": {},
     "output_type": "display_data"
    },
    {
     "data": {
      "application/vnd.jupyter.widget-view+json": {
       "model_id": "",
       "version_major": 2,
       "version_minor": 0
      },
      "text/plain": [
       "validset:   0%|                                                                                  | 0/5 [00:00<…"
      ]
     },
     "metadata": {},
     "output_type": "display_data"
    },
    {
     "name": "stdout",
     "output_type": "stream",
     "text": [
      "epoch: 3\n",
      "train loss: 0.9278759875080802\n",
      "valid loss: 1.0159687995910645\n",
      "valid accuracy: 0.49333333333333335\n",
      "——————————————————————————————————————————————\n"
     ]
    },
    {
     "data": {
      "application/vnd.jupyter.widget-view+json": {
       "model_id": "",
       "version_major": 2,
       "version_minor": 0
      },
      "text/plain": [
       "trainset:   0%|                                                                                 | 0/22 [00:00<…"
      ]
     },
     "metadata": {},
     "output_type": "display_data"
    },
    {
     "data": {
      "application/vnd.jupyter.widget-view+json": {
       "model_id": "",
       "version_major": 2,
       "version_minor": 0
      },
      "text/plain": [
       "validset:   0%|                                                                                  | 0/5 [00:00<…"
      ]
     },
     "metadata": {},
     "output_type": "display_data"
    },
    {
     "name": "stdout",
     "output_type": "stream",
     "text": [
      "epoch: 4\n",
      "train loss: 0.8645528744567524\n",
      "valid loss: 1.0256497979164123\n",
      "valid accuracy: 0.4766666666666667\n",
      "——————————————————————————————————————————————\n"
     ]
    },
    {
     "data": {
      "application/vnd.jupyter.widget-view+json": {
       "model_id": "",
       "version_major": 2,
       "version_minor": 0
      },
      "text/plain": [
       "trainset:   0%|                                                                                 | 0/22 [00:00<…"
      ]
     },
     "metadata": {},
     "output_type": "display_data"
    },
    {
     "data": {
      "application/vnd.jupyter.widget-view+json": {
       "model_id": "",
       "version_major": 2,
       "version_minor": 0
      },
      "text/plain": [
       "validset:   0%|                                                                                  | 0/5 [00:00<…"
      ]
     },
     "metadata": {},
     "output_type": "display_data"
    },
    {
     "name": "stdout",
     "output_type": "stream",
     "text": [
      "epoch: 5\n",
      "train loss: 0.7950971262021498\n",
      "valid loss: 1.0510732173919677\n",
      "valid accuracy: 0.5233333333333333\n",
      "——————————————————————————————————————————————\n"
     ]
    },
    {
     "data": {
      "application/vnd.jupyter.widget-view+json": {
       "model_id": "",
       "version_major": 2,
       "version_minor": 0
      },
      "text/plain": [
       "trainset:   0%|                                                                                 | 0/22 [00:00<…"
      ]
     },
     "metadata": {},
     "output_type": "display_data"
    },
    {
     "data": {
      "application/vnd.jupyter.widget-view+json": {
       "model_id": "",
       "version_major": 2,
       "version_minor": 0
      },
      "text/plain": [
       "validset:   0%|                                                                                  | 0/5 [00:00<…"
      ]
     },
     "metadata": {},
     "output_type": "display_data"
    },
    {
     "name": "stdout",
     "output_type": "stream",
     "text": [
      "epoch: 6\n",
      "train loss: 0.7088721502910961\n",
      "valid loss: 1.0455890893936157\n",
      "valid accuracy: 0.49666666666666665\n",
      "——————————————————————————————————————————————\n"
     ]
    },
    {
     "data": {
      "application/vnd.jupyter.widget-view+json": {
       "model_id": "",
       "version_major": 2,
       "version_minor": 0
      },
      "text/plain": [
       "trainset:   0%|                                                                                 | 0/22 [00:00<…"
      ]
     },
     "metadata": {},
     "output_type": "display_data"
    },
    {
     "data": {
      "application/vnd.jupyter.widget-view+json": {
       "model_id": "",
       "version_major": 2,
       "version_minor": 0
      },
      "text/plain": [
       "validset:   0%|                                                                                  | 0/5 [00:00<…"
      ]
     },
     "metadata": {},
     "output_type": "display_data"
    },
    {
     "name": "stdout",
     "output_type": "stream",
     "text": [
      "epoch: 7\n",
      "train loss: 0.6613248126073317\n",
      "valid loss: 1.0586042642593383\n",
      "valid accuracy: 0.5466666666666666\n",
      "——————————————————————————————————————————————\n"
     ]
    },
    {
     "data": {
      "application/vnd.jupyter.widget-view+json": {
       "model_id": "",
       "version_major": 2,
       "version_minor": 0
      },
      "text/plain": [
       "trainset:   0%|                                                                                 | 0/22 [00:00<…"
      ]
     },
     "metadata": {},
     "output_type": "display_data"
    },
    {
     "data": {
      "application/vnd.jupyter.widget-view+json": {
       "model_id": "",
       "version_major": 2,
       "version_minor": 0
      },
      "text/plain": [
       "validset:   0%|                                                                                  | 0/5 [00:00<…"
      ]
     },
     "metadata": {},
     "output_type": "display_data"
    },
    {
     "name": "stdout",
     "output_type": "stream",
     "text": [
      "epoch: 8\n",
      "train loss: 0.6225594634359534\n",
      "valid loss: 1.0486528635025025\n",
      "valid accuracy: 0.5766666666666667\n",
      "——————————————————————————————————————————————\n"
     ]
    },
    {
     "data": {
      "application/vnd.jupyter.widget-view+json": {
       "model_id": "",
       "version_major": 2,
       "version_minor": 0
      },
      "text/plain": [
       "trainset:   0%|                                                                                 | 0/22 [00:00<…"
      ]
     },
     "metadata": {},
     "output_type": "display_data"
    },
    {
     "data": {
      "application/vnd.jupyter.widget-view+json": {
       "model_id": "",
       "version_major": 2,
       "version_minor": 0
      },
      "text/plain": [
       "validset:   0%|                                                                                  | 0/5 [00:00<…"
      ]
     },
     "metadata": {},
     "output_type": "display_data"
    },
    {
     "name": "stdout",
     "output_type": "stream",
     "text": [
      "epoch: 9\n",
      "train loss: 0.5611087774688547\n",
      "valid loss: 1.0752553582191466\n",
      "valid accuracy: 0.53\n",
      "——————————————————————————————————————————————\n"
     ]
    },
    {
     "data": {
      "application/vnd.jupyter.widget-view+json": {
       "model_id": "",
       "version_major": 2,
       "version_minor": 0
      },
      "text/plain": [
       "trainset:   0%|                                                                                 | 0/22 [00:00<…"
      ]
     },
     "metadata": {},
     "output_type": "display_data"
    },
    {
     "data": {
      "application/vnd.jupyter.widget-view+json": {
       "model_id": "",
       "version_major": 2,
       "version_minor": 0
      },
      "text/plain": [
       "validset:   0%|                                                                                  | 0/5 [00:00<…"
      ]
     },
     "metadata": {},
     "output_type": "display_data"
    },
    {
     "name": "stdout",
     "output_type": "stream",
     "text": [
      "epoch: 10\n",
      "train loss: 0.5590710477395491\n",
      "valid loss: 1.1814902782440186\n",
      "valid accuracy: 0.5\n",
      "——————————————————————————————————————————————\n"
     ]
    },
    {
     "data": {
      "application/vnd.jupyter.widget-view+json": {
       "model_id": "",
       "version_major": 2,
       "version_minor": 0
      },
      "text/plain": [
       "trainset:   0%|                                                                                 | 0/22 [00:00<…"
      ]
     },
     "metadata": {},
     "output_type": "display_data"
    },
    {
     "data": {
      "application/vnd.jupyter.widget-view+json": {
       "model_id": "",
       "version_major": 2,
       "version_minor": 0
      },
      "text/plain": [
       "validset:   0%|                                                                                  | 0/5 [00:00<…"
      ]
     },
     "metadata": {},
     "output_type": "display_data"
    },
    {
     "name": "stdout",
     "output_type": "stream",
     "text": [
      "epoch: 11\n",
      "train loss: 0.5631428442218087\n",
      "valid loss: 1.239234209060669\n",
      "valid accuracy: 0.5233333333333333\n",
      "——————————————————————————————————————————————\n"
     ]
    },
    {
     "data": {
      "application/vnd.jupyter.widget-view+json": {
       "model_id": "",
       "version_major": 2,
       "version_minor": 0
      },
      "text/plain": [
       "trainset:   0%|                                                                                 | 0/22 [00:00<…"
      ]
     },
     "metadata": {},
     "output_type": "display_data"
    },
    {
     "data": {
      "application/vnd.jupyter.widget-view+json": {
       "model_id": "",
       "version_major": 2,
       "version_minor": 0
      },
      "text/plain": [
       "validset:   0%|                                                                                  | 0/5 [00:00<…"
      ]
     },
     "metadata": {},
     "output_type": "display_data"
    },
    {
     "name": "stdout",
     "output_type": "stream",
     "text": [
      "epoch: 12\n",
      "train loss: 0.5488419722427021\n",
      "valid loss: 1.1954094171524048\n",
      "valid accuracy: 0.5266666666666666\n",
      "——————————————————————————————————————————————\n"
     ]
    },
    {
     "data": {
      "application/vnd.jupyter.widget-view+json": {
       "model_id": "",
       "version_major": 2,
       "version_minor": 0
      },
      "text/plain": [
       "trainset:   0%|                                                                                 | 0/22 [00:00<…"
      ]
     },
     "metadata": {},
     "output_type": "display_data"
    },
    {
     "data": {
      "application/vnd.jupyter.widget-view+json": {
       "model_id": "",
       "version_major": 2,
       "version_minor": 0
      },
      "text/plain": [
       "validset:   0%|                                                                                  | 0/5 [00:00<…"
      ]
     },
     "metadata": {},
     "output_type": "display_data"
    },
    {
     "name": "stdout",
     "output_type": "stream",
     "text": [
      "epoch: 13\n",
      "train loss: 0.5364589528603987\n",
      "valid loss: 1.1313956737518311\n",
      "valid accuracy: 0.57\n",
      "——————————————————————————————————————————————\n"
     ]
    },
    {
     "data": {
      "application/vnd.jupyter.widget-view+json": {
       "model_id": "",
       "version_major": 2,
       "version_minor": 0
      },
      "text/plain": [
       "trainset:   0%|                                                                                 | 0/22 [00:00<…"
      ]
     },
     "metadata": {},
     "output_type": "display_data"
    },
    {
     "data": {
      "application/vnd.jupyter.widget-view+json": {
       "model_id": "",
       "version_major": 2,
       "version_minor": 0
      },
      "text/plain": [
       "validset:   0%|                                                                                  | 0/5 [00:00<…"
      ]
     },
     "metadata": {},
     "output_type": "display_data"
    },
    {
     "name": "stdout",
     "output_type": "stream",
     "text": [
      "epoch: 14\n",
      "train loss: 0.508564216169444\n",
      "valid loss: 1.095087742805481\n",
      "valid accuracy: 0.5666666666666667\n",
      "——————————————————————————————————————————————\n"
     ]
    },
    {
     "data": {
      "application/vnd.jupyter.widget-view+json": {
       "model_id": "",
       "version_major": 2,
       "version_minor": 0
      },
      "text/plain": [
       "trainset:   0%|                                                                                 | 0/22 [00:00<…"
      ]
     },
     "metadata": {},
     "output_type": "display_data"
    },
    {
     "data": {
      "application/vnd.jupyter.widget-view+json": {
       "model_id": "",
       "version_major": 2,
       "version_minor": 0
      },
      "text/plain": [
       "validset:   0%|                                                                                  | 0/5 [00:00<…"
      ]
     },
     "metadata": {},
     "output_type": "display_data"
    },
    {
     "name": "stdout",
     "output_type": "stream",
     "text": [
      "epoch: 15\n",
      "train loss: 0.49119240045547485\n",
      "valid loss: 1.122984194755554\n",
      "valid accuracy: 0.5433333333333333\n",
      "——————————————————————————————————————————————\n"
     ]
    },
    {
     "data": {
      "application/vnd.jupyter.widget-view+json": {
       "model_id": "",
       "version_major": 2,
       "version_minor": 0
      },
      "text/plain": [
       "trainset:   0%|                                                                                 | 0/22 [00:00<…"
      ]
     },
     "metadata": {},
     "output_type": "display_data"
    },
    {
     "data": {
      "application/vnd.jupyter.widget-view+json": {
       "model_id": "",
       "version_major": 2,
       "version_minor": 0
      },
      "text/plain": [
       "validset:   0%|                                                                                  | 0/5 [00:00<…"
      ]
     },
     "metadata": {},
     "output_type": "display_data"
    },
    {
     "name": "stdout",
     "output_type": "stream",
     "text": [
      "epoch: 16\n",
      "train loss: 0.5268535817211325\n",
      "valid loss: 1.2921515941619872\n",
      "valid accuracy: 0.5\n",
      "——————————————————————————————————————————————\n"
     ]
    },
    {
     "data": {
      "application/vnd.jupyter.widget-view+json": {
       "model_id": "",
       "version_major": 2,
       "version_minor": 0
      },
      "text/plain": [
       "trainset:   0%|                                                                                 | 0/22 [00:00<…"
      ]
     },
     "metadata": {},
     "output_type": "display_data"
    },
    {
     "data": {
      "application/vnd.jupyter.widget-view+json": {
       "model_id": "",
       "version_major": 2,
       "version_minor": 0
      },
      "text/plain": [
       "validset:   0%|                                                                                  | 0/5 [00:00<…"
      ]
     },
     "metadata": {},
     "output_type": "display_data"
    },
    {
     "name": "stdout",
     "output_type": "stream",
     "text": [
      "epoch: 17\n",
      "train loss: 0.5169876691969958\n",
      "valid loss: 1.2058992624282836\n",
      "valid accuracy: 0.53\n",
      "——————————————————————————————————————————————\n"
     ]
    },
    {
     "data": {
      "application/vnd.jupyter.widget-view+json": {
       "model_id": "",
       "version_major": 2,
       "version_minor": 0
      },
      "text/plain": [
       "trainset:   0%|                                                                                 | 0/22 [00:00<…"
      ]
     },
     "metadata": {},
     "output_type": "display_data"
    },
    {
     "data": {
      "application/vnd.jupyter.widget-view+json": {
       "model_id": "",
       "version_major": 2,
       "version_minor": 0
      },
      "text/plain": [
       "validset:   0%|                                                                                  | 0/5 [00:00<…"
      ]
     },
     "metadata": {},
     "output_type": "display_data"
    },
    {
     "name": "stdout",
     "output_type": "stream",
     "text": [
      "epoch: 18\n",
      "train loss: 0.5295564180070703\n",
      "valid loss: 1.2243393421173097\n",
      "valid accuracy: 0.5133333333333333\n",
      "——————————————————————————————————————————————\n"
     ]
    },
    {
     "data": {
      "application/vnd.jupyter.widget-view+json": {
       "model_id": "",
       "version_major": 2,
       "version_minor": 0
      },
      "text/plain": [
       "trainset:   0%|                                                                                 | 0/22 [00:00<…"
      ]
     },
     "metadata": {},
     "output_type": "display_data"
    },
    {
     "data": {
      "application/vnd.jupyter.widget-view+json": {
       "model_id": "",
       "version_major": 2,
       "version_minor": 0
      },
      "text/plain": [
       "validset:   0%|                                                                                  | 0/5 [00:00<…"
      ]
     },
     "metadata": {},
     "output_type": "display_data"
    },
    {
     "name": "stdout",
     "output_type": "stream",
     "text": [
      "epoch: 19\n",
      "train loss: 0.5058319229971279\n",
      "valid loss: 1.2835144758224488\n",
      "valid accuracy: 0.51\n",
      "——————————————————————————————————————————————\n"
     ]
    },
    {
     "data": {
      "application/vnd.jupyter.widget-view+json": {
       "model_id": "",
       "version_major": 2,
       "version_minor": 0
      },
      "text/plain": [
       "trainset:   0%|                                                                                 | 0/22 [00:00<…"
      ]
     },
     "metadata": {},
     "output_type": "display_data"
    },
    {
     "data": {
      "application/vnd.jupyter.widget-view+json": {
       "model_id": "",
       "version_major": 2,
       "version_minor": 0
      },
      "text/plain": [
       "validset:   0%|                                                                                  | 0/5 [00:00<…"
      ]
     },
     "metadata": {},
     "output_type": "display_data"
    },
    {
     "name": "stdout",
     "output_type": "stream",
     "text": [
      "early stop\n"
     ]
    }
   ],
   "source": [
    "from torch.utils.data import DataLoader\n",
    "train_dataloader = DataLoader(MyData(X_train) , batch_size=bat_size,shuffle = False)\n",
    "model= BertForSequenceClassification.from_pretrained(\n",
    "    \"bert-base-uncased\", \n",
    "    num_labels = 3,    \n",
    "    output_attentions = False, \n",
    "    output_hidden_states = False,\n",
    ")\n",
    "model.to(device)\n",
    "optimizer = AdamW(model.parameters(),\n",
    "                  lr = 1e-5, # args.learning_rate - default is 5e-5\n",
    "                  eps = 1e-8, # args.adam_epsilon  - default is 1e-8\n",
    "                  weight_decay=0.01,\n",
    "                  correct_bias=True\n",
    "                )\n",
    "epochs = 50\n",
    "train_lost_epoch=[]\n",
    "valid_lost_epoch=[]\n",
    "valid_accuracy_list=[]\n",
    "for epoch in tqdm(range(epochs),desc='epoch'):\n",
    "    model.train()\n",
    "    loss_list=[]\n",
    "    i=0\n",
    "    for batch in tqdm(train_dataloader,desc='trainset',leave=False):\n",
    "        model.zero_grad() \n",
    "        optimizer.zero_grad()\n",
    "        input_ids = batch['input_ids'].to(device)\n",
    "        token_type_ids = batch['token_type_ids'].to(device)\n",
    "        attention_mask = batch['attention_mask'].to(device)\n",
    "        target=torch.tensor(y_train[i:i+bat_size]).to(device)\n",
    "        i+=bat_size\n",
    "        outputs = model(input_ids, \n",
    "                            token_type_ids, \n",
    "                            attention_mask, \n",
    "                            labels=target)\n",
    "\n",
    "        loss = outputs.loss\n",
    "        logits = outputs.logits\n",
    "        loss.backward()\n",
    "        optimizer.step()\n",
    "        loss_list.append(loss.item())\n",
    "    train_lost_epoch.append(np.mean(loss_list))\n",
    "    model.eval()\n",
    "    loss_list=[]\n",
    "    i=0\n",
    "    num_correct=0\n",
    "    for batch in tqdm(valid_dataloader,desc='validset',leave=False):\n",
    "        with torch.no_grad():  \n",
    "            input_ids = batch['input_ids'].to(device)\n",
    "            token_type_ids = batch['token_type_ids'].to(device)\n",
    "            attention_mask = batch['attention_mask'].to(device)\n",
    "\n",
    "            target=torch.tensor(y_valid[i:i+bat_size]).to(device)\n",
    "            i+=bat_size\n",
    "            outputs = model(input_ids, \n",
    "                                token_type_ids, \n",
    "                                attention_mask, \n",
    "                                labels=target)\n",
    "            loss = outputs.loss\n",
    "            logits = outputs.logits\n",
    "            loss_list.append(loss.item())\n",
    "            pred_flat = np.argmax(logits.detach().cpu().numpy(), axis=1).flatten()\n",
    "            labels_flat = target.to('cpu').numpy().flatten()\n",
    "            num_correct += np.sum(pred_flat == labels_flat)\n",
    "    valid_accuracy=num_correct/len(y_valid)\n",
    "    if  epoch==0:\n",
    "        torch.save(model.state_dict(), \"my_model_re\")\n",
    "    else:\n",
    "        if  valid_accuracy>max(valid_accuracy_list):\n",
    "            torch.save(model.state_dict(), \"my_model_re\")\n",
    "    if epoch>=10:\n",
    "        if valid_accuracy<min(valid_accuracy_list[-10:-1]):\n",
    "            print(\"early stop\")\n",
    "            break\n",
    "    valid_accuracy_list.append(valid_accuracy)\n",
    "    valid_lost_epoch.append(np.mean(loss_list))\n",
    "    print(\"epoch: \"+str(epoch))\n",
    "    print(\"train loss: \"+str(train_lost_epoch[-1]))\n",
    "    print(\"valid loss: \"+str(valid_lost_epoch[-1]))\n",
    "    print(\"valid accuracy: \"+str(valid_accuracy))\n",
    "    print(\"——————————————————————————————————————————————\")"
   ]
  },
  {
   "cell_type": "code",
   "execution_count": 24,
   "id": "987d046f",
   "metadata": {},
   "outputs": [
    {
     "name": "stdout",
     "output_type": "stream",
     "text": [
      "0.5766666666666667\n"
     ]
    }
   ],
   "source": [
    "print(max(valid_accuracy_list))"
   ]
  },
  {
   "cell_type": "markdown",
   "id": "a1f1cfb0",
   "metadata": {},
   "source": [
    "## p3"
   ]
  },
  {
   "cell_type": "code",
   "execution_count": 34,
   "id": "99fbbef5",
   "metadata": {},
   "outputs": [],
   "source": [
    "# import os\n",
    "# import openai\n",
    "# import time\n",
    "# from auto_tqdm import tqdm\n",
    "# def rephrase_by_chatgptp3(text):\n",
    "#     file1=open(\"api_key.txt\",'r')\n",
    "#     api_key=file1.read()\n",
    "#     openai.api_key=api_key\n",
    "#     completion = openai.ChatCompletion.create(\n",
    "#     model=\"gpt-3.5-turbo\",\n",
    "#     messages=[{'role': 'user', 'content': \"Please rephrase the following sentences to around 12 length words without changing emotion: \" + text}])\n",
    "#     return completion.choices[0].message.content\n",
    "# x_new=[]\n",
    "# y_new=[]\n",
    "# for i in tqdm(range(len(X_train_original))):\n",
    "#     count=0\n",
    "#     while(count!=1):\n",
    "#         try:\n",
    "#             ans=rephrase_by_chatgptp3(X_train_original[i])\n",
    "#             x_new.append(ans)\n",
    "#             y_new.append(y_train_original[i])\n",
    "#             count=1  \n",
    "#         except:\n",
    "#             time.sleep(0.5)\n",
    "# base_dict={\"text\":x_new,\"label\":y_new}\n",
    "# new_df=pd.DataFrame.from_dict(base_dict)\n",
    "new_df.to_csv(\"chatgpt_twitter_p3\")\n",
    "new_df=pd.read_csv(\"chatgpt_twitter_p3\")\n",
    "X_train_base=list(X_train_original)+list(new_df['text'])\n",
    "y_train_base=list(y_train_original)+list(new_df['label'])\n",
    "X_train=tokenizer(list(X_train_base),truncation=True, padding=True, max_length=32,return_tensors='pt')\n",
    "y_train=list(y_train_base)"
   ]
  },
  {
   "cell_type": "code",
   "execution_count": 35,
   "id": "7d45cabe",
   "metadata": {},
   "outputs": [
    {
     "name": "stderr",
     "output_type": "stream",
     "text": [
      "Some weights of the model checkpoint at bert-base-uncased were not used when initializing BertForSequenceClassification: ['cls.seq_relationship.weight', 'cls.predictions.transform.LayerNorm.bias', 'cls.seq_relationship.bias', 'cls.predictions.transform.LayerNorm.weight', 'cls.predictions.transform.dense.bias', 'cls.predictions.bias', 'cls.predictions.decoder.weight', 'cls.predictions.transform.dense.weight']\n",
      "- This IS expected if you are initializing BertForSequenceClassification from the checkpoint of a model trained on another task or with another architecture (e.g. initializing a BertForSequenceClassification model from a BertForPreTraining model).\n",
      "- This IS NOT expected if you are initializing BertForSequenceClassification from the checkpoint of a model that you expect to be exactly identical (initializing a BertForSequenceClassification model from a BertForSequenceClassification model).\n",
      "Some weights of BertForSequenceClassification were not initialized from the model checkpoint at bert-base-uncased and are newly initialized: ['classifier.weight', 'classifier.bias']\n",
      "You should probably TRAIN this model on a down-stream task to be able to use it for predictions and inference.\n",
      "F:\\anaconda\\lib\\site-packages\\transformers\\optimization.py:391: FutureWarning: This implementation of AdamW is deprecated and will be removed in a future version. Use the PyTorch implementation torch.optim.AdamW instead, or set `no_deprecation_warning=True` to disable this warning\n",
      "  warnings.warn(\n"
     ]
    },
    {
     "data": {
      "application/vnd.jupyter.widget-view+json": {
       "model_id": "8cea6c9bc1d74184aac65170e70430a3",
       "version_major": 2,
       "version_minor": 0
      },
      "text/plain": [
       "epoch:   0%|                                                                                    | 0/50 [00:00<…"
      ]
     },
     "metadata": {},
     "output_type": "display_data"
    },
    {
     "data": {
      "application/vnd.jupyter.widget-view+json": {
       "model_id": "",
       "version_major": 2,
       "version_minor": 0
      },
      "text/plain": [
       "trainset:   0%|                                                                                 | 0/22 [00:00<…"
      ]
     },
     "metadata": {},
     "output_type": "display_data"
    },
    {
     "data": {
      "application/vnd.jupyter.widget-view+json": {
       "model_id": "",
       "version_major": 2,
       "version_minor": 0
      },
      "text/plain": [
       "validset:   0%|                                                                                  | 0/5 [00:00<…"
      ]
     },
     "metadata": {},
     "output_type": "display_data"
    },
    {
     "name": "stdout",
     "output_type": "stream",
     "text": [
      "epoch: 0\n",
      "train loss: 1.1599074656313115\n",
      "valid loss: 1.1119572401046753\n",
      "valid accuracy: 0.45666666666666667\n",
      "——————————————————————————————————————————————\n"
     ]
    },
    {
     "data": {
      "application/vnd.jupyter.widget-view+json": {
       "model_id": "",
       "version_major": 2,
       "version_minor": 0
      },
      "text/plain": [
       "trainset:   0%|                                                                                 | 0/22 [00:00<…"
      ]
     },
     "metadata": {},
     "output_type": "display_data"
    },
    {
     "data": {
      "application/vnd.jupyter.widget-view+json": {
       "model_id": "",
       "version_major": 2,
       "version_minor": 0
      },
      "text/plain": [
       "validset:   0%|                                                                                  | 0/5 [00:00<…"
      ]
     },
     "metadata": {},
     "output_type": "display_data"
    },
    {
     "name": "stdout",
     "output_type": "stream",
     "text": [
      "epoch: 1\n",
      "train loss: 1.0248341316526586\n",
      "valid loss: 1.0661255478858949\n",
      "valid accuracy: 0.5\n",
      "——————————————————————————————————————————————\n"
     ]
    },
    {
     "data": {
      "application/vnd.jupyter.widget-view+json": {
       "model_id": "",
       "version_major": 2,
       "version_minor": 0
      },
      "text/plain": [
       "trainset:   0%|                                                                                 | 0/22 [00:00<…"
      ]
     },
     "metadata": {},
     "output_type": "display_data"
    },
    {
     "data": {
      "application/vnd.jupyter.widget-view+json": {
       "model_id": "",
       "version_major": 2,
       "version_minor": 0
      },
      "text/plain": [
       "validset:   0%|                                                                                  | 0/5 [00:00<…"
      ]
     },
     "metadata": {},
     "output_type": "display_data"
    },
    {
     "name": "stdout",
     "output_type": "stream",
     "text": [
      "epoch: 2\n",
      "train loss: 0.9704575484449213\n",
      "valid loss: 1.0347410917282105\n",
      "valid accuracy: 0.5\n",
      "——————————————————————————————————————————————\n"
     ]
    },
    {
     "data": {
      "application/vnd.jupyter.widget-view+json": {
       "model_id": "",
       "version_major": 2,
       "version_minor": 0
      },
      "text/plain": [
       "trainset:   0%|                                                                                 | 0/22 [00:00<…"
      ]
     },
     "metadata": {},
     "output_type": "display_data"
    },
    {
     "data": {
      "application/vnd.jupyter.widget-view+json": {
       "model_id": "",
       "version_major": 2,
       "version_minor": 0
      },
      "text/plain": [
       "validset:   0%|                                                                                  | 0/5 [00:00<…"
      ]
     },
     "metadata": {},
     "output_type": "display_data"
    },
    {
     "name": "stdout",
     "output_type": "stream",
     "text": [
      "epoch: 3\n",
      "train loss: 0.9200708053328774\n",
      "valid loss: 1.016189193725586\n",
      "valid accuracy: 0.53\n",
      "——————————————————————————————————————————————\n"
     ]
    },
    {
     "data": {
      "application/vnd.jupyter.widget-view+json": {
       "model_id": "",
       "version_major": 2,
       "version_minor": 0
      },
      "text/plain": [
       "trainset:   0%|                                                                                 | 0/22 [00:00<…"
      ]
     },
     "metadata": {},
     "output_type": "display_data"
    },
    {
     "data": {
      "application/vnd.jupyter.widget-view+json": {
       "model_id": "",
       "version_major": 2,
       "version_minor": 0
      },
      "text/plain": [
       "validset:   0%|                                                                                  | 0/5 [00:00<…"
      ]
     },
     "metadata": {},
     "output_type": "display_data"
    },
    {
     "name": "stdout",
     "output_type": "stream",
     "text": [
      "epoch: 4\n",
      "train loss: 0.8450505327094685\n",
      "valid loss: 0.9905650854110718\n",
      "valid accuracy: 0.53\n",
      "——————————————————————————————————————————————\n"
     ]
    },
    {
     "data": {
      "application/vnd.jupyter.widget-view+json": {
       "model_id": "",
       "version_major": 2,
       "version_minor": 0
      },
      "text/plain": [
       "trainset:   0%|                                                                                 | 0/22 [00:00<…"
      ]
     },
     "metadata": {},
     "output_type": "display_data"
    },
    {
     "data": {
      "application/vnd.jupyter.widget-view+json": {
       "model_id": "",
       "version_major": 2,
       "version_minor": 0
      },
      "text/plain": [
       "validset:   0%|                                                                                  | 0/5 [00:00<…"
      ]
     },
     "metadata": {},
     "output_type": "display_data"
    },
    {
     "name": "stdout",
     "output_type": "stream",
     "text": [
      "epoch: 5\n",
      "train loss: 0.7483520941300825\n",
      "valid loss: 1.053828525543213\n",
      "valid accuracy: 0.5366666666666666\n",
      "——————————————————————————————————————————————\n"
     ]
    },
    {
     "data": {
      "application/vnd.jupyter.widget-view+json": {
       "model_id": "",
       "version_major": 2,
       "version_minor": 0
      },
      "text/plain": [
       "trainset:   0%|                                                                                 | 0/22 [00:00<…"
      ]
     },
     "metadata": {},
     "output_type": "display_data"
    },
    {
     "data": {
      "application/vnd.jupyter.widget-view+json": {
       "model_id": "",
       "version_major": 2,
       "version_minor": 0
      },
      "text/plain": [
       "validset:   0%|                                                                                  | 0/5 [00:00<…"
      ]
     },
     "metadata": {},
     "output_type": "display_data"
    },
    {
     "name": "stdout",
     "output_type": "stream",
     "text": [
      "epoch: 6\n",
      "train loss: 0.707594860683788\n",
      "valid loss: 1.087902843952179\n",
      "valid accuracy: 0.5166666666666667\n",
      "——————————————————————————————————————————————\n"
     ]
    },
    {
     "data": {
      "application/vnd.jupyter.widget-view+json": {
       "model_id": "",
       "version_major": 2,
       "version_minor": 0
      },
      "text/plain": [
       "trainset:   0%|                                                                                 | 0/22 [00:00<…"
      ]
     },
     "metadata": {},
     "output_type": "display_data"
    },
    {
     "data": {
      "application/vnd.jupyter.widget-view+json": {
       "model_id": "",
       "version_major": 2,
       "version_minor": 0
      },
      "text/plain": [
       "validset:   0%|                                                                                  | 0/5 [00:00<…"
      ]
     },
     "metadata": {},
     "output_type": "display_data"
    },
    {
     "name": "stdout",
     "output_type": "stream",
     "text": [
      "epoch: 7\n",
      "train loss: 0.6740625311027874\n",
      "valid loss: 1.0841350913047791\n",
      "valid accuracy: 0.5433333333333333\n",
      "——————————————————————————————————————————————\n"
     ]
    },
    {
     "data": {
      "application/vnd.jupyter.widget-view+json": {
       "model_id": "",
       "version_major": 2,
       "version_minor": 0
      },
      "text/plain": [
       "trainset:   0%|                                                                                 | 0/22 [00:00<…"
      ]
     },
     "metadata": {},
     "output_type": "display_data"
    },
    {
     "data": {
      "application/vnd.jupyter.widget-view+json": {
       "model_id": "",
       "version_major": 2,
       "version_minor": 0
      },
      "text/plain": [
       "validset:   0%|                                                                                  | 0/5 [00:00<…"
      ]
     },
     "metadata": {},
     "output_type": "display_data"
    },
    {
     "name": "stdout",
     "output_type": "stream",
     "text": [
      "epoch: 8\n",
      "train loss: 0.6012094942006198\n",
      "valid loss: 1.1520378708839416\n",
      "valid accuracy: 0.5466666666666666\n",
      "——————————————————————————————————————————————\n"
     ]
    },
    {
     "data": {
      "application/vnd.jupyter.widget-view+json": {
       "model_id": "",
       "version_major": 2,
       "version_minor": 0
      },
      "text/plain": [
       "trainset:   0%|                                                                                 | 0/22 [00:00<…"
      ]
     },
     "metadata": {},
     "output_type": "display_data"
    },
    {
     "data": {
      "application/vnd.jupyter.widget-view+json": {
       "model_id": "",
       "version_major": 2,
       "version_minor": 0
      },
      "text/plain": [
       "validset:   0%|                                                                                  | 0/5 [00:00<…"
      ]
     },
     "metadata": {},
     "output_type": "display_data"
    },
    {
     "name": "stdout",
     "output_type": "stream",
     "text": [
      "epoch: 9\n",
      "train loss: 0.5706744424321435\n",
      "valid loss: 1.1440767288208007\n",
      "valid accuracy: 0.5466666666666666\n",
      "——————————————————————————————————————————————\n"
     ]
    },
    {
     "data": {
      "application/vnd.jupyter.widget-view+json": {
       "model_id": "",
       "version_major": 2,
       "version_minor": 0
      },
      "text/plain": [
       "trainset:   0%|                                                                                 | 0/22 [00:00<…"
      ]
     },
     "metadata": {},
     "output_type": "display_data"
    },
    {
     "data": {
      "application/vnd.jupyter.widget-view+json": {
       "model_id": "",
       "version_major": 2,
       "version_minor": 0
      },
      "text/plain": [
       "validset:   0%|                                                                                  | 0/5 [00:00<…"
      ]
     },
     "metadata": {},
     "output_type": "display_data"
    },
    {
     "name": "stdout",
     "output_type": "stream",
     "text": [
      "epoch: 10\n",
      "train loss: 0.5354661494493484\n",
      "valid loss: 1.182634162902832\n",
      "valid accuracy: 0.5433333333333333\n",
      "——————————————————————————————————————————————\n"
     ]
    },
    {
     "data": {
      "application/vnd.jupyter.widget-view+json": {
       "model_id": "",
       "version_major": 2,
       "version_minor": 0
      },
      "text/plain": [
       "trainset:   0%|                                                                                 | 0/22 [00:00<…"
      ]
     },
     "metadata": {},
     "output_type": "display_data"
    },
    {
     "data": {
      "application/vnd.jupyter.widget-view+json": {
       "model_id": "",
       "version_major": 2,
       "version_minor": 0
      },
      "text/plain": [
       "validset:   0%|                                                                                  | 0/5 [00:00<…"
      ]
     },
     "metadata": {},
     "output_type": "display_data"
    },
    {
     "name": "stdout",
     "output_type": "stream",
     "text": [
      "epoch: 11\n",
      "train loss: 0.5463829216631976\n",
      "valid loss: 1.2111636400222778\n",
      "valid accuracy: 0.5333333333333333\n",
      "——————————————————————————————————————————————\n"
     ]
    },
    {
     "data": {
      "application/vnd.jupyter.widget-view+json": {
       "model_id": "",
       "version_major": 2,
       "version_minor": 0
      },
      "text/plain": [
       "trainset:   0%|                                                                                 | 0/22 [00:00<…"
      ]
     },
     "metadata": {},
     "output_type": "display_data"
    },
    {
     "data": {
      "application/vnd.jupyter.widget-view+json": {
       "model_id": "",
       "version_major": 2,
       "version_minor": 0
      },
      "text/plain": [
       "validset:   0%|                                                                                  | 0/5 [00:00<…"
      ]
     },
     "metadata": {},
     "output_type": "display_data"
    },
    {
     "name": "stdout",
     "output_type": "stream",
     "text": [
      "epoch: 12\n",
      "train loss: 0.6141655350273306\n",
      "valid loss: 1.105229878425598\n",
      "valid accuracy: 0.5433333333333333\n",
      "——————————————————————————————————————————————\n"
     ]
    },
    {
     "data": {
      "application/vnd.jupyter.widget-view+json": {
       "model_id": "",
       "version_major": 2,
       "version_minor": 0
      },
      "text/plain": [
       "trainset:   0%|                                                                                 | 0/22 [00:00<…"
      ]
     },
     "metadata": {},
     "output_type": "display_data"
    },
    {
     "data": {
      "application/vnd.jupyter.widget-view+json": {
       "model_id": "",
       "version_major": 2,
       "version_minor": 0
      },
      "text/plain": [
       "validset:   0%|                                                                                  | 0/5 [00:00<…"
      ]
     },
     "metadata": {},
     "output_type": "display_data"
    },
    {
     "name": "stdout",
     "output_type": "stream",
     "text": [
      "epoch: 13\n",
      "train loss: 0.6286185451529243\n",
      "valid loss: 1.249489164352417\n",
      "valid accuracy: 0.5233333333333333\n",
      "——————————————————————————————————————————————\n"
     ]
    },
    {
     "data": {
      "application/vnd.jupyter.widget-view+json": {
       "model_id": "",
       "version_major": 2,
       "version_minor": 0
      },
      "text/plain": [
       "trainset:   0%|                                                                                 | 0/22 [00:00<…"
      ]
     },
     "metadata": {},
     "output_type": "display_data"
    },
    {
     "data": {
      "application/vnd.jupyter.widget-view+json": {
       "model_id": "",
       "version_major": 2,
       "version_minor": 0
      },
      "text/plain": [
       "validset:   0%|                                                                                  | 0/5 [00:00<…"
      ]
     },
     "metadata": {},
     "output_type": "display_data"
    },
    {
     "name": "stdout",
     "output_type": "stream",
     "text": [
      "epoch: 14\n",
      "train loss: 0.6089665605263277\n",
      "valid loss: 1.1771393775939942\n",
      "valid accuracy: 0.5666666666666667\n",
      "——————————————————————————————————————————————\n"
     ]
    },
    {
     "data": {
      "application/vnd.jupyter.widget-view+json": {
       "model_id": "",
       "version_major": 2,
       "version_minor": 0
      },
      "text/plain": [
       "trainset:   0%|                                                                                 | 0/22 [00:00<…"
      ]
     },
     "metadata": {},
     "output_type": "display_data"
    },
    {
     "data": {
      "application/vnd.jupyter.widget-view+json": {
       "model_id": "",
       "version_major": 2,
       "version_minor": 0
      },
      "text/plain": [
       "validset:   0%|                                                                                  | 0/5 [00:00<…"
      ]
     },
     "metadata": {},
     "output_type": "display_data"
    },
    {
     "name": "stdout",
     "output_type": "stream",
     "text": [
      "epoch: 15\n",
      "train loss: 0.616804606535218\n",
      "valid loss: 1.102963399887085\n",
      "valid accuracy: 0.5366666666666666\n",
      "——————————————————————————————————————————————\n"
     ]
    },
    {
     "data": {
      "application/vnd.jupyter.widget-view+json": {
       "model_id": "",
       "version_major": 2,
       "version_minor": 0
      },
      "text/plain": [
       "trainset:   0%|                                                                                 | 0/22 [00:00<…"
      ]
     },
     "metadata": {},
     "output_type": "display_data"
    },
    {
     "data": {
      "application/vnd.jupyter.widget-view+json": {
       "model_id": "",
       "version_major": 2,
       "version_minor": 0
      },
      "text/plain": [
       "validset:   0%|                                                                                  | 0/5 [00:00<…"
      ]
     },
     "metadata": {},
     "output_type": "display_data"
    },
    {
     "name": "stdout",
     "output_type": "stream",
     "text": [
      "epoch: 16\n",
      "train loss: 0.6258524385365573\n",
      "valid loss: 1.1205647110939025\n",
      "valid accuracy: 0.5433333333333333\n",
      "——————————————————————————————————————————————\n"
     ]
    },
    {
     "data": {
      "application/vnd.jupyter.widget-view+json": {
       "model_id": "",
       "version_major": 2,
       "version_minor": 0
      },
      "text/plain": [
       "trainset:   0%|                                                                                 | 0/22 [00:00<…"
      ]
     },
     "metadata": {},
     "output_type": "display_data"
    },
    {
     "data": {
      "application/vnd.jupyter.widget-view+json": {
       "model_id": "",
       "version_major": 2,
       "version_minor": 0
      },
      "text/plain": [
       "validset:   0%|                                                                                  | 0/5 [00:00<…"
      ]
     },
     "metadata": {},
     "output_type": "display_data"
    },
    {
     "name": "stdout",
     "output_type": "stream",
     "text": [
      "early stop\n"
     ]
    }
   ],
   "source": [
    "from torch.utils.data import DataLoader\n",
    "train_dataloader = DataLoader(MyData(X_train) , batch_size=bat_size,shuffle = False)\n",
    "model= BertForSequenceClassification.from_pretrained(\n",
    "    \"bert-base-uncased\", \n",
    "    num_labels = 4,    \n",
    "    output_attentions = False, \n",
    "    output_hidden_states = False,\n",
    ")\n",
    "model.to(device)\n",
    "optimizer = AdamW(model.parameters(),\n",
    "                  lr = 1e-5, # args.learning_rate - default is 5e-5\n",
    "                  eps = 1e-8, # args.adam_epsilon  - default is 1e-8\n",
    "                  weight_decay=0.01,\n",
    "                  correct_bias=True\n",
    "                )\n",
    "epochs = 50\n",
    "train_lost_epoch=[]\n",
    "valid_lost_epoch=[]\n",
    "valid_accuracy_list=[]\n",
    "for epoch in tqdm(range(epochs),desc='epoch'):\n",
    "    model.train()\n",
    "    loss_list=[]\n",
    "    i=0\n",
    "    for batch in tqdm(train_dataloader,desc='trainset',leave=False):\n",
    "        model.zero_grad() \n",
    "        optimizer.zero_grad()\n",
    "        input_ids = batch['input_ids'].to(device)\n",
    "        token_type_ids = batch['token_type_ids'].to(device)\n",
    "        attention_mask = batch['attention_mask'].to(device)\n",
    "        target=torch.tensor(y_train[i:i+bat_size]).to(device)\n",
    "        i+=bat_size\n",
    "        outputs = model(input_ids, \n",
    "                            token_type_ids, \n",
    "                            attention_mask, \n",
    "                            labels=target)\n",
    "\n",
    "        loss = outputs.loss\n",
    "        logits = outputs.logits\n",
    "        loss.backward()\n",
    "        optimizer.step()\n",
    "        loss_list.append(loss.item())\n",
    "    train_lost_epoch.append(np.mean(loss_list))\n",
    "    model.eval()\n",
    "    loss_list=[]\n",
    "    i=0\n",
    "    num_correct=0\n",
    "    for batch in tqdm(valid_dataloader,desc='validset',leave=False):\n",
    "        with torch.no_grad():  \n",
    "            input_ids = batch['input_ids'].to(device)\n",
    "            token_type_ids = batch['token_type_ids'].to(device)\n",
    "            attention_mask = batch['attention_mask'].to(device)\n",
    "\n",
    "            target=torch.tensor(y_valid[i:i+bat_size]).to(device)\n",
    "            i+=bat_size\n",
    "            outputs = model(input_ids, \n",
    "                                token_type_ids, \n",
    "                                attention_mask, \n",
    "                                labels=target)\n",
    "            loss = outputs.loss\n",
    "            logits = outputs.logits\n",
    "            loss_list.append(loss.item())\n",
    "            pred_flat = np.argmax(logits.detach().cpu().numpy(), axis=1).flatten()\n",
    "            labels_flat = target.to('cpu').numpy().flatten()\n",
    "            num_correct += np.sum(pred_flat == labels_flat)\n",
    "    valid_accuracy=num_correct/len(y_valid)\n",
    "    if  epoch==0:\n",
    "        torch.save(model.state_dict(), \"my_model_re\")\n",
    "    else:\n",
    "        if  valid_accuracy>max(valid_accuracy_list):\n",
    "            torch.save(model.state_dict(), \"my_model_re\")\n",
    "    if epoch>=10:\n",
    "        if valid_accuracy<min(valid_accuracy_list[-10:-1]):\n",
    "            print(\"early stop\")\n",
    "            break\n",
    "    valid_accuracy_list.append(valid_accuracy)\n",
    "    valid_lost_epoch.append(np.mean(loss_list))\n",
    "    print(\"epoch: \"+str(epoch))\n",
    "    print(\"train loss: \"+str(train_lost_epoch[-1]))\n",
    "    print(\"valid loss: \"+str(valid_lost_epoch[-1]))\n",
    "    print(\"valid accuracy: \"+str(valid_accuracy))\n",
    "    print(\"——————————————————————————————————————————————\")"
   ]
  },
  {
   "cell_type": "code",
   "execution_count": 36,
   "id": "48708a0c",
   "metadata": {},
   "outputs": [
    {
     "name": "stdout",
     "output_type": "stream",
     "text": [
      "0.5666666666666667\n"
     ]
    }
   ],
   "source": [
    "print(max(valid_accuracy_list))"
   ]
  },
  {
   "cell_type": "code",
   "execution_count": null,
   "id": "549c2992",
   "metadata": {},
   "outputs": [],
   "source": []
  }
 ],
 "metadata": {
  "kernelspec": {
   "display_name": "Python 3 (ipykernel)",
   "language": "python",
   "name": "python3"
  },
  "language_info": {
   "codemirror_mode": {
    "name": "ipython",
    "version": 3
   },
   "file_extension": ".py",
   "mimetype": "text/x-python",
   "name": "python",
   "nbconvert_exporter": "python",
   "pygments_lexer": "ipython3",
   "version": "3.9.12"
  }
 },
 "nbformat": 4,
 "nbformat_minor": 5
}
