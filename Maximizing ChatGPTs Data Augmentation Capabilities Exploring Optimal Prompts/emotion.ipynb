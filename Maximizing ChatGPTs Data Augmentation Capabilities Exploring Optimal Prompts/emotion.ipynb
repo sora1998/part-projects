{
 "cells": [
  {
   "cell_type": "markdown",
   "id": "2a30914c",
   "metadata": {},
   "source": [
    "# without augmentation"
   ]
  },
  {
   "cell_type": "code",
   "execution_count": 1,
   "id": "70abbb8e",
   "metadata": {},
   "outputs": [
    {
     "name": "stderr",
     "output_type": "stream",
     "text": [
      "[nltk_data] Downloading package stopwords to\n",
      "[nltk_data]     C:\\Users\\maenz\\AppData\\Roaming\\nltk_data...\n",
      "[nltk_data]   Package stopwords is already up-to-date!\n"
     ]
    }
   ],
   "source": [
    "import pickle\n",
    "import pandas as pd\n",
    "import itertools\n",
    "from collections import Counter\n",
    "import numpy as np\n",
    "import nltk\n",
    "from nltk import word_tokenize\n",
    "from nltk.corpus import stopwords\n",
    "from gensim.models import word2vec\n",
    "from sklearn.linear_model import LogisticRegression\n",
    "import os\n",
    "import string\n",
    "nltk.download('stopwords')\n",
    "from tqdm.auto import tqdm"
   ]
  },
  {
   "cell_type": "code",
   "execution_count": 2,
   "id": "04121cba",
   "metadata": {},
   "outputs": [
    {
     "name": "stderr",
     "output_type": "stream",
     "text": [
      "Found cached dataset go_emotions (C:/Users/maenz/.cache/huggingface/datasets/go_emotions/raw/0.0.0/2637cfdd4e64d30249c3ed2150fa2b9d279766bfcd6a809b9f085c61a90d776d)\n"
     ]
    },
    {
     "data": {
      "application/vnd.jupyter.widget-view+json": {
       "model_id": "7a27585b10684d6181ad106a071a3da7",
       "version_major": 2,
       "version_minor": 0
      },
      "text/plain": [
       "  0%|          | 0/1 [00:00<?, ?it/s]"
      ]
     },
     "metadata": {},
     "output_type": "display_data"
    }
   ],
   "source": [
    "from datasets import load_dataset\n",
    "dataset = load_dataset(\"go_emotions\", \"raw\")"
   ]
  },
  {
   "cell_type": "code",
   "execution_count": 3,
   "id": "49c2ed05",
   "metadata": {
    "scrolled": true
   },
   "outputs": [
    {
     "data": {
      "text/plain": [
       "DatasetDict({\n",
       "    train: Dataset({\n",
       "        features: ['text', 'id', 'author', 'subreddit', 'link_id', 'parent_id', 'created_utc', 'rater_id', 'example_very_unclear', 'admiration', 'amusement', 'anger', 'annoyance', 'approval', 'caring', 'confusion', 'curiosity', 'desire', 'disappointment', 'disapproval', 'disgust', 'embarrassment', 'excitement', 'fear', 'gratitude', 'grief', 'joy', 'love', 'nervousness', 'optimism', 'pride', 'realization', 'relief', 'remorse', 'sadness', 'surprise', 'neutral'],\n",
       "        num_rows: 211225\n",
       "    })\n",
       "})"
      ]
     },
     "execution_count": 3,
     "metadata": {},
     "output_type": "execute_result"
    }
   ],
   "source": [
    "dataset"
   ]
  },
  {
   "cell_type": "code",
   "execution_count": 4,
   "id": "0c45f40e",
   "metadata": {},
   "outputs": [],
   "source": [
    "import copy as cp"
   ]
  },
  {
   "cell_type": "code",
   "execution_count": 5,
   "id": "4b2f629b",
   "metadata": {},
   "outputs": [],
   "source": [
    "df=pd.DataFrame.from_dict(dataset[\"train\"][0:1000])"
   ]
  },
  {
   "cell_type": "code",
   "execution_count": 6,
   "id": "6731caa1",
   "metadata": {
    "scrolled": true
   },
   "outputs": [
    {
     "data": {
      "text/plain": [
       "0                                      That game hurt.\n",
       "1     >sexuality shouldn’t be a grouping category I...\n",
       "2       You do right, if you don't care then fuck 'em!\n",
       "3                                   Man I love reddit.\n",
       "4    [NAME] was nowhere near them, he was by the Fa...\n",
       "Name: text, dtype: object"
      ]
     },
     "execution_count": 6,
     "metadata": {},
     "output_type": "execute_result"
    }
   ],
   "source": [
    "df.iloc[0:5]['text']"
   ]
  },
  {
   "cell_type": "code",
   "execution_count": 7,
   "id": "72252ff8",
   "metadata": {},
   "outputs": [],
   "source": [
    "label_list=[\"admiration\",\"amusement\",\"anger\",\"annoyance\",\"approval\",\"caring\",\"confusion\",\\\n",
    "            \"curiosity\",\"desire\",\"disappointment\",\"disapproval\",\"disgust\",\"embarrassment\",\"excitement\",\\\n",
    "            \"fear\",\"gratitude\",\"grief\",\"joy\",\"love\",\"nervousness\",\"optimism\",\"pride\",\"realization\",\"relief\",\"remorse\",\"sadness\",\"surprise\",\"neutral\"]"
   ]
  },
  {
   "cell_type": "code",
   "execution_count": 8,
   "id": "be803c49",
   "metadata": {},
   "outputs": [],
   "source": [
    "positive=[\"admiration\",\"amusement\",\"approval\",\"caring\",\"curiosity\",\"desire\",\"excitement\",\"gratitude\",\"joy\",\"love\",\"optimism\",\"pride\",\"relief\"]\n",
    "negative=[\"anger\",\"annoyance\",\"confusion\",\"disappointment\",\"disapproval\",\"disgust\",\"embarrassment\",\"fear\",\"grief\",\"nervousness\",\"remorse\",\\\n",
    "         \"sadness\"]"
   ]
  },
  {
   "cell_type": "code",
   "execution_count": 9,
   "id": "80f5175a",
   "metadata": {},
   "outputs": [],
   "source": [
    "df[\"label\"]=0"
   ]
  },
  {
   "cell_type": "code",
   "execution_count": 10,
   "id": "3b475d87",
   "metadata": {},
   "outputs": [],
   "source": [
    "for index, row in df.iterrows():\n",
    "    for i in range(len(label_list)):\n",
    "        if row[label_list[i]]==1:\n",
    "            if label_list[i] in positive:\n",
    "                df.at[index,'label']=1\n",
    "            elif label_list[i] in negative:\n",
    "                df.at[index,'label']=0\n",
    "            else:\n",
    "                df.at[index,'label']=2"
   ]
  },
  {
   "cell_type": "code",
   "execution_count": 11,
   "id": "70415c98",
   "metadata": {
    "scrolled": true
   },
   "outputs": [
    {
     "data": {
      "text/plain": [
       "0      0\n",
       "1      0\n",
       "2      2\n",
       "3      1\n",
       "4      2\n",
       "      ..\n",
       "995    1\n",
       "996    1\n",
       "997    1\n",
       "998    0\n",
       "999    2\n",
       "Name: label, Length: 1000, dtype: int64"
      ]
     },
     "execution_count": 11,
     "metadata": {},
     "output_type": "execute_result"
    }
   ],
   "source": [
    "df[\"label\"]"
   ]
  },
  {
   "cell_type": "code",
   "execution_count": 12,
   "id": "dcb00286",
   "metadata": {},
   "outputs": [],
   "source": [
    "df=df[['text','label']]\n",
    "# df.to_csv(\"my_emo_data\")"
   ]
  },
  {
   "cell_type": "markdown",
   "id": "5c4442ee",
   "metadata": {},
   "source": [
    "### run from here"
   ]
  },
  {
   "cell_type": "code",
   "execution_count": 13,
   "id": "7786f9b2",
   "metadata": {},
   "outputs": [],
   "source": [
    "df=pd.read_csv(\"my_emo_data\")"
   ]
  },
  {
   "cell_type": "code",
   "execution_count": 14,
   "id": "2b9bf041",
   "metadata": {},
   "outputs": [],
   "source": [
    "df_train=df.iloc[0:int(df.shape[0]*0.7)]\n",
    "df_test=df.iloc[int(df.shape[0]*0.7):]"
   ]
  },
  {
   "cell_type": "code",
   "execution_count": 15,
   "id": "d8f2ad1a",
   "metadata": {},
   "outputs": [],
   "source": [
    "# from sklearn.model_selection import train_test_split\n",
    "# X_train_original, X_valid_original, y_train_original, y_valid_original = train_test_split(df_train['text'], df_train['label'], test_size=0.3, random_state=0)"
   ]
  },
  {
   "cell_type": "code",
   "execution_count": 16,
   "id": "7cda9c7f",
   "metadata": {},
   "outputs": [],
   "source": [
    "X_train_original=df_train['text']\n",
    "X_valid_original=df_test['text']\n",
    "y_train_original=df_train['label']\n",
    "y_valid_original=df_test['label']"
   ]
  },
  {
   "cell_type": "code",
   "execution_count": 17,
   "id": "5e1dd662",
   "metadata": {},
   "outputs": [],
   "source": [
    "import torch\n",
    "assert torch.cuda.is_available()\n",
    "device = torch.device(\"cuda\")"
   ]
  },
  {
   "cell_type": "code",
   "execution_count": 18,
   "id": "1a70a622",
   "metadata": {},
   "outputs": [],
   "source": [
    "from transformers import AutoTokenizer, AdamW,BertForSequenceClassification"
   ]
  },
  {
   "cell_type": "code",
   "execution_count": 19,
   "id": "8535ed96",
   "metadata": {},
   "outputs": [],
   "source": [
    "tokenizer= AutoTokenizer.from_pretrained(\"bert-base-uncased\")"
   ]
  },
  {
   "cell_type": "code",
   "execution_count": 20,
   "id": "32ea52a6",
   "metadata": {},
   "outputs": [],
   "source": [
    "X_train=tokenizer(list(X_train_original),truncation=True, padding=True, max_length=64,return_tensors='pt')\n",
    "y_train=list(y_train_original)"
   ]
  },
  {
   "cell_type": "code",
   "execution_count": 21,
   "id": "b4bb0433",
   "metadata": {},
   "outputs": [],
   "source": [
    "X_valid=tokenizer(list(X_valid_original),truncation=True, padding=True, max_length=64,return_tensors='pt')\n",
    "y_valid=list(y_valid_original)"
   ]
  },
  {
   "cell_type": "code",
   "execution_count": 22,
   "id": "2d6940bd",
   "metadata": {},
   "outputs": [],
   "source": [
    "class MyData(torch.utils.data.Dataset):\n",
    "    def __init__(self, token):\n",
    "        self.token = token\n",
    "    def __getitem__(self, id):\n",
    "        return {key: val[id] for key, val in self.token.items()}\n",
    "    def __len__(self):\n",
    "        return len(self.token.input_ids)"
   ]
  },
  {
   "cell_type": "code",
   "execution_count": 23,
   "id": "2a07b5cf",
   "metadata": {},
   "outputs": [],
   "source": [
    "bat_size=128"
   ]
  },
  {
   "cell_type": "code",
   "execution_count": 24,
   "id": "6c857681",
   "metadata": {},
   "outputs": [],
   "source": [
    "from torch.utils.data import DataLoader\n",
    "train_dataloader = DataLoader(MyData(X_train) , batch_size=bat_size,shuffle = False)\n",
    "valid_dataloader = DataLoader(MyData(X_valid) , batch_size=bat_size,shuffle = False)"
   ]
  },
  {
   "cell_type": "code",
   "execution_count": 25,
   "id": "6204cfd1",
   "metadata": {},
   "outputs": [
    {
     "name": "stderr",
     "output_type": "stream",
     "text": [
      "Some weights of the model checkpoint at bert-base-uncased were not used when initializing BertForSequenceClassification: ['cls.seq_relationship.bias', 'cls.predictions.decoder.weight', 'cls.predictions.bias', 'cls.seq_relationship.weight', 'cls.predictions.transform.LayerNorm.weight', 'cls.predictions.transform.LayerNorm.bias', 'cls.predictions.transform.dense.bias', 'cls.predictions.transform.dense.weight']\n",
      "- This IS expected if you are initializing BertForSequenceClassification from the checkpoint of a model trained on another task or with another architecture (e.g. initializing a BertForSequenceClassification model from a BertForPreTraining model).\n",
      "- This IS NOT expected if you are initializing BertForSequenceClassification from the checkpoint of a model that you expect to be exactly identical (initializing a BertForSequenceClassification model from a BertForSequenceClassification model).\n",
      "Some weights of BertForSequenceClassification were not initialized from the model checkpoint at bert-base-uncased and are newly initialized: ['classifier.weight', 'classifier.bias']\n",
      "You should probably TRAIN this model on a down-stream task to be able to use it for predictions and inference.\n"
     ]
    },
    {
     "data": {
      "text/plain": [
       "BertForSequenceClassification(\n",
       "  (bert): BertModel(\n",
       "    (embeddings): BertEmbeddings(\n",
       "      (word_embeddings): Embedding(30522, 768, padding_idx=0)\n",
       "      (position_embeddings): Embedding(512, 768)\n",
       "      (token_type_embeddings): Embedding(2, 768)\n",
       "      (LayerNorm): LayerNorm((768,), eps=1e-12, elementwise_affine=True)\n",
       "      (dropout): Dropout(p=0.1, inplace=False)\n",
       "    )\n",
       "    (encoder): BertEncoder(\n",
       "      (layer): ModuleList(\n",
       "        (0): BertLayer(\n",
       "          (attention): BertAttention(\n",
       "            (self): BertSelfAttention(\n",
       "              (query): Linear(in_features=768, out_features=768, bias=True)\n",
       "              (key): Linear(in_features=768, out_features=768, bias=True)\n",
       "              (value): Linear(in_features=768, out_features=768, bias=True)\n",
       "              (dropout): Dropout(p=0.1, inplace=False)\n",
       "            )\n",
       "            (output): BertSelfOutput(\n",
       "              (dense): Linear(in_features=768, out_features=768, bias=True)\n",
       "              (LayerNorm): LayerNorm((768,), eps=1e-12, elementwise_affine=True)\n",
       "              (dropout): Dropout(p=0.1, inplace=False)\n",
       "            )\n",
       "          )\n",
       "          (intermediate): BertIntermediate(\n",
       "            (dense): Linear(in_features=768, out_features=3072, bias=True)\n",
       "            (intermediate_act_fn): GELUActivation()\n",
       "          )\n",
       "          (output): BertOutput(\n",
       "            (dense): Linear(in_features=3072, out_features=768, bias=True)\n",
       "            (LayerNorm): LayerNorm((768,), eps=1e-12, elementwise_affine=True)\n",
       "            (dropout): Dropout(p=0.1, inplace=False)\n",
       "          )\n",
       "        )\n",
       "        (1): BertLayer(\n",
       "          (attention): BertAttention(\n",
       "            (self): BertSelfAttention(\n",
       "              (query): Linear(in_features=768, out_features=768, bias=True)\n",
       "              (key): Linear(in_features=768, out_features=768, bias=True)\n",
       "              (value): Linear(in_features=768, out_features=768, bias=True)\n",
       "              (dropout): Dropout(p=0.1, inplace=False)\n",
       "            )\n",
       "            (output): BertSelfOutput(\n",
       "              (dense): Linear(in_features=768, out_features=768, bias=True)\n",
       "              (LayerNorm): LayerNorm((768,), eps=1e-12, elementwise_affine=True)\n",
       "              (dropout): Dropout(p=0.1, inplace=False)\n",
       "            )\n",
       "          )\n",
       "          (intermediate): BertIntermediate(\n",
       "            (dense): Linear(in_features=768, out_features=3072, bias=True)\n",
       "            (intermediate_act_fn): GELUActivation()\n",
       "          )\n",
       "          (output): BertOutput(\n",
       "            (dense): Linear(in_features=3072, out_features=768, bias=True)\n",
       "            (LayerNorm): LayerNorm((768,), eps=1e-12, elementwise_affine=True)\n",
       "            (dropout): Dropout(p=0.1, inplace=False)\n",
       "          )\n",
       "        )\n",
       "        (2): BertLayer(\n",
       "          (attention): BertAttention(\n",
       "            (self): BertSelfAttention(\n",
       "              (query): Linear(in_features=768, out_features=768, bias=True)\n",
       "              (key): Linear(in_features=768, out_features=768, bias=True)\n",
       "              (value): Linear(in_features=768, out_features=768, bias=True)\n",
       "              (dropout): Dropout(p=0.1, inplace=False)\n",
       "            )\n",
       "            (output): BertSelfOutput(\n",
       "              (dense): Linear(in_features=768, out_features=768, bias=True)\n",
       "              (LayerNorm): LayerNorm((768,), eps=1e-12, elementwise_affine=True)\n",
       "              (dropout): Dropout(p=0.1, inplace=False)\n",
       "            )\n",
       "          )\n",
       "          (intermediate): BertIntermediate(\n",
       "            (dense): Linear(in_features=768, out_features=3072, bias=True)\n",
       "            (intermediate_act_fn): GELUActivation()\n",
       "          )\n",
       "          (output): BertOutput(\n",
       "            (dense): Linear(in_features=3072, out_features=768, bias=True)\n",
       "            (LayerNorm): LayerNorm((768,), eps=1e-12, elementwise_affine=True)\n",
       "            (dropout): Dropout(p=0.1, inplace=False)\n",
       "          )\n",
       "        )\n",
       "        (3): BertLayer(\n",
       "          (attention): BertAttention(\n",
       "            (self): BertSelfAttention(\n",
       "              (query): Linear(in_features=768, out_features=768, bias=True)\n",
       "              (key): Linear(in_features=768, out_features=768, bias=True)\n",
       "              (value): Linear(in_features=768, out_features=768, bias=True)\n",
       "              (dropout): Dropout(p=0.1, inplace=False)\n",
       "            )\n",
       "            (output): BertSelfOutput(\n",
       "              (dense): Linear(in_features=768, out_features=768, bias=True)\n",
       "              (LayerNorm): LayerNorm((768,), eps=1e-12, elementwise_affine=True)\n",
       "              (dropout): Dropout(p=0.1, inplace=False)\n",
       "            )\n",
       "          )\n",
       "          (intermediate): BertIntermediate(\n",
       "            (dense): Linear(in_features=768, out_features=3072, bias=True)\n",
       "            (intermediate_act_fn): GELUActivation()\n",
       "          )\n",
       "          (output): BertOutput(\n",
       "            (dense): Linear(in_features=3072, out_features=768, bias=True)\n",
       "            (LayerNorm): LayerNorm((768,), eps=1e-12, elementwise_affine=True)\n",
       "            (dropout): Dropout(p=0.1, inplace=False)\n",
       "          )\n",
       "        )\n",
       "        (4): BertLayer(\n",
       "          (attention): BertAttention(\n",
       "            (self): BertSelfAttention(\n",
       "              (query): Linear(in_features=768, out_features=768, bias=True)\n",
       "              (key): Linear(in_features=768, out_features=768, bias=True)\n",
       "              (value): Linear(in_features=768, out_features=768, bias=True)\n",
       "              (dropout): Dropout(p=0.1, inplace=False)\n",
       "            )\n",
       "            (output): BertSelfOutput(\n",
       "              (dense): Linear(in_features=768, out_features=768, bias=True)\n",
       "              (LayerNorm): LayerNorm((768,), eps=1e-12, elementwise_affine=True)\n",
       "              (dropout): Dropout(p=0.1, inplace=False)\n",
       "            )\n",
       "          )\n",
       "          (intermediate): BertIntermediate(\n",
       "            (dense): Linear(in_features=768, out_features=3072, bias=True)\n",
       "            (intermediate_act_fn): GELUActivation()\n",
       "          )\n",
       "          (output): BertOutput(\n",
       "            (dense): Linear(in_features=3072, out_features=768, bias=True)\n",
       "            (LayerNorm): LayerNorm((768,), eps=1e-12, elementwise_affine=True)\n",
       "            (dropout): Dropout(p=0.1, inplace=False)\n",
       "          )\n",
       "        )\n",
       "        (5): BertLayer(\n",
       "          (attention): BertAttention(\n",
       "            (self): BertSelfAttention(\n",
       "              (query): Linear(in_features=768, out_features=768, bias=True)\n",
       "              (key): Linear(in_features=768, out_features=768, bias=True)\n",
       "              (value): Linear(in_features=768, out_features=768, bias=True)\n",
       "              (dropout): Dropout(p=0.1, inplace=False)\n",
       "            )\n",
       "            (output): BertSelfOutput(\n",
       "              (dense): Linear(in_features=768, out_features=768, bias=True)\n",
       "              (LayerNorm): LayerNorm((768,), eps=1e-12, elementwise_affine=True)\n",
       "              (dropout): Dropout(p=0.1, inplace=False)\n",
       "            )\n",
       "          )\n",
       "          (intermediate): BertIntermediate(\n",
       "            (dense): Linear(in_features=768, out_features=3072, bias=True)\n",
       "            (intermediate_act_fn): GELUActivation()\n",
       "          )\n",
       "          (output): BertOutput(\n",
       "            (dense): Linear(in_features=3072, out_features=768, bias=True)\n",
       "            (LayerNorm): LayerNorm((768,), eps=1e-12, elementwise_affine=True)\n",
       "            (dropout): Dropout(p=0.1, inplace=False)\n",
       "          )\n",
       "        )\n",
       "        (6): BertLayer(\n",
       "          (attention): BertAttention(\n",
       "            (self): BertSelfAttention(\n",
       "              (query): Linear(in_features=768, out_features=768, bias=True)\n",
       "              (key): Linear(in_features=768, out_features=768, bias=True)\n",
       "              (value): Linear(in_features=768, out_features=768, bias=True)\n",
       "              (dropout): Dropout(p=0.1, inplace=False)\n",
       "            )\n",
       "            (output): BertSelfOutput(\n",
       "              (dense): Linear(in_features=768, out_features=768, bias=True)\n",
       "              (LayerNorm): LayerNorm((768,), eps=1e-12, elementwise_affine=True)\n",
       "              (dropout): Dropout(p=0.1, inplace=False)\n",
       "            )\n",
       "          )\n",
       "          (intermediate): BertIntermediate(\n",
       "            (dense): Linear(in_features=768, out_features=3072, bias=True)\n",
       "            (intermediate_act_fn): GELUActivation()\n",
       "          )\n",
       "          (output): BertOutput(\n",
       "            (dense): Linear(in_features=3072, out_features=768, bias=True)\n",
       "            (LayerNorm): LayerNorm((768,), eps=1e-12, elementwise_affine=True)\n",
       "            (dropout): Dropout(p=0.1, inplace=False)\n",
       "          )\n",
       "        )\n",
       "        (7): BertLayer(\n",
       "          (attention): BertAttention(\n",
       "            (self): BertSelfAttention(\n",
       "              (query): Linear(in_features=768, out_features=768, bias=True)\n",
       "              (key): Linear(in_features=768, out_features=768, bias=True)\n",
       "              (value): Linear(in_features=768, out_features=768, bias=True)\n",
       "              (dropout): Dropout(p=0.1, inplace=False)\n",
       "            )\n",
       "            (output): BertSelfOutput(\n",
       "              (dense): Linear(in_features=768, out_features=768, bias=True)\n",
       "              (LayerNorm): LayerNorm((768,), eps=1e-12, elementwise_affine=True)\n",
       "              (dropout): Dropout(p=0.1, inplace=False)\n",
       "            )\n",
       "          )\n",
       "          (intermediate): BertIntermediate(\n",
       "            (dense): Linear(in_features=768, out_features=3072, bias=True)\n",
       "            (intermediate_act_fn): GELUActivation()\n",
       "          )\n",
       "          (output): BertOutput(\n",
       "            (dense): Linear(in_features=3072, out_features=768, bias=True)\n",
       "            (LayerNorm): LayerNorm((768,), eps=1e-12, elementwise_affine=True)\n",
       "            (dropout): Dropout(p=0.1, inplace=False)\n",
       "          )\n",
       "        )\n",
       "        (8): BertLayer(\n",
       "          (attention): BertAttention(\n",
       "            (self): BertSelfAttention(\n",
       "              (query): Linear(in_features=768, out_features=768, bias=True)\n",
       "              (key): Linear(in_features=768, out_features=768, bias=True)\n",
       "              (value): Linear(in_features=768, out_features=768, bias=True)\n",
       "              (dropout): Dropout(p=0.1, inplace=False)\n",
       "            )\n",
       "            (output): BertSelfOutput(\n",
       "              (dense): Linear(in_features=768, out_features=768, bias=True)\n",
       "              (LayerNorm): LayerNorm((768,), eps=1e-12, elementwise_affine=True)\n",
       "              (dropout): Dropout(p=0.1, inplace=False)\n",
       "            )\n",
       "          )\n",
       "          (intermediate): BertIntermediate(\n",
       "            (dense): Linear(in_features=768, out_features=3072, bias=True)\n",
       "            (intermediate_act_fn): GELUActivation()\n",
       "          )\n",
       "          (output): BertOutput(\n",
       "            (dense): Linear(in_features=3072, out_features=768, bias=True)\n",
       "            (LayerNorm): LayerNorm((768,), eps=1e-12, elementwise_affine=True)\n",
       "            (dropout): Dropout(p=0.1, inplace=False)\n",
       "          )\n",
       "        )\n",
       "        (9): BertLayer(\n",
       "          (attention): BertAttention(\n",
       "            (self): BertSelfAttention(\n",
       "              (query): Linear(in_features=768, out_features=768, bias=True)\n",
       "              (key): Linear(in_features=768, out_features=768, bias=True)\n",
       "              (value): Linear(in_features=768, out_features=768, bias=True)\n",
       "              (dropout): Dropout(p=0.1, inplace=False)\n",
       "            )\n",
       "            (output): BertSelfOutput(\n",
       "              (dense): Linear(in_features=768, out_features=768, bias=True)\n",
       "              (LayerNorm): LayerNorm((768,), eps=1e-12, elementwise_affine=True)\n",
       "              (dropout): Dropout(p=0.1, inplace=False)\n",
       "            )\n",
       "          )\n",
       "          (intermediate): BertIntermediate(\n",
       "            (dense): Linear(in_features=768, out_features=3072, bias=True)\n",
       "            (intermediate_act_fn): GELUActivation()\n",
       "          )\n",
       "          (output): BertOutput(\n",
       "            (dense): Linear(in_features=3072, out_features=768, bias=True)\n",
       "            (LayerNorm): LayerNorm((768,), eps=1e-12, elementwise_affine=True)\n",
       "            (dropout): Dropout(p=0.1, inplace=False)\n",
       "          )\n",
       "        )\n",
       "        (10): BertLayer(\n",
       "          (attention): BertAttention(\n",
       "            (self): BertSelfAttention(\n",
       "              (query): Linear(in_features=768, out_features=768, bias=True)\n",
       "              (key): Linear(in_features=768, out_features=768, bias=True)\n",
       "              (value): Linear(in_features=768, out_features=768, bias=True)\n",
       "              (dropout): Dropout(p=0.1, inplace=False)\n",
       "            )\n",
       "            (output): BertSelfOutput(\n",
       "              (dense): Linear(in_features=768, out_features=768, bias=True)\n",
       "              (LayerNorm): LayerNorm((768,), eps=1e-12, elementwise_affine=True)\n",
       "              (dropout): Dropout(p=0.1, inplace=False)\n",
       "            )\n",
       "          )\n",
       "          (intermediate): BertIntermediate(\n",
       "            (dense): Linear(in_features=768, out_features=3072, bias=True)\n",
       "            (intermediate_act_fn): GELUActivation()\n",
       "          )\n",
       "          (output): BertOutput(\n",
       "            (dense): Linear(in_features=3072, out_features=768, bias=True)\n",
       "            (LayerNorm): LayerNorm((768,), eps=1e-12, elementwise_affine=True)\n",
       "            (dropout): Dropout(p=0.1, inplace=False)\n",
       "          )\n",
       "        )\n",
       "        (11): BertLayer(\n",
       "          (attention): BertAttention(\n",
       "            (self): BertSelfAttention(\n",
       "              (query): Linear(in_features=768, out_features=768, bias=True)\n",
       "              (key): Linear(in_features=768, out_features=768, bias=True)\n",
       "              (value): Linear(in_features=768, out_features=768, bias=True)\n",
       "              (dropout): Dropout(p=0.1, inplace=False)\n",
       "            )\n",
       "            (output): BertSelfOutput(\n",
       "              (dense): Linear(in_features=768, out_features=768, bias=True)\n",
       "              (LayerNorm): LayerNorm((768,), eps=1e-12, elementwise_affine=True)\n",
       "              (dropout): Dropout(p=0.1, inplace=False)\n",
       "            )\n",
       "          )\n",
       "          (intermediate): BertIntermediate(\n",
       "            (dense): Linear(in_features=768, out_features=3072, bias=True)\n",
       "            (intermediate_act_fn): GELUActivation()\n",
       "          )\n",
       "          (output): BertOutput(\n",
       "            (dense): Linear(in_features=3072, out_features=768, bias=True)\n",
       "            (LayerNorm): LayerNorm((768,), eps=1e-12, elementwise_affine=True)\n",
       "            (dropout): Dropout(p=0.1, inplace=False)\n",
       "          )\n",
       "        )\n",
       "      )\n",
       "    )\n",
       "    (pooler): BertPooler(\n",
       "      (dense): Linear(in_features=768, out_features=768, bias=True)\n",
       "      (activation): Tanh()\n",
       "    )\n",
       "  )\n",
       "  (dropout): Dropout(p=0.1, inplace=False)\n",
       "  (classifier): Linear(in_features=768, out_features=3, bias=True)\n",
       ")"
      ]
     },
     "execution_count": 25,
     "metadata": {},
     "output_type": "execute_result"
    }
   ],
   "source": [
    "model = BertForSequenceClassification.from_pretrained(\n",
    "    \"bert-base-uncased\", \n",
    "    num_labels = 3,    \n",
    "    output_attentions = False, \n",
    "    output_hidden_states = False,\n",
    ")\n",
    "model.to(device)"
   ]
  },
  {
   "cell_type": "code",
   "execution_count": 26,
   "id": "78b09305",
   "metadata": {},
   "outputs": [
    {
     "name": "stderr",
     "output_type": "stream",
     "text": [
      "F:\\anaconda\\lib\\site-packages\\transformers\\optimization.py:391: FutureWarning: This implementation of AdamW is deprecated and will be removed in a future version. Use the PyTorch implementation torch.optim.AdamW instead, or set `no_deprecation_warning=True` to disable this warning\n",
      "  warnings.warn(\n"
     ]
    }
   ],
   "source": [
    "optimizer = AdamW(model.parameters(),\n",
    "                  lr = 1e-5, # args.learning_rate - default is 5e-5\n",
    "                  eps = 1e-8, # args.adam_epsilon  - default is 1e-8\n",
    "                  weight_decay=0.01,\n",
    "                  correct_bias=True\n",
    "                )\n",
    "epochs = 50"
   ]
  },
  {
   "cell_type": "code",
   "execution_count": 27,
   "id": "79622ae7",
   "metadata": {
    "scrolled": true
   },
   "outputs": [
    {
     "data": {
      "application/vnd.jupyter.widget-view+json": {
       "model_id": "1ac2c64d2ff24f59a060d8c7d1b06e2a",
       "version_major": 2,
       "version_minor": 0
      },
      "text/plain": [
       "epoch:   0%|          | 0/50 [00:00<?, ?it/s]"
      ]
     },
     "metadata": {},
     "output_type": "display_data"
    },
    {
     "data": {
      "application/vnd.jupyter.widget-view+json": {
       "model_id": "",
       "version_major": 2,
       "version_minor": 0
      },
      "text/plain": [
       "trainset:   0%|          | 0/6 [00:00<?, ?it/s]"
      ]
     },
     "metadata": {},
     "output_type": "display_data"
    },
    {
     "data": {
      "application/vnd.jupyter.widget-view+json": {
       "model_id": "",
       "version_major": 2,
       "version_minor": 0
      },
      "text/plain": [
       "validset:   0%|          | 0/3 [00:00<?, ?it/s]"
      ]
     },
     "metadata": {},
     "output_type": "display_data"
    },
    {
     "name": "stdout",
     "output_type": "stream",
     "text": [
      "epoch: 0\n",
      "train loss: 1.1353267431259155\n",
      "valid loss: 1.0794005393981934\n",
      "valid accuracy: 0.43\n",
      "——————————————————————————————————————————————\n"
     ]
    },
    {
     "data": {
      "application/vnd.jupyter.widget-view+json": {
       "model_id": "",
       "version_major": 2,
       "version_minor": 0
      },
      "text/plain": [
       "trainset:   0%|          | 0/6 [00:00<?, ?it/s]"
      ]
     },
     "metadata": {},
     "output_type": "display_data"
    },
    {
     "data": {
      "application/vnd.jupyter.widget-view+json": {
       "model_id": "",
       "version_major": 2,
       "version_minor": 0
      },
      "text/plain": [
       "validset:   0%|          | 0/3 [00:00<?, ?it/s]"
      ]
     },
     "metadata": {},
     "output_type": "display_data"
    },
    {
     "name": "stdout",
     "output_type": "stream",
     "text": [
      "epoch: 1\n",
      "train loss: 1.098542849222819\n",
      "valid loss: 1.0966760714848836\n",
      "valid accuracy: 0.41333333333333333\n",
      "——————————————————————————————————————————————\n"
     ]
    },
    {
     "data": {
      "application/vnd.jupyter.widget-view+json": {
       "model_id": "",
       "version_major": 2,
       "version_minor": 0
      },
      "text/plain": [
       "trainset:   0%|          | 0/6 [00:00<?, ?it/s]"
      ]
     },
     "metadata": {},
     "output_type": "display_data"
    },
    {
     "data": {
      "application/vnd.jupyter.widget-view+json": {
       "model_id": "",
       "version_major": 2,
       "version_minor": 0
      },
      "text/plain": [
       "validset:   0%|          | 0/3 [00:00<?, ?it/s]"
      ]
     },
     "metadata": {},
     "output_type": "display_data"
    },
    {
     "name": "stdout",
     "output_type": "stream",
     "text": [
      "epoch: 2\n",
      "train loss: 1.0946766138076782\n",
      "valid loss: 1.0860888560612996\n",
      "valid accuracy: 0.4166666666666667\n",
      "——————————————————————————————————————————————\n"
     ]
    },
    {
     "data": {
      "application/vnd.jupyter.widget-view+json": {
       "model_id": "",
       "version_major": 2,
       "version_minor": 0
      },
      "text/plain": [
       "trainset:   0%|          | 0/6 [00:00<?, ?it/s]"
      ]
     },
     "metadata": {},
     "output_type": "display_data"
    },
    {
     "data": {
      "application/vnd.jupyter.widget-view+json": {
       "model_id": "",
       "version_major": 2,
       "version_minor": 0
      },
      "text/plain": [
       "validset:   0%|          | 0/3 [00:00<?, ?it/s]"
      ]
     },
     "metadata": {},
     "output_type": "display_data"
    },
    {
     "name": "stdout",
     "output_type": "stream",
     "text": [
      "epoch: 3\n",
      "train loss: 1.081778069337209\n",
      "valid loss: 1.0810645421346028\n",
      "valid accuracy: 0.4166666666666667\n",
      "——————————————————————————————————————————————\n"
     ]
    },
    {
     "data": {
      "application/vnd.jupyter.widget-view+json": {
       "model_id": "",
       "version_major": 2,
       "version_minor": 0
      },
      "text/plain": [
       "trainset:   0%|          | 0/6 [00:00<?, ?it/s]"
      ]
     },
     "metadata": {},
     "output_type": "display_data"
    },
    {
     "data": {
      "application/vnd.jupyter.widget-view+json": {
       "model_id": "",
       "version_major": 2,
       "version_minor": 0
      },
      "text/plain": [
       "validset:   0%|          | 0/3 [00:00<?, ?it/s]"
      ]
     },
     "metadata": {},
     "output_type": "display_data"
    },
    {
     "name": "stdout",
     "output_type": "stream",
     "text": [
      "epoch: 4\n",
      "train loss: 1.0694075226783752\n",
      "valid loss: 1.0816813309987385\n",
      "valid accuracy: 0.41\n",
      "——————————————————————————————————————————————\n"
     ]
    },
    {
     "data": {
      "application/vnd.jupyter.widget-view+json": {
       "model_id": "",
       "version_major": 2,
       "version_minor": 0
      },
      "text/plain": [
       "trainset:   0%|          | 0/6 [00:00<?, ?it/s]"
      ]
     },
     "metadata": {},
     "output_type": "display_data"
    },
    {
     "data": {
      "application/vnd.jupyter.widget-view+json": {
       "model_id": "",
       "version_major": 2,
       "version_minor": 0
      },
      "text/plain": [
       "validset:   0%|          | 0/3 [00:00<?, ?it/s]"
      ]
     },
     "metadata": {},
     "output_type": "display_data"
    },
    {
     "name": "stdout",
     "output_type": "stream",
     "text": [
      "epoch: 5\n",
      "train loss: 1.0674750804901123\n",
      "valid loss: 1.083991289138794\n",
      "valid accuracy: 0.42333333333333334\n",
      "——————————————————————————————————————————————\n"
     ]
    },
    {
     "data": {
      "application/vnd.jupyter.widget-view+json": {
       "model_id": "",
       "version_major": 2,
       "version_minor": 0
      },
      "text/plain": [
       "trainset:   0%|          | 0/6 [00:00<?, ?it/s]"
      ]
     },
     "metadata": {},
     "output_type": "display_data"
    },
    {
     "data": {
      "application/vnd.jupyter.widget-view+json": {
       "model_id": "",
       "version_major": 2,
       "version_minor": 0
      },
      "text/plain": [
       "validset:   0%|          | 0/3 [00:00<?, ?it/s]"
      ]
     },
     "metadata": {},
     "output_type": "display_data"
    },
    {
     "name": "stdout",
     "output_type": "stream",
     "text": [
      "epoch: 6\n",
      "train loss: 1.0382882555325825\n",
      "valid loss: 1.0824979543685913\n",
      "valid accuracy: 0.39\n",
      "——————————————————————————————————————————————\n"
     ]
    },
    {
     "data": {
      "application/vnd.jupyter.widget-view+json": {
       "model_id": "",
       "version_major": 2,
       "version_minor": 0
      },
      "text/plain": [
       "trainset:   0%|          | 0/6 [00:00<?, ?it/s]"
      ]
     },
     "metadata": {},
     "output_type": "display_data"
    },
    {
     "data": {
      "application/vnd.jupyter.widget-view+json": {
       "model_id": "",
       "version_major": 2,
       "version_minor": 0
      },
      "text/plain": [
       "validset:   0%|          | 0/3 [00:00<?, ?it/s]"
      ]
     },
     "metadata": {},
     "output_type": "display_data"
    },
    {
     "name": "stdout",
     "output_type": "stream",
     "text": [
      "epoch: 7\n",
      "train loss: 1.0191351175308228\n",
      "valid loss: 1.0829226970672607\n",
      "valid accuracy: 0.3933333333333333\n",
      "——————————————————————————————————————————————\n"
     ]
    },
    {
     "data": {
      "application/vnd.jupyter.widget-view+json": {
       "model_id": "",
       "version_major": 2,
       "version_minor": 0
      },
      "text/plain": [
       "trainset:   0%|          | 0/6 [00:00<?, ?it/s]"
      ]
     },
     "metadata": {},
     "output_type": "display_data"
    },
    {
     "data": {
      "application/vnd.jupyter.widget-view+json": {
       "model_id": "",
       "version_major": 2,
       "version_minor": 0
      },
      "text/plain": [
       "validset:   0%|          | 0/3 [00:00<?, ?it/s]"
      ]
     },
     "metadata": {},
     "output_type": "display_data"
    },
    {
     "name": "stdout",
     "output_type": "stream",
     "text": [
      "epoch: 8\n",
      "train loss: 1.0065307319164276\n",
      "valid loss: 1.1095365285873413\n",
      "valid accuracy: 0.4166666666666667\n",
      "——————————————————————————————————————————————\n"
     ]
    },
    {
     "data": {
      "application/vnd.jupyter.widget-view+json": {
       "model_id": "",
       "version_major": 2,
       "version_minor": 0
      },
      "text/plain": [
       "trainset:   0%|          | 0/6 [00:00<?, ?it/s]"
      ]
     },
     "metadata": {},
     "output_type": "display_data"
    },
    {
     "data": {
      "application/vnd.jupyter.widget-view+json": {
       "model_id": "",
       "version_major": 2,
       "version_minor": 0
      },
      "text/plain": [
       "validset:   0%|          | 0/3 [00:00<?, ?it/s]"
      ]
     },
     "metadata": {},
     "output_type": "display_data"
    },
    {
     "name": "stdout",
     "output_type": "stream",
     "text": [
      "epoch: 9\n",
      "train loss: 0.9823253651460012\n",
      "valid loss: 1.0939387877782185\n",
      "valid accuracy: 0.42333333333333334\n",
      "——————————————————————————————————————————————\n"
     ]
    },
    {
     "data": {
      "application/vnd.jupyter.widget-view+json": {
       "model_id": "",
       "version_major": 2,
       "version_minor": 0
      },
      "text/plain": [
       "trainset:   0%|          | 0/6 [00:00<?, ?it/s]"
      ]
     },
     "metadata": {},
     "output_type": "display_data"
    },
    {
     "data": {
      "application/vnd.jupyter.widget-view+json": {
       "model_id": "",
       "version_major": 2,
       "version_minor": 0
      },
      "text/plain": [
       "validset:   0%|          | 0/3 [00:00<?, ?it/s]"
      ]
     },
     "metadata": {},
     "output_type": "display_data"
    },
    {
     "name": "stdout",
     "output_type": "stream",
     "text": [
      "epoch: 10\n",
      "train loss: 0.9749608039855957\n",
      "valid loss: 1.147173325220744\n",
      "valid accuracy: 0.39666666666666667\n",
      "——————————————————————————————————————————————\n"
     ]
    },
    {
     "data": {
      "application/vnd.jupyter.widget-view+json": {
       "model_id": "",
       "version_major": 2,
       "version_minor": 0
      },
      "text/plain": [
       "trainset:   0%|          | 0/6 [00:00<?, ?it/s]"
      ]
     },
     "metadata": {},
     "output_type": "display_data"
    },
    {
     "data": {
      "application/vnd.jupyter.widget-view+json": {
       "model_id": "",
       "version_major": 2,
       "version_minor": 0
      },
      "text/plain": [
       "validset:   0%|          | 0/3 [00:00<?, ?it/s]"
      ]
     },
     "metadata": {},
     "output_type": "display_data"
    },
    {
     "name": "stdout",
     "output_type": "stream",
     "text": [
      "epoch: 11\n",
      "train loss: 0.9419559439023336\n",
      "valid loss: 1.0994226932525635\n",
      "valid accuracy: 0.42333333333333334\n",
      "——————————————————————————————————————————————\n"
     ]
    },
    {
     "data": {
      "application/vnd.jupyter.widget-view+json": {
       "model_id": "",
       "version_major": 2,
       "version_minor": 0
      },
      "text/plain": [
       "trainset:   0%|          | 0/6 [00:00<?, ?it/s]"
      ]
     },
     "metadata": {},
     "output_type": "display_data"
    },
    {
     "data": {
      "application/vnd.jupyter.widget-view+json": {
       "model_id": "",
       "version_major": 2,
       "version_minor": 0
      },
      "text/plain": [
       "validset:   0%|          | 0/3 [00:00<?, ?it/s]"
      ]
     },
     "metadata": {},
     "output_type": "display_data"
    },
    {
     "name": "stdout",
     "output_type": "stream",
     "text": [
      "epoch: 12\n",
      "train loss: 0.9086051285266876\n",
      "valid loss: 1.143566648165385\n",
      "valid accuracy: 0.43333333333333335\n",
      "——————————————————————————————————————————————\n"
     ]
    },
    {
     "data": {
      "application/vnd.jupyter.widget-view+json": {
       "model_id": "",
       "version_major": 2,
       "version_minor": 0
      },
      "text/plain": [
       "trainset:   0%|          | 0/6 [00:00<?, ?it/s]"
      ]
     },
     "metadata": {},
     "output_type": "display_data"
    },
    {
     "data": {
      "application/vnd.jupyter.widget-view+json": {
       "model_id": "",
       "version_major": 2,
       "version_minor": 0
      },
      "text/plain": [
       "validset:   0%|          | 0/3 [00:00<?, ?it/s]"
      ]
     },
     "metadata": {},
     "output_type": "display_data"
    },
    {
     "name": "stdout",
     "output_type": "stream",
     "text": [
      "epoch: 13\n",
      "train loss: 0.8674594064553579\n",
      "valid loss: 1.1991249720255535\n",
      "valid accuracy: 0.4266666666666667\n",
      "——————————————————————————————————————————————\n"
     ]
    },
    {
     "data": {
      "application/vnd.jupyter.widget-view+json": {
       "model_id": "",
       "version_major": 2,
       "version_minor": 0
      },
      "text/plain": [
       "trainset:   0%|          | 0/6 [00:00<?, ?it/s]"
      ]
     },
     "metadata": {},
     "output_type": "display_data"
    },
    {
     "data": {
      "application/vnd.jupyter.widget-view+json": {
       "model_id": "",
       "version_major": 2,
       "version_minor": 0
      },
      "text/plain": [
       "validset:   0%|          | 0/3 [00:00<?, ?it/s]"
      ]
     },
     "metadata": {},
     "output_type": "display_data"
    },
    {
     "name": "stdout",
     "output_type": "stream",
     "text": [
      "epoch: 14\n",
      "train loss: 0.8283842106660207\n",
      "valid loss: 1.179378906885783\n",
      "valid accuracy: 0.42\n",
      "——————————————————————————————————————————————\n"
     ]
    },
    {
     "data": {
      "application/vnd.jupyter.widget-view+json": {
       "model_id": "",
       "version_major": 2,
       "version_minor": 0
      },
      "text/plain": [
       "trainset:   0%|          | 0/6 [00:00<?, ?it/s]"
      ]
     },
     "metadata": {},
     "output_type": "display_data"
    },
    {
     "data": {
      "application/vnd.jupyter.widget-view+json": {
       "model_id": "",
       "version_major": 2,
       "version_minor": 0
      },
      "text/plain": [
       "validset:   0%|          | 0/3 [00:00<?, ?it/s]"
      ]
     },
     "metadata": {},
     "output_type": "display_data"
    },
    {
     "name": "stdout",
     "output_type": "stream",
     "text": [
      "epoch: 15\n",
      "train loss: 0.8611171940962473\n",
      "valid loss: 1.121259093284607\n",
      "valid accuracy: 0.43333333333333335\n",
      "——————————————————————————————————————————————\n"
     ]
    },
    {
     "data": {
      "application/vnd.jupyter.widget-view+json": {
       "model_id": "",
       "version_major": 2,
       "version_minor": 0
      },
      "text/plain": [
       "trainset:   0%|          | 0/6 [00:00<?, ?it/s]"
      ]
     },
     "metadata": {},
     "output_type": "display_data"
    },
    {
     "data": {
      "application/vnd.jupyter.widget-view+json": {
       "model_id": "",
       "version_major": 2,
       "version_minor": 0
      },
      "text/plain": [
       "validset:   0%|          | 0/3 [00:00<?, ?it/s]"
      ]
     },
     "metadata": {},
     "output_type": "display_data"
    },
    {
     "name": "stdout",
     "output_type": "stream",
     "text": [
      "epoch: 16\n",
      "train loss: 0.8434813320636749\n",
      "valid loss: 1.092007040977478\n",
      "valid accuracy: 0.4066666666666667\n",
      "——————————————————————————————————————————————\n"
     ]
    },
    {
     "data": {
      "application/vnd.jupyter.widget-view+json": {
       "model_id": "",
       "version_major": 2,
       "version_minor": 0
      },
      "text/plain": [
       "trainset:   0%|          | 0/6 [00:00<?, ?it/s]"
      ]
     },
     "metadata": {},
     "output_type": "display_data"
    },
    {
     "data": {
      "application/vnd.jupyter.widget-view+json": {
       "model_id": "",
       "version_major": 2,
       "version_minor": 0
      },
      "text/plain": [
       "validset:   0%|          | 0/3 [00:00<?, ?it/s]"
      ]
     },
     "metadata": {},
     "output_type": "display_data"
    },
    {
     "name": "stdout",
     "output_type": "stream",
     "text": [
      "early stop\n"
     ]
    }
   ],
   "source": [
    "train_lost_epoch=[]\n",
    "valid_lost_epoch=[]\n",
    "valid_accuracy_list=[]\n",
    "for epoch in tqdm(range(epochs),desc='epoch'):\n",
    "    model.train()\n",
    "    loss_list=[]\n",
    "    i=0\n",
    "    for batch in tqdm(train_dataloader,desc='trainset',leave=False):\n",
    "        model.zero_grad() \n",
    "        optimizer.zero_grad()\n",
    "        input_ids = batch['input_ids'].to(device)\n",
    "        token_type_ids = batch['token_type_ids'].to(device)\n",
    "        attention_mask = batch['attention_mask'].to(device)\n",
    "        target=torch.tensor(y_train[i:i+bat_size]).to(device)\n",
    "        i+=bat_size\n",
    "        outputs = model(input_ids, \n",
    "                            token_type_ids, \n",
    "                            attention_mask, \n",
    "                            labels=target)\n",
    "\n",
    "        loss = outputs.loss\n",
    "        logits = outputs.logits\n",
    "        loss.backward()\n",
    "        optimizer.step()\n",
    "        loss_list.append(loss.item())\n",
    "    train_lost_epoch.append(np.mean(loss_list))\n",
    "    model.eval()\n",
    "    loss_list=[]\n",
    "    i=0\n",
    "    num_correct=0\n",
    "    for batch in tqdm(valid_dataloader,desc='validset',leave=False):\n",
    "        with torch.no_grad():  \n",
    "            input_ids = batch['input_ids'].to(device)\n",
    "            token_type_ids = batch['token_type_ids'].to(device)\n",
    "            attention_mask = batch['attention_mask'].to(device)\n",
    "\n",
    "            target=torch.tensor(y_valid[i:i+bat_size]).to(device)\n",
    "            i+=bat_size\n",
    "            outputs = model(input_ids, \n",
    "                                token_type_ids, \n",
    "                                attention_mask, \n",
    "                                labels=target)\n",
    "            loss = outputs.loss\n",
    "            logits = outputs.logits\n",
    "            loss_list.append(loss.item())\n",
    "            pred_flat = np.argmax(logits.detach().cpu().numpy(), axis=1).flatten()\n",
    "            labels_flat = target.to('cpu').numpy().flatten()\n",
    "            num_correct += np.sum(pred_flat == labels_flat)\n",
    "    valid_accuracy=num_correct/len(y_valid)\n",
    "    if  epoch==0:\n",
    "        torch.save(model.state_dict(), \"my_model\")\n",
    "    else:\n",
    "        if  valid_accuracy>max(valid_accuracy_list):\n",
    "            torch.save(model.state_dict(), \"my_model\")\n",
    "    if epoch>=10:\n",
    "        if valid_accuracy<min(valid_accuracy_list[-10:-1]):\n",
    "            print(\"early stop\")\n",
    "            break\n",
    "    valid_accuracy_list.append(valid_accuracy)\n",
    "    valid_lost_epoch.append(np.mean(loss_list))\n",
    "    print(\"epoch: \"+str(epoch))\n",
    "    print(\"train loss: \"+str(train_lost_epoch[-1]))\n",
    "    print(\"valid loss: \"+str(valid_lost_epoch[-1]))\n",
    "    print(\"valid accuracy: \"+str(valid_accuracy))\n",
    "    print(\"——————————————————————————————————————————————\")\n"
   ]
  },
  {
   "cell_type": "code",
   "execution_count": 28,
   "id": "29a1a5a3",
   "metadata": {},
   "outputs": [
    {
     "name": "stdout",
     "output_type": "stream",
     "text": [
      "0.43333333333333335\n"
     ]
    }
   ],
   "source": [
    "print(max(valid_accuracy_list))"
   ]
  },
  {
   "cell_type": "markdown",
   "id": "b35ff974",
   "metadata": {},
   "source": [
    "## chatgpt baseline prompt"
   ]
  },
  {
   "cell_type": "code",
   "execution_count": 29,
   "id": "9fe9cac1",
   "metadata": {},
   "outputs": [],
   "source": [
    "import os\n",
    "import openai\n",
    "import time\n",
    "from auto_tqdm import tqdm\n",
    "def rephrase_by_chatgpt(text):\n",
    "    file1=open(\"api_key.txt\",'r')\n",
    "    api_key=file1.read()\n",
    "    openai.api_key=api_key\n",
    "    completion = openai.ChatCompletion.create(\n",
    "    model=\"gpt-3.5-turbo\",\n",
    "    messages=[{'role': 'user', 'content': \"Please rephrase the following sentence: \" +text}])\n",
    "    return completion.choices[0].message.content"
   ]
  },
  {
   "cell_type": "code",
   "execution_count": 30,
   "id": "56f6eab9",
   "metadata": {},
   "outputs": [],
   "source": [
    "# x_new=[]\n",
    "# y_new=[]\n",
    "# for i in tqdm(range(len(X_train_original))):\n",
    "#     count=0\n",
    "#     while(count!=1):\n",
    "#         try:\n",
    "#             ans=rephrase_by_chatgpt(X_train_original[i])\n",
    "#             x_new.append(ans)\n",
    "#             y_new.append(y_train_original[i])\n",
    "#             count=1  \n",
    "#         except:\n",
    "#             time.sleep(0.5)"
   ]
  },
  {
   "cell_type": "code",
   "execution_count": 31,
   "id": "6dbcddc3",
   "metadata": {},
   "outputs": [],
   "source": [
    "# base_dict={\"text\":x_new,\"label\":y_new}\n",
    "# new_df=pd.DataFrame.from_dict(base_dict)\n",
    "# new_df.to_csv(\"chatgpt_new_data_baseline\")\n",
    "new_df=pd.read_csv(\"chatgpt_new_data_baseline\")\n",
    "X_train_base=list(X_train_original)+list(new_df['text'])\n",
    "y_train_base=list(y_train_original)+list(new_df['label'])\n",
    "X_train=tokenizer(list(X_train_base),truncation=True, padding=True, max_length=64,return_tensors='pt')\n",
    "y_train=list(y_train_base)\n",
    "from torch.utils.data import DataLoader\n",
    "train_dataloader = DataLoader(MyData(X_train) , batch_size=bat_size,shuffle = False)"
   ]
  },
  {
   "cell_type": "code",
   "execution_count": 32,
   "id": "041eb5f2",
   "metadata": {},
   "outputs": [
    {
     "name": "stderr",
     "output_type": "stream",
     "text": [
      "Some weights of the model checkpoint at bert-base-uncased were not used when initializing BertForSequenceClassification: ['cls.seq_relationship.bias', 'cls.predictions.decoder.weight', 'cls.predictions.bias', 'cls.seq_relationship.weight', 'cls.predictions.transform.LayerNorm.weight', 'cls.predictions.transform.LayerNorm.bias', 'cls.predictions.transform.dense.bias', 'cls.predictions.transform.dense.weight']\n",
      "- This IS expected if you are initializing BertForSequenceClassification from the checkpoint of a model trained on another task or with another architecture (e.g. initializing a BertForSequenceClassification model from a BertForPreTraining model).\n",
      "- This IS NOT expected if you are initializing BertForSequenceClassification from the checkpoint of a model that you expect to be exactly identical (initializing a BertForSequenceClassification model from a BertForSequenceClassification model).\n",
      "Some weights of BertForSequenceClassification were not initialized from the model checkpoint at bert-base-uncased and are newly initialized: ['classifier.weight', 'classifier.bias']\n",
      "You should probably TRAIN this model on a down-stream task to be able to use it for predictions and inference.\n",
      "F:\\anaconda\\lib\\site-packages\\transformers\\optimization.py:391: FutureWarning: This implementation of AdamW is deprecated and will be removed in a future version. Use the PyTorch implementation torch.optim.AdamW instead, or set `no_deprecation_warning=True` to disable this warning\n",
      "  warnings.warn(\n"
     ]
    }
   ],
   "source": [
    "model_base = BertForSequenceClassification.from_pretrained(\n",
    "    \"bert-base-uncased\", \n",
    "    num_labels = 3,    \n",
    "    output_attentions = False, \n",
    "    output_hidden_states = False,\n",
    ")\n",
    "model_base.to(device)\n",
    "optimizer = AdamW(model_base.parameters(),\n",
    "                  lr = 1e-5, # args.learning_rate - default is 5e-5\n",
    "                  eps = 1e-8, # args.adam_epsilon  - default is 1e-8\n",
    "                  weight_decay=0.01,\n",
    "                  correct_bias=True\n",
    "                )\n",
    "epochs = 50"
   ]
  },
  {
   "cell_type": "code",
   "execution_count": 33,
   "id": "fea2b11c",
   "metadata": {
    "scrolled": true
   },
   "outputs": [
    {
     "data": {
      "application/vnd.jupyter.widget-view+json": {
       "model_id": "9ddfdf7d38f0452a882a498ebc590d4a",
       "version_major": 2,
       "version_minor": 0
      },
      "text/plain": [
       "epoch:   0%|                                                                                    | 0/50 [00:00<…"
      ]
     },
     "metadata": {},
     "output_type": "display_data"
    },
    {
     "data": {
      "application/vnd.jupyter.widget-view+json": {
       "model_id": "",
       "version_major": 2,
       "version_minor": 0
      },
      "text/plain": [
       "trainset:   0%|                                                                                 | 0/11 [00:00<…"
      ]
     },
     "metadata": {},
     "output_type": "display_data"
    },
    {
     "data": {
      "application/vnd.jupyter.widget-view+json": {
       "model_id": "",
       "version_major": 2,
       "version_minor": 0
      },
      "text/plain": [
       "validset:   0%|                                                                                  | 0/3 [00:00<…"
      ]
     },
     "metadata": {},
     "output_type": "display_data"
    },
    {
     "name": "stdout",
     "output_type": "stream",
     "text": [
      "epoch: 0\n",
      "train loss: 1.0968098640441895\n",
      "valid loss: 1.093601147333781\n",
      "valid accuracy: 0.41333333333333333\n",
      "——————————————————————————————————————————————\n"
     ]
    },
    {
     "data": {
      "application/vnd.jupyter.widget-view+json": {
       "model_id": "",
       "version_major": 2,
       "version_minor": 0
      },
      "text/plain": [
       "trainset:   0%|                                                                                 | 0/11 [00:00<…"
      ]
     },
     "metadata": {},
     "output_type": "display_data"
    },
    {
     "data": {
      "application/vnd.jupyter.widget-view+json": {
       "model_id": "",
       "version_major": 2,
       "version_minor": 0
      },
      "text/plain": [
       "validset:   0%|                                                                                  | 0/3 [00:00<…"
      ]
     },
     "metadata": {},
     "output_type": "display_data"
    },
    {
     "name": "stdout",
     "output_type": "stream",
     "text": [
      "epoch: 1\n",
      "train loss: 1.087471225044944\n",
      "valid loss: 1.0899881919225056\n",
      "valid accuracy: 0.41333333333333333\n",
      "——————————————————————————————————————————————\n"
     ]
    },
    {
     "data": {
      "application/vnd.jupyter.widget-view+json": {
       "model_id": "",
       "version_major": 2,
       "version_minor": 0
      },
      "text/plain": [
       "trainset:   0%|                                                                                 | 0/11 [00:00<…"
      ]
     },
     "metadata": {},
     "output_type": "display_data"
    },
    {
     "data": {
      "application/vnd.jupyter.widget-view+json": {
       "model_id": "",
       "version_major": 2,
       "version_minor": 0
      },
      "text/plain": [
       "validset:   0%|                                                                                  | 0/3 [00:00<…"
      ]
     },
     "metadata": {},
     "output_type": "display_data"
    },
    {
     "name": "stdout",
     "output_type": "stream",
     "text": [
      "epoch: 2\n",
      "train loss: 1.0815338113091209\n",
      "valid loss: 1.0903071959813435\n",
      "valid accuracy: 0.41333333333333333\n",
      "——————————————————————————————————————————————\n"
     ]
    },
    {
     "data": {
      "application/vnd.jupyter.widget-view+json": {
       "model_id": "",
       "version_major": 2,
       "version_minor": 0
      },
      "text/plain": [
       "trainset:   0%|                                                                                 | 0/11 [00:00<…"
      ]
     },
     "metadata": {},
     "output_type": "display_data"
    },
    {
     "data": {
      "application/vnd.jupyter.widget-view+json": {
       "model_id": "",
       "version_major": 2,
       "version_minor": 0
      },
      "text/plain": [
       "validset:   0%|                                                                                  | 0/3 [00:00<…"
      ]
     },
     "metadata": {},
     "output_type": "display_data"
    },
    {
     "name": "stdout",
     "output_type": "stream",
     "text": [
      "epoch: 3\n",
      "train loss: 1.0738182284615256\n",
      "valid loss: 1.0720933675765991\n",
      "valid accuracy: 0.41\n",
      "——————————————————————————————————————————————\n"
     ]
    },
    {
     "data": {
      "application/vnd.jupyter.widget-view+json": {
       "model_id": "",
       "version_major": 2,
       "version_minor": 0
      },
      "text/plain": [
       "trainset:   0%|                                                                                 | 0/11 [00:00<…"
      ]
     },
     "metadata": {},
     "output_type": "display_data"
    },
    {
     "data": {
      "application/vnd.jupyter.widget-view+json": {
       "model_id": "",
       "version_major": 2,
       "version_minor": 0
      },
      "text/plain": [
       "validset:   0%|                                                                                  | 0/3 [00:00<…"
      ]
     },
     "metadata": {},
     "output_type": "display_data"
    },
    {
     "name": "stdout",
     "output_type": "stream",
     "text": [
      "epoch: 4\n",
      "train loss: 1.0700176304036921\n",
      "valid loss: 1.0583487351735432\n",
      "valid accuracy: 0.43333333333333335\n",
      "——————————————————————————————————————————————\n"
     ]
    },
    {
     "data": {
      "application/vnd.jupyter.widget-view+json": {
       "model_id": "",
       "version_major": 2,
       "version_minor": 0
      },
      "text/plain": [
       "trainset:   0%|                                                                                 | 0/11 [00:00<…"
      ]
     },
     "metadata": {},
     "output_type": "display_data"
    },
    {
     "data": {
      "application/vnd.jupyter.widget-view+json": {
       "model_id": "",
       "version_major": 2,
       "version_minor": 0
      },
      "text/plain": [
       "validset:   0%|                                                                                  | 0/3 [00:00<…"
      ]
     },
     "metadata": {},
     "output_type": "display_data"
    },
    {
     "name": "stdout",
     "output_type": "stream",
     "text": [
      "epoch: 5\n",
      "train loss: 1.0503298044204712\n",
      "valid loss: 1.0564218362172444\n",
      "valid accuracy: 0.45\n",
      "——————————————————————————————————————————————\n"
     ]
    },
    {
     "data": {
      "application/vnd.jupyter.widget-view+json": {
       "model_id": "",
       "version_major": 2,
       "version_minor": 0
      },
      "text/plain": [
       "trainset:   0%|                                                                                 | 0/11 [00:00<…"
      ]
     },
     "metadata": {},
     "output_type": "display_data"
    },
    {
     "data": {
      "application/vnd.jupyter.widget-view+json": {
       "model_id": "",
       "version_major": 2,
       "version_minor": 0
      },
      "text/plain": [
       "validset:   0%|                                                                                  | 0/3 [00:00<…"
      ]
     },
     "metadata": {},
     "output_type": "display_data"
    },
    {
     "name": "stdout",
     "output_type": "stream",
     "text": [
      "epoch: 6\n",
      "train loss: 1.0245457887649536\n",
      "valid loss: 1.037093202273051\n",
      "valid accuracy: 0.4266666666666667\n",
      "——————————————————————————————————————————————\n"
     ]
    },
    {
     "data": {
      "application/vnd.jupyter.widget-view+json": {
       "model_id": "",
       "version_major": 2,
       "version_minor": 0
      },
      "text/plain": [
       "trainset:   0%|                                                                                 | 0/11 [00:00<…"
      ]
     },
     "metadata": {},
     "output_type": "display_data"
    },
    {
     "data": {
      "application/vnd.jupyter.widget-view+json": {
       "model_id": "",
       "version_major": 2,
       "version_minor": 0
      },
      "text/plain": [
       "validset:   0%|                                                                                  | 0/3 [00:00<…"
      ]
     },
     "metadata": {},
     "output_type": "display_data"
    },
    {
     "name": "stdout",
     "output_type": "stream",
     "text": [
      "epoch: 7\n",
      "train loss: 1.013304661620747\n",
      "valid loss: 1.0438206593195598\n",
      "valid accuracy: 0.44\n",
      "——————————————————————————————————————————————\n"
     ]
    },
    {
     "data": {
      "application/vnd.jupyter.widget-view+json": {
       "model_id": "",
       "version_major": 2,
       "version_minor": 0
      },
      "text/plain": [
       "trainset:   0%|                                                                                 | 0/11 [00:00<…"
      ]
     },
     "metadata": {},
     "output_type": "display_data"
    },
    {
     "data": {
      "application/vnd.jupyter.widget-view+json": {
       "model_id": "",
       "version_major": 2,
       "version_minor": 0
      },
      "text/plain": [
       "validset:   0%|                                                                                  | 0/3 [00:00<…"
      ]
     },
     "metadata": {},
     "output_type": "display_data"
    },
    {
     "name": "stdout",
     "output_type": "stream",
     "text": [
      "epoch: 8\n",
      "train loss: 1.003065672787753\n",
      "valid loss: 1.0813443660736084\n",
      "valid accuracy: 0.42\n",
      "——————————————————————————————————————————————\n"
     ]
    },
    {
     "data": {
      "application/vnd.jupyter.widget-view+json": {
       "model_id": "",
       "version_major": 2,
       "version_minor": 0
      },
      "text/plain": [
       "trainset:   0%|                                                                                 | 0/11 [00:00<…"
      ]
     },
     "metadata": {},
     "output_type": "display_data"
    },
    {
     "data": {
      "application/vnd.jupyter.widget-view+json": {
       "model_id": "",
       "version_major": 2,
       "version_minor": 0
      },
      "text/plain": [
       "validset:   0%|                                                                                  | 0/3 [00:00<…"
      ]
     },
     "metadata": {},
     "output_type": "display_data"
    },
    {
     "name": "stdout",
     "output_type": "stream",
     "text": [
      "epoch: 9\n",
      "train loss: 1.0007122917608782\n",
      "valid loss: 1.0664810339609783\n",
      "valid accuracy: 0.42333333333333334\n",
      "——————————————————————————————————————————————\n"
     ]
    },
    {
     "data": {
      "application/vnd.jupyter.widget-view+json": {
       "model_id": "",
       "version_major": 2,
       "version_minor": 0
      },
      "text/plain": [
       "trainset:   0%|                                                                                 | 0/11 [00:00<…"
      ]
     },
     "metadata": {},
     "output_type": "display_data"
    },
    {
     "data": {
      "application/vnd.jupyter.widget-view+json": {
       "model_id": "",
       "version_major": 2,
       "version_minor": 0
      },
      "text/plain": [
       "validset:   0%|                                                                                  | 0/3 [00:00<…"
      ]
     },
     "metadata": {},
     "output_type": "display_data"
    },
    {
     "name": "stdout",
     "output_type": "stream",
     "text": [
      "epoch: 10\n",
      "train loss: 0.9985879334536466\n",
      "valid loss: 1.1472738981246948\n",
      "valid accuracy: 0.4266666666666667\n",
      "——————————————————————————————————————————————\n"
     ]
    },
    {
     "data": {
      "application/vnd.jupyter.widget-view+json": {
       "model_id": "",
       "version_major": 2,
       "version_minor": 0
      },
      "text/plain": [
       "trainset:   0%|                                                                                 | 0/11 [00:00<…"
      ]
     },
     "metadata": {},
     "output_type": "display_data"
    },
    {
     "data": {
      "application/vnd.jupyter.widget-view+json": {
       "model_id": "",
       "version_major": 2,
       "version_minor": 0
      },
      "text/plain": [
       "validset:   0%|                                                                                  | 0/3 [00:00<…"
      ]
     },
     "metadata": {},
     "output_type": "display_data"
    },
    {
     "name": "stdout",
     "output_type": "stream",
     "text": [
      "epoch: 11\n",
      "train loss: 0.9601683454080061\n",
      "valid loss: 1.0791342655817668\n",
      "valid accuracy: 0.42\n",
      "——————————————————————————————————————————————\n"
     ]
    },
    {
     "data": {
      "application/vnd.jupyter.widget-view+json": {
       "model_id": "",
       "version_major": 2,
       "version_minor": 0
      },
      "text/plain": [
       "trainset:   0%|                                                                                 | 0/11 [00:00<…"
      ]
     },
     "metadata": {},
     "output_type": "display_data"
    },
    {
     "data": {
      "application/vnd.jupyter.widget-view+json": {
       "model_id": "",
       "version_major": 2,
       "version_minor": 0
      },
      "text/plain": [
       "validset:   0%|                                                                                  | 0/3 [00:00<…"
      ]
     },
     "metadata": {},
     "output_type": "display_data"
    },
    {
     "name": "stdout",
     "output_type": "stream",
     "text": [
      "epoch: 12\n",
      "train loss: 0.9400892528620634\n",
      "valid loss: 1.1134605407714844\n",
      "valid accuracy: 0.45666666666666667\n",
      "——————————————————————————————————————————————\n"
     ]
    },
    {
     "data": {
      "application/vnd.jupyter.widget-view+json": {
       "model_id": "",
       "version_major": 2,
       "version_minor": 0
      },
      "text/plain": [
       "trainset:   0%|                                                                                 | 0/11 [00:00<…"
      ]
     },
     "metadata": {},
     "output_type": "display_data"
    },
    {
     "data": {
      "application/vnd.jupyter.widget-view+json": {
       "model_id": "",
       "version_major": 2,
       "version_minor": 0
      },
      "text/plain": [
       "validset:   0%|                                                                                  | 0/3 [00:00<…"
      ]
     },
     "metadata": {},
     "output_type": "display_data"
    },
    {
     "name": "stdout",
     "output_type": "stream",
     "text": [
      "epoch: 13\n",
      "train loss: 0.9175687540661205\n",
      "valid loss: 1.1556417147318523\n",
      "valid accuracy: 0.4666666666666667\n",
      "——————————————————————————————————————————————\n"
     ]
    },
    {
     "data": {
      "application/vnd.jupyter.widget-view+json": {
       "model_id": "",
       "version_major": 2,
       "version_minor": 0
      },
      "text/plain": [
       "trainset:   0%|                                                                                 | 0/11 [00:00<…"
      ]
     },
     "metadata": {},
     "output_type": "display_data"
    },
    {
     "data": {
      "application/vnd.jupyter.widget-view+json": {
       "model_id": "",
       "version_major": 2,
       "version_minor": 0
      },
      "text/plain": [
       "validset:   0%|                                                                                  | 0/3 [00:00<…"
      ]
     },
     "metadata": {},
     "output_type": "display_data"
    },
    {
     "name": "stdout",
     "output_type": "stream",
     "text": [
      "epoch: 14\n",
      "train loss: 0.8870776729150252\n",
      "valid loss: 1.1692966222763062\n",
      "valid accuracy: 0.44\n",
      "——————————————————————————————————————————————\n"
     ]
    },
    {
     "data": {
      "application/vnd.jupyter.widget-view+json": {
       "model_id": "",
       "version_major": 2,
       "version_minor": 0
      },
      "text/plain": [
       "trainset:   0%|                                                                                 | 0/11 [00:00<…"
      ]
     },
     "metadata": {},
     "output_type": "display_data"
    },
    {
     "data": {
      "application/vnd.jupyter.widget-view+json": {
       "model_id": "",
       "version_major": 2,
       "version_minor": 0
      },
      "text/plain": [
       "validset:   0%|                                                                                  | 0/3 [00:00<…"
      ]
     },
     "metadata": {},
     "output_type": "display_data"
    },
    {
     "name": "stdout",
     "output_type": "stream",
     "text": [
      "epoch: 15\n",
      "train loss: 0.8447639346122742\n",
      "valid loss: 1.1336450576782227\n",
      "valid accuracy: 0.47333333333333333\n",
      "——————————————————————————————————————————————\n"
     ]
    },
    {
     "data": {
      "application/vnd.jupyter.widget-view+json": {
       "model_id": "",
       "version_major": 2,
       "version_minor": 0
      },
      "text/plain": [
       "trainset:   0%|                                                                                 | 0/11 [00:00<…"
      ]
     },
     "metadata": {},
     "output_type": "display_data"
    },
    {
     "data": {
      "application/vnd.jupyter.widget-view+json": {
       "model_id": "",
       "version_major": 2,
       "version_minor": 0
      },
      "text/plain": [
       "validset:   0%|                                                                                  | 0/3 [00:00<…"
      ]
     },
     "metadata": {},
     "output_type": "display_data"
    },
    {
     "name": "stdout",
     "output_type": "stream",
     "text": [
      "epoch: 16\n",
      "train loss: 0.833703339099884\n",
      "valid loss: 1.1759771903355916\n",
      "valid accuracy: 0.44\n",
      "——————————————————————————————————————————————\n"
     ]
    },
    {
     "data": {
      "application/vnd.jupyter.widget-view+json": {
       "model_id": "",
       "version_major": 2,
       "version_minor": 0
      },
      "text/plain": [
       "trainset:   0%|                                                                                 | 0/11 [00:00<…"
      ]
     },
     "metadata": {},
     "output_type": "display_data"
    },
    {
     "data": {
      "application/vnd.jupyter.widget-view+json": {
       "model_id": "",
       "version_major": 2,
       "version_minor": 0
      },
      "text/plain": [
       "validset:   0%|                                                                                  | 0/3 [00:00<…"
      ]
     },
     "metadata": {},
     "output_type": "display_data"
    },
    {
     "name": "stdout",
     "output_type": "stream",
     "text": [
      "epoch: 17\n",
      "train loss: 0.8364101865074851\n",
      "valid loss: 1.1187508503595989\n",
      "valid accuracy: 0.43333333333333335\n",
      "——————————————————————————————————————————————\n"
     ]
    },
    {
     "data": {
      "application/vnd.jupyter.widget-view+json": {
       "model_id": "",
       "version_major": 2,
       "version_minor": 0
      },
      "text/plain": [
       "trainset:   0%|                                                                                 | 0/11 [00:00<…"
      ]
     },
     "metadata": {},
     "output_type": "display_data"
    },
    {
     "data": {
      "application/vnd.jupyter.widget-view+json": {
       "model_id": "",
       "version_major": 2,
       "version_minor": 0
      },
      "text/plain": [
       "validset:   0%|                                                                                  | 0/3 [00:00<…"
      ]
     },
     "metadata": {},
     "output_type": "display_data"
    },
    {
     "name": "stdout",
     "output_type": "stream",
     "text": [
      "epoch: 18\n",
      "train loss: 0.8001985929229043\n",
      "valid loss: 1.1783377726872761\n",
      "valid accuracy: 0.43\n",
      "——————————————————————————————————————————————\n"
     ]
    },
    {
     "data": {
      "application/vnd.jupyter.widget-view+json": {
       "model_id": "",
       "version_major": 2,
       "version_minor": 0
      },
      "text/plain": [
       "trainset:   0%|                                                                                 | 0/11 [00:00<…"
      ]
     },
     "metadata": {},
     "output_type": "display_data"
    },
    {
     "data": {
      "application/vnd.jupyter.widget-view+json": {
       "model_id": "",
       "version_major": 2,
       "version_minor": 0
      },
      "text/plain": [
       "validset:   0%|                                                                                  | 0/3 [00:00<…"
      ]
     },
     "metadata": {},
     "output_type": "display_data"
    },
    {
     "name": "stdout",
     "output_type": "stream",
     "text": [
      "early stop\n"
     ]
    }
   ],
   "source": [
    "train_lost_epoch=[]\n",
    "valid_lost_epoch=[]\n",
    "valid_accuracy_list=[]\n",
    "for epoch in tqdm(range(epochs),desc='epoch'):\n",
    "    model_base.train()\n",
    "    loss_list=[]\n",
    "    i=0\n",
    "    for batch in tqdm(train_dataloader,desc='trainset',leave=False):\n",
    "        model_base.zero_grad() \n",
    "        optimizer.zero_grad()\n",
    "        input_ids = batch['input_ids'].to(device)\n",
    "        token_type_ids = batch['token_type_ids'].to(device)\n",
    "        attention_mask = batch['attention_mask'].to(device)\n",
    "        target=torch.tensor(y_train[i:i+bat_size]).to(device)\n",
    "        i+=bat_size\n",
    "        outputs = model_base(input_ids, \n",
    "                            token_type_ids, \n",
    "                            attention_mask, \n",
    "                            labels=target)\n",
    "\n",
    "        loss = outputs.loss\n",
    "        logits = outputs.logits\n",
    "        loss.backward()\n",
    "        optimizer.step()\n",
    "        loss_list.append(loss.item())\n",
    "    train_lost_epoch.append(np.mean(loss_list))\n",
    "    model_base.eval()\n",
    "    loss_list=[]\n",
    "    i=0\n",
    "    num_correct=0\n",
    "    for batch in tqdm(valid_dataloader,desc='validset',leave=False):\n",
    "        with torch.no_grad():  \n",
    "            input_ids = batch['input_ids'].to(device)\n",
    "            token_type_ids = batch['token_type_ids'].to(device)\n",
    "            attention_mask = batch['attention_mask'].to(device)\n",
    "\n",
    "            target=torch.tensor(y_valid[i:i+bat_size]).to(device)\n",
    "            i+=bat_size\n",
    "            outputs = model_base(input_ids, \n",
    "                                token_type_ids, \n",
    "                                attention_mask, \n",
    "                                labels=target)\n",
    "            loss = outputs.loss\n",
    "            logits = outputs.logits\n",
    "            loss_list.append(loss.item())\n",
    "            pred_flat = np.argmax(logits.detach().cpu().numpy(), axis=1).flatten()\n",
    "            labels_flat = target.to('cpu').numpy().flatten()\n",
    "            num_correct += np.sum(pred_flat == labels_flat)\n",
    "    valid_accuracy=num_correct/len(y_valid)\n",
    "    if  epoch==0:\n",
    "        torch.save(model_base.state_dict(), \"my_model_base\")\n",
    "    else:\n",
    "        if  valid_accuracy>max(valid_accuracy_list):\n",
    "            torch.save(model_base.state_dict(), \"my_model_base\")\n",
    "    if epoch>=10:\n",
    "        if valid_accuracy<min(valid_accuracy_list[-10:-1]):\n",
    "            print(\"early stop\")\n",
    "            break\n",
    "    valid_accuracy_list.append(valid_accuracy)\n",
    "    valid_lost_epoch.append(np.mean(loss_list))\n",
    "    print(\"epoch: \"+str(epoch))\n",
    "    print(\"train loss: \"+str(train_lost_epoch[-1]))\n",
    "    print(\"valid loss: \"+str(valid_lost_epoch[-1]))\n",
    "    print(\"valid accuracy: \"+str(valid_accuracy))\n",
    "    print(\"——————————————————————————————————————————————\")\n"
   ]
  },
  {
   "cell_type": "code",
   "execution_count": 34,
   "id": "a5b09a39",
   "metadata": {},
   "outputs": [
    {
     "name": "stdout",
     "output_type": "stream",
     "text": [
      "0.47333333333333333\n"
     ]
    }
   ],
   "source": [
    "print(max(valid_accuracy_list))"
   ]
  },
  {
   "cell_type": "markdown",
   "id": "822713d4",
   "metadata": {},
   "source": [
    "## chatgpt with downstream areaprompt"
   ]
  },
  {
   "cell_type": "code",
   "execution_count": 25,
   "id": "4d414b34",
   "metadata": {},
   "outputs": [],
   "source": [
    "import os\n",
    "import openai\n",
    "import time\n",
    "from auto_tqdm import tqdm\n",
    "def rephrase_by_chatgpt2(text,label):\n",
    "    file1=open(\"api_key.txt\",'r')\n",
    "    api_key=file1.read()\n",
    "    openai.api_key=api_key\n",
    "    if(label==0):\n",
    "        tone=\"negative\"\n",
    "    elif(label==1):\n",
    "        tone=\"positive\"\n",
    "    else:\n",
    "        tone=\"neutral\"\n",
    "    completion = openai.ChatCompletion.create(\n",
    "    model=\"gpt-3.5-turbo\",\n",
    "    messages=[{'role': 'user', 'content': \"Please rephrase \"+text+\" to be more \"+ tone}])\n",
    "    return completion.choices[0].message.content"
   ]
  },
  {
   "cell_type": "code",
   "execution_count": 26,
   "id": "2a0abd86",
   "metadata": {},
   "outputs": [
    {
     "data": {
      "text/plain": [
       "'That game was extremely painful.'"
      ]
     },
     "execution_count": 26,
     "metadata": {},
     "output_type": "execute_result"
    }
   ],
   "source": [
    "rephrase_by_chatgpt2(X_train_original[0],y_train_original[0])"
   ]
  },
  {
   "cell_type": "code",
   "execution_count": 27,
   "id": "98c2f301",
   "metadata": {},
   "outputs": [
    {
     "data": {
      "application/vnd.jupyter.widget-view+json": {
       "model_id": "",
       "version_major": 2,
       "version_minor": 0
      },
      "text/plain": [
       "  0%|                                                                                          | 0/700 [00:00<…"
      ]
     },
     "metadata": {},
     "output_type": "display_data"
    }
   ],
   "source": [
    "x_new=[]\n",
    "y_new=[]\n",
    "for i in tqdm(range(len(X_train_original))):\n",
    "    count=0\n",
    "    while(count!=1):\n",
    "        try:\n",
    "            ans=rephrase_by_chatgpt2(X_train_original[i],y_train_original[i])\n",
    "            x_new.append(ans)\n",
    "            y_new.append(y_train_original[i])\n",
    "            count=1  \n",
    "        except:\n",
    "            time.sleep(0.5)"
   ]
  },
  {
   "cell_type": "code",
   "execution_count": 28,
   "id": "5b7131bd",
   "metadata": {},
   "outputs": [],
   "source": [
    "base_dict={\"text\":x_new,\"label\":y_new}\n",
    "new_df=pd.DataFrame.from_dict(base_dict)\n",
    "new_df.to_csv(\"chatgpt_new_data_with_downstream_requirement\")\n",
    "new_df=pd.read_csv(\"chatgpt_new_data_with_downstream_requirement\")\n",
    "X_train_base=list(X_train_original)+list(new_df['text'])\n",
    "y_train_base=list(y_train_original)+list(new_df['label'])\n",
    "X_train=tokenizer(list(X_train_base),truncation=True, padding=True, max_length=64,return_tensors='pt')\n",
    "y_train=list(y_train_base)\n",
    "from torch.utils.data import DataLoader\n",
    "train_dataloader = DataLoader(MyData(X_train) , batch_size=bat_size,shuffle = False)"
   ]
  },
  {
   "cell_type": "code",
   "execution_count": 29,
   "id": "56c91847",
   "metadata": {},
   "outputs": [
    {
     "name": "stderr",
     "output_type": "stream",
     "text": [
      "Some weights of the model checkpoint at bert-base-uncased were not used when initializing BertForSequenceClassification: ['cls.predictions.bias', 'cls.predictions.transform.dense.weight', 'cls.predictions.transform.LayerNorm.weight', 'cls.predictions.decoder.weight', 'cls.seq_relationship.bias', 'cls.predictions.transform.dense.bias', 'cls.predictions.transform.LayerNorm.bias', 'cls.seq_relationship.weight']\n",
      "- This IS expected if you are initializing BertForSequenceClassification from the checkpoint of a model trained on another task or with another architecture (e.g. initializing a BertForSequenceClassification model from a BertForPreTraining model).\n",
      "- This IS NOT expected if you are initializing BertForSequenceClassification from the checkpoint of a model that you expect to be exactly identical (initializing a BertForSequenceClassification model from a BertForSequenceClassification model).\n",
      "Some weights of BertForSequenceClassification were not initialized from the model checkpoint at bert-base-uncased and are newly initialized: ['classifier.weight', 'classifier.bias']\n",
      "You should probably TRAIN this model on a down-stream task to be able to use it for predictions and inference.\n",
      "F:\\anaconda\\lib\\site-packages\\transformers\\optimization.py:391: FutureWarning: This implementation of AdamW is deprecated and will be removed in a future version. Use the PyTorch implementation torch.optim.AdamW instead, or set `no_deprecation_warning=True` to disable this warning\n",
      "  warnings.warn(\n"
     ]
    }
   ],
   "source": [
    "model= BertForSequenceClassification.from_pretrained(\n",
    "    \"bert-base-uncased\", \n",
    "    num_labels = 3,    \n",
    "    output_attentions = False, \n",
    "    output_hidden_states = False,\n",
    ")\n",
    "model.to(device)\n",
    "optimizer = AdamW(model.parameters(),\n",
    "                  lr = 1e-5, # args.learning_rate - default is 5e-5\n",
    "                  eps = 1e-8, # args.adam_epsilon  - default is 1e-8\n",
    "                  weight_decay=0.01,\n",
    "                  correct_bias=True\n",
    "                )\n",
    "epochs = 50"
   ]
  },
  {
   "cell_type": "code",
   "execution_count": 30,
   "id": "646d6566",
   "metadata": {
    "scrolled": true
   },
   "outputs": [
    {
     "data": {
      "application/vnd.jupyter.widget-view+json": {
       "model_id": "26b7385b0b5241daa1d214998b45500a",
       "version_major": 2,
       "version_minor": 0
      },
      "text/plain": [
       "epoch:   0%|                                                                                    | 0/50 [00:00<…"
      ]
     },
     "metadata": {},
     "output_type": "display_data"
    },
    {
     "data": {
      "application/vnd.jupyter.widget-view+json": {
       "model_id": "",
       "version_major": 2,
       "version_minor": 0
      },
      "text/plain": [
       "trainset:   0%|                                                                                 | 0/11 [00:00<…"
      ]
     },
     "metadata": {},
     "output_type": "display_data"
    },
    {
     "data": {
      "application/vnd.jupyter.widget-view+json": {
       "model_id": "",
       "version_major": 2,
       "version_minor": 0
      },
      "text/plain": [
       "validset:   0%|                                                                                  | 0/3 [00:00<…"
      ]
     },
     "metadata": {},
     "output_type": "display_data"
    },
    {
     "name": "stdout",
     "output_type": "stream",
     "text": [
      "epoch: 0\n",
      "train loss: 1.096484043381431\n",
      "valid loss: 1.0803799629211426\n",
      "valid accuracy: 0.41333333333333333\n",
      "——————————————————————————————————————————————\n"
     ]
    },
    {
     "data": {
      "application/vnd.jupyter.widget-view+json": {
       "model_id": "",
       "version_major": 2,
       "version_minor": 0
      },
      "text/plain": [
       "trainset:   0%|                                                                                 | 0/11 [00:00<…"
      ]
     },
     "metadata": {},
     "output_type": "display_data"
    },
    {
     "data": {
      "application/vnd.jupyter.widget-view+json": {
       "model_id": "",
       "version_major": 2,
       "version_minor": 0
      },
      "text/plain": [
       "validset:   0%|                                                                                  | 0/3 [00:00<…"
      ]
     },
     "metadata": {},
     "output_type": "display_data"
    },
    {
     "name": "stdout",
     "output_type": "stream",
     "text": [
      "epoch: 1\n",
      "train loss: 1.0780667933550747\n",
      "valid loss: 1.0766926606496174\n",
      "valid accuracy: 0.41333333333333333\n",
      "——————————————————————————————————————————————\n"
     ]
    },
    {
     "data": {
      "application/vnd.jupyter.widget-view+json": {
       "model_id": "",
       "version_major": 2,
       "version_minor": 0
      },
      "text/plain": [
       "trainset:   0%|                                                                                 | 0/11 [00:00<…"
      ]
     },
     "metadata": {},
     "output_type": "display_data"
    },
    {
     "data": {
      "application/vnd.jupyter.widget-view+json": {
       "model_id": "",
       "version_major": 2,
       "version_minor": 0
      },
      "text/plain": [
       "validset:   0%|                                                                                  | 0/3 [00:00<…"
      ]
     },
     "metadata": {},
     "output_type": "display_data"
    },
    {
     "name": "stdout",
     "output_type": "stream",
     "text": [
      "epoch: 2\n",
      "train loss: 1.0666082989085803\n",
      "valid loss: 1.0956425269444783\n",
      "valid accuracy: 0.41\n",
      "——————————————————————————————————————————————\n"
     ]
    },
    {
     "data": {
      "application/vnd.jupyter.widget-view+json": {
       "model_id": "",
       "version_major": 2,
       "version_minor": 0
      },
      "text/plain": [
       "trainset:   0%|                                                                                 | 0/11 [00:00<…"
      ]
     },
     "metadata": {},
     "output_type": "display_data"
    },
    {
     "data": {
      "application/vnd.jupyter.widget-view+json": {
       "model_id": "",
       "version_major": 2,
       "version_minor": 0
      },
      "text/plain": [
       "validset:   0%|                                                                                  | 0/3 [00:00<…"
      ]
     },
     "metadata": {},
     "output_type": "display_data"
    },
    {
     "name": "stdout",
     "output_type": "stream",
     "text": [
      "epoch: 3\n",
      "train loss: 1.0512500134381382\n",
      "valid loss: 1.0843498706817627\n",
      "valid accuracy: 0.4266666666666667\n",
      "——————————————————————————————————————————————\n"
     ]
    },
    {
     "data": {
      "application/vnd.jupyter.widget-view+json": {
       "model_id": "",
       "version_major": 2,
       "version_minor": 0
      },
      "text/plain": [
       "trainset:   0%|                                                                                 | 0/11 [00:00<…"
      ]
     },
     "metadata": {},
     "output_type": "display_data"
    },
    {
     "data": {
      "application/vnd.jupyter.widget-view+json": {
       "model_id": "",
       "version_major": 2,
       "version_minor": 0
      },
      "text/plain": [
       "validset:   0%|                                                                                  | 0/3 [00:00<…"
      ]
     },
     "metadata": {},
     "output_type": "display_data"
    },
    {
     "name": "stdout",
     "output_type": "stream",
     "text": [
      "epoch: 4\n",
      "train loss: 1.0299715508114209\n",
      "valid loss: 1.1113618612289429\n",
      "valid accuracy: 0.44333333333333336\n",
      "——————————————————————————————————————————————\n"
     ]
    },
    {
     "data": {
      "application/vnd.jupyter.widget-view+json": {
       "model_id": "",
       "version_major": 2,
       "version_minor": 0
      },
      "text/plain": [
       "trainset:   0%|                                                                                 | 0/11 [00:00<…"
      ]
     },
     "metadata": {},
     "output_type": "display_data"
    },
    {
     "data": {
      "application/vnd.jupyter.widget-view+json": {
       "model_id": "",
       "version_major": 2,
       "version_minor": 0
      },
      "text/plain": [
       "validset:   0%|                                                                                  | 0/3 [00:00<…"
      ]
     },
     "metadata": {},
     "output_type": "display_data"
    },
    {
     "name": "stdout",
     "output_type": "stream",
     "text": [
      "epoch: 5\n",
      "train loss: 1.0254239602522417\n",
      "valid loss: 1.0831032991409302\n",
      "valid accuracy: 0.47\n",
      "——————————————————————————————————————————————\n"
     ]
    },
    {
     "data": {
      "application/vnd.jupyter.widget-view+json": {
       "model_id": "",
       "version_major": 2,
       "version_minor": 0
      },
      "text/plain": [
       "trainset:   0%|                                                                                 | 0/11 [00:00<…"
      ]
     },
     "metadata": {},
     "output_type": "display_data"
    },
    {
     "data": {
      "application/vnd.jupyter.widget-view+json": {
       "model_id": "",
       "version_major": 2,
       "version_minor": 0
      },
      "text/plain": [
       "validset:   0%|                                                                                  | 0/3 [00:00<…"
      ]
     },
     "metadata": {},
     "output_type": "display_data"
    },
    {
     "name": "stdout",
     "output_type": "stream",
     "text": [
      "epoch: 6\n",
      "train loss: 1.003929230299863\n",
      "valid loss: 1.031114439169566\n",
      "valid accuracy: 0.48333333333333334\n",
      "——————————————————————————————————————————————\n"
     ]
    },
    {
     "data": {
      "application/vnd.jupyter.widget-view+json": {
       "model_id": "",
       "version_major": 2,
       "version_minor": 0
      },
      "text/plain": [
       "trainset:   0%|                                                                                 | 0/11 [00:00<…"
      ]
     },
     "metadata": {},
     "output_type": "display_data"
    },
    {
     "data": {
      "application/vnd.jupyter.widget-view+json": {
       "model_id": "",
       "version_major": 2,
       "version_minor": 0
      },
      "text/plain": [
       "validset:   0%|                                                                                  | 0/3 [00:00<…"
      ]
     },
     "metadata": {},
     "output_type": "display_data"
    },
    {
     "name": "stdout",
     "output_type": "stream",
     "text": [
      "epoch: 7\n",
      "train loss: 0.9550790244882758\n",
      "valid loss: 1.0505977272987366\n",
      "valid accuracy: 0.47333333333333333\n",
      "——————————————————————————————————————————————\n"
     ]
    },
    {
     "data": {
      "application/vnd.jupyter.widget-view+json": {
       "model_id": "",
       "version_major": 2,
       "version_minor": 0
      },
      "text/plain": [
       "trainset:   0%|                                                                                 | 0/11 [00:00<…"
      ]
     },
     "metadata": {},
     "output_type": "display_data"
    },
    {
     "data": {
      "application/vnd.jupyter.widget-view+json": {
       "model_id": "",
       "version_major": 2,
       "version_minor": 0
      },
      "text/plain": [
       "validset:   0%|                                                                                  | 0/3 [00:00<…"
      ]
     },
     "metadata": {},
     "output_type": "display_data"
    },
    {
     "name": "stdout",
     "output_type": "stream",
     "text": [
      "epoch: 8\n",
      "train loss: 0.8897648670456626\n",
      "valid loss: 1.1568901141484578\n",
      "valid accuracy: 0.4666666666666667\n",
      "——————————————————————————————————————————————\n"
     ]
    },
    {
     "data": {
      "application/vnd.jupyter.widget-view+json": {
       "model_id": "",
       "version_major": 2,
       "version_minor": 0
      },
      "text/plain": [
       "trainset:   0%|                                                                                 | 0/11 [00:00<…"
      ]
     },
     "metadata": {},
     "output_type": "display_data"
    },
    {
     "data": {
      "application/vnd.jupyter.widget-view+json": {
       "model_id": "",
       "version_major": 2,
       "version_minor": 0
      },
      "text/plain": [
       "validset:   0%|                                                                                  | 0/3 [00:00<…"
      ]
     },
     "metadata": {},
     "output_type": "display_data"
    },
    {
     "name": "stdout",
     "output_type": "stream",
     "text": [
      "epoch: 9\n",
      "train loss: 0.8730945316227999\n",
      "valid loss: 1.077915906906128\n",
      "valid accuracy: 0.44\n",
      "——————————————————————————————————————————————\n"
     ]
    },
    {
     "data": {
      "application/vnd.jupyter.widget-view+json": {
       "model_id": "",
       "version_major": 2,
       "version_minor": 0
      },
      "text/plain": [
       "trainset:   0%|                                                                                 | 0/11 [00:00<…"
      ]
     },
     "metadata": {},
     "output_type": "display_data"
    },
    {
     "data": {
      "application/vnd.jupyter.widget-view+json": {
       "model_id": "",
       "version_major": 2,
       "version_minor": 0
      },
      "text/plain": [
       "validset:   0%|                                                                                  | 0/3 [00:00<…"
      ]
     },
     "metadata": {},
     "output_type": "display_data"
    },
    {
     "name": "stdout",
     "output_type": "stream",
     "text": [
      "epoch: 10\n",
      "train loss: 0.8560903505845503\n",
      "valid loss: 1.171317418416341\n",
      "valid accuracy: 0.46\n",
      "——————————————————————————————————————————————\n"
     ]
    },
    {
     "data": {
      "application/vnd.jupyter.widget-view+json": {
       "model_id": "",
       "version_major": 2,
       "version_minor": 0
      },
      "text/plain": [
       "trainset:   0%|                                                                                 | 0/11 [00:00<…"
      ]
     },
     "metadata": {},
     "output_type": "display_data"
    },
    {
     "data": {
      "application/vnd.jupyter.widget-view+json": {
       "model_id": "",
       "version_major": 2,
       "version_minor": 0
      },
      "text/plain": [
       "validset:   0%|                                                                                  | 0/3 [00:00<…"
      ]
     },
     "metadata": {},
     "output_type": "display_data"
    },
    {
     "name": "stdout",
     "output_type": "stream",
     "text": [
      "epoch: 11\n",
      "train loss: 0.8634530847722833\n",
      "valid loss: 1.0332612593968709\n",
      "valid accuracy: 0.47333333333333333\n",
      "——————————————————————————————————————————————\n"
     ]
    },
    {
     "data": {
      "application/vnd.jupyter.widget-view+json": {
       "model_id": "",
       "version_major": 2,
       "version_minor": 0
      },
      "text/plain": [
       "trainset:   0%|                                                                                 | 0/11 [00:00<…"
      ]
     },
     "metadata": {},
     "output_type": "display_data"
    },
    {
     "data": {
      "application/vnd.jupyter.widget-view+json": {
       "model_id": "",
       "version_major": 2,
       "version_minor": 0
      },
      "text/plain": [
       "validset:   0%|                                                                                  | 0/3 [00:00<…"
      ]
     },
     "metadata": {},
     "output_type": "display_data"
    },
    {
     "name": "stdout",
     "output_type": "stream",
     "text": [
      "epoch: 12\n",
      "train loss: 0.9036238518628207\n",
      "valid loss: 1.1451561053593953\n",
      "valid accuracy: 0.46\n",
      "——————————————————————————————————————————————\n"
     ]
    },
    {
     "data": {
      "application/vnd.jupyter.widget-view+json": {
       "model_id": "",
       "version_major": 2,
       "version_minor": 0
      },
      "text/plain": [
       "trainset:   0%|                                                                                 | 0/11 [00:00<…"
      ]
     },
     "metadata": {},
     "output_type": "display_data"
    },
    {
     "data": {
      "application/vnd.jupyter.widget-view+json": {
       "model_id": "",
       "version_major": 2,
       "version_minor": 0
      },
      "text/plain": [
       "validset:   0%|                                                                                  | 0/3 [00:00<…"
      ]
     },
     "metadata": {},
     "output_type": "display_data"
    },
    {
     "name": "stdout",
     "output_type": "stream",
     "text": [
      "epoch: 13\n",
      "train loss: 0.7952304699204185\n",
      "valid loss: 1.1592244307200115\n",
      "valid accuracy: 0.48\n",
      "——————————————————————————————————————————————\n"
     ]
    },
    {
     "data": {
      "application/vnd.jupyter.widget-view+json": {
       "model_id": "",
       "version_major": 2,
       "version_minor": 0
      },
      "text/plain": [
       "trainset:   0%|                                                                                 | 0/11 [00:00<…"
      ]
     },
     "metadata": {},
     "output_type": "display_data"
    },
    {
     "data": {
      "application/vnd.jupyter.widget-view+json": {
       "model_id": "",
       "version_major": 2,
       "version_minor": 0
      },
      "text/plain": [
       "validset:   0%|                                                                                  | 0/3 [00:00<…"
      ]
     },
     "metadata": {},
     "output_type": "display_data"
    },
    {
     "name": "stdout",
     "output_type": "stream",
     "text": [
      "epoch: 14\n",
      "train loss: 0.8022091876376759\n",
      "valid loss: 1.0715364217758179\n",
      "valid accuracy: 0.5\n",
      "——————————————————————————————————————————————\n"
     ]
    },
    {
     "data": {
      "application/vnd.jupyter.widget-view+json": {
       "model_id": "",
       "version_major": 2,
       "version_minor": 0
      },
      "text/plain": [
       "trainset:   0%|                                                                                 | 0/11 [00:00<…"
      ]
     },
     "metadata": {},
     "output_type": "display_data"
    },
    {
     "data": {
      "application/vnd.jupyter.widget-view+json": {
       "model_id": "",
       "version_major": 2,
       "version_minor": 0
      },
      "text/plain": [
       "validset:   0%|                                                                                  | 0/3 [00:00<…"
      ]
     },
     "metadata": {},
     "output_type": "display_data"
    },
    {
     "name": "stdout",
     "output_type": "stream",
     "text": [
      "epoch: 15\n",
      "train loss: 0.7577646645632657\n",
      "valid loss: 1.1738255818684895\n",
      "valid accuracy: 0.47333333333333333\n",
      "——————————————————————————————————————————————\n"
     ]
    },
    {
     "data": {
      "application/vnd.jupyter.widget-view+json": {
       "model_id": "",
       "version_major": 2,
       "version_minor": 0
      },
      "text/plain": [
       "trainset:   0%|                                                                                 | 0/11 [00:00<…"
      ]
     },
     "metadata": {},
     "output_type": "display_data"
    },
    {
     "data": {
      "application/vnd.jupyter.widget-view+json": {
       "model_id": "",
       "version_major": 2,
       "version_minor": 0
      },
      "text/plain": [
       "validset:   0%|                                                                                  | 0/3 [00:00<…"
      ]
     },
     "metadata": {},
     "output_type": "display_data"
    },
    {
     "name": "stdout",
     "output_type": "stream",
     "text": [
      "epoch: 16\n",
      "train loss: 0.762705846266313\n",
      "valid loss: 1.1683981815973918\n",
      "valid accuracy: 0.46\n",
      "——————————————————————————————————————————————\n"
     ]
    },
    {
     "data": {
      "application/vnd.jupyter.widget-view+json": {
       "model_id": "",
       "version_major": 2,
       "version_minor": 0
      },
      "text/plain": [
       "trainset:   0%|                                                                                 | 0/11 [00:00<…"
      ]
     },
     "metadata": {},
     "output_type": "display_data"
    },
    {
     "data": {
      "application/vnd.jupyter.widget-view+json": {
       "model_id": "",
       "version_major": 2,
       "version_minor": 0
      },
      "text/plain": [
       "validset:   0%|                                                                                  | 0/3 [00:00<…"
      ]
     },
     "metadata": {},
     "output_type": "display_data"
    },
    {
     "name": "stdout",
     "output_type": "stream",
     "text": [
      "epoch: 17\n",
      "train loss: 0.7419155131686818\n",
      "valid loss: 1.1657051642735798\n",
      "valid accuracy: 0.47333333333333333\n",
      "——————————————————————————————————————————————\n"
     ]
    },
    {
     "data": {
      "application/vnd.jupyter.widget-view+json": {
       "model_id": "",
       "version_major": 2,
       "version_minor": 0
      },
      "text/plain": [
       "trainset:   0%|                                                                                 | 0/11 [00:00<…"
      ]
     },
     "metadata": {},
     "output_type": "display_data"
    },
    {
     "data": {
      "application/vnd.jupyter.widget-view+json": {
       "model_id": "",
       "version_major": 2,
       "version_minor": 0
      },
      "text/plain": [
       "validset:   0%|                                                                                  | 0/3 [00:00<…"
      ]
     },
     "metadata": {},
     "output_type": "display_data"
    },
    {
     "name": "stdout",
     "output_type": "stream",
     "text": [
      "epoch: 18\n",
      "train loss: 0.7119873789223757\n",
      "valid loss: 1.3254625002543132\n",
      "valid accuracy: 0.46\n",
      "——————————————————————————————————————————————\n"
     ]
    },
    {
     "data": {
      "application/vnd.jupyter.widget-view+json": {
       "model_id": "",
       "version_major": 2,
       "version_minor": 0
      },
      "text/plain": [
       "trainset:   0%|                                                                                 | 0/11 [00:00<…"
      ]
     },
     "metadata": {},
     "output_type": "display_data"
    },
    {
     "data": {
      "application/vnd.jupyter.widget-view+json": {
       "model_id": "",
       "version_major": 2,
       "version_minor": 0
      },
      "text/plain": [
       "validset:   0%|                                                                                  | 0/3 [00:00<…"
      ]
     },
     "metadata": {},
     "output_type": "display_data"
    },
    {
     "name": "stdout",
     "output_type": "stream",
     "text": [
      "epoch: 19\n",
      "train loss: 0.6861298761584542\n",
      "valid loss: 1.2480491002400715\n",
      "valid accuracy: 0.45\n",
      "——————————————————————————————————————————————\n"
     ]
    },
    {
     "data": {
      "application/vnd.jupyter.widget-view+json": {
       "model_id": "",
       "version_major": 2,
       "version_minor": 0
      },
      "text/plain": [
       "trainset:   0%|                                                                                 | 0/11 [00:00<…"
      ]
     },
     "metadata": {},
     "output_type": "display_data"
    },
    {
     "data": {
      "application/vnd.jupyter.widget-view+json": {
       "model_id": "",
       "version_major": 2,
       "version_minor": 0
      },
      "text/plain": [
       "validset:   0%|                                                                                  | 0/3 [00:00<…"
      ]
     },
     "metadata": {},
     "output_type": "display_data"
    },
    {
     "name": "stdout",
     "output_type": "stream",
     "text": [
      "early stop\n"
     ]
    }
   ],
   "source": [
    "train_lost_epoch=[]\n",
    "valid_lost_epoch=[]\n",
    "valid_accuracy_list=[]\n",
    "for epoch in tqdm(range(epochs),desc='epoch'):\n",
    "    model.train()\n",
    "    loss_list=[]\n",
    "    i=0\n",
    "    for batch in tqdm(train_dataloader,desc='trainset',leave=False):\n",
    "        model.zero_grad() \n",
    "        optimizer.zero_grad()\n",
    "        input_ids = batch['input_ids'].to(device)\n",
    "        token_type_ids = batch['token_type_ids'].to(device)\n",
    "        attention_mask = batch['attention_mask'].to(device)\n",
    "        target=torch.tensor(y_train[i:i+bat_size]).to(device)\n",
    "        i+=bat_size\n",
    "        outputs = model(input_ids, \n",
    "                            token_type_ids, \n",
    "                            attention_mask, \n",
    "                            labels=target)\n",
    "\n",
    "        loss = outputs.loss\n",
    "        logits = outputs.logits\n",
    "        loss.backward()\n",
    "        optimizer.step()\n",
    "        loss_list.append(loss.item())\n",
    "    train_lost_epoch.append(np.mean(loss_list))\n",
    "    model.eval()\n",
    "    loss_list=[]\n",
    "    i=0\n",
    "    num_correct=0\n",
    "    for batch in tqdm(valid_dataloader,desc='validset',leave=False):\n",
    "        with torch.no_grad():  \n",
    "            input_ids = batch['input_ids'].to(device)\n",
    "            token_type_ids = batch['token_type_ids'].to(device)\n",
    "            attention_mask = batch['attention_mask'].to(device)\n",
    "\n",
    "            target=torch.tensor(y_valid[i:i+bat_size]).to(device)\n",
    "            i+=bat_size\n",
    "            outputs = model(input_ids, \n",
    "                                token_type_ids, \n",
    "                                attention_mask, \n",
    "                                labels=target)\n",
    "            loss = outputs.loss\n",
    "            logits = outputs.logits\n",
    "            loss_list.append(loss.item())\n",
    "            pred_flat = np.argmax(logits.detach().cpu().numpy(), axis=1).flatten()\n",
    "            labels_flat = target.to('cpu').numpy().flatten()\n",
    "            num_correct += np.sum(pred_flat == labels_flat)\n",
    "    valid_accuracy=num_correct/len(y_valid)\n",
    "    if  epoch==0:\n",
    "        torch.save(model.state_dict(), \"my_model_re\")\n",
    "    else:\n",
    "        if  valid_accuracy>max(valid_accuracy_list):\n",
    "            torch.save(model.state_dict(), \"my_model_re\")\n",
    "    if epoch>=10:\n",
    "        if valid_accuracy<min(valid_accuracy_list[-10:-1]):\n",
    "            print(\"early stop\")\n",
    "            break\n",
    "    valid_accuracy_list.append(valid_accuracy)\n",
    "    valid_lost_epoch.append(np.mean(loss_list))\n",
    "    print(\"epoch: \"+str(epoch))\n",
    "    print(\"train loss: \"+str(train_lost_epoch[-1]))\n",
    "    print(\"valid loss: \"+str(valid_lost_epoch[-1]))\n",
    "    print(\"valid accuracy: \"+str(valid_accuracy))\n",
    "    print(\"——————————————————————————————————————————————\")\n"
   ]
  },
  {
   "cell_type": "code",
   "execution_count": 31,
   "id": "7bed5049",
   "metadata": {},
   "outputs": [
    {
     "name": "stdout",
     "output_type": "stream",
     "text": [
      "0.5\n"
     ]
    }
   ],
   "source": [
    "print(max(valid_accuracy_list))"
   ]
  },
  {
   "cell_type": "markdown",
   "id": "8b4431ce",
   "metadata": {},
   "source": [
    "### chatgpt with downstream knowledge trial 2"
   ]
  },
  {
   "cell_type": "code",
   "execution_count": 42,
   "id": "7e12bd58",
   "metadata": {},
   "outputs": [],
   "source": [
    "import os\n",
    "import openai\n",
    "import time\n",
    "from auto_tqdm import tqdm\n",
    "def rephrase_by_chatgpt3(text):\n",
    "    file1=open(\"api_key.txt\",'r')\n",
    "    api_key=file1.read()\n",
    "    openai.api_key=api_key\n",
    "    completion = openai.ChatCompletion.create(\n",
    "    model=\"gpt-3.5-turbo\",\n",
    "    messages=[{'role': 'user', 'content': \"Please rephrase the following sentences for  emotion classification: \" +text}])\n",
    "    return completion.choices[0].message.content"
   ]
  },
  {
   "cell_type": "code",
   "execution_count": 43,
   "id": "d8de2583",
   "metadata": {},
   "outputs": [
    {
     "data": {
      "text/plain": [
       "'That game was painful.'"
      ]
     },
     "execution_count": 43,
     "metadata": {},
     "output_type": "execute_result"
    }
   ],
   "source": [
    "rephrase_by_chatgpt3(X_train_original[0])"
   ]
  },
  {
   "cell_type": "code",
   "execution_count": 44,
   "id": "857e77cb",
   "metadata": {},
   "outputs": [],
   "source": [
    "# x_new=[]\n",
    "# y_new=[]\n",
    "# for i in tqdm(range(len(X_train_original))):\n",
    "#     count=0\n",
    "#     while(count!=1):\n",
    "#         try:\n",
    "#             ans=rephrase_by_chatgpt3(X_train_original[i])\n",
    "#             x_new.append(ans)\n",
    "#             y_new.append(y_train_original[i])\n",
    "#             count=1  \n",
    "#         except:\n",
    "#             time.sleep(0.5)"
   ]
  },
  {
   "cell_type": "code",
   "execution_count": 45,
   "id": "70a9d7a8",
   "metadata": {},
   "outputs": [],
   "source": [
    "# base_dict={\"text\":x_new,\"label\":y_new}\n",
    "# new_df=pd.DataFrame.from_dict(base_dict)\n",
    "# new_df.to_csv(\"chatgpt_new_data_with_downstream_trial2\")\n",
    "new_df=pd.read_csv(\"chatgpt_new_data_with_downstream_trial2\")\n",
    "X_train_base=list(X_train_original)+list(new_df['text'])\n",
    "y_train_base=list(y_train_original)+list(new_df['label'])\n",
    "X_train=tokenizer(list(X_train_base),truncation=True, padding=True, max_length=64,return_tensors='pt')\n",
    "y_train=list(y_train_base)\n",
    "from torch.utils.data import DataLoader\n",
    "train_dataloader = DataLoader(MyData(X_train) , batch_size=bat_size,shuffle = False)"
   ]
  },
  {
   "cell_type": "code",
   "execution_count": 46,
   "id": "4ff63744",
   "metadata": {},
   "outputs": [
    {
     "name": "stderr",
     "output_type": "stream",
     "text": [
      "Some weights of the model checkpoint at bert-base-uncased were not used when initializing BertForSequenceClassification: ['cls.seq_relationship.bias', 'cls.predictions.decoder.weight', 'cls.predictions.bias', 'cls.seq_relationship.weight', 'cls.predictions.transform.LayerNorm.weight', 'cls.predictions.transform.LayerNorm.bias', 'cls.predictions.transform.dense.bias', 'cls.predictions.transform.dense.weight']\n",
      "- This IS expected if you are initializing BertForSequenceClassification from the checkpoint of a model trained on another task or with another architecture (e.g. initializing a BertForSequenceClassification model from a BertForPreTraining model).\n",
      "- This IS NOT expected if you are initializing BertForSequenceClassification from the checkpoint of a model that you expect to be exactly identical (initializing a BertForSequenceClassification model from a BertForSequenceClassification model).\n",
      "Some weights of BertForSequenceClassification were not initialized from the model checkpoint at bert-base-uncased and are newly initialized: ['classifier.weight', 'classifier.bias']\n",
      "You should probably TRAIN this model on a down-stream task to be able to use it for predictions and inference.\n",
      "F:\\anaconda\\lib\\site-packages\\transformers\\optimization.py:391: FutureWarning: This implementation of AdamW is deprecated and will be removed in a future version. Use the PyTorch implementation torch.optim.AdamW instead, or set `no_deprecation_warning=True` to disable this warning\n",
      "  warnings.warn(\n"
     ]
    }
   ],
   "source": [
    "model= BertForSequenceClassification.from_pretrained(\n",
    "    \"bert-base-uncased\", \n",
    "    num_labels = 3,    \n",
    "    output_attentions = False, \n",
    "    output_hidden_states = False,\n",
    ")\n",
    "model.to(device)\n",
    "optimizer = AdamW(model.parameters(),\n",
    "                  lr = 1e-5, # args.learning_rate - default is 5e-5\n",
    "                  eps = 1e-8, # args.adam_epsilon  - default is 1e-8\n",
    "                  weight_decay=0.01,\n",
    "                  correct_bias=True\n",
    "                )\n",
    "epochs = 50"
   ]
  },
  {
   "cell_type": "code",
   "execution_count": 47,
   "id": "1d9ce7be",
   "metadata": {
    "scrolled": true
   },
   "outputs": [
    {
     "data": {
      "application/vnd.jupyter.widget-view+json": {
       "model_id": "a9227769af2545668004473acd2eceeb",
       "version_major": 2,
       "version_minor": 0
      },
      "text/plain": [
       "epoch:   0%|                                                                                    | 0/50 [00:00<…"
      ]
     },
     "metadata": {},
     "output_type": "display_data"
    },
    {
     "data": {
      "application/vnd.jupyter.widget-view+json": {
       "model_id": "",
       "version_major": 2,
       "version_minor": 0
      },
      "text/plain": [
       "trainset:   0%|                                                                                 | 0/11 [00:00<…"
      ]
     },
     "metadata": {},
     "output_type": "display_data"
    },
    {
     "data": {
      "application/vnd.jupyter.widget-view+json": {
       "model_id": "",
       "version_major": 2,
       "version_minor": 0
      },
      "text/plain": [
       "validset:   0%|                                                                                  | 0/3 [00:00<…"
      ]
     },
     "metadata": {},
     "output_type": "display_data"
    },
    {
     "name": "stdout",
     "output_type": "stream",
     "text": [
      "epoch: 0\n",
      "train loss: 1.10010196945884\n",
      "valid loss: 1.0793220202128093\n",
      "valid accuracy: 0.42\n",
      "——————————————————————————————————————————————\n"
     ]
    },
    {
     "data": {
      "application/vnd.jupyter.widget-view+json": {
       "model_id": "",
       "version_major": 2,
       "version_minor": 0
      },
      "text/plain": [
       "trainset:   0%|                                                                                 | 0/11 [00:00<…"
      ]
     },
     "metadata": {},
     "output_type": "display_data"
    },
    {
     "data": {
      "application/vnd.jupyter.widget-view+json": {
       "model_id": "",
       "version_major": 2,
       "version_minor": 0
      },
      "text/plain": [
       "validset:   0%|                                                                                  | 0/3 [00:00<…"
      ]
     },
     "metadata": {},
     "output_type": "display_data"
    },
    {
     "name": "stdout",
     "output_type": "stream",
     "text": [
      "epoch: 1\n",
      "train loss: 1.0886950817975132\n",
      "valid loss: 1.0794386466344197\n",
      "valid accuracy: 0.42333333333333334\n",
      "——————————————————————————————————————————————\n"
     ]
    },
    {
     "data": {
      "application/vnd.jupyter.widget-view+json": {
       "model_id": "",
       "version_major": 2,
       "version_minor": 0
      },
      "text/plain": [
       "trainset:   0%|                                                                                 | 0/11 [00:00<…"
      ]
     },
     "metadata": {},
     "output_type": "display_data"
    },
    {
     "data": {
      "application/vnd.jupyter.widget-view+json": {
       "model_id": "",
       "version_major": 2,
       "version_minor": 0
      },
      "text/plain": [
       "validset:   0%|                                                                                  | 0/3 [00:00<…"
      ]
     },
     "metadata": {},
     "output_type": "display_data"
    },
    {
     "name": "stdout",
     "output_type": "stream",
     "text": [
      "epoch: 2\n",
      "train loss: 1.0866853323849766\n",
      "valid loss: 1.0795159339904785\n",
      "valid accuracy: 0.42\n",
      "——————————————————————————————————————————————\n"
     ]
    },
    {
     "data": {
      "application/vnd.jupyter.widget-view+json": {
       "model_id": "",
       "version_major": 2,
       "version_minor": 0
      },
      "text/plain": [
       "trainset:   0%|                                                                                 | 0/11 [00:00<…"
      ]
     },
     "metadata": {},
     "output_type": "display_data"
    },
    {
     "data": {
      "application/vnd.jupyter.widget-view+json": {
       "model_id": "",
       "version_major": 2,
       "version_minor": 0
      },
      "text/plain": [
       "validset:   0%|                                                                                  | 0/3 [00:00<…"
      ]
     },
     "metadata": {},
     "output_type": "display_data"
    },
    {
     "name": "stdout",
     "output_type": "stream",
     "text": [
      "epoch: 3\n",
      "train loss: 1.0816205739974976\n",
      "valid loss: 1.0662476221720378\n",
      "valid accuracy: 0.41333333333333333\n",
      "——————————————————————————————————————————————\n"
     ]
    },
    {
     "data": {
      "application/vnd.jupyter.widget-view+json": {
       "model_id": "",
       "version_major": 2,
       "version_minor": 0
      },
      "text/plain": [
       "trainset:   0%|                                                                                 | 0/11 [00:00<…"
      ]
     },
     "metadata": {},
     "output_type": "display_data"
    },
    {
     "data": {
      "application/vnd.jupyter.widget-view+json": {
       "model_id": "",
       "version_major": 2,
       "version_minor": 0
      },
      "text/plain": [
       "validset:   0%|                                                                                  | 0/3 [00:00<…"
      ]
     },
     "metadata": {},
     "output_type": "display_data"
    },
    {
     "name": "stdout",
     "output_type": "stream",
     "text": [
      "epoch: 4\n",
      "train loss: 1.0784726467999546\n",
      "valid loss: 1.0815111796061199\n",
      "valid accuracy: 0.43\n",
      "——————————————————————————————————————————————\n"
     ]
    },
    {
     "data": {
      "application/vnd.jupyter.widget-view+json": {
       "model_id": "",
       "version_major": 2,
       "version_minor": 0
      },
      "text/plain": [
       "trainset:   0%|                                                                                 | 0/11 [00:00<…"
      ]
     },
     "metadata": {},
     "output_type": "display_data"
    },
    {
     "data": {
      "application/vnd.jupyter.widget-view+json": {
       "model_id": "",
       "version_major": 2,
       "version_minor": 0
      },
      "text/plain": [
       "validset:   0%|                                                                                  | 0/3 [00:00<…"
      ]
     },
     "metadata": {},
     "output_type": "display_data"
    },
    {
     "name": "stdout",
     "output_type": "stream",
     "text": [
      "epoch: 5\n",
      "train loss: 1.062361630526456\n",
      "valid loss: 1.0692019859949748\n",
      "valid accuracy: 0.41\n",
      "——————————————————————————————————————————————\n"
     ]
    },
    {
     "data": {
      "application/vnd.jupyter.widget-view+json": {
       "model_id": "",
       "version_major": 2,
       "version_minor": 0
      },
      "text/plain": [
       "trainset:   0%|                                                                                 | 0/11 [00:00<…"
      ]
     },
     "metadata": {},
     "output_type": "display_data"
    },
    {
     "data": {
      "application/vnd.jupyter.widget-view+json": {
       "model_id": "",
       "version_major": 2,
       "version_minor": 0
      },
      "text/plain": [
       "validset:   0%|                                                                                  | 0/3 [00:00<…"
      ]
     },
     "metadata": {},
     "output_type": "display_data"
    },
    {
     "name": "stdout",
     "output_type": "stream",
     "text": [
      "epoch: 6\n",
      "train loss: 1.0651359558105469\n",
      "valid loss: 1.077716549237569\n",
      "valid accuracy: 0.41333333333333333\n",
      "——————————————————————————————————————————————\n"
     ]
    },
    {
     "data": {
      "application/vnd.jupyter.widget-view+json": {
       "model_id": "",
       "version_major": 2,
       "version_minor": 0
      },
      "text/plain": [
       "trainset:   0%|                                                                                 | 0/11 [00:00<…"
      ]
     },
     "metadata": {},
     "output_type": "display_data"
    },
    {
     "data": {
      "application/vnd.jupyter.widget-view+json": {
       "model_id": "",
       "version_major": 2,
       "version_minor": 0
      },
      "text/plain": [
       "validset:   0%|                                                                                  | 0/3 [00:00<…"
      ]
     },
     "metadata": {},
     "output_type": "display_data"
    },
    {
     "name": "stdout",
     "output_type": "stream",
     "text": [
      "epoch: 7\n",
      "train loss: 1.05560011213476\n",
      "valid loss: 1.0528013308842976\n",
      "valid accuracy: 0.44\n",
      "——————————————————————————————————————————————\n"
     ]
    },
    {
     "data": {
      "application/vnd.jupyter.widget-view+json": {
       "model_id": "",
       "version_major": 2,
       "version_minor": 0
      },
      "text/plain": [
       "trainset:   0%|                                                                                 | 0/11 [00:00<…"
      ]
     },
     "metadata": {},
     "output_type": "display_data"
    },
    {
     "data": {
      "application/vnd.jupyter.widget-view+json": {
       "model_id": "",
       "version_major": 2,
       "version_minor": 0
      },
      "text/plain": [
       "validset:   0%|                                                                                  | 0/3 [00:00<…"
      ]
     },
     "metadata": {},
     "output_type": "display_data"
    },
    {
     "name": "stdout",
     "output_type": "stream",
     "text": [
      "epoch: 8\n",
      "train loss: 1.0478590726852417\n",
      "valid loss: 1.0513102610905964\n",
      "valid accuracy: 0.45\n",
      "——————————————————————————————————————————————\n"
     ]
    },
    {
     "data": {
      "application/vnd.jupyter.widget-view+json": {
       "model_id": "",
       "version_major": 2,
       "version_minor": 0
      },
      "text/plain": [
       "trainset:   0%|                                                                                 | 0/11 [00:00<…"
      ]
     },
     "metadata": {},
     "output_type": "display_data"
    },
    {
     "data": {
      "application/vnd.jupyter.widget-view+json": {
       "model_id": "",
       "version_major": 2,
       "version_minor": 0
      },
      "text/plain": [
       "validset:   0%|                                                                                  | 0/3 [00:00<…"
      ]
     },
     "metadata": {},
     "output_type": "display_data"
    },
    {
     "name": "stdout",
     "output_type": "stream",
     "text": [
      "epoch: 9\n",
      "train loss: 1.0384496992284602\n",
      "valid loss: 1.0700571139653523\n",
      "valid accuracy: 0.43333333333333335\n",
      "——————————————————————————————————————————————\n"
     ]
    },
    {
     "data": {
      "application/vnd.jupyter.widget-view+json": {
       "model_id": "",
       "version_major": 2,
       "version_minor": 0
      },
      "text/plain": [
       "trainset:   0%|                                                                                 | 0/11 [00:00<…"
      ]
     },
     "metadata": {},
     "output_type": "display_data"
    },
    {
     "data": {
      "application/vnd.jupyter.widget-view+json": {
       "model_id": "",
       "version_major": 2,
       "version_minor": 0
      },
      "text/plain": [
       "validset:   0%|                                                                                  | 0/3 [00:00<…"
      ]
     },
     "metadata": {},
     "output_type": "display_data"
    },
    {
     "name": "stdout",
     "output_type": "stream",
     "text": [
      "early stop\n"
     ]
    }
   ],
   "source": [
    "train_lost_epoch=[]\n",
    "valid_lost_epoch=[]\n",
    "valid_accuracy_list=[]\n",
    "for epoch in tqdm(range(epochs),desc='epoch'):\n",
    "    model.train()\n",
    "    loss_list=[]\n",
    "    i=0\n",
    "    for batch in tqdm(train_dataloader,desc='trainset',leave=False):\n",
    "        model.zero_grad() \n",
    "        optimizer.zero_grad()\n",
    "        input_ids = batch['input_ids'].to(device)\n",
    "        token_type_ids = batch['token_type_ids'].to(device)\n",
    "        attention_mask = batch['attention_mask'].to(device)\n",
    "        target=torch.tensor(y_train[i:i+bat_size]).to(device)\n",
    "        i+=bat_size\n",
    "        outputs = model(input_ids, \n",
    "                            token_type_ids, \n",
    "                            attention_mask, \n",
    "                            labels=target)\n",
    "\n",
    "        loss = outputs.loss\n",
    "        logits = outputs.logits\n",
    "        loss.backward()\n",
    "        optimizer.step()\n",
    "        loss_list.append(loss.item())\n",
    "    train_lost_epoch.append(np.mean(loss_list))\n",
    "    model.eval()\n",
    "    loss_list=[]\n",
    "    i=0\n",
    "    num_correct=0\n",
    "    for batch in tqdm(valid_dataloader,desc='validset',leave=False):\n",
    "        with torch.no_grad():  \n",
    "            input_ids = batch['input_ids'].to(device)\n",
    "            token_type_ids = batch['token_type_ids'].to(device)\n",
    "            attention_mask = batch['attention_mask'].to(device)\n",
    "\n",
    "            target=torch.tensor(y_valid[i:i+bat_size]).to(device)\n",
    "            i+=bat_size\n",
    "            outputs = model(input_ids, \n",
    "                                token_type_ids, \n",
    "                                attention_mask, \n",
    "                                labels=target)\n",
    "            loss = outputs.loss\n",
    "            logits = outputs.logits\n",
    "            loss_list.append(loss.item())\n",
    "            pred_flat = np.argmax(logits.detach().cpu().numpy(), axis=1).flatten()\n",
    "            labels_flat = target.to('cpu').numpy().flatten()\n",
    "            num_correct += np.sum(pred_flat == labels_flat)\n",
    "    valid_accuracy=num_correct/len(y_valid)\n",
    "    if  epoch==0:\n",
    "        torch.save(model.state_dict(), \"my_model_re\")\n",
    "    else:\n",
    "        if  valid_accuracy>max(valid_accuracy_list):\n",
    "            torch.save(model.state_dict(), \"my_model_re\")\n",
    "    if epoch>=10:\n",
    "        if valid_accuracy<min(valid_accuracy_list[-10:-1]):\n",
    "            print(\"early stop\")\n",
    "            break\n",
    "    valid_accuracy_list.append(valid_accuracy)\n",
    "    valid_lost_epoch.append(np.mean(loss_list))\n",
    "    print(\"epoch: \"+str(epoch))\n",
    "    print(\"train loss: \"+str(train_lost_epoch[-1]))\n",
    "    print(\"valid loss: \"+str(valid_lost_epoch[-1]))\n",
    "    print(\"valid accuracy: \"+str(valid_accuracy))\n",
    "    print(\"——————————————————————————————————————————————\")\n"
   ]
  },
  {
   "cell_type": "code",
   "execution_count": 48,
   "id": "53e70b84",
   "metadata": {},
   "outputs": [
    {
     "name": "stdout",
     "output_type": "stream",
     "text": [
      "0.45\n"
     ]
    }
   ],
   "source": [
    "print(max(valid_accuracy_list))"
   ]
  },
  {
   "cell_type": "markdown",
   "id": "bea5b0a6",
   "metadata": {},
   "source": [
    "## SOURCE OF TEXT"
   ]
  },
  {
   "cell_type": "code",
   "execution_count": 49,
   "id": "95e7e5cc",
   "metadata": {},
   "outputs": [],
   "source": [
    "import os\n",
    "import openai\n",
    "import time\n",
    "from auto_tqdm import tqdm\n",
    "def rephrase_by_chatgpt4(text):\n",
    "    file1=open(\"api_key.txt\",'r')\n",
    "    api_key=file1.read()\n",
    "    openai.api_key=api_key\n",
    "    completion = openai.ChatCompletion.create(\n",
    "    model=\"gpt-3.5-turbo\",\n",
    "    messages=[{'role': 'user', 'content': \"Please rephrase the following sentences from reddit: \" +text}])\n",
    "    return completion.choices[0].message.content"
   ]
  },
  {
   "cell_type": "code",
   "execution_count": 50,
   "id": "744e500f",
   "metadata": {},
   "outputs": [
    {
     "data": {
      "text/plain": [
       "'Sexuality should not be considered as a grouping category. However, it differentiates you from others, so in my opinion, it can be defined as a \"grouping\" characteristic.'"
      ]
     },
     "execution_count": 50,
     "metadata": {},
     "output_type": "execute_result"
    }
   ],
   "source": [
    "rephrase_by_chatgpt4(X_train_original[1])"
   ]
  },
  {
   "cell_type": "code",
   "execution_count": 51,
   "id": "32b428d8",
   "metadata": {},
   "outputs": [],
   "source": [
    "# x_new=[]\n",
    "# y_new=[]\n",
    "# for i in tqdm(range(len(X_train_original))):\n",
    "#     count=0\n",
    "#     while(count!=1):\n",
    "#         try:\n",
    "#             ans=rephrase_by_chatgpt4(X_train_original[i])\n",
    "#             x_new.append(ans)\n",
    "#             y_new.append(y_train_original[i])\n",
    "#             count=1  \n",
    "#         except:\n",
    "#             time.sleep(0.5)"
   ]
  },
  {
   "cell_type": "code",
   "execution_count": 52,
   "id": "0298e573",
   "metadata": {},
   "outputs": [],
   "source": [
    "# base_dict={\"text\":x_new,\"label\":y_new}\n",
    "# new_df=pd.DataFrame.from_dict(base_dict)\n",
    "# new_df.to_csv(\"chatgpt_new_data_with_source\")\n",
    "new_df=pd.read_csv(\"chatgpt_new_data_with_source\")\n",
    "X_train_base=list(X_train_original)+list(new_df['text'])\n",
    "y_train_base=list(y_train_original)+list(new_df['label'])\n",
    "X_train=tokenizer(list(X_train_base),truncation=True, padding=True, max_length=64,return_tensors='pt')\n",
    "y_train=list(y_train_base)\n",
    "from torch.utils.data import DataLoader\n",
    "train_dataloader = DataLoader(MyData(X_train) , batch_size=bat_size,shuffle = False)"
   ]
  },
  {
   "cell_type": "code",
   "execution_count": 53,
   "id": "345a9f57",
   "metadata": {},
   "outputs": [
    {
     "name": "stderr",
     "output_type": "stream",
     "text": [
      "Some weights of the model checkpoint at bert-base-uncased were not used when initializing BertForSequenceClassification: ['cls.seq_relationship.bias', 'cls.predictions.decoder.weight', 'cls.predictions.bias', 'cls.seq_relationship.weight', 'cls.predictions.transform.LayerNorm.weight', 'cls.predictions.transform.LayerNorm.bias', 'cls.predictions.transform.dense.bias', 'cls.predictions.transform.dense.weight']\n",
      "- This IS expected if you are initializing BertForSequenceClassification from the checkpoint of a model trained on another task or with another architecture (e.g. initializing a BertForSequenceClassification model from a BertForPreTraining model).\n",
      "- This IS NOT expected if you are initializing BertForSequenceClassification from the checkpoint of a model that you expect to be exactly identical (initializing a BertForSequenceClassification model from a BertForSequenceClassification model).\n",
      "Some weights of BertForSequenceClassification were not initialized from the model checkpoint at bert-base-uncased and are newly initialized: ['classifier.weight', 'classifier.bias']\n",
      "You should probably TRAIN this model on a down-stream task to be able to use it for predictions and inference.\n",
      "F:\\anaconda\\lib\\site-packages\\transformers\\optimization.py:391: FutureWarning: This implementation of AdamW is deprecated and will be removed in a future version. Use the PyTorch implementation torch.optim.AdamW instead, or set `no_deprecation_warning=True` to disable this warning\n",
      "  warnings.warn(\n"
     ]
    }
   ],
   "source": [
    "model= BertForSequenceClassification.from_pretrained(\n",
    "    \"bert-base-uncased\", \n",
    "    num_labels = 3,    \n",
    "    output_attentions = False, \n",
    "    output_hidden_states = False,\n",
    ")\n",
    "model.to(device)\n",
    "optimizer = AdamW(model.parameters(),\n",
    "                  lr = 1e-5, # args.learning_rate - default is 5e-5\n",
    "                  eps = 1e-8, # args.adam_epsilon  - default is 1e-8\n",
    "                  weight_decay=0.01,\n",
    "                  correct_bias=True\n",
    "                )\n",
    "epochs = 50"
   ]
  },
  {
   "cell_type": "code",
   "execution_count": 54,
   "id": "afe6399e",
   "metadata": {
    "scrolled": true
   },
   "outputs": [
    {
     "data": {
      "application/vnd.jupyter.widget-view+json": {
       "model_id": "a0920aa339554979865b45462dac5f4f",
       "version_major": 2,
       "version_minor": 0
      },
      "text/plain": [
       "epoch:   0%|                                                                                    | 0/50 [00:00<…"
      ]
     },
     "metadata": {},
     "output_type": "display_data"
    },
    {
     "data": {
      "application/vnd.jupyter.widget-view+json": {
       "model_id": "",
       "version_major": 2,
       "version_minor": 0
      },
      "text/plain": [
       "trainset:   0%|                                                                                 | 0/11 [00:00<…"
      ]
     },
     "metadata": {},
     "output_type": "display_data"
    },
    {
     "data": {
      "application/vnd.jupyter.widget-view+json": {
       "model_id": "",
       "version_major": 2,
       "version_minor": 0
      },
      "text/plain": [
       "validset:   0%|                                                                                  | 0/3 [00:00<…"
      ]
     },
     "metadata": {},
     "output_type": "display_data"
    },
    {
     "name": "stdout",
     "output_type": "stream",
     "text": [
      "epoch: 0\n",
      "train loss: 1.0929602492939343\n",
      "valid loss: 1.0870742797851562\n",
      "valid accuracy: 0.41333333333333333\n",
      "——————————————————————————————————————————————\n"
     ]
    },
    {
     "data": {
      "application/vnd.jupyter.widget-view+json": {
       "model_id": "",
       "version_major": 2,
       "version_minor": 0
      },
      "text/plain": [
       "trainset:   0%|                                                                                 | 0/11 [00:00<…"
      ]
     },
     "metadata": {},
     "output_type": "display_data"
    },
    {
     "data": {
      "application/vnd.jupyter.widget-view+json": {
       "model_id": "",
       "version_major": 2,
       "version_minor": 0
      },
      "text/plain": [
       "validset:   0%|                                                                                  | 0/3 [00:00<…"
      ]
     },
     "metadata": {},
     "output_type": "display_data"
    },
    {
     "name": "stdout",
     "output_type": "stream",
     "text": [
      "epoch: 1\n",
      "train loss: 1.092208667234941\n",
      "valid loss: 1.0772933165232341\n",
      "valid accuracy: 0.41333333333333333\n",
      "——————————————————————————————————————————————\n"
     ]
    },
    {
     "data": {
      "application/vnd.jupyter.widget-view+json": {
       "model_id": "",
       "version_major": 2,
       "version_minor": 0
      },
      "text/plain": [
       "trainset:   0%|                                                                                 | 0/11 [00:00<…"
      ]
     },
     "metadata": {},
     "output_type": "display_data"
    },
    {
     "data": {
      "application/vnd.jupyter.widget-view+json": {
       "model_id": "",
       "version_major": 2,
       "version_minor": 0
      },
      "text/plain": [
       "validset:   0%|                                                                                  | 0/3 [00:00<…"
      ]
     },
     "metadata": {},
     "output_type": "display_data"
    },
    {
     "name": "stdout",
     "output_type": "stream",
     "text": [
      "epoch: 2\n",
      "train loss: 1.0882702198895542\n",
      "valid loss: 1.0771682659784954\n",
      "valid accuracy: 0.41333333333333333\n",
      "——————————————————————————————————————————————\n"
     ]
    },
    {
     "data": {
      "application/vnd.jupyter.widget-view+json": {
       "model_id": "",
       "version_major": 2,
       "version_minor": 0
      },
      "text/plain": [
       "trainset:   0%|                                                                                 | 0/11 [00:00<…"
      ]
     },
     "metadata": {},
     "output_type": "display_data"
    },
    {
     "data": {
      "application/vnd.jupyter.widget-view+json": {
       "model_id": "",
       "version_major": 2,
       "version_minor": 0
      },
      "text/plain": [
       "validset:   0%|                                                                                  | 0/3 [00:00<…"
      ]
     },
     "metadata": {},
     "output_type": "display_data"
    },
    {
     "name": "stdout",
     "output_type": "stream",
     "text": [
      "epoch: 3\n",
      "train loss: 1.0756146040829746\n",
      "valid loss: 1.072609583536784\n",
      "valid accuracy: 0.44\n",
      "——————————————————————————————————————————————\n"
     ]
    },
    {
     "data": {
      "application/vnd.jupyter.widget-view+json": {
       "model_id": "",
       "version_major": 2,
       "version_minor": 0
      },
      "text/plain": [
       "trainset:   0%|                                                                                 | 0/11 [00:00<…"
      ]
     },
     "metadata": {},
     "output_type": "display_data"
    },
    {
     "data": {
      "application/vnd.jupyter.widget-view+json": {
       "model_id": "",
       "version_major": 2,
       "version_minor": 0
      },
      "text/plain": [
       "validset:   0%|                                                                                  | 0/3 [00:00<…"
      ]
     },
     "metadata": {},
     "output_type": "display_data"
    },
    {
     "name": "stdout",
     "output_type": "stream",
     "text": [
      "epoch: 4\n",
      "train loss: 1.0663683847947554\n",
      "valid loss: 1.0488354365030925\n",
      "valid accuracy: 0.43\n",
      "——————————————————————————————————————————————\n"
     ]
    },
    {
     "data": {
      "application/vnd.jupyter.widget-view+json": {
       "model_id": "",
       "version_major": 2,
       "version_minor": 0
      },
      "text/plain": [
       "trainset:   0%|                                                                                 | 0/11 [00:00<…"
      ]
     },
     "metadata": {},
     "output_type": "display_data"
    },
    {
     "data": {
      "application/vnd.jupyter.widget-view+json": {
       "model_id": "",
       "version_major": 2,
       "version_minor": 0
      },
      "text/plain": [
       "validset:   0%|                                                                                  | 0/3 [00:00<…"
      ]
     },
     "metadata": {},
     "output_type": "display_data"
    },
    {
     "name": "stdout",
     "output_type": "stream",
     "text": [
      "epoch: 5\n",
      "train loss: 1.0311392599886113\n",
      "valid loss: 1.063564658164978\n",
      "valid accuracy: 0.44\n",
      "——————————————————————————————————————————————\n"
     ]
    },
    {
     "data": {
      "application/vnd.jupyter.widget-view+json": {
       "model_id": "",
       "version_major": 2,
       "version_minor": 0
      },
      "text/plain": [
       "trainset:   0%|                                                                                 | 0/11 [00:00<…"
      ]
     },
     "metadata": {},
     "output_type": "display_data"
    },
    {
     "data": {
      "application/vnd.jupyter.widget-view+json": {
       "model_id": "",
       "version_major": 2,
       "version_minor": 0
      },
      "text/plain": [
       "validset:   0%|                                                                                  | 0/3 [00:00<…"
      ]
     },
     "metadata": {},
     "output_type": "display_data"
    },
    {
     "name": "stdout",
     "output_type": "stream",
     "text": [
      "epoch: 6\n",
      "train loss: 1.0507245443084023\n",
      "valid loss: 1.0472725629806519\n",
      "valid accuracy: 0.43333333333333335\n",
      "——————————————————————————————————————————————\n"
     ]
    },
    {
     "data": {
      "application/vnd.jupyter.widget-view+json": {
       "model_id": "",
       "version_major": 2,
       "version_minor": 0
      },
      "text/plain": [
       "trainset:   0%|                                                                                 | 0/11 [00:00<…"
      ]
     },
     "metadata": {},
     "output_type": "display_data"
    },
    {
     "data": {
      "application/vnd.jupyter.widget-view+json": {
       "model_id": "",
       "version_major": 2,
       "version_minor": 0
      },
      "text/plain": [
       "validset:   0%|                                                                                  | 0/3 [00:00<…"
      ]
     },
     "metadata": {},
     "output_type": "display_data"
    },
    {
     "name": "stdout",
     "output_type": "stream",
     "text": [
      "epoch: 7\n",
      "train loss: 1.0273004878651013\n",
      "valid loss: 1.061539888381958\n",
      "valid accuracy: 0.44333333333333336\n",
      "——————————————————————————————————————————————\n"
     ]
    },
    {
     "data": {
      "application/vnd.jupyter.widget-view+json": {
       "model_id": "",
       "version_major": 2,
       "version_minor": 0
      },
      "text/plain": [
       "trainset:   0%|                                                                                 | 0/11 [00:00<…"
      ]
     },
     "metadata": {},
     "output_type": "display_data"
    },
    {
     "data": {
      "application/vnd.jupyter.widget-view+json": {
       "model_id": "",
       "version_major": 2,
       "version_minor": 0
      },
      "text/plain": [
       "validset:   0%|                                                                                  | 0/3 [00:00<…"
      ]
     },
     "metadata": {},
     "output_type": "display_data"
    },
    {
     "name": "stdout",
     "output_type": "stream",
     "text": [
      "epoch: 8\n",
      "train loss: 0.9932658618146722\n",
      "valid loss: 1.0730551481246948\n",
      "valid accuracy: 0.41333333333333333\n",
      "——————————————————————————————————————————————\n"
     ]
    },
    {
     "data": {
      "application/vnd.jupyter.widget-view+json": {
       "model_id": "",
       "version_major": 2,
       "version_minor": 0
      },
      "text/plain": [
       "trainset:   0%|                                                                                 | 0/11 [00:00<…"
      ]
     },
     "metadata": {},
     "output_type": "display_data"
    },
    {
     "data": {
      "application/vnd.jupyter.widget-view+json": {
       "model_id": "",
       "version_major": 2,
       "version_minor": 0
      },
      "text/plain": [
       "validset:   0%|                                                                                  | 0/3 [00:00<…"
      ]
     },
     "metadata": {},
     "output_type": "display_data"
    },
    {
     "name": "stdout",
     "output_type": "stream",
     "text": [
      "epoch: 9\n",
      "train loss: 1.005877440625971\n",
      "valid loss: 1.081159512201945\n",
      "valid accuracy: 0.43666666666666665\n",
      "——————————————————————————————————————————————\n"
     ]
    },
    {
     "data": {
      "application/vnd.jupyter.widget-view+json": {
       "model_id": "",
       "version_major": 2,
       "version_minor": 0
      },
      "text/plain": [
       "trainset:   0%|                                                                                 | 0/11 [00:00<…"
      ]
     },
     "metadata": {},
     "output_type": "display_data"
    },
    {
     "data": {
      "application/vnd.jupyter.widget-view+json": {
       "model_id": "",
       "version_major": 2,
       "version_minor": 0
      },
      "text/plain": [
       "validset:   0%|                                                                                  | 0/3 [00:00<…"
      ]
     },
     "metadata": {},
     "output_type": "display_data"
    },
    {
     "name": "stdout",
     "output_type": "stream",
     "text": [
      "early stop\n"
     ]
    }
   ],
   "source": [
    "train_lost_epoch=[]\n",
    "valid_lost_epoch=[]\n",
    "valid_accuracy_list=[]\n",
    "for epoch in tqdm(range(epochs),desc='epoch'):\n",
    "    model.train()\n",
    "    loss_list=[]\n",
    "    i=0\n",
    "    for batch in tqdm(train_dataloader,desc='trainset',leave=False):\n",
    "        model.zero_grad() \n",
    "        optimizer.zero_grad()\n",
    "        input_ids = batch['input_ids'].to(device)\n",
    "        token_type_ids = batch['token_type_ids'].to(device)\n",
    "        attention_mask = batch['attention_mask'].to(device)\n",
    "        target=torch.tensor(y_train[i:i+bat_size]).to(device)\n",
    "        i+=bat_size\n",
    "        outputs = model(input_ids, \n",
    "                            token_type_ids, \n",
    "                            attention_mask, \n",
    "                            labels=target)\n",
    "\n",
    "        loss = outputs.loss\n",
    "        logits = outputs.logits\n",
    "        loss.backward()\n",
    "        optimizer.step()\n",
    "        loss_list.append(loss.item())\n",
    "    train_lost_epoch.append(np.mean(loss_list))\n",
    "    model.eval()\n",
    "    loss_list=[]\n",
    "    i=0\n",
    "    num_correct=0\n",
    "    for batch in tqdm(valid_dataloader,desc='validset',leave=False):\n",
    "        with torch.no_grad():  \n",
    "            input_ids = batch['input_ids'].to(device)\n",
    "            token_type_ids = batch['token_type_ids'].to(device)\n",
    "            attention_mask = batch['attention_mask'].to(device)\n",
    "\n",
    "            target=torch.tensor(y_valid[i:i+bat_size]).to(device)\n",
    "            i+=bat_size\n",
    "            outputs = model(input_ids, \n",
    "                                token_type_ids, \n",
    "                                attention_mask, \n",
    "                                labels=target)\n",
    "            loss = outputs.loss\n",
    "            logits = outputs.logits\n",
    "            loss_list.append(loss.item())\n",
    "            pred_flat = np.argmax(logits.detach().cpu().numpy(), axis=1).flatten()\n",
    "            labels_flat = target.to('cpu').numpy().flatten()\n",
    "            num_correct += np.sum(pred_flat == labels_flat)\n",
    "    valid_accuracy=num_correct/len(y_valid)\n",
    "    if  epoch==0:\n",
    "        torch.save(model.state_dict(), \"my_model_re\")\n",
    "    else:\n",
    "        if  valid_accuracy>max(valid_accuracy_list):\n",
    "            torch.save(model.state_dict(), \"my_model_re\")\n",
    "    if epoch>=10:\n",
    "        if valid_accuracy<min(valid_accuracy_list[-10:-1]):\n",
    "            print(\"early stop\")\n",
    "            break\n",
    "    valid_accuracy_list.append(valid_accuracy)\n",
    "    valid_lost_epoch.append(np.mean(loss_list))\n",
    "    print(\"epoch: \"+str(epoch))\n",
    "    print(\"train loss: \"+str(train_lost_epoch[-1]))\n",
    "    print(\"valid loss: \"+str(valid_lost_epoch[-1]))\n",
    "    print(\"valid accuracy: \"+str(valid_accuracy))\n",
    "    print(\"——————————————————————————————————————————————\")\n"
   ]
  },
  {
   "cell_type": "code",
   "execution_count": 55,
   "id": "47c672a8",
   "metadata": {},
   "outputs": [
    {
     "name": "stdout",
     "output_type": "stream",
     "text": [
      "0.44333333333333336\n"
     ]
    }
   ],
   "source": [
    "print(max(valid_accuracy_list))"
   ]
  },
  {
   "cell_type": "markdown",
   "id": "754d609d",
   "metadata": {},
   "source": [
    "### SOURCE OF TEXT with requirement"
   ]
  },
  {
   "cell_type": "code",
   "execution_count": 56,
   "id": "ba0f2e37",
   "metadata": {},
   "outputs": [],
   "source": [
    "import os\n",
    "import openai\n",
    "import time\n",
    "from auto_tqdm import tqdm\n",
    "def rephrase_by_chatgpt5(text):\n",
    "    file1=open(\"api_key.txt\",'r')\n",
    "    api_key=file1.read()\n",
    "    openai.api_key=api_key\n",
    "    completion = openai.ChatCompletion.create(\n",
    "    model=\"gpt-3.5-turbo\",\n",
    "    messages=[{'role': 'user', 'content': \"Please rephrase the following sentences from Reddit but keep their emotion: \" +text}])\n",
    "    return completion.choices[0].message.content"
   ]
  },
  {
   "cell_type": "code",
   "execution_count": 57,
   "id": "70bb1709",
   "metadata": {},
   "outputs": [
    {
     "data": {
      "text/plain": [
       "'It\\'s just not fair to group people based on their sexuality. It\\'s a defining characteristic that separates individuals from others, and that\\'s why it fits the criteria for being a \"grouping\" category.'"
      ]
     },
     "execution_count": 57,
     "metadata": {},
     "output_type": "execute_result"
    }
   ],
   "source": [
    "rephrase_by_chatgpt5(X_train_original[1])"
   ]
  },
  {
   "cell_type": "code",
   "execution_count": 58,
   "id": "83736756",
   "metadata": {},
   "outputs": [],
   "source": [
    "# x_new=[]\n",
    "# y_new=[]\n",
    "# for i in tqdm(range(len(X_train_original))):\n",
    "#     count=0\n",
    "#     while(count!=1):\n",
    "#         try:\n",
    "#             ans=rephrase_by_chatgpt5(X_train_original[i])\n",
    "#             x_new.append(ans)\n",
    "#             y_new.append(y_train_original[i])\n",
    "#             count=1  \n",
    "#         except:\n",
    "#             time.sleep(0.5)"
   ]
  },
  {
   "cell_type": "code",
   "execution_count": 59,
   "id": "86dd94e2",
   "metadata": {},
   "outputs": [],
   "source": [
    "# base_dict={\"text\":x_new,\"label\":y_new}\n",
    "# new_df=pd.DataFrame.from_dict(base_dict)\n",
    "# new_df.to_csv(\"chatgpt_new_data_with_source_req\")\n",
    "new_df=pd.read_csv(\"chatgpt_new_data_with_source_req\")\n",
    "X_train_base=list(X_train_original)+list(new_df['text'])\n",
    "y_train_base=list(y_train_original)+list(new_df['label'])\n",
    "X_train=tokenizer(list(X_train_base),truncation=True, padding=True, max_length=64,return_tensors='pt')\n",
    "y_train=list(y_train_base)\n",
    "from torch.utils.data import DataLoader\n",
    "train_dataloader = DataLoader(MyData(X_train) , batch_size=bat_size,shuffle = False)"
   ]
  },
  {
   "cell_type": "code",
   "execution_count": 60,
   "id": "cd990854",
   "metadata": {},
   "outputs": [
    {
     "name": "stderr",
     "output_type": "stream",
     "text": [
      "Some weights of the model checkpoint at bert-base-uncased were not used when initializing BertForSequenceClassification: ['cls.seq_relationship.bias', 'cls.predictions.decoder.weight', 'cls.predictions.bias', 'cls.seq_relationship.weight', 'cls.predictions.transform.LayerNorm.weight', 'cls.predictions.transform.LayerNorm.bias', 'cls.predictions.transform.dense.bias', 'cls.predictions.transform.dense.weight']\n",
      "- This IS expected if you are initializing BertForSequenceClassification from the checkpoint of a model trained on another task or with another architecture (e.g. initializing a BertForSequenceClassification model from a BertForPreTraining model).\n",
      "- This IS NOT expected if you are initializing BertForSequenceClassification from the checkpoint of a model that you expect to be exactly identical (initializing a BertForSequenceClassification model from a BertForSequenceClassification model).\n",
      "Some weights of BertForSequenceClassification were not initialized from the model checkpoint at bert-base-uncased and are newly initialized: ['classifier.weight', 'classifier.bias']\n",
      "You should probably TRAIN this model on a down-stream task to be able to use it for predictions and inference.\n",
      "F:\\anaconda\\lib\\site-packages\\transformers\\optimization.py:391: FutureWarning: This implementation of AdamW is deprecated and will be removed in a future version. Use the PyTorch implementation torch.optim.AdamW instead, or set `no_deprecation_warning=True` to disable this warning\n",
      "  warnings.warn(\n"
     ]
    },
    {
     "data": {
      "application/vnd.jupyter.widget-view+json": {
       "model_id": "2dc1998a324f4a0889029bc638997eff",
       "version_major": 2,
       "version_minor": 0
      },
      "text/plain": [
       "epoch:   0%|                                                                                    | 0/50 [00:00<…"
      ]
     },
     "metadata": {},
     "output_type": "display_data"
    },
    {
     "data": {
      "application/vnd.jupyter.widget-view+json": {
       "model_id": "",
       "version_major": 2,
       "version_minor": 0
      },
      "text/plain": [
       "trainset:   0%|                                                                                 | 0/11 [00:00<…"
      ]
     },
     "metadata": {},
     "output_type": "display_data"
    },
    {
     "data": {
      "application/vnd.jupyter.widget-view+json": {
       "model_id": "",
       "version_major": 2,
       "version_minor": 0
      },
      "text/plain": [
       "validset:   0%|                                                                                  | 0/3 [00:00<…"
      ]
     },
     "metadata": {},
     "output_type": "display_data"
    },
    {
     "name": "stdout",
     "output_type": "stream",
     "text": [
      "epoch: 0\n",
      "train loss: 1.1004973324862393\n",
      "valid loss: 1.0866859356562297\n",
      "valid accuracy: 0.42\n",
      "——————————————————————————————————————————————\n"
     ]
    },
    {
     "data": {
      "application/vnd.jupyter.widget-view+json": {
       "model_id": "",
       "version_major": 2,
       "version_minor": 0
      },
      "text/plain": [
       "trainset:   0%|                                                                                 | 0/11 [00:00<…"
      ]
     },
     "metadata": {},
     "output_type": "display_data"
    },
    {
     "data": {
      "application/vnd.jupyter.widget-view+json": {
       "model_id": "",
       "version_major": 2,
       "version_minor": 0
      },
      "text/plain": [
       "validset:   0%|                                                                                  | 0/3 [00:00<…"
      ]
     },
     "metadata": {},
     "output_type": "display_data"
    },
    {
     "name": "stdout",
     "output_type": "stream",
     "text": [
      "epoch: 1\n",
      "train loss: 1.0895632397044788\n",
      "valid loss: 1.0842573642730713\n",
      "valid accuracy: 0.42\n",
      "——————————————————————————————————————————————\n"
     ]
    },
    {
     "data": {
      "application/vnd.jupyter.widget-view+json": {
       "model_id": "",
       "version_major": 2,
       "version_minor": 0
      },
      "text/plain": [
       "trainset:   0%|                                                                                 | 0/11 [00:00<…"
      ]
     },
     "metadata": {},
     "output_type": "display_data"
    },
    {
     "data": {
      "application/vnd.jupyter.widget-view+json": {
       "model_id": "",
       "version_major": 2,
       "version_minor": 0
      },
      "text/plain": [
       "validset:   0%|                                                                                  | 0/3 [00:00<…"
      ]
     },
     "metadata": {},
     "output_type": "display_data"
    },
    {
     "name": "stdout",
     "output_type": "stream",
     "text": [
      "epoch: 2\n",
      "train loss: 1.0815637545152144\n",
      "valid loss: 1.0810432434082031\n",
      "valid accuracy: 0.43\n",
      "——————————————————————————————————————————————\n"
     ]
    },
    {
     "data": {
      "application/vnd.jupyter.widget-view+json": {
       "model_id": "",
       "version_major": 2,
       "version_minor": 0
      },
      "text/plain": [
       "trainset:   0%|                                                                                 | 0/11 [00:00<…"
      ]
     },
     "metadata": {},
     "output_type": "display_data"
    },
    {
     "data": {
      "application/vnd.jupyter.widget-view+json": {
       "model_id": "",
       "version_major": 2,
       "version_minor": 0
      },
      "text/plain": [
       "validset:   0%|                                                                                  | 0/3 [00:00<…"
      ]
     },
     "metadata": {},
     "output_type": "display_data"
    },
    {
     "name": "stdout",
     "output_type": "stream",
     "text": [
      "epoch: 3\n",
      "train loss: 1.0766816897825762\n",
      "valid loss: 1.0586467583974202\n",
      "valid accuracy: 0.4533333333333333\n",
      "——————————————————————————————————————————————\n"
     ]
    },
    {
     "data": {
      "application/vnd.jupyter.widget-view+json": {
       "model_id": "",
       "version_major": 2,
       "version_minor": 0
      },
      "text/plain": [
       "trainset:   0%|                                                                                 | 0/11 [00:00<…"
      ]
     },
     "metadata": {},
     "output_type": "display_data"
    },
    {
     "data": {
      "application/vnd.jupyter.widget-view+json": {
       "model_id": "",
       "version_major": 2,
       "version_minor": 0
      },
      "text/plain": [
       "validset:   0%|                                                                                  | 0/3 [00:00<…"
      ]
     },
     "metadata": {},
     "output_type": "display_data"
    },
    {
     "name": "stdout",
     "output_type": "stream",
     "text": [
      "epoch: 4\n",
      "train loss: 1.0587014718489214\n",
      "valid loss: 1.0744314193725586\n",
      "valid accuracy: 0.44666666666666666\n",
      "——————————————————————————————————————————————\n"
     ]
    },
    {
     "data": {
      "application/vnd.jupyter.widget-view+json": {
       "model_id": "",
       "version_major": 2,
       "version_minor": 0
      },
      "text/plain": [
       "trainset:   0%|                                                                                 | 0/11 [00:00<…"
      ]
     },
     "metadata": {},
     "output_type": "display_data"
    },
    {
     "data": {
      "application/vnd.jupyter.widget-view+json": {
       "model_id": "",
       "version_major": 2,
       "version_minor": 0
      },
      "text/plain": [
       "validset:   0%|                                                                                  | 0/3 [00:00<…"
      ]
     },
     "metadata": {},
     "output_type": "display_data"
    },
    {
     "name": "stdout",
     "output_type": "stream",
     "text": [
      "epoch: 5\n",
      "train loss: 1.0438715002753518\n",
      "valid loss: 1.0883671045303345\n",
      "valid accuracy: 0.37333333333333335\n",
      "——————————————————————————————————————————————\n"
     ]
    },
    {
     "data": {
      "application/vnd.jupyter.widget-view+json": {
       "model_id": "",
       "version_major": 2,
       "version_minor": 0
      },
      "text/plain": [
       "trainset:   0%|                                                                                 | 0/11 [00:00<…"
      ]
     },
     "metadata": {},
     "output_type": "display_data"
    },
    {
     "data": {
      "application/vnd.jupyter.widget-view+json": {
       "model_id": "",
       "version_major": 2,
       "version_minor": 0
      },
      "text/plain": [
       "validset:   0%|                                                                                  | 0/3 [00:00<…"
      ]
     },
     "metadata": {},
     "output_type": "display_data"
    },
    {
     "name": "stdout",
     "output_type": "stream",
     "text": [
      "epoch: 6\n",
      "train loss: 1.05820984732021\n",
      "valid loss: 1.0584113200505574\n",
      "valid accuracy: 0.41\n",
      "——————————————————————————————————————————————\n"
     ]
    },
    {
     "data": {
      "application/vnd.jupyter.widget-view+json": {
       "model_id": "",
       "version_major": 2,
       "version_minor": 0
      },
      "text/plain": [
       "trainset:   0%|                                                                                 | 0/11 [00:00<…"
      ]
     },
     "metadata": {},
     "output_type": "display_data"
    },
    {
     "data": {
      "application/vnd.jupyter.widget-view+json": {
       "model_id": "",
       "version_major": 2,
       "version_minor": 0
      },
      "text/plain": [
       "validset:   0%|                                                                                  | 0/3 [00:00<…"
      ]
     },
     "metadata": {},
     "output_type": "display_data"
    },
    {
     "name": "stdout",
     "output_type": "stream",
     "text": [
      "epoch: 7\n",
      "train loss: 1.0185404419898987\n",
      "valid loss: 1.0727323691050212\n",
      "valid accuracy: 0.45\n",
      "——————————————————————————————————————————————\n"
     ]
    },
    {
     "data": {
      "application/vnd.jupyter.widget-view+json": {
       "model_id": "",
       "version_major": 2,
       "version_minor": 0
      },
      "text/plain": [
       "trainset:   0%|                                                                                 | 0/11 [00:00<…"
      ]
     },
     "metadata": {},
     "output_type": "display_data"
    },
    {
     "data": {
      "application/vnd.jupyter.widget-view+json": {
       "model_id": "",
       "version_major": 2,
       "version_minor": 0
      },
      "text/plain": [
       "validset:   0%|                                                                                  | 0/3 [00:00<…"
      ]
     },
     "metadata": {},
     "output_type": "display_data"
    },
    {
     "name": "stdout",
     "output_type": "stream",
     "text": [
      "epoch: 8\n",
      "train loss: 0.9980905055999756\n",
      "valid loss: 1.0747380256652832\n",
      "valid accuracy: 0.47\n",
      "——————————————————————————————————————————————\n"
     ]
    },
    {
     "data": {
      "application/vnd.jupyter.widget-view+json": {
       "model_id": "",
       "version_major": 2,
       "version_minor": 0
      },
      "text/plain": [
       "trainset:   0%|                                                                                 | 0/11 [00:00<…"
      ]
     },
     "metadata": {},
     "output_type": "display_data"
    },
    {
     "data": {
      "application/vnd.jupyter.widget-view+json": {
       "model_id": "",
       "version_major": 2,
       "version_minor": 0
      },
      "text/plain": [
       "validset:   0%|                                                                                  | 0/3 [00:00<…"
      ]
     },
     "metadata": {},
     "output_type": "display_data"
    },
    {
     "name": "stdout",
     "output_type": "stream",
     "text": [
      "epoch: 9\n",
      "train loss: 1.0273198051886125\n",
      "valid loss: 1.0858779748280842\n",
      "valid accuracy: 0.43\n",
      "——————————————————————————————————————————————\n"
     ]
    },
    {
     "data": {
      "application/vnd.jupyter.widget-view+json": {
       "model_id": "",
       "version_major": 2,
       "version_minor": 0
      },
      "text/plain": [
       "trainset:   0%|                                                                                 | 0/11 [00:00<…"
      ]
     },
     "metadata": {},
     "output_type": "display_data"
    },
    {
     "data": {
      "application/vnd.jupyter.widget-view+json": {
       "model_id": "",
       "version_major": 2,
       "version_minor": 0
      },
      "text/plain": [
       "validset:   0%|                                                                                  | 0/3 [00:00<…"
      ]
     },
     "metadata": {},
     "output_type": "display_data"
    },
    {
     "name": "stdout",
     "output_type": "stream",
     "text": [
      "epoch: 10\n",
      "train loss: 0.9745485999367454\n",
      "valid loss: 1.0774084726969402\n",
      "valid accuracy: 0.45\n",
      "——————————————————————————————————————————————\n"
     ]
    },
    {
     "data": {
      "application/vnd.jupyter.widget-view+json": {
       "model_id": "",
       "version_major": 2,
       "version_minor": 0
      },
      "text/plain": [
       "trainset:   0%|                                                                                 | 0/11 [00:00<…"
      ]
     },
     "metadata": {},
     "output_type": "display_data"
    },
    {
     "data": {
      "application/vnd.jupyter.widget-view+json": {
       "model_id": "",
       "version_major": 2,
       "version_minor": 0
      },
      "text/plain": [
       "validset:   0%|                                                                                  | 0/3 [00:00<…"
      ]
     },
     "metadata": {},
     "output_type": "display_data"
    },
    {
     "name": "stdout",
     "output_type": "stream",
     "text": [
      "epoch: 11\n",
      "train loss: 0.9667889800938693\n",
      "valid loss: 1.1033520301183064\n",
      "valid accuracy: 0.49\n",
      "——————————————————————————————————————————————\n"
     ]
    },
    {
     "data": {
      "application/vnd.jupyter.widget-view+json": {
       "model_id": "",
       "version_major": 2,
       "version_minor": 0
      },
      "text/plain": [
       "trainset:   0%|                                                                                 | 0/11 [00:00<…"
      ]
     },
     "metadata": {},
     "output_type": "display_data"
    },
    {
     "data": {
      "application/vnd.jupyter.widget-view+json": {
       "model_id": "",
       "version_major": 2,
       "version_minor": 0
      },
      "text/plain": [
       "validset:   0%|                                                                                  | 0/3 [00:00<…"
      ]
     },
     "metadata": {},
     "output_type": "display_data"
    },
    {
     "name": "stdout",
     "output_type": "stream",
     "text": [
      "epoch: 12\n",
      "train loss: 0.9976003549315713\n",
      "valid loss: 1.0984745025634766\n",
      "valid accuracy: 0.44333333333333336\n",
      "——————————————————————————————————————————————\n"
     ]
    },
    {
     "data": {
      "application/vnd.jupyter.widget-view+json": {
       "model_id": "",
       "version_major": 2,
       "version_minor": 0
      },
      "text/plain": [
       "trainset:   0%|                                                                                 | 0/11 [00:00<…"
      ]
     },
     "metadata": {},
     "output_type": "display_data"
    },
    {
     "data": {
      "application/vnd.jupyter.widget-view+json": {
       "model_id": "",
       "version_major": 2,
       "version_minor": 0
      },
      "text/plain": [
       "validset:   0%|                                                                                  | 0/3 [00:00<…"
      ]
     },
     "metadata": {},
     "output_type": "display_data"
    },
    {
     "name": "stdout",
     "output_type": "stream",
     "text": [
      "epoch: 13\n",
      "train loss: 0.9500240304253318\n",
      "valid loss: 1.0894985993703206\n",
      "valid accuracy: 0.45\n",
      "——————————————————————————————————————————————\n"
     ]
    },
    {
     "data": {
      "application/vnd.jupyter.widget-view+json": {
       "model_id": "",
       "version_major": 2,
       "version_minor": 0
      },
      "text/plain": [
       "trainset:   0%|                                                                                 | 0/11 [00:00<…"
      ]
     },
     "metadata": {},
     "output_type": "display_data"
    },
    {
     "data": {
      "application/vnd.jupyter.widget-view+json": {
       "model_id": "",
       "version_major": 2,
       "version_minor": 0
      },
      "text/plain": [
       "validset:   0%|                                                                                  | 0/3 [00:00<…"
      ]
     },
     "metadata": {},
     "output_type": "display_data"
    },
    {
     "name": "stdout",
     "output_type": "stream",
     "text": [
      "epoch: 14\n",
      "train loss: 0.9264848611571572\n",
      "valid loss: 1.127649188041687\n",
      "valid accuracy: 0.4266666666666667\n",
      "——————————————————————————————————————————————\n"
     ]
    },
    {
     "data": {
      "application/vnd.jupyter.widget-view+json": {
       "model_id": "",
       "version_major": 2,
       "version_minor": 0
      },
      "text/plain": [
       "trainset:   0%|                                                                                 | 0/11 [00:00<…"
      ]
     },
     "metadata": {},
     "output_type": "display_data"
    },
    {
     "data": {
      "application/vnd.jupyter.widget-view+json": {
       "model_id": "",
       "version_major": 2,
       "version_minor": 0
      },
      "text/plain": [
       "validset:   0%|                                                                                  | 0/3 [00:00<…"
      ]
     },
     "metadata": {},
     "output_type": "display_data"
    },
    {
     "name": "stdout",
     "output_type": "stream",
     "text": [
      "epoch: 15\n",
      "train loss: 0.8893988836895336\n",
      "valid loss: 1.1039923032124836\n",
      "valid accuracy: 0.43333333333333335\n",
      "——————————————————————————————————————————————\n"
     ]
    },
    {
     "data": {
      "application/vnd.jupyter.widget-view+json": {
       "model_id": "",
       "version_major": 2,
       "version_minor": 0
      },
      "text/plain": [
       "trainset:   0%|                                                                                 | 0/11 [00:00<…"
      ]
     },
     "metadata": {},
     "output_type": "display_data"
    },
    {
     "data": {
      "application/vnd.jupyter.widget-view+json": {
       "model_id": "",
       "version_major": 2,
       "version_minor": 0
      },
      "text/plain": [
       "validset:   0%|                                                                                  | 0/3 [00:00<…"
      ]
     },
     "metadata": {},
     "output_type": "display_data"
    },
    {
     "name": "stdout",
     "output_type": "stream",
     "text": [
      "epoch: 16\n",
      "train loss: 0.9012678915804083\n",
      "valid loss: 1.1037641366322835\n",
      "valid accuracy: 0.45\n",
      "——————————————————————————————————————————————\n"
     ]
    },
    {
     "data": {
      "application/vnd.jupyter.widget-view+json": {
       "model_id": "",
       "version_major": 2,
       "version_minor": 0
      },
      "text/plain": [
       "trainset:   0%|                                                                                 | 0/11 [00:00<…"
      ]
     },
     "metadata": {},
     "output_type": "display_data"
    },
    {
     "data": {
      "application/vnd.jupyter.widget-view+json": {
       "model_id": "",
       "version_major": 2,
       "version_minor": 0
      },
      "text/plain": [
       "validset:   0%|                                                                                  | 0/3 [00:00<…"
      ]
     },
     "metadata": {},
     "output_type": "display_data"
    },
    {
     "name": "stdout",
     "output_type": "stream",
     "text": [
      "epoch: 17\n",
      "train loss: 0.8845079324462197\n",
      "valid loss: 1.1241881450017293\n",
      "valid accuracy: 0.43333333333333335\n",
      "——————————————————————————————————————————————\n"
     ]
    },
    {
     "data": {
      "application/vnd.jupyter.widget-view+json": {
       "model_id": "",
       "version_major": 2,
       "version_minor": 0
      },
      "text/plain": [
       "trainset:   0%|                                                                                 | 0/11 [00:00<…"
      ]
     },
     "metadata": {},
     "output_type": "display_data"
    },
    {
     "data": {
      "application/vnd.jupyter.widget-view+json": {
       "model_id": "",
       "version_major": 2,
       "version_minor": 0
      },
      "text/plain": [
       "validset:   0%|                                                                                  | 0/3 [00:00<…"
      ]
     },
     "metadata": {},
     "output_type": "display_data"
    },
    {
     "name": "stdout",
     "output_type": "stream",
     "text": [
      "epoch: 18\n",
      "train loss: 0.8368389172987505\n",
      "valid loss: 1.1391759316126506\n",
      "valid accuracy: 0.43333333333333335\n",
      "——————————————————————————————————————————————\n"
     ]
    },
    {
     "data": {
      "application/vnd.jupyter.widget-view+json": {
       "model_id": "",
       "version_major": 2,
       "version_minor": 0
      },
      "text/plain": [
       "trainset:   0%|                                                                                 | 0/11 [00:00<…"
      ]
     },
     "metadata": {},
     "output_type": "display_data"
    },
    {
     "data": {
      "application/vnd.jupyter.widget-view+json": {
       "model_id": "",
       "version_major": 2,
       "version_minor": 0
      },
      "text/plain": [
       "validset:   0%|                                                                                  | 0/3 [00:00<…"
      ]
     },
     "metadata": {},
     "output_type": "display_data"
    },
    {
     "name": "stdout",
     "output_type": "stream",
     "text": [
      "epoch: 19\n",
      "train loss: 0.8366922302679582\n",
      "valid loss: 1.1636064449946086\n",
      "valid accuracy: 0.4266666666666667\n",
      "——————————————————————————————————————————————\n"
     ]
    },
    {
     "data": {
      "application/vnd.jupyter.widget-view+json": {
       "model_id": "",
       "version_major": 2,
       "version_minor": 0
      },
      "text/plain": [
       "trainset:   0%|                                                                                 | 0/11 [00:00<…"
      ]
     },
     "metadata": {},
     "output_type": "display_data"
    },
    {
     "data": {
      "application/vnd.jupyter.widget-view+json": {
       "model_id": "",
       "version_major": 2,
       "version_minor": 0
      },
      "text/plain": [
       "validset:   0%|                                                                                  | 0/3 [00:00<…"
      ]
     },
     "metadata": {},
     "output_type": "display_data"
    },
    {
     "name": "stdout",
     "output_type": "stream",
     "text": [
      "epoch: 20\n",
      "train loss: 0.8197915987534956\n",
      "valid loss: 1.1773096720377605\n",
      "valid accuracy: 0.44\n",
      "——————————————————————————————————————————————\n"
     ]
    },
    {
     "data": {
      "application/vnd.jupyter.widget-view+json": {
       "model_id": "",
       "version_major": 2,
       "version_minor": 0
      },
      "text/plain": [
       "trainset:   0%|                                                                                 | 0/11 [00:00<…"
      ]
     },
     "metadata": {},
     "output_type": "display_data"
    },
    {
     "data": {
      "application/vnd.jupyter.widget-view+json": {
       "model_id": "",
       "version_major": 2,
       "version_minor": 0
      },
      "text/plain": [
       "validset:   0%|                                                                                  | 0/3 [00:00<…"
      ]
     },
     "metadata": {},
     "output_type": "display_data"
    },
    {
     "name": "stdout",
     "output_type": "stream",
     "text": [
      "early stop\n"
     ]
    }
   ],
   "source": [
    "model= BertForSequenceClassification.from_pretrained(\n",
    "    \"bert-base-uncased\", \n",
    "    num_labels = 3,    \n",
    "    output_attentions = False, \n",
    "    output_hidden_states = False,\n",
    ")\n",
    "model.to(device)\n",
    "optimizer = AdamW(model.parameters(),\n",
    "                  lr = 1e-5, # args.learning_rate - default is 5e-5\n",
    "                  eps = 1e-8, # args.adam_epsilon  - default is 1e-8\n",
    "                  weight_decay=0.01,\n",
    "                  correct_bias=True\n",
    "                )\n",
    "epochs = 50\n",
    "train_lost_epoch=[]\n",
    "valid_lost_epoch=[]\n",
    "valid_accuracy_list=[]\n",
    "for epoch in tqdm(range(epochs),desc='epoch'):\n",
    "    model.train()\n",
    "    loss_list=[]\n",
    "    i=0\n",
    "    for batch in tqdm(train_dataloader,desc='trainset',leave=False):\n",
    "        model.zero_grad() \n",
    "        optimizer.zero_grad()\n",
    "        input_ids = batch['input_ids'].to(device)\n",
    "        token_type_ids = batch['token_type_ids'].to(device)\n",
    "        attention_mask = batch['attention_mask'].to(device)\n",
    "        target=torch.tensor(y_train[i:i+bat_size]).to(device)\n",
    "        i+=bat_size\n",
    "        outputs = model(input_ids, \n",
    "                            token_type_ids, \n",
    "                            attention_mask, \n",
    "                            labels=target)\n",
    "\n",
    "        loss = outputs.loss\n",
    "        logits = outputs.logits\n",
    "        loss.backward()\n",
    "        optimizer.step()\n",
    "        loss_list.append(loss.item())\n",
    "    train_lost_epoch.append(np.mean(loss_list))\n",
    "    model.eval()\n",
    "    loss_list=[]\n",
    "    i=0\n",
    "    num_correct=0\n",
    "    for batch in tqdm(valid_dataloader,desc='validset',leave=False):\n",
    "        with torch.no_grad():  \n",
    "            input_ids = batch['input_ids'].to(device)\n",
    "            token_type_ids = batch['token_type_ids'].to(device)\n",
    "            attention_mask = batch['attention_mask'].to(device)\n",
    "\n",
    "            target=torch.tensor(y_valid[i:i+bat_size]).to(device)\n",
    "            i+=bat_size\n",
    "            outputs = model(input_ids, \n",
    "                                token_type_ids, \n",
    "                                attention_mask, \n",
    "                                labels=target)\n",
    "            loss = outputs.loss\n",
    "            logits = outputs.logits\n",
    "            loss_list.append(loss.item())\n",
    "            pred_flat = np.argmax(logits.detach().cpu().numpy(), axis=1).flatten()\n",
    "            labels_flat = target.to('cpu').numpy().flatten()\n",
    "            num_correct += np.sum(pred_flat == labels_flat)\n",
    "    valid_accuracy=num_correct/len(y_valid)\n",
    "    if  epoch==0:\n",
    "        torch.save(model.state_dict(), \"my_model_re\")\n",
    "    else:\n",
    "        if  valid_accuracy>max(valid_accuracy_list):\n",
    "            torch.save(model.state_dict(), \"my_model_re\")\n",
    "    if epoch>=10:\n",
    "        if valid_accuracy<min(valid_accuracy_list[-10:-1]):\n",
    "            print(\"early stop\")\n",
    "            break\n",
    "    valid_accuracy_list.append(valid_accuracy)\n",
    "    valid_lost_epoch.append(np.mean(loss_list))\n",
    "    print(\"epoch: \"+str(epoch))\n",
    "    print(\"train loss: \"+str(train_lost_epoch[-1]))\n",
    "    print(\"valid loss: \"+str(valid_lost_epoch[-1]))\n",
    "    print(\"valid accuracy: \"+str(valid_accuracy))\n",
    "    print(\"——————————————————————————————————————————————\")\n"
   ]
  },
  {
   "cell_type": "code",
   "execution_count": 61,
   "id": "28ab64f6",
   "metadata": {},
   "outputs": [
    {
     "name": "stdout",
     "output_type": "stream",
     "text": [
      "0.49\n"
     ]
    }
   ],
   "source": [
    "print(max(valid_accuracy_list))"
   ]
  },
  {
   "cell_type": "markdown",
   "id": "d2b958ca",
   "metadata": {},
   "source": [
    "## extra trial"
   ]
  },
  {
   "cell_type": "code",
   "execution_count": 62,
   "id": "68e0d002",
   "metadata": {},
   "outputs": [],
   "source": [
    "import os\n",
    "import openai\n",
    "import time\n",
    "from auto_tqdm import tqdm\n",
    "def rephrase_by_chatgpt6(text):\n",
    "    file1=open(\"api_key.txt\",'r')\n",
    "    api_key=file1.read()\n",
    "    openai.api_key=api_key\n",
    "    completion = openai.ChatCompletion.create(\n",
    "    model=\"gpt-3.5-turbo\",\n",
    "    messages=[{'role': 'user', 'content': \"Please rephrase the following sentences from Reddit but but keep the information that may useful for emotion classification:: \" +text}])\n",
    "    return completion.choices[0].message.content"
   ]
  },
  {
   "cell_type": "code",
   "execution_count": 63,
   "id": "5a439ee5",
   "metadata": {},
   "outputs": [
    {
     "data": {
      "text/plain": [
       "'IMO, sexuality does fit the definition of \"grouping\". It sets individuals apart from others and makes them different. However, I believe that it shouldn\\'t be used as a category for grouping people.'"
      ]
     },
     "execution_count": 63,
     "metadata": {},
     "output_type": "execute_result"
    }
   ],
   "source": [
    "rephrase_by_chatgpt6(X_train_original[1])"
   ]
  },
  {
   "cell_type": "code",
   "execution_count": 64,
   "id": "ba0ab0bd",
   "metadata": {},
   "outputs": [],
   "source": [
    "# x_new=[]\n",
    "# y_new=[]\n",
    "# for i in tqdm(range(len(X_train_original))):\n",
    "#     count=0\n",
    "#     while(count!=1):\n",
    "#         try:\n",
    "#             ans=rephrase_by_chatgpt6(X_train_original[i])\n",
    "#             x_new.append(ans)\n",
    "#             y_new.append(y_train_original[i])\n",
    "#             count=1  \n",
    "#         except:\n",
    "#             time.sleep(0.5)"
   ]
  },
  {
   "cell_type": "code",
   "execution_count": 65,
   "id": "2d2433b8",
   "metadata": {},
   "outputs": [],
   "source": [
    "# base_dict={\"text\":x_new,\"label\":y_new}\n",
    "# new_df=pd.DataFrame.from_dict(base_dict)\n",
    "# new_df.to_csv(\"chatgpt_new_data_extra\")\n",
    "new_df=pd.read_csv(\"chatgpt_new_data_extra\")\n",
    "X_train_base=list(X_train_original)+list(new_df['text'])\n",
    "y_train_base=list(y_train_original)+list(new_df['label'])\n",
    "X_train=tokenizer(list(X_train_base),truncation=True, padding=True, max_length=64,return_tensors='pt')\n",
    "y_train=list(y_train_base)\n",
    "from torch.utils.data import DataLoader\n",
    "train_dataloader = DataLoader(MyData(X_train) , batch_size=bat_size,shuffle = False)"
   ]
  },
  {
   "cell_type": "code",
   "execution_count": 66,
   "id": "c17af069",
   "metadata": {},
   "outputs": [
    {
     "name": "stderr",
     "output_type": "stream",
     "text": [
      "Some weights of the model checkpoint at bert-base-uncased were not used when initializing BertForSequenceClassification: ['cls.seq_relationship.bias', 'cls.predictions.decoder.weight', 'cls.predictions.bias', 'cls.seq_relationship.weight', 'cls.predictions.transform.LayerNorm.weight', 'cls.predictions.transform.LayerNorm.bias', 'cls.predictions.transform.dense.bias', 'cls.predictions.transform.dense.weight']\n",
      "- This IS expected if you are initializing BertForSequenceClassification from the checkpoint of a model trained on another task or with another architecture (e.g. initializing a BertForSequenceClassification model from a BertForPreTraining model).\n",
      "- This IS NOT expected if you are initializing BertForSequenceClassification from the checkpoint of a model that you expect to be exactly identical (initializing a BertForSequenceClassification model from a BertForSequenceClassification model).\n",
      "Some weights of BertForSequenceClassification were not initialized from the model checkpoint at bert-base-uncased and are newly initialized: ['classifier.weight', 'classifier.bias']\n",
      "You should probably TRAIN this model on a down-stream task to be able to use it for predictions and inference.\n",
      "F:\\anaconda\\lib\\site-packages\\transformers\\optimization.py:391: FutureWarning: This implementation of AdamW is deprecated and will be removed in a future version. Use the PyTorch implementation torch.optim.AdamW instead, or set `no_deprecation_warning=True` to disable this warning\n",
      "  warnings.warn(\n"
     ]
    },
    {
     "data": {
      "application/vnd.jupyter.widget-view+json": {
       "model_id": "369c6f475099445dad810bdd13cd5a81",
       "version_major": 2,
       "version_minor": 0
      },
      "text/plain": [
       "epoch:   0%|                                                                                    | 0/50 [00:00<…"
      ]
     },
     "metadata": {},
     "output_type": "display_data"
    },
    {
     "data": {
      "application/vnd.jupyter.widget-view+json": {
       "model_id": "",
       "version_major": 2,
       "version_minor": 0
      },
      "text/plain": [
       "trainset:   0%|                                                                                 | 0/11 [00:00<…"
      ]
     },
     "metadata": {},
     "output_type": "display_data"
    },
    {
     "data": {
      "application/vnd.jupyter.widget-view+json": {
       "model_id": "906cc4c15d0746d1a8e593007c76e4d7",
       "version_major": 2,
       "version_minor": 0
      },
      "text/plain": [
       "validset:   0%|                                                                                  | 0/3 [00:00<…"
      ]
     },
     "metadata": {},
     "output_type": "display_data"
    },
    {
     "ename": "KeyboardInterrupt",
     "evalue": "",
     "output_type": "error",
     "traceback": [
      "\u001b[1;31m---------------------------------------------------------------------------\u001b[0m",
      "\u001b[1;31mKeyboardInterrupt\u001b[0m                         Traceback (most recent call last)",
      "Input \u001b[1;32mIn [66]\u001b[0m, in \u001b[0;36m<cell line: 18>\u001b[1;34m()\u001b[0m\n\u001b[0;32m     57\u001b[0m loss \u001b[38;5;241m=\u001b[39m outputs\u001b[38;5;241m.\u001b[39mloss\n\u001b[0;32m     58\u001b[0m logits \u001b[38;5;241m=\u001b[39m outputs\u001b[38;5;241m.\u001b[39mlogits\n\u001b[1;32m---> 59\u001b[0m loss_list\u001b[38;5;241m.\u001b[39mappend(\u001b[43mloss\u001b[49m\u001b[38;5;241;43m.\u001b[39;49m\u001b[43mitem\u001b[49m\u001b[43m(\u001b[49m\u001b[43m)\u001b[49m)\n\u001b[0;32m     60\u001b[0m pred_flat \u001b[38;5;241m=\u001b[39m np\u001b[38;5;241m.\u001b[39margmax(logits\u001b[38;5;241m.\u001b[39mdetach()\u001b[38;5;241m.\u001b[39mcpu()\u001b[38;5;241m.\u001b[39mnumpy(), axis\u001b[38;5;241m=\u001b[39m\u001b[38;5;241m1\u001b[39m)\u001b[38;5;241m.\u001b[39mflatten()\n\u001b[0;32m     61\u001b[0m labels_flat \u001b[38;5;241m=\u001b[39m target\u001b[38;5;241m.\u001b[39mto(\u001b[38;5;124m'\u001b[39m\u001b[38;5;124mcpu\u001b[39m\u001b[38;5;124m'\u001b[39m)\u001b[38;5;241m.\u001b[39mnumpy()\u001b[38;5;241m.\u001b[39mflatten()\n",
      "\u001b[1;31mKeyboardInterrupt\u001b[0m: "
     ]
    }
   ],
   "source": [
    "model= BertForSequenceClassification.from_pretrained(\n",
    "    \"bert-base-uncased\", \n",
    "    num_labels = 3,    \n",
    "    output_attentions = False, \n",
    "    output_hidden_states = False,\n",
    ")\n",
    "model.to(device)\n",
    "optimizer = AdamW(model.parameters(),\n",
    "                  lr = 1e-5, # args.learning_rate - default is 5e-5\n",
    "                  eps = 1e-8, # args.adam_epsilon  - default is 1e-8\n",
    "                  weight_decay=0.01,\n",
    "                  correct_bias=True\n",
    "                )\n",
    "epochs = 50\n",
    "train_lost_epoch=[]\n",
    "valid_lost_epoch=[]\n",
    "valid_accuracy_list=[]\n",
    "for epoch in tqdm(range(epochs),desc='epoch'):\n",
    "    model.train()\n",
    "    loss_list=[]\n",
    "    i=0\n",
    "    for batch in tqdm(train_dataloader,desc='trainset',leave=False):\n",
    "        model.zero_grad() \n",
    "        optimizer.zero_grad()\n",
    "        input_ids = batch['input_ids'].to(device)\n",
    "        token_type_ids = batch['token_type_ids'].to(device)\n",
    "        attention_mask = batch['attention_mask'].to(device)\n",
    "        target=torch.tensor(y_train[i:i+bat_size]).to(device)\n",
    "        i+=bat_size\n",
    "        outputs = model(input_ids, \n",
    "                            token_type_ids, \n",
    "                            attention_mask, \n",
    "                            labels=target)\n",
    "\n",
    "        loss = outputs.loss\n",
    "        logits = outputs.logits\n",
    "        loss.backward()\n",
    "        optimizer.step()\n",
    "        loss_list.append(loss.item())\n",
    "    train_lost_epoch.append(np.mean(loss_list))\n",
    "    model.eval()\n",
    "    loss_list=[]\n",
    "    i=0\n",
    "    num_correct=0\n",
    "    for batch in tqdm(valid_dataloader,desc='validset',leave=False):\n",
    "        with torch.no_grad():  \n",
    "            input_ids = batch['input_ids'].to(device)\n",
    "            token_type_ids = batch['token_type_ids'].to(device)\n",
    "            attention_mask = batch['attention_mask'].to(device)\n",
    "\n",
    "            target=torch.tensor(y_valid[i:i+bat_size]).to(device)\n",
    "            i+=bat_size\n",
    "            outputs = model(input_ids, \n",
    "                                token_type_ids, \n",
    "                                attention_mask, \n",
    "                                labels=target)\n",
    "            loss = outputs.loss\n",
    "            logits = outputs.logits\n",
    "            loss_list.append(loss.item())\n",
    "            pred_flat = np.argmax(logits.detach().cpu().numpy(), axis=1).flatten()\n",
    "            labels_flat = target.to('cpu').numpy().flatten()\n",
    "            num_correct += np.sum(pred_flat == labels_flat)\n",
    "    valid_accuracy=num_correct/len(y_valid)\n",
    "    if  epoch==0:\n",
    "        torch.save(model.state_dict(), \"my_model_re\")\n",
    "    else:\n",
    "        if  valid_accuracy>max(valid_accuracy_list):\n",
    "            torch.save(model.state_dict(), \"my_model_re\")\n",
    "    if epoch>=10:\n",
    "        if valid_accuracy<min(valid_accuracy_list[-10:-1]):\n",
    "            print(\"early stop\")\n",
    "            break\n",
    "    valid_accuracy_list.append(valid_accuracy)\n",
    "    valid_lost_epoch.append(np.mean(loss_list))\n",
    "    print(\"epoch: \"+str(epoch))\n",
    "    print(\"train loss: \"+str(train_lost_epoch[-1]))\n",
    "    print(\"valid loss: \"+str(valid_lost_epoch[-1]))\n",
    "    print(\"valid accuracy: \"+str(valid_accuracy))\n",
    "    print(\"——————————————————————————————————————————————\")\n"
   ]
  },
  {
   "cell_type": "code",
   "execution_count": null,
   "id": "1340524b",
   "metadata": {},
   "outputs": [],
   "source": [
    "print(max(valid_accuracy_list))"
   ]
  },
  {
   "cell_type": "markdown",
   "id": "0a62ce99",
   "metadata": {},
   "source": [
    "### add known knowledge length we use"
   ]
  },
  {
   "cell_type": "code",
   "execution_count": 69,
   "id": "21896866",
   "metadata": {},
   "outputs": [],
   "source": [
    "import os\n",
    "import openai\n",
    "import time\n",
    "from auto_tqdm import tqdm\n",
    "def rephrase_by_chatgpt7(text):\n",
    "    file1=open(\"api_key.txt\",'r')\n",
    "    api_key=file1.read()\n",
    "    openai.api_key=api_key\n",
    "    completion = openai.ChatCompletion.create(\n",
    "    model=\"gpt-3.5-turbo\",\n",
    "    messages=[{'role': 'user', 'content': \"Please rephrase the following sentences to around 64 words without changing emotion: \" +text}])\n",
    "    return completion.choices[0].message.content"
   ]
  },
  {
   "cell_type": "code",
   "execution_count": 70,
   "id": "0825a1e9",
   "metadata": {},
   "outputs": [
    {
     "data": {
      "text/plain": [
       "\"In my opinion, sexuality is a factor that distinguishes individuals from each other, and therefore, it should be considered a form of categorization. However, I also believe that this categorization should not lead to discrimination or marginalization of any particular group. Sexuality is a personal characteristic, and it should not define or limit a person's worth or ability to contribute to society.\""
      ]
     },
     "execution_count": 70,
     "metadata": {},
     "output_type": "execute_result"
    }
   ],
   "source": [
    "rephrase_by_chatgpt7(X_train_original[1])"
   ]
  },
  {
   "cell_type": "code",
   "execution_count": 71,
   "id": "3aea0d15",
   "metadata": {},
   "outputs": [
    {
     "data": {
      "application/vnd.jupyter.widget-view+json": {
       "model_id": "",
       "version_major": 2,
       "version_minor": 0
      },
      "text/plain": [
       "  0%|                                                                                          | 0/700 [00:00<…"
      ]
     },
     "metadata": {},
     "output_type": "display_data"
    }
   ],
   "source": [
    "# x_new=[]\n",
    "# y_new=[]\n",
    "# for i in tqdm(range(len(X_train_original))):\n",
    "#     count=0\n",
    "#     while(count!=1):\n",
    "#         try:\n",
    "#             ans=rephrase_by_chatgpt7(X_train_original[i])\n",
    "#             x_new.append(ans)\n",
    "#             y_new.append(y_train_original[i])\n",
    "#             count=1  \n",
    "#         except:\n",
    "#             time.sleep(0.5)"
   ]
  },
  {
   "cell_type": "code",
   "execution_count": 72,
   "id": "17a73590",
   "metadata": {},
   "outputs": [],
   "source": [
    "# base_dict={\"text\":x_new,\"label\":y_new}\n",
    "# new_df=pd.DataFrame.from_dict(base_dict)\n",
    "# new_df.to_csv(\"chatgpt_new_data_64\")\n",
    "new_df=pd.read_csv(\"chatgpt_new_data_64\")\n",
    "X_train_base=list(X_train_original)+list(new_df['text'])\n",
    "y_train_base=list(y_train_original)+list(new_df['label'])\n",
    "X_train=tokenizer(list(X_train_base),truncation=True, padding=True, max_length=64,return_tensors='pt')\n",
    "y_train=list(y_train_base)\n",
    "from torch.utils.data import DataLoader\n",
    "train_dataloader = DataLoader(MyData(X_train) , batch_size=bat_size,shuffle = False)"
   ]
  },
  {
   "cell_type": "code",
   "execution_count": 73,
   "id": "259c98d5",
   "metadata": {},
   "outputs": [
    {
     "name": "stderr",
     "output_type": "stream",
     "text": [
      "Some weights of the model checkpoint at bert-base-uncased were not used when initializing BertForSequenceClassification: ['cls.seq_relationship.bias', 'cls.predictions.decoder.weight', 'cls.predictions.bias', 'cls.seq_relationship.weight', 'cls.predictions.transform.LayerNorm.weight', 'cls.predictions.transform.LayerNorm.bias', 'cls.predictions.transform.dense.bias', 'cls.predictions.transform.dense.weight']\n",
      "- This IS expected if you are initializing BertForSequenceClassification from the checkpoint of a model trained on another task or with another architecture (e.g. initializing a BertForSequenceClassification model from a BertForPreTraining model).\n",
      "- This IS NOT expected if you are initializing BertForSequenceClassification from the checkpoint of a model that you expect to be exactly identical (initializing a BertForSequenceClassification model from a BertForSequenceClassification model).\n",
      "Some weights of BertForSequenceClassification were not initialized from the model checkpoint at bert-base-uncased and are newly initialized: ['classifier.weight', 'classifier.bias']\n",
      "You should probably TRAIN this model on a down-stream task to be able to use it for predictions and inference.\n",
      "F:\\anaconda\\lib\\site-packages\\transformers\\optimization.py:391: FutureWarning: This implementation of AdamW is deprecated and will be removed in a future version. Use the PyTorch implementation torch.optim.AdamW instead, or set `no_deprecation_warning=True` to disable this warning\n",
      "  warnings.warn(\n"
     ]
    },
    {
     "data": {
      "application/vnd.jupyter.widget-view+json": {
       "model_id": "7057325dac2745a5b90fdb4a0060d6e2",
       "version_major": 2,
       "version_minor": 0
      },
      "text/plain": [
       "epoch:   0%|                                                                                    | 0/50 [00:00<…"
      ]
     },
     "metadata": {},
     "output_type": "display_data"
    },
    {
     "data": {
      "application/vnd.jupyter.widget-view+json": {
       "model_id": "",
       "version_major": 2,
       "version_minor": 0
      },
      "text/plain": [
       "trainset:   0%|                                                                                 | 0/11 [00:00<…"
      ]
     },
     "metadata": {},
     "output_type": "display_data"
    },
    {
     "data": {
      "application/vnd.jupyter.widget-view+json": {
       "model_id": "",
       "version_major": 2,
       "version_minor": 0
      },
      "text/plain": [
       "validset:   0%|                                                                                  | 0/3 [00:00<…"
      ]
     },
     "metadata": {},
     "output_type": "display_data"
    },
    {
     "name": "stdout",
     "output_type": "stream",
     "text": [
      "epoch: 0\n",
      "train loss: 1.0951975258913906\n",
      "valid loss: 1.0794018507003784\n",
      "valid accuracy: 0.41333333333333333\n",
      "——————————————————————————————————————————————\n"
     ]
    },
    {
     "data": {
      "application/vnd.jupyter.widget-view+json": {
       "model_id": "",
       "version_major": 2,
       "version_minor": 0
      },
      "text/plain": [
       "trainset:   0%|                                                                                 | 0/11 [00:00<…"
      ]
     },
     "metadata": {},
     "output_type": "display_data"
    },
    {
     "data": {
      "application/vnd.jupyter.widget-view+json": {
       "model_id": "",
       "version_major": 2,
       "version_minor": 0
      },
      "text/plain": [
       "validset:   0%|                                                                                  | 0/3 [00:00<…"
      ]
     },
     "metadata": {},
     "output_type": "display_data"
    },
    {
     "name": "stdout",
     "output_type": "stream",
     "text": [
      "epoch: 1\n",
      "train loss: 1.0838885524056174\n",
      "valid loss: 1.0798213084538777\n",
      "valid accuracy: 0.41333333333333333\n",
      "——————————————————————————————————————————————\n"
     ]
    },
    {
     "data": {
      "application/vnd.jupyter.widget-view+json": {
       "model_id": "",
       "version_major": 2,
       "version_minor": 0
      },
      "text/plain": [
       "trainset:   0%|                                                                                 | 0/11 [00:00<…"
      ]
     },
     "metadata": {},
     "output_type": "display_data"
    },
    {
     "data": {
      "application/vnd.jupyter.widget-view+json": {
       "model_id": "",
       "version_major": 2,
       "version_minor": 0
      },
      "text/plain": [
       "validset:   0%|                                                                                  | 0/3 [00:00<…"
      ]
     },
     "metadata": {},
     "output_type": "display_data"
    },
    {
     "name": "stdout",
     "output_type": "stream",
     "text": [
      "epoch: 2\n",
      "train loss: 1.0716660564596003\n",
      "valid loss: 1.065970778465271\n",
      "valid accuracy: 0.4166666666666667\n",
      "——————————————————————————————————————————————\n"
     ]
    },
    {
     "data": {
      "application/vnd.jupyter.widget-view+json": {
       "model_id": "",
       "version_major": 2,
       "version_minor": 0
      },
      "text/plain": [
       "trainset:   0%|                                                                                 | 0/11 [00:00<…"
      ]
     },
     "metadata": {},
     "output_type": "display_data"
    },
    {
     "data": {
      "application/vnd.jupyter.widget-view+json": {
       "model_id": "",
       "version_major": 2,
       "version_minor": 0
      },
      "text/plain": [
       "validset:   0%|                                                                                  | 0/3 [00:00<…"
      ]
     },
     "metadata": {},
     "output_type": "display_data"
    },
    {
     "name": "stdout",
     "output_type": "stream",
     "text": [
      "epoch: 3\n",
      "train loss: 1.0538058226758784\n",
      "valid loss: 1.036004861195882\n",
      "valid accuracy: 0.43\n",
      "——————————————————————————————————————————————\n"
     ]
    },
    {
     "data": {
      "application/vnd.jupyter.widget-view+json": {
       "model_id": "",
       "version_major": 2,
       "version_minor": 0
      },
      "text/plain": [
       "trainset:   0%|                                                                                 | 0/11 [00:00<…"
      ]
     },
     "metadata": {},
     "output_type": "display_data"
    },
    {
     "data": {
      "application/vnd.jupyter.widget-view+json": {
       "model_id": "",
       "version_major": 2,
       "version_minor": 0
      },
      "text/plain": [
       "validset:   0%|                                                                                  | 0/3 [00:00<…"
      ]
     },
     "metadata": {},
     "output_type": "display_data"
    },
    {
     "name": "stdout",
     "output_type": "stream",
     "text": [
      "epoch: 4\n",
      "train loss: 1.0388896140185269\n",
      "valid loss: 1.0633751551310222\n",
      "valid accuracy: 0.42333333333333334\n",
      "——————————————————————————————————————————————\n"
     ]
    },
    {
     "data": {
      "application/vnd.jupyter.widget-view+json": {
       "model_id": "",
       "version_major": 2,
       "version_minor": 0
      },
      "text/plain": [
       "trainset:   0%|                                                                                 | 0/11 [00:00<…"
      ]
     },
     "metadata": {},
     "output_type": "display_data"
    },
    {
     "data": {
      "application/vnd.jupyter.widget-view+json": {
       "model_id": "",
       "version_major": 2,
       "version_minor": 0
      },
      "text/plain": [
       "validset:   0%|                                                                                  | 0/3 [00:00<…"
      ]
     },
     "metadata": {},
     "output_type": "display_data"
    },
    {
     "name": "stdout",
     "output_type": "stream",
     "text": [
      "epoch: 5\n",
      "train loss: 1.022758429700678\n",
      "valid loss: 1.0590866406758626\n",
      "valid accuracy: 0.44666666666666666\n",
      "——————————————————————————————————————————————\n"
     ]
    },
    {
     "data": {
      "application/vnd.jupyter.widget-view+json": {
       "model_id": "",
       "version_major": 2,
       "version_minor": 0
      },
      "text/plain": [
       "trainset:   0%|                                                                                 | 0/11 [00:00<…"
      ]
     },
     "metadata": {},
     "output_type": "display_data"
    },
    {
     "data": {
      "application/vnd.jupyter.widget-view+json": {
       "model_id": "",
       "version_major": 2,
       "version_minor": 0
      },
      "text/plain": [
       "validset:   0%|                                                                                  | 0/3 [00:00<…"
      ]
     },
     "metadata": {},
     "output_type": "display_data"
    },
    {
     "name": "stdout",
     "output_type": "stream",
     "text": [
      "epoch: 6\n",
      "train loss: 1.0207971930503845\n",
      "valid loss: 1.0583622455596924\n",
      "valid accuracy: 0.44\n",
      "——————————————————————————————————————————————\n"
     ]
    },
    {
     "data": {
      "application/vnd.jupyter.widget-view+json": {
       "model_id": "",
       "version_major": 2,
       "version_minor": 0
      },
      "text/plain": [
       "trainset:   0%|                                                                                 | 0/11 [00:00<…"
      ]
     },
     "metadata": {},
     "output_type": "display_data"
    },
    {
     "data": {
      "application/vnd.jupyter.widget-view+json": {
       "model_id": "",
       "version_major": 2,
       "version_minor": 0
      },
      "text/plain": [
       "validset:   0%|                                                                                  | 0/3 [00:00<…"
      ]
     },
     "metadata": {},
     "output_type": "display_data"
    },
    {
     "name": "stdout",
     "output_type": "stream",
     "text": [
      "epoch: 7\n",
      "train loss: 0.9671538851477883\n",
      "valid loss: 1.0395161708196003\n",
      "valid accuracy: 0.4766666666666667\n",
      "——————————————————————————————————————————————\n"
     ]
    },
    {
     "data": {
      "application/vnd.jupyter.widget-view+json": {
       "model_id": "",
       "version_major": 2,
       "version_minor": 0
      },
      "text/plain": [
       "trainset:   0%|                                                                                 | 0/11 [00:00<…"
      ]
     },
     "metadata": {},
     "output_type": "display_data"
    },
    {
     "data": {
      "application/vnd.jupyter.widget-view+json": {
       "model_id": "",
       "version_major": 2,
       "version_minor": 0
      },
      "text/plain": [
       "validset:   0%|                                                                                  | 0/3 [00:00<…"
      ]
     },
     "metadata": {},
     "output_type": "display_data"
    },
    {
     "name": "stdout",
     "output_type": "stream",
     "text": [
      "epoch: 8\n",
      "train loss: 0.9574645107442682\n",
      "valid loss: 1.0864062309265137\n",
      "valid accuracy: 0.4666666666666667\n",
      "——————————————————————————————————————————————\n"
     ]
    },
    {
     "data": {
      "application/vnd.jupyter.widget-view+json": {
       "model_id": "",
       "version_major": 2,
       "version_minor": 0
      },
      "text/plain": [
       "trainset:   0%|                                                                                 | 0/11 [00:00<…"
      ]
     },
     "metadata": {},
     "output_type": "display_data"
    },
    {
     "data": {
      "application/vnd.jupyter.widget-view+json": {
       "model_id": "",
       "version_major": 2,
       "version_minor": 0
      },
      "text/plain": [
       "validset:   0%|                                                                                  | 0/3 [00:00<…"
      ]
     },
     "metadata": {},
     "output_type": "display_data"
    },
    {
     "name": "stdout",
     "output_type": "stream",
     "text": [
      "epoch: 9\n",
      "train loss: 0.9330215616659685\n",
      "valid loss: 1.0448748270670574\n",
      "valid accuracy: 0.49333333333333335\n",
      "——————————————————————————————————————————————\n"
     ]
    },
    {
     "data": {
      "application/vnd.jupyter.widget-view+json": {
       "model_id": "",
       "version_major": 2,
       "version_minor": 0
      },
      "text/plain": [
       "trainset:   0%|                                                                                 | 0/11 [00:00<…"
      ]
     },
     "metadata": {},
     "output_type": "display_data"
    },
    {
     "data": {
      "application/vnd.jupyter.widget-view+json": {
       "model_id": "",
       "version_major": 2,
       "version_minor": 0
      },
      "text/plain": [
       "validset:   0%|                                                                                  | 0/3 [00:00<…"
      ]
     },
     "metadata": {},
     "output_type": "display_data"
    },
    {
     "name": "stdout",
     "output_type": "stream",
     "text": [
      "epoch: 10\n",
      "train loss: 0.8894196477803317\n",
      "valid loss: 1.0892229477564495\n",
      "valid accuracy: 0.47\n",
      "——————————————————————————————————————————————\n"
     ]
    },
    {
     "data": {
      "application/vnd.jupyter.widget-view+json": {
       "model_id": "",
       "version_major": 2,
       "version_minor": 0
      },
      "text/plain": [
       "trainset:   0%|                                                                                 | 0/11 [00:00<…"
      ]
     },
     "metadata": {},
     "output_type": "display_data"
    },
    {
     "data": {
      "application/vnd.jupyter.widget-view+json": {
       "model_id": "",
       "version_major": 2,
       "version_minor": 0
      },
      "text/plain": [
       "validset:   0%|                                                                                  | 0/3 [00:00<…"
      ]
     },
     "metadata": {},
     "output_type": "display_data"
    },
    {
     "name": "stdout",
     "output_type": "stream",
     "text": [
      "epoch: 11\n",
      "train loss: 0.8868928280743685\n",
      "valid loss: 1.1352280378341675\n",
      "valid accuracy: 0.47333333333333333\n",
      "——————————————————————————————————————————————\n"
     ]
    },
    {
     "data": {
      "application/vnd.jupyter.widget-view+json": {
       "model_id": "",
       "version_major": 2,
       "version_minor": 0
      },
      "text/plain": [
       "trainset:   0%|                                                                                 | 0/11 [00:00<…"
      ]
     },
     "metadata": {},
     "output_type": "display_data"
    },
    {
     "data": {
      "application/vnd.jupyter.widget-view+json": {
       "model_id": "",
       "version_major": 2,
       "version_minor": 0
      },
      "text/plain": [
       "validset:   0%|                                                                                  | 0/3 [00:00<…"
      ]
     },
     "metadata": {},
     "output_type": "display_data"
    },
    {
     "name": "stdout",
     "output_type": "stream",
     "text": [
      "early stop\n"
     ]
    }
   ],
   "source": [
    "model= BertForSequenceClassification.from_pretrained(\n",
    "    \"bert-base-uncased\", \n",
    "    num_labels = 3,    \n",
    "    output_attentions = False, \n",
    "    output_hidden_states = False,\n",
    ")\n",
    "model.to(device)\n",
    "optimizer = AdamW(model.parameters(),\n",
    "                  lr = 1e-5, # args.learning_rate - default is 5e-5\n",
    "                  eps = 1e-8, # args.adam_epsilon  - default is 1e-8\n",
    "                  weight_decay=0.01,\n",
    "                  correct_bias=True\n",
    "                )\n",
    "epochs = 50\n",
    "train_lost_epoch=[]\n",
    "valid_lost_epoch=[]\n",
    "valid_accuracy_list=[]\n",
    "for epoch in tqdm(range(epochs),desc='epoch'):\n",
    "    model.train()\n",
    "    loss_list=[]\n",
    "    i=0\n",
    "    for batch in tqdm(train_dataloader,desc='trainset',leave=False):\n",
    "        model.zero_grad() \n",
    "        optimizer.zero_grad()\n",
    "        input_ids = batch['input_ids'].to(device)\n",
    "        token_type_ids = batch['token_type_ids'].to(device)\n",
    "        attention_mask = batch['attention_mask'].to(device)\n",
    "        target=torch.tensor(y_train[i:i+bat_size]).to(device)\n",
    "        i+=bat_size\n",
    "        outputs = model(input_ids, \n",
    "                            token_type_ids, \n",
    "                            attention_mask, \n",
    "                            labels=target)\n",
    "\n",
    "        loss = outputs.loss\n",
    "        logits = outputs.logits\n",
    "        loss.backward()\n",
    "        optimizer.step()\n",
    "        loss_list.append(loss.item())\n",
    "    train_lost_epoch.append(np.mean(loss_list))\n",
    "    model.eval()\n",
    "    loss_list=[]\n",
    "    i=0\n",
    "    num_correct=0\n",
    "    for batch in tqdm(valid_dataloader,desc='validset',leave=False):\n",
    "        with torch.no_grad():  \n",
    "            input_ids = batch['input_ids'].to(device)\n",
    "            token_type_ids = batch['token_type_ids'].to(device)\n",
    "            attention_mask = batch['attention_mask'].to(device)\n",
    "\n",
    "            target=torch.tensor(y_valid[i:i+bat_size]).to(device)\n",
    "            i+=bat_size\n",
    "            outputs = model(input_ids, \n",
    "                                token_type_ids, \n",
    "                                attention_mask, \n",
    "                                labels=target)\n",
    "            loss = outputs.loss\n",
    "            logits = outputs.logits\n",
    "            loss_list.append(loss.item())\n",
    "            pred_flat = np.argmax(logits.detach().cpu().numpy(), axis=1).flatten()\n",
    "            labels_flat = target.to('cpu').numpy().flatten()\n",
    "            num_correct += np.sum(pred_flat == labels_flat)\n",
    "    valid_accuracy=num_correct/len(y_valid)\n",
    "    if  epoch==0:\n",
    "        torch.save(model.state_dict(), \"my_model_re\")\n",
    "    else:\n",
    "        if  valid_accuracy>max(valid_accuracy_list):\n",
    "            torch.save(model.state_dict(), \"my_model_re\")\n",
    "    if epoch>=10:\n",
    "        if valid_accuracy<min(valid_accuracy_list[-10:-1]):\n",
    "            print(\"early stop\")\n",
    "            break\n",
    "    valid_accuracy_list.append(valid_accuracy)\n",
    "    valid_lost_epoch.append(np.mean(loss_list))\n",
    "    print(\"epoch: \"+str(epoch))\n",
    "    print(\"train loss: \"+str(train_lost_epoch[-1]))\n",
    "    print(\"valid loss: \"+str(valid_lost_epoch[-1]))\n",
    "    print(\"valid accuracy: \"+str(valid_accuracy))\n",
    "    print(\"——————————————————————————————————————————————\")"
   ]
  },
  {
   "cell_type": "code",
   "execution_count": 74,
   "id": "952d96cf",
   "metadata": {},
   "outputs": [
    {
     "name": "stdout",
     "output_type": "stream",
     "text": [
      "0.49333333333333335\n"
     ]
    }
   ],
   "source": [
    "print(max(valid_accuracy_list))"
   ]
  },
  {
   "cell_type": "markdown",
   "id": "67be7ad4",
   "metadata": {},
   "source": [
    "## emotion"
   ]
  },
  {
   "cell_type": "code",
   "execution_count": 25,
   "id": "95f97d22",
   "metadata": {},
   "outputs": [],
   "source": [
    "import os\n",
    "import openai\n",
    "import time\n",
    "from auto_tqdm import tqdm\n",
    "def chatgpt_to_spain(text):\n",
    "    file1=open(\"api_key.txt\",'r')\n",
    "    api_key=file1.read()\n",
    "    openai.api_key=api_key\n",
    "    completion = openai.ChatCompletion.create(\n",
    "    model=\"gpt-3.5-turbo\",\n",
    "    messages=[{'role': 'user', 'content': \"Please translate this sentence to Spanish while retaining the emotion:\"+text}])\n",
    "    return completion.choices[0].message.content\n",
    "def chatgpt_to_english(text):\n",
    "    file1=open(\"api_key.txt\",'r')\n",
    "    api_key=file1.read()\n",
    "    openai.api_key=api_key\n",
    "    completion = openai.ChatCompletion.create(\n",
    "    model=\"gpt-3.5-turbo\",\n",
    "    messages=[{'role': 'user', 'content': \"Please translate this sentence to English:\"+text}])\n",
    "    return completion.choices[0].message.content"
   ]
  },
  {
   "cell_type": "code",
   "execution_count": 26,
   "id": "fccba43b",
   "metadata": {},
   "outputs": [],
   "source": [
    "# x_new=[]\n",
    "# y_new=[]\n",
    "# for i in tqdm(range(len(X_train_original))):\n",
    "#     count=0\n",
    "#     while(count!=1):\n",
    "#         try:\n",
    "#             temp=chatgpt_to_spain(X_train_original[i])\n",
    "#             ans=chatgpt_to_english(temp)\n",
    "#             x_new.append(ans)\n",
    "#             y_new.append(y_train_original[i])\n",
    "#             count=1  \n",
    "#         except:\n",
    "#             time.sleep(0.5)"
   ]
  },
  {
   "cell_type": "code",
   "execution_count": 27,
   "id": "b1f2876c",
   "metadata": {},
   "outputs": [],
   "source": [
    "# base_dict={\"text\":x_new,\"label\":y_new}\n",
    "# new_df=pd.DataFrame.from_dict(base_dict)\n",
    "# new_df.to_csv(\"emotion_back_translate\")\n",
    "new_df=pd.read_csv(\"emotion_back_translate\")\n",
    "X_train_base=list(X_train_original)+list(new_df['text'])\n",
    "y_train_base=list(y_train_original)+list(new_df['label'])\n",
    "X_train=tokenizer(list(X_train_base),truncation=True, padding=True, max_length=64,return_tensors='pt')\n",
    "y_train=list(y_train_base)\n",
    "from torch.utils.data import DataLoader\n",
    "train_dataloader = DataLoader(MyData(X_train) , batch_size=bat_size,shuffle = False)"
   ]
  },
  {
   "cell_type": "code",
   "execution_count": 31,
   "id": "0c8eac1f",
   "metadata": {},
   "outputs": [
    {
     "name": "stderr",
     "output_type": "stream",
     "text": [
      "Some weights of the model checkpoint at bert-base-uncased were not used when initializing BertForSequenceClassification: ['cls.predictions.transform.dense.bias', 'cls.predictions.transform.dense.weight', 'cls.predictions.decoder.weight', 'cls.seq_relationship.weight', 'cls.predictions.transform.LayerNorm.bias', 'cls.seq_relationship.bias', 'cls.predictions.transform.LayerNorm.weight', 'cls.predictions.bias']\n",
      "- This IS expected if you are initializing BertForSequenceClassification from the checkpoint of a model trained on another task or with another architecture (e.g. initializing a BertForSequenceClassification model from a BertForPreTraining model).\n",
      "- This IS NOT expected if you are initializing BertForSequenceClassification from the checkpoint of a model that you expect to be exactly identical (initializing a BertForSequenceClassification model from a BertForSequenceClassification model).\n",
      "Some weights of BertForSequenceClassification were not initialized from the model checkpoint at bert-base-uncased and are newly initialized: ['classifier.weight', 'classifier.bias']\n",
      "You should probably TRAIN this model on a down-stream task to be able to use it for predictions and inference.\n"
     ]
    }
   ],
   "source": [
    "model= BertForSequenceClassification.from_pretrained(\n",
    "    \"bert-base-uncased\", \n",
    "    num_labels = 3,    \n",
    "    output_attentions = False, \n",
    "    output_hidden_states = False,\n",
    ")\n",
    "model.to(device)\n",
    "optimizer = AdamW(model.parameters(),\n",
    "                  lr = 1e-5, # args.learning_rate - default is 5e-5\n",
    "                  eps = 1e-8, # args.adam_epsilon  - default is 1e-8\n",
    "                  weight_decay=0.01,\n",
    "                  correct_bias=True\n",
    "                )\n",
    "epochs = 50"
   ]
  },
  {
   "cell_type": "code",
   "execution_count": 34,
   "id": "bbde9904",
   "metadata": {
    "scrolled": false
   },
   "outputs": [
    {
     "data": {
      "application/vnd.jupyter.widget-view+json": {
       "model_id": "70eb7a99fce5496f9782c7f4d60487b2",
       "version_major": 2,
       "version_minor": 0
      },
      "text/plain": [
       "epoch:   0%|                                                                                    | 0/50 [00:00<…"
      ]
     },
     "metadata": {},
     "output_type": "display_data"
    },
    {
     "data": {
      "application/vnd.jupyter.widget-view+json": {
       "model_id": "",
       "version_major": 2,
       "version_minor": 0
      },
      "text/plain": [
       "trainset:   0%|                                                                                 | 0/11 [00:00<…"
      ]
     },
     "metadata": {},
     "output_type": "display_data"
    },
    {
     "data": {
      "application/vnd.jupyter.widget-view+json": {
       "model_id": "",
       "version_major": 2,
       "version_minor": 0
      },
      "text/plain": [
       "validset:   0%|                                                                                  | 0/3 [00:00<…"
      ]
     },
     "metadata": {},
     "output_type": "display_data"
    },
    {
     "name": "stdout",
     "output_type": "stream",
     "text": [
      "epoch: 0\n",
      "train loss: 0.8489940545775674\n",
      "valid loss: 1.1282723744710286\n",
      "valid accuracy: 0.43333333333333335\n",
      "——————————————————————————————————————————————\n"
     ]
    },
    {
     "data": {
      "application/vnd.jupyter.widget-view+json": {
       "model_id": "",
       "version_major": 2,
       "version_minor": 0
      },
      "text/plain": [
       "trainset:   0%|                                                                                 | 0/11 [00:00<…"
      ]
     },
     "metadata": {},
     "output_type": "display_data"
    },
    {
     "data": {
      "application/vnd.jupyter.widget-view+json": {
       "model_id": "",
       "version_major": 2,
       "version_minor": 0
      },
      "text/plain": [
       "validset:   0%|                                                                                  | 0/3 [00:00<…"
      ]
     },
     "metadata": {},
     "output_type": "display_data"
    },
    {
     "name": "stdout",
     "output_type": "stream",
     "text": [
      "epoch: 1\n",
      "train loss: 0.7985555096106096\n",
      "valid loss: 1.1545232931772869\n",
      "valid accuracy: 0.42333333333333334\n",
      "——————————————————————————————————————————————\n"
     ]
    },
    {
     "data": {
      "application/vnd.jupyter.widget-view+json": {
       "model_id": "",
       "version_major": 2,
       "version_minor": 0
      },
      "text/plain": [
       "trainset:   0%|                                                                                 | 0/11 [00:00<…"
      ]
     },
     "metadata": {},
     "output_type": "display_data"
    },
    {
     "data": {
      "application/vnd.jupyter.widget-view+json": {
       "model_id": "",
       "version_major": 2,
       "version_minor": 0
      },
      "text/plain": [
       "validset:   0%|                                                                                  | 0/3 [00:00<…"
      ]
     },
     "metadata": {},
     "output_type": "display_data"
    },
    {
     "name": "stdout",
     "output_type": "stream",
     "text": [
      "epoch: 2\n",
      "train loss: 0.9735603440891613\n",
      "valid loss: 1.099274754524231\n",
      "valid accuracy: 0.38333333333333336\n",
      "——————————————————————————————————————————————\n"
     ]
    },
    {
     "data": {
      "application/vnd.jupyter.widget-view+json": {
       "model_id": "",
       "version_major": 2,
       "version_minor": 0
      },
      "text/plain": [
       "trainset:   0%|                                                                                 | 0/11 [00:00<…"
      ]
     },
     "metadata": {},
     "output_type": "display_data"
    },
    {
     "data": {
      "application/vnd.jupyter.widget-view+json": {
       "model_id": "",
       "version_major": 2,
       "version_minor": 0
      },
      "text/plain": [
       "validset:   0%|                                                                                  | 0/3 [00:00<…"
      ]
     },
     "metadata": {},
     "output_type": "display_data"
    },
    {
     "name": "stdout",
     "output_type": "stream",
     "text": [
      "epoch: 3\n",
      "train loss: 1.0475401336496526\n",
      "valid loss: 1.0642931461334229\n",
      "valid accuracy: 0.41\n",
      "——————————————————————————————————————————————\n"
     ]
    },
    {
     "data": {
      "application/vnd.jupyter.widget-view+json": {
       "model_id": "",
       "version_major": 2,
       "version_minor": 0
      },
      "text/plain": [
       "trainset:   0%|                                                                                 | 0/11 [00:00<…"
      ]
     },
     "metadata": {},
     "output_type": "display_data"
    },
    {
     "data": {
      "application/vnd.jupyter.widget-view+json": {
       "model_id": "",
       "version_major": 2,
       "version_minor": 0
      },
      "text/plain": [
       "validset:   0%|                                                                                  | 0/3 [00:00<…"
      ]
     },
     "metadata": {},
     "output_type": "display_data"
    },
    {
     "name": "stdout",
     "output_type": "stream",
     "text": [
      "epoch: 4\n",
      "train loss: 1.016432605006478\n",
      "valid loss: 1.075642426808675\n",
      "valid accuracy: 0.42\n",
      "——————————————————————————————————————————————\n"
     ]
    },
    {
     "data": {
      "application/vnd.jupyter.widget-view+json": {
       "model_id": "",
       "version_major": 2,
       "version_minor": 0
      },
      "text/plain": [
       "trainset:   0%|                                                                                 | 0/11 [00:00<…"
      ]
     },
     "metadata": {},
     "output_type": "display_data"
    },
    {
     "data": {
      "application/vnd.jupyter.widget-view+json": {
       "model_id": "",
       "version_major": 2,
       "version_minor": 0
      },
      "text/plain": [
       "validset:   0%|                                                                                  | 0/3 [00:00<…"
      ]
     },
     "metadata": {},
     "output_type": "display_data"
    },
    {
     "name": "stdout",
     "output_type": "stream",
     "text": [
      "epoch: 5\n",
      "train loss: 1.0015676455064253\n",
      "valid loss: 1.0725470781326294\n",
      "valid accuracy: 0.43666666666666665\n",
      "——————————————————————————————————————————————\n"
     ]
    },
    {
     "data": {
      "application/vnd.jupyter.widget-view+json": {
       "model_id": "",
       "version_major": 2,
       "version_minor": 0
      },
      "text/plain": [
       "trainset:   0%|                                                                                 | 0/11 [00:00<…"
      ]
     },
     "metadata": {},
     "output_type": "display_data"
    },
    {
     "data": {
      "application/vnd.jupyter.widget-view+json": {
       "model_id": "",
       "version_major": 2,
       "version_minor": 0
      },
      "text/plain": [
       "validset:   0%|                                                                                  | 0/3 [00:00<…"
      ]
     },
     "metadata": {},
     "output_type": "display_data"
    },
    {
     "name": "stdout",
     "output_type": "stream",
     "text": [
      "epoch: 6\n",
      "train loss: 0.9723437049172141\n",
      "valid loss: 1.0944119691848755\n",
      "valid accuracy: 0.44333333333333336\n",
      "——————————————————————————————————————————————\n"
     ]
    },
    {
     "data": {
      "application/vnd.jupyter.widget-view+json": {
       "model_id": "",
       "version_major": 2,
       "version_minor": 0
      },
      "text/plain": [
       "trainset:   0%|                                                                                 | 0/11 [00:00<…"
      ]
     },
     "metadata": {},
     "output_type": "display_data"
    },
    {
     "data": {
      "application/vnd.jupyter.widget-view+json": {
       "model_id": "",
       "version_major": 2,
       "version_minor": 0
      },
      "text/plain": [
       "validset:   0%|                                                                                  | 0/3 [00:00<…"
      ]
     },
     "metadata": {},
     "output_type": "display_data"
    },
    {
     "name": "stdout",
     "output_type": "stream",
     "text": [
      "epoch: 7\n",
      "train loss: 0.9610314748503945\n",
      "valid loss: 1.0821379820505779\n",
      "valid accuracy: 0.49666666666666665\n",
      "——————————————————————————————————————————————\n"
     ]
    },
    {
     "data": {
      "application/vnd.jupyter.widget-view+json": {
       "model_id": "",
       "version_major": 2,
       "version_minor": 0
      },
      "text/plain": [
       "trainset:   0%|                                                                                 | 0/11 [00:00<…"
      ]
     },
     "metadata": {},
     "output_type": "display_data"
    },
    {
     "data": {
      "application/vnd.jupyter.widget-view+json": {
       "model_id": "",
       "version_major": 2,
       "version_minor": 0
      },
      "text/plain": [
       "validset:   0%|                                                                                  | 0/3 [00:00<…"
      ]
     },
     "metadata": {},
     "output_type": "display_data"
    },
    {
     "name": "stdout",
     "output_type": "stream",
     "text": [
      "epoch: 8\n",
      "train loss: 0.9483708468350497\n",
      "valid loss: 1.1094154119491577\n",
      "valid accuracy: 0.4066666666666667\n",
      "——————————————————————————————————————————————\n"
     ]
    },
    {
     "data": {
      "application/vnd.jupyter.widget-view+json": {
       "model_id": "",
       "version_major": 2,
       "version_minor": 0
      },
      "text/plain": [
       "trainset:   0%|                                                                                 | 0/11 [00:00<…"
      ]
     },
     "metadata": {},
     "output_type": "display_data"
    },
    {
     "data": {
      "application/vnd.jupyter.widget-view+json": {
       "model_id": "",
       "version_major": 2,
       "version_minor": 0
      },
      "text/plain": [
       "validset:   0%|                                                                                  | 0/3 [00:00<…"
      ]
     },
     "metadata": {},
     "output_type": "display_data"
    },
    {
     "name": "stdout",
     "output_type": "stream",
     "text": [
      "epoch: 9\n",
      "train loss: 0.9463842890479348\n",
      "valid loss: 1.1186399062474568\n",
      "valid accuracy: 0.43333333333333335\n",
      "——————————————————————————————————————————————\n"
     ]
    },
    {
     "data": {
      "application/vnd.jupyter.widget-view+json": {
       "model_id": "",
       "version_major": 2,
       "version_minor": 0
      },
      "text/plain": [
       "trainset:   0%|                                                                                 | 0/11 [00:00<…"
      ]
     },
     "metadata": {},
     "output_type": "display_data"
    },
    {
     "data": {
      "application/vnd.jupyter.widget-view+json": {
       "model_id": "",
       "version_major": 2,
       "version_minor": 0
      },
      "text/plain": [
       "validset:   0%|                                                                                  | 0/3 [00:00<…"
      ]
     },
     "metadata": {},
     "output_type": "display_data"
    },
    {
     "name": "stdout",
     "output_type": "stream",
     "text": [
      "epoch: 10\n",
      "train loss: 0.9250755906105042\n",
      "valid loss: 1.1576327880223591\n",
      "valid accuracy: 0.4033333333333333\n",
      "——————————————————————————————————————————————\n"
     ]
    },
    {
     "data": {
      "application/vnd.jupyter.widget-view+json": {
       "model_id": "",
       "version_major": 2,
       "version_minor": 0
      },
      "text/plain": [
       "trainset:   0%|                                                                                 | 0/11 [00:00<…"
      ]
     },
     "metadata": {},
     "output_type": "display_data"
    },
    {
     "data": {
      "application/vnd.jupyter.widget-view+json": {
       "model_id": "",
       "version_major": 2,
       "version_minor": 0
      },
      "text/plain": [
       "validset:   0%|                                                                                  | 0/3 [00:00<…"
      ]
     },
     "metadata": {},
     "output_type": "display_data"
    },
    {
     "name": "stdout",
     "output_type": "stream",
     "text": [
      "epoch: 11\n",
      "train loss: 0.9576348879120566\n",
      "valid loss: 1.109710931777954\n",
      "valid accuracy: 0.43666666666666665\n",
      "——————————————————————————————————————————————\n"
     ]
    },
    {
     "data": {
      "application/vnd.jupyter.widget-view+json": {
       "model_id": "",
       "version_major": 2,
       "version_minor": 0
      },
      "text/plain": [
       "trainset:   0%|                                                                                 | 0/11 [00:00<…"
      ]
     },
     "metadata": {},
     "output_type": "display_data"
    },
    {
     "data": {
      "application/vnd.jupyter.widget-view+json": {
       "model_id": "",
       "version_major": 2,
       "version_minor": 0
      },
      "text/plain": [
       "validset:   0%|                                                                                  | 0/3 [00:00<…"
      ]
     },
     "metadata": {},
     "output_type": "display_data"
    },
    {
     "name": "stdout",
     "output_type": "stream",
     "text": [
      "epoch: 12\n",
      "train loss: 0.9054163315079429\n",
      "valid loss: 1.1347046693166096\n",
      "valid accuracy: 0.43333333333333335\n",
      "——————————————————————————————————————————————\n"
     ]
    },
    {
     "data": {
      "application/vnd.jupyter.widget-view+json": {
       "model_id": "",
       "version_major": 2,
       "version_minor": 0
      },
      "text/plain": [
       "trainset:   0%|                                                                                 | 0/11 [00:00<…"
      ]
     },
     "metadata": {},
     "output_type": "display_data"
    },
    {
     "data": {
      "application/vnd.jupyter.widget-view+json": {
       "model_id": "",
       "version_major": 2,
       "version_minor": 0
      },
      "text/plain": [
       "validset:   0%|                                                                                  | 0/3 [00:00<…"
      ]
     },
     "metadata": {},
     "output_type": "display_data"
    },
    {
     "name": "stdout",
     "output_type": "stream",
     "text": [
      "early stop\n"
     ]
    }
   ],
   "source": [
    "train_lost_epoch=[]\n",
    "valid_lost_epoch=[]\n",
    "valid_accuracy_list=[]\n",
    "for epoch in tqdm(range(epochs),desc='epoch'):\n",
    "    model.train()\n",
    "    loss_list=[]\n",
    "    i=0\n",
    "    for batch in tqdm(train_dataloader,desc='trainset',leave=False):\n",
    "        model.zero_grad() \n",
    "        optimizer.zero_grad()\n",
    "        input_ids = batch['input_ids'].to(device)\n",
    "        token_type_ids = batch['token_type_ids'].to(device)\n",
    "        attention_mask = batch['attention_mask'].to(device)\n",
    "        target=torch.tensor(y_train[i:i+bat_size]).to(device)\n",
    "        i+=bat_size\n",
    "        outputs = model(input_ids, \n",
    "                            token_type_ids, \n",
    "                            attention_mask, \n",
    "                            labels=target)\n",
    "\n",
    "        loss = outputs.loss\n",
    "        logits = outputs.logits\n",
    "        loss.backward()\n",
    "        optimizer.step()\n",
    "        loss_list.append(loss.item())\n",
    "    train_lost_epoch.append(np.mean(loss_list))\n",
    "    model.eval()\n",
    "    loss_list=[]\n",
    "    i=0\n",
    "    num_correct=0\n",
    "    for batch in tqdm(valid_dataloader,desc='validset',leave=False):\n",
    "        with torch.no_grad():  \n",
    "            input_ids = batch['input_ids'].to(device)\n",
    "            token_type_ids = batch['token_type_ids'].to(device)\n",
    "            attention_mask = batch['attention_mask'].to(device)\n",
    "\n",
    "            target=torch.tensor(y_valid[i:i+bat_size]).to(device)\n",
    "            i+=bat_size\n",
    "            outputs = model(input_ids, \n",
    "                                token_type_ids, \n",
    "                                attention_mask, \n",
    "                                labels=target)\n",
    "            loss = outputs.loss\n",
    "            logits = outputs.logits\n",
    "            loss_list.append(loss.item())\n",
    "            pred_flat = np.argmax(logits.detach().cpu().numpy(), axis=1).flatten()\n",
    "            labels_flat = target.to('cpu').numpy().flatten()\n",
    "            num_correct += np.sum(pred_flat == labels_flat)\n",
    "    valid_accuracy=num_correct/len(y_valid)\n",
    "    if  epoch==0:\n",
    "        torch.save(model.state_dict(), \"my_model_re\")\n",
    "    else:\n",
    "        if  valid_accuracy>max(valid_accuracy_list):\n",
    "            torch.save(model.state_dict(), \"my_model_re\")\n",
    "    if epoch>=10:\n",
    "        if valid_accuracy<min(valid_accuracy_list[-10:-1]):\n",
    "            print(\"early stop\")\n",
    "            break\n",
    "    valid_accuracy_list.append(valid_accuracy)\n",
    "    valid_lost_epoch.append(np.mean(loss_list))\n",
    "    print(\"epoch: \"+str(epoch))\n",
    "    print(\"train loss: \"+str(train_lost_epoch[-1]))\n",
    "    print(\"valid loss: \"+str(valid_lost_epoch[-1]))\n",
    "    print(\"valid accuracy: \"+str(valid_accuracy))\n",
    "    print(\"——————————————————————————————————————————————\")"
   ]
  },
  {
   "cell_type": "code",
   "execution_count": 35,
   "id": "2c2cd3f7",
   "metadata": {},
   "outputs": [
    {
     "name": "stdout",
     "output_type": "stream",
     "text": [
      "0.49666666666666665\n"
     ]
    }
   ],
   "source": [
    "print(max(valid_accuracy_list))"
   ]
  },
  {
   "cell_type": "code",
   "execution_count": null,
   "id": "d5f419fa",
   "metadata": {},
   "outputs": [],
   "source": []
  }
 ],
 "metadata": {
  "kernelspec": {
   "display_name": "Python 3 (ipykernel)",
   "language": "python",
   "name": "python3"
  },
  "language_info": {
   "codemirror_mode": {
    "name": "ipython",
    "version": 3
   },
   "file_extension": ".py",
   "mimetype": "text/x-python",
   "name": "python",
   "nbconvert_exporter": "python",
   "pygments_lexer": "ipython3",
   "version": "3.9.12"
  }
 },
 "nbformat": 4,
 "nbformat_minor": 5
}
