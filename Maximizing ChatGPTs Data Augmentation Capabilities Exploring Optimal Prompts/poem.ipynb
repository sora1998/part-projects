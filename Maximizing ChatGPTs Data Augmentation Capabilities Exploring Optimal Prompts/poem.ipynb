{
 "cells": [
  {
   "cell_type": "markdown",
   "id": "b9e6fca6",
   "metadata": {},
   "source": [
    "## original "
   ]
  },
  {
   "cell_type": "code",
   "execution_count": 35,
   "id": "823a8f1a",
   "metadata": {},
   "outputs": [
    {
     "name": "stderr",
     "output_type": "stream",
     "text": [
      "[nltk_data] Downloading package stopwords to\n",
      "[nltk_data]     C:\\Users\\maenz\\AppData\\Roaming\\nltk_data...\n",
      "[nltk_data]   Package stopwords is already up-to-date!\n",
      "Found cached dataset poem_sentiment (C:/Users/maenz/.cache/huggingface/datasets/poem_sentiment/default/1.0.0/4e44428256d42cdde0be6b3db1baa587195e91847adabf976e4f9454f6a82099)\n"
     ]
    },
    {
     "data": {
      "application/vnd.jupyter.widget-view+json": {
       "model_id": "",
       "version_major": 2,
       "version_minor": 0
      },
      "text/plain": [
       "  0%|                                                                                            | 0/3 [00:00<…"
      ]
     },
     "metadata": {},
     "output_type": "display_data"
    }
   ],
   "source": [
    "import pickle\n",
    "import pandas as pd\n",
    "import itertools\n",
    "import copy as cp\n",
    "from collections import Counter\n",
    "import numpy as np\n",
    "import nltk\n",
    "from nltk import word_tokenize\n",
    "from nltk.corpus import stopwords\n",
    "from gensim.models import word2vec\n",
    "from sklearn.linear_model import LogisticRegression\n",
    "import os\n",
    "import string\n",
    "nltk.download('stopwords')\n",
    "from tqdm.auto import tqdm\n",
    "from datasets import load_dataset\n",
    "dataset = load_dataset(\"poem_sentiment\")"
   ]
  },
  {
   "cell_type": "code",
   "execution_count": 36,
   "id": "9c6e97da",
   "metadata": {},
   "outputs": [
    {
     "data": {
      "text/plain": [
       "DatasetDict({\n",
       "    train: Dataset({\n",
       "        features: ['id', 'verse_text', 'label'],\n",
       "        num_rows: 892\n",
       "    })\n",
       "    validation: Dataset({\n",
       "        features: ['id', 'verse_text', 'label'],\n",
       "        num_rows: 105\n",
       "    })\n",
       "    test: Dataset({\n",
       "        features: ['id', 'verse_text', 'label'],\n",
       "        num_rows: 104\n",
       "    })\n",
       "})"
      ]
     },
     "execution_count": 36,
     "metadata": {},
     "output_type": "execute_result"
    }
   ],
   "source": [
    "dataset"
   ]
  },
  {
   "cell_type": "code",
   "execution_count": 37,
   "id": "55e0ec99",
   "metadata": {},
   "outputs": [],
   "source": [
    "df=pd.DataFrame.from_dict(dataset[\"train\"][0:700])"
   ]
  },
  {
   "cell_type": "code",
   "execution_count": 38,
   "id": "f2f98da5",
   "metadata": {},
   "outputs": [
    {
     "data": {
      "text/plain": [
       "0    with pale blue berries. in these peaceful shad...\n",
       "1                  it flows so long as falls the rain,\n",
       "2                   and that is why, the lonesome day,\n",
       "3    when i peruse the conquered fame of heroes, an...\n",
       "4              of inward strife for truth and liberty.\n",
       "Name: verse_text, dtype: object"
      ]
     },
     "execution_count": 38,
     "metadata": {},
     "output_type": "execute_result"
    }
   ],
   "source": [
    "df.iloc[0:5]['verse_text']"
   ]
  },
  {
   "cell_type": "code",
   "execution_count": 39,
   "id": "21d80f7a",
   "metadata": {},
   "outputs": [],
   "source": [
    "df_train=df"
   ]
  },
  {
   "cell_type": "code",
   "execution_count": 40,
   "id": "16cecd5d",
   "metadata": {},
   "outputs": [],
   "source": [
    "df_a=pd.DataFrame.from_dict(dataset[\"validation\"])\n",
    "df_b=pd.DataFrame.from_dict(dataset[\"test\"])"
   ]
  },
  {
   "cell_type": "code",
   "execution_count": 41,
   "id": "b9b40c59",
   "metadata": {},
   "outputs": [],
   "source": [
    "df_test=pd.concat([df_a,df_b])"
   ]
  },
  {
   "cell_type": "code",
   "execution_count": 42,
   "id": "ebe9b2c5",
   "metadata": {},
   "outputs": [],
   "source": [
    "df_test=df_test.reset_index(drop=True)"
   ]
  },
  {
   "cell_type": "code",
   "execution_count": 43,
   "id": "eb49a55c",
   "metadata": {
    "scrolled": true
   },
   "outputs": [
    {
     "data": {
      "text/html": [
       "<div>\n",
       "<style scoped>\n",
       "    .dataframe tbody tr th:only-of-type {\n",
       "        vertical-align: middle;\n",
       "    }\n",
       "\n",
       "    .dataframe tbody tr th {\n",
       "        vertical-align: top;\n",
       "    }\n",
       "\n",
       "    .dataframe thead th {\n",
       "        text-align: right;\n",
       "    }\n",
       "</style>\n",
       "<table border=\"1\" class=\"dataframe\">\n",
       "  <thead>\n",
       "    <tr style=\"text-align: right;\">\n",
       "      <th></th>\n",
       "      <th>id</th>\n",
       "      <th>verse_text</th>\n",
       "      <th>label</th>\n",
       "    </tr>\n",
       "  </thead>\n",
       "  <tbody>\n",
       "    <tr>\n",
       "      <th>0</th>\n",
       "      <td>0</td>\n",
       "      <td>to water, cloudlike on the bush afar,</td>\n",
       "      <td>2</td>\n",
       "    </tr>\n",
       "    <tr>\n",
       "      <th>1</th>\n",
       "      <td>1</td>\n",
       "      <td>shall yet be glad for him, and he shall bless</td>\n",
       "      <td>1</td>\n",
       "    </tr>\n",
       "    <tr>\n",
       "      <th>2</th>\n",
       "      <td>2</td>\n",
       "      <td>on its windy site uplifting gabled roof and pa...</td>\n",
       "      <td>2</td>\n",
       "    </tr>\n",
       "    <tr>\n",
       "      <th>3</th>\n",
       "      <td>3</td>\n",
       "      <td>(if haply the dark will of fate</td>\n",
       "      <td>0</td>\n",
       "    </tr>\n",
       "    <tr>\n",
       "      <th>4</th>\n",
       "      <td>4</td>\n",
       "      <td>jehovah, jove, or lord!</td>\n",
       "      <td>2</td>\n",
       "    </tr>\n",
       "    <tr>\n",
       "      <th>...</th>\n",
       "      <td>...</td>\n",
       "      <td>...</td>\n",
       "      <td>...</td>\n",
       "    </tr>\n",
       "    <tr>\n",
       "      <th>204</th>\n",
       "      <td>99</td>\n",
       "      <td>shall live my highland mary.</td>\n",
       "      <td>2</td>\n",
       "    </tr>\n",
       "    <tr>\n",
       "      <th>205</th>\n",
       "      <td>100</td>\n",
       "      <td>now is past since last we met</td>\n",
       "      <td>2</td>\n",
       "    </tr>\n",
       "    <tr>\n",
       "      <th>206</th>\n",
       "      <td>101</td>\n",
       "      <td>begins to live</td>\n",
       "      <td>2</td>\n",
       "    </tr>\n",
       "    <tr>\n",
       "      <th>207</th>\n",
       "      <td>102</td>\n",
       "      <td>beneath the hazel bough;</td>\n",
       "      <td>2</td>\n",
       "    </tr>\n",
       "    <tr>\n",
       "      <th>208</th>\n",
       "      <td>103</td>\n",
       "      <td>daring to ask for naught, and having naught re...</td>\n",
       "      <td>2</td>\n",
       "    </tr>\n",
       "  </tbody>\n",
       "</table>\n",
       "<p>209 rows × 3 columns</p>\n",
       "</div>"
      ],
      "text/plain": [
       "      id                                         verse_text  label\n",
       "0      0              to water, cloudlike on the bush afar,      2\n",
       "1      1      shall yet be glad for him, and he shall bless      1\n",
       "2      2  on its windy site uplifting gabled roof and pa...      2\n",
       "3      3                    (if haply the dark will of fate      0\n",
       "4      4                            jehovah, jove, or lord!      2\n",
       "..   ...                                                ...    ...\n",
       "204   99                       shall live my highland mary.      2\n",
       "205  100                      now is past since last we met      2\n",
       "206  101                                     begins to live      2\n",
       "207  102                           beneath the hazel bough;      2\n",
       "208  103  daring to ask for naught, and having naught re...      2\n",
       "\n",
       "[209 rows x 3 columns]"
      ]
     },
     "execution_count": 43,
     "metadata": {},
     "output_type": "execute_result"
    }
   ],
   "source": [
    "df_test"
   ]
  },
  {
   "cell_type": "code",
   "execution_count": 44,
   "id": "3105a337",
   "metadata": {},
   "outputs": [],
   "source": [
    "# df_train.to_csv(\"poem_train\")\n",
    "# df_test.to_csv(\"poem_test\")"
   ]
  },
  {
   "cell_type": "code",
   "execution_count": 45,
   "id": "b1fe624d",
   "metadata": {},
   "outputs": [],
   "source": [
    "df_train=pd.read_csv(\"poem_train\")\n",
    "df_text=pd.read_csv(\"poem_test\")"
   ]
  },
  {
   "cell_type": "code",
   "execution_count": 46,
   "id": "0a4e4806",
   "metadata": {},
   "outputs": [],
   "source": [
    "X_train_original=df_train['verse_text']\n",
    "X_valid_original=df_test['verse_text']\n",
    "y_train_original=df_train['label']\n",
    "y_valid_original=df_test['label']"
   ]
  },
  {
   "cell_type": "code",
   "execution_count": 47,
   "id": "825a5d8b",
   "metadata": {},
   "outputs": [],
   "source": [
    "import torch\n",
    "assert torch.cuda.is_available()\n",
    "device = torch.device(\"cuda\")"
   ]
  },
  {
   "cell_type": "code",
   "execution_count": 48,
   "id": "6085e2bc",
   "metadata": {},
   "outputs": [],
   "source": [
    "from transformers import AutoTokenizer, AdamW,BertForSequenceClassification\n",
    "tokenizer= AutoTokenizer.from_pretrained(\"bert-base-uncased\")\n",
    "X_train=tokenizer(list(X_train_original),truncation=True, padding=True, max_length=12,return_tensors='pt')\n",
    "y_train=list(y_train_original)\n",
    "X_valid=tokenizer(list(X_valid_original),truncation=True, padding=True, max_length=12,return_tensors='pt')\n",
    "y_valid=list(y_valid_original)"
   ]
  },
  {
   "cell_type": "code",
   "execution_count": 49,
   "id": "6e9a74fe",
   "metadata": {},
   "outputs": [],
   "source": [
    "class MyData(torch.utils.data.Dataset):\n",
    "    def __init__(self, token):\n",
    "        self.token = token\n",
    "    def __getitem__(self, id):\n",
    "        return {key: val[id] for key, val in self.token.items()}\n",
    "    def __len__(self):\n",
    "        return len(self.token.input_ids)"
   ]
  },
  {
   "cell_type": "code",
   "execution_count": 50,
   "id": "caa33b35",
   "metadata": {},
   "outputs": [],
   "source": [
    "bat_size=128\n",
    "from torch.utils.data import DataLoader\n",
    "train_dataloader = DataLoader(MyData(X_train) , batch_size=bat_size,shuffle = False)\n",
    "valid_dataloader = DataLoader(MyData(X_valid) , batch_size=bat_size,shuffle = False)"
   ]
  },
  {
   "cell_type": "code",
   "execution_count": 17,
   "id": "e8db8c3d",
   "metadata": {},
   "outputs": [
    {
     "name": "stderr",
     "output_type": "stream",
     "text": [
      "Some weights of the model checkpoint at bert-base-uncased were not used when initializing BertForSequenceClassification: ['cls.predictions.transform.LayerNorm.bias', 'cls.predictions.decoder.weight', 'cls.predictions.transform.LayerNorm.weight', 'cls.seq_relationship.weight', 'cls.predictions.transform.dense.weight', 'cls.predictions.bias', 'cls.seq_relationship.bias', 'cls.predictions.transform.dense.bias']\n",
      "- This IS expected if you are initializing BertForSequenceClassification from the checkpoint of a model trained on another task or with another architecture (e.g. initializing a BertForSequenceClassification model from a BertForPreTraining model).\n",
      "- This IS NOT expected if you are initializing BertForSequenceClassification from the checkpoint of a model that you expect to be exactly identical (initializing a BertForSequenceClassification model from a BertForSequenceClassification model).\n",
      "Some weights of BertForSequenceClassification were not initialized from the model checkpoint at bert-base-uncased and are newly initialized: ['classifier.weight', 'classifier.bias']\n",
      "You should probably TRAIN this model on a down-stream task to be able to use it for predictions and inference.\n",
      "F:\\anaconda\\lib\\site-packages\\transformers\\optimization.py:391: FutureWarning: This implementation of AdamW is deprecated and will be removed in a future version. Use the PyTorch implementation torch.optim.AdamW instead, or set `no_deprecation_warning=True` to disable this warning\n",
      "  warnings.warn(\n"
     ]
    }
   ],
   "source": [
    "model = BertForSequenceClassification.from_pretrained(\n",
    "    \"bert-base-uncased\", \n",
    "    num_labels = 4,    \n",
    "    output_attentions = False, \n",
    "    output_hidden_states = False,\n",
    ")\n",
    "model.to(device)\n",
    "optimizer = AdamW(model.parameters(),\n",
    "                  lr = 1e-5, # args.learning_rate - default is 5e-5\n",
    "                  eps = 1e-8, # args.adam_epsilon  - default is 1e-8\n",
    "                  weight_decay=0.01,\n",
    "                  correct_bias=True\n",
    "                )\n",
    "epochs = 50"
   ]
  },
  {
   "cell_type": "code",
   "execution_count": 47,
   "id": "c2a4b22a",
   "metadata": {},
   "outputs": [
    {
     "data": {
      "application/vnd.jupyter.widget-view+json": {
       "model_id": "af4ef2923ca243e8af5260688c9355ba",
       "version_major": 2,
       "version_minor": 0
      },
      "text/plain": [
       "epoch:   0%|                                                                                    | 0/50 [00:00<…"
      ]
     },
     "metadata": {},
     "output_type": "display_data"
    },
    {
     "data": {
      "application/vnd.jupyter.widget-view+json": {
       "model_id": "",
       "version_major": 2,
       "version_minor": 0
      },
      "text/plain": [
       "trainset:   0%|                                                                                  | 0/6 [00:00<…"
      ]
     },
     "metadata": {},
     "output_type": "display_data"
    },
    {
     "data": {
      "application/vnd.jupyter.widget-view+json": {
       "model_id": "",
       "version_major": 2,
       "version_minor": 0
      },
      "text/plain": [
       "validset:   0%|                                                                                  | 0/2 [00:00<…"
      ]
     },
     "metadata": {},
     "output_type": "display_data"
    },
    {
     "name": "stdout",
     "output_type": "stream",
     "text": [
      "epoch: 0\n",
      "train loss: 1.302384873231252\n",
      "valid loss: 1.1306560635566711\n",
      "valid accuracy: 0.6602870813397129\n",
      "——————————————————————————————————————————————\n"
     ]
    },
    {
     "data": {
      "application/vnd.jupyter.widget-view+json": {
       "model_id": "",
       "version_major": 2,
       "version_minor": 0
      },
      "text/plain": [
       "trainset:   0%|                                                                                  | 0/6 [00:00<…"
      ]
     },
     "metadata": {},
     "output_type": "display_data"
    },
    {
     "data": {
      "application/vnd.jupyter.widget-view+json": {
       "model_id": "",
       "version_major": 2,
       "version_minor": 0
      },
      "text/plain": [
       "validset:   0%|                                                                                  | 0/2 [00:00<…"
      ]
     },
     "metadata": {},
     "output_type": "display_data"
    },
    {
     "name": "stdout",
     "output_type": "stream",
     "text": [
      "epoch: 1\n",
      "train loss: 1.1197502613067627\n",
      "valid loss: 0.9944722354412079\n",
      "valid accuracy: 0.6602870813397129\n",
      "——————————————————————————————————————————————\n"
     ]
    },
    {
     "data": {
      "application/vnd.jupyter.widget-view+json": {
       "model_id": "",
       "version_major": 2,
       "version_minor": 0
      },
      "text/plain": [
       "trainset:   0%|                                                                                  | 0/6 [00:00<…"
      ]
     },
     "metadata": {},
     "output_type": "display_data"
    },
    {
     "data": {
      "application/vnd.jupyter.widget-view+json": {
       "model_id": "",
       "version_major": 2,
       "version_minor": 0
      },
      "text/plain": [
       "validset:   0%|                                                                                  | 0/2 [00:00<…"
      ]
     },
     "metadata": {},
     "output_type": "display_data"
    },
    {
     "name": "stdout",
     "output_type": "stream",
     "text": [
      "epoch: 2\n",
      "train loss: 1.041100839773814\n",
      "valid loss: 0.9551325142383575\n",
      "valid accuracy: 0.6602870813397129\n",
      "——————————————————————————————————————————————\n"
     ]
    },
    {
     "data": {
      "application/vnd.jupyter.widget-view+json": {
       "model_id": "",
       "version_major": 2,
       "version_minor": 0
      },
      "text/plain": [
       "trainset:   0%|                                                                                  | 0/6 [00:00<…"
      ]
     },
     "metadata": {},
     "output_type": "display_data"
    },
    {
     "data": {
      "application/vnd.jupyter.widget-view+json": {
       "model_id": "",
       "version_major": 2,
       "version_minor": 0
      },
      "text/plain": [
       "validset:   0%|                                                                                  | 0/2 [00:00<…"
      ]
     },
     "metadata": {},
     "output_type": "display_data"
    },
    {
     "name": "stdout",
     "output_type": "stream",
     "text": [
      "epoch: 3\n",
      "train loss: 1.0168617963790894\n",
      "valid loss: 0.9494473040103912\n",
      "valid accuracy: 0.6602870813397129\n",
      "——————————————————————————————————————————————\n"
     ]
    },
    {
     "data": {
      "application/vnd.jupyter.widget-view+json": {
       "model_id": "",
       "version_major": 2,
       "version_minor": 0
      },
      "text/plain": [
       "trainset:   0%|                                                                                  | 0/6 [00:00<…"
      ]
     },
     "metadata": {},
     "output_type": "display_data"
    },
    {
     "data": {
      "application/vnd.jupyter.widget-view+json": {
       "model_id": "",
       "version_major": 2,
       "version_minor": 0
      },
      "text/plain": [
       "validset:   0%|                                                                                  | 0/2 [00:00<…"
      ]
     },
     "metadata": {},
     "output_type": "display_data"
    },
    {
     "name": "stdout",
     "output_type": "stream",
     "text": [
      "epoch: 4\n",
      "train loss: 1.0143223305543263\n",
      "valid loss: 0.929929256439209\n",
      "valid accuracy: 0.6602870813397129\n",
      "——————————————————————————————————————————————\n"
     ]
    },
    {
     "data": {
      "application/vnd.jupyter.widget-view+json": {
       "model_id": "",
       "version_major": 2,
       "version_minor": 0
      },
      "text/plain": [
       "trainset:   0%|                                                                                  | 0/6 [00:00<…"
      ]
     },
     "metadata": {},
     "output_type": "display_data"
    },
    {
     "data": {
      "application/vnd.jupyter.widget-view+json": {
       "model_id": "",
       "version_major": 2,
       "version_minor": 0
      },
      "text/plain": [
       "validset:   0%|                                                                                  | 0/2 [00:00<…"
      ]
     },
     "metadata": {},
     "output_type": "display_data"
    },
    {
     "name": "stdout",
     "output_type": "stream",
     "text": [
      "epoch: 5\n",
      "train loss: 0.9830000698566437\n",
      "valid loss: 0.918822318315506\n",
      "valid accuracy: 0.6602870813397129\n",
      "——————————————————————————————————————————————\n"
     ]
    },
    {
     "data": {
      "application/vnd.jupyter.widget-view+json": {
       "model_id": "",
       "version_major": 2,
       "version_minor": 0
      },
      "text/plain": [
       "trainset:   0%|                                                                                  | 0/6 [00:00<…"
      ]
     },
     "metadata": {},
     "output_type": "display_data"
    },
    {
     "data": {
      "application/vnd.jupyter.widget-view+json": {
       "model_id": "",
       "version_major": 2,
       "version_minor": 0
      },
      "text/plain": [
       "validset:   0%|                                                                                  | 0/2 [00:00<…"
      ]
     },
     "metadata": {},
     "output_type": "display_data"
    },
    {
     "name": "stdout",
     "output_type": "stream",
     "text": [
      "epoch: 6\n",
      "train loss: 0.9489422539869944\n",
      "valid loss: 0.8932844996452332\n",
      "valid accuracy: 0.6602870813397129\n",
      "——————————————————————————————————————————————\n"
     ]
    },
    {
     "data": {
      "application/vnd.jupyter.widget-view+json": {
       "model_id": "",
       "version_major": 2,
       "version_minor": 0
      },
      "text/plain": [
       "trainset:   0%|                                                                                  | 0/6 [00:00<…"
      ]
     },
     "metadata": {},
     "output_type": "display_data"
    },
    {
     "data": {
      "application/vnd.jupyter.widget-view+json": {
       "model_id": "",
       "version_major": 2,
       "version_minor": 0
      },
      "text/plain": [
       "validset:   0%|                                                                                  | 0/2 [00:00<…"
      ]
     },
     "metadata": {},
     "output_type": "display_data"
    },
    {
     "name": "stdout",
     "output_type": "stream",
     "text": [
      "epoch: 7\n",
      "train loss: 0.9001456002394358\n",
      "valid loss: 0.8685807883739471\n",
      "valid accuracy: 0.6602870813397129\n",
      "——————————————————————————————————————————————\n"
     ]
    },
    {
     "data": {
      "application/vnd.jupyter.widget-view+json": {
       "model_id": "",
       "version_major": 2,
       "version_minor": 0
      },
      "text/plain": [
       "trainset:   0%|                                                                                  | 0/6 [00:00<…"
      ]
     },
     "metadata": {},
     "output_type": "display_data"
    },
    {
     "data": {
      "application/vnd.jupyter.widget-view+json": {
       "model_id": "",
       "version_major": 2,
       "version_minor": 0
      },
      "text/plain": [
       "validset:   0%|                                                                                  | 0/2 [00:00<…"
      ]
     },
     "metadata": {},
     "output_type": "display_data"
    },
    {
     "name": "stdout",
     "output_type": "stream",
     "text": [
      "epoch: 8\n",
      "train loss: 0.8305393060048422\n",
      "valid loss: 0.8330943286418915\n",
      "valid accuracy: 0.6794258373205742\n",
      "——————————————————————————————————————————————\n"
     ]
    },
    {
     "data": {
      "application/vnd.jupyter.widget-view+json": {
       "model_id": "",
       "version_major": 2,
       "version_minor": 0
      },
      "text/plain": [
       "trainset:   0%|                                                                                  | 0/6 [00:00<…"
      ]
     },
     "metadata": {},
     "output_type": "display_data"
    },
    {
     "data": {
      "application/vnd.jupyter.widget-view+json": {
       "model_id": "",
       "version_major": 2,
       "version_minor": 0
      },
      "text/plain": [
       "validset:   0%|                                                                                  | 0/2 [00:00<…"
      ]
     },
     "metadata": {},
     "output_type": "display_data"
    },
    {
     "name": "stdout",
     "output_type": "stream",
     "text": [
      "epoch: 9\n",
      "train loss: 0.7502157290776571\n",
      "valid loss: 0.8106102049350739\n",
      "valid accuracy: 0.7033492822966507\n",
      "——————————————————————————————————————————————\n"
     ]
    },
    {
     "data": {
      "application/vnd.jupyter.widget-view+json": {
       "model_id": "",
       "version_major": 2,
       "version_minor": 0
      },
      "text/plain": [
       "trainset:   0%|                                                                                  | 0/6 [00:00<…"
      ]
     },
     "metadata": {},
     "output_type": "display_data"
    },
    {
     "data": {
      "application/vnd.jupyter.widget-view+json": {
       "model_id": "",
       "version_major": 2,
       "version_minor": 0
      },
      "text/plain": [
       "validset:   0%|                                                                                  | 0/2 [00:00<…"
      ]
     },
     "metadata": {},
     "output_type": "display_data"
    },
    {
     "name": "stdout",
     "output_type": "stream",
     "text": [
      "epoch: 10\n",
      "train loss: 0.6824499468008677\n",
      "valid loss: 0.7934814393520355\n",
      "valid accuracy: 0.7081339712918661\n",
      "——————————————————————————————————————————————\n"
     ]
    },
    {
     "data": {
      "application/vnd.jupyter.widget-view+json": {
       "model_id": "",
       "version_major": 2,
       "version_minor": 0
      },
      "text/plain": [
       "trainset:   0%|                                                                                  | 0/6 [00:00<…"
      ]
     },
     "metadata": {},
     "output_type": "display_data"
    },
    {
     "data": {
      "application/vnd.jupyter.widget-view+json": {
       "model_id": "",
       "version_major": 2,
       "version_minor": 0
      },
      "text/plain": [
       "validset:   0%|                                                                                  | 0/2 [00:00<…"
      ]
     },
     "metadata": {},
     "output_type": "display_data"
    },
    {
     "name": "stdout",
     "output_type": "stream",
     "text": [
      "epoch: 11\n",
      "train loss: 0.6090277433395386\n",
      "valid loss: 0.823330283164978\n",
      "valid accuracy: 0.7177033492822966\n",
      "——————————————————————————————————————————————\n"
     ]
    },
    {
     "data": {
      "application/vnd.jupyter.widget-view+json": {
       "model_id": "",
       "version_major": 2,
       "version_minor": 0
      },
      "text/plain": [
       "trainset:   0%|                                                                                  | 0/6 [00:00<…"
      ]
     },
     "metadata": {},
     "output_type": "display_data"
    },
    {
     "data": {
      "application/vnd.jupyter.widget-view+json": {
       "model_id": "",
       "version_major": 2,
       "version_minor": 0
      },
      "text/plain": [
       "validset:   0%|                                                                                  | 0/2 [00:00<…"
      ]
     },
     "metadata": {},
     "output_type": "display_data"
    },
    {
     "name": "stdout",
     "output_type": "stream",
     "text": [
      "epoch: 12\n",
      "train loss: 0.5399445593357086\n",
      "valid loss: 0.7983383536338806\n",
      "valid accuracy: 0.7177033492822966\n",
      "——————————————————————————————————————————————\n"
     ]
    },
    {
     "data": {
      "application/vnd.jupyter.widget-view+json": {
       "model_id": "",
       "version_major": 2,
       "version_minor": 0
      },
      "text/plain": [
       "trainset:   0%|                                                                                  | 0/6 [00:00<…"
      ]
     },
     "metadata": {},
     "output_type": "display_data"
    },
    {
     "data": {
      "application/vnd.jupyter.widget-view+json": {
       "model_id": "",
       "version_major": 2,
       "version_minor": 0
      },
      "text/plain": [
       "validset:   0%|                                                                                  | 0/2 [00:00<…"
      ]
     },
     "metadata": {},
     "output_type": "display_data"
    },
    {
     "name": "stdout",
     "output_type": "stream",
     "text": [
      "epoch: 13\n",
      "train loss: 0.49812538425127667\n",
      "valid loss: 0.8722084760665894\n",
      "valid accuracy: 0.7368421052631579\n",
      "——————————————————————————————————————————————\n"
     ]
    },
    {
     "data": {
      "application/vnd.jupyter.widget-view+json": {
       "model_id": "",
       "version_major": 2,
       "version_minor": 0
      },
      "text/plain": [
       "trainset:   0%|                                                                                  | 0/6 [00:00<…"
      ]
     },
     "metadata": {},
     "output_type": "display_data"
    },
    {
     "data": {
      "application/vnd.jupyter.widget-view+json": {
       "model_id": "",
       "version_major": 2,
       "version_minor": 0
      },
      "text/plain": [
       "validset:   0%|                                                                                  | 0/2 [00:00<…"
      ]
     },
     "metadata": {},
     "output_type": "display_data"
    },
    {
     "name": "stdout",
     "output_type": "stream",
     "text": [
      "epoch: 14\n",
      "train loss: 0.4674835006395976\n",
      "valid loss: 0.937417209148407\n",
      "valid accuracy: 0.7129186602870813\n",
      "——————————————————————————————————————————————\n"
     ]
    },
    {
     "data": {
      "application/vnd.jupyter.widget-view+json": {
       "model_id": "",
       "version_major": 2,
       "version_minor": 0
      },
      "text/plain": [
       "trainset:   0%|                                                                                  | 0/6 [00:00<…"
      ]
     },
     "metadata": {},
     "output_type": "display_data"
    },
    {
     "data": {
      "application/vnd.jupyter.widget-view+json": {
       "model_id": "",
       "version_major": 2,
       "version_minor": 0
      },
      "text/plain": [
       "validset:   0%|                                                                                  | 0/2 [00:00<…"
      ]
     },
     "metadata": {},
     "output_type": "display_data"
    },
    {
     "name": "stdout",
     "output_type": "stream",
     "text": [
      "epoch: 15\n",
      "train loss: 0.4313296526670456\n",
      "valid loss: 0.8887096047401428\n",
      "valid accuracy: 0.7272727272727273\n",
      "——————————————————————————————————————————————\n"
     ]
    },
    {
     "data": {
      "application/vnd.jupyter.widget-view+json": {
       "model_id": "",
       "version_major": 2,
       "version_minor": 0
      },
      "text/plain": [
       "trainset:   0%|                                                                                  | 0/6 [00:00<…"
      ]
     },
     "metadata": {},
     "output_type": "display_data"
    },
    {
     "data": {
      "application/vnd.jupyter.widget-view+json": {
       "model_id": "",
       "version_major": 2,
       "version_minor": 0
      },
      "text/plain": [
       "validset:   0%|                                                                                  | 0/2 [00:00<…"
      ]
     },
     "metadata": {},
     "output_type": "display_data"
    },
    {
     "name": "stdout",
     "output_type": "stream",
     "text": [
      "epoch: 16\n",
      "train loss: 0.37259669105211896\n",
      "valid loss: 0.9255449771881104\n",
      "valid accuracy: 0.6842105263157895\n",
      "——————————————————————————————————————————————\n"
     ]
    },
    {
     "data": {
      "application/vnd.jupyter.widget-view+json": {
       "model_id": "",
       "version_major": 2,
       "version_minor": 0
      },
      "text/plain": [
       "trainset:   0%|                                                                                  | 0/6 [00:00<…"
      ]
     },
     "metadata": {},
     "output_type": "display_data"
    },
    {
     "data": {
      "application/vnd.jupyter.widget-view+json": {
       "model_id": "",
       "version_major": 2,
       "version_minor": 0
      },
      "text/plain": [
       "validset:   0%|                                                                                  | 0/2 [00:00<…"
      ]
     },
     "metadata": {},
     "output_type": "display_data"
    },
    {
     "name": "stdout",
     "output_type": "stream",
     "text": [
      "epoch: 17\n",
      "train loss: 0.3255942364533742\n",
      "valid loss: 0.9492078423500061\n",
      "valid accuracy: 0.722488038277512\n",
      "——————————————————————————————————————————————\n"
     ]
    },
    {
     "data": {
      "application/vnd.jupyter.widget-view+json": {
       "model_id": "",
       "version_major": 2,
       "version_minor": 0
      },
      "text/plain": [
       "trainset:   0%|                                                                                  | 0/6 [00:00<…"
      ]
     },
     "metadata": {},
     "output_type": "display_data"
    },
    {
     "data": {
      "application/vnd.jupyter.widget-view+json": {
       "model_id": "",
       "version_major": 2,
       "version_minor": 0
      },
      "text/plain": [
       "validset:   0%|                                                                                  | 0/2 [00:00<…"
      ]
     },
     "metadata": {},
     "output_type": "display_data"
    },
    {
     "name": "stdout",
     "output_type": "stream",
     "text": [
      "epoch: 18\n",
      "train loss: 0.2908825675646464\n",
      "valid loss: 0.9627380669116974\n",
      "valid accuracy: 0.722488038277512\n",
      "——————————————————————————————————————————————\n"
     ]
    },
    {
     "data": {
      "application/vnd.jupyter.widget-view+json": {
       "model_id": "",
       "version_major": 2,
       "version_minor": 0
      },
      "text/plain": [
       "trainset:   0%|                                                                                  | 0/6 [00:00<…"
      ]
     },
     "metadata": {},
     "output_type": "display_data"
    },
    {
     "data": {
      "application/vnd.jupyter.widget-view+json": {
       "model_id": "",
       "version_major": 2,
       "version_minor": 0
      },
      "text/plain": [
       "validset:   0%|                                                                                  | 0/2 [00:00<…"
      ]
     },
     "metadata": {},
     "output_type": "display_data"
    },
    {
     "name": "stdout",
     "output_type": "stream",
     "text": [
      "epoch: 19\n",
      "train loss: 0.256252184510231\n",
      "valid loss: 0.9885523617267609\n",
      "valid accuracy: 0.6889952153110048\n",
      "——————————————————————————————————————————————\n"
     ]
    },
    {
     "data": {
      "application/vnd.jupyter.widget-view+json": {
       "model_id": "",
       "version_major": 2,
       "version_minor": 0
      },
      "text/plain": [
       "trainset:   0%|                                                                                  | 0/6 [00:00<…"
      ]
     },
     "metadata": {},
     "output_type": "display_data"
    },
    {
     "data": {
      "application/vnd.jupyter.widget-view+json": {
       "model_id": "",
       "version_major": 2,
       "version_minor": 0
      },
      "text/plain": [
       "validset:   0%|                                                                                  | 0/2 [00:00<…"
      ]
     },
     "metadata": {},
     "output_type": "display_data"
    },
    {
     "name": "stdout",
     "output_type": "stream",
     "text": [
      "epoch: 20\n",
      "train loss: 0.23876200864712396\n",
      "valid loss: 1.0239688456058502\n",
      "valid accuracy: 0.722488038277512\n",
      "——————————————————————————————————————————————\n"
     ]
    },
    {
     "data": {
      "application/vnd.jupyter.widget-view+json": {
       "model_id": "",
       "version_major": 2,
       "version_minor": 0
      },
      "text/plain": [
       "trainset:   0%|                                                                                  | 0/6 [00:00<…"
      ]
     },
     "metadata": {},
     "output_type": "display_data"
    },
    {
     "data": {
      "application/vnd.jupyter.widget-view+json": {
       "model_id": "",
       "version_major": 2,
       "version_minor": 0
      },
      "text/plain": [
       "validset:   0%|                                                                                  | 0/2 [00:00<…"
      ]
     },
     "metadata": {},
     "output_type": "display_data"
    },
    {
     "name": "stdout",
     "output_type": "stream",
     "text": [
      "epoch: 21\n",
      "train loss: 0.21285991867383322\n",
      "valid loss: 1.0348764061927795\n",
      "valid accuracy: 0.69377990430622\n",
      "——————————————————————————————————————————————\n"
     ]
    },
    {
     "data": {
      "application/vnd.jupyter.widget-view+json": {
       "model_id": "",
       "version_major": 2,
       "version_minor": 0
      },
      "text/plain": [
       "trainset:   0%|                                                                                  | 0/6 [00:00<…"
      ]
     },
     "metadata": {},
     "output_type": "display_data"
    },
    {
     "data": {
      "application/vnd.jupyter.widget-view+json": {
       "model_id": "",
       "version_major": 2,
       "version_minor": 0
      },
      "text/plain": [
       "validset:   0%|                                                                                  | 0/2 [00:00<…"
      ]
     },
     "metadata": {},
     "output_type": "display_data"
    },
    {
     "name": "stdout",
     "output_type": "stream",
     "text": [
      "epoch: 22\n",
      "train loss: 0.20371799916028976\n",
      "valid loss: 1.0806025266647339\n",
      "valid accuracy: 0.7368421052631579\n",
      "——————————————————————————————————————————————\n"
     ]
    },
    {
     "data": {
      "application/vnd.jupyter.widget-view+json": {
       "model_id": "",
       "version_major": 2,
       "version_minor": 0
      },
      "text/plain": [
       "trainset:   0%|                                                                                  | 0/6 [00:00<…"
      ]
     },
     "metadata": {},
     "output_type": "display_data"
    },
    {
     "data": {
      "application/vnd.jupyter.widget-view+json": {
       "model_id": "",
       "version_major": 2,
       "version_minor": 0
      },
      "text/plain": [
       "validset:   0%|                                                                                  | 0/2 [00:00<…"
      ]
     },
     "metadata": {},
     "output_type": "display_data"
    },
    {
     "name": "stdout",
     "output_type": "stream",
     "text": [
      "epoch: 23\n",
      "train loss: 0.18118554105361304\n",
      "valid loss: 1.0620994567871094\n",
      "valid accuracy: 0.6985645933014354\n",
      "——————————————————————————————————————————————\n"
     ]
    },
    {
     "data": {
      "application/vnd.jupyter.widget-view+json": {
       "model_id": "",
       "version_major": 2,
       "version_minor": 0
      },
      "text/plain": [
       "trainset:   0%|                                                                                  | 0/6 [00:00<…"
      ]
     },
     "metadata": {},
     "output_type": "display_data"
    },
    {
     "data": {
      "application/vnd.jupyter.widget-view+json": {
       "model_id": "",
       "version_major": 2,
       "version_minor": 0
      },
      "text/plain": [
       "validset:   0%|                                                                                  | 0/2 [00:00<…"
      ]
     },
     "metadata": {},
     "output_type": "display_data"
    },
    {
     "name": "stdout",
     "output_type": "stream",
     "text": [
      "epoch: 24\n",
      "train loss: 0.1762292558948199\n",
      "valid loss: 1.0613073706626892\n",
      "valid accuracy: 0.7033492822966507\n",
      "——————————————————————————————————————————————\n"
     ]
    },
    {
     "data": {
      "application/vnd.jupyter.widget-view+json": {
       "model_id": "",
       "version_major": 2,
       "version_minor": 0
      },
      "text/plain": [
       "trainset:   0%|                                                                                  | 0/6 [00:00<…"
      ]
     },
     "metadata": {},
     "output_type": "display_data"
    },
    {
     "data": {
      "application/vnd.jupyter.widget-view+json": {
       "model_id": "",
       "version_major": 2,
       "version_minor": 0
      },
      "text/plain": [
       "validset:   0%|                                                                                  | 0/2 [00:00<…"
      ]
     },
     "metadata": {},
     "output_type": "display_data"
    },
    {
     "name": "stdout",
     "output_type": "stream",
     "text": [
      "epoch: 25\n",
      "train loss: 0.1482169988254706\n",
      "valid loss: 1.096186339855194\n",
      "valid accuracy: 0.7368421052631579\n",
      "——————————————————————————————————————————————\n"
     ]
    },
    {
     "data": {
      "application/vnd.jupyter.widget-view+json": {
       "model_id": "",
       "version_major": 2,
       "version_minor": 0
      },
      "text/plain": [
       "trainset:   0%|                                                                                  | 0/6 [00:00<…"
      ]
     },
     "metadata": {},
     "output_type": "display_data"
    },
    {
     "data": {
      "application/vnd.jupyter.widget-view+json": {
       "model_id": "",
       "version_major": 2,
       "version_minor": 0
      },
      "text/plain": [
       "validset:   0%|                                                                                  | 0/2 [00:00<…"
      ]
     },
     "metadata": {},
     "output_type": "display_data"
    },
    {
     "name": "stdout",
     "output_type": "stream",
     "text": [
      "epoch: 26\n",
      "train loss: 0.12271497771143913\n",
      "valid loss: 1.0896676778793335\n",
      "valid accuracy: 0.7129186602870813\n",
      "——————————————————————————————————————————————\n"
     ]
    },
    {
     "data": {
      "application/vnd.jupyter.widget-view+json": {
       "model_id": "",
       "version_major": 2,
       "version_minor": 0
      },
      "text/plain": [
       "trainset:   0%|                                                                                  | 0/6 [00:00<…"
      ]
     },
     "metadata": {},
     "output_type": "display_data"
    },
    {
     "data": {
      "application/vnd.jupyter.widget-view+json": {
       "model_id": "",
       "version_major": 2,
       "version_minor": 0
      },
      "text/plain": [
       "validset:   0%|                                                                                  | 0/2 [00:00<…"
      ]
     },
     "metadata": {},
     "output_type": "display_data"
    },
    {
     "name": "stdout",
     "output_type": "stream",
     "text": [
      "epoch: 27\n",
      "train loss: 0.11782162884871165\n",
      "valid loss: 1.0872318744659424\n",
      "valid accuracy: 0.7320574162679426\n",
      "——————————————————————————————————————————————\n"
     ]
    },
    {
     "data": {
      "application/vnd.jupyter.widget-view+json": {
       "model_id": "",
       "version_major": 2,
       "version_minor": 0
      },
      "text/plain": [
       "trainset:   0%|                                                                                  | 0/6 [00:00<…"
      ]
     },
     "metadata": {},
     "output_type": "display_data"
    },
    {
     "data": {
      "application/vnd.jupyter.widget-view+json": {
       "model_id": "",
       "version_major": 2,
       "version_minor": 0
      },
      "text/plain": [
       "validset:   0%|                                                                                  | 0/2 [00:00<…"
      ]
     },
     "metadata": {},
     "output_type": "display_data"
    },
    {
     "name": "stdout",
     "output_type": "stream",
     "text": [
      "epoch: 28\n",
      "train loss: 0.1052653081715107\n",
      "valid loss: 1.1293259263038635\n",
      "valid accuracy: 0.7320574162679426\n",
      "——————————————————————————————————————————————\n"
     ]
    },
    {
     "data": {
      "application/vnd.jupyter.widget-view+json": {
       "model_id": "",
       "version_major": 2,
       "version_minor": 0
      },
      "text/plain": [
       "trainset:   0%|                                                                                  | 0/6 [00:00<…"
      ]
     },
     "metadata": {},
     "output_type": "display_data"
    },
    {
     "data": {
      "application/vnd.jupyter.widget-view+json": {
       "model_id": "",
       "version_major": 2,
       "version_minor": 0
      },
      "text/plain": [
       "validset:   0%|                                                                                  | 0/2 [00:00<…"
      ]
     },
     "metadata": {},
     "output_type": "display_data"
    },
    {
     "name": "stdout",
     "output_type": "stream",
     "text": [
      "epoch: 29\n",
      "train loss: 0.09343202784657478\n",
      "valid loss: 1.1425594687461853\n",
      "valid accuracy: 0.7081339712918661\n",
      "——————————————————————————————————————————————\n"
     ]
    },
    {
     "data": {
      "application/vnd.jupyter.widget-view+json": {
       "model_id": "",
       "version_major": 2,
       "version_minor": 0
      },
      "text/plain": [
       "trainset:   0%|                                                                                  | 0/6 [00:00<…"
      ]
     },
     "metadata": {},
     "output_type": "display_data"
    },
    {
     "data": {
      "application/vnd.jupyter.widget-view+json": {
       "model_id": "",
       "version_major": 2,
       "version_minor": 0
      },
      "text/plain": [
       "validset:   0%|                                                                                  | 0/2 [00:00<…"
      ]
     },
     "metadata": {},
     "output_type": "display_data"
    },
    {
     "name": "stdout",
     "output_type": "stream",
     "text": [
      "epoch: 30\n",
      "train loss: 0.08767187471191089\n",
      "valid loss: 1.130857765674591\n",
      "valid accuracy: 0.7320574162679426\n",
      "——————————————————————————————————————————————\n"
     ]
    },
    {
     "data": {
      "application/vnd.jupyter.widget-view+json": {
       "model_id": "",
       "version_major": 2,
       "version_minor": 0
      },
      "text/plain": [
       "trainset:   0%|                                                                                  | 0/6 [00:00<…"
      ]
     },
     "metadata": {},
     "output_type": "display_data"
    },
    {
     "data": {
      "application/vnd.jupyter.widget-view+json": {
       "model_id": "",
       "version_major": 2,
       "version_minor": 0
      },
      "text/plain": [
       "validset:   0%|                                                                                  | 0/2 [00:00<…"
      ]
     },
     "metadata": {},
     "output_type": "display_data"
    },
    {
     "name": "stdout",
     "output_type": "stream",
     "text": [
      "epoch: 31\n",
      "train loss: 0.08408034468690555\n",
      "valid loss: 1.139640748500824\n",
      "valid accuracy: 0.7129186602870813\n",
      "——————————————————————————————————————————————\n"
     ]
    },
    {
     "data": {
      "application/vnd.jupyter.widget-view+json": {
       "model_id": "",
       "version_major": 2,
       "version_minor": 0
      },
      "text/plain": [
       "trainset:   0%|                                                                                  | 0/6 [00:00<…"
      ]
     },
     "metadata": {},
     "output_type": "display_data"
    },
    {
     "data": {
      "application/vnd.jupyter.widget-view+json": {
       "model_id": "",
       "version_major": 2,
       "version_minor": 0
      },
      "text/plain": [
       "validset:   0%|                                                                                  | 0/2 [00:00<…"
      ]
     },
     "metadata": {},
     "output_type": "display_data"
    },
    {
     "name": "stdout",
     "output_type": "stream",
     "text": [
      "epoch: 32\n",
      "train loss: 0.07297161718209584\n",
      "valid loss: 1.2277202606201172\n",
      "valid accuracy: 0.7129186602870813\n",
      "——————————————————————————————————————————————\n"
     ]
    },
    {
     "data": {
      "application/vnd.jupyter.widget-view+json": {
       "model_id": "",
       "version_major": 2,
       "version_minor": 0
      },
      "text/plain": [
       "trainset:   0%|                                                                                  | 0/6 [00:00<…"
      ]
     },
     "metadata": {},
     "output_type": "display_data"
    },
    {
     "data": {
      "application/vnd.jupyter.widget-view+json": {
       "model_id": "",
       "version_major": 2,
       "version_minor": 0
      },
      "text/plain": [
       "validset:   0%|                                                                                  | 0/2 [00:00<…"
      ]
     },
     "metadata": {},
     "output_type": "display_data"
    },
    {
     "name": "stdout",
     "output_type": "stream",
     "text": [
      "epoch: 33\n",
      "train loss: 0.07061389523247878\n",
      "valid loss: 1.2322866320610046\n",
      "valid accuracy: 0.6985645933014354\n",
      "——————————————————————————————————————————————\n"
     ]
    },
    {
     "data": {
      "application/vnd.jupyter.widget-view+json": {
       "model_id": "",
       "version_major": 2,
       "version_minor": 0
      },
      "text/plain": [
       "trainset:   0%|                                                                                  | 0/6 [00:00<…"
      ]
     },
     "metadata": {},
     "output_type": "display_data"
    },
    {
     "data": {
      "application/vnd.jupyter.widget-view+json": {
       "model_id": "",
       "version_major": 2,
       "version_minor": 0
      },
      "text/plain": [
       "validset:   0%|                                                                                  | 0/2 [00:00<…"
      ]
     },
     "metadata": {},
     "output_type": "display_data"
    },
    {
     "name": "stdout",
     "output_type": "stream",
     "text": [
      "epoch: 34\n",
      "train loss: 0.06615132403870423\n",
      "valid loss: 1.2207797169685364\n",
      "valid accuracy: 0.7464114832535885\n",
      "——————————————————————————————————————————————\n"
     ]
    },
    {
     "data": {
      "application/vnd.jupyter.widget-view+json": {
       "model_id": "",
       "version_major": 2,
       "version_minor": 0
      },
      "text/plain": [
       "trainset:   0%|                                                                                  | 0/6 [00:00<…"
      ]
     },
     "metadata": {},
     "output_type": "display_data"
    },
    {
     "data": {
      "application/vnd.jupyter.widget-view+json": {
       "model_id": "",
       "version_major": 2,
       "version_minor": 0
      },
      "text/plain": [
       "validset:   0%|                                                                                  | 0/2 [00:00<…"
      ]
     },
     "metadata": {},
     "output_type": "display_data"
    },
    {
     "name": "stdout",
     "output_type": "stream",
     "text": [
      "epoch: 35\n",
      "train loss: 0.06068310079475244\n",
      "valid loss: 1.2312549948692322\n",
      "valid accuracy: 0.6985645933014354\n",
      "——————————————————————————————————————————————\n"
     ]
    },
    {
     "data": {
      "application/vnd.jupyter.widget-view+json": {
       "model_id": "",
       "version_major": 2,
       "version_minor": 0
      },
      "text/plain": [
       "trainset:   0%|                                                                                  | 0/6 [00:00<…"
      ]
     },
     "metadata": {},
     "output_type": "display_data"
    },
    {
     "data": {
      "application/vnd.jupyter.widget-view+json": {
       "model_id": "",
       "version_major": 2,
       "version_minor": 0
      },
      "text/plain": [
       "validset:   0%|                                                                                  | 0/2 [00:00<…"
      ]
     },
     "metadata": {},
     "output_type": "display_data"
    },
    {
     "name": "stdout",
     "output_type": "stream",
     "text": [
      "epoch: 36\n",
      "train loss: 0.05416193356116613\n",
      "valid loss: 1.247413992881775\n",
      "valid accuracy: 0.7320574162679426\n",
      "——————————————————————————————————————————————\n"
     ]
    },
    {
     "data": {
      "application/vnd.jupyter.widget-view+json": {
       "model_id": "",
       "version_major": 2,
       "version_minor": 0
      },
      "text/plain": [
       "trainset:   0%|                                                                                  | 0/6 [00:00<…"
      ]
     },
     "metadata": {},
     "output_type": "display_data"
    },
    {
     "data": {
      "application/vnd.jupyter.widget-view+json": {
       "model_id": "",
       "version_major": 2,
       "version_minor": 0
      },
      "text/plain": [
       "validset:   0%|                                                                                  | 0/2 [00:00<…"
      ]
     },
     "metadata": {},
     "output_type": "display_data"
    },
    {
     "name": "stdout",
     "output_type": "stream",
     "text": [
      "early stop\n"
     ]
    }
   ],
   "source": [
    "train_lost_epoch=[]\n",
    "valid_lost_epoch=[]\n",
    "valid_accuracy_list=[]\n",
    "for epoch in tqdm(range(epochs),desc='epoch'):\n",
    "    model.train()\n",
    "    loss_list=[]\n",
    "    i=0\n",
    "    for batch in tqdm(train_dataloader,desc='trainset',leave=False):\n",
    "        model.zero_grad() \n",
    "        optimizer.zero_grad()\n",
    "        input_ids = batch['input_ids'].to(device)\n",
    "        token_type_ids = batch['token_type_ids'].to(device)\n",
    "        attention_mask = batch['attention_mask'].to(device)\n",
    "        target=torch.tensor(y_train[i:i+bat_size]).to(device)\n",
    "        i+=bat_size\n",
    "        outputs = model(input_ids, \n",
    "                            token_type_ids, \n",
    "                            attention_mask, \n",
    "                            labels=target)\n",
    "    \n",
    "        loss = outputs.loss\n",
    "        logits = outputs.logits\n",
    "        loss.backward()\n",
    "        optimizer.step()\n",
    "        loss_list.append(loss.item())\n",
    "    train_lost_epoch.append(np.mean(loss_list))\n",
    "    model.eval()\n",
    "    loss_list=[]\n",
    "    i=0\n",
    "    num_correct=0\n",
    "    for batch in tqdm(valid_dataloader,desc='validset',leave=False):\n",
    "        with torch.no_grad():  \n",
    "            input_ids = batch['input_ids'].to(device)\n",
    "            token_type_ids = batch['token_type_ids'].to(device)\n",
    "            attention_mask = batch['attention_mask'].to(device)\n",
    "\n",
    "            target=torch.tensor(y_valid[i:i+bat_size]).to(device)\n",
    "            i+=bat_size\n",
    "            outputs = model(input_ids, \n",
    "                                token_type_ids, \n",
    "                                attention_mask, \n",
    "                                labels=target)\n",
    "            loss = outputs.loss\n",
    "            logits = outputs.logits\n",
    "            loss_list.append(loss.item())\n",
    "            pred_flat = np.argmax(logits.detach().cpu().numpy(), axis=1).flatten()\n",
    "            labels_flat = target.to('cpu').numpy().flatten()\n",
    "            num_correct += np.sum(pred_flat == labels_flat)\n",
    "    valid_accuracy=num_correct/len(y_valid)\n",
    "    if  epoch==0:\n",
    "        torch.save(model.state_dict(), \"my_model\")\n",
    "    else:\n",
    "        if  valid_accuracy>max(valid_accuracy_list):\n",
    "            torch.save(model.state_dict(), \"my_model\")\n",
    "    if epoch>=10:\n",
    "        if valid_accuracy<min(valid_accuracy_list[-10:-1]):\n",
    "            print(\"early stop\")\n",
    "            break\n",
    "    valid_accuracy_list.append(valid_accuracy)\n",
    "    valid_lost_epoch.append(np.mean(loss_list))\n",
    "    print(\"epoch: \"+str(epoch))\n",
    "    print(\"train loss: \"+str(train_lost_epoch[-1]))\n",
    "    print(\"valid loss: \"+str(valid_lost_epoch[-1]))\n",
    "    print(\"valid accuracy: \"+str(valid_accuracy))\n",
    "    print(\"——————————————————————————————————————————————\")"
   ]
  },
  {
   "cell_type": "code",
   "execution_count": 48,
   "id": "6e8a5c88",
   "metadata": {
    "scrolled": false
   },
   "outputs": [
    {
     "name": "stdout",
     "output_type": "stream",
     "text": [
      "0.7464114832535885\n"
     ]
    }
   ],
   "source": [
    "print(max(valid_accuracy_list))"
   ]
  },
  {
   "cell_type": "markdown",
   "id": "ad946e64",
   "metadata": {},
   "source": [
    "## baseline"
   ]
  },
  {
   "cell_type": "code",
   "execution_count": 49,
   "id": "ff9f3167",
   "metadata": {},
   "outputs": [],
   "source": [
    "import os\n",
    "import openai\n",
    "import time\n",
    "from auto_tqdm import tqdm\n",
    "def rephrase_by_chatgpt(text):\n",
    "    file1=open(\"api_key.txt\",'r')\n",
    "    api_key=file1.read()\n",
    "    openai.api_key=api_key\n",
    "    completion = openai.ChatCompletion.create(\n",
    "    model=\"gpt-3.5-turbo\",\n",
    "    messages=[{'role': 'user', 'content': \"Please rephrase the following sentence: \" +text}])\n",
    "    return completion.choices[0].message.content"
   ]
  },
  {
   "cell_type": "code",
   "execution_count": 50,
   "id": "2c239203",
   "metadata": {},
   "outputs": [
    {
     "data": {
      "text/plain": [
       "'It continues to flow for as long as the rain falls.'"
      ]
     },
     "execution_count": 50,
     "metadata": {},
     "output_type": "execute_result"
    }
   ],
   "source": [
    "rephrase_by_chatgpt(X_train_original[1])"
   ]
  },
  {
   "cell_type": "code",
   "execution_count": 51,
   "id": "1b47d538",
   "metadata": {},
   "outputs": [],
   "source": [
    "# x_new=[]\n",
    "# y_new=[]\n",
    "# for i in tqdm(range(len(X_train_original))):\n",
    "#     count=0\n",
    "#     while(count!=1):\n",
    "#         try:\n",
    "#             ans=rephrase_by_chatgpt(X_train_original[i])\n",
    "#             x_new.append(ans)\n",
    "#             y_new.append(y_train_original[i])\n",
    "#             count=1  \n",
    "#         except:\n",
    "#             time.sleep(0.5)"
   ]
  },
  {
   "cell_type": "code",
   "execution_count": 52,
   "id": "b4457082",
   "metadata": {},
   "outputs": [],
   "source": [
    "# base_dict={\"verse_text\":x_new,\"label\":y_new}\n",
    "# new_df=pd.DataFrame.from_dict(base_dict)\n",
    "# new_df.to_csv(\"chatgpt_poem_base\")\n",
    "new_df=pd.read_csv(\"chatgpt_poem_base\")\n",
    "X_train_base=list(X_train_original)+list(new_df['verse_text'])\n",
    "y_train_base=list(y_train_original)+list(new_df['label'])\n",
    "X_train=tokenizer(list(X_train_base),truncation=True, padding=True, max_length=12,return_tensors='pt')\n",
    "y_train=list(y_train_base)\n",
    "from torch.utils.data import DataLoader\n",
    "train_dataloader = DataLoader(MyData(X_train) , batch_size=bat_size,shuffle = False)"
   ]
  },
  {
   "cell_type": "code",
   "execution_count": 53,
   "id": "d5f61169",
   "metadata": {},
   "outputs": [
    {
     "name": "stderr",
     "output_type": "stream",
     "text": [
      "Some weights of the model checkpoint at bert-base-uncased were not used when initializing BertForSequenceClassification: ['cls.seq_relationship.weight', 'cls.predictions.bias', 'cls.predictions.transform.dense.bias', 'cls.predictions.decoder.weight', 'cls.predictions.transform.LayerNorm.bias', 'cls.seq_relationship.bias', 'cls.predictions.transform.LayerNorm.weight', 'cls.predictions.transform.dense.weight']\n",
      "- This IS expected if you are initializing BertForSequenceClassification from the checkpoint of a model trained on another task or with another architecture (e.g. initializing a BertForSequenceClassification model from a BertForPreTraining model).\n",
      "- This IS NOT expected if you are initializing BertForSequenceClassification from the checkpoint of a model that you expect to be exactly identical (initializing a BertForSequenceClassification model from a BertForSequenceClassification model).\n",
      "Some weights of BertForSequenceClassification were not initialized from the model checkpoint at bert-base-uncased and are newly initialized: ['classifier.weight', 'classifier.bias']\n",
      "You should probably TRAIN this model on a down-stream task to be able to use it for predictions and inference.\n",
      "F:\\anaconda\\lib\\site-packages\\transformers\\optimization.py:391: FutureWarning: This implementation of AdamW is deprecated and will be removed in a future version. Use the PyTorch implementation torch.optim.AdamW instead, or set `no_deprecation_warning=True` to disable this warning\n",
      "  warnings.warn(\n"
     ]
    }
   ],
   "source": [
    "model= BertForSequenceClassification.from_pretrained(\n",
    "    \"bert-base-uncased\", \n",
    "    num_labels = 4,    \n",
    "    output_attentions = False, \n",
    "    output_hidden_states = False,\n",
    ")\n",
    "model.to(device)\n",
    "optimizer = AdamW(model.parameters(),\n",
    "                  lr = 1e-5, # args.learning_rate - default is 5e-5\n",
    "                  eps = 1e-8, # args.adam_epsilon  - default is 1e-8\n",
    "                  weight_decay=0.01,\n",
    "                  correct_bias=True\n",
    "                )\n",
    "epochs = 50"
   ]
  },
  {
   "cell_type": "code",
   "execution_count": 54,
   "id": "30adba30",
   "metadata": {
    "scrolled": true
   },
   "outputs": [
    {
     "data": {
      "application/vnd.jupyter.widget-view+json": {
       "model_id": "f031474c499444afbff974427e05a592",
       "version_major": 2,
       "version_minor": 0
      },
      "text/plain": [
       "epoch:   0%|                                                                                    | 0/50 [00:00<…"
      ]
     },
     "metadata": {},
     "output_type": "display_data"
    },
    {
     "data": {
      "application/vnd.jupyter.widget-view+json": {
       "model_id": "",
       "version_major": 2,
       "version_minor": 0
      },
      "text/plain": [
       "trainset:   0%|                                                                                 | 0/11 [00:00<…"
      ]
     },
     "metadata": {},
     "output_type": "display_data"
    },
    {
     "data": {
      "application/vnd.jupyter.widget-view+json": {
       "model_id": "",
       "version_major": 2,
       "version_minor": 0
      },
      "text/plain": [
       "validset:   0%|                                                                                  | 0/2 [00:00<…"
      ]
     },
     "metadata": {},
     "output_type": "display_data"
    },
    {
     "name": "stdout",
     "output_type": "stream",
     "text": [
      "epoch: 0\n",
      "train loss: 1.14312021298842\n",
      "valid loss: 0.9796668887138367\n",
      "valid accuracy: 0.6602870813397129\n",
      "——————————————————————————————————————————————\n"
     ]
    },
    {
     "data": {
      "application/vnd.jupyter.widget-view+json": {
       "model_id": "",
       "version_major": 2,
       "version_minor": 0
      },
      "text/plain": [
       "trainset:   0%|                                                                                 | 0/11 [00:00<…"
      ]
     },
     "metadata": {},
     "output_type": "display_data"
    },
    {
     "data": {
      "application/vnd.jupyter.widget-view+json": {
       "model_id": "",
       "version_major": 2,
       "version_minor": 0
      },
      "text/plain": [
       "validset:   0%|                                                                                  | 0/2 [00:00<…"
      ]
     },
     "metadata": {},
     "output_type": "display_data"
    },
    {
     "name": "stdout",
     "output_type": "stream",
     "text": [
      "epoch: 1\n",
      "train loss: 1.0268731930039146\n",
      "valid loss: 0.929713249206543\n",
      "valid accuracy: 0.6602870813397129\n",
      "——————————————————————————————————————————————\n"
     ]
    },
    {
     "data": {
      "application/vnd.jupyter.widget-view+json": {
       "model_id": "",
       "version_major": 2,
       "version_minor": 0
      },
      "text/plain": [
       "trainset:   0%|                                                                                 | 0/11 [00:00<…"
      ]
     },
     "metadata": {},
     "output_type": "display_data"
    },
    {
     "data": {
      "application/vnd.jupyter.widget-view+json": {
       "model_id": "",
       "version_major": 2,
       "version_minor": 0
      },
      "text/plain": [
       "validset:   0%|                                                                                  | 0/2 [00:00<…"
      ]
     },
     "metadata": {},
     "output_type": "display_data"
    },
    {
     "name": "stdout",
     "output_type": "stream",
     "text": [
      "epoch: 2\n",
      "train loss: 1.0013412291353398\n",
      "valid loss: 0.9047386646270752\n",
      "valid accuracy: 0.6602870813397129\n",
      "——————————————————————————————————————————————\n"
     ]
    },
    {
     "data": {
      "application/vnd.jupyter.widget-view+json": {
       "model_id": "",
       "version_major": 2,
       "version_minor": 0
      },
      "text/plain": [
       "trainset:   0%|                                                                                 | 0/11 [00:00<…"
      ]
     },
     "metadata": {},
     "output_type": "display_data"
    },
    {
     "data": {
      "application/vnd.jupyter.widget-view+json": {
       "model_id": "",
       "version_major": 2,
       "version_minor": 0
      },
      "text/plain": [
       "validset:   0%|                                                                                  | 0/2 [00:00<…"
      ]
     },
     "metadata": {},
     "output_type": "display_data"
    },
    {
     "name": "stdout",
     "output_type": "stream",
     "text": [
      "epoch: 3\n",
      "train loss: 0.9557891596447338\n",
      "valid loss: 0.8863883018493652\n",
      "valid accuracy: 0.6602870813397129\n",
      "——————————————————————————————————————————————\n"
     ]
    },
    {
     "data": {
      "application/vnd.jupyter.widget-view+json": {
       "model_id": "",
       "version_major": 2,
       "version_minor": 0
      },
      "text/plain": [
       "trainset:   0%|                                                                                 | 0/11 [00:00<…"
      ]
     },
     "metadata": {},
     "output_type": "display_data"
    },
    {
     "data": {
      "application/vnd.jupyter.widget-view+json": {
       "model_id": "",
       "version_major": 2,
       "version_minor": 0
      },
      "text/plain": [
       "validset:   0%|                                                                                  | 0/2 [00:00<…"
      ]
     },
     "metadata": {},
     "output_type": "display_data"
    },
    {
     "name": "stdout",
     "output_type": "stream",
     "text": [
      "epoch: 4\n",
      "train loss: 0.8926624330607328\n",
      "valid loss: 0.8593977987766266\n",
      "valid accuracy: 0.6842105263157895\n",
      "——————————————————————————————————————————————\n"
     ]
    },
    {
     "data": {
      "application/vnd.jupyter.widget-view+json": {
       "model_id": "",
       "version_major": 2,
       "version_minor": 0
      },
      "text/plain": [
       "trainset:   0%|                                                                                 | 0/11 [00:00<…"
      ]
     },
     "metadata": {},
     "output_type": "display_data"
    },
    {
     "data": {
      "application/vnd.jupyter.widget-view+json": {
       "model_id": "",
       "version_major": 2,
       "version_minor": 0
      },
      "text/plain": [
       "validset:   0%|                                                                                  | 0/2 [00:00<…"
      ]
     },
     "metadata": {},
     "output_type": "display_data"
    },
    {
     "name": "stdout",
     "output_type": "stream",
     "text": [
      "epoch: 5\n",
      "train loss: 0.8146767182783647\n",
      "valid loss: 0.8074006736278534\n",
      "valid accuracy: 0.7129186602870813\n",
      "——————————————————————————————————————————————\n"
     ]
    },
    {
     "data": {
      "application/vnd.jupyter.widget-view+json": {
       "model_id": "",
       "version_major": 2,
       "version_minor": 0
      },
      "text/plain": [
       "trainset:   0%|                                                                                 | 0/11 [00:00<…"
      ]
     },
     "metadata": {},
     "output_type": "display_data"
    },
    {
     "data": {
      "application/vnd.jupyter.widget-view+json": {
       "model_id": "",
       "version_major": 2,
       "version_minor": 0
      },
      "text/plain": [
       "validset:   0%|                                                                                  | 0/2 [00:00<…"
      ]
     },
     "metadata": {},
     "output_type": "display_data"
    },
    {
     "name": "stdout",
     "output_type": "stream",
     "text": [
      "epoch: 6\n",
      "train loss: 0.721032895825126\n",
      "valid loss: 0.7877430617809296\n",
      "valid accuracy: 0.7272727272727273\n",
      "——————————————————————————————————————————————\n"
     ]
    },
    {
     "data": {
      "application/vnd.jupyter.widget-view+json": {
       "model_id": "",
       "version_major": 2,
       "version_minor": 0
      },
      "text/plain": [
       "trainset:   0%|                                                                                 | 0/11 [00:00<…"
      ]
     },
     "metadata": {},
     "output_type": "display_data"
    },
    {
     "data": {
      "application/vnd.jupyter.widget-view+json": {
       "model_id": "",
       "version_major": 2,
       "version_minor": 0
      },
      "text/plain": [
       "validset:   0%|                                                                                  | 0/2 [00:00<…"
      ]
     },
     "metadata": {},
     "output_type": "display_data"
    },
    {
     "name": "stdout",
     "output_type": "stream",
     "text": [
      "epoch: 7\n",
      "train loss: 0.6548753543333574\n",
      "valid loss: 0.7972751557826996\n",
      "valid accuracy: 0.7559808612440191\n",
      "——————————————————————————————————————————————\n"
     ]
    },
    {
     "data": {
      "application/vnd.jupyter.widget-view+json": {
       "model_id": "",
       "version_major": 2,
       "version_minor": 0
      },
      "text/plain": [
       "trainset:   0%|                                                                                 | 0/11 [00:00<…"
      ]
     },
     "metadata": {},
     "output_type": "display_data"
    },
    {
     "data": {
      "application/vnd.jupyter.widget-view+json": {
       "model_id": "",
       "version_major": 2,
       "version_minor": 0
      },
      "text/plain": [
       "validset:   0%|                                                                                  | 0/2 [00:00<…"
      ]
     },
     "metadata": {},
     "output_type": "display_data"
    },
    {
     "name": "stdout",
     "output_type": "stream",
     "text": [
      "epoch: 8\n",
      "train loss: 0.5760138197378679\n",
      "valid loss: 0.8543191850185394\n",
      "valid accuracy: 0.7320574162679426\n",
      "——————————————————————————————————————————————\n"
     ]
    },
    {
     "data": {
      "application/vnd.jupyter.widget-view+json": {
       "model_id": "",
       "version_major": 2,
       "version_minor": 0
      },
      "text/plain": [
       "trainset:   0%|                                                                                 | 0/11 [00:00<…"
      ]
     },
     "metadata": {},
     "output_type": "display_data"
    },
    {
     "data": {
      "application/vnd.jupyter.widget-view+json": {
       "model_id": "",
       "version_major": 2,
       "version_minor": 0
      },
      "text/plain": [
       "validset:   0%|                                                                                  | 0/2 [00:00<…"
      ]
     },
     "metadata": {},
     "output_type": "display_data"
    },
    {
     "name": "stdout",
     "output_type": "stream",
     "text": [
      "epoch: 9\n",
      "train loss: 0.519777777520093\n",
      "valid loss: 0.934749960899353\n",
      "valid accuracy: 0.7081339712918661\n",
      "——————————————————————————————————————————————\n"
     ]
    },
    {
     "data": {
      "application/vnd.jupyter.widget-view+json": {
       "model_id": "",
       "version_major": 2,
       "version_minor": 0
      },
      "text/plain": [
       "trainset:   0%|                                                                                 | 0/11 [00:00<…"
      ]
     },
     "metadata": {},
     "output_type": "display_data"
    },
    {
     "data": {
      "application/vnd.jupyter.widget-view+json": {
       "model_id": "",
       "version_major": 2,
       "version_minor": 0
      },
      "text/plain": [
       "validset:   0%|                                                                                  | 0/2 [00:00<…"
      ]
     },
     "metadata": {},
     "output_type": "display_data"
    },
    {
     "name": "stdout",
     "output_type": "stream",
     "text": [
      "epoch: 10\n",
      "train loss: 0.4896187348799272\n",
      "valid loss: 0.9325160980224609\n",
      "valid accuracy: 0.69377990430622\n",
      "——————————————————————————————————————————————\n"
     ]
    },
    {
     "data": {
      "application/vnd.jupyter.widget-view+json": {
       "model_id": "",
       "version_major": 2,
       "version_minor": 0
      },
      "text/plain": [
       "trainset:   0%|                                                                                 | 0/11 [00:00<…"
      ]
     },
     "metadata": {},
     "output_type": "display_data"
    },
    {
     "data": {
      "application/vnd.jupyter.widget-view+json": {
       "model_id": "",
       "version_major": 2,
       "version_minor": 0
      },
      "text/plain": [
       "validset:   0%|                                                                                  | 0/2 [00:00<…"
      ]
     },
     "metadata": {},
     "output_type": "display_data"
    },
    {
     "name": "stdout",
     "output_type": "stream",
     "text": [
      "epoch: 11\n",
      "train loss: 0.4732683138413863\n",
      "valid loss: 0.9329074919223785\n",
      "valid accuracy: 0.6602870813397129\n",
      "——————————————————————————————————————————————\n"
     ]
    },
    {
     "data": {
      "application/vnd.jupyter.widget-view+json": {
       "model_id": "",
       "version_major": 2,
       "version_minor": 0
      },
      "text/plain": [
       "trainset:   0%|                                                                                 | 0/11 [00:00<…"
      ]
     },
     "metadata": {},
     "output_type": "display_data"
    },
    {
     "data": {
      "application/vnd.jupyter.widget-view+json": {
       "model_id": "",
       "version_major": 2,
       "version_minor": 0
      },
      "text/plain": [
       "validset:   0%|                                                                                  | 0/2 [00:00<…"
      ]
     },
     "metadata": {},
     "output_type": "display_data"
    },
    {
     "name": "stdout",
     "output_type": "stream",
     "text": [
      "epoch: 12\n",
      "train loss: 0.43721178444949066\n",
      "valid loss: 0.7880803346633911\n",
      "valid accuracy: 0.7320574162679426\n",
      "——————————————————————————————————————————————\n"
     ]
    },
    {
     "data": {
      "application/vnd.jupyter.widget-view+json": {
       "model_id": "",
       "version_major": 2,
       "version_minor": 0
      },
      "text/plain": [
       "trainset:   0%|                                                                                 | 0/11 [00:00<…"
      ]
     },
     "metadata": {},
     "output_type": "display_data"
    },
    {
     "data": {
      "application/vnd.jupyter.widget-view+json": {
       "model_id": "",
       "version_major": 2,
       "version_minor": 0
      },
      "text/plain": [
       "validset:   0%|                                                                                  | 0/2 [00:00<…"
      ]
     },
     "metadata": {},
     "output_type": "display_data"
    },
    {
     "name": "stdout",
     "output_type": "stream",
     "text": [
      "epoch: 13\n",
      "train loss: 0.3893626088445837\n",
      "valid loss: 0.984249472618103\n",
      "valid accuracy: 0.7177033492822966\n",
      "——————————————————————————————————————————————\n"
     ]
    },
    {
     "data": {
      "application/vnd.jupyter.widget-view+json": {
       "model_id": "",
       "version_major": 2,
       "version_minor": 0
      },
      "text/plain": [
       "trainset:   0%|                                                                                 | 0/11 [00:00<…"
      ]
     },
     "metadata": {},
     "output_type": "display_data"
    },
    {
     "data": {
      "application/vnd.jupyter.widget-view+json": {
       "model_id": "",
       "version_major": 2,
       "version_minor": 0
      },
      "text/plain": [
       "validset:   0%|                                                                                  | 0/2 [00:00<…"
      ]
     },
     "metadata": {},
     "output_type": "display_data"
    },
    {
     "name": "stdout",
     "output_type": "stream",
     "text": [
      "epoch: 14\n",
      "train loss: 0.36256465315818787\n",
      "valid loss: 0.9371805489063263\n",
      "valid accuracy: 0.7081339712918661\n",
      "——————————————————————————————————————————————\n"
     ]
    },
    {
     "data": {
      "application/vnd.jupyter.widget-view+json": {
       "model_id": "",
       "version_major": 2,
       "version_minor": 0
      },
      "text/plain": [
       "trainset:   0%|                                                                                 | 0/11 [00:00<…"
      ]
     },
     "metadata": {},
     "output_type": "display_data"
    },
    {
     "data": {
      "application/vnd.jupyter.widget-view+json": {
       "model_id": "",
       "version_major": 2,
       "version_minor": 0
      },
      "text/plain": [
       "validset:   0%|                                                                                  | 0/2 [00:00<…"
      ]
     },
     "metadata": {},
     "output_type": "display_data"
    },
    {
     "name": "stdout",
     "output_type": "stream",
     "text": [
      "epoch: 15\n",
      "train loss: 0.300536264072765\n",
      "valid loss: 0.8141528069972992\n",
      "valid accuracy: 0.7607655502392344\n",
      "——————————————————————————————————————————————\n"
     ]
    },
    {
     "data": {
      "application/vnd.jupyter.widget-view+json": {
       "model_id": "",
       "version_major": 2,
       "version_minor": 0
      },
      "text/plain": [
       "trainset:   0%|                                                                                 | 0/11 [00:00<…"
      ]
     },
     "metadata": {},
     "output_type": "display_data"
    },
    {
     "data": {
      "application/vnd.jupyter.widget-view+json": {
       "model_id": "",
       "version_major": 2,
       "version_minor": 0
      },
      "text/plain": [
       "validset:   0%|                                                                                  | 0/2 [00:00<…"
      ]
     },
     "metadata": {},
     "output_type": "display_data"
    },
    {
     "name": "stdout",
     "output_type": "stream",
     "text": [
      "epoch: 16\n",
      "train loss: 0.23065392131155188\n",
      "valid loss: 0.9128938019275665\n",
      "valid accuracy: 0.7464114832535885\n",
      "——————————————————————————————————————————————\n"
     ]
    },
    {
     "data": {
      "application/vnd.jupyter.widget-view+json": {
       "model_id": "",
       "version_major": 2,
       "version_minor": 0
      },
      "text/plain": [
       "trainset:   0%|                                                                                 | 0/11 [00:00<…"
      ]
     },
     "metadata": {},
     "output_type": "display_data"
    },
    {
     "data": {
      "application/vnd.jupyter.widget-view+json": {
       "model_id": "",
       "version_major": 2,
       "version_minor": 0
      },
      "text/plain": [
       "validset:   0%|                                                                                  | 0/2 [00:00<…"
      ]
     },
     "metadata": {},
     "output_type": "display_data"
    },
    {
     "name": "stdout",
     "output_type": "stream",
     "text": [
      "epoch: 17\n",
      "train loss: 0.194395743987777\n",
      "valid loss: 0.9388521015644073\n",
      "valid accuracy: 0.7559808612440191\n",
      "——————————————————————————————————————————————\n"
     ]
    },
    {
     "data": {
      "application/vnd.jupyter.widget-view+json": {
       "model_id": "",
       "version_major": 2,
       "version_minor": 0
      },
      "text/plain": [
       "trainset:   0%|                                                                                 | 0/11 [00:00<…"
      ]
     },
     "metadata": {},
     "output_type": "display_data"
    },
    {
     "data": {
      "application/vnd.jupyter.widget-view+json": {
       "model_id": "",
       "version_major": 2,
       "version_minor": 0
      },
      "text/plain": [
       "validset:   0%|                                                                                  | 0/2 [00:00<…"
      ]
     },
     "metadata": {},
     "output_type": "display_data"
    },
    {
     "name": "stdout",
     "output_type": "stream",
     "text": [
      "epoch: 18\n",
      "train loss: 0.1562873531471599\n",
      "valid loss: 1.0304115414619446\n",
      "valid accuracy: 0.7368421052631579\n",
      "——————————————————————————————————————————————\n"
     ]
    },
    {
     "data": {
      "application/vnd.jupyter.widget-view+json": {
       "model_id": "",
       "version_major": 2,
       "version_minor": 0
      },
      "text/plain": [
       "trainset:   0%|                                                                                 | 0/11 [00:00<…"
      ]
     },
     "metadata": {},
     "output_type": "display_data"
    },
    {
     "data": {
      "application/vnd.jupyter.widget-view+json": {
       "model_id": "",
       "version_major": 2,
       "version_minor": 0
      },
      "text/plain": [
       "validset:   0%|                                                                                  | 0/2 [00:00<…"
      ]
     },
     "metadata": {},
     "output_type": "display_data"
    },
    {
     "name": "stdout",
     "output_type": "stream",
     "text": [
      "epoch: 19\n",
      "train loss: 0.1310361779548905\n",
      "valid loss: 1.0253433883190155\n",
      "valid accuracy: 0.722488038277512\n",
      "——————————————————————————————————————————————\n"
     ]
    },
    {
     "data": {
      "application/vnd.jupyter.widget-view+json": {
       "model_id": "",
       "version_major": 2,
       "version_minor": 0
      },
      "text/plain": [
       "trainset:   0%|                                                                                 | 0/11 [00:00<…"
      ]
     },
     "metadata": {},
     "output_type": "display_data"
    },
    {
     "data": {
      "application/vnd.jupyter.widget-view+json": {
       "model_id": "",
       "version_major": 2,
       "version_minor": 0
      },
      "text/plain": [
       "validset:   0%|                                                                                  | 0/2 [00:00<…"
      ]
     },
     "metadata": {},
     "output_type": "display_data"
    },
    {
     "name": "stdout",
     "output_type": "stream",
     "text": [
      "epoch: 20\n",
      "train loss: 0.10582554137164896\n",
      "valid loss: 1.0431211292743683\n",
      "valid accuracy: 0.7272727272727273\n",
      "——————————————————————————————————————————————\n"
     ]
    },
    {
     "data": {
      "application/vnd.jupyter.widget-view+json": {
       "model_id": "",
       "version_major": 2,
       "version_minor": 0
      },
      "text/plain": [
       "trainset:   0%|                                                                                 | 0/11 [00:00<…"
      ]
     },
     "metadata": {},
     "output_type": "display_data"
    },
    {
     "data": {
      "application/vnd.jupyter.widget-view+json": {
       "model_id": "",
       "version_major": 2,
       "version_minor": 0
      },
      "text/plain": [
       "validset:   0%|                                                                                  | 0/2 [00:00<…"
      ]
     },
     "metadata": {},
     "output_type": "display_data"
    },
    {
     "name": "stdout",
     "output_type": "stream",
     "text": [
      "epoch: 21\n",
      "train loss: 0.09070613370700316\n",
      "valid loss: 1.0770219564437866\n",
      "valid accuracy: 0.7272727272727273\n",
      "——————————————————————————————————————————————\n"
     ]
    },
    {
     "data": {
      "application/vnd.jupyter.widget-view+json": {
       "model_id": "",
       "version_major": 2,
       "version_minor": 0
      },
      "text/plain": [
       "trainset:   0%|                                                                                 | 0/11 [00:00<…"
      ]
     },
     "metadata": {},
     "output_type": "display_data"
    },
    {
     "data": {
      "application/vnd.jupyter.widget-view+json": {
       "model_id": "",
       "version_major": 2,
       "version_minor": 0
      },
      "text/plain": [
       "validset:   0%|                                                                                  | 0/2 [00:00<…"
      ]
     },
     "metadata": {},
     "output_type": "display_data"
    },
    {
     "name": "stdout",
     "output_type": "stream",
     "text": [
      "epoch: 22\n",
      "train loss: 0.07716849581761794\n",
      "valid loss: 1.1558043956756592\n",
      "valid accuracy: 0.7320574162679426\n",
      "——————————————————————————————————————————————\n"
     ]
    },
    {
     "data": {
      "application/vnd.jupyter.widget-view+json": {
       "model_id": "",
       "version_major": 2,
       "version_minor": 0
      },
      "text/plain": [
       "trainset:   0%|                                                                                 | 0/11 [00:00<…"
      ]
     },
     "metadata": {},
     "output_type": "display_data"
    },
    {
     "data": {
      "application/vnd.jupyter.widget-view+json": {
       "model_id": "",
       "version_major": 2,
       "version_minor": 0
      },
      "text/plain": [
       "validset:   0%|                                                                                  | 0/2 [00:00<…"
      ]
     },
     "metadata": {},
     "output_type": "display_data"
    },
    {
     "name": "stdout",
     "output_type": "stream",
     "text": [
      "epoch: 23\n",
      "train loss: 0.06735729019750249\n",
      "valid loss: 1.1525227427482605\n",
      "valid accuracy: 0.7511961722488039\n",
      "——————————————————————————————————————————————\n"
     ]
    },
    {
     "data": {
      "application/vnd.jupyter.widget-view+json": {
       "model_id": "",
       "version_major": 2,
       "version_minor": 0
      },
      "text/plain": [
       "trainset:   0%|                                                                                 | 0/11 [00:00<…"
      ]
     },
     "metadata": {},
     "output_type": "display_data"
    },
    {
     "data": {
      "application/vnd.jupyter.widget-view+json": {
       "model_id": "",
       "version_major": 2,
       "version_minor": 0
      },
      "text/plain": [
       "validset:   0%|                                                                                  | 0/2 [00:00<…"
      ]
     },
     "metadata": {},
     "output_type": "display_data"
    },
    {
     "name": "stdout",
     "output_type": "stream",
     "text": [
      "early stop\n"
     ]
    }
   ],
   "source": [
    "train_lost_epoch=[]\n",
    "valid_lost_epoch=[]\n",
    "valid_accuracy_list=[]\n",
    "for epoch in tqdm(range(epochs),desc='epoch'):\n",
    "    model.train()\n",
    "    loss_list=[]\n",
    "    i=0\n",
    "    for batch in tqdm(train_dataloader,desc='trainset',leave=False):\n",
    "        model.zero_grad() \n",
    "        optimizer.zero_grad()\n",
    "        input_ids = batch['input_ids'].to(device)\n",
    "        token_type_ids = batch['token_type_ids'].to(device)\n",
    "        attention_mask = batch['attention_mask'].to(device)\n",
    "        target=torch.tensor(y_train[i:i+bat_size]).to(device)\n",
    "        i+=bat_size\n",
    "        outputs = model(input_ids, \n",
    "                            token_type_ids, \n",
    "                            attention_mask, \n",
    "                            labels=target)\n",
    "\n",
    "        loss = outputs.loss\n",
    "        logits = outputs.logits\n",
    "        loss.backward()\n",
    "        optimizer.step()\n",
    "        loss_list.append(loss.item())\n",
    "    train_lost_epoch.append(np.mean(loss_list))\n",
    "    model.eval()\n",
    "    loss_list=[]\n",
    "    i=0\n",
    "    num_correct=0\n",
    "    for batch in tqdm(valid_dataloader,desc='validset',leave=False):\n",
    "        with torch.no_grad():  \n",
    "            input_ids = batch['input_ids'].to(device)\n",
    "            token_type_ids = batch['token_type_ids'].to(device)\n",
    "            attention_mask = batch['attention_mask'].to(device)\n",
    "\n",
    "            target=torch.tensor(y_valid[i:i+bat_size]).to(device)\n",
    "            i+=bat_size\n",
    "            outputs = model(input_ids, \n",
    "                                token_type_ids, \n",
    "                                attention_mask, \n",
    "                                labels=target)\n",
    "            loss = outputs.loss\n",
    "            logits = outputs.logits\n",
    "            loss_list.append(loss.item())\n",
    "            pred_flat = np.argmax(logits.detach().cpu().numpy(), axis=1).flatten()\n",
    "            labels_flat = target.to('cpu').numpy().flatten()\n",
    "            num_correct += np.sum(pred_flat == labels_flat)\n",
    "    valid_accuracy=num_correct/len(y_valid)\n",
    "    if  epoch==0:\n",
    "        torch.save(model.state_dict(), \"my_model_re\")\n",
    "    else:\n",
    "        if  valid_accuracy>max(valid_accuracy_list):\n",
    "            torch.save(model.state_dict(), \"my_model_re\")\n",
    "    if epoch>=10:\n",
    "        if valid_accuracy<min(valid_accuracy_list[-10:-1]):\n",
    "            print(\"early stop\")\n",
    "            break\n",
    "    valid_accuracy_list.append(valid_accuracy)\n",
    "    valid_lost_epoch.append(np.mean(loss_list))\n",
    "    print(\"epoch: \"+str(epoch))\n",
    "    print(\"train loss: \"+str(train_lost_epoch[-1]))\n",
    "    print(\"valid loss: \"+str(valid_lost_epoch[-1]))\n",
    "    print(\"valid accuracy: \"+str(valid_accuracy))\n",
    "    print(\"——————————————————————————————————————————————\")"
   ]
  },
  {
   "cell_type": "code",
   "execution_count": 55,
   "id": "c16e5eda",
   "metadata": {},
   "outputs": [
    {
     "name": "stdout",
     "output_type": "stream",
     "text": [
      "0.7607655502392344\n"
     ]
    }
   ],
   "source": [
    "print(max(valid_accuracy_list))"
   ]
  },
  {
   "cell_type": "markdown",
   "id": "266cb9af",
   "metadata": {},
   "source": [
    "### trial1"
   ]
  },
  {
   "cell_type": "code",
   "execution_count": 17,
   "id": "5a9ac259",
   "metadata": {},
   "outputs": [],
   "source": [
    "import os\n",
    "import openai\n",
    "import time\n",
    "from auto_tqdm import tqdm\n",
    "def rephrase_by_chatgpt2(text,label):\n",
    "    file1=open(\"api_key.txt\",'r')\n",
    "    api_key=file1.read()\n",
    "    openai.api_key=api_key\n",
    "    if(label==0):\n",
    "        tone=\"negative\"\n",
    "    elif(label==1):\n",
    "        tone=\"positive\"\n",
    "    elif(label==2):\n",
    "        tone=\"neutral\"\n",
    "    else:\n",
    "        tone=\"mixed\"\n",
    "    completion = openai.ChatCompletion.create(\n",
    "    model=\"gpt-3.5-turbo\",\n",
    "    messages=[{'role': 'user', 'content': \"Please rephrase this sentence while retaining the\"+ tone + \"emotion: \"+text}])\n",
    "    return completion.choices[0].message.content"
   ]
  },
  {
   "cell_type": "code",
   "execution_count": 18,
   "id": "9ba74e4c",
   "metadata": {},
   "outputs": [
    {
     "data": {
      "text/plain": [
       "'It continues to flow as long as the rain falls.'"
      ]
     },
     "execution_count": 18,
     "metadata": {},
     "output_type": "execute_result"
    }
   ],
   "source": [
    "rephrase_by_chatgpt2(X_train_original[1],y_train_original[1])"
   ]
  },
  {
   "cell_type": "code",
   "execution_count": 19,
   "id": "71eb336e",
   "metadata": {},
   "outputs": [
    {
     "data": {
      "application/vnd.jupyter.widget-view+json": {
       "model_id": "",
       "version_major": 2,
       "version_minor": 0
      },
      "text/plain": [
       "  0%|                                                                                          | 0/700 [00:00<…"
      ]
     },
     "metadata": {},
     "output_type": "display_data"
    }
   ],
   "source": [
    "x_new=[]\n",
    "y_new=[]\n",
    "for i in tqdm(range(len(X_train_original))):\n",
    "    count=0\n",
    "    while(count!=1):\n",
    "        try:\n",
    "            ans=rephrase_by_chatgpt2(X_train_original[i],y_train_original[i])\n",
    "            x_new.append(ans)\n",
    "            y_new.append(y_train_original[i])\n",
    "            count=1  \n",
    "        except:\n",
    "            time.sleep(0.5)"
   ]
  },
  {
   "cell_type": "code",
   "execution_count": 20,
   "id": "edcf8cfe",
   "metadata": {},
   "outputs": [],
   "source": [
    "base_dict={\"verse_text\":x_new,\"label\":y_new}\n",
    "new_df=pd.DataFrame.from_dict(base_dict)\n",
    "new_df.to_csv(\"chatgpt_poem_trial1\")\n",
    "new_df=pd.read_csv(\"chatgpt_poem_trial1\")\n",
    "X_train_base=list(X_train_original)+list(new_df['verse_text'])\n",
    "y_train_base=list(y_train_original)+list(new_df['label'])\n",
    "X_train=tokenizer(list(X_train_base),truncation=True, padding=True, max_length=12,return_tensors='pt')\n",
    "y_train=list(y_train_base)\n",
    "from torch.utils.data import DataLoader\n",
    "train_dataloader = DataLoader(MyData(X_train) , batch_size=bat_size,shuffle = False)"
   ]
  },
  {
   "cell_type": "code",
   "execution_count": null,
   "id": "2402fe5a",
   "metadata": {},
   "outputs": [],
   "source": []
  },
  {
   "cell_type": "code",
   "execution_count": 21,
   "id": "ac5e3bf7",
   "metadata": {},
   "outputs": [
    {
     "name": "stderr",
     "output_type": "stream",
     "text": [
      "Some weights of the model checkpoint at bert-base-uncased were not used when initializing BertForSequenceClassification: ['cls.seq_relationship.weight', 'cls.predictions.bias', 'cls.predictions.transform.dense.bias', 'cls.predictions.decoder.weight', 'cls.predictions.transform.LayerNorm.bias', 'cls.seq_relationship.bias', 'cls.predictions.transform.LayerNorm.weight', 'cls.predictions.transform.dense.weight']\n",
      "- This IS expected if you are initializing BertForSequenceClassification from the checkpoint of a model trained on another task or with another architecture (e.g. initializing a BertForSequenceClassification model from a BertForPreTraining model).\n",
      "- This IS NOT expected if you are initializing BertForSequenceClassification from the checkpoint of a model that you expect to be exactly identical (initializing a BertForSequenceClassification model from a BertForSequenceClassification model).\n",
      "Some weights of BertForSequenceClassification were not initialized from the model checkpoint at bert-base-uncased and are newly initialized: ['classifier.weight', 'classifier.bias']\n",
      "You should probably TRAIN this model on a down-stream task to be able to use it for predictions and inference.\n",
      "F:\\anaconda\\lib\\site-packages\\transformers\\optimization.py:391: FutureWarning: This implementation of AdamW is deprecated and will be removed in a future version. Use the PyTorch implementation torch.optim.AdamW instead, or set `no_deprecation_warning=True` to disable this warning\n",
      "  warnings.warn(\n"
     ]
    }
   ],
   "source": [
    "model= BertForSequenceClassification.from_pretrained(\n",
    "    \"bert-base-uncased\", \n",
    "    num_labels = 4,    \n",
    "    output_attentions = False, \n",
    "    output_hidden_states = False,\n",
    ")\n",
    "model.to(device)\n",
    "optimizer = AdamW(model.parameters(),\n",
    "                  lr = 1e-5, # args.learning_rate - default is 5e-5\n",
    "                  eps = 1e-8, # args.adam_epsilon  - default is 1e-8\n",
    "                  weight_decay=0.01,\n",
    "                  correct_bias=True\n",
    "                )\n",
    "epochs = 50"
   ]
  },
  {
   "cell_type": "code",
   "execution_count": 22,
   "id": "dae3d241",
   "metadata": {
    "scrolled": true
   },
   "outputs": [
    {
     "data": {
      "application/vnd.jupyter.widget-view+json": {
       "model_id": "86fc08f996eb46219d69db5096535ce0",
       "version_major": 2,
       "version_minor": 0
      },
      "text/plain": [
       "epoch:   0%|                                                                                    | 0/50 [00:00<…"
      ]
     },
     "metadata": {},
     "output_type": "display_data"
    },
    {
     "data": {
      "application/vnd.jupyter.widget-view+json": {
       "model_id": "",
       "version_major": 2,
       "version_minor": 0
      },
      "text/plain": [
       "trainset:   0%|                                                                                 | 0/11 [00:00<…"
      ]
     },
     "metadata": {},
     "output_type": "display_data"
    },
    {
     "data": {
      "application/vnd.jupyter.widget-view+json": {
       "model_id": "",
       "version_major": 2,
       "version_minor": 0
      },
      "text/plain": [
       "validset:   0%|                                                                                  | 0/2 [00:00<…"
      ]
     },
     "metadata": {},
     "output_type": "display_data"
    },
    {
     "name": "stdout",
     "output_type": "stream",
     "text": [
      "epoch: 0\n",
      "train loss: 1.3171073306690564\n",
      "valid loss: 1.0668271780014038\n",
      "valid accuracy: 0.6602870813397129\n",
      "——————————————————————————————————————————————\n"
     ]
    },
    {
     "data": {
      "application/vnd.jupyter.widget-view+json": {
       "model_id": "",
       "version_major": 2,
       "version_minor": 0
      },
      "text/plain": [
       "trainset:   0%|                                                                                 | 0/11 [00:00<…"
      ]
     },
     "metadata": {},
     "output_type": "display_data"
    },
    {
     "data": {
      "application/vnd.jupyter.widget-view+json": {
       "model_id": "",
       "version_major": 2,
       "version_minor": 0
      },
      "text/plain": [
       "validset:   0%|                                                                                  | 0/2 [00:00<…"
      ]
     },
     "metadata": {},
     "output_type": "display_data"
    },
    {
     "name": "stdout",
     "output_type": "stream",
     "text": [
      "epoch: 1\n",
      "train loss: 1.0521593473174355\n",
      "valid loss: 0.9570034742355347\n",
      "valid accuracy: 0.6602870813397129\n",
      "——————————————————————————————————————————————\n"
     ]
    },
    {
     "data": {
      "application/vnd.jupyter.widget-view+json": {
       "model_id": "",
       "version_major": 2,
       "version_minor": 0
      },
      "text/plain": [
       "trainset:   0%|                                                                                 | 0/11 [00:00<…"
      ]
     },
     "metadata": {},
     "output_type": "display_data"
    },
    {
     "data": {
      "application/vnd.jupyter.widget-view+json": {
       "model_id": "",
       "version_major": 2,
       "version_minor": 0
      },
      "text/plain": [
       "validset:   0%|                                                                                  | 0/2 [00:00<…"
      ]
     },
     "metadata": {},
     "output_type": "display_data"
    },
    {
     "name": "stdout",
     "output_type": "stream",
     "text": [
      "epoch: 2\n",
      "train loss: 0.9908972490917553\n",
      "valid loss: 0.9123295843601227\n",
      "valid accuracy: 0.6602870813397129\n",
      "——————————————————————————————————————————————\n"
     ]
    },
    {
     "data": {
      "application/vnd.jupyter.widget-view+json": {
       "model_id": "",
       "version_major": 2,
       "version_minor": 0
      },
      "text/plain": [
       "trainset:   0%|                                                                                 | 0/11 [00:00<…"
      ]
     },
     "metadata": {},
     "output_type": "display_data"
    },
    {
     "data": {
      "application/vnd.jupyter.widget-view+json": {
       "model_id": "",
       "version_major": 2,
       "version_minor": 0
      },
      "text/plain": [
       "validset:   0%|                                                                                  | 0/2 [00:00<…"
      ]
     },
     "metadata": {},
     "output_type": "display_data"
    },
    {
     "name": "stdout",
     "output_type": "stream",
     "text": [
      "epoch: 3\n",
      "train loss: 0.9242495731873945\n",
      "valid loss: 0.8706432282924652\n",
      "valid accuracy: 0.6746411483253588\n",
      "——————————————————————————————————————————————\n"
     ]
    },
    {
     "data": {
      "application/vnd.jupyter.widget-view+json": {
       "model_id": "",
       "version_major": 2,
       "version_minor": 0
      },
      "text/plain": [
       "trainset:   0%|                                                                                 | 0/11 [00:00<…"
      ]
     },
     "metadata": {},
     "output_type": "display_data"
    },
    {
     "data": {
      "application/vnd.jupyter.widget-view+json": {
       "model_id": "",
       "version_major": 2,
       "version_minor": 0
      },
      "text/plain": [
       "validset:   0%|                                                                                  | 0/2 [00:00<…"
      ]
     },
     "metadata": {},
     "output_type": "display_data"
    },
    {
     "name": "stdout",
     "output_type": "stream",
     "text": [
      "epoch: 4\n",
      "train loss: 0.831388229673559\n",
      "valid loss: 0.8097855746746063\n",
      "valid accuracy: 0.7033492822966507\n",
      "——————————————————————————————————————————————\n"
     ]
    },
    {
     "data": {
      "application/vnd.jupyter.widget-view+json": {
       "model_id": "",
       "version_major": 2,
       "version_minor": 0
      },
      "text/plain": [
       "trainset:   0%|                                                                                 | 0/11 [00:00<…"
      ]
     },
     "metadata": {},
     "output_type": "display_data"
    },
    {
     "data": {
      "application/vnd.jupyter.widget-view+json": {
       "model_id": "",
       "version_major": 2,
       "version_minor": 0
      },
      "text/plain": [
       "validset:   0%|                                                                                  | 0/2 [00:00<…"
      ]
     },
     "metadata": {},
     "output_type": "display_data"
    },
    {
     "name": "stdout",
     "output_type": "stream",
     "text": [
      "epoch: 5\n",
      "train loss: 0.7547060955654491\n",
      "valid loss: 0.7879242897033691\n",
      "valid accuracy: 0.722488038277512\n",
      "——————————————————————————————————————————————\n"
     ]
    },
    {
     "data": {
      "application/vnd.jupyter.widget-view+json": {
       "model_id": "",
       "version_major": 2,
       "version_minor": 0
      },
      "text/plain": [
       "trainset:   0%|                                                                                 | 0/11 [00:00<…"
      ]
     },
     "metadata": {},
     "output_type": "display_data"
    },
    {
     "data": {
      "application/vnd.jupyter.widget-view+json": {
       "model_id": "",
       "version_major": 2,
       "version_minor": 0
      },
      "text/plain": [
       "validset:   0%|                                                                                  | 0/2 [00:00<…"
      ]
     },
     "metadata": {},
     "output_type": "display_data"
    },
    {
     "name": "stdout",
     "output_type": "stream",
     "text": [
      "epoch: 6\n",
      "train loss: 0.6703039407730103\n",
      "valid loss: 0.7851417660713196\n",
      "valid accuracy: 0.7416267942583732\n",
      "——————————————————————————————————————————————\n"
     ]
    },
    {
     "data": {
      "application/vnd.jupyter.widget-view+json": {
       "model_id": "",
       "version_major": 2,
       "version_minor": 0
      },
      "text/plain": [
       "trainset:   0%|                                                                                 | 0/11 [00:00<…"
      ]
     },
     "metadata": {},
     "output_type": "display_data"
    },
    {
     "data": {
      "application/vnd.jupyter.widget-view+json": {
       "model_id": "",
       "version_major": 2,
       "version_minor": 0
      },
      "text/plain": [
       "validset:   0%|                                                                                  | 0/2 [00:00<…"
      ]
     },
     "metadata": {},
     "output_type": "display_data"
    },
    {
     "name": "stdout",
     "output_type": "stream",
     "text": [
      "epoch: 7\n",
      "train loss: 0.5863475474444303\n",
      "valid loss: 0.7871550917625427\n",
      "valid accuracy: 0.7416267942583732\n",
      "——————————————————————————————————————————————\n"
     ]
    },
    {
     "data": {
      "application/vnd.jupyter.widget-view+json": {
       "model_id": "",
       "version_major": 2,
       "version_minor": 0
      },
      "text/plain": [
       "trainset:   0%|                                                                                 | 0/11 [00:00<…"
      ]
     },
     "metadata": {},
     "output_type": "display_data"
    },
    {
     "data": {
      "application/vnd.jupyter.widget-view+json": {
       "model_id": "",
       "version_major": 2,
       "version_minor": 0
      },
      "text/plain": [
       "validset:   0%|                                                                                  | 0/2 [00:00<…"
      ]
     },
     "metadata": {},
     "output_type": "display_data"
    },
    {
     "name": "stdout",
     "output_type": "stream",
     "text": [
      "epoch: 8\n",
      "train loss: 0.5124301639470187\n",
      "valid loss: 0.8089621067047119\n",
      "valid accuracy: 0.7511961722488039\n",
      "——————————————————————————————————————————————\n"
     ]
    },
    {
     "data": {
      "application/vnd.jupyter.widget-view+json": {
       "model_id": "",
       "version_major": 2,
       "version_minor": 0
      },
      "text/plain": [
       "trainset:   0%|                                                                                 | 0/11 [00:00<…"
      ]
     },
     "metadata": {},
     "output_type": "display_data"
    },
    {
     "data": {
      "application/vnd.jupyter.widget-view+json": {
       "model_id": "",
       "version_major": 2,
       "version_minor": 0
      },
      "text/plain": [
       "validset:   0%|                                                                                  | 0/2 [00:00<…"
      ]
     },
     "metadata": {},
     "output_type": "display_data"
    },
    {
     "name": "stdout",
     "output_type": "stream",
     "text": [
      "epoch: 9\n",
      "train loss: 0.43201467936689203\n",
      "valid loss: 0.8065638542175293\n",
      "valid accuracy: 0.7464114832535885\n",
      "——————————————————————————————————————————————\n"
     ]
    },
    {
     "data": {
      "application/vnd.jupyter.widget-view+json": {
       "model_id": "",
       "version_major": 2,
       "version_minor": 0
      },
      "text/plain": [
       "trainset:   0%|                                                                                 | 0/11 [00:00<…"
      ]
     },
     "metadata": {},
     "output_type": "display_data"
    },
    {
     "data": {
      "application/vnd.jupyter.widget-view+json": {
       "model_id": "",
       "version_major": 2,
       "version_minor": 0
      },
      "text/plain": [
       "validset:   0%|                                                                                  | 0/2 [00:00<…"
      ]
     },
     "metadata": {},
     "output_type": "display_data"
    },
    {
     "name": "stdout",
     "output_type": "stream",
     "text": [
      "epoch: 10\n",
      "train loss: 0.3759708377447995\n",
      "valid loss: 0.8246808648109436\n",
      "valid accuracy: 0.7799043062200957\n",
      "——————————————————————————————————————————————\n"
     ]
    },
    {
     "data": {
      "application/vnd.jupyter.widget-view+json": {
       "model_id": "",
       "version_major": 2,
       "version_minor": 0
      },
      "text/plain": [
       "trainset:   0%|                                                                                 | 0/11 [00:00<…"
      ]
     },
     "metadata": {},
     "output_type": "display_data"
    },
    {
     "data": {
      "application/vnd.jupyter.widget-view+json": {
       "model_id": "",
       "version_major": 2,
       "version_minor": 0
      },
      "text/plain": [
       "validset:   0%|                                                                                  | 0/2 [00:00<…"
      ]
     },
     "metadata": {},
     "output_type": "display_data"
    },
    {
     "name": "stdout",
     "output_type": "stream",
     "text": [
      "epoch: 11\n",
      "train loss: 0.3156012418595227\n",
      "valid loss: 0.8697594106197357\n",
      "valid accuracy: 0.7751196172248804\n",
      "——————————————————————————————————————————————\n"
     ]
    },
    {
     "data": {
      "application/vnd.jupyter.widget-view+json": {
       "model_id": "",
       "version_major": 2,
       "version_minor": 0
      },
      "text/plain": [
       "trainset:   0%|                                                                                 | 0/11 [00:00<…"
      ]
     },
     "metadata": {},
     "output_type": "display_data"
    },
    {
     "data": {
      "application/vnd.jupyter.widget-view+json": {
       "model_id": "",
       "version_major": 2,
       "version_minor": 0
      },
      "text/plain": [
       "validset:   0%|                                                                                  | 0/2 [00:00<…"
      ]
     },
     "metadata": {},
     "output_type": "display_data"
    },
    {
     "name": "stdout",
     "output_type": "stream",
     "text": [
      "epoch: 12\n",
      "train loss: 0.2850195521658117\n",
      "valid loss: 0.8874067068099976\n",
      "valid accuracy: 0.7368421052631579\n",
      "——————————————————————————————————————————————\n"
     ]
    },
    {
     "data": {
      "application/vnd.jupyter.widget-view+json": {
       "model_id": "",
       "version_major": 2,
       "version_minor": 0
      },
      "text/plain": [
       "trainset:   0%|                                                                                 | 0/11 [00:00<…"
      ]
     },
     "metadata": {},
     "output_type": "display_data"
    },
    {
     "data": {
      "application/vnd.jupyter.widget-view+json": {
       "model_id": "",
       "version_major": 2,
       "version_minor": 0
      },
      "text/plain": [
       "validset:   0%|                                                                                  | 0/2 [00:00<…"
      ]
     },
     "metadata": {},
     "output_type": "display_data"
    },
    {
     "name": "stdout",
     "output_type": "stream",
     "text": [
      "epoch: 13\n",
      "train loss: 0.23346058482473547\n",
      "valid loss: 0.9206729531288147\n",
      "valid accuracy: 0.7511961722488039\n",
      "——————————————————————————————————————————————\n"
     ]
    },
    {
     "data": {
      "application/vnd.jupyter.widget-view+json": {
       "model_id": "",
       "version_major": 2,
       "version_minor": 0
      },
      "text/plain": [
       "trainset:   0%|                                                                                 | 0/11 [00:00<…"
      ]
     },
     "metadata": {},
     "output_type": "display_data"
    },
    {
     "data": {
      "application/vnd.jupyter.widget-view+json": {
       "model_id": "",
       "version_major": 2,
       "version_minor": 0
      },
      "text/plain": [
       "validset:   0%|                                                                                  | 0/2 [00:00<…"
      ]
     },
     "metadata": {},
     "output_type": "display_data"
    },
    {
     "name": "stdout",
     "output_type": "stream",
     "text": [
      "epoch: 14\n",
      "train loss: 0.2170107906514948\n",
      "valid loss: 0.9658450782299042\n",
      "valid accuracy: 0.7320574162679426\n",
      "——————————————————————————————————————————————\n"
     ]
    },
    {
     "data": {
      "application/vnd.jupyter.widget-view+json": {
       "model_id": "",
       "version_major": 2,
       "version_minor": 0
      },
      "text/plain": [
       "trainset:   0%|                                                                                 | 0/11 [00:00<…"
      ]
     },
     "metadata": {},
     "output_type": "display_data"
    },
    {
     "data": {
      "application/vnd.jupyter.widget-view+json": {
       "model_id": "",
       "version_major": 2,
       "version_minor": 0
      },
      "text/plain": [
       "validset:   0%|                                                                                  | 0/2 [00:00<…"
      ]
     },
     "metadata": {},
     "output_type": "display_data"
    },
    {
     "name": "stdout",
     "output_type": "stream",
     "text": [
      "epoch: 15\n",
      "train loss: 0.19722473350438205\n",
      "valid loss: 1.0008128583431244\n",
      "valid accuracy: 0.7320574162679426\n",
      "——————————————————————————————————————————————\n"
     ]
    },
    {
     "data": {
      "application/vnd.jupyter.widget-view+json": {
       "model_id": "",
       "version_major": 2,
       "version_minor": 0
      },
      "text/plain": [
       "trainset:   0%|                                                                                 | 0/11 [00:00<…"
      ]
     },
     "metadata": {},
     "output_type": "display_data"
    },
    {
     "data": {
      "application/vnd.jupyter.widget-view+json": {
       "model_id": "",
       "version_major": 2,
       "version_minor": 0
      },
      "text/plain": [
       "validset:   0%|                                                                                  | 0/2 [00:00<…"
      ]
     },
     "metadata": {},
     "output_type": "display_data"
    },
    {
     "name": "stdout",
     "output_type": "stream",
     "text": [
      "early stop\n"
     ]
    }
   ],
   "source": [
    "train_lost_epoch=[]\n",
    "valid_lost_epoch=[]\n",
    "valid_accuracy_list=[]\n",
    "for epoch in tqdm(range(epochs),desc='epoch'):\n",
    "    model.train()\n",
    "    loss_list=[]\n",
    "    i=0\n",
    "    for batch in tqdm(train_dataloader,desc='trainset',leave=False):\n",
    "        model.zero_grad() \n",
    "        optimizer.zero_grad()\n",
    "        input_ids = batch['input_ids'].to(device)\n",
    "        token_type_ids = batch['token_type_ids'].to(device)\n",
    "        attention_mask = batch['attention_mask'].to(device)\n",
    "        target=torch.tensor(y_train[i:i+bat_size]).to(device)\n",
    "        i+=bat_size\n",
    "        outputs = model(input_ids, \n",
    "                            token_type_ids, \n",
    "                            attention_mask, \n",
    "                            labels=target)\n",
    "\n",
    "        loss = outputs.loss\n",
    "        logits = outputs.logits\n",
    "        loss.backward()\n",
    "        optimizer.step()\n",
    "        loss_list.append(loss.item())\n",
    "    train_lost_epoch.append(np.mean(loss_list))\n",
    "    model.eval()\n",
    "    loss_list=[]\n",
    "    i=0\n",
    "    num_correct=0\n",
    "    for batch in tqdm(valid_dataloader,desc='validset',leave=False):\n",
    "        with torch.no_grad():  \n",
    "            input_ids = batch['input_ids'].to(device)\n",
    "            token_type_ids = batch['token_type_ids'].to(device)\n",
    "            attention_mask = batch['attention_mask'].to(device)\n",
    "\n",
    "            target=torch.tensor(y_valid[i:i+bat_size]).to(device)\n",
    "            i+=bat_size\n",
    "            outputs = model(input_ids, \n",
    "                                token_type_ids, \n",
    "                                attention_mask, \n",
    "                                labels=target)\n",
    "            loss = outputs.loss\n",
    "            logits = outputs.logits\n",
    "            loss_list.append(loss.item())\n",
    "            pred_flat = np.argmax(logits.detach().cpu().numpy(), axis=1).flatten()\n",
    "            labels_flat = target.to('cpu').numpy().flatten()\n",
    "            num_correct += np.sum(pred_flat == labels_flat)\n",
    "    valid_accuracy=num_correct/len(y_valid)\n",
    "    if  epoch==0:\n",
    "        torch.save(model.state_dict(), \"my_model_re\")\n",
    "    else:\n",
    "        if  valid_accuracy>max(valid_accuracy_list):\n",
    "            torch.save(model.state_dict(), \"my_model_re\")\n",
    "    if epoch>=10:\n",
    "        if valid_accuracy<min(valid_accuracy_list[-10:-1]):\n",
    "            print(\"early stop\")\n",
    "            break\n",
    "    valid_accuracy_list.append(valid_accuracy)\n",
    "    valid_lost_epoch.append(np.mean(loss_list))\n",
    "    print(\"epoch: \"+str(epoch))\n",
    "    print(\"train loss: \"+str(train_lost_epoch[-1]))\n",
    "    print(\"valid loss: \"+str(valid_lost_epoch[-1]))\n",
    "    print(\"valid accuracy: \"+str(valid_accuracy))\n",
    "    print(\"——————————————————————————————————————————————\")"
   ]
  },
  {
   "cell_type": "code",
   "execution_count": 23,
   "id": "3e8f01db",
   "metadata": {},
   "outputs": [
    {
     "name": "stdout",
     "output_type": "stream",
     "text": [
      "0.7799043062200957\n"
     ]
    }
   ],
   "source": [
    "print(max(valid_accuracy_list))"
   ]
  },
  {
   "cell_type": "markdown",
   "id": "0125c4a6",
   "metadata": {},
   "source": [
    "### back translation"
   ]
  },
  {
   "cell_type": "code",
   "execution_count": 29,
   "id": "10b31000",
   "metadata": {},
   "outputs": [],
   "source": [
    "import os\n",
    "import openai\n",
    "import time\n",
    "from auto_tqdm import tqdm\n",
    "def chatgpt_to_spain(text):\n",
    "    file1=open(\"api_key.txt\",'r')\n",
    "    api_key=file1.read()\n",
    "    openai.api_key=api_key\n",
    "    completion = openai.ChatCompletion.create(\n",
    "    model=\"gpt-3.5-turbo\",\n",
    "    messages=[{'role': 'user', 'content': \"Please translate this sentence to Spanish while retaining the emotion:\"+text}])\n",
    "    return completion.choices[0].message.content\n",
    "def chatgpt_to_english(text):\n",
    "    file1=open(\"api_key.txt\",'r')\n",
    "    api_key=file1.read()\n",
    "    openai.api_key=api_key\n",
    "    completion = openai.ChatCompletion.create(\n",
    "    model=\"gpt-3.5-turbo\",\n",
    "    messages=[{'role': 'user', 'content': \"Please translate this sentence to English:\"+text}])\n",
    "    return completion.choices[0].message.content"
   ]
  },
  {
   "cell_type": "code",
   "execution_count": 30,
   "id": "0b798ad1",
   "metadata": {},
   "outputs": [],
   "source": [
    "# x_new=[]\n",
    "# y_new=[]\n",
    "# for i in tqdm(range(len(X_train_original))):\n",
    "#     count=0\n",
    "#     while(count!=1):\n",
    "#         try:\n",
    "#             temp=chatgpt_to_spain(X_train_original[i])\n",
    "#             ans=chatgpt_to_english(temp)\n",
    "#             x_new.append(ans)\n",
    "#             y_new.append(y_train_original[i])\n",
    "#             count=1  \n",
    "#         except:\n",
    "#             time.sleep(0.5)"
   ]
  },
  {
   "cell_type": "code",
   "execution_count": 31,
   "id": "d3393074",
   "metadata": {},
   "outputs": [],
   "source": [
    "# base_dict={\"text\":x_new,\"label\":y_new}\n",
    "# new_df=pd.DataFrame.from_dict(base_dict)\n",
    "# new_df.to_csv(\"poem_back_translate\")\n",
    "new_df=pd.read_csv(\"poem_back_translate\")\n",
    "X_train_base=list(X_train_original)+list(new_df['text'])\n",
    "y_train_base=list(y_train_original)+list(new_df['label'])\n",
    "X_train=tokenizer(list(X_train_base),truncation=True, padding=True, max_length=12,return_tensors='pt')\n",
    "y_train=list(y_train_base)\n",
    "from torch.utils.data import DataLoader\n",
    "train_dataloader = DataLoader(MyData(X_train) , batch_size=bat_size,shuffle = False)"
   ]
  },
  {
   "cell_type": "code",
   "execution_count": 32,
   "id": "2dcc0222",
   "metadata": {},
   "outputs": [
    {
     "name": "stderr",
     "output_type": "stream",
     "text": [
      "Some weights of the model checkpoint at bert-base-uncased were not used when initializing BertForSequenceClassification: ['cls.predictions.transform.LayerNorm.bias', 'cls.seq_relationship.bias', 'cls.predictions.transform.LayerNorm.weight', 'cls.seq_relationship.weight', 'cls.predictions.transform.dense.bias', 'cls.predictions.decoder.weight', 'cls.predictions.transform.dense.weight', 'cls.predictions.bias']\n",
      "- This IS expected if you are initializing BertForSequenceClassification from the checkpoint of a model trained on another task or with another architecture (e.g. initializing a BertForSequenceClassification model from a BertForPreTraining model).\n",
      "- This IS NOT expected if you are initializing BertForSequenceClassification from the checkpoint of a model that you expect to be exactly identical (initializing a BertForSequenceClassification model from a BertForSequenceClassification model).\n",
      "Some weights of BertForSequenceClassification were not initialized from the model checkpoint at bert-base-uncased and are newly initialized: ['classifier.bias', 'classifier.weight']\n",
      "You should probably TRAIN this model on a down-stream task to be able to use it for predictions and inference.\n",
      "F:\\anaconda\\lib\\site-packages\\transformers\\optimization.py:391: FutureWarning: This implementation of AdamW is deprecated and will be removed in a future version. Use the PyTorch implementation torch.optim.AdamW instead, or set `no_deprecation_warning=True` to disable this warning\n",
      "  warnings.warn(\n"
     ]
    }
   ],
   "source": [
    "model= BertForSequenceClassification.from_pretrained(\n",
    "    \"bert-base-uncased\", \n",
    "    num_labels = 4,    \n",
    "    output_attentions = False, \n",
    "    output_hidden_states = False,\n",
    ")\n",
    "model.to(device)\n",
    "optimizer = AdamW(model.parameters(),\n",
    "                  lr = 1e-5, # args.learning_rate - default is 5e-5\n",
    "                  eps = 1e-8, # args.adam_epsilon  - default is 1e-8\n",
    "                  weight_decay=0.01,\n",
    "                  correct_bias=True\n",
    "                )\n",
    "epochs = 50"
   ]
  },
  {
   "cell_type": "code",
   "execution_count": 33,
   "id": "2d450848",
   "metadata": {
    "scrolled": true
   },
   "outputs": [
    {
     "data": {
      "application/vnd.jupyter.widget-view+json": {
       "model_id": "3896beb6b96341329d22495ab9b932d0",
       "version_major": 2,
       "version_minor": 0
      },
      "text/plain": [
       "epoch:   0%|                                                                                    | 0/50 [00:00<…"
      ]
     },
     "metadata": {},
     "output_type": "display_data"
    },
    {
     "data": {
      "application/vnd.jupyter.widget-view+json": {
       "model_id": "",
       "version_major": 2,
       "version_minor": 0
      },
      "text/plain": [
       "trainset:   0%|                                                                                 | 0/11 [00:00<…"
      ]
     },
     "metadata": {},
     "output_type": "display_data"
    },
    {
     "data": {
      "application/vnd.jupyter.widget-view+json": {
       "model_id": "",
       "version_major": 2,
       "version_minor": 0
      },
      "text/plain": [
       "validset:   0%|                                                                                  | 0/2 [00:00<…"
      ]
     },
     "metadata": {},
     "output_type": "display_data"
    },
    {
     "name": "stdout",
     "output_type": "stream",
     "text": [
      "epoch: 0\n",
      "train loss: 1.1549361835826526\n",
      "valid loss: 1.0173993706703186\n",
      "valid accuracy: 0.6602870813397129\n",
      "——————————————————————————————————————————————\n"
     ]
    },
    {
     "data": {
      "application/vnd.jupyter.widget-view+json": {
       "model_id": "",
       "version_major": 2,
       "version_minor": 0
      },
      "text/plain": [
       "trainset:   0%|                                                                                 | 0/11 [00:00<…"
      ]
     },
     "metadata": {},
     "output_type": "display_data"
    },
    {
     "data": {
      "application/vnd.jupyter.widget-view+json": {
       "model_id": "",
       "version_major": 2,
       "version_minor": 0
      },
      "text/plain": [
       "validset:   0%|                                                                                  | 0/2 [00:00<…"
      ]
     },
     "metadata": {},
     "output_type": "display_data"
    },
    {
     "name": "stdout",
     "output_type": "stream",
     "text": [
      "epoch: 1\n",
      "train loss: 1.0301598202098499\n",
      "valid loss: 0.9372580349445343\n",
      "valid accuracy: 0.6602870813397129\n",
      "——————————————————————————————————————————————\n"
     ]
    },
    {
     "data": {
      "application/vnd.jupyter.widget-view+json": {
       "model_id": "",
       "version_major": 2,
       "version_minor": 0
      },
      "text/plain": [
       "trainset:   0%|                                                                                 | 0/11 [00:00<…"
      ]
     },
     "metadata": {},
     "output_type": "display_data"
    },
    {
     "data": {
      "application/vnd.jupyter.widget-view+json": {
       "model_id": "",
       "version_major": 2,
       "version_minor": 0
      },
      "text/plain": [
       "validset:   0%|                                                                                  | 0/2 [00:00<…"
      ]
     },
     "metadata": {},
     "output_type": "display_data"
    },
    {
     "name": "stdout",
     "output_type": "stream",
     "text": [
      "epoch: 2\n",
      "train loss: 0.9770511497150768\n",
      "valid loss: 0.903009444475174\n",
      "valid accuracy: 0.6602870813397129\n",
      "——————————————————————————————————————————————\n"
     ]
    },
    {
     "data": {
      "application/vnd.jupyter.widget-view+json": {
       "model_id": "",
       "version_major": 2,
       "version_minor": 0
      },
      "text/plain": [
       "trainset:   0%|                                                                                 | 0/11 [00:00<…"
      ]
     },
     "metadata": {},
     "output_type": "display_data"
    },
    {
     "data": {
      "application/vnd.jupyter.widget-view+json": {
       "model_id": "",
       "version_major": 2,
       "version_minor": 0
      },
      "text/plain": [
       "validset:   0%|                                                                                  | 0/2 [00:00<…"
      ]
     },
     "metadata": {},
     "output_type": "display_data"
    },
    {
     "name": "stdout",
     "output_type": "stream",
     "text": [
      "epoch: 3\n",
      "train loss: 0.9268957539038225\n",
      "valid loss: 0.8662103712558746\n",
      "valid accuracy: 0.69377990430622\n",
      "——————————————————————————————————————————————\n"
     ]
    },
    {
     "data": {
      "application/vnd.jupyter.widget-view+json": {
       "model_id": "",
       "version_major": 2,
       "version_minor": 0
      },
      "text/plain": [
       "trainset:   0%|                                                                                 | 0/11 [00:00<…"
      ]
     },
     "metadata": {},
     "output_type": "display_data"
    },
    {
     "data": {
      "application/vnd.jupyter.widget-view+json": {
       "model_id": "",
       "version_major": 2,
       "version_minor": 0
      },
      "text/plain": [
       "validset:   0%|                                                                                  | 0/2 [00:00<…"
      ]
     },
     "metadata": {},
     "output_type": "display_data"
    },
    {
     "name": "stdout",
     "output_type": "stream",
     "text": [
      "epoch: 4\n",
      "train loss: 0.8472975546663458\n",
      "valid loss: 0.8317634165287018\n",
      "valid accuracy: 0.6985645933014354\n",
      "——————————————————————————————————————————————\n"
     ]
    },
    {
     "data": {
      "application/vnd.jupyter.widget-view+json": {
       "model_id": "",
       "version_major": 2,
       "version_minor": 0
      },
      "text/plain": [
       "trainset:   0%|                                                                                 | 0/11 [00:00<…"
      ]
     },
     "metadata": {},
     "output_type": "display_data"
    },
    {
     "data": {
      "application/vnd.jupyter.widget-view+json": {
       "model_id": "",
       "version_major": 2,
       "version_minor": 0
      },
      "text/plain": [
       "validset:   0%|                                                                                  | 0/2 [00:00<…"
      ]
     },
     "metadata": {},
     "output_type": "display_data"
    },
    {
     "name": "stdout",
     "output_type": "stream",
     "text": [
      "epoch: 5\n",
      "train loss: 0.7623242519118569\n",
      "valid loss: 0.8185634016990662\n",
      "valid accuracy: 0.7416267942583732\n",
      "——————————————————————————————————————————————\n"
     ]
    },
    {
     "data": {
      "application/vnd.jupyter.widget-view+json": {
       "model_id": "",
       "version_major": 2,
       "version_minor": 0
      },
      "text/plain": [
       "trainset:   0%|                                                                                 | 0/11 [00:00<…"
      ]
     },
     "metadata": {},
     "output_type": "display_data"
    },
    {
     "data": {
      "application/vnd.jupyter.widget-view+json": {
       "model_id": "",
       "version_major": 2,
       "version_minor": 0
      },
      "text/plain": [
       "validset:   0%|                                                                                  | 0/2 [00:00<…"
      ]
     },
     "metadata": {},
     "output_type": "display_data"
    },
    {
     "name": "stdout",
     "output_type": "stream",
     "text": [
      "epoch: 6\n",
      "train loss: 0.6701455333016135\n",
      "valid loss: 0.8068921566009521\n",
      "valid accuracy: 0.7464114832535885\n",
      "——————————————————————————————————————————————\n"
     ]
    },
    {
     "data": {
      "application/vnd.jupyter.widget-view+json": {
       "model_id": "",
       "version_major": 2,
       "version_minor": 0
      },
      "text/plain": [
       "trainset:   0%|                                                                                 | 0/11 [00:00<…"
      ]
     },
     "metadata": {},
     "output_type": "display_data"
    },
    {
     "data": {
      "application/vnd.jupyter.widget-view+json": {
       "model_id": "",
       "version_major": 2,
       "version_minor": 0
      },
      "text/plain": [
       "validset:   0%|                                                                                  | 0/2 [00:00<…"
      ]
     },
     "metadata": {},
     "output_type": "display_data"
    },
    {
     "name": "stdout",
     "output_type": "stream",
     "text": [
      "epoch: 7\n",
      "train loss: 0.5945433080196381\n",
      "valid loss: 0.8652442693710327\n",
      "valid accuracy: 0.722488038277512\n",
      "——————————————————————————————————————————————\n"
     ]
    },
    {
     "data": {
      "application/vnd.jupyter.widget-view+json": {
       "model_id": "",
       "version_major": 2,
       "version_minor": 0
      },
      "text/plain": [
       "trainset:   0%|                                                                                 | 0/11 [00:00<…"
      ]
     },
     "metadata": {},
     "output_type": "display_data"
    },
    {
     "data": {
      "application/vnd.jupyter.widget-view+json": {
       "model_id": "",
       "version_major": 2,
       "version_minor": 0
      },
      "text/plain": [
       "validset:   0%|                                                                                  | 0/2 [00:00<…"
      ]
     },
     "metadata": {},
     "output_type": "display_data"
    },
    {
     "name": "stdout",
     "output_type": "stream",
     "text": [
      "epoch: 8\n",
      "train loss: 0.5152003060687672\n",
      "valid loss: 0.8473688662052155\n",
      "valid accuracy: 0.7320574162679426\n",
      "——————————————————————————————————————————————\n"
     ]
    },
    {
     "data": {
      "application/vnd.jupyter.widget-view+json": {
       "model_id": "",
       "version_major": 2,
       "version_minor": 0
      },
      "text/plain": [
       "trainset:   0%|                                                                                 | 0/11 [00:00<…"
      ]
     },
     "metadata": {},
     "output_type": "display_data"
    },
    {
     "data": {
      "application/vnd.jupyter.widget-view+json": {
       "model_id": "",
       "version_major": 2,
       "version_minor": 0
      },
      "text/plain": [
       "validset:   0%|                                                                                  | 0/2 [00:00<…"
      ]
     },
     "metadata": {},
     "output_type": "display_data"
    },
    {
     "name": "stdout",
     "output_type": "stream",
     "text": [
      "epoch: 9\n",
      "train loss: 0.4492676935412667\n",
      "valid loss: 0.8089805245399475\n",
      "valid accuracy: 0.7607655502392344\n",
      "——————————————————————————————————————————————\n"
     ]
    },
    {
     "data": {
      "application/vnd.jupyter.widget-view+json": {
       "model_id": "",
       "version_major": 2,
       "version_minor": 0
      },
      "text/plain": [
       "trainset:   0%|                                                                                 | 0/11 [00:00<…"
      ]
     },
     "metadata": {},
     "output_type": "display_data"
    },
    {
     "data": {
      "application/vnd.jupyter.widget-view+json": {
       "model_id": "",
       "version_major": 2,
       "version_minor": 0
      },
      "text/plain": [
       "validset:   0%|                                                                                  | 0/2 [00:00<…"
      ]
     },
     "metadata": {},
     "output_type": "display_data"
    },
    {
     "name": "stdout",
     "output_type": "stream",
     "text": [
      "epoch: 10\n",
      "train loss: 0.43035573850978504\n",
      "valid loss: 0.9546825885772705\n",
      "valid accuracy: 0.7177033492822966\n",
      "——————————————————————————————————————————————\n"
     ]
    },
    {
     "data": {
      "application/vnd.jupyter.widget-view+json": {
       "model_id": "",
       "version_major": 2,
       "version_minor": 0
      },
      "text/plain": [
       "trainset:   0%|                                                                                 | 0/11 [00:00<…"
      ]
     },
     "metadata": {},
     "output_type": "display_data"
    },
    {
     "data": {
      "application/vnd.jupyter.widget-view+json": {
       "model_id": "",
       "version_major": 2,
       "version_minor": 0
      },
      "text/plain": [
       "validset:   0%|                                                                                  | 0/2 [00:00<…"
      ]
     },
     "metadata": {},
     "output_type": "display_data"
    },
    {
     "name": "stdout",
     "output_type": "stream",
     "text": [
      "epoch: 11\n",
      "train loss: 0.41098006746985694\n",
      "valid loss: 1.0963571667671204\n",
      "valid accuracy: 0.7033492822966507\n",
      "——————————————————————————————————————————————\n"
     ]
    },
    {
     "data": {
      "application/vnd.jupyter.widget-view+json": {
       "model_id": "",
       "version_major": 2,
       "version_minor": 0
      },
      "text/plain": [
       "trainset:   0%|                                                                                 | 0/11 [00:00<…"
      ]
     },
     "metadata": {},
     "output_type": "display_data"
    },
    {
     "data": {
      "application/vnd.jupyter.widget-view+json": {
       "model_id": "",
       "version_major": 2,
       "version_minor": 0
      },
      "text/plain": [
       "validset:   0%|                                                                                  | 0/2 [00:00<…"
      ]
     },
     "metadata": {},
     "output_type": "display_data"
    },
    {
     "name": "stdout",
     "output_type": "stream",
     "text": [
      "epoch: 12\n",
      "train loss: 0.485912176695737\n",
      "valid loss: 1.1784954071044922\n",
      "valid accuracy: 0.6842105263157895\n",
      "——————————————————————————————————————————————\n"
     ]
    },
    {
     "data": {
      "application/vnd.jupyter.widget-view+json": {
       "model_id": "",
       "version_major": 2,
       "version_minor": 0
      },
      "text/plain": [
       "trainset:   0%|                                                                                 | 0/11 [00:00<…"
      ]
     },
     "metadata": {},
     "output_type": "display_data"
    },
    {
     "data": {
      "application/vnd.jupyter.widget-view+json": {
       "model_id": "",
       "version_major": 2,
       "version_minor": 0
      },
      "text/plain": [
       "validset:   0%|                                                                                  | 0/2 [00:00<…"
      ]
     },
     "metadata": {},
     "output_type": "display_data"
    },
    {
     "name": "stdout",
     "output_type": "stream",
     "text": [
      "epoch: 13\n",
      "train loss: 0.5577012002468109\n",
      "valid loss: 0.899105429649353\n",
      "valid accuracy: 0.7129186602870813\n",
      "——————————————————————————————————————————————\n"
     ]
    },
    {
     "data": {
      "application/vnd.jupyter.widget-view+json": {
       "model_id": "",
       "version_major": 2,
       "version_minor": 0
      },
      "text/plain": [
       "trainset:   0%|                                                                                 | 0/11 [00:00<…"
      ]
     },
     "metadata": {},
     "output_type": "display_data"
    },
    {
     "data": {
      "application/vnd.jupyter.widget-view+json": {
       "model_id": "",
       "version_major": 2,
       "version_minor": 0
      },
      "text/plain": [
       "validset:   0%|                                                                                  | 0/2 [00:00<…"
      ]
     },
     "metadata": {},
     "output_type": "display_data"
    },
    {
     "name": "stdout",
     "output_type": "stream",
     "text": [
      "epoch: 14\n",
      "train loss: 0.4090526916763999\n",
      "valid loss: 0.9652886092662811\n",
      "valid accuracy: 0.7177033492822966\n",
      "——————————————————————————————————————————————\n"
     ]
    },
    {
     "data": {
      "application/vnd.jupyter.widget-view+json": {
       "model_id": "",
       "version_major": 2,
       "version_minor": 0
      },
      "text/plain": [
       "trainset:   0%|                                                                                 | 0/11 [00:00<…"
      ]
     },
     "metadata": {},
     "output_type": "display_data"
    },
    {
     "data": {
      "application/vnd.jupyter.widget-view+json": {
       "model_id": "",
       "version_major": 2,
       "version_minor": 0
      },
      "text/plain": [
       "validset:   0%|                                                                                  | 0/2 [00:00<…"
      ]
     },
     "metadata": {},
     "output_type": "display_data"
    },
    {
     "name": "stdout",
     "output_type": "stream",
     "text": [
      "epoch: 15\n",
      "train loss: 0.3581135733561082\n",
      "valid loss: 0.8467852771282196\n",
      "valid accuracy: 0.7511961722488039\n",
      "——————————————————————————————————————————————\n"
     ]
    },
    {
     "data": {
      "application/vnd.jupyter.widget-view+json": {
       "model_id": "",
       "version_major": 2,
       "version_minor": 0
      },
      "text/plain": [
       "trainset:   0%|                                                                                 | 0/11 [00:00<…"
      ]
     },
     "metadata": {},
     "output_type": "display_data"
    },
    {
     "data": {
      "application/vnd.jupyter.widget-view+json": {
       "model_id": "",
       "version_major": 2,
       "version_minor": 0
      },
      "text/plain": [
       "validset:   0%|                                                                                  | 0/2 [00:00<…"
      ]
     },
     "metadata": {},
     "output_type": "display_data"
    },
    {
     "name": "stdout",
     "output_type": "stream",
     "text": [
      "epoch: 16\n",
      "train loss: 0.28082134506919165\n",
      "valid loss: 0.7694830894470215\n",
      "valid accuracy: 0.7655502392344498\n",
      "——————————————————————————————————————————————\n"
     ]
    },
    {
     "data": {
      "application/vnd.jupyter.widget-view+json": {
       "model_id": "",
       "version_major": 2,
       "version_minor": 0
      },
      "text/plain": [
       "trainset:   0%|                                                                                 | 0/11 [00:00<…"
      ]
     },
     "metadata": {},
     "output_type": "display_data"
    },
    {
     "data": {
      "application/vnd.jupyter.widget-view+json": {
       "model_id": "",
       "version_major": 2,
       "version_minor": 0
      },
      "text/plain": [
       "validset:   0%|                                                                                  | 0/2 [00:00<…"
      ]
     },
     "metadata": {},
     "output_type": "display_data"
    },
    {
     "name": "stdout",
     "output_type": "stream",
     "text": [
      "epoch: 17\n",
      "train loss: 0.21516680988398465\n",
      "valid loss: 0.8227570652961731\n",
      "valid accuracy: 0.7511961722488039\n",
      "——————————————————————————————————————————————\n"
     ]
    },
    {
     "data": {
      "application/vnd.jupyter.widget-view+json": {
       "model_id": "",
       "version_major": 2,
       "version_minor": 0
      },
      "text/plain": [
       "trainset:   0%|                                                                                 | 0/11 [00:00<…"
      ]
     },
     "metadata": {},
     "output_type": "display_data"
    },
    {
     "data": {
      "application/vnd.jupyter.widget-view+json": {
       "model_id": "",
       "version_major": 2,
       "version_minor": 0
      },
      "text/plain": [
       "validset:   0%|                                                                                  | 0/2 [00:00<…"
      ]
     },
     "metadata": {},
     "output_type": "display_data"
    },
    {
     "name": "stdout",
     "output_type": "stream",
     "text": [
      "epoch: 18\n",
      "train loss: 0.18697731603275647\n",
      "valid loss: 0.9097400009632111\n",
      "valid accuracy: 0.7511961722488039\n",
      "——————————————————————————————————————————————\n"
     ]
    },
    {
     "data": {
      "application/vnd.jupyter.widget-view+json": {
       "model_id": "",
       "version_major": 2,
       "version_minor": 0
      },
      "text/plain": [
       "trainset:   0%|                                                                                 | 0/11 [00:00<…"
      ]
     },
     "metadata": {},
     "output_type": "display_data"
    },
    {
     "data": {
      "application/vnd.jupyter.widget-view+json": {
       "model_id": "",
       "version_major": 2,
       "version_minor": 0
      },
      "text/plain": [
       "validset:   0%|                                                                                  | 0/2 [00:00<…"
      ]
     },
     "metadata": {},
     "output_type": "display_data"
    },
    {
     "name": "stdout",
     "output_type": "stream",
     "text": [
      "epoch: 19\n",
      "train loss: 0.1584176536310803\n",
      "valid loss: 0.8790696263313293\n",
      "valid accuracy: 0.7607655502392344\n",
      "——————————————————————————————————————————————\n"
     ]
    },
    {
     "data": {
      "application/vnd.jupyter.widget-view+json": {
       "model_id": "",
       "version_major": 2,
       "version_minor": 0
      },
      "text/plain": [
       "trainset:   0%|                                                                                 | 0/11 [00:00<…"
      ]
     },
     "metadata": {},
     "output_type": "display_data"
    },
    {
     "data": {
      "application/vnd.jupyter.widget-view+json": {
       "model_id": "",
       "version_major": 2,
       "version_minor": 0
      },
      "text/plain": [
       "validset:   0%|                                                                                  | 0/2 [00:00<…"
      ]
     },
     "metadata": {},
     "output_type": "display_data"
    },
    {
     "name": "stdout",
     "output_type": "stream",
     "text": [
      "epoch: 20\n",
      "train loss: 0.135620308870619\n",
      "valid loss: 0.9718517065048218\n",
      "valid accuracy: 0.7559808612440191\n",
      "——————————————————————————————————————————————\n"
     ]
    },
    {
     "data": {
      "application/vnd.jupyter.widget-view+json": {
       "model_id": "",
       "version_major": 2,
       "version_minor": 0
      },
      "text/plain": [
       "trainset:   0%|                                                                                 | 0/11 [00:00<…"
      ]
     },
     "metadata": {},
     "output_type": "display_data"
    },
    {
     "data": {
      "application/vnd.jupyter.widget-view+json": {
       "model_id": "",
       "version_major": 2,
       "version_minor": 0
      },
      "text/plain": [
       "validset:   0%|                                                                                  | 0/2 [00:00<…"
      ]
     },
     "metadata": {},
     "output_type": "display_data"
    },
    {
     "name": "stdout",
     "output_type": "stream",
     "text": [
      "epoch: 21\n",
      "train loss: 0.13828680190173062\n",
      "valid loss: 0.9618074595928192\n",
      "valid accuracy: 0.7511961722488039\n",
      "——————————————————————————————————————————————\n"
     ]
    },
    {
     "data": {
      "application/vnd.jupyter.widget-view+json": {
       "model_id": "",
       "version_major": 2,
       "version_minor": 0
      },
      "text/plain": [
       "trainset:   0%|                                                                                 | 0/11 [00:00<…"
      ]
     },
     "metadata": {},
     "output_type": "display_data"
    },
    {
     "data": {
      "application/vnd.jupyter.widget-view+json": {
       "model_id": "",
       "version_major": 2,
       "version_minor": 0
      },
      "text/plain": [
       "validset:   0%|                                                                                  | 0/2 [00:00<…"
      ]
     },
     "metadata": {},
     "output_type": "display_data"
    },
    {
     "name": "stdout",
     "output_type": "stream",
     "text": [
      "epoch: 22\n",
      "train loss: 0.10726982626048001\n",
      "valid loss: 0.9804539084434509\n",
      "valid accuracy: 0.7416267942583732\n",
      "——————————————————————————————————————————————\n"
     ]
    },
    {
     "data": {
      "application/vnd.jupyter.widget-view+json": {
       "model_id": "",
       "version_major": 2,
       "version_minor": 0
      },
      "text/plain": [
       "trainset:   0%|                                                                                 | 0/11 [00:00<…"
      ]
     },
     "metadata": {},
     "output_type": "display_data"
    },
    {
     "data": {
      "application/vnd.jupyter.widget-view+json": {
       "model_id": "",
       "version_major": 2,
       "version_minor": 0
      },
      "text/plain": [
       "validset:   0%|                                                                                  | 0/2 [00:00<…"
      ]
     },
     "metadata": {},
     "output_type": "display_data"
    },
    {
     "name": "stdout",
     "output_type": "stream",
     "text": [
      "epoch: 23\n",
      "train loss: 0.11052980273962021\n",
      "valid loss: 1.0719385147094727\n",
      "valid accuracy: 0.7464114832535885\n",
      "——————————————————————————————————————————————\n"
     ]
    },
    {
     "data": {
      "application/vnd.jupyter.widget-view+json": {
       "model_id": "",
       "version_major": 2,
       "version_minor": 0
      },
      "text/plain": [
       "trainset:   0%|                                                                                 | 0/11 [00:00<…"
      ]
     },
     "metadata": {},
     "output_type": "display_data"
    },
    {
     "data": {
      "application/vnd.jupyter.widget-view+json": {
       "model_id": "",
       "version_major": 2,
       "version_minor": 0
      },
      "text/plain": [
       "validset:   0%|                                                                                  | 0/2 [00:00<…"
      ]
     },
     "metadata": {},
     "output_type": "display_data"
    },
    {
     "name": "stdout",
     "output_type": "stream",
     "text": [
      "early stop\n"
     ]
    }
   ],
   "source": [
    "train_lost_epoch=[]\n",
    "valid_lost_epoch=[]\n",
    "valid_accuracy_list=[]\n",
    "for epoch in tqdm(range(epochs),desc='epoch'):\n",
    "    model.train()\n",
    "    loss_list=[]\n",
    "    i=0\n",
    "    for batch in tqdm(train_dataloader,desc='trainset',leave=False):\n",
    "        model.zero_grad() \n",
    "        optimizer.zero_grad()\n",
    "        input_ids = batch['input_ids'].to(device)\n",
    "        token_type_ids = batch['token_type_ids'].to(device)\n",
    "        attention_mask = batch['attention_mask'].to(device)\n",
    "        target=torch.tensor(y_train[i:i+bat_size]).to(device)\n",
    "        i+=bat_size\n",
    "        outputs = model(input_ids, \n",
    "                            token_type_ids, \n",
    "                            attention_mask, \n",
    "                            labels=target)\n",
    "\n",
    "        loss = outputs.loss\n",
    "        logits = outputs.logits\n",
    "        loss.backward()\n",
    "        optimizer.step()\n",
    "        loss_list.append(loss.item())\n",
    "    train_lost_epoch.append(np.mean(loss_list))\n",
    "    model.eval()\n",
    "    loss_list=[]\n",
    "    i=0\n",
    "    num_correct=0\n",
    "    for batch in tqdm(valid_dataloader,desc='validset',leave=False):\n",
    "        with torch.no_grad():  \n",
    "            input_ids = batch['input_ids'].to(device)\n",
    "            token_type_ids = batch['token_type_ids'].to(device)\n",
    "            attention_mask = batch['attention_mask'].to(device)\n",
    "\n",
    "            target=torch.tensor(y_valid[i:i+bat_size]).to(device)\n",
    "            i+=bat_size\n",
    "            outputs = model(input_ids, \n",
    "                                token_type_ids, \n",
    "                                attention_mask, \n",
    "                                labels=target)\n",
    "            loss = outputs.loss\n",
    "            logits = outputs.logits\n",
    "            loss_list.append(loss.item())\n",
    "            pred_flat = np.argmax(logits.detach().cpu().numpy(), axis=1).flatten()\n",
    "            labels_flat = target.to('cpu').numpy().flatten()\n",
    "            num_correct += np.sum(pred_flat == labels_flat)\n",
    "    valid_accuracy=num_correct/len(y_valid)\n",
    "    if  epoch==0:\n",
    "        torch.save(model.state_dict(), \"my_model_re\")\n",
    "    else:\n",
    "        if  valid_accuracy>max(valid_accuracy_list):\n",
    "            torch.save(model.state_dict(), \"my_model_re\")\n",
    "    if epoch>=10:\n",
    "        if valid_accuracy<min(valid_accuracy_list[-10:-1]):\n",
    "            print(\"early stop\")\n",
    "            break\n",
    "    valid_accuracy_list.append(valid_accuracy)\n",
    "    valid_lost_epoch.append(np.mean(loss_list))\n",
    "    print(\"epoch: \"+str(epoch))\n",
    "    print(\"train loss: \"+str(train_lost_epoch[-1]))\n",
    "    print(\"valid loss: \"+str(valid_lost_epoch[-1]))\n",
    "    print(\"valid accuracy: \"+str(valid_accuracy))\n",
    "    print(\"——————————————————————————————————————————————\")"
   ]
  },
  {
   "cell_type": "code",
   "execution_count": 34,
   "id": "a8e5a149",
   "metadata": {},
   "outputs": [
    {
     "name": "stdout",
     "output_type": "stream",
     "text": [
      "0.7655502392344498\n"
     ]
    }
   ],
   "source": [
    "print(max(valid_accuracy_list))"
   ]
  },
  {
   "cell_type": "markdown",
   "id": "6d2ac500",
   "metadata": {},
   "source": [
    "### p2"
   ]
  },
  {
   "cell_type": "code",
   "execution_count": 18,
   "id": "60e87525",
   "metadata": {},
   "outputs": [
    {
     "data": {
      "application/vnd.jupyter.widget-view+json": {
       "model_id": "",
       "version_major": 2,
       "version_minor": 0
      },
      "text/plain": [
       "  0%|                                                                                          | 0/700 [00:00<…"
      ]
     },
     "metadata": {},
     "output_type": "display_data"
    }
   ],
   "source": [
    "import os\n",
    "import openai\n",
    "import time\n",
    "from auto_tqdm import tqdm\n",
    "def rephrase_by_chatgptp2(text):\n",
    "    file1=open(\"api_key.txt\",'r')\n",
    "    api_key=file1.read()\n",
    "    openai.api_key=api_key\n",
    "    completion = openai.ChatCompletion.create(\n",
    "    model=\"gpt-3.5-turbo\",\n",
    "    messages=[{'role': 'user', 'content': \"Please rephrase the following sentences from poem but keep their emotion \" +text}])\n",
    "    return completion.choices[0].message.content\n",
    "x_new=[]\n",
    "y_new=[]\n",
    "for i in tqdm(range(len(X_train_original))):\n",
    "    count=0\n",
    "    while(count!=1):\n",
    "        try:\n",
    "            ans=rephrase_by_chatgptp2(X_train_original[i])\n",
    "            x_new.append(ans)\n",
    "            y_new.append(y_train_original[i])\n",
    "            count=1  \n",
    "        except:\n",
    "            time.sleep(0.5)\n",
    "base_dict={\"verse_text\":x_new,\"label\":y_new}\n",
    "new_df=pd.DataFrame.from_dict(base_dict)\n",
    "new_df.to_csv(\"chatgpt_poem_p2\")\n",
    "new_df=pd.read_csv(\"chatgpt_poem_p2\")\n",
    "X_train_base=list(X_train_original)+list(new_df['verse_text'])\n",
    "y_train_base=list(y_train_original)+list(new_df['label'])\n",
    "X_train=tokenizer(list(X_train_base),truncation=True, padding=True, max_length=12,return_tensors='pt')\n",
    "y_train=list(y_train_base)"
   ]
  },
  {
   "cell_type": "code",
   "execution_count": 19,
   "id": "b8ef9a59",
   "metadata": {},
   "outputs": [
    {
     "name": "stderr",
     "output_type": "stream",
     "text": [
      "Some weights of the model checkpoint at bert-base-uncased were not used when initializing BertForSequenceClassification: ['cls.predictions.transform.dense.bias', 'cls.seq_relationship.bias', 'cls.predictions.decoder.weight', 'cls.predictions.transform.dense.weight', 'cls.predictions.bias', 'cls.seq_relationship.weight', 'cls.predictions.transform.LayerNorm.bias', 'cls.predictions.transform.LayerNorm.weight']\n",
      "- This IS expected if you are initializing BertForSequenceClassification from the checkpoint of a model trained on another task or with another architecture (e.g. initializing a BertForSequenceClassification model from a BertForPreTraining model).\n",
      "- This IS NOT expected if you are initializing BertForSequenceClassification from the checkpoint of a model that you expect to be exactly identical (initializing a BertForSequenceClassification model from a BertForSequenceClassification model).\n",
      "Some weights of BertForSequenceClassification were not initialized from the model checkpoint at bert-base-uncased and are newly initialized: ['classifier.bias', 'classifier.weight']\n",
      "You should probably TRAIN this model on a down-stream task to be able to use it for predictions and inference.\n",
      "F:\\anaconda\\lib\\site-packages\\transformers\\optimization.py:391: FutureWarning: This implementation of AdamW is deprecated and will be removed in a future version. Use the PyTorch implementation torch.optim.AdamW instead, or set `no_deprecation_warning=True` to disable this warning\n",
      "  warnings.warn(\n"
     ]
    },
    {
     "data": {
      "application/vnd.jupyter.widget-view+json": {
       "model_id": "2f997294fdb743a2ae59d7ec7d440c00",
       "version_major": 2,
       "version_minor": 0
      },
      "text/plain": [
       "epoch:   0%|                                                                                    | 0/50 [00:00<…"
      ]
     },
     "metadata": {},
     "output_type": "display_data"
    },
    {
     "data": {
      "application/vnd.jupyter.widget-view+json": {
       "model_id": "",
       "version_major": 2,
       "version_minor": 0
      },
      "text/plain": [
       "trainset:   0%|                                                                                 | 0/11 [00:00<…"
      ]
     },
     "metadata": {},
     "output_type": "display_data"
    },
    {
     "data": {
      "application/vnd.jupyter.widget-view+json": {
       "model_id": "",
       "version_major": 2,
       "version_minor": 0
      },
      "text/plain": [
       "validset:   0%|                                                                                  | 0/2 [00:00<…"
      ]
     },
     "metadata": {},
     "output_type": "display_data"
    },
    {
     "name": "stdout",
     "output_type": "stream",
     "text": [
      "epoch: 0\n",
      "train loss: 1.253892887722362\n",
      "valid loss: 1.0453683137893677\n",
      "valid accuracy: 0.6602870813397129\n",
      "——————————————————————————————————————————————\n"
     ]
    },
    {
     "data": {
      "application/vnd.jupyter.widget-view+json": {
       "model_id": "",
       "version_major": 2,
       "version_minor": 0
      },
      "text/plain": [
       "trainset:   0%|                                                                                 | 0/11 [00:00<…"
      ]
     },
     "metadata": {},
     "output_type": "display_data"
    },
    {
     "data": {
      "application/vnd.jupyter.widget-view+json": {
       "model_id": "",
       "version_major": 2,
       "version_minor": 0
      },
      "text/plain": [
       "validset:   0%|                                                                                  | 0/2 [00:00<…"
      ]
     },
     "metadata": {},
     "output_type": "display_data"
    },
    {
     "name": "stdout",
     "output_type": "stream",
     "text": [
      "epoch: 1\n",
      "train loss: 1.0515467741272666\n",
      "valid loss: 0.950000673532486\n",
      "valid accuracy: 0.6602870813397129\n",
      "——————————————————————————————————————————————\n"
     ]
    },
    {
     "data": {
      "application/vnd.jupyter.widget-view+json": {
       "model_id": "",
       "version_major": 2,
       "version_minor": 0
      },
      "text/plain": [
       "trainset:   0%|                                                                                 | 0/11 [00:00<…"
      ]
     },
     "metadata": {},
     "output_type": "display_data"
    },
    {
     "data": {
      "application/vnd.jupyter.widget-view+json": {
       "model_id": "",
       "version_major": 2,
       "version_minor": 0
      },
      "text/plain": [
       "validset:   0%|                                                                                  | 0/2 [00:00<…"
      ]
     },
     "metadata": {},
     "output_type": "display_data"
    },
    {
     "name": "stdout",
     "output_type": "stream",
     "text": [
      "epoch: 2\n",
      "train loss: 1.02396652915261\n",
      "valid loss: 0.9179369807243347\n",
      "valid accuracy: 0.6602870813397129\n",
      "——————————————————————————————————————————————\n"
     ]
    },
    {
     "data": {
      "application/vnd.jupyter.widget-view+json": {
       "model_id": "",
       "version_major": 2,
       "version_minor": 0
      },
      "text/plain": [
       "trainset:   0%|                                                                                 | 0/11 [00:00<…"
      ]
     },
     "metadata": {},
     "output_type": "display_data"
    },
    {
     "data": {
      "application/vnd.jupyter.widget-view+json": {
       "model_id": "",
       "version_major": 2,
       "version_minor": 0
      },
      "text/plain": [
       "validset:   0%|                                                                                  | 0/2 [00:00<…"
      ]
     },
     "metadata": {},
     "output_type": "display_data"
    },
    {
     "name": "stdout",
     "output_type": "stream",
     "text": [
      "epoch: 3\n",
      "train loss: 0.9966316223144531\n",
      "valid loss: 0.8925484120845795\n",
      "valid accuracy: 0.6602870813397129\n",
      "——————————————————————————————————————————————\n"
     ]
    },
    {
     "data": {
      "application/vnd.jupyter.widget-view+json": {
       "model_id": "",
       "version_major": 2,
       "version_minor": 0
      },
      "text/plain": [
       "trainset:   0%|                                                                                 | 0/11 [00:00<…"
      ]
     },
     "metadata": {},
     "output_type": "display_data"
    },
    {
     "data": {
      "application/vnd.jupyter.widget-view+json": {
       "model_id": "",
       "version_major": 2,
       "version_minor": 0
      },
      "text/plain": [
       "validset:   0%|                                                                                  | 0/2 [00:00<…"
      ]
     },
     "metadata": {},
     "output_type": "display_data"
    },
    {
     "name": "stdout",
     "output_type": "stream",
     "text": [
      "epoch: 4\n",
      "train loss: 0.9502051310105757\n",
      "valid loss: 0.8862158954143524\n",
      "valid accuracy: 0.6602870813397129\n",
      "——————————————————————————————————————————————\n"
     ]
    },
    {
     "data": {
      "application/vnd.jupyter.widget-view+json": {
       "model_id": "",
       "version_major": 2,
       "version_minor": 0
      },
      "text/plain": [
       "trainset:   0%|                                                                                 | 0/11 [00:00<…"
      ]
     },
     "metadata": {},
     "output_type": "display_data"
    },
    {
     "data": {
      "application/vnd.jupyter.widget-view+json": {
       "model_id": "",
       "version_major": 2,
       "version_minor": 0
      },
      "text/plain": [
       "validset:   0%|                                                                                  | 0/2 [00:00<…"
      ]
     },
     "metadata": {},
     "output_type": "display_data"
    },
    {
     "name": "stdout",
     "output_type": "stream",
     "text": [
      "epoch: 5\n",
      "train loss: 0.8848507675257596\n",
      "valid loss: 0.8568534851074219\n",
      "valid accuracy: 0.6602870813397129\n",
      "——————————————————————————————————————————————\n"
     ]
    },
    {
     "data": {
      "application/vnd.jupyter.widget-view+json": {
       "model_id": "",
       "version_major": 2,
       "version_minor": 0
      },
      "text/plain": [
       "trainset:   0%|                                                                                 | 0/11 [00:00<…"
      ]
     },
     "metadata": {},
     "output_type": "display_data"
    },
    {
     "data": {
      "application/vnd.jupyter.widget-view+json": {
       "model_id": "",
       "version_major": 2,
       "version_minor": 0
      },
      "text/plain": [
       "validset:   0%|                                                                                  | 0/2 [00:00<…"
      ]
     },
     "metadata": {},
     "output_type": "display_data"
    },
    {
     "name": "stdout",
     "output_type": "stream",
     "text": [
      "epoch: 6\n",
      "train loss: 0.8265145800330422\n",
      "valid loss: 0.8962196111679077\n",
      "valid accuracy: 0.69377990430622\n",
      "——————————————————————————————————————————————\n"
     ]
    },
    {
     "data": {
      "application/vnd.jupyter.widget-view+json": {
       "model_id": "",
       "version_major": 2,
       "version_minor": 0
      },
      "text/plain": [
       "trainset:   0%|                                                                                 | 0/11 [00:00<…"
      ]
     },
     "metadata": {},
     "output_type": "display_data"
    },
    {
     "data": {
      "application/vnd.jupyter.widget-view+json": {
       "model_id": "",
       "version_major": 2,
       "version_minor": 0
      },
      "text/plain": [
       "validset:   0%|                                                                                  | 0/2 [00:00<…"
      ]
     },
     "metadata": {},
     "output_type": "display_data"
    },
    {
     "name": "stdout",
     "output_type": "stream",
     "text": [
      "epoch: 7\n",
      "train loss: 0.8126004121520303\n",
      "valid loss: 0.8868883848190308\n",
      "valid accuracy: 0.6889952153110048\n",
      "——————————————————————————————————————————————\n"
     ]
    },
    {
     "data": {
      "application/vnd.jupyter.widget-view+json": {
       "model_id": "",
       "version_major": 2,
       "version_minor": 0
      },
      "text/plain": [
       "trainset:   0%|                                                                                 | 0/11 [00:00<…"
      ]
     },
     "metadata": {},
     "output_type": "display_data"
    },
    {
     "data": {
      "application/vnd.jupyter.widget-view+json": {
       "model_id": "",
       "version_major": 2,
       "version_minor": 0
      },
      "text/plain": [
       "validset:   0%|                                                                                  | 0/2 [00:00<…"
      ]
     },
     "metadata": {},
     "output_type": "display_data"
    },
    {
     "name": "stdout",
     "output_type": "stream",
     "text": [
      "epoch: 8\n",
      "train loss: 0.7462911660021002\n",
      "valid loss: 0.8780803084373474\n",
      "valid accuracy: 0.7033492822966507\n",
      "——————————————————————————————————————————————\n"
     ]
    },
    {
     "data": {
      "application/vnd.jupyter.widget-view+json": {
       "model_id": "",
       "version_major": 2,
       "version_minor": 0
      },
      "text/plain": [
       "trainset:   0%|                                                                                 | 0/11 [00:00<…"
      ]
     },
     "metadata": {},
     "output_type": "display_data"
    },
    {
     "data": {
      "application/vnd.jupyter.widget-view+json": {
       "model_id": "",
       "version_major": 2,
       "version_minor": 0
      },
      "text/plain": [
       "validset:   0%|                                                                                  | 0/2 [00:00<…"
      ]
     },
     "metadata": {},
     "output_type": "display_data"
    },
    {
     "name": "stdout",
     "output_type": "stream",
     "text": [
      "epoch: 9\n",
      "train loss: 0.6565853736617349\n",
      "valid loss: 0.964288592338562\n",
      "valid accuracy: 0.7033492822966507\n",
      "——————————————————————————————————————————————\n"
     ]
    },
    {
     "data": {
      "application/vnd.jupyter.widget-view+json": {
       "model_id": "",
       "version_major": 2,
       "version_minor": 0
      },
      "text/plain": [
       "trainset:   0%|                                                                                 | 0/11 [00:00<…"
      ]
     },
     "metadata": {},
     "output_type": "display_data"
    },
    {
     "data": {
      "application/vnd.jupyter.widget-view+json": {
       "model_id": "",
       "version_major": 2,
       "version_minor": 0
      },
      "text/plain": [
       "validset:   0%|                                                                                  | 0/2 [00:00<…"
      ]
     },
     "metadata": {},
     "output_type": "display_data"
    },
    {
     "name": "stdout",
     "output_type": "stream",
     "text": [
      "epoch: 10\n",
      "train loss: 0.583088295026259\n",
      "valid loss: 0.9758772850036621\n",
      "valid accuracy: 0.7177033492822966\n",
      "——————————————————————————————————————————————\n"
     ]
    },
    {
     "data": {
      "application/vnd.jupyter.widget-view+json": {
       "model_id": "",
       "version_major": 2,
       "version_minor": 0
      },
      "text/plain": [
       "trainset:   0%|                                                                                 | 0/11 [00:00<…"
      ]
     },
     "metadata": {},
     "output_type": "display_data"
    },
    {
     "data": {
      "application/vnd.jupyter.widget-view+json": {
       "model_id": "",
       "version_major": 2,
       "version_minor": 0
      },
      "text/plain": [
       "validset:   0%|                                                                                  | 0/2 [00:00<…"
      ]
     },
     "metadata": {},
     "output_type": "display_data"
    },
    {
     "name": "stdout",
     "output_type": "stream",
     "text": [
      "epoch: 11\n",
      "train loss: 0.5833671499382366\n",
      "valid loss: 0.98283252120018\n",
      "valid accuracy: 0.7129186602870813\n",
      "——————————————————————————————————————————————\n"
     ]
    },
    {
     "data": {
      "application/vnd.jupyter.widget-view+json": {
       "model_id": "",
       "version_major": 2,
       "version_minor": 0
      },
      "text/plain": [
       "trainset:   0%|                                                                                 | 0/11 [00:00<…"
      ]
     },
     "metadata": {},
     "output_type": "display_data"
    },
    {
     "data": {
      "application/vnd.jupyter.widget-view+json": {
       "model_id": "",
       "version_major": 2,
       "version_minor": 0
      },
      "text/plain": [
       "validset:   0%|                                                                                  | 0/2 [00:00<…"
      ]
     },
     "metadata": {},
     "output_type": "display_data"
    },
    {
     "name": "stdout",
     "output_type": "stream",
     "text": [
      "epoch: 12\n",
      "train loss: 0.5531266765160994\n",
      "valid loss: 1.0765891075134277\n",
      "valid accuracy: 0.6985645933014354\n",
      "——————————————————————————————————————————————\n"
     ]
    },
    {
     "data": {
      "application/vnd.jupyter.widget-view+json": {
       "model_id": "",
       "version_major": 2,
       "version_minor": 0
      },
      "text/plain": [
       "trainset:   0%|                                                                                 | 0/11 [00:00<…"
      ]
     },
     "metadata": {},
     "output_type": "display_data"
    },
    {
     "data": {
      "application/vnd.jupyter.widget-view+json": {
       "model_id": "",
       "version_major": 2,
       "version_minor": 0
      },
      "text/plain": [
       "validset:   0%|                                                                                  | 0/2 [00:00<…"
      ]
     },
     "metadata": {},
     "output_type": "display_data"
    },
    {
     "name": "stdout",
     "output_type": "stream",
     "text": [
      "epoch: 13\n",
      "train loss: 0.6542212096127596\n",
      "valid loss: 0.8122573792934418\n",
      "valid accuracy: 0.7177033492822966\n",
      "——————————————————————————————————————————————\n"
     ]
    },
    {
     "data": {
      "application/vnd.jupyter.widget-view+json": {
       "model_id": "",
       "version_major": 2,
       "version_minor": 0
      },
      "text/plain": [
       "trainset:   0%|                                                                                 | 0/11 [00:00<…"
      ]
     },
     "metadata": {},
     "output_type": "display_data"
    },
    {
     "data": {
      "application/vnd.jupyter.widget-view+json": {
       "model_id": "",
       "version_major": 2,
       "version_minor": 0
      },
      "text/plain": [
       "validset:   0%|                                                                                  | 0/2 [00:00<…"
      ]
     },
     "metadata": {},
     "output_type": "display_data"
    },
    {
     "name": "stdout",
     "output_type": "stream",
     "text": [
      "epoch: 14\n",
      "train loss: 0.6046023775230754\n",
      "valid loss: 0.7780191600322723\n",
      "valid accuracy: 0.7081339712918661\n",
      "——————————————————————————————————————————————\n"
     ]
    },
    {
     "data": {
      "application/vnd.jupyter.widget-view+json": {
       "model_id": "",
       "version_major": 2,
       "version_minor": 0
      },
      "text/plain": [
       "trainset:   0%|                                                                                 | 0/11 [00:00<…"
      ]
     },
     "metadata": {},
     "output_type": "display_data"
    },
    {
     "data": {
      "application/vnd.jupyter.widget-view+json": {
       "model_id": "",
       "version_major": 2,
       "version_minor": 0
      },
      "text/plain": [
       "validset:   0%|                                                                                  | 0/2 [00:00<…"
      ]
     },
     "metadata": {},
     "output_type": "display_data"
    },
    {
     "name": "stdout",
     "output_type": "stream",
     "text": [
      "epoch: 15\n",
      "train loss: 0.48304173621264374\n",
      "valid loss: 0.8940348923206329\n",
      "valid accuracy: 0.722488038277512\n",
      "——————————————————————————————————————————————\n"
     ]
    },
    {
     "data": {
      "application/vnd.jupyter.widget-view+json": {
       "model_id": "",
       "version_major": 2,
       "version_minor": 0
      },
      "text/plain": [
       "trainset:   0%|                                                                                 | 0/11 [00:00<…"
      ]
     },
     "metadata": {},
     "output_type": "display_data"
    },
    {
     "data": {
      "application/vnd.jupyter.widget-view+json": {
       "model_id": "",
       "version_major": 2,
       "version_minor": 0
      },
      "text/plain": [
       "validset:   0%|                                                                                  | 0/2 [00:00<…"
      ]
     },
     "metadata": {},
     "output_type": "display_data"
    },
    {
     "name": "stdout",
     "output_type": "stream",
     "text": [
      "epoch: 16\n",
      "train loss: 0.4355633827773007\n",
      "valid loss: 0.8328381478786469\n",
      "valid accuracy: 0.7607655502392344\n",
      "——————————————————————————————————————————————\n"
     ]
    },
    {
     "data": {
      "application/vnd.jupyter.widget-view+json": {
       "model_id": "",
       "version_major": 2,
       "version_minor": 0
      },
      "text/plain": [
       "trainset:   0%|                                                                                 | 0/11 [00:00<…"
      ]
     },
     "metadata": {},
     "output_type": "display_data"
    },
    {
     "data": {
      "application/vnd.jupyter.widget-view+json": {
       "model_id": "",
       "version_major": 2,
       "version_minor": 0
      },
      "text/plain": [
       "validset:   0%|                                                                                  | 0/2 [00:00<…"
      ]
     },
     "metadata": {},
     "output_type": "display_data"
    },
    {
     "name": "stdout",
     "output_type": "stream",
     "text": [
      "early stop\n"
     ]
    }
   ],
   "source": [
    "from torch.utils.data import DataLoader\n",
    "train_dataloader = DataLoader(MyData(X_train) , batch_size=bat_size,shuffle = False)\n",
    "model= BertForSequenceClassification.from_pretrained(\n",
    "    \"bert-base-uncased\", \n",
    "    num_labels = 4,    \n",
    "    output_attentions = False, \n",
    "    output_hidden_states = False,\n",
    ")\n",
    "model.to(device)\n",
    "optimizer = AdamW(model.parameters(),\n",
    "                  lr = 1e-5, # args.learning_rate - default is 5e-5\n",
    "                  eps = 1e-8, # args.adam_epsilon  - default is 1e-8\n",
    "                  weight_decay=0.01,\n",
    "                  correct_bias=True\n",
    "                )\n",
    "epochs = 50\n",
    "train_lost_epoch=[]\n",
    "valid_lost_epoch=[]\n",
    "valid_accuracy_list=[]\n",
    "for epoch in tqdm(range(epochs),desc='epoch'):\n",
    "    model.train()\n",
    "    loss_list=[]\n",
    "    i=0\n",
    "    for batch in tqdm(train_dataloader,desc='trainset',leave=False):\n",
    "        model.zero_grad() \n",
    "        optimizer.zero_grad()\n",
    "        input_ids = batch['input_ids'].to(device)\n",
    "        token_type_ids = batch['token_type_ids'].to(device)\n",
    "        attention_mask = batch['attention_mask'].to(device)\n",
    "        target=torch.tensor(y_train[i:i+bat_size]).to(device)\n",
    "        i+=bat_size\n",
    "        outputs = model(input_ids, \n",
    "                            token_type_ids, \n",
    "                            attention_mask, \n",
    "                            labels=target)\n",
    "\n",
    "        loss = outputs.loss\n",
    "        logits = outputs.logits\n",
    "        loss.backward()\n",
    "        optimizer.step()\n",
    "        loss_list.append(loss.item())\n",
    "    train_lost_epoch.append(np.mean(loss_list))\n",
    "    model.eval()\n",
    "    loss_list=[]\n",
    "    i=0\n",
    "    num_correct=0\n",
    "    for batch in tqdm(valid_dataloader,desc='validset',leave=False):\n",
    "        with torch.no_grad():  \n",
    "            input_ids = batch['input_ids'].to(device)\n",
    "            token_type_ids = batch['token_type_ids'].to(device)\n",
    "            attention_mask = batch['attention_mask'].to(device)\n",
    "\n",
    "            target=torch.tensor(y_valid[i:i+bat_size]).to(device)\n",
    "            i+=bat_size\n",
    "            outputs = model(input_ids, \n",
    "                                token_type_ids, \n",
    "                                attention_mask, \n",
    "                                labels=target)\n",
    "            loss = outputs.loss\n",
    "            logits = outputs.logits\n",
    "            loss_list.append(loss.item())\n",
    "            pred_flat = np.argmax(logits.detach().cpu().numpy(), axis=1).flatten()\n",
    "            labels_flat = target.to('cpu').numpy().flatten()\n",
    "            num_correct += np.sum(pred_flat == labels_flat)\n",
    "    valid_accuracy=num_correct/len(y_valid)\n",
    "    if  epoch==0:\n",
    "        torch.save(model.state_dict(), \"my_model_re\")\n",
    "    else:\n",
    "        if  valid_accuracy>max(valid_accuracy_list):\n",
    "            torch.save(model.state_dict(), \"my_model_re\")\n",
    "    if epoch>=10:\n",
    "        if valid_accuracy<min(valid_accuracy_list[-10:-1]):\n",
    "            print(\"early stop\")\n",
    "            break\n",
    "    valid_accuracy_list.append(valid_accuracy)\n",
    "    valid_lost_epoch.append(np.mean(loss_list))\n",
    "    print(\"epoch: \"+str(epoch))\n",
    "    print(\"train loss: \"+str(train_lost_epoch[-1]))\n",
    "    print(\"valid loss: \"+str(valid_lost_epoch[-1]))\n",
    "    print(\"valid accuracy: \"+str(valid_accuracy))\n",
    "    print(\"——————————————————————————————————————————————\")"
   ]
  },
  {
   "cell_type": "code",
   "execution_count": 20,
   "id": "8ef1ecd6",
   "metadata": {},
   "outputs": [
    {
     "name": "stdout",
     "output_type": "stream",
     "text": [
      "0.7607655502392344\n"
     ]
    }
   ],
   "source": [
    "print(max(valid_accuracy_list))"
   ]
  },
  {
   "cell_type": "markdown",
   "id": "6304f209",
   "metadata": {},
   "source": [
    "## p3"
   ]
  },
  {
   "cell_type": "code",
   "execution_count": 28,
   "id": "31d16b5e",
   "metadata": {},
   "outputs": [
    {
     "data": {
      "application/vnd.jupyter.widget-view+json": {
       "model_id": "",
       "version_major": 2,
       "version_minor": 0
      },
      "text/plain": [
       "  0%|                                                                                          | 0/700 [00:00<…"
      ]
     },
     "metadata": {},
     "output_type": "display_data"
    }
   ],
   "source": [
    "import os\n",
    "import openai\n",
    "import time\n",
    "from auto_tqdm import tqdm\n",
    "def rephrase_by_chatgptp3(text):\n",
    "    file1=open(\"api_key.txt\",'r')\n",
    "    api_key=file1.read()\n",
    "    openai.api_key=api_key\n",
    "    completion = openai.ChatCompletion.create(\n",
    "    model=\"gpt-3.5-turbo\",\n",
    "    messages=[{'role': 'user', 'content': \"Please rephrase the following sentences to around 12 length words without changing emotion: \" + text}])\n",
    "    return completion.choices[0].message.content\n",
    "x_new=[]\n",
    "y_new=[]\n",
    "for i in tqdm(range(len(X_train_original))):\n",
    "    count=0\n",
    "    while(count!=1):\n",
    "        try:\n",
    "            ans=rephrase_by_chatgptp3(X_train_original[i])\n",
    "            x_new.append(ans)\n",
    "            y_new.append(y_train_original[i])\n",
    "            count=1  \n",
    "        except:\n",
    "            time.sleep(0.5)\n",
    "base_dict={\"verse_text\":x_new,\"label\":y_new}\n",
    "new_df=pd.DataFrame.from_dict(base_dict)\n",
    "new_df.to_csv(\"chatgpt_poem_p3\")\n",
    "new_df=pd.read_csv(\"chatgpt_poem_p3\")\n",
    "X_train_base=list(X_train_original)+list(new_df['verse_text'])\n",
    "y_train_base=list(y_train_original)+list(new_df['label'])\n",
    "X_train=tokenizer(list(X_train_base),truncation=True, padding=True, max_length=12,return_tensors='pt')\n",
    "y_train=list(y_train_base)"
   ]
  },
  {
   "cell_type": "code",
   "execution_count": 33,
   "id": "ce4359da",
   "metadata": {
    "scrolled": true
   },
   "outputs": [
    {
     "name": "stderr",
     "output_type": "stream",
     "text": [
      "Some weights of the model checkpoint at bert-base-uncased were not used when initializing BertForSequenceClassification: ['cls.predictions.transform.dense.bias', 'cls.seq_relationship.bias', 'cls.predictions.decoder.weight', 'cls.predictions.transform.dense.weight', 'cls.predictions.bias', 'cls.seq_relationship.weight', 'cls.predictions.transform.LayerNorm.bias', 'cls.predictions.transform.LayerNorm.weight']\n",
      "- This IS expected if you are initializing BertForSequenceClassification from the checkpoint of a model trained on another task or with another architecture (e.g. initializing a BertForSequenceClassification model from a BertForPreTraining model).\n",
      "- This IS NOT expected if you are initializing BertForSequenceClassification from the checkpoint of a model that you expect to be exactly identical (initializing a BertForSequenceClassification model from a BertForSequenceClassification model).\n",
      "Some weights of BertForSequenceClassification were not initialized from the model checkpoint at bert-base-uncased and are newly initialized: ['classifier.bias', 'classifier.weight']\n",
      "You should probably TRAIN this model on a down-stream task to be able to use it for predictions and inference.\n"
     ]
    },
    {
     "data": {
      "application/vnd.jupyter.widget-view+json": {
       "model_id": "29f10a99d153423a910d8aa0211b4df6",
       "version_major": 2,
       "version_minor": 0
      },
      "text/plain": [
       "epoch:   0%|                                                                                    | 0/50 [00:00<…"
      ]
     },
     "metadata": {},
     "output_type": "display_data"
    },
    {
     "data": {
      "application/vnd.jupyter.widget-view+json": {
       "model_id": "",
       "version_major": 2,
       "version_minor": 0
      },
      "text/plain": [
       "trainset:   0%|                                                                                 | 0/11 [00:00<…"
      ]
     },
     "metadata": {},
     "output_type": "display_data"
    },
    {
     "data": {
      "application/vnd.jupyter.widget-view+json": {
       "model_id": "",
       "version_major": 2,
       "version_minor": 0
      },
      "text/plain": [
       "validset:   0%|                                                                                  | 0/2 [00:00<…"
      ]
     },
     "metadata": {},
     "output_type": "display_data"
    },
    {
     "name": "stdout",
     "output_type": "stream",
     "text": [
      "epoch: 0\n",
      "train loss: 1.2254488847472451\n",
      "valid loss: 1.0295893549919128\n",
      "valid accuracy: 0.6602870813397129\n",
      "——————————————————————————————————————————————\n"
     ]
    },
    {
     "data": {
      "application/vnd.jupyter.widget-view+json": {
       "model_id": "",
       "version_major": 2,
       "version_minor": 0
      },
      "text/plain": [
       "trainset:   0%|                                                                                 | 0/11 [00:00<…"
      ]
     },
     "metadata": {},
     "output_type": "display_data"
    },
    {
     "data": {
      "application/vnd.jupyter.widget-view+json": {
       "model_id": "",
       "version_major": 2,
       "version_minor": 0
      },
      "text/plain": [
       "validset:   0%|                                                                                  | 0/2 [00:00<…"
      ]
     },
     "metadata": {},
     "output_type": "display_data"
    },
    {
     "name": "stdout",
     "output_type": "stream",
     "text": [
      "epoch: 1\n",
      "train loss: 1.0400849255648525\n",
      "valid loss: 0.9459940493106842\n",
      "valid accuracy: 0.6602870813397129\n",
      "——————————————————————————————————————————————\n"
     ]
    },
    {
     "data": {
      "application/vnd.jupyter.widget-view+json": {
       "model_id": "",
       "version_major": 2,
       "version_minor": 0
      },
      "text/plain": [
       "trainset:   0%|                                                                                 | 0/11 [00:00<…"
      ]
     },
     "metadata": {},
     "output_type": "display_data"
    },
    {
     "data": {
      "application/vnd.jupyter.widget-view+json": {
       "model_id": "",
       "version_major": 2,
       "version_minor": 0
      },
      "text/plain": [
       "validset:   0%|                                                                                  | 0/2 [00:00<…"
      ]
     },
     "metadata": {},
     "output_type": "display_data"
    },
    {
     "name": "stdout",
     "output_type": "stream",
     "text": [
      "epoch: 2\n",
      "train loss: 0.9994429078969088\n",
      "valid loss: 0.9175613820552826\n",
      "valid accuracy: 0.6602870813397129\n",
      "——————————————————————————————————————————————\n"
     ]
    },
    {
     "data": {
      "application/vnd.jupyter.widget-view+json": {
       "model_id": "",
       "version_major": 2,
       "version_minor": 0
      },
      "text/plain": [
       "trainset:   0%|                                                                                 | 0/11 [00:00<…"
      ]
     },
     "metadata": {},
     "output_type": "display_data"
    },
    {
     "data": {
      "application/vnd.jupyter.widget-view+json": {
       "model_id": "",
       "version_major": 2,
       "version_minor": 0
      },
      "text/plain": [
       "validset:   0%|                                                                                  | 0/2 [00:00<…"
      ]
     },
     "metadata": {},
     "output_type": "display_data"
    },
    {
     "name": "stdout",
     "output_type": "stream",
     "text": [
      "epoch: 3\n",
      "train loss: 0.9606176885691556\n",
      "valid loss: 0.8888067901134491\n",
      "valid accuracy: 0.6602870813397129\n",
      "——————————————————————————————————————————————\n"
     ]
    },
    {
     "data": {
      "application/vnd.jupyter.widget-view+json": {
       "model_id": "",
       "version_major": 2,
       "version_minor": 0
      },
      "text/plain": [
       "trainset:   0%|                                                                                 | 0/11 [00:00<…"
      ]
     },
     "metadata": {},
     "output_type": "display_data"
    },
    {
     "data": {
      "application/vnd.jupyter.widget-view+json": {
       "model_id": "",
       "version_major": 2,
       "version_minor": 0
      },
      "text/plain": [
       "validset:   0%|                                                                                  | 0/2 [00:00<…"
      ]
     },
     "metadata": {},
     "output_type": "display_data"
    },
    {
     "name": "stdout",
     "output_type": "stream",
     "text": [
      "epoch: 4\n",
      "train loss: 0.8805646300315857\n",
      "valid loss: 0.8561734259128571\n",
      "valid accuracy: 0.6985645933014354\n",
      "——————————————————————————————————————————————\n"
     ]
    },
    {
     "data": {
      "application/vnd.jupyter.widget-view+json": {
       "model_id": "",
       "version_major": 2,
       "version_minor": 0
      },
      "text/plain": [
       "trainset:   0%|                                                                                 | 0/11 [00:00<…"
      ]
     },
     "metadata": {},
     "output_type": "display_data"
    },
    {
     "data": {
      "application/vnd.jupyter.widget-view+json": {
       "model_id": "",
       "version_major": 2,
       "version_minor": 0
      },
      "text/plain": [
       "validset:   0%|                                                                                  | 0/2 [00:00<…"
      ]
     },
     "metadata": {},
     "output_type": "display_data"
    },
    {
     "name": "stdout",
     "output_type": "stream",
     "text": [
      "epoch: 5\n",
      "train loss: 0.7922210422429171\n",
      "valid loss: 0.8228768408298492\n",
      "valid accuracy: 0.7272727272727273\n",
      "——————————————————————————————————————————————\n"
     ]
    },
    {
     "data": {
      "application/vnd.jupyter.widget-view+json": {
       "model_id": "",
       "version_major": 2,
       "version_minor": 0
      },
      "text/plain": [
       "trainset:   0%|                                                                                 | 0/11 [00:00<…"
      ]
     },
     "metadata": {},
     "output_type": "display_data"
    },
    {
     "data": {
      "application/vnd.jupyter.widget-view+json": {
       "model_id": "",
       "version_major": 2,
       "version_minor": 0
      },
      "text/plain": [
       "validset:   0%|                                                                                  | 0/2 [00:00<…"
      ]
     },
     "metadata": {},
     "output_type": "display_data"
    },
    {
     "name": "stdout",
     "output_type": "stream",
     "text": [
      "epoch: 6\n",
      "train loss: 0.7076939994638617\n",
      "valid loss: 0.821491926908493\n",
      "valid accuracy: 0.7320574162679426\n",
      "——————————————————————————————————————————————\n"
     ]
    },
    {
     "data": {
      "application/vnd.jupyter.widget-view+json": {
       "model_id": "",
       "version_major": 2,
       "version_minor": 0
      },
      "text/plain": [
       "trainset:   0%|                                                                                 | 0/11 [00:00<…"
      ]
     },
     "metadata": {},
     "output_type": "display_data"
    },
    {
     "data": {
      "application/vnd.jupyter.widget-view+json": {
       "model_id": "",
       "version_major": 2,
       "version_minor": 0
      },
      "text/plain": [
       "validset:   0%|                                                                                  | 0/2 [00:00<…"
      ]
     },
     "metadata": {},
     "output_type": "display_data"
    },
    {
     "name": "stdout",
     "output_type": "stream",
     "text": [
      "epoch: 7\n",
      "train loss: 0.6457946300506592\n",
      "valid loss: 0.8034060597419739\n",
      "valid accuracy: 0.7416267942583732\n",
      "——————————————————————————————————————————————\n"
     ]
    },
    {
     "data": {
      "application/vnd.jupyter.widget-view+json": {
       "model_id": "",
       "version_major": 2,
       "version_minor": 0
      },
      "text/plain": [
       "trainset:   0%|                                                                                 | 0/11 [00:00<…"
      ]
     },
     "metadata": {},
     "output_type": "display_data"
    },
    {
     "data": {
      "application/vnd.jupyter.widget-view+json": {
       "model_id": "",
       "version_major": 2,
       "version_minor": 0
      },
      "text/plain": [
       "validset:   0%|                                                                                  | 0/2 [00:00<…"
      ]
     },
     "metadata": {},
     "output_type": "display_data"
    },
    {
     "name": "stdout",
     "output_type": "stream",
     "text": [
      "epoch: 8\n",
      "train loss: 0.5720845786007968\n",
      "valid loss: 0.7612061500549316\n",
      "valid accuracy: 0.7416267942583732\n",
      "——————————————————————————————————————————————\n"
     ]
    },
    {
     "data": {
      "application/vnd.jupyter.widget-view+json": {
       "model_id": "",
       "version_major": 2,
       "version_minor": 0
      },
      "text/plain": [
       "trainset:   0%|                                                                                 | 0/11 [00:00<…"
      ]
     },
     "metadata": {},
     "output_type": "display_data"
    },
    {
     "data": {
      "application/vnd.jupyter.widget-view+json": {
       "model_id": "",
       "version_major": 2,
       "version_minor": 0
      },
      "text/plain": [
       "validset:   0%|                                                                                  | 0/2 [00:00<…"
      ]
     },
     "metadata": {},
     "output_type": "display_data"
    },
    {
     "name": "stdout",
     "output_type": "stream",
     "text": [
      "epoch: 9\n",
      "train loss: 0.5247821807861328\n",
      "valid loss: 0.7918435335159302\n",
      "valid accuracy: 0.7511961722488039\n",
      "——————————————————————————————————————————————\n"
     ]
    },
    {
     "data": {
      "application/vnd.jupyter.widget-view+json": {
       "model_id": "",
       "version_major": 2,
       "version_minor": 0
      },
      "text/plain": [
       "trainset:   0%|                                                                                 | 0/11 [00:00<…"
      ]
     },
     "metadata": {},
     "output_type": "display_data"
    },
    {
     "data": {
      "application/vnd.jupyter.widget-view+json": {
       "model_id": "",
       "version_major": 2,
       "version_minor": 0
      },
      "text/plain": [
       "validset:   0%|                                                                                  | 0/2 [00:00<…"
      ]
     },
     "metadata": {},
     "output_type": "display_data"
    },
    {
     "name": "stdout",
     "output_type": "stream",
     "text": [
      "epoch: 10\n",
      "train loss: 0.4662241041660309\n",
      "valid loss: 0.8450749814510345\n",
      "valid accuracy: 0.722488038277512\n",
      "——————————————————————————————————————————————\n"
     ]
    },
    {
     "data": {
      "application/vnd.jupyter.widget-view+json": {
       "model_id": "",
       "version_major": 2,
       "version_minor": 0
      },
      "text/plain": [
       "trainset:   0%|                                                                                 | 0/11 [00:00<…"
      ]
     },
     "metadata": {},
     "output_type": "display_data"
    },
    {
     "data": {
      "application/vnd.jupyter.widget-view+json": {
       "model_id": "",
       "version_major": 2,
       "version_minor": 0
      },
      "text/plain": [
       "validset:   0%|                                                                                  | 0/2 [00:00<…"
      ]
     },
     "metadata": {},
     "output_type": "display_data"
    },
    {
     "name": "stdout",
     "output_type": "stream",
     "text": [
      "epoch: 11\n",
      "train loss: 0.41615560921755707\n",
      "valid loss: 0.8759326040744781\n",
      "valid accuracy: 0.7368421052631579\n",
      "——————————————————————————————————————————————\n"
     ]
    },
    {
     "data": {
      "application/vnd.jupyter.widget-view+json": {
       "model_id": "",
       "version_major": 2,
       "version_minor": 0
      },
      "text/plain": [
       "trainset:   0%|                                                                                 | 0/11 [00:00<…"
      ]
     },
     "metadata": {},
     "output_type": "display_data"
    },
    {
     "data": {
      "application/vnd.jupyter.widget-view+json": {
       "model_id": "",
       "version_major": 2,
       "version_minor": 0
      },
      "text/plain": [
       "validset:   0%|                                                                                  | 0/2 [00:00<…"
      ]
     },
     "metadata": {},
     "output_type": "display_data"
    },
    {
     "name": "stdout",
     "output_type": "stream",
     "text": [
      "epoch: 12\n",
      "train loss: 0.3571621667255055\n",
      "valid loss: 0.9384317696094513\n",
      "valid accuracy: 0.7368421052631579\n",
      "——————————————————————————————————————————————\n"
     ]
    },
    {
     "data": {
      "application/vnd.jupyter.widget-view+json": {
       "model_id": "",
       "version_major": 2,
       "version_minor": 0
      },
      "text/plain": [
       "trainset:   0%|                                                                                 | 0/11 [00:00<…"
      ]
     },
     "metadata": {},
     "output_type": "display_data"
    },
    {
     "data": {
      "application/vnd.jupyter.widget-view+json": {
       "model_id": "",
       "version_major": 2,
       "version_minor": 0
      },
      "text/plain": [
       "validset:   0%|                                                                                  | 0/2 [00:00<…"
      ]
     },
     "metadata": {},
     "output_type": "display_data"
    },
    {
     "name": "stdout",
     "output_type": "stream",
     "text": [
      "epoch: 13\n",
      "train loss: 0.33147365938533435\n",
      "valid loss: 0.9410344660282135\n",
      "valid accuracy: 0.7320574162679426\n",
      "——————————————————————————————————————————————\n"
     ]
    },
    {
     "data": {
      "application/vnd.jupyter.widget-view+json": {
       "model_id": "",
       "version_major": 2,
       "version_minor": 0
      },
      "text/plain": [
       "trainset:   0%|                                                                                 | 0/11 [00:00<…"
      ]
     },
     "metadata": {},
     "output_type": "display_data"
    },
    {
     "data": {
      "application/vnd.jupyter.widget-view+json": {
       "model_id": "",
       "version_major": 2,
       "version_minor": 0
      },
      "text/plain": [
       "validset:   0%|                                                                                  | 0/2 [00:00<…"
      ]
     },
     "metadata": {},
     "output_type": "display_data"
    },
    {
     "name": "stdout",
     "output_type": "stream",
     "text": [
      "epoch: 14\n",
      "train loss: 0.2950957945801995\n",
      "valid loss: 1.0116201043128967\n",
      "valid accuracy: 0.7320574162679426\n",
      "——————————————————————————————————————————————\n"
     ]
    },
    {
     "data": {
      "application/vnd.jupyter.widget-view+json": {
       "model_id": "",
       "version_major": 2,
       "version_minor": 0
      },
      "text/plain": [
       "trainset:   0%|                                                                                 | 0/11 [00:00<…"
      ]
     },
     "metadata": {},
     "output_type": "display_data"
    },
    {
     "data": {
      "application/vnd.jupyter.widget-view+json": {
       "model_id": "",
       "version_major": 2,
       "version_minor": 0
      },
      "text/plain": [
       "validset:   0%|                                                                                  | 0/2 [00:00<…"
      ]
     },
     "metadata": {},
     "output_type": "display_data"
    },
    {
     "name": "stdout",
     "output_type": "stream",
     "text": [
      "epoch: 15\n",
      "train loss: 0.2839023606343703\n",
      "valid loss: 0.9724260568618774\n",
      "valid accuracy: 0.7368421052631579\n",
      "——————————————————————————————————————————————\n"
     ]
    },
    {
     "data": {
      "application/vnd.jupyter.widget-view+json": {
       "model_id": "",
       "version_major": 2,
       "version_minor": 0
      },
      "text/plain": [
       "trainset:   0%|                                                                                 | 0/11 [00:00<…"
      ]
     },
     "metadata": {},
     "output_type": "display_data"
    },
    {
     "data": {
      "application/vnd.jupyter.widget-view+json": {
       "model_id": "",
       "version_major": 2,
       "version_minor": 0
      },
      "text/plain": [
       "validset:   0%|                                                                                  | 0/2 [00:00<…"
      ]
     },
     "metadata": {},
     "output_type": "display_data"
    },
    {
     "name": "stdout",
     "output_type": "stream",
     "text": [
      "epoch: 16\n",
      "train loss: 0.2589221379973672\n",
      "valid loss: 0.9660221636295319\n",
      "valid accuracy: 0.7368421052631579\n",
      "——————————————————————————————————————————————\n"
     ]
    },
    {
     "data": {
      "application/vnd.jupyter.widget-view+json": {
       "model_id": "",
       "version_major": 2,
       "version_minor": 0
      },
      "text/plain": [
       "trainset:   0%|                                                                                 | 0/11 [00:00<…"
      ]
     },
     "metadata": {},
     "output_type": "display_data"
    },
    {
     "data": {
      "application/vnd.jupyter.widget-view+json": {
       "model_id": "",
       "version_major": 2,
       "version_minor": 0
      },
      "text/plain": [
       "validset:   0%|                                                                                  | 0/2 [00:00<…"
      ]
     },
     "metadata": {},
     "output_type": "display_data"
    },
    {
     "name": "stdout",
     "output_type": "stream",
     "text": [
      "early stop\n"
     ]
    }
   ],
   "source": [
    "from torch.utils.data import DataLoader\n",
    "train_dataloader = DataLoader(MyData(X_train) , batch_size=bat_size,shuffle = False)\n",
    "model= BertForSequenceClassification.from_pretrained(\n",
    "    \"bert-base-uncased\", \n",
    "    num_labels = 4,    \n",
    "    output_attentions = False, \n",
    "    output_hidden_states = False,\n",
    ")\n",
    "model.to(device)\n",
    "optimizer = AdamW(model.parameters(),\n",
    "                  lr = 1e-5, # args.learning_rate - default is 5e-5\n",
    "                  eps = 1e-8, # args.adam_epsilon  - default is 1e-8\n",
    "                  weight_decay=0.01,\n",
    "                  correct_bias=True\n",
    "                )\n",
    "epochs = 50\n",
    "train_lost_epoch=[]\n",
    "valid_lost_epoch=[]\n",
    "valid_accuracy_list=[]\n",
    "for epoch in tqdm(range(epochs),desc='epoch'):\n",
    "    model.train()\n",
    "    loss_list=[]\n",
    "    i=0\n",
    "    for batch in tqdm(train_dataloader,desc='trainset',leave=False):\n",
    "        model.zero_grad() \n",
    "        optimizer.zero_grad()\n",
    "        input_ids = batch['input_ids'].to(device)\n",
    "        token_type_ids = batch['token_type_ids'].to(device)\n",
    "        attention_mask = batch['attention_mask'].to(device)\n",
    "        target=torch.tensor(y_train[i:i+bat_size]).to(device)\n",
    "        i+=bat_size\n",
    "        outputs = model(input_ids, \n",
    "                            token_type_ids, \n",
    "                            attention_mask, \n",
    "                            labels=target)\n",
    "\n",
    "        loss = outputs.loss\n",
    "        logits = outputs.logits\n",
    "        loss.backward()\n",
    "        optimizer.step()\n",
    "        loss_list.append(loss.item())\n",
    "    train_lost_epoch.append(np.mean(loss_list))\n",
    "    model.eval()\n",
    "    loss_list=[]\n",
    "    i=0\n",
    "    num_correct=0\n",
    "    for batch in tqdm(valid_dataloader,desc='validset',leave=False):\n",
    "        with torch.no_grad():  \n",
    "            input_ids = batch['input_ids'].to(device)\n",
    "            token_type_ids = batch['token_type_ids'].to(device)\n",
    "            attention_mask = batch['attention_mask'].to(device)\n",
    "\n",
    "            target=torch.tensor(y_valid[i:i+bat_size]).to(device)\n",
    "            i+=bat_size\n",
    "            outputs = model(input_ids, \n",
    "                                token_type_ids, \n",
    "                                attention_mask, \n",
    "                                labels=target)\n",
    "            loss = outputs.loss\n",
    "            logits = outputs.logits\n",
    "            loss_list.append(loss.item())\n",
    "            pred_flat = np.argmax(logits.detach().cpu().numpy(), axis=1).flatten()\n",
    "            labels_flat = target.to('cpu').numpy().flatten()\n",
    "            num_correct += np.sum(pred_flat == labels_flat)\n",
    "    valid_accuracy=num_correct/len(y_valid)\n",
    "    if  epoch==0:\n",
    "        torch.save(model.state_dict(), \"my_model_re\")\n",
    "    else:\n",
    "        if  valid_accuracy>max(valid_accuracy_list):\n",
    "            torch.save(model.state_dict(), \"my_model_re\")\n",
    "    if epoch>=10:\n",
    "        if valid_accuracy<min(valid_accuracy_list[-10:-1]):\n",
    "            print(\"early stop\")\n",
    "            break\n",
    "    valid_accuracy_list.append(valid_accuracy)\n",
    "    valid_lost_epoch.append(np.mean(loss_list))\n",
    "    print(\"epoch: \"+str(epoch))\n",
    "    print(\"train loss: \"+str(train_lost_epoch[-1]))\n",
    "    print(\"valid loss: \"+str(valid_lost_epoch[-1]))\n",
    "    print(\"valid accuracy: \"+str(valid_accuracy))\n",
    "    print(\"——————————————————————————————————————————————\")"
   ]
  },
  {
   "cell_type": "code",
   "execution_count": 34,
   "id": "a0ec579f",
   "metadata": {},
   "outputs": [
    {
     "name": "stdout",
     "output_type": "stream",
     "text": [
      "0.7511961722488039\n"
     ]
    }
   ],
   "source": [
    "print(max(valid_accuracy_list))"
   ]
  }
 ],
 "metadata": {
  "kernelspec": {
   "display_name": "Python 3 (ipykernel)",
   "language": "python",
   "name": "python3"
  },
  "language_info": {
   "codemirror_mode": {
    "name": "ipython",
    "version": 3
   },
   "file_extension": ".py",
   "mimetype": "text/x-python",
   "name": "python",
   "nbconvert_exporter": "python",
   "pygments_lexer": "ipython3",
   "version": "3.9.12"
  }
 },
 "nbformat": 4,
 "nbformat_minor": 5
}
