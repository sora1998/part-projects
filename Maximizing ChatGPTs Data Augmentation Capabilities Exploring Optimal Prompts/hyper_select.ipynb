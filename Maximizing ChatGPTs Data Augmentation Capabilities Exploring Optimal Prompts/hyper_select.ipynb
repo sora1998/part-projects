{
 "cells": [
  {
   "cell_type": "code",
   "execution_count": 1,
   "id": "30c88511",
   "metadata": {},
   "outputs": [
    {
     "name": "stderr",
     "output_type": "stream",
     "text": [
      "[nltk_data] Downloading package stopwords to\n",
      "[nltk_data]     C:\\Users\\maenz\\AppData\\Roaming\\nltk_data...\n",
      "[nltk_data]   Package stopwords is already up-to-date!\n"
     ]
    }
   ],
   "source": [
    "import pickle\n",
    "import pandas as pd\n",
    "import itertools\n",
    "from collections import Counter\n",
    "import numpy as np\n",
    "import nltk\n",
    "from nltk import word_tokenize\n",
    "from nltk.corpus import stopwords\n",
    "from gensim.models import word2vec\n",
    "from sklearn.linear_model import LogisticRegression\n",
    "import os\n",
    "import string\n",
    "nltk.download('stopwords')\n",
    "from tqdm.auto import tqdm"
   ]
  },
  {
   "cell_type": "code",
   "execution_count": 2,
   "id": "743ac088",
   "metadata": {},
   "outputs": [
    {
     "name": "stderr",
     "output_type": "stream",
     "text": [
      "Found cached dataset go_emotions (C:/Users/maenz/.cache/huggingface/datasets/go_emotions/raw/0.0.0/2637cfdd4e64d30249c3ed2150fa2b9d279766bfcd6a809b9f085c61a90d776d)\n"
     ]
    },
    {
     "data": {
      "application/vnd.jupyter.widget-view+json": {
       "model_id": "3bb2114d20af4cb2b860e749030c01aa",
       "version_major": 2,
       "version_minor": 0
      },
      "text/plain": [
       "  0%|          | 0/1 [00:00<?, ?it/s]"
      ]
     },
     "metadata": {},
     "output_type": "display_data"
    }
   ],
   "source": [
    "from datasets import load_dataset\n",
    "dataset = load_dataset(\"go_emotions\", \"raw\")\n",
    "df=pd.read_csv(\"my_emo_data\")"
   ]
  },
  {
   "cell_type": "code",
   "execution_count": 3,
   "id": "dd19f899",
   "metadata": {},
   "outputs": [],
   "source": [
    "df_train=df.iloc[0:int(df.shape[0]*0.7)]\n",
    "df_test=pd.DataFrame.from_dict(dataset['train'][1000:])\n",
    "df_test=df_test.sample(frac=1).reset_index(drop=True)\n",
    "df_test=df_test.iloc[3000:4000]"
   ]
  },
  {
   "cell_type": "code",
   "execution_count": 4,
   "id": "aba89f60",
   "metadata": {},
   "outputs": [],
   "source": [
    "label_list=[\"admiration\",\"amusement\",\"anger\",\"annoyance\",\"approval\",\"caring\",\"confusion\",\\\n",
    "            \"curiosity\",\"desire\",\"disappointment\",\"disapproval\",\"disgust\",\"embarrassment\",\"excitement\",\\\n",
    "            \"fear\",\"gratitude\",\"grief\",\"joy\",\"love\",\"nervousness\",\"optimism\",\"pride\",\"realization\",\"relief\",\"remorse\",\"sadness\",\"surprise\",\"neutral\"]"
   ]
  },
  {
   "cell_type": "code",
   "execution_count": 5,
   "id": "739221e1",
   "metadata": {},
   "outputs": [],
   "source": [
    "positive=[\"admiration\",\"amusement\",\"approval\",\"caring\",\"curiosity\",\"desire\",\"excitement\",\"gratitude\",\"joy\",\"love\",\"optimism\",\"pride\",\"relief\"]\n",
    "negative=[\"anger\",\"annoyance\",\"confusion\",\"disappointment\",\"disapproval\",\"disgust\",\"embarrassment\",\"fear\",\"grief\",\"nervousness\",\"remorse\",\\\n",
    "         \"sadness\"]"
   ]
  },
  {
   "cell_type": "code",
   "execution_count": 6,
   "id": "604c669f",
   "metadata": {},
   "outputs": [],
   "source": [
    "df_test[\"label\"]=0"
   ]
  },
  {
   "cell_type": "code",
   "execution_count": 7,
   "id": "a3fa4420",
   "metadata": {},
   "outputs": [],
   "source": [
    "for index, row in df_test.iterrows():\n",
    "    for i in range(len(label_list)):\n",
    "        if row[label_list[i]]==1:\n",
    "            if label_list[i] in positive:\n",
    "                df_test.at[index,'label']=1\n",
    "            elif label_list[i] in negative:\n",
    "                df_test.at[index,'label']=0\n",
    "            else:\n",
    "                df_test.at[index,'label']=2"
   ]
  },
  {
   "cell_type": "code",
   "execution_count": 8,
   "id": "a46a6db7",
   "metadata": {},
   "outputs": [],
   "source": [
    "df_test=df_test[['text','label']]"
   ]
  },
  {
   "cell_type": "code",
   "execution_count": null,
   "id": "8bc7c226",
   "metadata": {},
   "outputs": [],
   "source": [
    "df_test=df_test.to_csv(\"hyper_select_valid\")"
   ]
  },
  {
   "cell_type": "code",
   "execution_count": null,
   "id": "ec6ffdd6",
   "metadata": {},
   "outputs": [],
   "source": [
    "df_test=pd.read_csv(\"hyper_select_valid\")"
   ]
  },
  {
   "cell_type": "code",
   "execution_count": 9,
   "id": "143b32ce",
   "metadata": {},
   "outputs": [],
   "source": [
    "X_train_original=df_train['text']\n",
    "X_valid_original=df_test['text']\n",
    "y_train_original=df_train['label']\n",
    "y_valid_original=df_test['label']\n",
    "import torch\n",
    "assert torch.cuda.is_available()\n",
    "device = torch.device(\"cuda\")"
   ]
  },
  {
   "cell_type": "code",
   "execution_count": 10,
   "id": "a236bf82",
   "metadata": {},
   "outputs": [
    {
     "data": {
      "text/html": [
       "<div>\n",
       "<style scoped>\n",
       "    .dataframe tbody tr th:only-of-type {\n",
       "        vertical-align: middle;\n",
       "    }\n",
       "\n",
       "    .dataframe tbody tr th {\n",
       "        vertical-align: top;\n",
       "    }\n",
       "\n",
       "    .dataframe thead th {\n",
       "        text-align: right;\n",
       "    }\n",
       "</style>\n",
       "<table border=\"1\" class=\"dataframe\">\n",
       "  <thead>\n",
       "    <tr style=\"text-align: right;\">\n",
       "      <th></th>\n",
       "      <th>text</th>\n",
       "      <th>label</th>\n",
       "    </tr>\n",
       "  </thead>\n",
       "  <tbody>\n",
       "    <tr>\n",
       "      <th>3000</th>\n",
       "      <td>What a sad end for this franchise. I doubt Fal...</td>\n",
       "      <td>0</td>\n",
       "    </tr>\n",
       "    <tr>\n",
       "      <th>3001</th>\n",
       "      <td>Oh, you had me worried there! Still if it does...</td>\n",
       "      <td>2</td>\n",
       "    </tr>\n",
       "    <tr>\n",
       "      <th>3002</th>\n",
       "      <td>Some people would be too ashamed to speak up t...</td>\n",
       "      <td>0</td>\n",
       "    </tr>\n",
       "    <tr>\n",
       "      <th>3003</th>\n",
       "      <td>Bullying impacts brain</td>\n",
       "      <td>0</td>\n",
       "    </tr>\n",
       "    <tr>\n",
       "      <th>3004</th>\n",
       "      <td>That sounds so terrible. I'm very sorry.</td>\n",
       "      <td>0</td>\n",
       "    </tr>\n",
       "    <tr>\n",
       "      <th>...</th>\n",
       "      <td>...</td>\n",
       "      <td>...</td>\n",
       "    </tr>\n",
       "    <tr>\n",
       "      <th>3995</th>\n",
       "      <td>Not super subtle with my water tool on top tho...</td>\n",
       "      <td>2</td>\n",
       "    </tr>\n",
       "    <tr>\n",
       "      <th>3996</th>\n",
       "      <td>Because punishing the poor was why they didn't...</td>\n",
       "      <td>0</td>\n",
       "    </tr>\n",
       "    <tr>\n",
       "      <th>3997</th>\n",
       "      <td>Wonder what the sub’s average age is.</td>\n",
       "      <td>2</td>\n",
       "    </tr>\n",
       "    <tr>\n",
       "      <th>3998</th>\n",
       "      <td>Pretending to be a racist just to troll people...</td>\n",
       "      <td>0</td>\n",
       "    </tr>\n",
       "    <tr>\n",
       "      <th>3999</th>\n",
       "      <td>I love how all of you toss the blame on [NAME]...</td>\n",
       "      <td>0</td>\n",
       "    </tr>\n",
       "  </tbody>\n",
       "</table>\n",
       "<p>1000 rows × 2 columns</p>\n",
       "</div>"
      ],
      "text/plain": [
       "                                                   text  label\n",
       "3000  What a sad end for this franchise. I doubt Fal...      0\n",
       "3001  Oh, you had me worried there! Still if it does...      2\n",
       "3002  Some people would be too ashamed to speak up t...      0\n",
       "3003                             Bullying impacts brain      0\n",
       "3004           That sounds so terrible. I'm very sorry.      0\n",
       "...                                                 ...    ...\n",
       "3995  Not super subtle with my water tool on top tho...      2\n",
       "3996  Because punishing the poor was why they didn't...      0\n",
       "3997              Wonder what the sub’s average age is.      2\n",
       "3998  Pretending to be a racist just to troll people...      0\n",
       "3999  I love how all of you toss the blame on [NAME]...      0\n",
       "\n",
       "[1000 rows x 2 columns]"
      ]
     },
     "execution_count": 10,
     "metadata": {},
     "output_type": "execute_result"
    }
   ],
   "source": [
    "df_test"
   ]
  },
  {
   "cell_type": "code",
   "execution_count": 11,
   "id": "cdafb077",
   "metadata": {},
   "outputs": [],
   "source": [
    "new_df=pd.read_csv(\"chatgpt_new_data_baseline\")\n",
    "X_train_base=list(X_train_original)+list(new_df['text'])\n",
    "y_train_base=list(y_train_original)+list(new_df['label'])"
   ]
  },
  {
   "cell_type": "code",
   "execution_count": 12,
   "id": "1a39da35",
   "metadata": {},
   "outputs": [],
   "source": [
    "from transformers import AutoTokenizer, AdamW,BertForSequenceClassification\n",
    "tokenizer= AutoTokenizer.from_pretrained(\"bert-base-uncased\")\n",
    "X_train=tokenizer(list(X_train_original),truncation=True, padding=True, max_length=64,return_tensors='pt')\n",
    "y_train=list(y_train_original)\n",
    "X_valid=tokenizer(list(X_valid_original),truncation=True, padding=True, max_length=64,return_tensors='pt')\n",
    "y_valid=list(y_valid_original)"
   ]
  },
  {
   "cell_type": "code",
   "execution_count": 13,
   "id": "5d3cdbc0",
   "metadata": {},
   "outputs": [],
   "source": [
    "class MyData(torch.utils.data.Dataset):\n",
    "    def __init__(self, token):\n",
    "        self.token = token\n",
    "    def __getitem__(self, id):\n",
    "        return {key: val[id] for key, val in self.token.items()}\n",
    "    def __len__(self):\n",
    "        return len(self.token.input_ids)"
   ]
  },
  {
   "cell_type": "code",
   "execution_count": 14,
   "id": "ec02389a",
   "metadata": {},
   "outputs": [],
   "source": [
    "bat_size=128"
   ]
  },
  {
   "cell_type": "code",
   "execution_count": 15,
   "id": "5e0441da",
   "metadata": {},
   "outputs": [],
   "source": [
    "from torch.utils.data import DataLoader\n",
    "train_dataloader = DataLoader(MyData(X_train) , batch_size=bat_size,shuffle = False)\n",
    "valid_dataloader = DataLoader(MyData(X_valid) , batch_size=bat_size,shuffle = False)"
   ]
  },
  {
   "cell_type": "code",
   "execution_count": 16,
   "id": "647cfb22",
   "metadata": {},
   "outputs": [
    {
     "name": "stderr",
     "output_type": "stream",
     "text": [
      "Some weights of the model checkpoint at bert-base-uncased were not used when initializing BertForSequenceClassification: ['cls.predictions.transform.LayerNorm.bias', 'cls.predictions.transform.dense.weight', 'cls.seq_relationship.weight', 'cls.seq_relationship.bias', 'cls.predictions.transform.dense.bias', 'cls.predictions.decoder.weight', 'cls.predictions.bias', 'cls.predictions.transform.LayerNorm.weight']\n",
      "- This IS expected if you are initializing BertForSequenceClassification from the checkpoint of a model trained on another task or with another architecture (e.g. initializing a BertForSequenceClassification model from a BertForPreTraining model).\n",
      "- This IS NOT expected if you are initializing BertForSequenceClassification from the checkpoint of a model that you expect to be exactly identical (initializing a BertForSequenceClassification model from a BertForSequenceClassification model).\n",
      "Some weights of BertForSequenceClassification were not initialized from the model checkpoint at bert-base-uncased and are newly initialized: ['classifier.bias', 'classifier.weight']\n",
      "You should probably TRAIN this model on a down-stream task to be able to use it for predictions and inference.\n",
      "F:\\anaconda\\lib\\site-packages\\transformers\\optimization.py:391: FutureWarning: This implementation of AdamW is deprecated and will be removed in a future version. Use the PyTorch implementation torch.optim.AdamW instead, or set `no_deprecation_warning=True` to disable this warning\n",
      "  warnings.warn(\n"
     ]
    }
   ],
   "source": [
    "model_base = BertForSequenceClassification.from_pretrained(\n",
    "    \"bert-base-uncased\", \n",
    "    num_labels = 3,    \n",
    "    output_attentions = False, \n",
    "    output_hidden_states = False,\n",
    ")\n",
    "model_base.to(device)\n",
    "optimizer = AdamW(model_base.parameters(),\n",
    "                  lr = 1e-5, # args.learning_rate - default is 5e-5\n",
    "                  eps = 1e-8, # args.adam_epsilon  - default is 1e-8\n",
    "                  weight_decay=0.01,\n",
    "                  correct_bias=True\n",
    "                )\n",
    "epochs = 50"
   ]
  },
  {
   "cell_type": "code",
   "execution_count": 17,
   "id": "fef631ae",
   "metadata": {
    "scrolled": true
   },
   "outputs": [
    {
     "data": {
      "application/vnd.jupyter.widget-view+json": {
       "model_id": "f7c3379f39814c739a314a9f2a8231d3",
       "version_major": 2,
       "version_minor": 0
      },
      "text/plain": [
       "epoch:   0%|          | 0/50 [00:00<?, ?it/s]"
      ]
     },
     "metadata": {},
     "output_type": "display_data"
    },
    {
     "data": {
      "application/vnd.jupyter.widget-view+json": {
       "model_id": "",
       "version_major": 2,
       "version_minor": 0
      },
      "text/plain": [
       "trainset:   0%|          | 0/6 [00:00<?, ?it/s]"
      ]
     },
     "metadata": {},
     "output_type": "display_data"
    },
    {
     "data": {
      "application/vnd.jupyter.widget-view+json": {
       "model_id": "",
       "version_major": 2,
       "version_minor": 0
      },
      "text/plain": [
       "validset:   0%|          | 0/8 [00:00<?, ?it/s]"
      ]
     },
     "metadata": {},
     "output_type": "display_data"
    },
    {
     "name": "stdout",
     "output_type": "stream",
     "text": [
      "epoch: 0\n",
      "train loss: 1.1498114864031475\n",
      "valid loss: 1.1070769280195236\n",
      "valid accuracy: 0.397\n",
      "——————————————————————————————————————————————\n"
     ]
    },
    {
     "data": {
      "application/vnd.jupyter.widget-view+json": {
       "model_id": "",
       "version_major": 2,
       "version_minor": 0
      },
      "text/plain": [
       "trainset:   0%|          | 0/6 [00:00<?, ?it/s]"
      ]
     },
     "metadata": {},
     "output_type": "display_data"
    },
    {
     "data": {
      "application/vnd.jupyter.widget-view+json": {
       "model_id": "",
       "version_major": 2,
       "version_minor": 0
      },
      "text/plain": [
       "validset:   0%|          | 0/8 [00:00<?, ?it/s]"
      ]
     },
     "metadata": {},
     "output_type": "display_data"
    },
    {
     "name": "stdout",
     "output_type": "stream",
     "text": [
      "epoch: 1\n",
      "train loss: 1.1007884939511616\n",
      "valid loss: 1.0878209918737411\n",
      "valid accuracy: 0.394\n",
      "——————————————————————————————————————————————\n"
     ]
    },
    {
     "data": {
      "application/vnd.jupyter.widget-view+json": {
       "model_id": "",
       "version_major": 2,
       "version_minor": 0
      },
      "text/plain": [
       "trainset:   0%|          | 0/6 [00:00<?, ?it/s]"
      ]
     },
     "metadata": {},
     "output_type": "display_data"
    },
    {
     "data": {
      "application/vnd.jupyter.widget-view+json": {
       "model_id": "",
       "version_major": 2,
       "version_minor": 0
      },
      "text/plain": [
       "validset:   0%|          | 0/8 [00:00<?, ?it/s]"
      ]
     },
     "metadata": {},
     "output_type": "display_data"
    },
    {
     "name": "stdout",
     "output_type": "stream",
     "text": [
      "epoch: 2\n",
      "train loss: 1.0978326400121052\n",
      "valid loss: 1.0971135646104813\n",
      "valid accuracy: 0.38\n",
      "——————————————————————————————————————————————\n"
     ]
    },
    {
     "data": {
      "application/vnd.jupyter.widget-view+json": {
       "model_id": "",
       "version_major": 2,
       "version_minor": 0
      },
      "text/plain": [
       "trainset:   0%|          | 0/6 [00:00<?, ?it/s]"
      ]
     },
     "metadata": {},
     "output_type": "display_data"
    },
    {
     "data": {
      "application/vnd.jupyter.widget-view+json": {
       "model_id": "",
       "version_major": 2,
       "version_minor": 0
      },
      "text/plain": [
       "validset:   0%|          | 0/8 [00:00<?, ?it/s]"
      ]
     },
     "metadata": {},
     "output_type": "display_data"
    },
    {
     "name": "stdout",
     "output_type": "stream",
     "text": [
      "epoch: 3\n",
      "train loss: 1.0896924138069153\n",
      "valid loss: 1.0915399342775345\n",
      "valid accuracy: 0.399\n",
      "——————————————————————————————————————————————\n"
     ]
    },
    {
     "data": {
      "application/vnd.jupyter.widget-view+json": {
       "model_id": "",
       "version_major": 2,
       "version_minor": 0
      },
      "text/plain": [
       "trainset:   0%|          | 0/6 [00:00<?, ?it/s]"
      ]
     },
     "metadata": {},
     "output_type": "display_data"
    },
    {
     "data": {
      "application/vnd.jupyter.widget-view+json": {
       "model_id": "",
       "version_major": 2,
       "version_minor": 0
      },
      "text/plain": [
       "validset:   0%|          | 0/8 [00:00<?, ?it/s]"
      ]
     },
     "metadata": {},
     "output_type": "display_data"
    },
    {
     "name": "stdout",
     "output_type": "stream",
     "text": [
      "epoch: 4\n",
      "train loss: 1.0843741099039714\n",
      "valid loss: 1.0888346433639526\n",
      "valid accuracy: 0.397\n",
      "——————————————————————————————————————————————\n"
     ]
    },
    {
     "data": {
      "application/vnd.jupyter.widget-view+json": {
       "model_id": "",
       "version_major": 2,
       "version_minor": 0
      },
      "text/plain": [
       "trainset:   0%|          | 0/6 [00:00<?, ?it/s]"
      ]
     },
     "metadata": {},
     "output_type": "display_data"
    },
    {
     "data": {
      "application/vnd.jupyter.widget-view+json": {
       "model_id": "",
       "version_major": 2,
       "version_minor": 0
      },
      "text/plain": [
       "validset:   0%|          | 0/8 [00:00<?, ?it/s]"
      ]
     },
     "metadata": {},
     "output_type": "display_data"
    },
    {
     "name": "stdout",
     "output_type": "stream",
     "text": [
      "epoch: 5\n",
      "train loss: 1.078399658203125\n",
      "valid loss: 1.0856423377990723\n",
      "valid accuracy: 0.398\n",
      "——————————————————————————————————————————————\n"
     ]
    },
    {
     "data": {
      "application/vnd.jupyter.widget-view+json": {
       "model_id": "",
       "version_major": 2,
       "version_minor": 0
      },
      "text/plain": [
       "trainset:   0%|          | 0/6 [00:00<?, ?it/s]"
      ]
     },
     "metadata": {},
     "output_type": "display_data"
    },
    {
     "data": {
      "application/vnd.jupyter.widget-view+json": {
       "model_id": "",
       "version_major": 2,
       "version_minor": 0
      },
      "text/plain": [
       "validset:   0%|          | 0/8 [00:00<?, ?it/s]"
      ]
     },
     "metadata": {},
     "output_type": "display_data"
    },
    {
     "name": "stdout",
     "output_type": "stream",
     "text": [
      "epoch: 6\n",
      "train loss: 1.076114296913147\n",
      "valid loss: 1.0893499553203583\n",
      "valid accuracy: 0.4\n",
      "——————————————————————————————————————————————\n"
     ]
    },
    {
     "data": {
      "application/vnd.jupyter.widget-view+json": {
       "model_id": "",
       "version_major": 2,
       "version_minor": 0
      },
      "text/plain": [
       "trainset:   0%|          | 0/6 [00:00<?, ?it/s]"
      ]
     },
     "metadata": {},
     "output_type": "display_data"
    },
    {
     "data": {
      "application/vnd.jupyter.widget-view+json": {
       "model_id": "",
       "version_major": 2,
       "version_minor": 0
      },
      "text/plain": [
       "validset:   0%|          | 0/8 [00:00<?, ?it/s]"
      ]
     },
     "metadata": {},
     "output_type": "display_data"
    },
    {
     "name": "stdout",
     "output_type": "stream",
     "text": [
      "epoch: 7\n",
      "train loss: 1.0617079138755798\n",
      "valid loss: 1.089762270450592\n",
      "valid accuracy: 0.399\n",
      "——————————————————————————————————————————————\n"
     ]
    },
    {
     "data": {
      "application/vnd.jupyter.widget-view+json": {
       "model_id": "",
       "version_major": 2,
       "version_minor": 0
      },
      "text/plain": [
       "trainset:   0%|          | 0/6 [00:00<?, ?it/s]"
      ]
     },
     "metadata": {},
     "output_type": "display_data"
    },
    {
     "data": {
      "application/vnd.jupyter.widget-view+json": {
       "model_id": "",
       "version_major": 2,
       "version_minor": 0
      },
      "text/plain": [
       "validset:   0%|          | 0/8 [00:00<?, ?it/s]"
      ]
     },
     "metadata": {},
     "output_type": "display_data"
    },
    {
     "name": "stdout",
     "output_type": "stream",
     "text": [
      "epoch: 8\n",
      "train loss: 1.0530749261379242\n",
      "valid loss: 1.0811861902475357\n",
      "valid accuracy: 0.403\n",
      "——————————————————————————————————————————————\n"
     ]
    },
    {
     "data": {
      "application/vnd.jupyter.widget-view+json": {
       "model_id": "",
       "version_major": 2,
       "version_minor": 0
      },
      "text/plain": [
       "trainset:   0%|          | 0/6 [00:00<?, ?it/s]"
      ]
     },
     "metadata": {},
     "output_type": "display_data"
    },
    {
     "data": {
      "application/vnd.jupyter.widget-view+json": {
       "model_id": "",
       "version_major": 2,
       "version_minor": 0
      },
      "text/plain": [
       "validset:   0%|          | 0/8 [00:00<?, ?it/s]"
      ]
     },
     "metadata": {},
     "output_type": "display_data"
    },
    {
     "name": "stdout",
     "output_type": "stream",
     "text": [
      "epoch: 9\n",
      "train loss: 1.0314682225386302\n",
      "valid loss: 1.0835923105478287\n",
      "valid accuracy: 0.398\n",
      "——————————————————————————————————————————————\n"
     ]
    },
    {
     "data": {
      "application/vnd.jupyter.widget-view+json": {
       "model_id": "",
       "version_major": 2,
       "version_minor": 0
      },
      "text/plain": [
       "trainset:   0%|          | 0/6 [00:00<?, ?it/s]"
      ]
     },
     "metadata": {},
     "output_type": "display_data"
    },
    {
     "data": {
      "application/vnd.jupyter.widget-view+json": {
       "model_id": "",
       "version_major": 2,
       "version_minor": 0
      },
      "text/plain": [
       "validset:   0%|          | 0/8 [00:00<?, ?it/s]"
      ]
     },
     "metadata": {},
     "output_type": "display_data"
    },
    {
     "name": "stdout",
     "output_type": "stream",
     "text": [
      "epoch: 10\n",
      "train loss: 0.9956878821055094\n",
      "valid loss: 1.0738936960697174\n",
      "valid accuracy: 0.419\n",
      "——————————————————————————————————————————————\n"
     ]
    },
    {
     "data": {
      "application/vnd.jupyter.widget-view+json": {
       "model_id": "",
       "version_major": 2,
       "version_minor": 0
      },
      "text/plain": [
       "trainset:   0%|          | 0/6 [00:00<?, ?it/s]"
      ]
     },
     "metadata": {},
     "output_type": "display_data"
    },
    {
     "data": {
      "application/vnd.jupyter.widget-view+json": {
       "model_id": "",
       "version_major": 2,
       "version_minor": 0
      },
      "text/plain": [
       "validset:   0%|          | 0/8 [00:00<?, ?it/s]"
      ]
     },
     "metadata": {},
     "output_type": "display_data"
    },
    {
     "name": "stdout",
     "output_type": "stream",
     "text": [
      "epoch: 11\n",
      "train loss: 0.9876717031002045\n",
      "valid loss: 1.0797772109508514\n",
      "valid accuracy: 0.416\n",
      "——————————————————————————————————————————————\n"
     ]
    },
    {
     "data": {
      "application/vnd.jupyter.widget-view+json": {
       "model_id": "",
       "version_major": 2,
       "version_minor": 0
      },
      "text/plain": [
       "trainset:   0%|          | 0/6 [00:00<?, ?it/s]"
      ]
     },
     "metadata": {},
     "output_type": "display_data"
    },
    {
     "data": {
      "application/vnd.jupyter.widget-view+json": {
       "model_id": "",
       "version_major": 2,
       "version_minor": 0
      },
      "text/plain": [
       "validset:   0%|          | 0/8 [00:00<?, ?it/s]"
      ]
     },
     "metadata": {},
     "output_type": "display_data"
    },
    {
     "name": "stdout",
     "output_type": "stream",
     "text": [
      "epoch: 12\n",
      "train loss: 0.9393723607063293\n",
      "valid loss: 1.09620763361454\n",
      "valid accuracy: 0.423\n",
      "——————————————————————————————————————————————\n"
     ]
    },
    {
     "data": {
      "application/vnd.jupyter.widget-view+json": {
       "model_id": "",
       "version_major": 2,
       "version_minor": 0
      },
      "text/plain": [
       "trainset:   0%|          | 0/6 [00:00<?, ?it/s]"
      ]
     },
     "metadata": {},
     "output_type": "display_data"
    },
    {
     "data": {
      "application/vnd.jupyter.widget-view+json": {
       "model_id": "",
       "version_major": 2,
       "version_minor": 0
      },
      "text/plain": [
       "validset:   0%|          | 0/8 [00:00<?, ?it/s]"
      ]
     },
     "metadata": {},
     "output_type": "display_data"
    },
    {
     "name": "stdout",
     "output_type": "stream",
     "text": [
      "epoch: 13\n",
      "train loss: 0.9043658971786499\n",
      "valid loss: 1.1798376441001892\n",
      "valid accuracy: 0.42\n",
      "——————————————————————————————————————————————\n"
     ]
    },
    {
     "data": {
      "application/vnd.jupyter.widget-view+json": {
       "model_id": "",
       "version_major": 2,
       "version_minor": 0
      },
      "text/plain": [
       "trainset:   0%|          | 0/6 [00:00<?, ?it/s]"
      ]
     },
     "metadata": {},
     "output_type": "display_data"
    },
    {
     "data": {
      "application/vnd.jupyter.widget-view+json": {
       "model_id": "",
       "version_major": 2,
       "version_minor": 0
      },
      "text/plain": [
       "validset:   0%|          | 0/8 [00:00<?, ?it/s]"
      ]
     },
     "metadata": {},
     "output_type": "display_data"
    },
    {
     "name": "stdout",
     "output_type": "stream",
     "text": [
      "epoch: 14\n",
      "train loss: 0.872894674539566\n",
      "valid loss: 1.1577508449554443\n",
      "valid accuracy: 0.419\n",
      "——————————————————————————————————————————————\n"
     ]
    },
    {
     "data": {
      "application/vnd.jupyter.widget-view+json": {
       "model_id": "",
       "version_major": 2,
       "version_minor": 0
      },
      "text/plain": [
       "trainset:   0%|          | 0/6 [00:00<?, ?it/s]"
      ]
     },
     "metadata": {},
     "output_type": "display_data"
    },
    {
     "data": {
      "application/vnd.jupyter.widget-view+json": {
       "model_id": "",
       "version_major": 2,
       "version_minor": 0
      },
      "text/plain": [
       "validset:   0%|          | 0/8 [00:00<?, ?it/s]"
      ]
     },
     "metadata": {},
     "output_type": "display_data"
    },
    {
     "name": "stdout",
     "output_type": "stream",
     "text": [
      "epoch: 15\n",
      "train loss: 0.9380817214647929\n",
      "valid loss: 1.1610327661037445\n",
      "valid accuracy: 0.418\n",
      "——————————————————————————————————————————————\n"
     ]
    },
    {
     "data": {
      "application/vnd.jupyter.widget-view+json": {
       "model_id": "",
       "version_major": 2,
       "version_minor": 0
      },
      "text/plain": [
       "trainset:   0%|          | 0/6 [00:00<?, ?it/s]"
      ]
     },
     "metadata": {},
     "output_type": "display_data"
    },
    {
     "data": {
      "application/vnd.jupyter.widget-view+json": {
       "model_id": "",
       "version_major": 2,
       "version_minor": 0
      },
      "text/plain": [
       "validset:   0%|          | 0/8 [00:00<?, ?it/s]"
      ]
     },
     "metadata": {},
     "output_type": "display_data"
    },
    {
     "name": "stdout",
     "output_type": "stream",
     "text": [
      "epoch: 16\n",
      "train loss: 0.9218171238899231\n",
      "valid loss: 1.1602487117052078\n",
      "valid accuracy: 0.418\n",
      "——————————————————————————————————————————————\n"
     ]
    },
    {
     "data": {
      "application/vnd.jupyter.widget-view+json": {
       "model_id": "",
       "version_major": 2,
       "version_minor": 0
      },
      "text/plain": [
       "trainset:   0%|          | 0/6 [00:00<?, ?it/s]"
      ]
     },
     "metadata": {},
     "output_type": "display_data"
    },
    {
     "data": {
      "application/vnd.jupyter.widget-view+json": {
       "model_id": "",
       "version_major": 2,
       "version_minor": 0
      },
      "text/plain": [
       "validset:   0%|          | 0/8 [00:00<?, ?it/s]"
      ]
     },
     "metadata": {},
     "output_type": "display_data"
    },
    {
     "name": "stdout",
     "output_type": "stream",
     "text": [
      "epoch: 17\n",
      "train loss: 0.8715696334838867\n",
      "valid loss: 1.0949347764253616\n",
      "valid accuracy: 0.474\n",
      "——————————————————————————————————————————————\n"
     ]
    },
    {
     "data": {
      "application/vnd.jupyter.widget-view+json": {
       "model_id": "",
       "version_major": 2,
       "version_minor": 0
      },
      "text/plain": [
       "trainset:   0%|          | 0/6 [00:00<?, ?it/s]"
      ]
     },
     "metadata": {},
     "output_type": "display_data"
    },
    {
     "data": {
      "application/vnd.jupyter.widget-view+json": {
       "model_id": "",
       "version_major": 2,
       "version_minor": 0
      },
      "text/plain": [
       "validset:   0%|          | 0/8 [00:00<?, ?it/s]"
      ]
     },
     "metadata": {},
     "output_type": "display_data"
    },
    {
     "name": "stdout",
     "output_type": "stream",
     "text": [
      "epoch: 18\n",
      "train loss: 0.824204295873642\n",
      "valid loss: 1.1365093737840652\n",
      "valid accuracy: 0.461\n",
      "——————————————————————————————————————————————\n"
     ]
    },
    {
     "data": {
      "application/vnd.jupyter.widget-view+json": {
       "model_id": "",
       "version_major": 2,
       "version_minor": 0
      },
      "text/plain": [
       "trainset:   0%|          | 0/6 [00:00<?, ?it/s]"
      ]
     },
     "metadata": {},
     "output_type": "display_data"
    },
    {
     "data": {
      "application/vnd.jupyter.widget-view+json": {
       "model_id": "",
       "version_major": 2,
       "version_minor": 0
      },
      "text/plain": [
       "validset:   0%|          | 0/8 [00:00<?, ?it/s]"
      ]
     },
     "metadata": {},
     "output_type": "display_data"
    },
    {
     "name": "stdout",
     "output_type": "stream",
     "text": [
      "epoch: 19\n",
      "train loss: 0.8609266579151154\n",
      "valid loss: 1.1293583363294601\n",
      "valid accuracy: 0.407\n",
      "——————————————————————————————————————————————\n"
     ]
    },
    {
     "data": {
      "application/vnd.jupyter.widget-view+json": {
       "model_id": "",
       "version_major": 2,
       "version_minor": 0
      },
      "text/plain": [
       "trainset:   0%|          | 0/6 [00:00<?, ?it/s]"
      ]
     },
     "metadata": {},
     "output_type": "display_data"
    },
    {
     "data": {
      "application/vnd.jupyter.widget-view+json": {
       "model_id": "",
       "version_major": 2,
       "version_minor": 0
      },
      "text/plain": [
       "validset:   0%|          | 0/8 [00:00<?, ?it/s]"
      ]
     },
     "metadata": {},
     "output_type": "display_data"
    },
    {
     "name": "stdout",
     "output_type": "stream",
     "text": [
      "epoch: 20\n",
      "train loss: 0.8344722787539164\n",
      "valid loss: 1.1120344996452332\n",
      "valid accuracy: 0.462\n",
      "——————————————————————————————————————————————\n"
     ]
    },
    {
     "data": {
      "application/vnd.jupyter.widget-view+json": {
       "model_id": "",
       "version_major": 2,
       "version_minor": 0
      },
      "text/plain": [
       "trainset:   0%|          | 0/6 [00:00<?, ?it/s]"
      ]
     },
     "metadata": {},
     "output_type": "display_data"
    },
    {
     "data": {
      "application/vnd.jupyter.widget-view+json": {
       "model_id": "",
       "version_major": 2,
       "version_minor": 0
      },
      "text/plain": [
       "validset:   0%|          | 0/8 [00:00<?, ?it/s]"
      ]
     },
     "metadata": {},
     "output_type": "display_data"
    },
    {
     "name": "stdout",
     "output_type": "stream",
     "text": [
      "epoch: 21\n",
      "train loss: 0.828787495692571\n",
      "valid loss: 1.1458509415388107\n",
      "valid accuracy: 0.456\n",
      "——————————————————————————————————————————————\n"
     ]
    },
    {
     "data": {
      "application/vnd.jupyter.widget-view+json": {
       "model_id": "",
       "version_major": 2,
       "version_minor": 0
      },
      "text/plain": [
       "trainset:   0%|          | 0/6 [00:00<?, ?it/s]"
      ]
     },
     "metadata": {},
     "output_type": "display_data"
    },
    {
     "data": {
      "application/vnd.jupyter.widget-view+json": {
       "model_id": "",
       "version_major": 2,
       "version_minor": 0
      },
      "text/plain": [
       "validset:   0%|          | 0/8 [00:00<?, ?it/s]"
      ]
     },
     "metadata": {},
     "output_type": "display_data"
    },
    {
     "name": "stdout",
     "output_type": "stream",
     "text": [
      "epoch: 22\n",
      "train loss: 0.7861462732156118\n",
      "valid loss: 1.096924364566803\n",
      "valid accuracy: 0.472\n",
      "——————————————————————————————————————————————\n"
     ]
    },
    {
     "data": {
      "application/vnd.jupyter.widget-view+json": {
       "model_id": "",
       "version_major": 2,
       "version_minor": 0
      },
      "text/plain": [
       "trainset:   0%|          | 0/6 [00:00<?, ?it/s]"
      ]
     },
     "metadata": {},
     "output_type": "display_data"
    },
    {
     "data": {
      "application/vnd.jupyter.widget-view+json": {
       "model_id": "",
       "version_major": 2,
       "version_minor": 0
      },
      "text/plain": [
       "validset:   0%|          | 0/8 [00:00<?, ?it/s]"
      ]
     },
     "metadata": {},
     "output_type": "display_data"
    },
    {
     "name": "stdout",
     "output_type": "stream",
     "text": [
      "epoch: 23\n",
      "train loss: 0.7427169978618622\n",
      "valid loss: 1.1893406957387924\n",
      "valid accuracy: 0.441\n",
      "——————————————————————————————————————————————\n"
     ]
    },
    {
     "data": {
      "application/vnd.jupyter.widget-view+json": {
       "model_id": "",
       "version_major": 2,
       "version_minor": 0
      },
      "text/plain": [
       "trainset:   0%|          | 0/6 [00:00<?, ?it/s]"
      ]
     },
     "metadata": {},
     "output_type": "display_data"
    },
    {
     "data": {
      "application/vnd.jupyter.widget-view+json": {
       "model_id": "",
       "version_major": 2,
       "version_minor": 0
      },
      "text/plain": [
       "validset:   0%|          | 0/8 [00:00<?, ?it/s]"
      ]
     },
     "metadata": {},
     "output_type": "display_data"
    },
    {
     "name": "stdout",
     "output_type": "stream",
     "text": [
      "epoch: 24\n",
      "train loss: 0.7953409651915232\n",
      "valid loss: 1.1573797762393951\n",
      "valid accuracy: 0.424\n",
      "——————————————————————————————————————————————\n"
     ]
    },
    {
     "data": {
      "application/vnd.jupyter.widget-view+json": {
       "model_id": "",
       "version_major": 2,
       "version_minor": 0
      },
      "text/plain": [
       "trainset:   0%|          | 0/6 [00:00<?, ?it/s]"
      ]
     },
     "metadata": {},
     "output_type": "display_data"
    },
    {
     "data": {
      "application/vnd.jupyter.widget-view+json": {
       "model_id": "",
       "version_major": 2,
       "version_minor": 0
      },
      "text/plain": [
       "validset:   0%|          | 0/8 [00:00<?, ?it/s]"
      ]
     },
     "metadata": {},
     "output_type": "display_data"
    },
    {
     "name": "stdout",
     "output_type": "stream",
     "text": [
      "epoch: 25\n",
      "train loss: 0.7552293241024017\n",
      "valid loss: 1.1884327232837677\n",
      "valid accuracy: 0.435\n",
      "——————————————————————————————————————————————\n"
     ]
    },
    {
     "data": {
      "application/vnd.jupyter.widget-view+json": {
       "model_id": "",
       "version_major": 2,
       "version_minor": 0
      },
      "text/plain": [
       "trainset:   0%|          | 0/6 [00:00<?, ?it/s]"
      ]
     },
     "metadata": {},
     "output_type": "display_data"
    },
    {
     "data": {
      "application/vnd.jupyter.widget-view+json": {
       "model_id": "",
       "version_major": 2,
       "version_minor": 0
      },
      "text/plain": [
       "validset:   0%|          | 0/8 [00:00<?, ?it/s]"
      ]
     },
     "metadata": {},
     "output_type": "display_data"
    },
    {
     "name": "stdout",
     "output_type": "stream",
     "text": [
      "early stop\n"
     ]
    }
   ],
   "source": [
    "train_lost_epoch=[]\n",
    "valid_lost_epoch=[]\n",
    "valid_accuracy_list=[]\n",
    "for epoch in tqdm(range(epochs),desc='epoch'):\n",
    "    model_base.train()\n",
    "    loss_list=[]\n",
    "    i=0\n",
    "    for batch in tqdm(train_dataloader,desc='trainset',leave=False):\n",
    "        model_base.zero_grad() \n",
    "        optimizer.zero_grad()\n",
    "        input_ids = batch['input_ids'].to(device)\n",
    "        token_type_ids = batch['token_type_ids'].to(device)\n",
    "        attention_mask = batch['attention_mask'].to(device)\n",
    "        target=torch.tensor(y_train[i:i+bat_size]).to(device)\n",
    "        i+=bat_size\n",
    "        outputs = model_base(input_ids, \n",
    "                            token_type_ids, \n",
    "                            attention_mask, \n",
    "                            labels=target)\n",
    "\n",
    "        loss = outputs.loss\n",
    "        logits = outputs.logits\n",
    "        loss.backward()\n",
    "        optimizer.step()\n",
    "        loss_list.append(loss.item())\n",
    "    train_lost_epoch.append(np.mean(loss_list))\n",
    "    model_base.eval()\n",
    "    loss_list=[]\n",
    "    i=0\n",
    "    num_correct=0\n",
    "    for batch in tqdm(valid_dataloader,desc='validset',leave=False):\n",
    "        with torch.no_grad():  \n",
    "            input_ids = batch['input_ids'].to(device)\n",
    "            token_type_ids = batch['token_type_ids'].to(device)\n",
    "            attention_mask = batch['attention_mask'].to(device)\n",
    "\n",
    "            target=torch.tensor(y_valid[i:i+bat_size]).to(device)\n",
    "            i+=bat_size\n",
    "            outputs = model_base(input_ids, \n",
    "                                token_type_ids, \n",
    "                                attention_mask, \n",
    "                                labels=target)\n",
    "            loss = outputs.loss\n",
    "            logits = outputs.logits\n",
    "            loss_list.append(loss.item())\n",
    "            pred_flat = np.argmax(logits.detach().cpu().numpy(), axis=1).flatten()\n",
    "            labels_flat = target.to('cpu').numpy().flatten()\n",
    "            num_correct += np.sum(pred_flat == labels_flat)\n",
    "    valid_accuracy=num_correct/len(y_valid)\n",
    "    if  epoch==0:\n",
    "        torch.save(model_base.state_dict(), \"my_model_base\")\n",
    "    else:\n",
    "        if  valid_accuracy>max(valid_accuracy_list):\n",
    "            torch.save(model_base.state_dict(), \"my_model_base\")\n",
    "    if epoch>=10:\n",
    "        if valid_accuracy<min(valid_accuracy_list[-10:-1]):\n",
    "            print(\"early stop\")\n",
    "            break\n",
    "    valid_accuracy_list.append(valid_accuracy)\n",
    "    valid_lost_epoch.append(np.mean(loss_list))\n",
    "    print(\"epoch: \"+str(epoch))\n",
    "    print(\"train loss: \"+str(train_lost_epoch[-1]))\n",
    "    print(\"valid loss: \"+str(valid_lost_epoch[-1]))\n",
    "    print(\"valid accuracy: \"+str(valid_accuracy))\n",
    "    print(\"——————————————————————————————————————————————\")\n"
   ]
  },
  {
   "cell_type": "code",
   "execution_count": 18,
   "id": "387c30c7",
   "metadata": {},
   "outputs": [
    {
     "name": "stdout",
     "output_type": "stream",
     "text": [
      "0.474\n"
     ]
    }
   ],
   "source": [
    "print(max(valid_accuracy_list))"
   ]
  }
 ],
 "metadata": {
  "kernelspec": {
   "display_name": "Python 3 (ipykernel)",
   "language": "python",
   "name": "python3"
  },
  "language_info": {
   "codemirror_mode": {
    "name": "ipython",
    "version": 3
   },
   "file_extension": ".py",
   "mimetype": "text/x-python",
   "name": "python",
   "nbconvert_exporter": "python",
   "pygments_lexer": "ipython3",
   "version": "3.9.12"
  }
 },
 "nbformat": 4,
 "nbformat_minor": 5
}
